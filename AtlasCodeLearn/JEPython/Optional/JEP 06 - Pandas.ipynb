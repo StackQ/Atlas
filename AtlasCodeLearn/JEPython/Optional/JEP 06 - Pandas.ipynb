{
 "cells": [
  {
   "cell_type": "markdown",
   "metadata": {
    "application/vnd.databricks.v1+cell": {
     "cellMetadata": {},
     "inputWidgets": {},
     "nuid": "a6038cab-83e9-48d2-8cca-fb72773c38d0",
     "showTitle": false,
     "title": ""
    }
   },
   "source": [
    "\n",
    "<div style=\"text-align: center; line-height: 0; padding-top: 9px;\">\n",
    "  <img src=\"https://databricks.com/wp-content/uploads/2018/03/db-academy-rgb-1200px.png\" alt=\"Databricks Learning\" style=\"width: 600px\">\n",
    "</div>"
   ]
  },
  {
   "cell_type": "markdown",
   "metadata": {
    "application/vnd.databricks.v1+cell": {
     "cellMetadata": {},
     "inputWidgets": {},
     "nuid": "a366a495-b563-4b6f-84f1-c21dc66471a0",
     "showTitle": false,
     "title": ""
    }
   },
   "source": [
    "# Pandas\n",
    "\n",
    "[Pandas](https://pandas.pydata.org/pandas-docs/stable/reference/index.html) is a popular Python library among data scientists with high performing, easy-to-use data structures and data analysis tools.\n",
    "\n",
    "## ![Spark Logo Tiny](https://files.training.databricks.com/images/105/logo_spark_tiny.png) In this lesson you:<br><br>\n",
    "* Explain what pandas is and why it's so popular\n",
    "* Create and manipulate pandas DataFrames and Series\n",
    "* Perform operations on pandas objects\n",
    "\n",
    "First, let us import pandas with the alias `pd` so we can refer to the library without having to type Pandas out each time. Pandas is pre-installed on Databricks."
   ]
  },
  {
   "cell_type": "code",
   "execution_count": 0,
   "metadata": {
    "application/vnd.databricks.v1+cell": {
     "cellMetadata": {},
     "inputWidgets": {},
     "nuid": "700d6efa-71f5-4039-84bd-0e45cbf353c2",
     "showTitle": false,
     "title": ""
    }
   },
   "outputs": [],
   "source": [
    "import pandas as pd\n",
    "\n",
    "pd.__version__"
   ]
  },
  {
   "cell_type": "markdown",
   "metadata": {
    "application/vnd.databricks.v1+cell": {
     "cellMetadata": {},
     "inputWidgets": {},
     "nuid": "1dc48d64-312f-4302-a6eb-a8c1668df401",
     "showTitle": false,
     "title": ""
    }
   },
   "source": [
    "### Motivate why to use `pandas`\n",
    "\n",
    "Let's start big picture...<br><br>\n",
    "\n",
    "* Humans are tool using animals \n",
    "* Computers are one of the most powerful tools we've created\n",
    "* If you write code, you can unlock the full power of these tools"
   ]
  },
  {
   "cell_type": "markdown",
   "metadata": {
    "application/vnd.databricks.v1+cell": {
     "cellMetadata": {},
     "inputWidgets": {},
     "nuid": "756b2f43-da39-47e7-9bd1-37e4b449a28f",
     "showTitle": false,
     "title": ""
    }
   },
   "source": [
    "Ok, cool. But why `pandas`?<br><br>\n",
    "\n",
    "* More and more, data is leading decision making\n",
    "* Excel is great but what if...\n",
    "  - You want to automate your analysis so it re-runs on new data each day?\n",
    "  - You want to build a code base to share with your colleagues\n",
    "  - You want more robust analyses to feed a business decision\n",
    "  - You want to do machine learning\n",
    "* One of the core libraries used by data analysts and data scientists in Python\n",
    "\n",
    "Enter `pandas`..."
   ]
  },
  {
   "cell_type": "markdown",
   "metadata": {
    "application/vnd.databricks.v1+cell": {
     "cellMetadata": {},
     "inputWidgets": {},
     "nuid": "5ef888b4-a241-46c2-b1c8-821ca27036c1",
     "showTitle": false,
     "title": ""
    }
   },
   "source": [
    "### Introduce `pandas` and its history\n",
    "\n",
    "`pandas` is a fast, powerful, flexible and easy to use open source data analysis and manipulation tool, built on top of the Python programming language.\n",
    "\n",
    "Highlights:\n",
    "\n",
    "- Built in 2008, open sourced in 2009\n",
    "- A fast and efficient **DataFrame object** for data manipulation with integrated indexing;\n",
    "- Tools for **reading and writing data** between in-memory data structures and different formats: CSV and text files, Microsoft Excel, SQL databases, and the fast HDF5 format;\n",
    "- Intelligent **data alignment** and integrated handling of **missing data**: gain automatic label-based alignment in computations and easily manipulate messy data into an orderly form;\n",
    "- Flexible **reshaping and pivoting** of data sets;\n",
    "- Intelligent label-based **slicing, fancy indexing, and subsetting** of large data sets;\n",
    "- Columns can be inserted and deleted from data structures for **size mutability**;\n",
    "- Aggregating or transforming data with a powerful **group by** engine allowing split-apply-combine operations on data sets;\n",
    "- High performance **merging and joining** of data sets;\n",
    "- Hierarchical axis **indexing** provides an intuitive way of working with high-dimensional data in a lower-dimensional data structure;\n",
    "- **Time series**-functionality: date range generation and frequency conversion, moving window statistics, date shifting and lagging. Even create domain-specific time offsets and join time series without losing data;\n",
    "- Highly **optimized** for performance, with critical code paths written in Cython or C.\n",
    "- Python with pandas is in use in a wide variety of **academic and commercial domains**, including Finance, Neuroscience, Economics, Statistics, Advertising, Web Analytics, and more.\n",
    "\n",
    "\n",
    "[Check out the book](https://www.amazon.com/gp/product/1491957662/ref=as_li_qf_asin_il_tl?ie=UTF8&tag=quantpytho-20&creative=9325&linkCode=as2&creativeASIN=1491957662&linkId=ea8de4253cce96046e8ab0383ac71b33)"
   ]
  },
  {
   "cell_type": "markdown",
   "metadata": {
    "application/vnd.databricks.v1+cell": {
     "cellMetadata": {},
     "inputWidgets": {},
     "nuid": "e01e7332-ae40-49ac-a4e1-846d393ca089",
     "showTitle": false,
     "title": ""
    }
   },
   "source": [
    "## Pandas DataFrames\n",
    "\n",
    "Let's see how we can create a simple [DataFrame](https://pandas.pydata.org/pandas-docs/stable/reference/api/pandas.DataFrame.html) in Pandas. We are going to create a list with 5 strings that we wish to store inside the DataFrame."
   ]
  },
  {
   "cell_type": "code",
   "execution_count": 0,
   "metadata": {
    "application/vnd.databricks.v1+cell": {
     "cellMetadata": {},
     "inputWidgets": {},
     "nuid": "88054664-8853-4800-9ffc-4e82a4c51a34",
     "showTitle": false,
     "title": ""
    }
   },
   "outputs": [],
   "source": [
    "data = [\"row one\", \"row two\", \"row three\", \"row four\", \"row five\"]\n",
    "\n",
    "pd.DataFrame(data=data)"
   ]
  },
  {
   "cell_type": "markdown",
   "metadata": {
    "application/vnd.databricks.v1+cell": {
     "cellMetadata": {},
     "inputWidgets": {},
     "nuid": "ad7199f2-8b06-46cb-a9fc-637ba8ca1021",
     "showTitle": false,
     "title": ""
    }
   },
   "source": [
    "\n",
    "The `0` in the very first row is the name of the column with defaults to integers if not specified. What if we want to add in another column and name the columns?"
   ]
  },
  {
   "cell_type": "code",
   "execution_count": 0,
   "metadata": {
    "application/vnd.databricks.v1+cell": {
     "cellMetadata": {},
     "inputWidgets": {},
     "nuid": "55836ff3-5a73-4208-9340-f391e5887776",
     "showTitle": false,
     "title": ""
    }
   },
   "outputs": [],
   "source": [
    "data = [[\"row one\", 1], [\"row two\", 2], [\"row three\", 3], [\"row four\", 4], [\"row five\", 5]]\n",
    "column_names = [\"Strings\", \"Integers\"]\n",
    "\n",
    "df = pd.DataFrame(data=data, columns=column_names)\n",
    "df"
   ]
  },
  {
   "cell_type": "markdown",
   "metadata": {
    "application/vnd.databricks.v1+cell": {
     "cellMetadata": {},
     "inputWidgets": {},
     "nuid": "376b33f7-8181-4d09-8a1e-b9ca53ecb497",
     "showTitle": false,
     "title": ""
    }
   },
   "source": [
    "Now we have multiple columns in our DataFrame! We can check the types of columns in our df."
   ]
  },
  {
   "cell_type": "code",
   "execution_count": 0,
   "metadata": {
    "application/vnd.databricks.v1+cell": {
     "cellMetadata": {},
     "inputWidgets": {},
     "nuid": "16e672ae-c16a-4db6-875b-fb5588561a8e",
     "showTitle": false,
     "title": ""
    }
   },
   "outputs": [],
   "source": [
    "df.dtypes"
   ]
  },
  {
   "cell_type": "markdown",
   "metadata": {
    "application/vnd.databricks.v1+cell": {
     "cellMetadata": {},
     "inputWidgets": {},
     "nuid": "5306881c-c8f4-4e31-b628-b4f0b0ae412d",
     "showTitle": false,
     "title": ""
    }
   },
   "source": [
    "What if our DataFrame has many rows and we don't want to print out our entire DataFrame? We can use the `.head()` and `.tail()` functions to limit the number of rows we see."
   ]
  },
  {
   "cell_type": "code",
   "execution_count": 0,
   "metadata": {
    "application/vnd.databricks.v1+cell": {
     "cellMetadata": {},
     "inputWidgets": {},
     "nuid": "aaf8798b-6108-4407-bbab-26a9905ececd",
     "showTitle": false,
     "title": ""
    }
   },
   "outputs": [],
   "source": [
    "# look at the first 2 rows of df \n",
    "df.head(2)"
   ]
  },
  {
   "cell_type": "code",
   "execution_count": 0,
   "metadata": {
    "application/vnd.databricks.v1+cell": {
     "cellMetadata": {},
     "inputWidgets": {},
     "nuid": "00abbfb0-84bb-4d9e-8063-14cec13f7d96",
     "showTitle": false,
     "title": ""
    }
   },
   "outputs": [],
   "source": [
    "# look at the last 2 rows of df \n",
    "df.tail(2)"
   ]
  },
  {
   "cell_type": "markdown",
   "metadata": {
    "application/vnd.databricks.v1+cell": {
     "cellMetadata": {},
     "inputWidgets": {},
     "nuid": "a4a8005c-f9e6-4ea2-bc21-87e79b494331",
     "showTitle": false,
     "title": ""
    }
   },
   "source": [
    "If we had many columns and we didn't want to see all of them? We can select specific columns to include by using brackets and \"indexing\" our DataFrame. This would return us another DataFrame which we can display."
   ]
  },
  {
   "cell_type": "code",
   "execution_count": 0,
   "metadata": {
    "application/vnd.databricks.v1+cell": {
     "cellMetadata": {},
     "inputWidgets": {},
     "nuid": "656caaca-ade2-4aae-8643-615e47117cda",
     "showTitle": false,
     "title": ""
    }
   },
   "outputs": [],
   "source": [
    "cols_to_show = [\"Integers\"]\n",
    "df[cols_to_show]"
   ]
  },
  {
   "cell_type": "markdown",
   "metadata": {
    "application/vnd.databricks.v1+cell": {
     "cellMetadata": {},
     "inputWidgets": {},
     "nuid": "e2d925d4-7618-4f66-9ded-cebcf19af7c2",
     "showTitle": false,
     "title": ""
    }
   },
   "source": [
    "## Pandas Series"
   ]
  },
  {
   "cell_type": "markdown",
   "metadata": {
    "application/vnd.databricks.v1+cell": {
     "cellMetadata": {},
     "inputWidgets": {},
     "nuid": "c973db63-a439-4a9b-939e-f08e1857a47f",
     "showTitle": false,
     "title": ""
    }
   },
   "source": [
    "If we only wanted to select out one column we can do the following."
   ]
  },
  {
   "cell_type": "code",
   "execution_count": 0,
   "metadata": {
    "application/vnd.databricks.v1+cell": {
     "cellMetadata": {},
     "inputWidgets": {},
     "nuid": "bbca5049-748d-4925-b45b-479e160c8dc8",
     "showTitle": false,
     "title": ""
    }
   },
   "outputs": [],
   "source": [
    "df.Integers"
   ]
  },
  {
   "cell_type": "code",
   "execution_count": 0,
   "metadata": {
    "application/vnd.databricks.v1+cell": {
     "cellMetadata": {},
     "inputWidgets": {},
     "nuid": "0627a537-209d-4582-92c8-d2008d0b09c4",
     "showTitle": false,
     "title": ""
    }
   },
   "outputs": [],
   "source": [
    "df[\"Integers\"]"
   ]
  },
  {
   "cell_type": "markdown",
   "metadata": {
    "application/vnd.databricks.v1+cell": {
     "cellMetadata": {},
     "inputWidgets": {},
     "nuid": "b211616f-0a65-4f03-b382-46750dbdb92d",
     "showTitle": false,
     "title": ""
    }
   },
   "source": [
    "The 2 cells above returned Pandas [Series](https://pandas.pydata.org/pandas-docs/stable/reference/api/pandas.Series.html) objects instead of Pandas DataFrame objects. A Pandas Series is a single column of a Pandas DataFrame."
   ]
  },
  {
   "cell_type": "code",
   "execution_count": 0,
   "metadata": {
    "application/vnd.databricks.v1+cell": {
     "cellMetadata": {},
     "inputWidgets": {},
     "nuid": "98543e76-54c9-48ea-9a67-b14569af2ef3",
     "showTitle": false,
     "title": ""
    }
   },
   "outputs": [],
   "source": [
    "type(df), type(df[\"Integers\"])"
   ]
  },
  {
   "cell_type": "markdown",
   "metadata": {
    "application/vnd.databricks.v1+cell": {
     "cellMetadata": {},
     "inputWidgets": {},
     "nuid": "6ed849ef-92ee-4946-937d-26adc196b3ca",
     "showTitle": false,
     "title": ""
    }
   },
   "source": [
    "We can index into a Series to get an entry in a specific row. The index count starts at 0 by default."
   ]
  },
  {
   "cell_type": "code",
   "execution_count": 0,
   "metadata": {
    "application/vnd.databricks.v1+cell": {
     "cellMetadata": {},
     "inputWidgets": {},
     "nuid": "47b18c0d-cb1f-4004-93a3-d21c30e800f9",
     "showTitle": false,
     "title": ""
    }
   },
   "outputs": [],
   "source": [
    "df[\"Strings\"][0]"
   ]
  },
  {
   "cell_type": "markdown",
   "metadata": {
    "application/vnd.databricks.v1+cell": {
     "cellMetadata": {},
     "inputWidgets": {},
     "nuid": "83014a0d-6fa0-4303-9ff2-2db18e780aa0",
     "showTitle": false,
     "title": ""
    }
   },
   "source": [
    "## Operations\n",
    "\n",
    "The benefit of having Pandas Series is the ability to easily perform mathematical operations on it."
   ]
  },
  {
   "cell_type": "code",
   "execution_count": 0,
   "metadata": {
    "application/vnd.databricks.v1+cell": {
     "cellMetadata": {},
     "inputWidgets": {},
     "nuid": "a5b371b5-010b-42a0-a25c-47cba46f2b70",
     "showTitle": false,
     "title": ""
    }
   },
   "outputs": [],
   "source": [
    "df[\"Integers\"] + df[\"Integers\"]"
   ]
  },
  {
   "cell_type": "code",
   "execution_count": 0,
   "metadata": {
    "application/vnd.databricks.v1+cell": {
     "cellMetadata": {},
     "inputWidgets": {},
     "nuid": "24a01192-f2f5-4f20-a679-657b2ce1afe2",
     "showTitle": false,
     "title": ""
    }
   },
   "outputs": [],
   "source": [
    "df[\"Integers\"] * df[\"Integers\"]"
   ]
  },
  {
   "cell_type": "markdown",
   "metadata": {
    "application/vnd.databricks.v1+cell": {
     "cellMetadata": {},
     "inputWidgets": {},
     "nuid": "7f9a005e-4ad8-42fb-9d82-5147344d31ce",
     "showTitle": false,
     "title": ""
    }
   },
   "source": [
    "We can create a new column in our DataFrame `df`."
   ]
  },
  {
   "cell_type": "code",
   "execution_count": 0,
   "metadata": {
    "application/vnd.databricks.v1+cell": {
     "cellMetadata": {},
     "inputWidgets": {},
     "nuid": "f1ad26e3-fc3c-406d-8999-206af20ebd6d",
     "showTitle": false,
     "title": ""
    }
   },
   "outputs": [],
   "source": [
    "df[\"New Column\"] = df[\"Integers\"] * 100\n",
    "df"
   ]
  },
  {
   "cell_type": "markdown",
   "metadata": {
    "application/vnd.databricks.v1+cell": {
     "cellMetadata": {},
     "inputWidgets": {},
     "nuid": "a742bb83-1678-4e55-b4a0-15ce2e1d1220",
     "showTitle": false,
     "title": ""
    }
   },
   "source": [
    "&copy; 2020 Databricks, Inc. All rights reserved.<br/>\n",
    "Apache, Apache Spark, Spark and the Spark logo are trademarks of the <a href=\"http://www.apache.org/\">Apache Software Foundation</a>.<br/>\n",
    "<br/>\n",
    "<a href=\"https://databricks.com/privacy-policy\">Privacy Policy</a> | <a href=\"https://databricks.com/terms-of-use\">Terms of Use</a> | <a href=\"http://help.databricks.com/\">Support</a>"
   ]
  }
 ],
 "metadata": {
  "application/vnd.databricks.v1+notebook": {
   "dashboards": [],
   "language": "python",
   "notebookMetadata": {
    "pythonIndentUnit": 2
   },
   "notebookName": "JEP 06 - Pandas",
   "widgets": {}
  }
 },
 "nbformat": 4,
 "nbformat_minor": 0
}
