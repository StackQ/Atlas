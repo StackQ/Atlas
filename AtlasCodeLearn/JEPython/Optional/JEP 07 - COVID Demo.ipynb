{
 "cells": [
  {
   "cell_type": "markdown",
   "metadata": {
    "application/vnd.databricks.v1+cell": {
     "cellMetadata": {},
     "inputWidgets": {},
     "nuid": "2dfbd2a6-ef38-4e18-a361-2c88bb8809e2",
     "showTitle": false,
     "title": ""
    }
   },
   "source": [
    "\n",
    "<div style=\"text-align: center; line-height: 0; padding-top: 9px;\">\n",
    "  <img src=\"https://databricks.com/wp-content/uploads/2018/03/db-academy-rgb-1200px.png\" alt=\"Databricks Learning\" style=\"width: 600px\">\n",
    "</div>"
   ]
  },
  {
   "cell_type": "markdown",
   "metadata": {
    "application/vnd.databricks.v1+cell": {
     "cellMetadata": {},
     "inputWidgets": {},
     "nuid": "52f9778f-94d6-492c-99d4-18dfd5507767",
     "showTitle": false,
     "title": ""
    }
   },
   "source": [
    "# COVID Demo\n",
    "## Data Analysis with `pandas`\n",
    "\n",
    "## ![Spark Logo Tiny](https://files.training.databricks.com/images/105/logo_spark_tiny.png) In this lesson you:<br>\n",
    " - Import the COVID-19 dataset\n",
    "   * `pd.read_csv()`\n",
    " - Summarize the data\n",
    "   * `head`, `tail`, `shape`\n",
    "   * `sum`, `min`, `count`, `mean`, `std`\n",
    "   * `describe`\n",
    " - Slice and munge data\n",
    "   * Slicing, `loc`, `iloc`\n",
    "   * `value_counts`\n",
    "   * `drop`\n",
    "   * `sort_values`\n",
    "   * Filtering\n",
    " - Group data and perform aggregate functions\n",
    "   * `groupby`\n",
    " - Work with missing data and duplicates\n",
    "   * `isnull`\n",
    "   * `unique`, `drop_duplicates`\n",
    "   * `fillna`\n",
    " - Visualization\n",
    "   * Histograms\n",
    "   * Scatterplots\n",
    "   * Lineplots\n",
    " \n",
    " Check out [this cheetsheet](https://pandas.pydata.org/Pandas_Cheat_Sheet.pdf) for help.  Also see [the `pandas` docs.](https://pandas.pydata.org/docs/)"
   ]
  },
  {
   "cell_type": "markdown",
   "metadata": {
    "application/vnd.databricks.v1+cell": {
     "cellMetadata": {},
     "inputWidgets": {},
     "nuid": "82c22e4d-420a-4e1b-8681-e31ce7b47129",
     "showTitle": false,
     "title": ""
    }
   },
   "source": [
    "### Import the COVID-19 dataset"
   ]
  },
  {
   "cell_type": "markdown",
   "metadata": {
    "application/vnd.databricks.v1+cell": {
     "cellMetadata": {},
     "inputWidgets": {},
     "nuid": "60fccf39-f372-478d-afee-1323c46cc997",
     "showTitle": false,
     "title": ""
    }
   },
   "source": [
    "Use `%sh ls` to search the folder structure"
   ]
  },
  {
   "cell_type": "code",
   "execution_count": 0,
   "metadata": {
    "application/vnd.databricks.v1+cell": {
     "cellMetadata": {},
     "inputWidgets": {},
     "nuid": "d3b5c9dd-10db-4d14-bc15-6417dc5a83b3",
     "showTitle": false,
     "title": ""
    }
   },
   "outputs": [],
   "source": [
    "%sh ls /dbfs/databricks-datasets/COVID/"
   ]
  },
  {
   "cell_type": "code",
   "execution_count": 0,
   "metadata": {
    "application/vnd.databricks.v1+cell": {
     "cellMetadata": {},
     "inputWidgets": {},
     "nuid": "73ad175d-21a9-4a3c-9642-cbc057307a3c",
     "showTitle": false,
     "title": ""
    }
   },
   "outputs": [],
   "source": [
    "%sh ls /dbfs/databricks-datasets/COVID/CSSEGISandData/csse_covid_19_data/csse_covid_19_daily_reports"
   ]
  },
  {
   "cell_type": "markdown",
   "metadata": {
    "application/vnd.databricks.v1+cell": {
     "cellMetadata": {},
     "inputWidgets": {},
     "nuid": "d3a60f1d-12d2-4efe-b6f0-fe0084d97d55",
     "showTitle": false,
     "title": ""
    }
   },
   "source": [
    "Use `%sh head` to see the first few lines of CSV file"
   ]
  },
  {
   "cell_type": "code",
   "execution_count": 0,
   "metadata": {
    "application/vnd.databricks.v1+cell": {
     "cellMetadata": {},
     "inputWidgets": {},
     "nuid": "28843fe3-e002-4270-b541-e93d1b6add40",
     "showTitle": false,
     "title": ""
    }
   },
   "outputs": [],
   "source": [
    "%sh head /dbfs/databricks-datasets/COVID/CSSEGISandData/csse_covid_19_data/csse_covid_19_daily_reports/04-11-2020.csv"
   ]
  },
  {
   "cell_type": "markdown",
   "metadata": {
    "application/vnd.databricks.v1+cell": {
     "cellMetadata": {},
     "inputWidgets": {},
     "nuid": "e684fb6c-8599-4c7e-8023-2ebd1b4c42c2",
     "showTitle": false,
     "title": ""
    }
   },
   "source": [
    "Import `pandas`.  Alias it as `pd`"
   ]
  },
  {
   "cell_type": "code",
   "execution_count": 0,
   "metadata": {
    "application/vnd.databricks.v1+cell": {
     "cellMetadata": {},
     "inputWidgets": {},
     "nuid": "e7d714f9-7212-487a-8a56-a24005e9985e",
     "showTitle": false,
     "title": ""
    }
   },
   "outputs": [],
   "source": [
    "import pandas as pd"
   ]
  },
  {
   "cell_type": "markdown",
   "metadata": {
    "application/vnd.databricks.v1+cell": {
     "cellMetadata": {},
     "inputWidgets": {},
     "nuid": "922d5190-4819-41c6-a6b0-4e3d172e5bdc",
     "showTitle": false,
     "title": ""
    }
   },
   "source": [
    "Read the csv file.  This creates a `DataFrame`"
   ]
  },
  {
   "cell_type": "code",
   "execution_count": 0,
   "metadata": {
    "application/vnd.databricks.v1+cell": {
     "cellMetadata": {},
     "inputWidgets": {},
     "nuid": "211d5dd1-1929-43b7-b6c0-c6673f20dc69",
     "showTitle": false,
     "title": ""
    }
   },
   "outputs": [],
   "source": [
    "pd.read_csv(\"/dbfs/databricks-datasets/COVID/CSSEGISandData/csse_covid_19_data/csse_covid_19_daily_reports/04-11-2020.csv\")"
   ]
  },
  {
   "cell_type": "markdown",
   "metadata": {
    "application/vnd.databricks.v1+cell": {
     "cellMetadata": {},
     "inputWidgets": {},
     "nuid": "b498ef50-c8cc-40b7-b934-d7a74c9add03",
     "showTitle": false,
     "title": ""
    }
   },
   "source": [
    "Now let's combine the lines of code and save the `DataFrame` to a variable so we can reuse it"
   ]
  },
  {
   "cell_type": "code",
   "execution_count": 0,
   "metadata": {
    "application/vnd.databricks.v1+cell": {
     "cellMetadata": {},
     "inputWidgets": {},
     "nuid": "3213c22c-304e-44ef-98b3-078d4d88979c",
     "showTitle": false,
     "title": ""
    }
   },
   "outputs": [],
   "source": [
    "import pandas as pd\n",
    "\n",
    "df = pd.read_csv(\"/dbfs/databricks-datasets/COVID/CSSEGISandData/csse_covid_19_data/csse_covid_19_daily_reports/04-11-2020.csv\")\n",
    "\n",
    "df"
   ]
  },
  {
   "cell_type": "markdown",
   "metadata": {
    "application/vnd.databricks.v1+cell": {
     "cellMetadata": {},
     "inputWidgets": {},
     "nuid": "9825bcea-b8d2-43a2-bab3-20234f52eef0",
     "showTitle": false,
     "title": ""
    }
   },
   "source": [
    "### Summarize the data"
   ]
  },
  {
   "cell_type": "markdown",
   "metadata": {
    "application/vnd.databricks.v1+cell": {
     "cellMetadata": {},
     "inputWidgets": {},
     "nuid": "dffd5315-11a5-417c-b02a-30058717523b",
     "showTitle": false,
     "title": ""
    }
   },
   "source": [
    "First, let's talk tab completion"
   ]
  },
  {
   "cell_type": "code",
   "execution_count": 0,
   "metadata": {
    "application/vnd.databricks.v1+cell": {
     "cellMetadata": {},
     "inputWidgets": {},
     "nuid": "e01a5db9-d0fe-4edc-9ea6-369490f84c0b",
     "showTitle": false,
     "title": ""
    }
   },
   "outputs": [],
   "source": [
    "# df. # Uncomment this and press 'tab' with your cursor after the \".\""
   ]
  },
  {
   "cell_type": "markdown",
   "metadata": {
    "application/vnd.databricks.v1+cell": {
     "cellMetadata": {},
     "inputWidgets": {},
     "nuid": "a65e23ea-8993-487f-9262-6202e28862d1",
     "showTitle": false,
     "title": ""
    }
   },
   "source": [
    "Need help?"
   ]
  },
  {
   "cell_type": "code",
   "execution_count": 0,
   "metadata": {
    "application/vnd.databricks.v1+cell": {
     "cellMetadata": {},
     "inputWidgets": {},
     "nuid": "1fc22e38-950f-4ca8-a4f2-e99cfb3ae5fe",
     "showTitle": false,
     "title": ""
    }
   },
   "outputs": [],
   "source": [
    "help(df.head())"
   ]
  },
  {
   "cell_type": "markdown",
   "metadata": {
    "application/vnd.databricks.v1+cell": {
     "cellMetadata": {},
     "inputWidgets": {},
     "nuid": "e3a78c20-e0c8-4284-b0a9-3222ad46ec21",
     "showTitle": false,
     "title": ""
    }
   },
   "source": [
    "Take a peak at the first and last few rows of the data"
   ]
  },
  {
   "cell_type": "code",
   "execution_count": 0,
   "metadata": {
    "application/vnd.databricks.v1+cell": {
     "cellMetadata": {},
     "inputWidgets": {},
     "nuid": "d31a9e55-9dc9-41b1-a929-c76083f93836",
     "showTitle": false,
     "title": ""
    }
   },
   "outputs": [],
   "source": [
    "df.head()"
   ]
  },
  {
   "cell_type": "code",
   "execution_count": 0,
   "metadata": {
    "application/vnd.databricks.v1+cell": {
     "cellMetadata": {},
     "inputWidgets": {},
     "nuid": "d79f6a07-432b-4b97-b160-f9a5d7dd9bc5",
     "showTitle": false,
     "title": ""
    }
   },
   "outputs": [],
   "source": [
    "df.tail(2)"
   ]
  },
  {
   "cell_type": "markdown",
   "metadata": {
    "application/vnd.databricks.v1+cell": {
     "cellMetadata": {},
     "inputWidgets": {},
     "nuid": "d409660b-b805-41f6-b6da-b79b932351c8",
     "showTitle": false,
     "title": ""
    }
   },
   "source": [
    "How many records are in the dataset?"
   ]
  },
  {
   "cell_type": "code",
   "execution_count": 0,
   "metadata": {
    "application/vnd.databricks.v1+cell": {
     "cellMetadata": {},
     "inputWidgets": {},
     "nuid": "8b83aa92-3299-4724-93da-a4899b40c399",
     "showTitle": false,
     "title": ""
    }
   },
   "outputs": [],
   "source": [
    "df.shape"
   ]
  },
  {
   "cell_type": "markdown",
   "metadata": {
    "application/vnd.databricks.v1+cell": {
     "cellMetadata": {},
     "inputWidgets": {},
     "nuid": "f68f2270-65c5-4dbc-bae0-60a10643b947",
     "showTitle": false,
     "title": ""
    }
   },
   "source": [
    "Summarize the data"
   ]
  },
  {
   "cell_type": "code",
   "execution_count": 0,
   "metadata": {
    "application/vnd.databricks.v1+cell": {
     "cellMetadata": {},
     "inputWidgets": {},
     "nuid": "10ce918e-df75-45ce-b4cf-31557828e720",
     "showTitle": false,
     "title": ""
    }
   },
   "outputs": [],
   "source": [
    "# df.sum()\n",
    "# df.min()\n",
    "# df.max()\n",
    "# df.count()\n",
    "df.mean()\n",
    "# df.std()"
   ]
  },
  {
   "cell_type": "markdown",
   "metadata": {
    "application/vnd.databricks.v1+cell": {
     "cellMetadata": {},
     "inputWidgets": {},
     "nuid": "53e94f62-26b0-4d51-80aa-64ee7489daee",
     "showTitle": false,
     "title": ""
    }
   },
   "source": [
    "These summary stats are aggregated for you..."
   ]
  },
  {
   "cell_type": "code",
   "execution_count": 0,
   "metadata": {
    "application/vnd.databricks.v1+cell": {
     "cellMetadata": {},
     "inputWidgets": {},
     "nuid": "36a69523-36d8-4ddd-8bc1-3f16c0f16d4c",
     "showTitle": false,
     "title": ""
    }
   },
   "outputs": [],
   "source": [
    "df.describe()"
   ]
  },
  {
   "cell_type": "markdown",
   "metadata": {
    "application/vnd.databricks.v1+cell": {
     "cellMetadata": {},
     "inputWidgets": {},
     "nuid": "14d94a6e-43bf-4976-a181-1a46f31d80bd",
     "showTitle": false,
     "title": ""
    }
   },
   "source": [
    "### Slice and munge data"
   ]
  },
  {
   "cell_type": "markdown",
   "metadata": {
    "application/vnd.databricks.v1+cell": {
     "cellMetadata": {},
     "inputWidgets": {},
     "nuid": "75e8bb07-bfeb-4e85-bfd5-cd56238966cb",
     "showTitle": false,
     "title": ""
    }
   },
   "source": [
    "Grab just the confirmed cases"
   ]
  },
  {
   "cell_type": "code",
   "execution_count": 0,
   "metadata": {
    "application/vnd.databricks.v1+cell": {
     "cellMetadata": {},
     "inputWidgets": {},
     "nuid": "46f78571-c170-4459-be6a-e0666fecef28",
     "showTitle": false,
     "title": ""
    }
   },
   "outputs": [],
   "source": [
    "df[\"Confirmed\"]"
   ]
  },
  {
   "cell_type": "markdown",
   "metadata": {
    "application/vnd.databricks.v1+cell": {
     "cellMetadata": {},
     "inputWidgets": {},
     "nuid": "ede0d372-e00e-43da-a27c-f9ed4beffeeb",
     "showTitle": false,
     "title": ""
    }
   },
   "source": [
    "Grab the country and confirmed cases."
   ]
  },
  {
   "cell_type": "code",
   "execution_count": 0,
   "metadata": {
    "application/vnd.databricks.v1+cell": {
     "cellMetadata": {},
     "inputWidgets": {},
     "nuid": "06db864d-bbcd-4c52-985b-4d9f4226a138",
     "showTitle": false,
     "title": ""
    }
   },
   "outputs": [],
   "source": [
    "df.columns"
   ]
  },
  {
   "cell_type": "code",
   "execution_count": 0,
   "metadata": {
    "application/vnd.databricks.v1+cell": {
     "cellMetadata": {},
     "inputWidgets": {},
     "nuid": "efa4b232-8058-4dd6-91ab-74c1c69698ea",
     "showTitle": false,
     "title": ""
    }
   },
   "outputs": [],
   "source": [
    "df[[\"Country_Region\", \"Confirmed\"]]"
   ]
  },
  {
   "cell_type": "markdown",
   "metadata": {
    "application/vnd.databricks.v1+cell": {
     "cellMetadata": {},
     "inputWidgets": {},
     "nuid": "b2b42491-fffd-4a50-bde8-ba035897631b",
     "showTitle": false,
     "title": ""
    }
   },
   "source": [
    "Create a new column `Date`"
   ]
  },
  {
   "cell_type": "code",
   "execution_count": 0,
   "metadata": {
    "application/vnd.databricks.v1+cell": {
     "cellMetadata": {},
     "inputWidgets": {},
     "nuid": "9c55c5e5-13b3-4d66-8d36-353d160b10cc",
     "showTitle": false,
     "title": ""
    }
   },
   "outputs": [],
   "source": [
    "import datetime\n",
    "\n",
    "df[\"Date\"] = datetime.date(2020, 4, 11)"
   ]
  },
  {
   "cell_type": "code",
   "execution_count": 0,
   "metadata": {
    "application/vnd.databricks.v1+cell": {
     "cellMetadata": {},
     "inputWidgets": {},
     "nuid": "8e6433cc-cbe9-4ed2-ad74-6f2fc627ff54",
     "showTitle": false,
     "title": ""
    }
   },
   "outputs": [],
   "source": [
    "df[\"Date\"].head()"
   ]
  },
  {
   "cell_type": "markdown",
   "metadata": {
    "application/vnd.databricks.v1+cell": {
     "cellMetadata": {},
     "inputWidgets": {},
     "nuid": "f65eade3-8f7d-44b7-a56b-de6076a7c1d2",
     "showTitle": false,
     "title": ""
    }
   },
   "source": [
    "Slice the DataFrame to get the first 10 rows"
   ]
  },
  {
   "cell_type": "code",
   "execution_count": 0,
   "metadata": {
    "application/vnd.databricks.v1+cell": {
     "cellMetadata": {},
     "inputWidgets": {},
     "nuid": "2c0c1578-9e15-4333-bbf6-968247d3c357",
     "showTitle": false,
     "title": ""
    }
   },
   "outputs": [],
   "source": [
    "df.loc[:10, [\"Country_Region\", \"Confirmed\"]]\n",
    "# df.loc[0:10, [\"Country_Region\", \"Confirmed\"]] # Same thing"
   ]
  },
  {
   "cell_type": "markdown",
   "metadata": {
    "application/vnd.databricks.v1+cell": {
     "cellMetadata": {},
     "inputWidgets": {},
     "nuid": "01be25a8-3bc8-43a2-b2d8-70d9323c543d",
     "showTitle": false,
     "title": ""
    }
   },
   "source": [
    "Return just the first column from the first row"
   ]
  },
  {
   "cell_type": "code",
   "execution_count": 0,
   "metadata": {
    "application/vnd.databricks.v1+cell": {
     "cellMetadata": {},
     "inputWidgets": {},
     "nuid": "ca1e2857-5b89-4c44-ad0e-e5ba8389a7d8",
     "showTitle": false,
     "title": ""
    }
   },
   "outputs": [],
   "source": [
    "df.iloc[0, 0]"
   ]
  },
  {
   "cell_type": "markdown",
   "metadata": {
    "application/vnd.databricks.v1+cell": {
     "cellMetadata": {},
     "inputWidgets": {},
     "nuid": "0dfd9530-eae0-4a91-9f08-da83b07a6988",
     "showTitle": false,
     "title": ""
    }
   },
   "source": [
    "How many regions to we have per country?"
   ]
  },
  {
   "cell_type": "code",
   "execution_count": 0,
   "metadata": {
    "application/vnd.databricks.v1+cell": {
     "cellMetadata": {},
     "inputWidgets": {},
     "nuid": "9dde8c9a-02d3-4d70-a628-48504113582a",
     "showTitle": false,
     "title": ""
    }
   },
   "outputs": [],
   "source": [
    "df[\"Country_Region\"].value_counts()"
   ]
  },
  {
   "cell_type": "markdown",
   "metadata": {
    "application/vnd.databricks.v1+cell": {
     "cellMetadata": {},
     "inputWidgets": {},
     "nuid": "52947513-9bd8-472d-aeff-43ae22690cee",
     "showTitle": false,
     "title": ""
    }
   },
   "source": [
    "What's FIPS?"
   ]
  },
  {
   "cell_type": "code",
   "execution_count": 0,
   "metadata": {
    "application/vnd.databricks.v1+cell": {
     "cellMetadata": {},
     "inputWidgets": {},
     "nuid": "a4fd0818-39de-4811-812d-2a7c9e896135",
     "showTitle": false,
     "title": ""
    }
   },
   "outputs": [],
   "source": [
    "df = df.drop(\"FIPS\", axis=1)"
   ]
  },
  {
   "cell_type": "markdown",
   "metadata": {
    "application/vnd.databricks.v1+cell": {
     "cellMetadata": {},
     "inputWidgets": {},
     "nuid": "dab67235-e82d-484d-8ea6-2d4ffd6a527b",
     "showTitle": false,
     "title": ""
    }
   },
   "source": [
    "Sort by confirmed cases"
   ]
  },
  {
   "cell_type": "code",
   "execution_count": 0,
   "metadata": {
    "application/vnd.databricks.v1+cell": {
     "cellMetadata": {},
     "inputWidgets": {},
     "nuid": "32c30201-4378-4941-a1b7-796d69550067",
     "showTitle": false,
     "title": ""
    }
   },
   "outputs": [],
   "source": [
    "df.sort_values(\"Confirmed\", ascending=False)"
   ]
  },
  {
   "cell_type": "markdown",
   "metadata": {
    "application/vnd.databricks.v1+cell": {
     "cellMetadata": {},
     "inputWidgets": {},
     "nuid": "85f6d935-9016-4c5e-ae41-92b1a729a13c",
     "showTitle": false,
     "title": ""
    }
   },
   "source": [
    "Let's just look at what's going on in the US"
   ]
  },
  {
   "cell_type": "code",
   "execution_count": 0,
   "metadata": {
    "application/vnd.databricks.v1+cell": {
     "cellMetadata": {},
     "inputWidgets": {},
     "nuid": "61e09188-cd4a-46b4-897d-8b05e2538421",
     "showTitle": false,
     "title": ""
    }
   },
   "outputs": [],
   "source": [
    "df[df[\"Country_Region\"] == \"US\"]"
   ]
  },
  {
   "cell_type": "markdown",
   "metadata": {
    "application/vnd.databricks.v1+cell": {
     "cellMetadata": {},
     "inputWidgets": {},
     "nuid": "15162bd1-afb2-4f5b-82bb-8a6135f5490b",
     "showTitle": false,
     "title": ""
    }
   },
   "source": [
    "Now let's look at what's going on in my county"
   ]
  },
  {
   "cell_type": "code",
   "execution_count": 0,
   "metadata": {
    "application/vnd.databricks.v1+cell": {
     "cellMetadata": {},
     "inputWidgets": {},
     "nuid": "34ba5611-9b1a-41e7-9a7d-a617ef652f99",
     "showTitle": false,
     "title": ""
    }
   },
   "outputs": [],
   "source": [
    "df[(df[\"Country_Region\"] == \"US\") & (df[\"Province_State\"] == \"California\") & (df[\"Admin2\"] == \"San Francisco\")]"
   ]
  },
  {
   "cell_type": "markdown",
   "metadata": {
    "application/vnd.databricks.v1+cell": {
     "cellMetadata": {},
     "inputWidgets": {},
     "nuid": "55ed73dc-03e6-4700-8a89-2fabc856f244",
     "showTitle": false,
     "title": ""
    }
   },
   "source": [
    "### Group data and perform aggregate functions"
   ]
  },
  {
   "cell_type": "markdown",
   "metadata": {
    "application/vnd.databricks.v1+cell": {
     "cellMetadata": {},
     "inputWidgets": {},
     "nuid": "a8b8a5bd-8503-46a5-8f55-0c5ec5ccbb2e",
     "showTitle": false,
     "title": ""
    }
   },
   "source": [
    "What country has the greatest number of confirmed cases?"
   ]
  },
  {
   "cell_type": "code",
   "execution_count": 0,
   "metadata": {
    "application/vnd.databricks.v1+cell": {
     "cellMetadata": {},
     "inputWidgets": {},
     "nuid": "c33ef070-33d5-4b3a-8283-e2dc9ce70ea1",
     "showTitle": false,
     "title": ""
    }
   },
   "outputs": [],
   "source": [
    "df.groupby(\"Country_Region\")"
   ]
  },
  {
   "cell_type": "markdown",
   "metadata": {
    "application/vnd.databricks.v1+cell": {
     "cellMetadata": {},
     "inputWidgets": {},
     "nuid": "a890a073-c11a-4ce0-b96d-c57de5afcdd8",
     "showTitle": false,
     "title": ""
    }
   },
   "source": [
    "Group and sum the data. **Note that an aggregate function return a scalar (single) value.**"
   ]
  },
  {
   "cell_type": "code",
   "execution_count": 0,
   "metadata": {
    "application/vnd.databricks.v1+cell": {
     "cellMetadata": {},
     "inputWidgets": {},
     "nuid": "c9bea449-e107-463b-a1c2-b813f70eeb17",
     "showTitle": false,
     "title": ""
    }
   },
   "outputs": [],
   "source": [
    "df.groupby(\"Country_Region\")[\"Confirmed\"].sum().sort_values(ascending=False)"
   ]
  },
  {
   "cell_type": "markdown",
   "metadata": {
    "application/vnd.databricks.v1+cell": {
     "cellMetadata": {},
     "inputWidgets": {},
     "nuid": "17e86619-919a-4d50-9bc4-74a09c799187",
     "showTitle": false,
     "title": ""
    }
   },
   "source": [
    "Which US states have the most cases?"
   ]
  },
  {
   "cell_type": "code",
   "execution_count": 0,
   "metadata": {
    "application/vnd.databricks.v1+cell": {
     "cellMetadata": {},
     "inputWidgets": {},
     "nuid": "af6d85eb-4e49-472f-a591-1124f10dd61c",
     "showTitle": false,
     "title": ""
    }
   },
   "outputs": [],
   "source": [
    "df[df[\"Country_Region\"] == \"US\"].groupby(\"Province_State\")[\"Confirmed\"].sum().sort_values(ascending=False)"
   ]
  },
  {
   "cell_type": "markdown",
   "metadata": {
    "application/vnd.databricks.v1+cell": {
     "cellMetadata": {},
     "inputWidgets": {},
     "nuid": "cfa31f07-b3a4-4e3c-8c86-a9644f9a3290",
     "showTitle": false,
     "title": ""
    }
   },
   "source": [
    "### Work with missing data and duplicates"
   ]
  },
  {
   "cell_type": "markdown",
   "metadata": {
    "application/vnd.databricks.v1+cell": {
     "cellMetadata": {},
     "inputWidgets": {},
     "nuid": "0181d08b-e87f-488b-acb0-a02ef124d05f",
     "showTitle": false,
     "title": ""
    }
   },
   "source": [
    "Do we have null values?"
   ]
  },
  {
   "cell_type": "code",
   "execution_count": 0,
   "metadata": {
    "application/vnd.databricks.v1+cell": {
     "cellMetadata": {},
     "inputWidgets": {},
     "nuid": "ccc4c648-05ee-489c-b396-ac0607de6fe2",
     "showTitle": false,
     "title": ""
    }
   },
   "outputs": [],
   "source": [
    "df.isnull().tail()"
   ]
  },
  {
   "cell_type": "code",
   "execution_count": 0,
   "metadata": {
    "application/vnd.databricks.v1+cell": {
     "cellMetadata": {},
     "inputWidgets": {},
     "nuid": "55d0de63-8407-4643-b5ff-fa8bd5794d84",
     "showTitle": false,
     "title": ""
    }
   },
   "outputs": [],
   "source": [
    "df.isnull().sum()"
   ]
  },
  {
   "cell_type": "markdown",
   "metadata": {
    "application/vnd.databricks.v1+cell": {
     "cellMetadata": {},
     "inputWidgets": {},
     "nuid": "fb7eacfb-46b7-44f3-8279-f712306b60bb",
     "showTitle": false,
     "title": ""
    }
   },
   "source": [
    "How many unique countries?"
   ]
  },
  {
   "cell_type": "code",
   "execution_count": 0,
   "metadata": {
    "application/vnd.databricks.v1+cell": {
     "cellMetadata": {},
     "inputWidgets": {},
     "nuid": "32ddb3df-0cd4-4598-8030-efeb517e668a",
     "showTitle": false,
     "title": ""
    }
   },
   "outputs": [],
   "source": [
    "df[\"Country_Region\"].unique().shape"
   ]
  },
  {
   "cell_type": "markdown",
   "metadata": {
    "application/vnd.databricks.v1+cell": {
     "cellMetadata": {},
     "inputWidgets": {},
     "nuid": "af315e22-d490-4ed3-b060-a18965de0381",
     "showTitle": false,
     "title": ""
    }
   },
   "source": [
    "Another way to do the same thing."
   ]
  },
  {
   "cell_type": "code",
   "execution_count": 0,
   "metadata": {
    "application/vnd.databricks.v1+cell": {
     "cellMetadata": {},
     "inputWidgets": {},
     "nuid": "c324b992-cc93-4396-9061-6722e5653422",
     "showTitle": false,
     "title": ""
    }
   },
   "outputs": [],
   "source": [
    "df[\"Country_Region\"].drop_duplicates()"
   ]
  },
  {
   "cell_type": "code",
   "execution_count": 0,
   "metadata": {
    "application/vnd.databricks.v1+cell": {
     "cellMetadata": {},
     "inputWidgets": {},
     "nuid": "5f1925eb-d2e4-4f81-b462-c510936a0207",
     "showTitle": false,
     "title": ""
    }
   },
   "outputs": [],
   "source": [
    "df.fillna(\"NO DATA AVAILABLE\").tail(3)"
   ]
  },
  {
   "cell_type": "markdown",
   "metadata": {
    "application/vnd.databricks.v1+cell": {
     "cellMetadata": {},
     "inputWidgets": {},
     "nuid": "ac2a451a-6207-4d49-a54a-1a339e0ab60b",
     "showTitle": false,
     "title": ""
    }
   },
   "source": [
    "### Visualization\n",
    "   * Histograms\n",
    "   * Scatterplots\n",
    "   * Lineplots"
   ]
  },
  {
   "cell_type": "code",
   "execution_count": 0,
   "metadata": {
    "application/vnd.databricks.v1+cell": {
     "cellMetadata": {},
     "inputWidgets": {},
     "nuid": "807f12b7-7d59-4f89-bcc7-cb6705146ee1",
     "showTitle": false,
     "title": ""
    }
   },
   "outputs": [],
   "source": [
    "us_subset_df = df[df[\"Country_Region\"] == \"US\"]"
   ]
  },
  {
   "cell_type": "markdown",
   "metadata": {
    "application/vnd.databricks.v1+cell": {
     "cellMetadata": {},
     "inputWidgets": {},
     "nuid": "0ebf0912-dcbe-46c9-a926-31cdb13f6232",
     "showTitle": false,
     "title": ""
    }
   },
   "source": [
    "What is the _distribution_ of deaths by US states and territories?"
   ]
  },
  {
   "cell_type": "code",
   "execution_count": 0,
   "metadata": {
    "application/vnd.databricks.v1+cell": {
     "cellMetadata": {},
     "inputWidgets": {},
     "nuid": "8767dfb6-6cb3-4b1b-bef0-b9ee7af17b9f",
     "showTitle": false,
     "title": ""
    }
   },
   "outputs": [],
   "source": [
    "us_subset_df.groupby(\"Province_State\")[\"Deaths\"].sum().hist()"
   ]
  },
  {
   "cell_type": "code",
   "execution_count": 0,
   "metadata": {
    "application/vnd.databricks.v1+cell": {
     "cellMetadata": {},
     "inputWidgets": {},
     "nuid": "804d6b10-65d9-4dad-8595-5e54429f9d9b",
     "showTitle": false,
     "title": ""
    }
   },
   "outputs": [],
   "source": [
    "us_subset_df.groupby(\"Province_State\")[\"Deaths\"].sum().hist(bins=30)"
   ]
  },
  {
   "cell_type": "markdown",
   "metadata": {
    "application/vnd.databricks.v1+cell": {
     "cellMetadata": {},
     "inputWidgets": {},
     "nuid": "22d4a8f5-0752-45f9-9871-91e6091f67fe",
     "showTitle": false,
     "title": ""
    }
   },
   "source": [
    "How do confirmed cases compare to deaths?"
   ]
  },
  {
   "cell_type": "code",
   "execution_count": 0,
   "metadata": {
    "application/vnd.databricks.v1+cell": {
     "cellMetadata": {},
     "inputWidgets": {},
     "nuid": "227f1d50-fe4c-43b2-8ac3-6cf94746e74d",
     "showTitle": false,
     "title": ""
    }
   },
   "outputs": [],
   "source": [
    "us_subset_df.plot.scatter(x=\"Confirmed\", y=\"Deaths\")"
   ]
  },
  {
   "cell_type": "code",
   "execution_count": 0,
   "metadata": {
    "application/vnd.databricks.v1+cell": {
     "cellMetadata": {},
     "inputWidgets": {},
     "nuid": "08f04c38-8072-4057-a114-61a6f956ff55",
     "showTitle": false,
     "title": ""
    }
   },
   "outputs": [],
   "source": [
    "us_subset_df[us_subset_df[\"Deaths\"] < 1000].plot.scatter(x=\"Confirmed\", y=\"Deaths\")"
   ]
  },
  {
   "cell_type": "markdown",
   "metadata": {
    "application/vnd.databricks.v1+cell": {
     "cellMetadata": {},
     "inputWidgets": {},
     "nuid": "0aeb0c48-2bdf-4b92-a3bf-96f3d009f9e9",
     "showTitle": false,
     "title": ""
    }
   },
   "source": [
    "Import the data for all available days."
   ]
  },
  {
   "cell_type": "code",
   "execution_count": 0,
   "metadata": {
    "application/vnd.databricks.v1+cell": {
     "cellMetadata": {},
     "inputWidgets": {},
     "nuid": "5391aa6d-32a7-466c-951b-3682daeb0bb2",
     "showTitle": false,
     "title": ""
    }
   },
   "outputs": [],
   "source": [
    "import glob\n",
    "\n",
    "path = \"/dbfs/databricks-datasets/COVID/CSSEGISandData/csse_covid_19_data/csse_covid_19_daily_reports\"\n",
    "all_files = glob.glob(path + \"/*.csv\")\n",
    "\n",
    "dfs = []\n",
    "\n",
    "for filename in all_files:\n",
    "  temp_df = pd.read_csv(filename)\n",
    "  temp_df.columns = [c.replace(\"/\", \"_\") for c in temp_df.columns]\n",
    "  temp_df.columns = [c.replace(\" \", \"_\") for c in temp_df.columns]\n",
    "  \n",
    "  month, day, year = filename.split(\"/\")[-1].replace(\".csv\", \"\").split(\"-\")\n",
    "  d = datetime.date(int(year), int(month), int(day))\n",
    "  temp_df[\"Date\"] = d\n",
    "\n",
    "  dfs.append(temp_df)\n",
    "  \n",
    "all_days_df = pd.concat(dfs, axis=0, ignore_index=True, sort=False)\n",
    "all_days_df = all_days_df.drop([\"Latitude\", \"Longitude\", \"Lat\", \"Long_\", \"FIPS\", \"Combined_Key\", \"Last_Update\"], axis=1)"
   ]
  },
  {
   "cell_type": "code",
   "execution_count": 0,
   "metadata": {
    "application/vnd.databricks.v1+cell": {
     "cellMetadata": {},
     "inputWidgets": {},
     "nuid": "c3e9ff78-8fd5-4f93-9563-3b9d936351b6",
     "showTitle": false,
     "title": ""
    }
   },
   "outputs": [],
   "source": [
    "all_days_df.head()"
   ]
  },
  {
   "cell_type": "markdown",
   "metadata": {
    "application/vnd.databricks.v1+cell": {
     "cellMetadata": {},
     "inputWidgets": {},
     "nuid": "8d196448-f57f-4313-a47c-88c555af1adf",
     "showTitle": false,
     "title": ""
    }
   },
   "source": [
    "How has the disease spread over time?"
   ]
  },
  {
   "cell_type": "code",
   "execution_count": 0,
   "metadata": {
    "application/vnd.databricks.v1+cell": {
     "cellMetadata": {},
     "inputWidgets": {},
     "nuid": "3cde8633-5919-4922-9392-31f7691f6294",
     "showTitle": false,
     "title": ""
    }
   },
   "outputs": [],
   "source": [
    "all_days_df.groupby(\"Date\")[\"Confirmed\"].sum().plot(title=\"Confirmed Cases over Time\", rot=45)"
   ]
  },
  {
   "cell_type": "markdown",
   "metadata": {
    "application/vnd.databricks.v1+cell": {
     "cellMetadata": {},
     "inputWidgets": {},
     "nuid": "0e2ebdbe-00d3-4cd6-a9da-d7b51f8b2639",
     "showTitle": false,
     "title": ""
    }
   },
   "source": [
    "Break this down by types of cases."
   ]
  },
  {
   "cell_type": "code",
   "execution_count": 0,
   "metadata": {
    "application/vnd.databricks.v1+cell": {
     "cellMetadata": {},
     "inputWidgets": {},
     "nuid": "80d7ef9d-53fb-4c28-afc4-b7048a917b5f",
     "showTitle": false,
     "title": ""
    }
   },
   "outputs": [],
   "source": [
    "all_days_df.groupby(\"Date\")[\"Confirmed\", \"Deaths\", \"Recovered\"].sum().plot(title=\"Confirmed, Deaths, Recovered over Time\", rot=45)"
   ]
  },
  {
   "cell_type": "markdown",
   "metadata": {
    "application/vnd.databricks.v1+cell": {
     "cellMetadata": {},
     "inputWidgets": {},
     "nuid": "b19bcd9b-8bc0-4b7c-8a17-e5a1e7fba57c",
     "showTitle": false,
     "title": ""
    }
   },
   "source": [
    "What is the growth in my county?"
   ]
  },
  {
   "cell_type": "code",
   "execution_count": 0,
   "metadata": {
    "application/vnd.databricks.v1+cell": {
     "cellMetadata": {},
     "inputWidgets": {},
     "nuid": "5fd4a63f-904c-40e1-8dad-5d4ae1b94fe1",
     "showTitle": false,
     "title": ""
    }
   },
   "outputs": [],
   "source": [
    "(all_days_df[(all_days_df[\"Country_Region\"] == \"US\") & (all_days_df[\"Province_State\"] == \"California\") & (all_days_df[\"Admin2\"] == \"San Francisco\")]\n",
    "  .groupby(\"Date\")[\"Confirmed\", \"Deaths\", \"Recovered\"]\n",
    "  .sum()\n",
    "  .plot(title=\"Confirmed, Deaths, Recovered over Time\", rot=45))"
   ]
  },
  {
   "cell_type": "markdown",
   "metadata": {
    "application/vnd.databricks.v1+cell": {
     "cellMetadata": {},
     "inputWidgets": {},
     "nuid": "5cbb825c-fa20-409f-8d7c-854e4c872c5a",
     "showTitle": false,
     "title": ""
    }
   },
   "source": [
    "Wrap this up in a function and run it yourself!"
   ]
  },
  {
   "cell_type": "code",
   "execution_count": 0,
   "metadata": {
    "application/vnd.databricks.v1+cell": {
     "cellMetadata": {},
     "inputWidgets": {},
     "nuid": "42dd133e-3eed-4f79-a56c-2b5b76f1dd27",
     "showTitle": false,
     "title": ""
    }
   },
   "outputs": [],
   "source": [
    "def plotMyCountry(Country_Region, Province_State, Admin2):\n",
    "  (all_days_df[(all_days_df[\"Country_Region\"] == Country_Region) & (all_days_df[\"Province_State\"] == Province_State) & (all_days_df[\"Admin2\"] == Admin2)]\n",
    "    .groupby(\"Date\")[\"Confirmed\", \"Deaths\", \"Recovered\"]\n",
    "    .sum()\n",
    "    .plot(title=\"Confirmed, Deaths, Recovered over Time\", rot=45))\n",
    "  \n",
    "plotMyCountry(\"US\", \"New York\", \"New York City\")"
   ]
  },
  {
   "cell_type": "markdown",
   "metadata": {
    "application/vnd.databricks.v1+cell": {
     "cellMetadata": {},
     "inputWidgets": {},
     "nuid": "6fa29ad1-3a40-4127-848d-107620002029",
     "showTitle": false,
     "title": ""
    }
   },
   "source": [
    "&copy; 2020 Databricks, Inc. All rights reserved.<br/>\n",
    "Apache, Apache Spark, Spark and the Spark logo are trademarks of the <a href=\"http://www.apache.org/\">Apache Software Foundation</a>.<br/>\n",
    "<br/>\n",
    "<a href=\"https://databricks.com/privacy-policy\">Privacy Policy</a> | <a href=\"https://databricks.com/terms-of-use\">Terms of Use</a> | <a href=\"http://help.databricks.com/\">Support</a>"
   ]
  }
 ],
 "metadata": {
  "application/vnd.databricks.v1+notebook": {
   "dashboards": [],
   "language": "python",
   "notebookMetadata": {
    "pythonIndentUnit": 2
   },
   "notebookName": "JEP 07 - COVID Demo",
   "widgets": {}
  }
 },
 "nbformat": 4,
 "nbformat_minor": 0
}
