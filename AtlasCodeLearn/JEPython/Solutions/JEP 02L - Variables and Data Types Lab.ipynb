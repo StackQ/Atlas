{
 "cells": [
  {
   "cell_type": "markdown",
   "metadata": {
    "application/vnd.databricks.v1+cell": {
     "cellMetadata": {},
     "inputWidgets": {},
     "nuid": "2b42a126-b598-4e50-a993-fbf3007d85b6",
     "showTitle": false,
     "title": ""
    }
   },
   "source": [
    "\n",
    "<div style=\"text-align: center; line-height: 0; padding-top: 9px;\">\n",
    "  <img src=\"https://databricks.com/wp-content/uploads/2018/03/db-academy-rgb-1200px.png\" alt=\"Databricks Learning\" style=\"width: 600px\">\n",
    "</div>"
   ]
  },
  {
   "cell_type": "markdown",
   "metadata": {
    "application/vnd.databricks.v1+cell": {
     "cellMetadata": {},
     "inputWidgets": {},
     "nuid": "f1b6f311-043a-48d5-a449-0ca3aaaeeef9",
     "showTitle": false,
     "title": ""
    }
   },
   "source": [
    "## Variables and Data Types Lab\n",
    "\n",
    "Let's convert EUR to USD and prints the results.\n",
    "\n",
    "To aid you in this, we have identified the cells you need to update with the **TODO** comment and provided a **FILL_IN** place-holder for your own code where appropriate."
   ]
  },
  {
   "cell_type": "markdown",
   "metadata": {
    "application/vnd.databricks.v1+cell": {
     "cellMetadata": {},
     "inputWidgets": {},
     "nuid": "c49f7103-8534-495d-ae48-6df131dbb9eb",
     "showTitle": false,
     "title": ""
    }
   },
   "source": [
    "The current exchange rate as of 14 August 2020 is **1 EUR** to **1.18 USD**.\n",
    "0. Create a variable called **`conversion_rate`** and intialize it to the value of **`1.18`**.\n",
    "\n",
    "This way, if the rate ever changes, we would only need to modify this single line of code and have everything else still work properly!"
   ]
  },
  {
   "cell_type": "code",
   "execution_count": 0,
   "metadata": {
    "application/vnd.databricks.v1+cell": {
     "cellMetadata": {},
     "inputWidgets": {},
     "nuid": "b936d7cf-c52f-4dee-bcfa-901ae37485c6",
     "showTitle": false,
     "title": ""
    }
   },
   "outputs": [],
   "source": [
    "# ANSWER\n",
    "conversion_rate = 1.18 # Create the variable conversion_rate and assign it the value of 1.18"
   ]
  },
  {
   "cell_type": "markdown",
   "metadata": {
    "application/vnd.databricks.v1+cell": {
     "cellMetadata": {},
     "inputWidgets": {},
     "nuid": "a617a490-5e40-43b5-901d-7f9acf8ffa6f",
     "showTitle": false,
     "title": ""
    }
   },
   "source": [
    "Write an assertion that verifies **`conversion_rate`** is of type **`float`**."
   ]
  },
  {
   "cell_type": "code",
   "execution_count": 0,
   "metadata": {
    "application/vnd.databricks.v1+cell": {
     "cellMetadata": {},
     "inputWidgets": {},
     "nuid": "4ff295c6-29c7-4194-978b-8c855f5725d3",
     "showTitle": false,
     "title": ""
    }
   },
   "outputs": [],
   "source": [
    "# ANSWER\n",
    "# Assert that your variable is of the correct type\n",
    "assert type(conversion_rate) == float, f\"Expected conversion_rate to be of type float, found {type(conversion_rate)}\""
   ]
  },
  {
   "cell_type": "markdown",
   "metadata": {
    "application/vnd.databricks.v1+cell": {
     "cellMetadata": {},
     "inputWidgets": {},
     "nuid": "d27e70ec-43c0-41ea-aaa8-791830a61488",
     "showTitle": false,
     "title": ""
    }
   },
   "source": [
    "Given that we have 567 EUR, compute what the corresponding amount should be in USD.\n",
    "0. Create the variable **`euro_amount`** and assign it the value **`567`**.\n",
    "0. Assign the result of the computation to the variable **`usd_amount`**.\n",
    "\n",
    "Make sure you to use the variable **`conversion_rate`** in your computation and not the hard coded value **`1.18`**."
   ]
  },
  {
   "cell_type": "code",
   "execution_count": 0,
   "metadata": {
    "application/vnd.databricks.v1+cell": {
     "cellMetadata": {},
     "inputWidgets": {},
     "nuid": "a8cd94e1-a0db-4873-b02f-1a1793254f1e",
     "showTitle": false,
     "title": ""
    }
   },
   "outputs": [],
   "source": [
    "# ANSWER\n",
    "euro_amount = 567                                # Create the variable euro_amount and assign it the value of 567\n",
    "usd_amount = conversion_rate * euro_amount       # Assign the result of the computation to usd_amount\n",
    "\n",
    "# Test your solution\n",
    "assert usd_amount == 669.06, \"Incorrect amount.\""
   ]
  },
  {
   "cell_type": "markdown",
   "metadata": {
    "application/vnd.databricks.v1+cell": {
     "cellMetadata": {},
     "inputWidgets": {},
     "nuid": "55e625cd-0d97-494f-8798-42852a325947",
     "showTitle": false,
     "title": ""
    }
   },
   "source": [
    "Using **`euro_amount`** and **`usd_amount`**, print your results.\n",
    "0. Create a new f-string using this template: **`{} Euros is equal to ${} USD`**\n",
    "1. Print that new string to the console\n",
    "\n",
    "Hint: This can be comleted in one or two lines of code"
   ]
  },
  {
   "cell_type": "code",
   "execution_count": 0,
   "metadata": {
    "application/vnd.databricks.v1+cell": {
     "cellMetadata": {},
     "inputWidgets": {},
     "nuid": "17a20daa-6abc-4b30-b667-8cdffc6c342c",
     "showTitle": false,
     "title": ""
    }
   },
   "outputs": [],
   "source": [
    "# ANSWER\n",
    "print(f\"{euro_amount} Euros is equal to ${usd_amount} USD\")"
   ]
  },
  {
   "cell_type": "markdown",
   "metadata": {
    "application/vnd.databricks.v1+cell": {
     "cellMetadata": {},
     "inputWidgets": {},
     "nuid": "2b51bc8a-144c-46ba-8710-c673117d0765",
     "showTitle": false,
     "title": ""
    }
   },
   "source": [
    "&copy; 2020 Databricks, Inc. All rights reserved.<br/>\n",
    "Apache, Apache Spark, Spark and the Spark logo are trademarks of the <a href=\"http://www.apache.org/\">Apache Software Foundation</a>.<br/>\n",
    "<br/>\n",
    "<a href=\"https://databricks.com/privacy-policy\">Privacy Policy</a> | <a href=\"https://databricks.com/terms-of-use\">Terms of Use</a> | <a href=\"http://help.databricks.com/\">Support</a>"
   ]
  }
 ],
 "metadata": {
  "application/vnd.databricks.v1+notebook": {
   "dashboards": [],
   "language": "python",
   "notebookMetadata": {
    "pythonIndentUnit": 2
   },
   "notebookName": "JEP 02L - Variables and Data Types Lab",
   "widgets": {}
  }
 },
 "nbformat": 4,
 "nbformat_minor": 0
}
