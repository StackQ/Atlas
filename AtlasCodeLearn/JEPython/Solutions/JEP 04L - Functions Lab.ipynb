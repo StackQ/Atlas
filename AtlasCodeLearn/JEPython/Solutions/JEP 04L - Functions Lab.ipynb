{
 "cells": [
  {
   "cell_type": "markdown",
   "metadata": {
    "application/vnd.databricks.v1+cell": {
     "cellMetadata": {},
     "inputWidgets": {},
     "nuid": "d192be11-f676-4984-9328-13c093ad0c5a",
     "showTitle": false,
     "title": ""
    }
   },
   "source": [
    "\n",
    "<div style=\"text-align: center; line-height: 0; padding-top: 9px;\">\n",
    "  <img src=\"https://databricks.com/wp-content/uploads/2018/03/db-academy-rgb-1200px.png\" alt=\"Databricks Learning\" style=\"width: 600px\">\n",
    "</div>"
   ]
  },
  {
   "cell_type": "markdown",
   "metadata": {
    "application/vnd.databricks.v1+cell": {
     "cellMetadata": {},
     "inputWidgets": {},
     "nuid": "fbe63068-fcf8-40d1-abd7-723bb88a8017",
     "showTitle": false,
     "title": ""
    }
   },
   "source": [
    "# Functions Lab\n",
    "\n",
    "Building on the previous lab, the FizzBuzz Test, we are going to refactor that code into a function.\n",
    "0. Declare a fucntion.\n",
    "  0. The name of the function should be **`fizzBuzz`**\n",
    "  0. The function has one parameter, presumably an integer (**`int`**).\n",
    "  0. The function should return a string (**`str`**)\n",
    "0. Add a guard, or pre-condition, that asserts that the one specified parameter is of type **`int`**.\n",
    "0. Using your solution from the previous lab (one example solution is included below):\n",
    "  0. Discard the for loop.\n",
    "  0. Alter the print statements so that they return the corresponding value instead (e.g. return \"Fizz\" instead of printing \"Fizz\")\n",
    "  0. Ensure that the return value is always a string (**`str`**).</br>\n",
    "  Hint: See the built-in functions to convert numbers to string or employ an f-string.\n",
    "\n",
    "Bonus: Update your function to use type hints."
   ]
  },
  {
   "cell_type": "markdown",
   "metadata": {
    "application/vnd.databricks.v1+cell": {
     "cellMetadata": {},
     "inputWidgets": {},
     "nuid": "531e0430-5fab-4caf-9451-ef1221827a3f",
     "showTitle": false,
     "title": ""
    }
   },
   "source": [
    "To help you get started, we have included one possible solution to the Fizz Buzz Test here:"
   ]
  },
  {
   "cell_type": "code",
   "execution_count": 0,
   "metadata": {
    "application/vnd.databricks.v1+cell": {
     "cellMetadata": {},
     "inputWidgets": {},
     "nuid": "af5c831f-12cf-4c39-9f82-cc7414abe0f1",
     "showTitle": false,
     "title": ""
    }
   },
   "outputs": [],
   "source": [
    "for num in range(1, 101):\n",
    "  if (num % 5 == 0) and (num % 3 == 0):\n",
    "    print(\"FizzBuzz\")\n",
    "  elif num % 5 == 0:\n",
    "    print(\"Buzz\")\n",
    "  elif num % 3 == 0:\n",
    "    print(\"Fizz\")\n",
    "  else:\n",
    "    print(num)"
   ]
  },
  {
   "cell_type": "code",
   "execution_count": 0,
   "metadata": {
    "application/vnd.databricks.v1+cell": {
     "cellMetadata": {},
     "inputWidgets": {},
     "nuid": "b12c15fb-fb65-4d7b-a5b6-ddfa2b0ca70a",
     "showTitle": false,
     "title": ""
    }
   },
   "outputs": [],
   "source": [
    "# ANSWER\n",
    "def fizzBuzz(num:int) -> str:\n",
    "  assert type(num) == int, \"Expected num to be of type int, found {type(num)}\"\n",
    "  \n",
    "  if (num % 5 == 0) and (num % 3 == 0):\n",
    "    return \"FizzBuzz\"\n",
    "  elif num % 5 == 0:\n",
    "    return \"Buzz\"\n",
    "  elif num % 3 == 0:\n",
    "    return \"Fizz\"\n",
    "  else:\n",
    "    return str(num)"
   ]
  },
  {
   "cell_type": "markdown",
   "metadata": {
    "application/vnd.databricks.v1+cell": {
     "cellMetadata": {},
     "inputWidgets": {},
     "nuid": "2b5893b4-e1e9-416b-9c2f-3b24ac65f88b",
     "showTitle": false,
     "title": ""
    }
   },
   "source": [
    "Use the code below to test your function."
   ]
  },
  {
   "cell_type": "code",
   "execution_count": 0,
   "metadata": {
    "application/vnd.databricks.v1+cell": {
     "cellMetadata": {},
     "inputWidgets": {},
     "nuid": "f30d8dac-87db-4c8e-a48f-6013b1c8be1e",
     "showTitle": false,
     "title": ""
    }
   },
   "outputs": [],
   "source": [
    "expected = \"Fizz\"\n",
    "result = fizzBuzz(3)\n",
    "assert type(result) == str, f\"Expected actual to be of type str, but found {type(result)}.\"\n",
    "assert result == expected, f\"\"\"Expected \"{expected}\", but found \"{result}\".\"\"\"\n",
    "\n",
    "expected = \"Buzz\"\n",
    "result = fizzBuzz(5)\n",
    "assert type(result) == str, f\"Expected actual to be of type str, but found {type(actresultual)}.\"\n",
    "assert result == expected, f\"\"\"Expected \"{expected}\", but found \"{result}\".\"\"\"\n",
    "\n",
    "expected = \"FizzBuzz\"\n",
    "result = fizzBuzz(15)\n",
    "assert type(result) == str, f\"Expected actual to be of type str, but found {type(result)}.\"\n",
    "assert result == expected, f\"\"\"Expected \"{expected}\", but found \"{result}\".\"\"\"\n",
    "\n",
    "expected = \"7\"\n",
    "result = fizzBuzz(7)\n",
    "assert type(result) == str, f\"Expected actual to be of type str, but found {type(result)}.\"\n",
    "assert result == expected, f\"\"\"Expected \"{expected}\", but found \"{result}\".\"\"\""
   ]
  },
  {
   "cell_type": "markdown",
   "metadata": {
    "application/vnd.databricks.v1+cell": {
     "cellMetadata": {},
     "inputWidgets": {},
     "nuid": "548297e4-bc90-4501-94c9-5d6ca7de3d97",
     "showTitle": false,
     "title": ""
    }
   },
   "source": [
    "Using the asserts in the previous command as a template, create a test function that calls **`fizzBuzz()`** for the following sequence of numbers: 0, 1, 2, 3, 5, and 15\n",
    "0. Implement the method **`testFizzBuzz()`**\n",
    "0. Iterate over the list **`test_numbers`** and **`expectations`**</br>\n",
    "Hint: Without introducing any new constructs, you can employ a **`range`**\n",
    "0. Call **`fizzBuzz()`** with the specified value\n",
    "0. Assert that the result is of type **`str`**, as seen above\n",
    "0. Assert that the result matches the expected value, as seen above"
   ]
  },
  {
   "cell_type": "code",
   "execution_count": 0,
   "metadata": {
    "application/vnd.databricks.v1+cell": {
     "cellMetadata": {},
     "inputWidgets": {},
     "nuid": "f968de9e-5687-408e-ac3f-3ae12817b070",
     "showTitle": false,
     "title": ""
    }
   },
   "outputs": [],
   "source": [
    "#ANSWER\n",
    "\n",
    "def testFizzBuzz(num, expected):\n",
    "  result = fizzBuzz(num)\n",
    "  assert type(result) == str, f\"For {num}, expected actual to be of type str, but found {type(result)}.\"\"\"\n",
    "  assert result == expected, f\"\"\"For {num}, expected \"{expected}\", but found \"{result}\".\"\"\"\n",
    "\n",
    "test_numbers = [0, 1, 2, 3, 5, 15]\n",
    "expectations = [\"FizzBuzz\", \"1\", \"2\", \"Fizz\", \"Buzz\", \"FizzBuzz\"]\n",
    "\n",
    "for i in range(5):\n",
    "  num = test_numbers[i]\n",
    "  expected = expectations[i]\n",
    "  testFizzBuzz(num, expected)"
   ]
  },
  {
   "cell_type": "markdown",
   "metadata": {
    "application/vnd.databricks.v1+cell": {
     "cellMetadata": {},
     "inputWidgets": {},
     "nuid": "aa97bdf4-e65b-427b-a9ce-a178ddfc2660",
     "showTitle": false,
     "title": ""
    }
   },
   "source": [
    "&copy; 2020 Databricks, Inc. All rights reserved.<br/>\n",
    "Apache, Apache Spark, Spark and the Spark logo are trademarks of the <a href=\"http://www.apache.org/\">Apache Software Foundation</a>.<br/>\n",
    "<br/>\n",
    "<a href=\"https://databricks.com/privacy-policy\">Privacy Policy</a> | <a href=\"https://databricks.com/terms-of-use\">Terms of Use</a> | <a href=\"http://help.databricks.com/\">Support</a>"
   ]
  }
 ],
 "metadata": {
  "application/vnd.databricks.v1+notebook": {
   "dashboards": [],
   "language": "python",
   "notebookMetadata": {
    "pythonIndentUnit": 2
   },
   "notebookName": "JEP 04L - Functions Lab",
   "widgets": {}
  }
 },
 "nbformat": 4,
 "nbformat_minor": 0
}
