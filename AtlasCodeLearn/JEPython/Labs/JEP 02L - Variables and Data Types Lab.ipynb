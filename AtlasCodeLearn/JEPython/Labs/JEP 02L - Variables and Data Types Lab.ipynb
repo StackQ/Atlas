{
 "cells": [
  {
   "cell_type": "markdown",
   "metadata": {
    "application/vnd.databricks.v1+cell": {
     "cellMetadata": {},
     "inputWidgets": {},
     "nuid": "94505c6f-e056-4d14-8fa0-ba73baa8c6f4",
     "showTitle": false,
     "title": ""
    }
   },
   "source": [
    "\n",
    "<div style=\"text-align: center; line-height: 0; padding-top: 9px;\">\n",
    "  <img src=\"https://databricks.com/wp-content/uploads/2018/03/db-academy-rgb-1200px.png\" alt=\"Databricks Learning\" style=\"width: 600px\">\n",
    "</div>"
   ]
  },
  {
   "cell_type": "markdown",
   "metadata": {
    "application/vnd.databricks.v1+cell": {
     "cellMetadata": {},
     "inputWidgets": {},
     "nuid": "f97c98fc-2e83-4b04-8ddc-7d90ec8ef8b6",
     "showTitle": false,
     "title": ""
    }
   },
   "source": [
    "## Variables and Data Types Lab\n",
    "\n",
    "Let's convert EUR to USD and prints the results.\n",
    "\n",
    "To aid you in this, we have identified the cells you need to update with the **TODO** comment and provided a **FILL_IN** place-holder for your own code where appropriate."
   ]
  },
  {
   "cell_type": "markdown",
   "metadata": {
    "application/vnd.databricks.v1+cell": {
     "cellMetadata": {},
     "inputWidgets": {},
     "nuid": "9b575d0d-825b-4da3-beb9-d625ed13903e",
     "showTitle": false,
     "title": ""
    }
   },
   "source": [
    "The current exchange rate as of 14 August 2020 is **1 EUR** to **1.18 USD**.\n",
    "0. Create a variable called **`conversion_rate`** and intialize it to the value of **`1.18`**.\n",
    "\n",
    "This way, if the rate ever changes, we would only need to modify this single line of code and have everything else still work properly!"
   ]
  },
  {
   "cell_type": "code",
   "execution_count": 0,
   "metadata": {
    "application/vnd.databricks.v1+cell": {
     "cellMetadata": {},
     "inputWidgets": {},
     "nuid": "aa9c2543-762f-4d14-b901-6091ed146360",
     "showTitle": false,
     "title": ""
    }
   },
   "outputs": [],
   "source": [
    "# TODO\n",
    "FILL_IN = FILL_IN # Create the variable conversion_rate and assign it the value of 1.18"
   ]
  },
  {
   "cell_type": "markdown",
   "metadata": {
    "application/vnd.databricks.v1+cell": {
     "cellMetadata": {},
     "inputWidgets": {},
     "nuid": "62b72925-d1d3-4b3a-811e-e99843d103a5",
     "showTitle": false,
     "title": ""
    }
   },
   "source": [
    "Write an assertion that verifies **`conversion_rate`** is of type **`float`**."
   ]
  },
  {
   "cell_type": "code",
   "execution_count": 0,
   "metadata": {
    "application/vnd.databricks.v1+cell": {
     "cellMetadata": {},
     "inputWidgets": {},
     "nuid": "28c73669-1d2c-4cf5-b7c9-2a4fa450981f",
     "showTitle": false,
     "title": ""
    }
   },
   "outputs": [],
   "source": [
    "# TODO\n",
    "# Assert that your variable is of the correct type\n",
    "assert FILL_IN == FILL_IN, FILL_IN"
   ]
  },
  {
   "cell_type": "markdown",
   "metadata": {
    "application/vnd.databricks.v1+cell": {
     "cellMetadata": {},
     "inputWidgets": {},
     "nuid": "57d637fa-10ff-4345-8602-1c9b87dd1dbd",
     "showTitle": false,
     "title": ""
    }
   },
   "source": [
    "Given that we have 567 EUR, compute what the corresponding amount should be in USD.\n",
    "0. Create the variable **`euro_amount`** and assign it the value **`567`**.\n",
    "0. Assign the result of the computation to the variable **`usd_amount`**.\n",
    "\n",
    "Make sure you to use the variable **`conversion_rate`** in your computation and not the hard coded value **`1.18`**."
   ]
  },
  {
   "cell_type": "code",
   "execution_count": 0,
   "metadata": {
    "application/vnd.databricks.v1+cell": {
     "cellMetadata": {},
     "inputWidgets": {},
     "nuid": "2f3a6265-8507-4d76-abd5-3fe6780c1d5e",
     "showTitle": false,
     "title": ""
    }
   },
   "outputs": [],
   "source": [
    "# TODO\n",
    "FILL_IN = FILL_IN # Create the variable euro_amount and assign it the value of 567\n",
    "FILL_IN = FILL_IN # Assign the result of the computation to usd_amount\n",
    "\n",
    "# Test your solution\n",
    "assert usd_amount == 669.06, \"Incorrect amount.\""
   ]
  },
  {
   "cell_type": "markdown",
   "metadata": {
    "application/vnd.databricks.v1+cell": {
     "cellMetadata": {},
     "inputWidgets": {},
     "nuid": "a3e2610b-ca2a-473d-a6cb-8d906e732a70",
     "showTitle": false,
     "title": ""
    }
   },
   "source": [
    "Using **`euro_amount`** and **`usd_amount`**, print your results.\n",
    "0. Create a new f-string using this template: **`{} Euros is equal to ${} USD`**\n",
    "1. Print that new string to the console\n",
    "\n",
    "Hint: This can be comleted in one or two lines of code"
   ]
  },
  {
   "cell_type": "code",
   "execution_count": 0,
   "metadata": {
    "application/vnd.databricks.v1+cell": {
     "cellMetadata": {},
     "inputWidgets": {},
     "nuid": "0f7089d2-fad0-463a-bba1-48049ab69806",
     "showTitle": false,
     "title": ""
    }
   },
   "outputs": [],
   "source": [
    "# TODO\n",
    "print(FILL_IN)"
   ]
  },
  {
   "cell_type": "markdown",
   "metadata": {
    "application/vnd.databricks.v1+cell": {
     "cellMetadata": {},
     "inputWidgets": {},
     "nuid": "d29f03c4-0d86-4684-bf15-210fef5ac442",
     "showTitle": false,
     "title": ""
    }
   },
   "source": [
    "&copy; 2020 Databricks, Inc. All rights reserved.<br/>\n",
    "Apache, Apache Spark, Spark and the Spark logo are trademarks of the <a href=\"http://www.apache.org/\">Apache Software Foundation</a>.<br/>\n",
    "<br/>\n",
    "<a href=\"https://databricks.com/privacy-policy\">Privacy Policy</a> | <a href=\"https://databricks.com/terms-of-use\">Terms of Use</a> | <a href=\"http://help.databricks.com/\">Support</a>"
   ]
  }
 ],
 "metadata": {
  "application/vnd.databricks.v1+notebook": {
   "dashboards": [],
   "language": "python",
   "notebookMetadata": {
    "pythonIndentUnit": 2
   },
   "notebookName": "JEP 02L - Variables and Data Types Lab",
   "widgets": {}
  }
 },
 "nbformat": 4,
 "nbformat_minor": 0
}
