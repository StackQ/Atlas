{
 "cells": [
  {
   "cell_type": "markdown",
   "metadata": {
    "application/vnd.databricks.v1+cell": {
     "cellMetadata": {},
     "inputWidgets": {},
     "nuid": "54117d68-df6e-4f40-ac35-82ecafb6e956",
     "showTitle": false,
     "title": ""
    }
   },
   "source": [
    "\n",
    "<div style=\"text-align: center; line-height: 0; padding-top: 9px;\">\n",
    "  <img src=\"https://databricks.com/wp-content/uploads/2018/03/db-academy-rgb-1200px.png\" alt=\"Databricks Learning\" style=\"width: 600px\">\n",
    "</div>"
   ]
  },
  {
   "cell_type": "markdown",
   "metadata": {
    "application/vnd.databricks.v1+cell": {
     "cellMetadata": {},
     "inputWidgets": {},
     "nuid": "8a8decac-7e80-44d9-ad71-c863a16b993b",
     "showTitle": false,
     "title": ""
    }
   },
   "source": [
    "# Collections Lab - Word Count\n",
    "\n",
    "Write a function that accepts a list of values and returns a dictionary with a count of the number of times each unique value appeared in the list.\n",
    "0. The name of the function should be **`item_count`**\n",
    "0. The function should have one parameter that is a list of values.\n",
    "0. The function should return a diction where:\n",
    "  * The dictionary-key is the original value from the list\n",
    "  * The dictionary-value is the number of times the corresponding value appeared in the list.\n",
    "\n",
    "For example, **`item_count(['a', 'b', 'a'])`** should return the dictionary **`{'a': 2, 'b': 1}`**\n",
    "\n",
    "Hint: For every value, you will need to first test the dictionary to see if you already have a count for that value or not."
   ]
  },
  {
   "cell_type": "code",
   "execution_count": 0,
   "metadata": {
    "application/vnd.databricks.v1+cell": {
     "cellMetadata": {},
     "inputWidgets": {},
     "nuid": "030a511c-f348-4af1-8c56-a0b11cb3167d",
     "showTitle": false,
     "title": ""
    }
   },
   "outputs": [],
   "source": [
    "# TODO\n",
    "def FILL_IN(input)\n",
    "  output = {}          # Initialize an empty dictionary\n",
    "  \n",
    "  for item in input:   # Iterate over the list of values\n",
    "    FILL_IN            # Update the dictionary\n",
    "      \n",
    "  return output        # Return the dictionary"
   ]
  },
  {
   "cell_type": "markdown",
   "metadata": {
    "application/vnd.databricks.v1+cell": {
     "cellMetadata": {},
     "inputWidgets": {},
     "nuid": "7d77b093-aac3-4d1e-9319-002685fe06a5",
     "showTitle": false,
     "title": ""
    }
   },
   "source": [
    "##![Spark Logo Tiny](https://s3-us-west-2.amazonaws.com/curriculum-release/images/105/logo_spark_tiny.png) Validate Your Answer\n",
    "\n",
    "Once you have implemented and executed your solution, run the following cell to confirm that it produces correct results.\n",
    "\n",
    "It should not raise any errors if you implemented the function correctly."
   ]
  },
  {
   "cell_type": "code",
   "execution_count": 0,
   "metadata": {
    "application/vnd.databricks.v1+cell": {
     "cellMetadata": {},
     "inputWidgets": {},
     "nuid": "ddedd8c2-db51-4473-ba59-d7a3e081f9a5",
     "showTitle": false,
     "title": ""
    }
   },
   "outputs": [],
   "source": [
    "empty_list = []\n",
    "empty_count_result = {}\n",
    "assert item_count(empty_list) == empty_count_result\n",
    "\n",
    "breakfast_list = [\"pancake\", \"egg\", \"egg\", \"pancake\", \"coffee\", \"pancake\"]\n",
    "breakfast_count_result = {\"pancake\": 3, \"egg\": 2, \"coffee\": 1, }\n",
    "assert item_count(breakfast_list) == breakfast_count_result\n",
    "\n",
    "print(\"Congratulations! All tests passed.\")"
   ]
  },
  {
   "cell_type": "markdown",
   "metadata": {
    "application/vnd.databricks.v1+cell": {
     "cellMetadata": {},
     "inputWidgets": {},
     "nuid": "1a42eb4a-947a-44eb-9263-a769cc5328bd",
     "showTitle": false,
     "title": ""
    }
   },
   "source": [
    "&copy; 2020 Databricks, Inc. All rights reserved.<br/>\n",
    "Apache, Apache Spark, Spark and the Spark logo are trademarks of the <a href=\"http://www.apache.org/\">Apache Software Foundation</a>.<br/>\n",
    "<br/>\n",
    "<a href=\"https://databricks.com/privacy-policy\">Privacy Policy</a> | <a href=\"https://databricks.com/terms-of-use\">Terms of Use</a> | <a href=\"http://help.databricks.com/\">Support</a>"
   ]
  }
 ],
 "metadata": {
  "application/vnd.databricks.v1+notebook": {
   "dashboards": [],
   "language": "python",
   "notebookMetadata": {
    "pythonIndentUnit": 2
   },
   "notebookName": "JEP 05L - Collections Lab",
   "widgets": {}
  }
 },
 "nbformat": 4,
 "nbformat_minor": 0
}
