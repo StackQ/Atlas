{
 "cells": [
  {
   "cell_type": "code",
   "execution_count": 2,
   "metadata": {},
   "outputs": [
    {
     "name": "stdout",
     "output_type": "stream",
     "text": [
      "131255531209072 131255531209232\n"
     ]
    }
   ],
   "source": [
    "a=5\n",
    "b=10\n",
    "print(id(a), id(b))"
   ]
  },
  {
   "cell_type": "code",
   "execution_count": null,
   "metadata": {},
   "outputs": [],
   "source": []
  },
  {
   "cell_type": "code",
   "execution_count": null,
   "metadata": {},
   "outputs": [],
   "source": []
  },
  {
   "cell_type": "markdown",
   "metadata": {},
   "source": [
    "##### **1. Missing Number**\n",
    "Write a function to find the missing number in a given integer array of 1 to 100. The function takes to parameter the array and the number of elements that needs to be in array.  For example if we want to find missing number from 1 to 6 the second parameter will be 6.\n",
    "\n",
    "*Example*: missing_number([1, 2, 3, 4, 6], 6) # 5"
   ]
  },
  {
   "cell_type": "code",
   "execution_count": null,
   "metadata": {},
   "outputs": [],
   "source": [
    "def missing_number(arr, n):\n",
    "    all_numbers = range(0,n+1)\n",
    "    "
   ]
  },
  {
   "cell_type": "code",
   "execution_count": null,
   "metadata": {},
   "outputs": [],
   "source": [
    "n=6\n",
    "all_numbers = range(0,n+1)\n",
    "for val in all_numbers:\n",
    "    print(val)"
   ]
  },
  {
   "cell_type": "code",
   "execution_count": 2,
   "metadata": {},
   "outputs": [],
   "source": [
    "array=[3,5,-4,8,11,1,-1,6]\n",
    "targetSum=10"
   ]
  },
  {
   "cell_type": "code",
   "execution_count": null,
   "metadata": {},
   "outputs": [],
   "source": [
    "[val for val in set(array) if targetSum - val in set(array) and targetSum-val != val]"
   ]
  },
  {
   "cell_type": "code",
   "execution_count": null,
   "metadata": {},
   "outputs": [],
   "source": [
    "for current in range(len(array)):\n",
    "    for next in range(current+1, len(array)-1):\n",
    "        if array[current]+array[next] == targetSum:\n",
    "            print([array[current], array[next]])"
   ]
  },
  {
   "cell_type": "code",
   "execution_count": 4,
   "metadata": {},
   "outputs": [
    {
     "name": "stdout",
     "output_type": "stream",
     "text": [
      "-1 11\n"
     ]
    }
   ],
   "source": [
    "array.sort()\n",
    "leftPointer=0\n",
    "rightPointer=len(array)-1\n",
    "\n",
    "while leftPointer < rightPointer:\n",
    "    currentSum = array[leftPointer]+array[rightPointer]\n",
    "    if currentSum==targetSum:\n",
    "        print(array[leftPointer],array[rightPointer])\n",
    "        break\n",
    "    elif currentSum < targetSum:\n",
    "        leftPointer+=1\n",
    "    elif currentSum > targetSum:\n",
    "        rightPointer-=1"
   ]
  },
  {
   "cell_type": "code",
   "execution_count": 15,
   "metadata": {},
   "outputs": [
    {
     "data": {
      "text/plain": [
       "True"
      ]
     },
     "execution_count": 15,
     "metadata": {},
     "output_type": "execute_result"
    }
   ],
   "source": [
    "array = [5, 1, 22, 25, 6, -1, 8, 10]\n",
    "sequence = [1, 6, -1, 10]\n",
    "\n",
    "set(array).intersection(sequence) == set(sequence)"
   ]
  },
  {
   "cell_type": "code",
   "execution_count": 22,
   "metadata": {},
   "outputs": [
    {
     "data": {
      "text/plain": [
       "True"
      ]
     },
     "execution_count": 22,
     "metadata": {},
     "output_type": "execute_result"
    }
   ],
   "source": [
    "idxa=0\n",
    "idxs=0\n",
    "\n",
    "while idxa < len(array) and idxs < len(sequence):\n",
    "    if array[idxa] == sequence[idxs]:\n",
    "        idxs += 1\n",
    "    else:\n",
    "        idxa+=1\n",
    "\n",
    "True if idxs == len(sequence) else False"
   ]
  },
  {
   "cell_type": "code",
   "execution_count": 27,
   "metadata": {},
   "outputs": [
    {
     "data": {
      "text/plain": [
       "True"
      ]
     },
     "execution_count": 27,
     "metadata": {},
     "output_type": "execute_result"
    }
   ],
   "source": [
    "seqIdx=0\n",
    "\n",
    "for val in array:\n",
    "    if seqIdx == len(sequence):\n",
    "        break    \n",
    "    if val == sequence[seqIdx]:\n",
    "        seqIdx+=1\n",
    "\n",
    "True if seqIdx == len(sequence) else False"
   ]
  },
  {
   "cell_type": "code",
   "execution_count": 2,
   "metadata": {},
   "outputs": [],
   "source": [
    "competitions=[\n",
    "    ['HTML', 'C#'],\n",
    "    ['C#', 'Python'],\n",
    "    ['Python', 'HTML']\n",
    "]\n",
    "\n",
    "results = [0, 0, 1]"
   ]
  },
  {
   "cell_type": "code",
   "execution_count": 4,
   "metadata": {},
   "outputs": [
    {
     "name": "stdout",
     "output_type": "stream",
     "text": [
      "Python\n"
     ]
    }
   ],
   "source": [
    "points={}\n",
    "for idx, val in enumerate(results):\n",
    "    winning_team = competitions[idx][::-1][val]\n",
    "    points[winning_team] = points[winning_team]+3 if winning_team in points.keys() else 3\n",
    "\n",
    "print(max(points, key=points.get))"
   ]
  },
  {
   "cell_type": "code",
   "execution_count": 3,
   "metadata": {},
   "outputs": [
    {
     "name": "stdout",
     "output_type": "stream",
     "text": [
      "{'C#': 3, 'Python': 6} Python\n"
     ]
    }
   ],
   "source": [
    "points={}\n",
    "max_point=0\n",
    "tournament_winner=None\n",
    "for idx, val in enumerate(results):\n",
    "    winning_team = competitions[idx][::-1][val]\n",
    "    points[winning_team] = points[winning_team]+3 if winning_team in points.keys() else 3\n",
    "    current = points.get(winning_team)\n",
    "    if points.get(winning_team) > max_point:\n",
    "        max_point = points.get(winning_team)\n",
    "        tournament_winner = winning_team\n",
    "\n",
    "print(points, tournament_winner)"
   ]
  },
  {
   "cell_type": "code",
   "execution_count": 17,
   "metadata": {},
   "outputs": [
    {
     "name": "stdout",
     "output_type": "stream",
     "text": [
      "Python\n"
     ]
    }
   ],
   "source": [
    "competitions= [\n",
    "    [\"HTML\", \"C#\"],\n",
    "    [\"C#\", \"Python\"],\n",
    "    [\"Python\", \"HTML\"]\n",
    "  ]\n",
    "results=[0, 0, 1]\n",
    "d={}\n",
    "x=0\n",
    "y=''\n",
    "for i in range(len(competitions)):\n",
    "  if results[i]==0:\n",
    "    d[competitions[i][1]]=d.get(competitions[i][1],0)+3\n",
    "    if d.get(competitions[i][1],0)>x:\n",
    "      x=d.get(competitions[i][1],0)\n",
    "      y=competitions[i][1]\n",
    "  else:\n",
    "    d[competitions[i][0]]=d.get(competitions[i][0],0)+3\n",
    "    if d.get(competitions[i][0],0)>x:\n",
    "      x=d.get(competitions[i][0],0)\n",
    "      y=competitions[i][0]\n",
    "print(y)"
   ]
  },
  {
   "cell_type": "code",
   "execution_count": null,
   "metadata": {},
   "outputs": [],
   "source": [
    "def tournamentWinner(competitions, results):\n",
    "    d={}\n",
    "    d1=('key',-999)\n",
    "    for i in range(len(competitions)):\n",
    "        if results[i]==0:\n",
    "            x=competitions[i][1]\n",
    "            d[x]=d.get(x,0)+3\n",
    "            if d[x]>d1[1]:\n",
    "                d1=(x,d[x])\n",
    "        else:\n",
    "            x=competitions[i][0]\n",
    "            d[x]=d.get(x,0)+3\n",
    "            if d[x]>d1[1]:\n",
    "                d1=(x,d[x])\n",
    "    winner = max(d, key=d.get)\n",
    "    return d1[0]"
   ]
  },
  {
   "cell_type": "code",
   "execution_count": 5,
   "metadata": {},
   "outputs": [],
   "source": [
    "coins=[5,7,1,1,2,3,22]\n",
    "output=20"
   ]
  },
  {
   "cell_type": "code",
   "execution_count": 10,
   "metadata": {},
   "outputs": [],
   "source": [
    "def nonConstructibleChange(coins):\n",
    "    coins.sort()\n",
    "    print(f\"sorted coins={coins}\")\n",
    "    currentChangeCreated = 0\n",
    "    for coin in coins:\n",
    "        print(f\"coin={coin} | change={currentChangeCreated}\")\n",
    "        if coin > currentChangeCreated+1:\n",
    "            return currentChangeCreated+1\n",
    "        \n",
    "        currentChangeCreated += coin\n",
    "\n",
    "    return currentChangeCreated + 1"
   ]
  },
  {
   "cell_type": "code",
   "execution_count": 11,
   "metadata": {},
   "outputs": [
    {
     "name": "stdout",
     "output_type": "stream",
     "text": [
      "sorted coins=[1, 1, 2, 3, 5, 7, 22]\n",
      "coin=1 | change=0\n",
      "coin=1 | change=1\n",
      "coin=2 | change=2\n",
      "coin=3 | change=4\n",
      "coin=5 | change=7\n",
      "coin=7 | change=12\n",
      "coin=22 | change=19\n"
     ]
    },
    {
     "data": {
      "text/plain": [
       "20"
      ]
     },
     "execution_count": 11,
     "metadata": {},
     "output_type": "execute_result"
    }
   ],
   "source": [
    "nonConstructibleChange(coins)"
   ]
  },
  {
   "cell_type": "code",
   "execution_count": 2,
   "metadata": {},
   "outputs": [],
   "source": [
    "matrix1 = [[1,2]]\n",
    "output1 = [[1],[2]]\n",
    "\n",
    "matrix2 = [\n",
    "    [1,2],\n",
    "    [3,4],\n",
    "    [5,6]\n",
    "]\n",
    "output2 = [\n",
    "    [1,3,5],\n",
    "    [2,4,6]\n",
    "]\n",
    "\n",
    "matrix3 = [\n",
    "    [1,2,3],\n",
    "    [4,5,6],\n",
    "    [7,8,9]\n",
    "]\n",
    "output3=[\n",
    "    [1,4,7],\n",
    "    [2,5,8],\n",
    "    [3,6,9]\n",
    "]"
   ]
  },
  {
   "cell_type": "code",
   "execution_count": 12,
   "metadata": {},
   "outputs": [
    {
     "data": {
      "text/plain": [
       "[(1, 3, 5), (2, 4, 6)]"
      ]
     },
     "execution_count": 12,
     "metadata": {},
     "output_type": "execute_result"
    }
   ],
   "source": [
    "list(zip(*matrix2))"
   ]
  },
  {
   "cell_type": "code",
   "execution_count": 4,
   "metadata": {},
   "outputs": [],
   "source": [
    "def transposeMatrix(matrix):\n",
    "    output = []\n",
    "    matrixlen = len(matrix)\n",
    "    collen = len(matrix[0])\n",
    "\n",
    "    for col in range(collen):\n",
    "        tlist=[]\n",
    "        for row in range(matrixlen):\n",
    "            tlist.append(matrix[row][col])\n",
    "        output.append(tlist)\n",
    "\n",
    "    return output"
   ]
  },
  {
   "cell_type": "code",
   "execution_count": 5,
   "metadata": {},
   "outputs": [
    {
     "data": {
      "text/plain": [
       "[[1], [2]]"
      ]
     },
     "execution_count": 5,
     "metadata": {},
     "output_type": "execute_result"
    }
   ],
   "source": [
    "transposeMatrix(matrix1)"
   ]
  },
  {
   "cell_type": "code",
   "execution_count": 6,
   "metadata": {},
   "outputs": [
    {
     "data": {
      "text/plain": [
       "[[1, 3, 5], [2, 4, 6]]"
      ]
     },
     "execution_count": 6,
     "metadata": {},
     "output_type": "execute_result"
    }
   ],
   "source": [
    "transposeMatrix(matrix2)"
   ]
  },
  {
   "cell_type": "code",
   "execution_count": 7,
   "metadata": {},
   "outputs": [
    {
     "data": {
      "text/plain": [
       "[[1, 4, 7], [2, 5, 8], [3, 6, 9]]"
      ]
     },
     "execution_count": 7,
     "metadata": {},
     "output_type": "execute_result"
    }
   ],
   "source": [
    "transposeMatrix(matrix3)"
   ]
  },
  {
   "cell_type": "code",
   "execution_count": 8,
   "metadata": {},
   "outputs": [
    {
     "data": {
      "text/plain": [
       "[[1, 4, 7], [2, 5, 8], [3, 6, 9]]"
      ]
     },
     "execution_count": 8,
     "metadata": {},
     "output_type": "execute_result"
    }
   ],
   "source": [
    "[[matrix3[row][col] for row in range(len(matrix3))] for col in range(len(matrix3[0]))]"
   ]
  },
  {
   "cell_type": "code",
   "execution_count": 9,
   "metadata": {},
   "outputs": [
    {
     "data": {
      "text/plain": [
       "[[1, 3, 5], [2, 4, 6]]"
      ]
     },
     "execution_count": 9,
     "metadata": {},
     "output_type": "execute_result"
    }
   ],
   "source": [
    "[[matrix2[row][col] for row in range(len(matrix2))] for col in range(len(matrix2[0]))]"
   ]
  },
  {
   "cell_type": "code",
   "execution_count": 10,
   "metadata": {},
   "outputs": [
    {
     "data": {
      "text/plain": [
       "[[1], [2]]"
      ]
     },
     "execution_count": 10,
     "metadata": {},
     "output_type": "execute_result"
    }
   ],
   "source": [
    "[[matrix1[row][col] for row in range(len(matrix1))] for col in range(len(matrix1[0]))]"
   ]
  },
  {
   "cell_type": "markdown",
   "metadata": {},
   "source": [
    "## LinkedList"
   ]
  },
  {
   "cell_type": "code",
   "execution_count": 64,
   "metadata": {},
   "outputs": [],
   "source": [
    "class Node:\n",
    "    def __init__(self, value) -> None:\n",
    "        self.value = value\n",
    "        self.next = None\n",
    "\n",
    "class SinglyLinkedList:\n",
    "    def __init__(self) -> None:\n",
    "        self.head = None\n",
    "        self.tail = None\n",
    "        self.length = 0\n",
    "\n",
    "    def __str__(self) -> str:\n",
    "        current_pointer = self.head\n",
    "        result = \"\"\n",
    "\n",
    "        while current_pointer is not None:\n",
    "            result += str(current_pointer.value)\n",
    "            if current_pointer.next is not None:\n",
    "                result += \" -> \"\n",
    "            current_pointer = current_pointer.next\n",
    "\n",
    "        return result\n",
    "    \n",
    "    def append(self, value):\n",
    "        new_node = Node(value)\n",
    "\n",
    "        if self.head is None or self.length == 0:\n",
    "            self.head = new_node\n",
    "            self.tail = new_node\n",
    "        else:\n",
    "            self.tail.next = new_node\n",
    "            self.tail = new_node\n",
    "        self.length += 1\n",
    "\n",
    "    def prepend(self, value):\n",
    "        new_node = Node(value)\n",
    "\n",
    "        if self.head is None or self.length == 0:\n",
    "            self.head = new_node\n",
    "            self.tail = new_node\n",
    "        else:\n",
    "            new_node.next = self.head\n",
    "            self.head = new_node\n",
    "        self.length += 1\n",
    "\n",
    "    def insert(self, index, value):\n",
    "        new_node = Node(value)\n",
    "        current_pointer = self.head\n",
    "\n",
    "        for _ in range(index-1):\n",
    "            current_pointer = current_pointer.next\n",
    "        new_node.next = current_pointer.next\n",
    "        current_pointer.next = new_node\n",
    "        self.length += 1"
   ]
  },
  {
   "cell_type": "code",
   "execution_count": 91,
   "metadata": {},
   "outputs": [
    {
     "name": "stdout",
     "output_type": "stream",
     "text": [
      "\n"
     ]
    }
   ],
   "source": [
    "sll = SinglyLinkedList()\n",
    "print(sll)"
   ]
  },
  {
   "cell_type": "code",
   "execution_count": 92,
   "metadata": {},
   "outputs": [
    {
     "name": "stdout",
     "output_type": "stream",
     "text": [
      "10 -> 20 -> 30 -> 40 -> 50 -> 60\n"
     ]
    }
   ],
   "source": [
    "sll.prepend(10)\n",
    "sll.append(20)\n",
    "sll.append(30)\n",
    "sll.append(40)\n",
    "sll.append(60)\n",
    "sll.insert(4,50)\n",
    "print(sll)"
   ]
  },
  {
   "cell_type": "code",
   "execution_count": 48,
   "metadata": {},
   "outputs": [
    {
     "name": "stdout",
     "output_type": "stream",
     "text": [
      "1 -> 1 -> 3 -> 4 -> 4 -> 4 -> 5 -> 6 -> 6\n"
     ]
    }
   ],
   "source": [
    "duplicate_sll = SinglyLinkedList()\n",
    "duplicate_sll.prepend(1)\n",
    "duplicate_sll.prepend(1)\n",
    "duplicate_sll.append(3)\n",
    "duplicate_sll.append(4)\n",
    "duplicate_sll.append(4)\n",
    "duplicate_sll.append(4)\n",
    "duplicate_sll.append(5)\n",
    "duplicate_sll.append(6)\n",
    "duplicate_sll.append(6)\n",
    "\n",
    "print(duplicate_sll)"
   ]
  },
  {
   "cell_type": "code",
   "execution_count": 49,
   "metadata": {},
   "outputs": [],
   "source": [
    "def removeDuplicatesFromLinkedList(linkedList):\n",
    "    # Write your code here.\n",
    "    current_pointer = linkedList.head\n",
    "\n",
    "    while current_pointer.next is not None:\n",
    "        if current_pointer.value == current_pointer.next.value:\n",
    "            current_pointer.next = current_pointer.next.next\n",
    "            linkedList.length -= 1\n",
    "        else:\n",
    "            current_pointer = current_pointer.next\n",
    "\n",
    "    return linkedList"
   ]
  },
  {
   "cell_type": "code",
   "execution_count": 50,
   "metadata": {},
   "outputs": [
    {
     "name": "stdout",
     "output_type": "stream",
     "text": [
      "Before :: 1 -> 1 -> 3 -> 4 -> 4 -> 4 -> 5 -> 6 -> 6\n",
      "After  :: 1 -> 3 -> 4 -> 5 -> 6\n"
     ]
    }
   ],
   "source": [
    "print(f\"Before :: {duplicate_sll}\")\n",
    "print(f\"After  :: {removeDuplicatesFromLinkedList(duplicate_sll)}\")"
   ]
  },
  {
   "cell_type": "code",
   "execution_count": 52,
   "metadata": {},
   "outputs": [
    {
     "data": {
      "text/plain": [
       "5"
      ]
     },
     "execution_count": 52,
     "metadata": {},
     "output_type": "execute_result"
    }
   ],
   "source": [
    "duplicate_sll.length"
   ]
  },
  {
   "cell_type": "code",
   "execution_count": 61,
   "metadata": {},
   "outputs": [],
   "source": [
    "def middleNode(linkedlist: SinglyLinkedList):\n",
    "    sll_len = linkedlist.length\n",
    "    middle = int(sll_len/2 + 1)\n",
    "    t_node = linkedlist.head\n",
    "\n",
    "    for _ in range(middle-1):\n",
    "        t_node = t_node.next\n",
    "    \n",
    "    print(f\"linked list = {linkedlist}\")\n",
    "    print(f\"middle Node value = {t_node.value}\")"
   ]
  },
  {
   "cell_type": "code",
   "execution_count": 62,
   "metadata": {},
   "outputs": [
    {
     "name": "stdout",
     "output_type": "stream",
     "text": [
      "linked list = 1 -> 3 -> 4 -> 5 -> 6\n",
      "middle Node value = 4\n"
     ]
    }
   ],
   "source": [
    "middleNode(duplicate_sll)"
   ]
  },
  {
   "cell_type": "code",
   "execution_count": 67,
   "metadata": {},
   "outputs": [
    {
     "name": "stdout",
     "output_type": "stream",
     "text": [
      "linked list = 10 -> 20 -> 30 -> 40 -> 50 -> 60\n",
      "middle Node value = 40\n"
     ]
    }
   ],
   "source": [
    "middleNode(sll)"
   ]
  },
  {
   "cell_type": "code",
   "execution_count": 69,
   "metadata": {},
   "outputs": [
    {
     "data": {
      "text/plain": [
       "5.0"
      ]
     },
     "execution_count": 69,
     "metadata": {},
     "output_type": "execute_result"
    }
   ],
   "source": [
    "10/2"
   ]
  },
  {
   "cell_type": "code",
   "execution_count": 72,
   "metadata": {},
   "outputs": [],
   "source": [
    "def middleNode_v2(linkedList: SinglyLinkedList):\n",
    "    t_node = linkedList.head\n",
    "    len = 0\n",
    "    midNode = linkedList.head\n",
    "\n",
    "    while t_node is not None:\n",
    "        len += 1\n",
    "        t_node = t_node.next\n",
    "\n",
    "    for _ in range(len // 2):\n",
    "        midNode = midNode.next\n",
    "    \n",
    "    print(linkedList)\n",
    "    print(midNode.value)"
   ]
  },
  {
   "cell_type": "code",
   "execution_count": 80,
   "metadata": {},
   "outputs": [
    {
     "name": "stdout",
     "output_type": "stream",
     "text": [
      "1 -> 3 -> 4 -> 5 -> 6\n",
      "4\n",
      "10 -> 20 -> 30 -> 40 -> 50 -> 60\n",
      "40\n"
     ]
    }
   ],
   "source": [
    "middleNode_v2(duplicate_sll)\n",
    "\n",
    "middleNode_v2(sll)"
   ]
  },
  {
   "cell_type": "code",
   "execution_count": 105,
   "metadata": {},
   "outputs": [],
   "source": [
    "def middleNode_v3(linkedList: SinglyLinkedList):\n",
    "    slowNode = linkedList.head\n",
    "    fastNode = linkedList.head\n",
    "    print(linkedList)\n",
    "\n",
    "    while fastNode and fastNode.next is not None:\n",
    "        print(f\"slowNode :: {slowNode.value} | fastNode :: {fastNode.value}\")\n",
    "        slowNode = slowNode.next\n",
    "        fastNode = fastNode.next.next\n",
    "\n",
    "    print(f\"middleNode :: {slowNode.value}\")"
   ]
  },
  {
   "cell_type": "code",
   "execution_count": 106,
   "metadata": {},
   "outputs": [
    {
     "name": "stdout",
     "output_type": "stream",
     "text": [
      "1 -> 3 -> 4 -> 5 -> 6\n",
      "slowNode :: 1 | fastNode :: 1\n",
      "slowNode :: 3 | fastNode :: 4\n",
      "middleNode :: 4\n"
     ]
    }
   ],
   "source": [
    "middleNode_v3(duplicate_sll)"
   ]
  },
  {
   "cell_type": "code",
   "execution_count": 107,
   "metadata": {},
   "outputs": [
    {
     "name": "stdout",
     "output_type": "stream",
     "text": [
      "10 -> 20 -> 30 -> 40 -> 50 -> 60\n",
      "slowNode :: 10 | fastNode :: 10\n",
      "slowNode :: 20 | fastNode :: 30\n",
      "slowNode :: 30 | fastNode :: 50\n",
      "middleNode :: 40\n"
     ]
    }
   ],
   "source": [
    "middleNode_v3(sll)"
   ]
  },
  {
   "cell_type": "markdown",
   "metadata": {},
   "source": [
    "#### Doubly Linked List"
   ]
  },
  {
   "cell_type": "code",
   "execution_count": null,
   "metadata": {},
   "outputs": [],
   "source": []
  },
  {
   "cell_type": "code",
   "execution_count": null,
   "metadata": {},
   "outputs": [],
   "source": [
    "[\"NumArray\", \"sumRange\", \"sumRange\", \"sumRange\"]\n",
    "[[[-2, 0, 3, -5, 2, -1]], [0, 2], [2, 5], [0, 5]]\n",
    "Output\n",
    "[null, 1, -1, -3]"
   ]
  },
  {
   "cell_type": "code",
   "execution_count": null,
   "metadata": {},
   "outputs": [],
   "source": [
    "[-2, 0, 3, -5, 2, -1]\n",
    "\n",
    "[-2, -2, 1, -4, -2, -3]\n",
    "\n",
    "P[j] - P[i-1] = P[2] - P[-1]\n",
    "case1 (2,0) : 1-(-1)\n",
    "CASE  (5,2) : -3-(-2) = -3+2 = -1\n",
    "CASE  (5,0) : -3-(-2) = -3+2 = -1"
   ]
  },
  {
   "cell_type": "markdown",
   "metadata": {},
   "source": []
  },
  {
   "cell_type": "code",
   "execution_count": null,
   "metadata": {},
   "outputs": [],
   "source": []
  }
 ],
 "metadata": {
  "kernelspec": {
   "display_name": "Python 3",
   "language": "python",
   "name": "python3"
  },
  "language_info": {
   "codemirror_mode": {
    "name": "ipython",
    "version": 3
   },
   "file_extension": ".py",
   "mimetype": "text/x-python",
   "name": "python",
   "nbconvert_exporter": "python",
   "pygments_lexer": "ipython3",
   "version": "3.10.13"
  }
 },
 "nbformat": 4,
 "nbformat_minor": 2
}
