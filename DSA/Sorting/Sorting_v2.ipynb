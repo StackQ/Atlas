{
 "cells": [
  {
   "cell_type": "markdown",
   "metadata": {},
   "source": [
    "## Bubble Sort"
   ]
  },
  {
   "cell_type": "code",
   "execution_count": 7,
   "metadata": {},
   "outputs": [
    {
     "name": "stdout",
     "output_type": "stream",
     "text": [
      "output=[1, 2, 3, 4, 5, 6] | dummyCounter=1\n",
      "output=[2, 3, 5, 5, 6, 8, 9] | dummyCounter=6\n",
      "output=[2, 5, 8, 9, 10, 11, 12] | dummyCounter=3\n",
      "output=[1, 2, 5, 8, 9, 10, 11, 12] | dummyCounter=8\n"
     ]
    }
   ],
   "source": [
    "from typing import List\n",
    "\n",
    "def bubble_sort(inputArray: List) -> List:\n",
    "    dummyCounter = 0 #for myself just to check in-case of sorted how many times while loop ran\n",
    "    is_sorted = False\n",
    "\n",
    "    while not is_sorted:\n",
    "        is_sorted = True\n",
    "        for idx in range(len(inputArray)-1): #-1 coz at the end of comparison we will go till second last to compare with last\n",
    "            if inputArray[idx] > inputArray[idx+1]:\n",
    "                inputArray[idx], inputArray[idx+1] = inputArray[idx+1], inputArray[idx]\n",
    "                is_sorted = False\n",
    "        dummyCounter += 1\n",
    "\n",
    "    print(f\"output={inputArray} | dummyCounter={dummyCounter}\")\n",
    "    #return inputArray\n",
    "\n",
    "bubble_sort([1,2,3,4,5,6])  #so when input is already sorted it won't take O(n^2)\n",
    "\n",
    "bubble_sort([8,5,2,9,5,6,3])\n",
    "\n",
    "bubble_sort([8,5,2,9,10,11,12])\n",
    "\n",
    "bubble_sort([8,5,2,9,10,11,12, 1])"
   ]
  },
  {
   "cell_type": "code",
   "execution_count": 10,
   "metadata": {},
   "outputs": [
    {
     "name": "stdout",
     "output_type": "stream",
     "text": [
      "output=[1, 2, 3, 4, 5, 6]\n",
      "output=[2, 3, 5, 5, 6, 8, 9]\n",
      "output=[2, 5, 8, 9, 10, 11, 12]\n",
      "output=[1, 2, 5, 8, 9, 10, 11, 12]\n"
     ]
    }
   ],
   "source": [
    "# Program if we consider inputArray is never sorted \n",
    "\n",
    "from typing import List\n",
    "\n",
    "def bubble_sort(inputArray: List) -> List:\n",
    "    for static_idx in range(len(inputArray)-1):         #-1 coz at the end of comparison we will go till second last to compare with last\n",
    "        for idx in range(len(inputArray)-1-static_idx):\n",
    "            if inputArray[idx] > inputArray[idx+1]:\n",
    "                inputArray[idx], inputArray[idx+1] = inputArray[idx+1], inputArray[idx]\n",
    "\n",
    "    print(f\"output={inputArray}\")\n",
    "    #return inputArray\n",
    "\n",
    "bubble_sort([1,2,3,4,5,6]) \n",
    "\n",
    "bubble_sort([8,5,2,9,5,6,3])\n",
    "\n",
    "bubble_sort([8,5,2,9,10,11,12])\n",
    "\n",
    "bubble_sort([8,5,2,9,10,11,12, 1])    "
   ]
  },
  {
   "cell_type": "markdown",
   "metadata": {},
   "source": [
    "## Insertion Sort"
   ]
  },
  {
   "cell_type": "code",
   "execution_count": null,
   "metadata": {},
   "outputs": [
    {
     "name": "stdout",
     "output_type": "stream",
     "text": [
      "output=[1, 2, 3, 4, 5, 6]\n",
      "output=[2, 3, 5, 5, 6, 8, 9]\n",
      "output=[2, 5, 8, 9, 10, 11, 12]\n",
      "output=[1, 2, 5, 8, 9, 10, 11, 12]\n"
     ]
    }
   ],
   "source": [
    "#Best: O(n) time | O(1) space\n",
    "#Average: O(n^2) | O(1) space\n",
    "#Worst: O(n^2) | O(1) space\n",
    "\n",
    "def insertionSort(inputArray):\n",
    "    for idx in range(1, len(inputArray)):\n",
    "        while idx >0 and inputArray[idx] < inputArray[idx-1]:\n",
    "            inputArray[idx-1], inputArray[idx] = inputArray[idx], inputArray[idx-1]\n",
    "            idx -= 1 \n",
    "\n",
    "    print(f\"output={inputArray}\")\n",
    "    #return inputArray\n",
    "\n",
    "insertionSort([1,2,3,4,5,6])\n",
    "\n",
    "insertionSort([8,5,2,9,5,6,3])\n",
    "\n",
    "insertionSort([8,5,2,9,10,11,12])\n",
    "\n",
    "insertionSort([8,5,2,9,10,11,12, 1])    "
   ]
  },
  {
   "cell_type": "markdown",
   "metadata": {},
   "source": [
    "## Selection Sort"
   ]
  },
  {
   "cell_type": "code",
   "execution_count": 27,
   "metadata": {},
   "outputs": [
    {
     "name": "stdout",
     "output_type": "stream",
     "text": [
      "output=[1, 2, 3, 4, 5, 6]\n",
      "output=[2, 3, 5, 5, 6, 8, 9]\n",
      "output=[2, 5, 8, 9, 10, 11, 12]\n",
      "output=[1, 2, 5, 8, 9, 10, 11, 12]\n",
      "output=[2, 3, 5, 5, 6, 8, 9]\n"
     ]
    }
   ],
   "source": [
    "def selectionSort(inputArray):\n",
    "\n",
    "    for idx in range(len(inputArray)):\n",
    "        # Assume the first element of the unsorted portion is the minimum\n",
    "        current_min_idx = idx\n",
    "\n",
    "        # Iterate through the unsorted portion of the array\n",
    "        for j in range(idx+1, len(inputArray)):\n",
    "            if inputArray[j] < inputArray[current_min_idx]:\n",
    "                current_min_idx = j                             # Update min_index if a smaller element is found\n",
    "\n",
    "        # Swap the found minimum element with the first element of the unsorted portion        \n",
    "        inputArray[idx], inputArray[current_min_idx] = inputArray[current_min_idx], inputArray[idx]\n",
    "\n",
    "    print(f\"output={inputArray}\")\n",
    "    #return inputArray\n",
    "\n",
    "selectionSort([1,2,3,4,5,6])\n",
    "\n",
    "selectionSort([8,5,2,9,5,6,3])\n",
    "\n",
    "selectionSort([8,5,2,9,10,11,12])\n",
    "\n",
    "insertionSort([8,5,2,9,10,11,12, 1])      \n",
    "\n",
    "selectionSort([8, 5, 2, 9, 5, 6, 3]) "
   ]
  },
  {
   "cell_type": "markdown",
   "metadata": {},
   "source": [
    "## Three Number Sort"
   ]
  },
  {
   "cell_type": "markdown",
   "metadata": {},
   "source": [
    "You're given an array of integers and another array of three distinct integers. The first array is guaranteed to only contain integers that are in the second array, and the second array represents a desired order for the integers in the first array. For example, a second array of [x, y, z] represents a desired order of [x, x, ..., x, y, y, ..., y, z, z, ..., z] in the first array.\n",
    "\n",
    "Write a function that sorts the first array according to the desired order in the second array.\n",
    "\n",
    "The function should perform this in place (i.e., it should mutate the input array), and it shouldn't use any auxiliary space (i.e., it should run with constant space: O(1) space).\n",
    "\n",
    "Note that the desired order won't necessarily be ascending or descending and that the first array won't necessarily contain all three integers found in the second array—it might only contain one or two.\n",
    "\n",
    "Sample Input  \n",
    "array = [1, 0, 0, -1, -1, 0, 1, 1]  \n",
    "order = [0, 1, -1]  \n",
    "Sample Output  \n",
    "[0, 0, 0, 1, 1, 1, -1, -1]  "
   ]
  },
  {
   "cell_type": "code",
   "execution_count": null,
   "metadata": {},
   "outputs": [
    {
     "name": "stdout",
     "output_type": "stream",
     "text": [
      "output=[0, 0, 0, 1, 1, 1, -1, -1]\n",
      "output=[-2, -2, -2, -3, -3, -3, -3, -3, -3]\n",
      "output=[]\n",
      "output=[6, 6, 6, 6, 6, 6, 6, 6, 6, 6, 6, 6]\n"
     ]
    }
   ],
   "source": [
    "#self\n",
    "def threeNumberSort(array, order):\n",
    "    mapCount = {}\n",
    "\n",
    "    for val in array:\n",
    "        mapCount[val] = mapCount.get(val, 0) + 1\n",
    "\n",
    "    idx_counter = 0\n",
    "    for val in order:\n",
    "        for idx in range(mapCount.get(val,0)):\n",
    "            array[idx_counter] = val\n",
    "            idx_counter += 1\n",
    "\n",
    "    print(f\"output={array}\")\n",
    "\n",
    "threeNumberSort(array = [1, 0, 0, -1, -1, 0, 1, 1], order = [0, 1, -1])\n",
    "threeNumberSort(array = [-2, -3, -3, -3, -3, -3, -2, -2, -3], order = [-2, -3, 0])\n",
    "threeNumberSort(array = [], order = [0, 7, 9])\n",
    "threeNumberSort(array = [6, 6, 6, 6, 6, 6, 6, 6, 6, 6, 6, 6], order = [4, 5, 6])"
   ]
  },
  {
   "cell_type": "code",
   "execution_count": null,
   "metadata": {},
   "outputs": [
    {
     "name": "stdout",
     "output_type": "stream",
     "text": [
      "output=[0, 0, 0, 1, 1, 1, -1, -1]\n",
      "output=[-2, -2, -2, -3, -3, -3, -3, -3, -3]\n",
      "output=[]\n",
      "output=[6, 6, 6, 6, 6, 6, 6, 6, 6, 6, 6, 6]\n"
     ]
    }
   ],
   "source": [
    "#from Solutions\n",
    "def threeNumberSort(array, order):\n",
    "    counts = [0,0,0]\n",
    "\n",
    "    for elem in array:\n",
    "        orderIdx = order.index(elem)\n",
    "        counts[orderIdx] += 1\n",
    "\n",
    "    arrayIdx = 0\n",
    "    for idx, count in enumerate(counts):\n",
    "        for i in range(count):\n",
    "            array[arrayIdx] = order[idx]\n",
    "            arrayIdx += 1\n",
    "    \n",
    "    print(f\"output={array}\")\n",
    "\n",
    "threeNumberSort(array = [1, 0, 0, -1, -1, 0, 1, 1], order = [0, 1, -1])\n",
    "threeNumberSort(array = [-2, -3, -3, -3, -3, -3, -2, -2, -3], order = [-2, -3, 0])\n",
    "threeNumberSort(array = [], order = [0, 7, 9])\n",
    "threeNumberSort(array = [6, 6, 6, 6, 6, 6, 6, 6, 6, 6, 6, 6], order = [4, 5, 6])    "
   ]
  },
  {
   "cell_type": "markdown",
   "metadata": {},
   "source": [
    "## Quick Sort"
   ]
  },
  {
   "cell_type": "markdown",
   "metadata": {},
   "source": [
    "Write a function that takes in an array of integers and returns a sorted version of that array. Use the Quick Sort algorithm to sort the array.\n",
    "\n",
    "If you're unfamiliar with Quick Sort, we recommend watching the Conceptual Overview section of this question's video explanation before starting to code.\n",
    "\n",
    "Sample Input  \n",
    "array = [8, 5, 2, 9, 5, 6, 3]  \n",
    "Sample Output  \n",
    "[2, 3, 5, 5, 6, 8, 9]  "
   ]
  },
  {
   "cell_type": "code",
   "execution_count": 2,
   "metadata": {},
   "outputs": [
    {
     "data": {
      "text/plain": [
       "[2, 3, 5, 5, 6, 8, 9]"
      ]
     },
     "execution_count": 2,
     "metadata": {},
     "output_type": "execute_result"
    }
   ],
   "source": [
    "#Best Case : O(nlog n) : when partitiong is happening on middle element\n",
    "#Worst Case : O(n^2)\n",
    "#Avg Case : O(n log n)\n",
    "def quickSort(array):\n",
    "    if len(array) <= 1:\n",
    "        return array\n",
    "    \n",
    "    pivot = array[len(array) // 2]\n",
    "    left = [val for val in array if val < pivot]\n",
    "    middle = [val for val in array if val == pivot]   \n",
    "    right = [val for val in array if val > pivot]   \n",
    "\n",
    "    return quickSort(left) + middle + quickSort(right)\n",
    "\n",
    "quickSort([8,5,2,9,5,6,3])"
   ]
  },
  {
   "cell_type": "code",
   "execution_count": 30,
   "metadata": {},
   "outputs": [
    {
     "data": {
      "text/plain": [
       "[2, 3, 5, 5, 6, 8, 9]"
      ]
     },
     "execution_count": 30,
     "metadata": {},
     "output_type": "execute_result"
    }
   ],
   "source": [
    "def partition(A, low, high):\n",
    "    pivot = A[low]\n",
    "    i = low + 1\n",
    "    j = high\n",
    "\n",
    "    while True:\n",
    "        while i <= j and A[i] <= pivot:\n",
    "            i += 1\n",
    "        while j >= i and A[j] >= pivot:\n",
    "            j -= 1\n",
    "        if i > j:\n",
    "            break\n",
    "        else:\n",
    "            A[i], A[j] = A[j], A[i]\n",
    "\n",
    "    A[low], A[j] = A[j], A[low]\n",
    "    return j\n",
    "\n",
    "def QuicksortHelper(A, low, high):\n",
    "    if low < high:\n",
    "        p = partition(A, low, high)\n",
    "        QuicksortHelper(A, low, p - 1)\n",
    "        QuicksortHelper(A, p + 1, high)\n",
    "\n",
    "    return A[:-1]\n",
    "\n",
    "def quickSort(array):\n",
    "    array.append(float('inf'))\n",
    "    low = 0\n",
    "    high = len(array)-1\n",
    "    \n",
    "    return QuicksortHelper(array, low, high)\n",
    "\n",
    "\n",
    "quickSort(array = [8,5,2,9,5,6,3])        "
   ]
  },
  {
   "cell_type": "markdown",
   "metadata": {},
   "source": [
    "## Count Sort"
   ]
  },
  {
   "cell_type": "code",
   "execution_count": null,
   "metadata": {},
   "outputs": [
    {
     "name": "stdout",
     "output_type": "stream",
     "text": [
      "[-3, -1, -1, 0, 3, 3, 6, 6, 6, 8, 9, 10, 12, 15]\n"
     ]
    }
   ],
   "source": [
    "#self\n",
    "#fastest but consumes memory\n",
    "#Time : O(n), space : O(m+n) where m+n is linear so = O(n)\n",
    "\n",
    "inputA = [0, 6, 3, -1, 9, 10, -3, 15, 6, -1, 8, 12, 3, 6]\n",
    "\n",
    "def findMax(inputA):\n",
    "    current_max = 0\n",
    "    if len(inputA) > 0:\n",
    "        for val in inputA:\n",
    "            if val > current_max:\n",
    "                current_max = val\n",
    "    return current_max\n",
    "\n",
    "def findMin(inputA):\n",
    "    current_min = 0\n",
    "    if len(inputA) > 0:\n",
    "        for val in inputA:\n",
    "            if val < current_min:\n",
    "                current_min = val\n",
    "    return current_min\n",
    "\n",
    "def countSort(inputA):\n",
    "    min_val = findMin(inputA)\n",
    "    max_val = findMax(inputA)\n",
    "    count_bin = {val: 0 for val in range(min_val, max_val+1)}\n",
    "\n",
    "    #fill count_bin with each bin's/index frequency in inputArray\n",
    "    for v in inputA:\n",
    "        count_bin[v] = count_bin.get(v, 0) + 1\n",
    "\n",
    "    inputA = list()\n",
    "\n",
    "    for k, v in count_bin.items():\n",
    "        for _ in range(v):\n",
    "            inputA.append(k)\n",
    "\n",
    "    print(inputA)\n",
    "\n",
    "countSort(inputA)"
   ]
  },
  {
   "cell_type": "code",
   "execution_count": 22,
   "metadata": {},
   "outputs": [
    {
     "name": "stdout",
     "output_type": "stream",
     "text": [
      "[-3, -1, -1, 0, 3, 3, 6, 6, 6, 8, 9, 10, 12, 15]\n"
     ]
    }
   ],
   "source": [
    "#another self version\n",
    "\n",
    "inputA = [0, 6, 3, -1, 9, 10, -3, 15, 6, -1, 8, 12, 3, 6]\n",
    "\n",
    "def countSort(inputA):\n",
    "    min_val = min(inputA)\n",
    "    max_val = max(inputA)\n",
    "    count_bin = {val: 0 for val in range(min_val, max_val+1)}\n",
    "\n",
    "    #fill count_bin with each bin's/index frequency in inputArray\n",
    "    for v in inputA:\n",
    "        count_bin[v] = count_bin.get(v, 0) + 1\n",
    "\n",
    "    inputA = list()\n",
    "\n",
    "    for k, v in count_bin.items():\n",
    "        for _ in range(v):\n",
    "            inputA.append(k)\n",
    "\n",
    "    print(inputA)\n",
    "\n",
    "countSort(inputA=[-3, -1, -1, 0, 3, 3, 6, 6, 6, 8, 9, 10, 12, 15])"
   ]
  },
  {
   "cell_type": "code",
   "execution_count": null,
   "metadata": {},
   "outputs": [
    {
     "name": "stdout",
     "output_type": "stream",
     "text": [
      "[0, 0, 0, 0, 0, 0, 0, 0, 0]\n",
      "[0, 1, 2, 2, 1, 0, 0, 0, 1]\n",
      "Sorted array: [1, 2, 2, 3, 3, 4, 8]\n",
      "\n",
      "-=-=-=-=-=-=-=-=-=-=when -ve values are there then NOT WORKING\n",
      "\n",
      "[0, 0, 0, 0, 0, 0, 0, 0, 0, 0, 0, 0, 0, 0, 0, 0]\n",
      "[1, 0, 0, 2, 0, 0, 3, 0, 1, 1, 1, 0, 1, 1, 0, 3]\n",
      "Sorted array: [0, 3, 3, 6, 6, 6, 8, 9, 10, 12, 13, 15, 15, 15]\n"
     ]
    }
   ],
   "source": [
    "#using web for +ve ints only\n",
    "def counting_sort(arr):\n",
    "    if not arr:\n",
    "        return arr\n",
    "\n",
    "    # Find the maximum value in the array\n",
    "    max_val = max(arr)\n",
    "    # Create a count array with a size of max_val + 1\n",
    "    count = [0] * (max_val + 1)\n",
    "    print(count)\n",
    "\n",
    "    # Count each element in the input array\n",
    "    for num in arr:\n",
    "        count[num] += 1\n",
    "    print(count)    \n",
    "\n",
    "    # Build the sorted output array\n",
    "    sorted_arr = []\n",
    "    for i, cnt in enumerate(count):\n",
    "        sorted_arr.extend([i] * cnt)\n",
    "\n",
    "    return sorted_arr\n",
    "\n",
    "\n",
    "data = [4, 2, 2, 8, 3, 3, 1]\n",
    "sorted_data = counting_sort(data)\n",
    "print(\"Sorted array:\", sorted_data, end='\\n\\n')\n",
    "\n",
    "print('-='*10+\"when -ve values are there then NOT WORKING\", end='\\n\\n')\n",
    "data = [-3, -1, -1, 0, 3, 3, 6, 6, 6, 8, 9, 10, 12, 15]\n",
    "sorted_data = counting_sort(data)\n",
    "print(\"Sorted array:\", sorted_data)\n"
   ]
  },
  {
   "cell_type": "markdown",
   "metadata": {},
   "source": [
    "## Bin/Bucket Sort\n",
    "\n",
    "similar to count with little diff"
   ]
  },
  {
   "cell_type": "code",
   "execution_count": 53,
   "metadata": {},
   "outputs": [
    {
     "name": "stdout",
     "output_type": "stream",
     "text": [
      "empty init bin = {-3: [], -2: [], -1: [], 0: [], 1: [], 2: [], 3: [], 4: [], 5: [], 6: [], 7: [], 8: [], 9: [], 10: [], 11: [], 12: [], 13: [], 14: [], 15: []}\n",
      "filled bins = {-3: [-3], -2: [], -1: [-1, -1], 0: [0], 1: [], 2: [], 3: [3, 3], 4: [], 5: [], 6: [6, 6, 6], 7: [], 8: [8], 9: [9], 10: [10], 11: [], 12: [12], 13: [], 14: [], 15: [15]}\n",
      "input = [-3, -1, -1, 0, 3, 3, 6, 6, 6, 8, 9, 10, 12, 15] \n",
      "output = [-3, -1, -1, 0, 3, 3, 6, 6, 6, 8, 9, 10, 12, 15]\n"
     ]
    }
   ],
   "source": [
    "#self including -ve numbers\n",
    "\n",
    "inputA = [0, 6, 3, -1, 9, 10, -3, 15, 6, -1, 8, 12, 3, 6]\n",
    "\n",
    "min_val = min(inputA)\n",
    "max_val = max(inputA)\n",
    "map_bins = {key:list() for key in range(min_val, max_val+1)}\n",
    "print(f\"empty init bin = {map_bins}\")\n",
    "\n",
    "#fill above bin\n",
    "for val in inputA:\n",
    "    map_bins[val].append(val)\n",
    "\n",
    "print(f\"filled bins = {map_bins}\")\n",
    "\n",
    "inputA = list()\n",
    "\n",
    "for k, vlist in map_bins.items():\n",
    "    # for data in vlist:\n",
    "    #     inputA.append(data)\n",
    "    # OR\n",
    "    while vlist:\n",
    "        inputA.append(vlist.pop(0))\n",
    "\n",
    "print(f\"input = {inputA} \\noutput = {inputA}\")"
   ]
  },
  {
   "cell_type": "code",
   "execution_count": 51,
   "metadata": {},
   "outputs": [
    {
     "name": "stdout",
     "output_type": "stream",
     "text": [
      "empty bucket=[[], [], [], [], [], [], [], [], [], [], [], [], [], [], [], [], [], [], [], [], [], [], [], [], [], [], [], [], [], [], [], [], [], [], [], [], [], [], [], [], [], [], [], [], [], [], [], [], [], [], [], [], [], [], [], [], [], [], [], [], [], [], [], [], [], [], [], [], [], [], [], [], [], [], [], [], [], [], [], [], [], [], [], [], [], [], [], [], [], [], [], [], [], [], [], [], [], [], [], [], [], [], [], [], [], [], [], [], [], [], [], [], [], [], [], [], [], [], [], [], []] | len=121\n",
      "filled bucket=[[-26], [], [], [], [], [-21, -21], [], [], [], [], [], [], [], [], [], [], [], [], [], [], [], [], [], [], [], [], [], [], [], [], [], [], [], [], [], [], [], [], [], [], [], [], [], [17], [], [], [], [], [], [], [], [], [], [], [], [], [], [], [], [], [], [], [], [], [], [39], [], [], [], [], [], [], [], [], [], [], [], [], [], [], [], [], [], [], [], [], [], [], [], [], [], [], [], [], [], [], [], [], [72], [], [], [], [], [], [78, 78], [], [], [], [82], [], [], [], [], [], [], [], [], [], [], [], [94]] | len=121\n",
      "Sorted array: [-26, -21, -21, 17, 39, 72, 78, 78, 82, 94]\n"
     ]
    }
   ],
   "source": [
    "#web\n",
    "\n",
    "def bucket_sort(arr):\n",
    "    if not arr:\n",
    "        return arr\n",
    "\n",
    "    # Step 1: Find the minimum and maximum values in the array\n",
    "    min_val = min(arr)\n",
    "    max_val = max(arr)\n",
    "\n",
    "    # Step 2: Create empty buckets\n",
    "    bucket_range = max_val - min_val + 1\n",
    "    buckets = [[] for _ in range(bucket_range)]\n",
    "    print(f\"empty bucket={buckets} | len={len(buckets)}\")\n",
    "\n",
    "    # Step 3: Distribute the elements into buckets\n",
    "    for num in arr:\n",
    "        index = num - min_val  # Shift to handle negative numbers\n",
    "        buckets[index].append(num)\n",
    "    print(f\"filled bucket={buckets} | len={len(buckets)}\")        \n",
    "\n",
    "    # Step 4: Sort each bucket and concatenate results\n",
    "    sorted_arr = []\n",
    "    for bucket in buckets:\n",
    "        sorted_arr.extend(sorted(bucket))\n",
    "\n",
    "    return sorted_arr\n",
    "\n",
    "\n",
    "data = [78, 17, 39, -26, 72, 94, 78, -21, 82, -21]\n",
    "sorted_data = bucket_sort(data)\n",
    "print(\"Sorted array:\", sorted_data)"
   ]
  },
  {
   "cell_type": "markdown",
   "metadata": {},
   "source": [
    "## Radix Sort"
   ]
  },
  {
   "cell_type": "code",
   "execution_count": 110,
   "metadata": {},
   "outputs": [
    {
     "ename": "ValueError",
     "evalue": "max() arg is an empty sequence",
     "output_type": "error",
     "traceback": [
      "\u001b[0;31m---------------------------------------------------------------------------\u001b[0m",
      "\u001b[0;31mValueError\u001b[0m                                Traceback (most recent call last)",
      "Cell \u001b[0;32mIn[110], line 1\u001b[0m\n\u001b[0;32m----> 1\u001b[0m countDigits(\u001b[38;5;28;43mmax\u001b[39;49m\u001b[43m(\u001b[49m\u001b[43m[\u001b[49m\u001b[43m]\u001b[49m\u001b[43m)\u001b[49m)\n",
      "\u001b[0;31mValueError\u001b[0m: max() arg is an empty sequence"
     ]
    }
   ],
   "source": [
    "countDigits(max([]))"
   ]
  },
  {
   "cell_type": "code",
   "execution_count": null,
   "metadata": {},
   "outputs": [
    {
     "name": "stdout",
     "output_type": "stream",
     "text": [
      "input =[8762, 654, 3008, 345, 87, 65, 234, 12, 2] | Total passes = 4 | empty_decmial_bin={0: [], 1: [], 2: [], 3: [], 4: [], 5: [], 6: [], 7: [], 8: [], 9: []}\n",
      "\n",
      "iterations::\n",
      "iteration = 1 | divisor = 1 | bin = {0: [], 1: [], 2: [8762, 12, 2], 3: [], 4: [654, 234], 5: [345, 65], 6: [], 7: [87], 8: [3008], 9: []} \n",
      "rearranged array = [8762, 12, 2, 654, 234, 345, 65, 87, 3008]\n",
      "iteration = 2 | divisor = 10 | bin = {0: [2, 3008], 1: [12], 2: [], 3: [234], 4: [345], 5: [654], 6: [8762, 65], 7: [], 8: [87], 9: []} \n",
      "rearranged array = [2, 3008, 12, 234, 345, 654, 8762, 65, 87]\n",
      "iteration = 3 | divisor = 100 | bin = {0: [2, 3008, 12, 65, 87], 1: [], 2: [234], 3: [345], 4: [], 5: [], 6: [654], 7: [8762], 8: [], 9: []} \n",
      "rearranged array = [2, 3008, 12, 65, 87, 234, 345, 654, 8762]\n",
      "iteration = 4 | divisor = 1000 | bin = {0: [2, 12, 65, 87, 234, 345, 654], 1: [], 2: [], 3: [3008], 4: [], 5: [], 6: [], 7: [], 8: [8762], 9: []} \n",
      "rearranged array = [2, 12, 65, 87, 234, 345, 654, 3008, 8762]\n",
      "\n",
      "\n",
      " output = [2, 12, 65, 87, 234, 345, 654, 3008, 8762]\n"
     ]
    }
   ],
   "source": [
    "#Self\n",
    "\n",
    "def countDigits(maxNum: int) -> int:\n",
    "    # count = len(str(maxNum))\n",
    "    # OR\n",
    "    digits = 0\n",
    "    while maxNum != 0:\n",
    "        maxNum = maxNum // 10\n",
    "        digits += 1\n",
    "    return digits\n",
    "\n",
    "def radixSort(array):\n",
    "    if len(array) <= 1:\n",
    "        return array\n",
    "    \n",
    "    decimal_bins = {key:list() for key in range(0,10)}\n",
    "    n_pass = countDigits(max(array))\n",
    "    print(f\"input ={array} | Total passes = {n_pass} | empty_decmial_bin={decimal_bins}\", end='\\n\\niterations::\\n')\n",
    "\n",
    "    divisor = 1\n",
    "    for n in range(1, n_pass+1):\n",
    "        for val in array:\n",
    "            bin_number = (val // divisor) % 10\n",
    "            decimal_bins[bin_number].append(val)\n",
    "\n",
    "        print(f\"iteration = {n} | divisor = {divisor} | bin = {decimal_bins} \")\n",
    "        divisor *= 10\n",
    "        array = list()    \n",
    "\n",
    "        for k, vlist in decimal_bins.items():\n",
    "            while vlist:\n",
    "                array.append(vlist.pop(0))\n",
    "\n",
    "        print(f\"rearranged array = {array}\")\n",
    "\n",
    "    print(f\"\\n\\n output = {array}\")\n",
    "    #return array\n",
    "\n",
    "radixSort(array = [8762, 654, 3008, 345, 87, 65, 234, 12, 2])    "
   ]
  },
  {
   "cell_type": "code",
   "execution_count": null,
   "metadata": {},
   "outputs": [
    {
     "name": "stdout",
     "output_type": "stream",
     "text": [
      "input =[8762, 654, -5, 3008, -92, 345, 87, 65, 234, 12, 2, -112] | Total passes = 4 | empty_decmial_bin={0: [], 1: [], 2: [], 3: [], 4: [], 5: [], 6: [], 7: [], 8: [], 9: []}\n",
      "\n",
      "iterations::\n",
      "iteration = 1 | divisor = 1 | bin = {0: [], 1: [], 2: [8762, 12, 2], 3: [], 4: [654, 234], 5: [-5, 345, 65], 6: [], 7: [87], 8: [3008, -92, -112], 9: []} \n",
      "rearranged array = [8762, 12, 2, 654, 234, -5, 345, 65, 87, 3008, -92, -112]\n",
      "iteration = 2 | divisor = 10 | bin = {0: [2, 3008, -92], 1: [12], 2: [], 3: [234], 4: [345], 5: [654], 6: [8762, 65], 7: [], 8: [87, -112], 9: [-5]} \n",
      "rearranged array = [2, 3008, -92, 12, 234, 345, 654, 8762, 65, 87, -112, -5]\n",
      "iteration = 3 | divisor = 100 | bin = {0: [2, 3008, 12, 65, 87], 1: [], 2: [234], 3: [345], 4: [], 5: [], 6: [654], 7: [8762], 8: [-112], 9: [-92, -5]} \n",
      "rearranged array = [2, 3008, 12, 65, 87, 234, 345, 654, 8762, -112, -92, -5]\n",
      "iteration = 4 | divisor = 1000 | bin = {0: [2, 12, 65, 87, 234, 345, 654], 1: [], 2: [], 3: [3008], 4: [], 5: [], 6: [], 7: [], 8: [8762], 9: [-112, -92, -5]} \n",
      "rearranged array = [2, 12, 65, 87, 234, 345, 654, 3008, 8762, -112, -92, -5]\n",
      "\n",
      "\n",
      " output = [2, 12, 65, 87, 234, 345, 654, 3008, 8762, -112, -92, -5]\n"
     ]
    }
   ],
   "source": [
    "#not working for -ve numbers will check later\n",
    "radixSort(array = [8762, 654, -5, 3008, -92, 345, 87, 65, 234, 12, 2, -112])    "
   ]
  },
  {
   "cell_type": "markdown",
   "metadata": {},
   "source": [
    "## Heap Sort"
   ]
  },
  {
   "cell_type": "code",
   "execution_count": 60,
   "metadata": {},
   "outputs": [],
   "source": [
    "def heapify(arr, n, i):\n",
    "    largest = i  # Initialize largest as root\n",
    "    left = 2 * i + 1  # left child\n",
    "    right = 2 * i + 2  # right child\n",
    "    print(f\"input=(arr={arr}, n={n}, i={i}) | largest={largest}, left={left}, right={right}\")\n",
    "\n",
    "    # See if left child of root exists and is greater than root\n",
    "    if left < n and arr[left] > arr[largest]:\n",
    "        print(f\"inside Left={left} | largest={left}\")\n",
    "        largest = left\n",
    "\n",
    "    # See if right child of root exists and is greater than root\n",
    "    if right < n and arr[right] > arr[largest]:\n",
    "        print(f\"inside right={right} | largest={right}\")        \n",
    "        largest = right\n",
    "\n",
    "    # Change root, if needed\n",
    "    if largest != i:          \n",
    "        arr[i], arr[largest] = arr[largest], arr[i]  # swap\n",
    "        # Heapify the root.\n",
    "        print(f\"inside largest={largest} | after swapping={arr}\")  \n",
    "        heapify(arr, n, largest)\n",
    "    \n",
    "def heap_sort(arr):\n",
    "    n = len(arr)\n",
    "\n",
    "    # Build a maxheap\n",
    "    for i in range(n // 2 - 1, -1, -1):\n",
    "        print(f\"{'-='*15}-> i={i} \")\n",
    "        heapify(arr, n, i)\n",
    "\n",
    " # One by one extract elements from heap\n",
    "    for i in range(n - 1, 0, -1):\n",
    "        arr[i], arr[0] = arr[0], arr[i]  # swap\n",
    "        heapify(arr, i, 0)        \n",
    "\n",
    "    print(f\"{'*'*25}heapify output={arr}\")        \n",
    "\n",
    "    # One by one extract elements from heap\n",
    "    for i in range(n - 1, 0, -1):\n",
    "        arr[i], arr[0] = arr[0], arr[i]  # swap\n",
    "        heapify(arr, i, 0)        \n",
    "        \n",
    "    print(arr)\n"
   ]
  },
  {
   "cell_type": "code",
   "execution_count": 61,
   "metadata": {},
   "outputs": [
    {
     "name": "stdout",
     "output_type": "stream",
     "text": [
      "-=-=-=-=-=-=-=-=-=-=-=-=-=-=-=-> i=2 \n",
      "input=(arr=[1, 2, 3, 4, 5, 6], n=6, i=2) | largest=2, left=5, right=6\n",
      "inside Left=5 | largest=5\n",
      "inside largest=5 | after swapping=[1, 2, 6, 4, 5, 3]\n",
      "input=(arr=[1, 2, 6, 4, 5, 3], n=6, i=5) | largest=5, left=11, right=12\n",
      "-=-=-=-=-=-=-=-=-=-=-=-=-=-=-=-> i=1 \n",
      "input=(arr=[1, 2, 6, 4, 5, 3], n=6, i=1) | largest=1, left=3, right=4\n",
      "inside Left=3 | largest=3\n",
      "inside right=4 | largest=4\n",
      "inside largest=4 | after swapping=[1, 5, 6, 4, 2, 3]\n",
      "input=(arr=[1, 5, 6, 4, 2, 3], n=6, i=4) | largest=4, left=9, right=10\n",
      "-=-=-=-=-=-=-=-=-=-=-=-=-=-=-=-> i=0 \n",
      "input=(arr=[1, 5, 6, 4, 2, 3], n=6, i=0) | largest=0, left=1, right=2\n",
      "inside Left=1 | largest=1\n",
      "inside right=2 | largest=2\n",
      "inside largest=2 | after swapping=[6, 5, 1, 4, 2, 3]\n",
      "input=(arr=[6, 5, 1, 4, 2, 3], n=6, i=2) | largest=2, left=5, right=6\n",
      "inside Left=5 | largest=5\n",
      "inside largest=5 | after swapping=[6, 5, 3, 4, 2, 1]\n",
      "input=(arr=[6, 5, 3, 4, 2, 1], n=6, i=5) | largest=5, left=11, right=12\n",
      "input=(arr=[1, 5, 3, 4, 2, 6], n=5, i=0) | largest=0, left=1, right=2\n",
      "inside Left=1 | largest=1\n",
      "inside largest=1 | after swapping=[5, 1, 3, 4, 2, 6]\n",
      "input=(arr=[5, 1, 3, 4, 2, 6], n=5, i=1) | largest=1, left=3, right=4\n",
      "inside Left=3 | largest=3\n",
      "inside largest=3 | after swapping=[5, 4, 3, 1, 2, 6]\n",
      "input=(arr=[5, 4, 3, 1, 2, 6], n=5, i=3) | largest=3, left=7, right=8\n",
      "input=(arr=[2, 4, 3, 1, 5, 6], n=4, i=0) | largest=0, left=1, right=2\n",
      "inside Left=1 | largest=1\n",
      "inside largest=1 | after swapping=[4, 2, 3, 1, 5, 6]\n",
      "input=(arr=[4, 2, 3, 1, 5, 6], n=4, i=1) | largest=1, left=3, right=4\n",
      "input=(arr=[1, 2, 3, 4, 5, 6], n=3, i=0) | largest=0, left=1, right=2\n",
      "inside Left=1 | largest=1\n",
      "inside right=2 | largest=2\n",
      "inside largest=2 | after swapping=[3, 2, 1, 4, 5, 6]\n",
      "input=(arr=[3, 2, 1, 4, 5, 6], n=3, i=2) | largest=2, left=5, right=6\n",
      "input=(arr=[1, 2, 3, 4, 5, 6], n=2, i=0) | largest=0, left=1, right=2\n",
      "inside Left=1 | largest=1\n",
      "inside largest=1 | after swapping=[2, 1, 3, 4, 5, 6]\n",
      "input=(arr=[2, 1, 3, 4, 5, 6], n=2, i=1) | largest=1, left=3, right=4\n",
      "input=(arr=[1, 2, 3, 4, 5, 6], n=1, i=0) | largest=0, left=1, right=2\n",
      "*************************heapify output=[1, 2, 3, 4, 5, 6]\n",
      "input=(arr=[6, 2, 3, 4, 5, 1], n=5, i=0) | largest=0, left=1, right=2\n",
      "input=(arr=[5, 2, 3, 4, 6, 1], n=4, i=0) | largest=0, left=1, right=2\n",
      "input=(arr=[4, 2, 3, 5, 6, 1], n=3, i=0) | largest=0, left=1, right=2\n",
      "input=(arr=[3, 2, 4, 5, 6, 1], n=2, i=0) | largest=0, left=1, right=2\n",
      "input=(arr=[2, 3, 4, 5, 6, 1], n=1, i=0) | largest=0, left=1, right=2\n",
      "[2, 3, 4, 5, 6, 1]\n"
     ]
    }
   ],
   "source": [
    "heap_sort([1,2,3,4,5,6]) "
   ]
  },
  {
   "cell_type": "code",
   "execution_count": 31,
   "metadata": {},
   "outputs": [
    {
     "data": {
      "text/plain": [
       "3"
      ]
     },
     "execution_count": 31,
     "metadata": {},
     "output_type": "execute_result"
    }
   ],
   "source": [
    "len([2, 3, 5, 5, 6, 8, 9]) // 2"
   ]
  },
  {
   "cell_type": "code",
   "execution_count": 62,
   "metadata": {},
   "outputs": [
    {
     "name": "stdout",
     "output_type": "stream",
     "text": [
      "Sorted array: [1, 2, 3, 4, 5, 6]\n"
     ]
    }
   ],
   "source": [
    "def heapify(arr, n, i):\n",
    "    largest = i  # Initialize largest as root\n",
    "    left = 2 * i + 1  # left child\n",
    "    right = 2 * i + 2  # right child\n",
    "\n",
    "    # See if left child of root exists and is greater than root\n",
    "    if left < n and arr[left] > arr[largest]:\n",
    "        largest = left\n",
    "\n",
    "    # See if right child of root exists and is greater than root\n",
    "    if right < n and arr[right] > arr[largest]:\n",
    "        largest = right\n",
    "\n",
    "    # Change root, if needed\n",
    "    if largest != i:\n",
    "        arr[i], arr[largest] = arr[largest], arr[i]  # swap\n",
    "        # Heapify the root.\n",
    "        heapify(arr, n, largest)\n",
    "\n",
    "def heap_sort(arr):\n",
    "    n = len(arr)\n",
    "\n",
    "    # Build a maxheap\n",
    "    for i in range(n // 2 - 1, -1, -1):\n",
    "        heapify(arr, n, i)\n",
    "\n",
    "    # One by one extract elements from heap\n",
    "    for i in range(n - 1, 0, -1):\n",
    "        arr[i], arr[0] = arr[0], arr[i]  # swap\n",
    "        heapify(arr, i, 0)\n",
    "\n",
    "# Example usage:\n",
    "numbers = [1,2,3,4,5,6]\n",
    "heap_sort(numbers)\n",
    "print(\"Sorted array:\", numbers)\n"
   ]
  },
  {
   "cell_type": "code",
   "execution_count": 55,
   "metadata": {},
   "outputs": [
    {
     "name": "stdout",
     "output_type": "stream",
     "text": [
      "[2, 5, 3, 5, 9, 6, 8]\n"
     ]
    }
   ],
   "source": [
    "for i in range(len(x) - 1, 0, -1):\n",
    "        x[i], x[0] = x[0], x[i]  # swap\n",
    "        heapify(x)\n",
    "\n",
    "print(x)"
   ]
  },
  {
   "cell_type": "code",
   "execution_count": null,
   "metadata": {},
   "outputs": [],
   "source": []
  }
 ],
 "metadata": {
  "kernelspec": {
   "display_name": "Python 3",
   "language": "python",
   "name": "python3"
  },
  "language_info": {
   "codemirror_mode": {
    "name": "ipython",
    "version": 3
   },
   "file_extension": ".py",
   "mimetype": "text/x-python",
   "name": "python",
   "nbconvert_exporter": "python",
   "pygments_lexer": "ipython3",
   "version": "3.10.13"
  }
 },
 "nbformat": 4,
 "nbformat_minor": 2
}
