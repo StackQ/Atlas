{
 "cells": [
  {
   "cell_type": "code",
   "execution_count": 1,
   "metadata": {},
   "outputs": [],
   "source": [
    "def BubbleSortLoops(inputList):\n",
    "    for i in range(len(inputList)-1):\n",
    "        print(f'-----i={i}------')\n",
    "        for j in range(len(inputList)-1-i):\n",
    "            print(j, sep=' , ')"
   ]
  },
  {
   "cell_type": "code",
   "execution_count": 2,
   "metadata": {},
   "outputs": [
    {
     "name": "stdout",
     "output_type": "stream",
     "text": [
      "-----i=0------\n",
      "0\n",
      "1\n",
      "2\n",
      "3\n",
      "-----i=1------\n",
      "0\n",
      "1\n",
      "2\n",
      "-----i=2------\n",
      "0\n",
      "1\n",
      "-----i=3------\n",
      "0\n"
     ]
    }
   ],
   "source": [
    "BubbleSortLoops([8,5,7,3,2])"
   ]
  },
  {
   "cell_type": "code",
   "execution_count": 7,
   "metadata": {},
   "outputs": [],
   "source": [
    "#Time Complexity = O(n^2)\n",
    "#Space Complexity = O(1)\n",
    "def BubbleSort(inputList):\n",
    "    #O(n)\n",
    "    for i in range(len(inputList)-1):\n",
    "        #O(n)\n",
    "        for j in range(len(inputList)-1-i):\n",
    "            #O(1)\n",
    "            if inputList[j] > inputList[j+1]:\n",
    "                #swap\n",
    "                inputList[j],inputList[j+1] = inputList[j+1], inputList[j]\n",
    "    print(inputList)"
   ]
  },
  {
   "cell_type": "code",
   "execution_count": 6,
   "metadata": {},
   "outputs": [
    {
     "name": "stdout",
     "output_type": "stream",
     "text": [
      "[2, 3, 5, 7, 8]\n"
     ]
    }
   ],
   "source": [
    "BubbleSort([8,5,7,3,2])"
   ]
  },
  {
   "cell_type": "markdown",
   "metadata": {},
   "source": [
    "#### SELECTION SORT\n",
    "\n",
    "k passes will give k smallest element\n",
    "it performs minimum number of swaps\n",
    "\n",
    "Number of comparison = 1+2+3+4....n-1 = n(n-1)/2 = O(n^2)\n",
    "Number of Swaps = n-1 = O(n)\n",
    "\n",
    "Adaptive(if input already sorted then minimum time should take): Not Adaptive, always take O(n^2) time\n",
    "Stable : Not stable, not preserve the order\n",
    "\n",
    "good for less number of swaps"
   ]
  },
  {
   "cell_type": "code",
   "execution_count": 27,
   "metadata": {},
   "outputs": [
    {
     "name": "stdout",
     "output_type": "stream",
     "text": [
      "------i=0, k=0, i value=8, k value=8\n",
      "Before Swapping :: i=0, j=1, k=0, i value=8, j value=6, k value=8\n",
      "-After   k = j  :: i=0, j=1, k=1, i value=8, j value=6, k value=6\n",
      "Before Swapping :: i=0, j=2, k=1, i value=8, j value=3, k value=6\n",
      "-After   k = j  :: i=0, j=2, k=2, i value=8, j value=3, k value=3\n",
      "Before Swapping :: i=0, j=3, k=2, i value=8, j value=10, k value=3\n",
      "Before Swapping :: i=0, j=4, k=2, i value=8, j value=9, k value=3\n",
      "Before Swapping :: i=0, j=5, k=2, i value=8, j value=4, k value=3\n",
      "------i=1, k=1, i value=6, k value=6\n",
      "Before Swapping :: i=1, j=2, k=1, i value=6, j value=3, k value=6\n",
      "-After   k = j  :: i=1, j=2, k=2, i value=6, j value=3, k value=3\n",
      "Before Swapping :: i=1, j=3, k=2, i value=6, j value=10, k value=3\n",
      "Before Swapping :: i=1, j=4, k=2, i value=6, j value=9, k value=3\n",
      "Before Swapping :: i=1, j=5, k=2, i value=6, j value=4, k value=3\n",
      "------i=2, k=2, i value=3, k value=3\n",
      "Before Swapping :: i=2, j=3, k=2, i value=3, j value=10, k value=3\n",
      "Before Swapping :: i=2, j=4, k=2, i value=3, j value=9, k value=3\n",
      "Before Swapping :: i=2, j=5, k=2, i value=3, j value=4, k value=3\n",
      "------i=3, k=3, i value=10, k value=10\n",
      "Before Swapping :: i=3, j=4, k=3, i value=10, j value=9, k value=10\n",
      "-After   k = j  :: i=3, j=4, k=4, i value=10, j value=9, k value=9\n",
      "Before Swapping :: i=3, j=5, k=4, i value=10, j value=4, k value=9\n",
      "-After   k = j  :: i=3, j=5, k=5, i value=10, j value=4, k value=4\n",
      "------i=4, k=4, i value=9, k value=9\n",
      "Before Swapping :: i=4, j=5, k=4, i value=9, j value=4, k value=9\n",
      "-After   k = j  :: i=4, j=5, k=5, i value=9, j value=4, k value=4\n"
     ]
    }
   ],
   "source": [
    "def SelectionSortLoop(inputList=[8,6,3,10,9,4]):\n",
    "    n = len(inputList)\n",
    "    for i in range(n-1):\n",
    "        k = i\n",
    "        print(f\"------i={i}, k={k}, i value={inputList[i]}, k value={inputList[k]}\")\n",
    "        for j in range(i+1, n):\n",
    "            print(f\"Before Swapping :: i={i}, j={j}, k={k}, i value={inputList[i]}, j value={inputList[j]}, k value={inputList[k]}\")\n",
    "            if inputList[j] < inputList[k]:\n",
    "                k = j\n",
    "                print(f\"-After   k = j  :: i={i}, j={j}, k={k}, i value={inputList[i]}, j value={inputList[j]}, k value={inputList[k]}\")\n",
    "        #inputList[i], inputList[k] = inputList[k], inputList[i]\n",
    "    #print(inputList)\n",
    "\n",
    "SelectionSortLoop()"
   ]
  },
  {
   "cell_type": "code",
   "execution_count": 28,
   "metadata": {},
   "outputs": [],
   "source": [
    "#i= pointer to interate through list\n",
    "#k= pointer to smallest number when starting assuming where i pointing is smallest\n",
    "#j= i++ pointer to compare value between j & k, if j is less than k, ask k to point new small value found between j & k\n",
    "# swap i with k at the end of each iteration\n",
    "\n",
    "def SelectionSort(inputList=[8,6,3,10,9,4,12,5,2,7]):\n",
    "    n = len(inputList)\n",
    "    for i in range(n-1):\n",
    "        k = i\n",
    "        for j in range(i+1, n):\n",
    "            if inputList[j] < inputList[k]:\n",
    "                k = j\n",
    "        inputList[i], inputList[k] = inputList[k], inputList[i]\n",
    "    print(inputList)"
   ]
  },
  {
   "cell_type": "code",
   "execution_count": 29,
   "metadata": {},
   "outputs": [
    {
     "name": "stdout",
     "output_type": "stream",
     "text": [
      "[2, 3, 4, 5, 6, 7, 8, 9, 10, 12]\n"
     ]
    }
   ],
   "source": [
    "SelectionSort()"
   ]
  },
  {
   "cell_type": "markdown",
   "metadata": {},
   "source": [
    "#### INSERTION SORT\n",
    "\n",
    "minimum=O(1), max=O(n)\n",
    "\n",
    "No fo passes = (n-1)\n",
    "No of comparisons = n(n-1)/2 = O(n^2)\n",
    "\n",
    "Time Complexity = O(n^2)\n",
    "Swap/Space Complexity = O(n^2)\n",
    "\n",
    "Adaptive = Not Adaptive  \n",
    "Stable =\n",
    "\n",
    "Imp::\n",
    "- Benefit of using LinkedList will not shift like array, so for sorting LinkedList Insertion sort is better"
   ]
  },
  {
   "cell_type": "code",
   "execution_count": 11,
   "metadata": {},
   "outputs": [],
   "source": [
    "# while writing program think from last/2nd last side to frame the logic\n",
    "\n",
    "def InsertionSort(inputList):\n",
    "    n = len(inputList)\n",
    "    #range(1, n) here coz we need to reach till end of list to check the value, 1st value to compare with next so i=next cosider and that's why range(1,n)\n",
    "    for i in range(1, n):\n",
    "        j = i-1\n",
    "        i_value = inputList[i]\n",
    "        j_value = inputList[j]\n",
    "        # j>=0 coz when from tail position is i, j need to backtrack and shouldn't go beyond index 0\n",
    "        while j >= 0 and j_value > i_value:\n",
    "            #shift j value to next position/index j+1\n",
    "            inputList[j+1] = inputList[j]\n",
    "            j -= 1\n",
    "    #once we come out of while loop holding/to_insert value should be assigned to next of the value which is lower/failing while condition\n",
    "        inputList[j+1] = i_value\n",
    "    print(inputList)"
   ]
  },
  {
   "cell_type": "code",
   "execution_count": 12,
   "metadata": {},
   "outputs": [
    {
     "name": "stdout",
     "output_type": "stream",
     "text": [
      "[2, 3, 7, 5, 8]\n"
     ]
    }
   ],
   "source": [
    "InsertionSort([8,5,7,3,2])"
   ]
  },
  {
   "cell_type": "markdown",
   "metadata": {},
   "source": [
    "#### QUICK SORT\n"
   ]
  },
  {
   "cell_type": "code",
   "execution_count": 1,
   "metadata": {},
   "outputs": [],
   "source": [
    "def swap(inputList, idx1, idx2):\n",
    "    # tmp = inputList[idx1]\n",
    "    # inputList[idx1] = inputList[idx2]\n",
    "    # inputList[idx2] = tmp\n",
    "\n",
    "    #pythonic way\n",
    "    inputList[idx1], inputList[idx2] = inputList[idx2], inputList[idx1]\n",
    "\n",
    "def pivot(inputList, pivot_idx, end_index):\n",
    "    swap_idx = pivot_idx\n",
    "    for i in range(pivot_idx+1, end_index+1):\n",
    "        if inputList[i] < inputList[pivot_idx]:\n",
    "            swap_idx += 1\n",
    "            swap(inputList, swap_idx, i)\n",
    "    swap(inputList, pivot_idx, swap_idx)\n",
    "    return swap_idx\n",
    "\n",
    "def QuickSort(inputList, init_index, end_index):\n",
    "    if init_index < end_index:\n",
    "        pivot_index = pivot(inputList, init_index, end_index)\n",
    "        QuickSort(inputList, init_index, pivot_index-1)\n",
    "        QuickSort(inputList, pivot_index+1, end_index)\n",
    "    return inputList"
   ]
  },
  {
   "cell_type": "code",
   "execution_count": 3,
   "metadata": {},
   "outputs": [
    {
     "name": "stdout",
     "output_type": "stream",
     "text": [
      "[0, 10, 20, 30, 40, 50, 60]\n"
     ]
    }
   ],
   "source": [
    "print(QuickSort([30,50,0,60,20,10,40], 0, 6))"
   ]
  },
  {
   "cell_type": "markdown",
   "metadata": {},
   "source": [
    "#### MERGE SORT"
   ]
  },
  {
   "cell_type": "code",
   "execution_count": 10,
   "metadata": {},
   "outputs": [],
   "source": [
    "def merge(inputList, head, mid, tail):\n",
    "    len_left = mid - head + 1\n",
    "    len_right = tail - mid\n",
    "\n",
    "    LeftList = [0] * (len_left)\n",
    "    RightList = [0] * (len_right)\n",
    "\n",
    "    for i in range(0, len_left):\n",
    "        LeftList[i] = inputList[head + i]\n",
    "\n",
    "    for j in range(0, len_right):\n",
    "        RightList[i] = inputList[mid + 1 + j]\n",
    "\n",
    "    i, j, k = (0, 0, head)\n",
    "\n",
    "    #compare both LEFT & RIGHT list and whichever has smaller value put in in ascending order starting from 0th index\n",
    "    while i < len_left and j < len_right:\n",
    "        if LeftList[i] <= RightList[j]:\n",
    "            inputList[k] = LeftList[i]\n",
    "            i += 1\n",
    "        else:\n",
    "            inputList[k] = RightList[j]\n",
    "            j += 1\n",
    "        k += 1\n",
    "\n",
    "    #if any value left in LEFT List after above merging\n",
    "    while i < len_left:\n",
    "        inputList[k] = LeftList[i]\n",
    "        i += 1   \n",
    "        k += 1\n",
    "\n",
    "    #if any value left in RIGHT List after above merging\n",
    "    while j < len_right:\n",
    "        inputList[k] = RightList[j]\n",
    "        j += 1   \n",
    "        k += 1"
   ]
  },
  {
   "cell_type": "code",
   "execution_count": 11,
   "metadata": {},
   "outputs": [],
   "source": [
    "def MergeSort(inputList, l, r):\n",
    "    if l < r:\n",
    "        m = (l + (r - 1))//2\n",
    "        MergeSort(inputList, l, m)\n",
    "        MergeSort(inputList, m+1, r)\n",
    "        merge(inputList, l, m, r)\n",
    "    return inputList"
   ]
  },
  {
   "cell_type": "code",
   "execution_count": 12,
   "metadata": {},
   "outputs": [
    {
     "data": {
      "text/plain": [
       "[0, 0, 0, 0, 1, 2, 5, 0, 7]"
      ]
     },
     "execution_count": 12,
     "metadata": {},
     "output_type": "execute_result"
    }
   ],
   "source": [
    "MergeSort([2,1,7,6,5,3,4,9,8], 0, 8)"
   ]
  },
  {
   "cell_type": "markdown",
   "metadata": {},
   "source": [
    "#### COUNT SORT\n",
    "\n",
    "Time Complexity = input n + tmp list m = O(m+n) = O(n) , m+n gives the idea of merging but it's not merging so that's why O(n)\n",
    "Space Complexity = "
   ]
  },
  {
   "cell_type": "code",
   "execution_count": 38,
   "metadata": {},
   "outputs": [],
   "source": [
    "def findMax(inputList):\n",
    "    max = 0\n",
    "    #O(n)\n",
    "    for i in range(len(inputList)):\n",
    "        if inputList[i] > max:\n",
    "            max = inputList[i]\n",
    "    return max\n",
    "\n",
    "def CountSort(inputList):\n",
    "    max = findMax(inputList)\n",
    "    tmpList = [0] * (max+1)\n",
    "    print(f\"input = {inputList}\")\n",
    "    print(f\"tmpList with palceholder 0 = {tmpList}\")\n",
    "    #O(n)\n",
    "    for val in inputList:\n",
    "        tmpList[val] += 1\n",
    "    print(f\"tmpList with count = {tmpList}\")\n",
    "\n",
    "    iCounter = 0\n",
    "    tCounter = 0\n",
    "\n",
    "    #O(n)\n",
    "    while tCounter < max + 1:\n",
    "        if tmpList[tCounter] > 0:\n",
    "            inputList[iCounter] = tCounter\n",
    "            tmpList[tCounter] = tmpList[tCounter]-1\n",
    "            iCounter += 1\n",
    "        else:\n",
    "            tCounter += 1\n",
    "    \n",
    "    print(f\"Sorted output = {inputList}\")"
   ]
  },
  {
   "cell_type": "code",
   "execution_count": 39,
   "metadata": {},
   "outputs": [
    {
     "name": "stdout",
     "output_type": "stream",
     "text": [
      "input = [2, 1, 7, 6, 5, 3, 2]\n",
      "tmpList with palceholder 0 = [0, 0, 0, 0, 0, 0, 0, 0]\n",
      "tmpList with count = [0, 1, 2, 1, 0, 1, 1, 1]\n",
      "Sorted output = [1, 2, 2, 3, 5, 6, 7]\n"
     ]
    }
   ],
   "source": [
    "CountSort([2,1,7,6,5,3,2])"
   ]
  },
  {
   "cell_type": "markdown",
   "metadata": {},
   "source": [
    "#### Bucket/Bin Sort\n",
    "\n",
    "Similar to Count Sort, tmpList with NULL as placeholder, instead increase value at index, add linkedlist with multiple chain values"
   ]
  },
  {
   "cell_type": "code",
   "execution_count": null,
   "metadata": {},
   "outputs": [],
   "source": []
  }
 ],
 "metadata": {
  "kernelspec": {
   "display_name": "Python 3",
   "language": "python",
   "name": "python3"
  },
  "language_info": {
   "codemirror_mode": {
    "name": "ipython",
    "version": 3
   },
   "file_extension": ".py",
   "mimetype": "text/x-python",
   "name": "python",
   "nbconvert_exporter": "python",
   "pygments_lexer": "ipython3",
   "version": "3.10.13"
  }
 },
 "nbformat": 4,
 "nbformat_minor": 2
}
