{
 "cells": [
  {
   "cell_type": "markdown",
   "metadata": {},
   "source": [
    "## Circular Singly Linked List"
   ]
  },
  {
   "cell_type": "markdown",
   "metadata": {},
   "source": [
    "#### Time and Space Complexity of Circular Singly Linked List"
   ]
  },
  {
   "cell_type": "markdown",
   "metadata": {},
   "source": [
    "|Operation | Time Complexity | Space Complexity |\n",
    "|----------|-----------------|------------------|\n",
    "|Create |O(1)|O(1)|\n",
    "|Append |O(1)|O(1)|\n",
    "|Prepend |O(1)|O(1)|\n",
    "|Insert |O(n)|O(1)|\n",
    "|Search |O(n)|O(1)|\n",
    "|Traverse |O(n)|O(1)|\n",
    "|Get |O(n)|O(1)|\n",
    "|Set |O(n)|O(1)|\n",
    "|Pop First |O(1)|O(1)|\n",
    "|Pop |O(n)|O(1)|\n",
    "|Remove |O(n)|O(1)|\n",
    "|Delete All nodes |O(1)|O(1)|"
   ]
  },
  {
   "cell_type": "markdown",
   "metadata": {},
   "source": [
    "#### Node class"
   ]
  },
  {
   "cell_type": "code",
   "execution_count": 52,
   "metadata": {},
   "outputs": [],
   "source": [
    "import ctypes\n",
    "\n",
    "class Node:\n",
    "    def __init__(self, value): \n",
    "        self.value = value\n",
    "        self.next = id(None)\n",
    "\n",
    "    def __iter__(self):\n",
    "        return (self.value, id(self.next))\n",
    "\n",
    "    # #Simple to print when Node doesn't contain next's value address as it was in Course\n",
    "    # def __str__(self) -> str:\n",
    "    #     return str(self.value)\n",
    "    \n",
    "    #After creating object of this class have to con\n",
    "    def __str__(self):\n",
    "        template = '({0.value}, {0.next})'\n",
    "        return template.format(self)"
   ]
  },
  {
   "cell_type": "code",
   "execution_count": 58,
   "metadata": {
    "tags": [
     "Create object of class Node",
     "Here we are creating L1 object"
    ]
   },
   "outputs": [],
   "source": [
    "L1 = Node(10)"
   ]
  },
  {
   "cell_type": "code",
   "execution_count": 54,
   "metadata": {},
   "outputs": [
    {
     "name": "stdout",
     "output_type": "stream",
     "text": [
      "(10, 94242089980608)\n"
     ]
    }
   ],
   "source": [
    "print(L1)"
   ]
  },
  {
   "cell_type": "code",
   "execution_count": 55,
   "metadata": {},
   "outputs": [
    {
     "data": {
      "text/plain": [
       "__main__.Node"
      ]
     },
     "execution_count": 55,
     "metadata": {},
     "output_type": "execute_result"
    }
   ],
   "source": [
    "type(L1)"
   ]
  },
  {
   "cell_type": "code",
   "execution_count": 56,
   "metadata": {
    "tags": []
   },
   "outputs": [
    {
     "name": "stdout",
     "output_type": "stream",
     "text": [
      "10\n"
     ]
    }
   ],
   "source": [
    "print(L1.value)"
   ]
  },
  {
   "cell_type": "code",
   "execution_count": 57,
   "metadata": {},
   "outputs": [
    {
     "name": "stdout",
     "output_type": "stream",
     "text": [
      "94242089980608\n"
     ]
    }
   ],
   "source": [
    "print(L1.next)"
   ]
  },
  {
   "cell_type": "code",
   "execution_count": 33,
   "metadata": {},
   "outputs": [
    {
     "name": "stdout",
     "output_type": "stream",
     "text": [
      "10 94242089980608\n"
     ]
    }
   ],
   "source": []
  },
  {
   "cell_type": "code",
   "execution_count": null,
   "metadata": {},
   "outputs": [],
   "source": []
  }
 ],
 "metadata": {
  "kernelspec": {
   "display_name": "Python 3",
   "language": "python",
   "name": "python3"
  },
  "language_info": {
   "codemirror_mode": {
    "name": "ipython",
    "version": 3
   },
   "file_extension": ".py",
   "mimetype": "text/x-python",
   "name": "python",
   "nbconvert_exporter": "python",
   "pygments_lexer": "ipython3",
   "version": "3.10.8"
  }
 },
 "nbformat": 4,
 "nbformat_minor": 2
}
