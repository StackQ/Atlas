{
 "cells": [
  {
   "cell_type": "markdown",
   "metadata": {},
   "source": [
    "#### Question 1: How to find the sum of digits of a positive integer number using recursion"
   ]
  },
  {
   "cell_type": "markdown",
   "metadata": {},
   "source": [
    "**Step 1** : Recursive case - the flow\n",
    "- if n=10 THEN 10/10=1 & Remainder = 0\n",
    "- if n=54 THEN 54/10=5 & Remainder = 4\n",
    "- if n=112 THEN 112/10=11 & Remainder=2\n",
    "    - 11/10=1 & Remainder=1\n",
    "\n",
    "**Step 2** : Base case - the stopping criterion\n",
    "- n=0\n",
    "\n",
    "**Step 3** : Unintenional case - the constraint\n",
    "- sumofDigits(-11) ??\n",
    "- sumofDigits(1.5) ??"
   ]
  },
  {
   "cell_type": "code",
   "execution_count": 2,
   "metadata": {},
   "outputs": [],
   "source": [
    "def sumofDigits(n):\n",
    "    assert n >= 0 and int(n) == n, \"The number should be positive int only\"\n",
    "    if n == 0:\n",
    "        return 0\n",
    "    else:\n",
    "        return n%10 + sumofDigits(int(n/10))"
   ]
  },
  {
   "cell_type": "code",
   "execution_count": 4,
   "metadata": {},
   "outputs": [
    {
     "ename": "AssertionError",
     "evalue": "The number should be positive and int only",
     "output_type": "error",
     "traceback": [
      "\u001b[0;31m---------------------------------------------------------------------------\u001b[0m",
      "\u001b[0;31mAssertionError\u001b[0m                            Traceback (most recent call last)",
      "Cell \u001b[0;32mIn[4], line 1\u001b[0m\n\u001b[0;32m----> 1\u001b[0m \u001b[43msumofDigits\u001b[49m\u001b[43m(\u001b[49m\u001b[38;5;241;43m-\u001b[39;49m\u001b[38;5;241;43m11\u001b[39;49m\u001b[43m)\u001b[49m\n",
      "Cell \u001b[0;32mIn[2], line 2\u001b[0m, in \u001b[0;36msumofDigits\u001b[0;34m(n)\u001b[0m\n\u001b[1;32m      1\u001b[0m \u001b[38;5;28;01mdef\u001b[39;00m \u001b[38;5;21msumofDigits\u001b[39m(n):\n\u001b[0;32m----> 2\u001b[0m     \u001b[38;5;28;01massert\u001b[39;00m n \u001b[38;5;241m>\u001b[39m\u001b[38;5;241m=\u001b[39m \u001b[38;5;241m0\u001b[39m \u001b[38;5;129;01mand\u001b[39;00m \u001b[38;5;28mint\u001b[39m(n) \u001b[38;5;241m==\u001b[39m n, \u001b[38;5;124m\"\u001b[39m\u001b[38;5;124mThe number should be positive and int only\u001b[39m\u001b[38;5;124m\"\u001b[39m\n\u001b[1;32m      3\u001b[0m     \u001b[38;5;28;01mif\u001b[39;00m n \u001b[38;5;241m==\u001b[39m \u001b[38;5;241m0\u001b[39m:\n\u001b[1;32m      4\u001b[0m         \u001b[38;5;28;01mreturn\u001b[39;00m \u001b[38;5;241m0\u001b[39m\n",
      "\u001b[0;31mAssertionError\u001b[0m: The number should be positive and int only"
     ]
    }
   ],
   "source": [
    "sumofDigits(-11)"
   ]
  },
  {
   "cell_type": "code",
   "execution_count": 5,
   "metadata": {},
   "outputs": [
    {
     "data": {
      "text/plain": [
       "10"
      ]
     },
     "execution_count": 5,
     "metadata": {},
     "output_type": "execute_result"
    }
   ],
   "source": [
    "sumofDigits(1234)"
   ]
  },
  {
   "cell_type": "code",
   "execution_count": 6,
   "metadata": {},
   "outputs": [
    {
     "data": {
      "text/plain": [
       "4"
      ]
     },
     "execution_count": 6,
     "metadata": {},
     "output_type": "execute_result"
    }
   ],
   "source": [
    "sumofDigits(112)"
   ]
  },
  {
   "cell_type": "markdown",
   "metadata": {},
   "source": [
    "#### Question 2: How to calculate power of a number using recursion?\n",
    "\n",
    "x(^n)=x(^*)x(^*)..(n times).."
   ]
  },
  {
   "cell_type": "markdown",
   "metadata": {},
   "source": [
    "**Step 1**: Recursive case - the flow\n",
    "- 2(^4) = 2*2*2*2\n",
    "- x(^a) x(^b) = x(^a+b)\n",
    "\n",
    "**Step 2** Base case - the stopping criterion\n",
    "- n=0\n",
    "\n",
    "**Step 3**: Unintentional case- the constraint\n",
    "- power(-1,2) ??\n",
    "- power(3.2,2) ??\n",
    "- power(2, 1.2) ??\n",
    "- power(2, -1) ??"
   ]
  },
  {
   "cell_type": "code",
   "execution_count": 10,
   "metadata": {},
   "outputs": [],
   "source": [
    "def power(base, exp):\n",
    "    assert int(exp)==exp, 'The exponent must be integer number only'\n",
    "    if exp == 0:\n",
    "        return 1\n",
    "    elif exp < 0:\n",
    "        return 1/base * power(base, exp+1)\n",
    "    return base * power(base, exp-1)\n"
   ]
  },
  {
   "cell_type": "code",
   "execution_count": 11,
   "metadata": {},
   "outputs": [
    {
     "data": {
      "text/plain": [
       "0.25"
      ]
     },
     "execution_count": 11,
     "metadata": {},
     "output_type": "execute_result"
    }
   ],
   "source": [
    "power(4, -1)"
   ]
  },
  {
   "cell_type": "code",
   "execution_count": 12,
   "metadata": {},
   "outputs": [
    {
     "data": {
      "text/plain": [
       "16"
      ]
     },
     "execution_count": 12,
     "metadata": {},
     "output_type": "execute_result"
    }
   ],
   "source": [
    "power(2, 4)"
   ]
  },
  {
   "cell_type": "markdown",
   "metadata": {},
   "source": [
    "#### Question - 3: How to find GCD (Greatest Common Divisor) of two numbers using recursion"
   ]
  },
  {
   "cell_type": "code",
   "execution_count": null,
   "metadata": {},
   "outputs": [],
   "source": []
  }
 ],
 "metadata": {
  "kernelspec": {
   "display_name": "Python 3",
   "language": "python",
   "name": "python3"
  },
  "language_info": {
   "codemirror_mode": {
    "name": "ipython",
    "version": 3
   },
   "file_extension": ".py",
   "mimetype": "text/x-python",
   "name": "python",
   "nbconvert_exporter": "python",
   "pygments_lexer": "ipython3",
   "version": "3.10.13"
  }
 },
 "nbformat": 4,
 "nbformat_minor": 2
}
