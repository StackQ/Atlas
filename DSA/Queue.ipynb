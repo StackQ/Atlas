{
 "cells": [
  {
   "cell_type": "markdown",
   "metadata": {},
   "source": [
    "## Queue Operations\n",
    "- Create Queue\n",
    "- Enqueue\n",
    "- Dequeue\n",
    "- Peek\n",
    "- isEmpty\n",
    "- isFull\n",
    "- deleteQueue"
   ]
  },
  {
   "cell_type": "markdown",
   "metadata": {},
   "source": [
    "#### Queue using Python List - no size limit, operations(enqueue, dequeue, peek)"
   ]
  },
  {
   "cell_type": "code",
   "execution_count": 17,
   "metadata": {},
   "outputs": [],
   "source": [
    "class Queue:\n",
    "    def __init__(self) -> None:\n",
    "        self.items = []\n",
    "\n",
    "    def __str__(self) -> str:\n",
    "        values = [str(x) for x in self.items]\n",
    "        return ' '.join(values)\n",
    "    \n",
    "    def isEmpty(self):\n",
    "        if self.items == []:\n",
    "            return True\n",
    "        else:\n",
    "            return False\n",
    "        \n",
    "    #Append inserts an element at the end of the list, and when we reach list's default capacity in the memory, we need memory allocation\n",
    "    #Time Complexity :: O(n)/O(n^2) : So for this method over is amortized constant, means when we have many elements in the list, reallocation might be very \n",
    "    #time consuming. It might reach O(n), O(n^2)    \n",
    "    #Space Complexity : O(1)\n",
    "    def enqueue(self, value):\n",
    "        self.items.append(value)\n",
    "        return \"The element is inserted at the end of Queue\"\n",
    "    \n",
    "    #Time Complexity :: O(n) : coz we know from the standard functionality of Python list that if we remove an element from the beginning of list,\n",
    "    #all elements from the right have to shift one step left. And this operation is very time consuming\n",
    "    #Space Complexity :: O(1)\n",
    "    def dequeue(self):\n",
    "        if self.items == []:\n",
    "            return \"There is not any element in the Queue\"\n",
    "        else:\n",
    "            return self.items.pop(0) #O(n)\n",
    "        \n",
    "    #Time & Space Complexity :: O(1) : coz accessing any element of a list takes O(1) time complexity\n",
    "    def peek(self):\n",
    "        if self.items == []:\n",
    "            return \"There is not any element in the Queue\"\n",
    "        else:\n",
    "            return self.items[0]\n",
    "        \n",
    "    #Time & Space Complexity :: O(1)\n",
    "    def delete(self):\n",
    "        self.items = None"
   ]
  },
  {
   "cell_type": "code",
   "execution_count": 20,
   "metadata": {},
   "outputs": [
    {
     "name": "stdout",
     "output_type": "stream",
     "text": [
      "False\n",
      "1 2 3 4\n",
      "2 3 4\n"
     ]
    },
    {
     "data": {
      "text/plain": [
       "2"
      ]
     },
     "execution_count": 20,
     "metadata": {},
     "output_type": "execute_result"
    }
   ],
   "source": [
    "customQ = Queue()\n",
    "customQ.enqueue(1)\n",
    "customQ.enqueue(2)\n",
    "customQ.enqueue(3)\n",
    "customQ.enqueue(4)\n",
    "print(customQ.isEmpty())\n",
    "print(customQ)\n",
    "customQ.dequeue()\n",
    "print(customQ)\n",
    "customQ.peek()"
   ]
  },
  {
   "cell_type": "code",
   "execution_count": 21,
   "metadata": {},
   "outputs": [],
   "source": [
    "customQ.delete()"
   ]
  },
  {
   "cell_type": "markdown",
   "metadata": {},
   "source": [
    "#### Time and Space complexity of Queue with Python List wihout any size limit\n",
    "\n",
    "|Operation|Time Complexity|Space Complexity|\n",
    "|---------|---------------|----------------|\n",
    "|Create Queue|O(1)|O(1)|\n",
    "|Enqueue|O(n)/O(n^2)|O(1)|\n",
    "|Dequeue|O(n)|O(1)|\n",
    "|Peek|O(1)|O(1)|\n",
    "|isEmpty|O(1)|O(1)|\n",
    "|Delete|O(1)|O(1)|"
   ]
  },
  {
   "cell_type": "markdown",
   "metadata": {},
   "source": [
    "#### Circular Queue(Queue with fixed capacity) - Python List\n",
    "\n",
    "to solve \"Shifting cells left\" problems, we have another option, which is to create a circular queue using fixed size list. in this case, the problem of moving elements to the left and realocating the list as it grows is solved.\n",
    "\n",
    "By using fixed capacity for a queue we can create a circular queue which performs very fast. In this case, we don't have to shift elements left and the memory reallocation will not occur."
   ]
  },
  {
   "cell_type": "code",
   "execution_count": 37,
   "metadata": {},
   "outputs": [],
   "source": [
    "\n",
    "from networkx import is_empty\n",
    "\n",
    "\n",
    "class CQueue:\n",
    "    #Time Complexity : O(1), Space Complexity : O(n)\n",
    "    def __init__(self, maxSize) -> None:\n",
    "        self.items = maxSize * [None]\n",
    "        self.maxSize = maxSize\n",
    "        self.start = -1\n",
    "        self.top = -1\n",
    "\n",
    "    def __str__(self) -> str:\n",
    "        values = [str(x) for x in self.items]\n",
    "        return ' '.join(values)\n",
    "    \n",
    "    #Time & Space Complexity :: O(1)\n",
    "    def isFull(self):\n",
    "        if self.top + 1 == self.start:\n",
    "            return True\n",
    "        elif self.start == 0 and self.top + 1 == self.maxSize:\n",
    "            return True\n",
    "        else:\n",
    "            return False\n",
    "        \n",
    "    #Time & Space Complexity :: O(1)\n",
    "    def isEmpty(self):\n",
    "        if self.top == -1:\n",
    "            return True\n",
    "        else:\n",
    "            return False\n",
    "        \n",
    "    #Time & Space Complexity :: O(1)\n",
    "    def enqueue(self, value):\n",
    "        if self.isFull():\n",
    "            return \"The queue is full\"\n",
    "        else:\n",
    "            if self.top + 1 == self.maxSize:  \n",
    "                self.top == 0\n",
    "            else:\n",
    "                self.top += 1\n",
    "                if self.start == -1:\n",
    "                    self.start = 0\n",
    "            self.items[self.top] = value\n",
    "            return \"The element is inserted at the end of Queue\"\n",
    "        \n",
    "    #Time & Space Complexity :: O(1), space is also 1 coz here we are just creating 2 variables and updating the values and any space \n",
    "    #consuming operation is not doing over here.\n",
    "    def dequeue(self):\n",
    "        if self.isEmpty():\n",
    "            return \"There is not any element in the Queue\"\n",
    "        else:\n",
    "            #there first element is the one that \"start\" property points\n",
    "            firstElement = self.items[self.start]\n",
    "            #Then will keep the start value\n",
    "            start = self.start\n",
    "            #if this is the only element that we are dequeueing from the queue, in this case we need to set \"start\" and \"top\" to -1 \n",
    "            if self.start == self.top:\n",
    "                self.start = -1\n",
    "                self.top = -1\n",
    "            #we are checking if the first element points to the last element in the list, then we are pointing it to come to the again \n",
    "            #beginning of list here\n",
    "            elif self.start + 1 == self.maxSize:\n",
    "                self.start = 0\n",
    "            #increasing the self start to point to next element\n",
    "            else:\n",
    "                self.start += 1\n",
    "            self.items[start] = None\n",
    "            return firstElement\n",
    "        \n",
    "    #Time & Space Complexity :: O(1)\n",
    "    def peek(self):\n",
    "        if self.isEmpty():\n",
    "            return \"There is not any element in the Queue\"\n",
    "        else:\n",
    "            return self.items[self.start]\n",
    "        \n",
    "    #Time & Space Complexity :: O(1)\n",
    "    def delete(self):\n",
    "        self.items = self.maxSize * [None]\n",
    "        self.top = -1\n",
    "        self.start = -1"
   ]
  },
  {
   "cell_type": "code",
   "execution_count": 26,
   "metadata": {},
   "outputs": [
    {
     "name": "stdout",
     "output_type": "stream",
     "text": [
      "False\n",
      "True\n"
     ]
    }
   ],
   "source": [
    "customQ = CQueue(3)\n",
    "print(customQ.isFull())\n",
    "print(customQ.isEmpty())"
   ]
  },
  {
   "cell_type": "code",
   "execution_count": 31,
   "metadata": {},
   "outputs": [
    {
     "name": "stdout",
     "output_type": "stream",
     "text": [
      "1 2 3\n",
      "True\n"
     ]
    },
    {
     "data": {
      "text/plain": [
       "'The queue is full'"
      ]
     },
     "execution_count": 31,
     "metadata": {},
     "output_type": "execute_result"
    }
   ],
   "source": [
    "customQ = CQueue(3)\n",
    "customQ.enqueue(1)\n",
    "customQ.enqueue(2)\n",
    "customQ.enqueue(3)\n",
    "print(customQ)\n",
    "print(customQ.isFull())\n",
    "customQ.enqueue(4)"
   ]
  },
  {
   "cell_type": "code",
   "execution_count": 30,
   "metadata": {},
   "outputs": [
    {
     "data": {
      "text/plain": [
       "'The queue is full'"
      ]
     },
     "execution_count": 30,
     "metadata": {},
     "output_type": "execute_result"
    }
   ],
   "source": []
  },
  {
   "cell_type": "code",
   "execution_count": 39,
   "metadata": {},
   "outputs": [
    {
     "name": "stdout",
     "output_type": "stream",
     "text": [
      "1\n",
      "None 2 3\n",
      "2\n"
     ]
    }
   ],
   "source": [
    "customQ = CQueue(3)\n",
    "customQ.enqueue(1)\n",
    "customQ.enqueue(2)\n",
    "customQ.enqueue(3)\n",
    "print(customQ.dequeue())\n",
    "print(customQ)\n",
    "print(customQ.peek())"
   ]
  },
  {
   "cell_type": "code",
   "execution_count": 41,
   "metadata": {},
   "outputs": [
    {
     "name": "stdout",
     "output_type": "stream",
     "text": [
      "None None None\n"
     ]
    }
   ],
   "source": [
    "customQ.delete()\n",
    "print(customQ)"
   ]
  },
  {
   "cell_type": "markdown",
   "metadata": {},
   "source": [
    "#### Time and Space complexity of Circular Queue Operations\n",
    "|Operation|Time Complexity|Space Complexity|\n",
    "|---------|---------------|----------------|\n",
    "|Create Queue|O(1)|O(n)|\n",
    "|Enqueue|O(1)|O(1)|\n",
    "|Dequeue|O(1)|O(1)|\n",
    "|Peek|O(1)|O(1)|\n",
    "|isEmpty|O(1)|O(1)|\n",
    "|Delete|O(1)|O(1)|"
   ]
  },
  {
   "cell_type": "markdown",
   "metadata": {},
   "source": [
    "#### Queue - Linked List"
   ]
  },
  {
   "cell_type": "code",
   "execution_count": 7,
   "metadata": {},
   "outputs": [],
   "source": [
    "class Node:\n",
    "    def __init__(self, value=None) -> None:\n",
    "        self.value = value\n",
    "        self.next = None\n",
    "\n",
    "    def __str__(self) -> str:\n",
    "        return str(self.value)\n",
    "    \n",
    "class LinkedList:\n",
    "    def __init__(self) -> None:\n",
    "        self.head = None\n",
    "        self.tail = None\n",
    "\n",
    "    #will just make this linked list iterable, coz we will print out the queue over here.\n",
    "    #Basically se iterating through the linked list and yielding the values of nodes in one list. \n",
    "    #By using this function we can make our linked list iterable\n",
    "    def __iter__(self):\n",
    "        currentNode = self.head\n",
    "        while currentNode:\n",
    "            yield currentNode\n",
    "            currentNode = currentNode.next\n",
    "\n",
    "class Queue:\n",
    "    #Time & Space Complexity :: O(1)\n",
    "    def __init__(self) -> None:\n",
    "        #so by calling the object of this linked list we are doing it over here and head&tail ref to None\n",
    "        self.linkedList = LinkedList()\n",
    "\n",
    "    def __str__(self) -> str:\n",
    "        values = [str(x) for x in self.linkedList]\n",
    "        return ' '.join(values)\n",
    "    \n",
    "    #Time & Space Complexity :: O(1)\n",
    "    def enqueue(self, value):\n",
    "        newNode = Node(value)\n",
    "        if self.linkedList.head == None:\n",
    "            self.linkedList.head = newNode\n",
    "            self.linkedList.tail = newNode\n",
    "        else:\n",
    "            self.linkedList.tail.next = newNode\n",
    "            self.linkedList.tail = newNode\n",
    "\n",
    "    #Time & Space Complexity :: O(1)\n",
    "    def isEmpty(self):\n",
    "        if self.linkedList.head == None:\n",
    "            return True\n",
    "        else:\n",
    "            return False\n",
    "\n",
    "    #Time & Space Complexity :: O(1)\n",
    "    def dequeue(self):\n",
    "        if self.isEmpty():\n",
    "            return \"There is not any node in the Queue\"\n",
    "        else:\n",
    "            tmpNode = self.linkedList.head\n",
    "            if self.linkedList.head == self.linkedList.tail:\n",
    "                self.linkedList.head = None\n",
    "                self.linkedList.tail = None\n",
    "            else:\n",
    "                self.linkedList.head = self.linkedList.head.next\n",
    "            return tmpNode\n",
    "        \n",
    "    #Time & Space Complexity :: O(1)\n",
    "    def peek(self):\n",
    "        if self.isEmpty():\n",
    "            return \"There is not any node in the Queue\"\n",
    "        else:\n",
    "            return self.linkedList.head\n",
    "\n",
    "    #Time & Space Complexity :: O(1)\n",
    "    def delete(self):\n",
    "        self.linkedList.head = None\n",
    "        self.linkedList.tail = None"
   ]
  },
  {
   "cell_type": "code",
   "execution_count": 2,
   "metadata": {},
   "outputs": [
    {
     "name": "stdout",
     "output_type": "stream",
     "text": [
      "1 2 3\n"
     ]
    }
   ],
   "source": [
    "customQ = Queue()\n",
    "customQ.enqueue(1)\n",
    "customQ.enqueue(2)\n",
    "customQ.enqueue(3)\n",
    "print(customQ)"
   ]
  },
  {
   "cell_type": "code",
   "execution_count": 8,
   "metadata": {},
   "outputs": [
    {
     "name": "stdout",
     "output_type": "stream",
     "text": [
      "1 2 3\n",
      "1\n",
      "2 3\n",
      "2\n"
     ]
    }
   ],
   "source": [
    "customQ = Queue()\n",
    "customQ.enqueue(1)\n",
    "customQ.enqueue(2)\n",
    "customQ.enqueue(3)\n",
    "print(customQ)\n",
    "print(customQ.dequeue())\n",
    "print(customQ)\n",
    "print(customQ.peek())\n",
    "customQ.delete()"
   ]
  },
  {
   "cell_type": "markdown",
   "metadata": {},
   "source": [
    "#### Time and Space complexity of Queue using LinkedList\n",
    "|Operation|Time Complexity|Space Complexity|\n",
    "|---------|---------------|----------------|\n",
    "|Create Queue|O(1)|O(1)|\n",
    "|Enqueue|O(1)|O(1)|\n",
    "|Dequeue|O(1)|O(1)|\n",
    "|Peek|O(1)|O(1)|\n",
    "|isEmpty|O(1)|O(1)|\n",
    "|Delete|O(1)|O(1)|"
   ]
  },
  {
   "cell_type": "markdown",
   "metadata": {},
   "source": [
    "#### List vs LinkedList Implementation"
   ]
  },
  {
   "cell_type": "markdown",
   "metadata": {},
   "source": [
    "|Operation|List no capacity limit|List with capacity(Circular Queue)|Linked List|\n",
    "|---------|----------------------|----------------------------------|-----------|\n",
    "|              |Time, Space Complexity|Time, Space Complexity|Time, Space Complexity| \n",
    "|Create Queue|O(1),   O(1)|O(1),   O(n)|O(1),   O(1)|\n",
    "|Enqueue|O(n),   O(1)|O(1),   O(1)|O(1),   O(1)|\n",
    "|Dequeue|O(n),   O(1)|O(1),   O(1)|O(1),   O(1)|\n",
    "|Peek|O(1),   O(1)|O(1),   O(1)|O(1),   O(1)|\n",
    "|isEmpty|O(1),   O(1)|O(1),   O(1)|O(1),   O(1)|\n",
    "|isFull|-,   -|O(1),   O(1)|-,   -|\n",
    "|Delete|O(1),   O(1)|O(1),   O(1)|O(1),   O(1)|"
   ]
  },
  {
   "cell_type": "markdown",
   "metadata": {},
   "source": [
    "#### Collection Module"
   ]
  },
  {
   "cell_type": "markdown",
   "metadata": {},
   "source": [
    "**Python Queue Modules**  \n",
    "\n",
    "\n",
    "- Collection Module :: \"collections.deque Class\" : The Python's *deque* objects are implemented as double linked list, which gives them excellent performance for enqueueing and dequeueing elements. Coz \"deque\" supports adding and removing elements from either and equally well, they can serve as queues and stacks. will se \"deque\" class only for FIFO queues.  if we have max length parameter in deque class, so if this parameter is not specified or it is None, the queues may grow in arbitrarily length. Otherwise queue is bounded to a specific maximum length. once a bounded length is full, when new items are added, a corresponding number of items are disregarded from the opposite end. It looks like circular queue, but in this case if the queue is full, it deletes the first element from the opposite position.\n",
    "To create a FIFO queue we will use only these methods over here\n",
    "    - deque() : to initialize deque class to create a queue, here maximum len can be provided, means with capacity/without\n",
    "    - append() : adding elements to the end of queue.\n",
    "    - popleft() : returning the first element from the queue and removing that element from the queue\n",
    "    - clear() : responsible for removing all elements from the queue\n",
    "- Queue Module\n",
    "- Multiprocessing Module"
   ]
  },
  {
   "cell_type": "code",
   "execution_count": 2,
   "metadata": {},
   "outputs": [
    {
     "name": "stdout",
     "output_type": "stream",
     "text": [
      "deque([], maxlen=3)\n",
      "deque([1, 2, 3], maxlen=3)\n"
     ]
    }
   ],
   "source": [
    "from collections import deque\n",
    "\n",
    "customQ = deque(maxlen=3)\n",
    "print(customQ)\n",
    "\n",
    "customQ.append(1)\n",
    "customQ.append(2)\n",
    "customQ.append(3)\n",
    "print(customQ)"
   ]
  },
  {
   "cell_type": "code",
   "execution_count": 3,
   "metadata": {},
   "outputs": [
    {
     "name": "stdout",
     "output_type": "stream",
     "text": [
      "deque([2, 3, 4], maxlen=3)\n"
     ]
    }
   ],
   "source": [
    "customQ.append(4)\n",
    "print(customQ)"
   ]
  },
  {
   "cell_type": "code",
   "execution_count": 4,
   "metadata": {},
   "outputs": [
    {
     "name": "stdout",
     "output_type": "stream",
     "text": [
      "2\n",
      "deque([3, 4], maxlen=3)\n"
     ]
    }
   ],
   "source": [
    "print(customQ.popleft())\n",
    "print(customQ)"
   ]
  },
  {
   "cell_type": "code",
   "execution_count": 5,
   "metadata": {},
   "outputs": [
    {
     "name": "stdout",
     "output_type": "stream",
     "text": [
      "None\n",
      "deque([], maxlen=3)\n"
     ]
    }
   ],
   "source": [
    "print(customQ.clear())\n",
    "print(customQ)"
   ]
  },
  {
   "cell_type": "markdown",
   "metadata": {},
   "source": [
    "#### Queue module\n",
    "\n",
    "Queue module implements multiproducer, multiconsumer queues. And it's especially useful in threaded programming when information must be exchanged safely between multiple threads. This module implements 3 types of queue, which differ only in order in which entries are retrieved. \n",
    "- For FIFO queue the first task is added are the first retrieved. \n",
    "- For LIFO queue the most recently added entry is the first retrieved. \n",
    "- For PRIORITY queue the entries are kept sorted. And the lowest value entry is retrieved first."
   ]
  },
  {
   "cell_type": "markdown",
   "metadata": {},
   "source": [
    "##### FIFO Queue \n",
    "\n",
    "Queue(maxsize=0) : \n",
    "- this is a constructor for a FIFO queue. \n",
    "- Argument max size is an integer that sets the upper bound on the number of the items that can be placed in the queue. \n",
    "- Insertion will be block once this site has been reaches until two items are consuming.\n",
    "- If maximum size is less or equal to 0, then the queue size will be infinite\n",
    "- there are many methods of this \"queue\" class, but here will use only these methods:-\n",
    "    - qsize(): returns the approximate size of queue\n",
    "    - empty(): an empty method is the one which is isEmpty method in our case.\n",
    "    - full(): if the queue size is reached, it return True\n",
    "    - put(): Alternative to the enqueue method, adding elements at the end of queue\n",
    "    - get(): removing elements from the beginning of the queue, and return it\n",
    "    - task_done(): indicates that a formally enqueued task is complete used by queue consumers trace. So for each \"get\" method used to get a task, a subsequent call to task_done method tells the queue that processing on the task is complete.\n",
    "    - join(): So this method blocks until all items in the queue have been gotten and processed.   \n",
    "    The count of unfinished task goes up whenever an item is added to the queue.   \n",
    "    The count goes down whenever consumer takes calls \"task_done\" method to indicate that the item was retrieved and all work on it is complete.\n",
    "    And when the count of unfinished tasks dropped to 0, join method unblocks.\n"
   ]
  },
  {
   "cell_type": "code",
   "execution_count": 7,
   "metadata": {},
   "outputs": [
    {
     "name": "stdout",
     "output_type": "stream",
     "text": [
      "True\n",
      "3\n",
      "True\n",
      "1\n",
      "2\n"
     ]
    }
   ],
   "source": [
    "import queue as q\n",
    "\n",
    "customQ = q.Queue(maxsize=3)\n",
    "\n",
    "print(customQ.empty())\n",
    "customQ.put(1)\n",
    "customQ.put(2)\n",
    "customQ.put(3)\n",
    "print(customQ.qsize())\n",
    "print(customQ.full())\n",
    "print(customQ.get())\n",
    "print(customQ.qsize())"
   ]
  },
  {
   "cell_type": "markdown",
   "metadata": {},
   "source": [
    "#####  Multiprocessing module"
   ]
  },
  {
   "cell_type": "code",
   "execution_count": 8,
   "metadata": {},
   "outputs": [
    {
     "name": "stdout",
     "output_type": "stream",
     "text": [
      "1\n"
     ]
    }
   ],
   "source": [
    "from multiprocessing import Queue\n",
    "\n",
    "customQ = Queue(maxsize=3)\n",
    "customQ.put(1)\n",
    "print(customQ.get())"
   ]
  },
  {
   "cell_type": "code",
   "execution_count": null,
   "metadata": {},
   "outputs": [],
   "source": []
  }
 ],
 "metadata": {
  "kernelspec": {
   "display_name": "Python 3",
   "language": "python",
   "name": "python3"
  },
  "language_info": {
   "codemirror_mode": {
    "name": "ipython",
    "version": 3
   },
   "file_extension": ".py",
   "mimetype": "text/x-python",
   "name": "python",
   "nbconvert_exporter": "python",
   "pygments_lexer": "ipython3",
   "version": "3.10.13"
  }
 },
 "nbformat": 4,
 "nbformat_minor": 2
}
