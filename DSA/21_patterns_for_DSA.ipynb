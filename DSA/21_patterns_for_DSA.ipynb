{
 "cells": [
  {
   "cell_type": "markdown",
   "metadata": {},
   "source": [
    "## 1. Prefix \n",
    "**Caching Approach**  \n",
    "\n",
    "Imagine that we pre-compute the cummulative sum from index 0 to k. Could we use this information to derive Sum(i,j)?\n",
    "Let us define sum[k] as the cumulative sum for nums[0.....k−1] (inclusive):\n",
    "Now, we can calculate sumRange as following:sumRange(i,j)=sum[j+1]−sum[i]\n",
    "\n",
    "\n",
    "Prefix Sum involves preprocessing an array to create a new array where each element at index i represents the sum of the array from the start up to i. This allows for efficient sum queries on subarrays.\n",
    "\n",
    "Use this pattern when you need to perform multiple sum queries on a subarray or need to calculate cumulative sums.\n",
    "\n",
    "Sample Problem:\n",
    "Given an array nums, answer multiple queries about the sum of elements within a specific range [i, j].\n",
    "\n",
    "Example:\n",
    "Input: nums = [1, 2, 3, 4, 5, 6], i = 1, j = 3\n",
    "Output: 9\n",
    "\n",
    "Explanation:\n",
    "Preprocess the array A to create a prefix sum array staring with 0 so len+1: P = [0, 1, 3, 6, 10, 15, 21].\n",
    "To find the sum between indices i and j, use the formula: sum[j+1]−sum[i].\n",
    "\n",
    "Notice in the code above we inserted a dummy 0 as the first element in the sum array. This trick saves us from an extra conditional check in sumRange function.\n",
    "\n",
    "Complexity Analysis\n",
    "Time complexity: O(1) time per query, O(n) time pre-computation.\n",
    "Since the cumulative sum is cached, each sumRange query can be calculated in O(1) time.\n",
    "\n",
    "Space complexity: O(n).\n",
    "\n",
    "LeetCode Problems:\n",
    "Range Sum Query - Immutable (LeetCode #303)\n",
    "\n",
    "Contiguous Array (LeetCode #525)\n",
    "\n",
    "Subarray Sum Equals K (LeetCode #560)"
   ]
  },
  {
   "cell_type": "markdown",
   "metadata": {},
   "source": [
    "##### Range Sum Query - Immutable (LeetCode #303)"
   ]
  },
  {
   "cell_type": "markdown",
   "metadata": {},
   "source": [
    "\n",
    "Given an integer array nums, handle multiple queries of the following type:\n",
    "\n",
    "Calculate the sum of the elements of nums between indices left and right inclusive where left <= right.\n",
    "Implement the NumArray class:\n",
    "\n",
    "NumArray(int[] nums) Initializes the object with the integer array nums.\n",
    "int sumRange(int left, int right) Returns the sum of the elements of nums between indices left and right inclusive (i.e. nums[left] + nums[left + 1] + ... + nums[right]).\n",
    " \n",
    "Example 1:\n",
    "\n",
    "Input\n",
    "[\"NumArray\", \"sumRange\", \"sumRange\", \"sumRange\"]\n",
    "[[[-2, 0, 3, -5, 2, -1]], [0, 2], [2, 5], [0, 5]]\n",
    "Output\n",
    "[null, 1, -1, -3]\n",
    "\n",
    "Explanation\n",
    "NumArray numArray = new NumArray([-2, 0, 3, -5, 2, -1]);\n",
    "numArray.sumRange(0, 2); // return (-2) + 0 + 3 = 1\n",
    "numArray.sumRange(2, 5); // return 3 + (-5) + 2 + (-1) = -1\n",
    "numArray.sumRange(0, 5); // return (-2) + 0 + 3 + (-5) + 2 + (-1) = -3"
   ]
  },
  {
   "cell_type": "code",
   "execution_count": 1,
   "metadata": {},
   "outputs": [],
   "source": [
    "from typing import List\n",
    "\n",
    "class NumArray:\n",
    "\n",
    "    def __init__(self, nums: List[int]):\n",
    "        self.nums = nums\n",
    "        self._cum_sum = [0]\n",
    "        _current_sum = 0\n",
    "\n",
    "        for val in self.nums:\n",
    "            _current_sum += val\n",
    "            self._cum_sum.append(_current_sum)        \n",
    "\n",
    "    def sumRange(self, left: int, right: int) -> int:\n",
    "        range_sum = self._cum_sum[right+1] - self._cum_sum[left]\n",
    "        print(f\"input list = {self.nums} | cumulative sum of list = {self._cum_sum}\")\n",
    "        return range_sum"
   ]
  },
  {
   "cell_type": "code",
   "execution_count": 2,
   "metadata": {},
   "outputs": [
    {
     "name": "stdout",
     "output_type": "stream",
     "text": [
      "input list = [-2, 0, 3, -5, 2, -1] | cumulative sum of list = [0, -2, -2, 1, -4, -2, -3]\n",
      "1\n",
      "input list = [-2, 0, 3, -5, 2, -1] | cumulative sum of list = [0, -2, -2, 1, -4, -2, -3]\n",
      "-1\n",
      "input list = [-2, 0, 3, -5, 2, -1] | cumulative sum of list = [0, -2, -2, 1, -4, -2, -3]\n",
      "-3\n"
     ]
    }
   ],
   "source": [
    "tl = [-2, 0, 3, -5, 2, -1]\n",
    "obj = NumArray(tl)\n",
    "print(obj.sumRange(0,2))\n",
    "print(obj.sumRange(2,5))\n",
    "print(obj.sumRange(0,5))"
   ]
  },
  {
   "cell_type": "markdown",
   "metadata": {},
   "source": [
    "##### Contiguous Array (LeetCode #525)"
   ]
  },
  {
   "cell_type": "markdown",
   "metadata": {},
   "source": [
    "Given a binary array nums, return the maximum length of a contiguous subarray with an equal number of 0 and 1.\n",
    "\n",
    "Example 1:\n",
    "Input: nums = [0,1]\n",
    "Output: 2\n",
    "Explanation: [0, 1] is the longest contiguous subarray with an equal number of 0 and 1.\n",
    "\n",
    "Example 2:\n",
    "Input: nums = [0,1,0]\n",
    "Output: 2\n",
    "Explanation: [0, 1] (or [1, 0]) is a longest contiguous subarray with equal number of 0 and 1.\n",
    "\n",
    "Constraints:\n",
    "\n",
    "1 <= nums.length <= 105  \n",
    "nums[i] is either 0 or 1."
   ]
  },
  {
   "cell_type": "code",
   "execution_count": null,
   "metadata": {},
   "outputs": [],
   "source": []
  },
  {
   "cell_type": "markdown",
   "metadata": {},
   "source": [
    "##### Subarray Sum Equals K (LeetCode #560)"
   ]
  },
  {
   "cell_type": "markdown",
   "metadata": {},
   "source": [
    "Given an array of integers nums and an integer k, return the total number of subarrays whose sum equals to k.\n",
    "\n",
    "A subarray is a contiguous non-empty sequence of elements within an array.\n",
    "\n",
    "Example 1:\n",
    "\n",
    "Input: nums = [1,1,1], k = 2\n",
    "Output: 2\n",
    "Example 2:\n",
    "\n",
    "Input: nums = [1,2,3], k = 3\n",
    "Output: 2\n",
    " \n",
    "Constraints:\n",
    "\n",
    "1 <= nums.length <= 2 * 104  \n",
    "-1000 <= nums[i] <= 1000  \n",
    "-107 <= k <= 107  "
   ]
  },
  {
   "cell_type": "markdown",
   "metadata": {},
   "source": [
    "Instead of determining the sum of elements every time for every new subarray considered, we can make use of a cumulative sum array , sum. Then, in order to calculate the sum of elements lying between two indices, we can subtract the cumulative sum corresponding to the two indices to obtain the sum directly, instead of iterating over the subarray to obtain the sum.\n",
    "\n",
    "In this implementation, we make use of a cumulative sum array, sum, such that sum[i] is used to store the cumulative sum of nums array up to the element corresponding to the (i−1) \n",
    "th\n",
    "  index. Thus, to determine the sum of elements for the subarray nums[i:j], we can directly use sum[j+1]−sum[i]."
   ]
  },
  {
   "cell_type": "code",
   "execution_count": 30,
   "metadata": {},
   "outputs": [],
   "source": [
    "from typing import List\n",
    "\n",
    "class Solution:\n",
    "\n",
    "    def subarraySum(self, nums: List[int], k: int) -> int:\n",
    "        cum_sum = [0]\n",
    "        current_sum = 0\n",
    "        count = 0\n",
    "\n",
    "        for val in nums:\n",
    "            current_sum += val\n",
    "            cum_sum.append(current_sum) \n",
    "\n",
    "        print(f\"input={nums} | cum sum={cum_sum}\")\n",
    "        l=[]\n",
    "        for start in range(len(nums)):\n",
    "            for next in range(start+1, len(cum_sum)):\n",
    "                if cum_sum[next] - cum_sum[start] == k:\n",
    "                    l.append((nums[start], nums[next-1])) if start != next-1 else l.append((nums[start],))\n",
    "                    count += 1\n",
    "        print(l)\n",
    "        return count"
   ]
  },
  {
   "cell_type": "code",
   "execution_count": 31,
   "metadata": {},
   "outputs": [
    {
     "name": "stdout",
     "output_type": "stream",
     "text": [
      "input=[1, 1, 1] | cum sum=[0, 1, 2, 3]\n",
      "[(1, 1), (1, 1)]\n"
     ]
    },
    {
     "data": {
      "text/plain": [
       "2"
      ]
     },
     "execution_count": 31,
     "metadata": {},
     "output_type": "execute_result"
    }
   ],
   "source": [
    "obj = Solution()\n",
    "obj.subarraySum([1,1,1], 2)"
   ]
  },
  {
   "cell_type": "code",
   "execution_count": 32,
   "metadata": {},
   "outputs": [
    {
     "name": "stdout",
     "output_type": "stream",
     "text": [
      "input=[1, 2, 3] | cum sum=[0, 1, 3, 6]\n",
      "[(1, 2), (3,)]\n"
     ]
    },
    {
     "data": {
      "text/plain": [
       "2"
      ]
     },
     "execution_count": 32,
     "metadata": {},
     "output_type": "execute_result"
    }
   ],
   "source": [
    "obj.subarraySum([1,2,3], 3)"
   ]
  },
  {
   "cell_type": "code",
   "execution_count": 33,
   "metadata": {},
   "outputs": [
    {
     "name": "stdout",
     "output_type": "stream",
     "text": [
      "input=[1, 2, 3, 4, 1, 5, 6, -1, 7, 8, -3, 9, -4] | cum sum=[0, 1, 3, 6, 10, 11, 16, 22, 21, 28, 36, 33, 42, 38]\n",
      "[(2, 3), (4, 1), (5,), (6, -1), (8, -3), (9, -4)]\n"
     ]
    },
    {
     "data": {
      "text/plain": [
       "6"
      ]
     },
     "execution_count": 33,
     "metadata": {},
     "output_type": "execute_result"
    }
   ],
   "source": [
    "obj = Solution()\n",
    "obj.subarraySum([1,2,3,4,1,5,6,-1,7,8,-3,9,-4], 5)"
   ]
  },
  {
   "cell_type": "markdown",
   "metadata": {},
   "source": [
    "##### Contiguous Array (LeetCode #525)"
   ]
  },
  {
   "cell_type": "markdown",
   "metadata": {},
   "source": [
    "Given a binary array nums, return the maximum length of a contiguous subarray with an equal number of 0 and 1.  \n",
    "Example 1:  \n",
    "Input: nums = [0,1]  \n",
    "Output: 2  \n",
    "Explanation: [0, 1] is the longest contiguous subarray with an equal number of 0 and 1.  \n",
    "\n",
    "Example 2:  \n",
    "Input: nums = [0,1,0]  \n",
    "Output: 2  \n",
    "Explanation: [0, 1] (or [1, 0]) is a longest contiguous subarray with equal number of 0 and 1.  \n",
    "\n",
    "Constraints:  \n",
    "\n",
    "1 <= nums.length <= 105  \n",
    "nums[i] is either 0 or 1."
   ]
  },
  {
   "cell_type": "markdown",
   "metadata": {},
   "source": [
    "## Two Pointers : Array must be sorted or sort it first"
   ]
  },
  {
   "cell_type": "markdown",
   "metadata": {},
   "source": [
    "##### Two Sum II - Input Array is Sorted (LeetCode #167)"
   ]
  },
  {
   "cell_type": "code",
   "execution_count": 1,
   "metadata": {},
   "outputs": [],
   "source": [
    "Given a 1-indexed array of integers numbers that is already sorted in non-decreasing order, find two numbers such that they add up to a specific target number. Let these two numbers be numbers[index1] and numbers[index2] where 1 <= index1 < index2 <= numbers.length.\n",
    "\n",
    "Return the indices of the two numbers, index1 and index2, added by one as an integer array [index1, index2] of length 2.\n",
    "\n",
    "The tests are generated such that there is exactly one solution. You may not use the same element twice.\n",
    "\n",
    "Your solution must use only constant extra space.\n",
    "\n",
    " \n",
    "\n",
    "Example 1:\n",
    "\n",
    "Input: numbers = [2,7,11,15], target = 9\n",
    "Output: [1,2]\n",
    "Explanation: The sum of 2 and 7 is 9. Therefore, index1 = 1, index2 = 2. We return [1, 2].\n",
    "Example 2:\n",
    "\n",
    "Input: numbers = [2,3,4], target = 6\n",
    "Output: [1,3]\n",
    "Explanation: The sum of 2 and 4 is 6. Therefore index1 = 1, index2 = 3. We return [1, 3].\n",
    "Example 3:\n",
    "\n",
    "Input: numbers = [-1,0], target = -1\n",
    "Output: [1,2]\n",
    "Explanation: The sum of -1 and 0 is -1. Therefore index1 = 1, index2 = 2. We return [1, 2].\n",
    " \n",
    "\n",
    "Constraints:\n",
    "\n",
    "2 <= numbers.length <= 3 * 104\n",
    "-1000 <= numbers[i] <= 1000\n",
    "numbers is sorted in non-decreasing order.\n",
    "-1000 <= target <= 1000\n",
    "The tests are generated such that there is exactly one solution."
   ]
  },
  {
   "cell_type": "code",
   "execution_count": 3,
   "metadata": {},
   "outputs": [],
   "source": [
    "from typing import List\n",
    "class Solution:\n",
    "\n",
    "    def twoSum(self, numbers: List[int], target: int) -> List[int]:\n",
    "        start = 0\n",
    "        end = len(numbers)-1\n",
    "        while start < end:\n",
    "            if numbers[start] + numbers[end] > target:\n",
    "                end -= 1\n",
    "            elif numbers[start] + numbers[end] < target:\n",
    "                start += 1\n",
    "            else:\n",
    "                return list((start+1,end+1))"
   ]
  },
  {
   "cell_type": "code",
   "execution_count": 4,
   "metadata": {},
   "outputs": [
    {
     "data": {
      "text/plain": [
       "[1, 2]"
      ]
     },
     "execution_count": 4,
     "metadata": {},
     "output_type": "execute_result"
    }
   ],
   "source": [
    "obj = Solution()\n",
    "obj.twoSum([2,7,11,15], 9)"
   ]
  },
  {
   "cell_type": "code",
   "execution_count": 5,
   "metadata": {},
   "outputs": [
    {
     "data": {
      "text/plain": [
       "[1, 3]"
      ]
     },
     "execution_count": 5,
     "metadata": {},
     "output_type": "execute_result"
    }
   ],
   "source": [
    "obj.twoSum([2,3,4], 6)"
   ]
  },
  {
   "cell_type": "code",
   "execution_count": 6,
   "metadata": {},
   "outputs": [
    {
     "data": {
      "text/plain": [
       "[1, 2]"
      ]
     },
     "execution_count": 6,
     "metadata": {},
     "output_type": "execute_result"
    }
   ],
   "source": [
    "obj.twoSum([-1,0], -1)"
   ]
  },
  {
   "cell_type": "markdown",
   "metadata": {},
   "source": [
    "##### 3Sum (LeetCode #15)"
   ]
  },
  {
   "cell_type": "markdown",
   "metadata": {},
   "source": [
    "Given an integer array nums, return all the triplets [nums[i], nums[j], nums[k]] such that i != j, i != k, and j != k, and nums[i] + nums[j] + nums[k] == 0.\n",
    "\n",
    "Notice that the solution set must not contain duplicate triplets.\n",
    "\n",
    "Example 1:\n",
    "\n",
    "Input: nums = [-1,0,1,2,-1,-4]\n",
    "Output: [[-1,-1,2],[-1,0,1]]\n",
    "Explanation: \n",
    "nums[0] + nums[1] + nums[2] = (-1) + 0 + 1 = 0.\n",
    "nums[1] + nums[2] + nums[4] = 0 + 1 + (-1) = 0.\n",
    "nums[0] + nums[3] + nums[4] = (-1) + 2 + (-1) = 0.\n",
    "The distinct triplets are [-1,0,1] and [-1,-1,2].\n",
    "Notice that the order of the output and the order of the triplets does not matter.\n",
    "Example 2:\n",
    "\n",
    "Input: nums = [0,1,1]\n",
    "Output: []\n",
    "Explanation: The only possible triplet does not sum up to 0.\n",
    "Example 3:\n",
    "\n",
    "Input: nums = [0,0,0]\n",
    "Output: [[0,0,0]]\n",
    "Explanation: The only possible triplet sums up to 0.\n",
    " \n",
    "\n",
    "Constraints:\n",
    "\n",
    "3 <= nums.length <= 3000\n",
    "-105 <= nums[i] <= 105"
   ]
  },
  {
   "cell_type": "markdown",
   "metadata": {},
   "source": [
    "Algoexpert :: Array : Three Number Sum\n",
    "\n",
    "Three Number Sum\n",
    "Write a function that takes in a non-empty array of distinct integers and an integer representing a target sum. The function should find all triplets in the array that sum up to the target sum and return a two-dimensional array of all these triplets. The numbers in each triplet should be ordered in ascending order, and the triplets themselves should be ordered in ascending order with respect to the numbers they hold.\n",
    "\n",
    "If no three numbers sum up to the target sum, the function should return an empty array.\n",
    "Input:-\n",
    "array = [12, 3, 1, 2, -6, 5, -8, 6]\n",
    "targetSum = 0\n",
    "\n",
    "Output:-\n",
    "[[-8, 2, 6], [-8, 3, 5], [-6, 1, 5]]"
   ]
  },
  {
   "cell_type": "code",
   "execution_count": 11,
   "metadata": {},
   "outputs": [],
   "source": [
    "#according to Algoexpert only working for it\n",
    "class Solution:\n",
    "    def threeSum(self, nums: List[int]) -> List[List[int]]:\n",
    "        nums.sort()\n",
    "        triplets = []\n",
    "\n",
    "        for i in range(len(nums)-2):\n",
    "            start = i+1\n",
    "            end = len(nums)-1\n",
    "            while start < end:\n",
    "                current_sum = nums[i] + nums[start] + nums[end]\n",
    "                if current_sum == 0:\n",
    "                    triplets.append([nums[i], nums[start], nums[end]])\n",
    "                    start += 1\n",
    "                    #end -= 1\n",
    "                elif current_sum < 0:\n",
    "                    start += 1\n",
    "                elif current_sum > 0:\n",
    "                    end -= 1\n",
    "        return triplets"
   ]
  },
  {
   "cell_type": "code",
   "execution_count": 12,
   "metadata": {},
   "outputs": [
    {
     "data": {
      "text/plain": [
       "[[-8, 2, 6], [-8, 3, 5], [-6, 1, 5]]"
      ]
     },
     "execution_count": 12,
     "metadata": {},
     "output_type": "execute_result"
    }
   ],
   "source": [
    "obj = Solution()\n",
    "#targetSum = 0 hard-coded above\n",
    "obj.threeSum(nums = [12, 3, 1, 2, -6, 5, -8, 6])"
   ]
  },
  {
   "cell_type": "code",
   "execution_count": 13,
   "metadata": {},
   "outputs": [
    {
     "data": {
      "text/plain": [
       "[[-1, -1, 2], [-1, 0, 1], [-1, 0, 1]]"
      ]
     },
     "execution_count": 13,
     "metadata": {},
     "output_type": "execute_result"
    }
   ],
   "source": [
    "#giving expected result as per LEETCODE, but with one duplicate for which we didn't do anything, let's fix it with above program nxt\n",
    "obj.threeSum(nums = [-1,0,1,2,-1,-4])"
   ]
  },
  {
   "cell_type": "code",
   "execution_count": 14,
   "metadata": {},
   "outputs": [
    {
     "data": {
      "text/plain": [
       "[[-2, 0, 2], [-2, 0, 2]]"
      ]
     },
     "execution_count": 14,
     "metadata": {},
     "output_type": "execute_result"
    }
   ],
   "source": [
    "#Expected Output = [[-2,0,2]], but our output has duplicate\n",
    "obj.threeSum(nums = [-2,0,0,2,2])"
   ]
  },
  {
   "cell_type": "code",
   "execution_count": null,
   "metadata": {},
   "outputs": [],
   "source": [
    "#Anurag's Sol\n",
    "class Solution:\n",
    "    def threeSum(self, nums: List[int]) -> List[List[int]]:\n",
    "        ls=[]\n",
    "        nums.sort()\n",
    "        for i in range(len(nums)):\n",
    "            if nums[i] > 0:  # Early exit if the current number is positive\n",
    "                break\n",
    "            if i>0 and nums[i]==nums[i-1]:\n",
    "                continue\n",
    "            j=i+1\n",
    "            k=len(nums)-1\n",
    "            while  j<k:\n",
    "                if nums[i]+nums[j]+nums[k]==0:\n",
    "                    ls.append([nums[i],nums[j],nums[k]])\n",
    "                    while j<k and nums[j] == nums[j + 1]:\n",
    "                        j=j+1\n",
    "                    while j<k and nums[k] == nums[k - 1]:\n",
    "                        k=k-1\n",
    "                    j=j+1\n",
    "                    k=k-1\n",
    "                elif nums[i]+nums[j]+nums[k]>0:\n",
    "                    k=k-1\n",
    "                else:\n",
    "                    j=j+1\n",
    "        return ls"
   ]
  },
  {
   "cell_type": "code",
   "execution_count": 7,
   "metadata": {},
   "outputs": [],
   "source": [
    "#according to Algoexpert but with duplicate fix\n",
    "from typing import List\n",
    "class Solution:\n",
    "    def threeSum(self, nums: List[int]) -> List[List[int]]:\n",
    "        nums.sort()\n",
    "        triplets = []\n",
    "\n",
    "        for i in range(len(nums)-2):\n",
    "            if nums[i] > 0:\n",
    "                break\n",
    "            if i > 0 and nums[i] == nums[i-1]:\n",
    "                continue\n",
    "            else:\n",
    "                start = i+1\n",
    "                end = len(nums)-1\n",
    "                while start < end:\n",
    "                    current_sum = nums[i] + nums[start] + nums[end]\n",
    "                    if current_sum == 0:\n",
    "                        triplets.append([nums[i], nums[start], nums[end]])\n",
    "                        start += 1\n",
    "                        #end -= 1\n",
    "                    elif current_sum < 0:\n",
    "                        start += 1\n",
    "                    elif current_sum > 0:\n",
    "                        end -= 1\n",
    "        return triplets"
   ]
  },
  {
   "cell_type": "code",
   "execution_count": 8,
   "metadata": {},
   "outputs": [
    {
     "data": {
      "text/plain": [
       "[[-8, 2, 6], [-8, 3, 5], [-6, 1, 5]]"
      ]
     },
     "execution_count": 8,
     "metadata": {},
     "output_type": "execute_result"
    }
   ],
   "source": [
    "obj = Solution()\n",
    "obj.threeSum(nums = [12, 3, 1, 2, -6, 5, -8, 6])"
   ]
  },
  {
   "cell_type": "code",
   "execution_count": 9,
   "metadata": {},
   "outputs": [
    {
     "data": {
      "text/plain": [
       "[[-1, -1, 2], [-1, 0, 1]]"
      ]
     },
     "execution_count": 9,
     "metadata": {},
     "output_type": "execute_result"
    }
   ],
   "source": [
    "obj.threeSum(nums = [-1,0,1,2,-1,-4])"
   ]
  },
  {
   "cell_type": "code",
   "execution_count": 10,
   "metadata": {},
   "outputs": [
    {
     "data": {
      "text/plain": [
       "[[-2, 0, 2], [-2, 0, 2]]"
      ]
     },
     "execution_count": 10,
     "metadata": {},
     "output_type": "execute_result"
    }
   ],
   "source": [
    "#Expected Output = [[-2,0,2]], above case doesn't have duplicate but this program failing for below input to avoid duplicate\n",
    "obj.threeSum(nums = [-2,0,0,2,2])"
   ]
  },
  {
   "cell_type": "code",
   "execution_count": 98,
   "metadata": {},
   "outputs": [],
   "source": [
    "#https://leetcode.com/problems/3sum/solutions/5055810/video-two-pointer-solution/\n",
    "#BEST Solution : this one also working for both inputs referred from LEETCODE\n",
    "class Solution:\n",
    "    def threeSum(self, nums: List[int]) -> List[List[int]]:\n",
    "        nums.sort()\n",
    "        triplets = []\n",
    "\n",
    "        for i in range(len(nums)):\n",
    "            if i > 0 and nums[i] == nums[i-1]:\n",
    "                continue\n",
    "            else:\n",
    "                start = i+1\n",
    "                end = len(nums)-1\n",
    "                while start < end:\n",
    "                    current_sum = nums[i] + nums[start] + nums[end]\n",
    "                    if current_sum > 0:\n",
    "                        end -= 1\n",
    "                    elif current_sum < 0:\n",
    "                        start += 1\n",
    "                    else:\n",
    "                        triplets.append([nums[i], nums[start], nums[end]])\n",
    "                        start += 1\n",
    "                        while nums[start] == nums[start-1] and start < end:\n",
    "                            start += 1\n",
    "        return triplets"
   ]
  },
  {
   "cell_type": "code",
   "execution_count": 99,
   "metadata": {},
   "outputs": [
    {
     "data": {
      "text/plain": [
       "[[-8, 2, 6], [-8, 3, 5], [-6, 1, 5]]"
      ]
     },
     "execution_count": 99,
     "metadata": {},
     "output_type": "execute_result"
    }
   ],
   "source": [
    "obj = Solution()\n",
    "obj.threeSum(nums = [12, 3, 1, 2, -6, 5, -8, 6])"
   ]
  },
  {
   "cell_type": "code",
   "execution_count": 100,
   "metadata": {},
   "outputs": [
    {
     "data": {
      "text/plain": [
       "[[-1, -1, 2], [-1, 0, 1]]"
      ]
     },
     "execution_count": 100,
     "metadata": {},
     "output_type": "execute_result"
    }
   ],
   "source": [
    "obj = Solution()\n",
    "obj.threeSum(nums = [-1,0,1,2,-1,-4])"
   ]
  },
  {
   "cell_type": "code",
   "execution_count": 101,
   "metadata": {},
   "outputs": [
    {
     "data": {
      "text/plain": [
       "[[-2, 0, 2]]"
      ]
     },
     "execution_count": 101,
     "metadata": {},
     "output_type": "execute_result"
    }
   ],
   "source": [
    "obj.threeSum(nums = [-2,0,0,2,2])"
   ]
  },
  {
   "cell_type": "markdown",
   "metadata": {},
   "source": [
    "##### Container With Most Water (LeetCode #11)\n",
    "You are given an integer array height of length n. There are n vertical lines drawn such that the two endpoints of the ith line are (i, 0) and (i, height[i]).  \n",
    "\n",
    "Find two lines that together with the x-axis form a container, such that the container contains the most water.  \n",
    "\n",
    "Return the maximum amount of water a container can store.  \n",
    "\n",
    "Notice that you may not slant the container.  \n",
    " \n",
    "<img src=\"/workspaces/Atlas/DSA/images/21_patterns/11_container_with_most_water.jpeg\">   \n",
    "Input: height = [1,8,6,2,5,4,8,3,7]  \n",
    "Output: 49  \n",
    "Explanation: The above vertical lines are represented by array [1,8,6,2,5,4,8,3,7]. In this case, the max area of water (blue section) the container can contain is 49.\n",
    "\n",
    "Example 2:  \n",
    "Input: height = [1,1]  \n",
    "Output: 1"
   ]
  },
  {
   "cell_type": "code",
   "execution_count": 108,
   "metadata": {},
   "outputs": [],
   "source": [
    "#https://leetcode.com/problems/container-with-most-water/solutions/5139915/video-simple-two-pointer-solution/\n",
    "class Solution:\n",
    "    def maxArea(self, height: List[int]) -> int:\n",
    "        maxArea,start,end = 0,0,len(height)-1\n",
    "\n",
    "        while start < end:\n",
    "            width = end - start\n",
    "            maxArea = max(maxArea, min(height[start],height[end])*width)\n",
    "            #After that, we want to move one of the pointers. How can we judge it? \n",
    "            #It's simple. We want to keep taller height between left and right \n",
    "            #because there is a possibility that we will get max area with the taller height.\n",
    "            # if height[start] <= height[end]:\n",
    "            #     start += 1\n",
    "            # else:\n",
    "            #     end -= 1\n",
    "            start += 1 if height[start] <= height[end] else \n",
    "        return maxArea"
   ]
  },
  {
   "cell_type": "code",
   "execution_count": 109,
   "metadata": {},
   "outputs": [
    {
     "data": {
      "text/plain": [
       "49"
      ]
     },
     "execution_count": 109,
     "metadata": {},
     "output_type": "execute_result"
    }
   ],
   "source": [
    "obj = Solution()\n",
    "obj.maxArea([1,8,6,2,5,4,8,3,7])"
   ]
  },
  {
   "cell_type": "code",
   "execution_count": 110,
   "metadata": {},
   "outputs": [
    {
     "data": {
      "text/plain": [
       "1"
      ]
     },
     "execution_count": 110,
     "metadata": {},
     "output_type": "execute_result"
    }
   ],
   "source": [
    "obj.maxArea([1,1])"
   ]
  },
  {
   "cell_type": "markdown",
   "metadata": {},
   "source": [
    "## 3. Sliding Window"
   ]
  },
  {
   "cell_type": "markdown",
   "metadata": {},
   "source": [
    "The Sliding Window pattern is used to find a subarray or substring that satisfies a specific condition, optimizing the time complexity by maintaining a window of elements.\n",
    "\n",
    "Use this pattern when dealing with problems involving contiguous subarrays or substrings.\n",
    "\n",
    "Sample Problem:\n",
    "Find the maximum sum of a subarray of size k.\n",
    "\n",
    "Example:\n",
    "\n",
    "Input: nums = [2, 1, 5, 1, 3, 2], k = 3\n",
    "\n",
    "Output: 9\n",
    "\n",
    "Explanation:\n",
    "Start with the sum of the first k elements.\n",
    "\n",
    "Slide the window one element at a time, subtracting the element that goes out of the window and adding the new element.\n",
    "\n",
    "Keep track of the maximum sum encountered.\n",
    "\n",
    "LeetCode Problems:\n",
    "\n",
    "\n",
    "Longest Substring Without Repeating Characters (LeetCode #3)\n",
    "\n",
    "Minimum Window Substring (LeetCode #76)"
   ]
  },
  {
   "cell_type": "markdown",
   "metadata": {},
   "source": [
    "##### Maximum Average Subarray I (LeetCode #643)"
   ]
  },
  {
   "cell_type": "markdown",
   "metadata": {},
   "source": [
    "You are given an integer array nums consisting of n elements, and an integer k.\n",
    "\n",
    "Find a contiguous subarray whose length is equal to k that has the maximum average value and return this value. Any answer with a calculation error less than 10-5 will be accepted.\n",
    "\n",
    " \n",
    "\n",
    "Example 1:\n",
    "\n",
    "Input: nums = [1,12,-5,-6,50,3], k = 4\n",
    "Output: 12.75000\n",
    "Explanation: Maximum average is (12 - 5 - 6 + 50) / 4 = 51 / 4 = 12.75\n",
    "Example 2:\n",
    "\n",
    "Input: nums = [5], k = 1\n",
    "Output: 5.00000\n",
    " \n",
    "\n",
    "Constraints:\n",
    "\n",
    "n == nums.length\n",
    "1 <= k <= n <= 105\n",
    "-104 <= nums[i] <= 104"
   ]
  },
  {
   "cell_type": "code",
   "execution_count": 15,
   "metadata": {},
   "outputs": [],
   "source": [
    "class Solution:\n",
    "    def findMaxAverage(self, nums: List[int], k: int) -> float:\n",
    "        start = 0\n",
    "        end = k\n",
    "        max_avg = float('-inf')\n",
    "        max_avg_idx = (0,0)\n",
    "        input_len = len(nums)\n",
    "\n",
    "        while end <= input_len:\n",
    "            max_avg = max(max_avg, sum(nums[start:end])/k)\n",
    "            start += 1\n",
    "            end += 1\n",
    "\n",
    "        return max_avg"
   ]
  },
  {
   "cell_type": "code",
   "execution_count": 16,
   "metadata": {},
   "outputs": [
    {
     "data": {
      "text/plain": [
       "12.75"
      ]
     },
     "execution_count": 16,
     "metadata": {},
     "output_type": "execute_result"
    }
   ],
   "source": [
    "obj = Solution()\n",
    "obj.findMaxAverage([1,12,-5,-6,50,3], 4)"
   ]
  },
  {
   "cell_type": "code",
   "execution_count": 17,
   "metadata": {},
   "outputs": [
    {
     "data": {
      "text/plain": [
       "5.0"
      ]
     },
     "execution_count": 17,
     "metadata": {},
     "output_type": "execute_result"
    }
   ],
   "source": [
    "obj.findMaxAverage([5], 1)"
   ]
  },
  {
   "cell_type": "code",
   "execution_count": 18,
   "metadata": {},
   "outputs": [
    {
     "data": {
      "text/plain": [
       "-1.0"
      ]
     },
     "execution_count": 18,
     "metadata": {},
     "output_type": "execute_result"
    }
   ],
   "source": [
    "#Expected = -1.0, so above program failing for this edge case input, coz of max(0.0, -1.0) will yield 0.0 which is grater value than -1\n",
    "obj.findMaxAverage([-1], 1)"
   ]
  },
  {
   "cell_type": "markdown",
   "metadata": {},
   "source": [
    "**using sliding window**\n",
    "https://leetcode.com/problems/maximum-average-subarray-i/solutions/5631264/sliding-window-for-max-average-subarray-beats-93-speed-80-memory/\n",
    "\n",
    "- Start by calculating the sum of the first k elements. This will be our initial sum and also our initial maximum sum.\n",
    "- Then, slide the window one element at a time from the start of the array to the end:\n",
    "    - Subtract the element that is no longer in the window (i.e., the element at the start of the previous window).\n",
    "    - Add the new element that enters the window (i.e., the element at the end of the current window).\n",
    "- After updating the sum for the current window, compare it with the maximum sum found so far and update the maximum sum if the current sum is larger.\n",
    "- Finally, return the maximum sum divided by k to get the maximum average."
   ]
  },
  {
   "cell_type": "code",
   "execution_count": 154,
   "metadata": {},
   "outputs": [],
   "source": [
    "class Solution:\n",
    "    def findMaxAverage(self, nums: List[int], k: int) -> float:\n",
    "        nums_len = len(nums)\n",
    "        # Initialize current_sum and max_sum to the sum of the initial k elements\n",
    "        current_sum = sum(nums[:k])\n",
    "        max_sum = current_sum\n",
    "    #loop will start from k, coz we have already sum of first k elements as current_sum=sum(nums[:k]), so start with value after k\n",
    "        for idx in range(k, nums_len):\n",
    "            # Subtract the left element of the window\n",
    "            # Add the right element of the window\n",
    "            #curr_sum += nums[idx] - nums[idx-k] can be written as below \n",
    "            current_sum += nums[idx]\n",
    "            current_sum -= nums[idx-k]\n",
    "            max_sum = current_sum if current_sum > max_sum else max_sum\n",
    "        return max_sum/k"
   ]
  },
  {
   "cell_type": "code",
   "execution_count": 155,
   "metadata": {},
   "outputs": [
    {
     "data": {
      "text/plain": [
       "12.75"
      ]
     },
     "execution_count": 155,
     "metadata": {},
     "output_type": "execute_result"
    }
   ],
   "source": [
    "obj = Solution()\n",
    "obj.findMaxAverage([1,12,-5,-6,50,3], 4)"
   ]
  },
  {
   "cell_type": "code",
   "execution_count": 156,
   "metadata": {},
   "outputs": [
    {
     "data": {
      "text/plain": [
       "5.0"
      ]
     },
     "execution_count": 156,
     "metadata": {},
     "output_type": "execute_result"
    }
   ],
   "source": [
    "obj.findMaxAverage([5], 1)"
   ]
  },
  {
   "cell_type": "code",
   "execution_count": 157,
   "metadata": {},
   "outputs": [
    {
     "data": {
      "text/plain": [
       "-1.0"
      ]
     },
     "execution_count": 157,
     "metadata": {},
     "output_type": "execute_result"
    }
   ],
   "source": [
    "obj.findMaxAverage([-1], 1)"
   ]
  },
  {
   "cell_type": "code",
   "execution_count": 172,
   "metadata": {},
   "outputs": [],
   "source": [
    "#using cumulative sum\n",
    "class Solution:\n",
    "    def findMaxAverage(self, nums: List[int], k: int) -> float:\n",
    "        cum_sum=[]\n",
    "        current_sum = 0\n",
    "\n",
    "        for val in nums:\n",
    "            current_sum += val\n",
    "            cum_sum.append(current_sum)\n",
    "\n",
    "        max_avg = cum_sum[k-1]/k\n",
    "        print(f\"input={nums} | cum_sum={cum_sum} | max_avg={max_avg}\")\n",
    "        \n",
    "        for idx in range(k, len(nums)):\n",
    "            max_avg = max(max_avg, (cum_sum[idx]-cum_sum[idx-k])/k)\n",
    "\n",
    "        return max_avg"
   ]
  },
  {
   "cell_type": "code",
   "execution_count": 173,
   "metadata": {},
   "outputs": [
    {
     "name": "stdout",
     "output_type": "stream",
     "text": [
      "input=[1, 12, -5, -6, 50, 3] | cum_sum=[1, 13, 8, 2, 52, 55] | max_avg=0.5\n"
     ]
    },
    {
     "data": {
      "text/plain": [
       "12.75"
      ]
     },
     "execution_count": 173,
     "metadata": {},
     "output_type": "execute_result"
    }
   ],
   "source": [
    "obj = Solution()\n",
    "obj.findMaxAverage([1,12,-5,-6,50,3], 4)"
   ]
  },
  {
   "cell_type": "code",
   "execution_count": 174,
   "metadata": {},
   "outputs": [
    {
     "name": "stdout",
     "output_type": "stream",
     "text": [
      "input=[5] | cum_sum=[5] | max_avg=5.0\n"
     ]
    },
    {
     "data": {
      "text/plain": [
       "5.0"
      ]
     },
     "execution_count": 174,
     "metadata": {},
     "output_type": "execute_result"
    }
   ],
   "source": [
    "obj.findMaxAverage([5], 1)"
   ]
  },
  {
   "cell_type": "code",
   "execution_count": 176,
   "metadata": {},
   "outputs": [
    {
     "name": "stdout",
     "output_type": "stream",
     "text": [
      "input=[-1] | cum_sum=[-1] | max_avg=-1.0\n"
     ]
    },
    {
     "data": {
      "text/plain": [
       "-1.0"
      ]
     },
     "execution_count": 176,
     "metadata": {},
     "output_type": "execute_result"
    }
   ],
   "source": [
    "obj.findMaxAverage([-1], 1)"
   ]
  },
  {
   "cell_type": "code",
   "execution_count": null,
   "metadata": {},
   "outputs": [],
   "source": []
  }
 ],
 "metadata": {
  "kernelspec": {
   "display_name": "Python 3",
   "language": "python",
   "name": "python3"
  },
  "language_info": {
   "codemirror_mode": {
    "name": "ipython",
    "version": 3
   },
   "file_extension": ".py",
   "mimetype": "text/x-python",
   "name": "python",
   "nbconvert_exporter": "python",
   "pygments_lexer": "ipython3",
   "version": "3.10.13"
  }
 },
 "nbformat": 4,
 "nbformat_minor": 2
}
