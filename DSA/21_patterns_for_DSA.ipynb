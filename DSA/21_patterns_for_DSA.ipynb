{
 "cells": [
  {
   "cell_type": "markdown",
   "metadata": {},
   "source": [
    "## 1. Prefix \n",
    "**Caching Approach**  \n",
    "\n",
    "Imagine that we pre-compute the cummulative sum from index 0 to k. Could we use this information to derive Sum(i,j)?\n",
    "Let us define sum[k] as the cumulative sum for nums[0.....k−1] (inclusive):\n",
    "Now, we can calculate sumRange as following:sumRange(i,j)=sum[j+1]−sum[i]\n",
    "\n",
    "\n",
    "Prefix Sum involves preprocessing an array to create a new array where each element at index i represents the sum of the array from the start up to i. This allows for efficient sum queries on subarrays.\n",
    "\n",
    "Use this pattern when you need to perform multiple sum queries on a subarray or need to calculate cumulative sums.\n",
    "\n",
    "Sample Problem:\n",
    "Given an array nums, answer multiple queries about the sum of elements within a specific range [i, j].\n",
    "\n",
    "Example:\n",
    "Input: nums = [1, 2, 3, 4, 5, 6], i = 1, j = 3\n",
    "Output: 9\n",
    "\n",
    "Explanation:\n",
    "Preprocess the array A to create a prefix sum array staring with 0 so len+1: P = [0, 1, 3, 6, 10, 15, 21].\n",
    "To find the sum between indices i and j, use the formula: sum[j+1]−sum[i].\n",
    "\n",
    "Notice in the code above we inserted a dummy 0 as the first element in the sum array. This trick saves us from an extra conditional check in sumRange function.\n",
    "\n",
    "Complexity Analysis\n",
    "Time complexity: O(1) time per query, O(n) time pre-computation.\n",
    "Since the cumulative sum is cached, each sumRange query can be calculated in O(1) time.\n",
    "\n",
    "Space complexity: O(n).\n",
    "\n",
    "LeetCode Problems:\n",
    "Range Sum Query - Immutable (LeetCode #303)\n",
    "\n",
    "Contiguous Array (LeetCode #525)\n",
    "\n",
    "Subarray Sum Equals K (LeetCode #560)"
   ]
  },
  {
   "cell_type": "markdown",
   "metadata": {},
   "source": [
    "##### Range Sum Query - Immutable (LeetCode #303)"
   ]
  },
  {
   "cell_type": "markdown",
   "metadata": {},
   "source": [
    "\n",
    "Given an integer array nums, handle multiple queries of the following type:\n",
    "\n",
    "Calculate the sum of the elements of nums between indices left and right inclusive where left <= right.\n",
    "Implement the NumArray class:\n",
    "\n",
    "NumArray(int[] nums) Initializes the object with the integer array nums.\n",
    "int sumRange(int left, int right) Returns the sum of the elements of nums between indices left and right inclusive (i.e. nums[left] + nums[left + 1] + ... + nums[right]).\n",
    " \n",
    "Example 1:\n",
    "\n",
    "Input\n",
    "[\"NumArray\", \"sumRange\", \"sumRange\", \"sumRange\"]\n",
    "[[[-2, 0, 3, -5, 2, -1]], [0, 2], [2, 5], [0, 5]]\n",
    "Output\n",
    "[null, 1, -1, -3]\n",
    "\n",
    "Explanation\n",
    "NumArray numArray = new NumArray([-2, 0, 3, -5, 2, -1]);\n",
    "numArray.sumRange(0, 2); // return (-2) + 0 + 3 = 1\n",
    "numArray.sumRange(2, 5); // return 3 + (-5) + 2 + (-1) = -1\n",
    "numArray.sumRange(0, 5); // return (-2) + 0 + 3 + (-5) + 2 + (-1) = -3"
   ]
  },
  {
   "cell_type": "code",
   "execution_count": 1,
   "metadata": {},
   "outputs": [],
   "source": [
    "from typing import List\n",
    "\n",
    "class NumArray:\n",
    "\n",
    "    def __init__(self, nums: List[int]):\n",
    "        self.nums = nums\n",
    "        self._cum_sum = [0]\n",
    "        _current_sum = 0\n",
    "\n",
    "        for val in self.nums:\n",
    "            _current_sum += val\n",
    "            self._cum_sum.append(_current_sum)        \n",
    "\n",
    "    def sumRange(self, left: int, right: int) -> int:\n",
    "        range_sum = self._cum_sum[right+1] - self._cum_sum[left]\n",
    "        print(f\"input list = {self.nums} | cumulative sum of list = {self._cum_sum}\")\n",
    "        return range_sum"
   ]
  },
  {
   "cell_type": "code",
   "execution_count": 2,
   "metadata": {},
   "outputs": [
    {
     "name": "stdout",
     "output_type": "stream",
     "text": [
      "input list = [-2, 0, 3, -5, 2, -1] | cumulative sum of list = [0, -2, -2, 1, -4, -2, -3]\n",
      "1\n",
      "input list = [-2, 0, 3, -5, 2, -1] | cumulative sum of list = [0, -2, -2, 1, -4, -2, -3]\n",
      "-1\n",
      "input list = [-2, 0, 3, -5, 2, -1] | cumulative sum of list = [0, -2, -2, 1, -4, -2, -3]\n",
      "-3\n"
     ]
    }
   ],
   "source": [
    "tl = [-2, 0, 3, -5, 2, -1]\n",
    "obj = NumArray(tl)\n",
    "print(obj.sumRange(0,2))\n",
    "print(obj.sumRange(2,5))\n",
    "print(obj.sumRange(0,5))"
   ]
  },
  {
   "cell_type": "markdown",
   "metadata": {},
   "source": [
    "##### Contiguous Array (LeetCode #525)"
   ]
  },
  {
   "cell_type": "markdown",
   "metadata": {},
   "source": [
    "Given a binary array nums, return the maximum length of a contiguous subarray with an equal number of 0 and 1.\n",
    "\n",
    "Example 1:\n",
    "Input: nums = [0,1]\n",
    "Output: 2\n",
    "Explanation: [0, 1] is the longest contiguous subarray with an equal number of 0 and 1.\n",
    "\n",
    "Example 2:\n",
    "Input: nums = [0,1,0]\n",
    "Output: 2\n",
    "Explanation: [0, 1] (or [1, 0]) is a longest contiguous subarray with equal number of 0 and 1.\n",
    "\n",
    "Constraints:\n",
    "\n",
    "1 <= nums.length <= 105  \n",
    "nums[i] is either 0 or 1."
   ]
  },
  {
   "cell_type": "code",
   "execution_count": 2,
   "metadata": {},
   "outputs": [],
   "source": [
    "from typing import List\n",
    "class Solution:\n",
    "    def findMaxLength(self, nums: List[int]) -> int:\n",
    "  "
   ]
  },
  {
   "cell_type": "code",
   "execution_count": 3,
   "metadata": {},
   "outputs": [
    {
     "name": "stdout",
     "output_type": "stream",
     "text": [
      "input=[0, 1] | cum sum=[0, 0, 1]\n",
      "[(0, 1), (1,)]\n"
     ]
    },
    {
     "data": {
      "text/plain": [
       "2"
      ]
     },
     "execution_count": 3,
     "metadata": {},
     "output_type": "execute_result"
    }
   ],
   "source": [
    "obj = Solution()\n",
    "obj.findMaxLength([0,1])"
   ]
  },
  {
   "cell_type": "code",
   "execution_count": 4,
   "metadata": {},
   "outputs": [
    {
     "name": "stdout",
     "output_type": "stream",
     "text": [
      "input=[0, 1, 0] | cum sum=[0, 0, 1, 1]\n",
      "[(0, 1), (0, 0), (1,), (1, 0)]\n"
     ]
    },
    {
     "data": {
      "text/plain": [
       "4"
      ]
     },
     "execution_count": 4,
     "metadata": {},
     "output_type": "execute_result"
    }
   ],
   "source": [
    "obj.findMaxLength([0,1,0])"
   ]
  },
  {
   "cell_type": "markdown",
   "metadata": {},
   "source": [
    "##### Subarray Sum Equals K (LeetCode #560)"
   ]
  },
  {
   "cell_type": "markdown",
   "metadata": {},
   "source": [
    "Given an array of integers nums and an integer k, return the total number of subarrays whose sum equals to k.\n",
    "\n",
    "A subarray is a contiguous non-empty sequence of elements within an array.\n",
    "\n",
    "Example 1:\n",
    "\n",
    "Input: nums = [1,1,1], k = 2\n",
    "Output: 2\n",
    "Example 2:\n",
    "\n",
    "Input: nums = [1,2,3], k = 3\n",
    "Output: 2\n",
    " \n",
    "Constraints:\n",
    "\n",
    "1 <= nums.length <= 2 * 104  \n",
    "-1000 <= nums[i] <= 1000  \n",
    "-107 <= k <= 107  "
   ]
  },
  {
   "cell_type": "markdown",
   "metadata": {},
   "source": [
    "Instead of determining the sum of elements every time for every new subarray considered, we can make use of a cumulative sum array , sum. Then, in order to calculate the sum of elements lying between two indices, we can subtract the cumulative sum corresponding to the two indices to obtain the sum directly, instead of iterating over the subarray to obtain the sum.\n",
    "\n",
    "In this implementation, we make use of a cumulative sum array, sum, such that sum[i] is used to store the cumulative sum of nums array up to the element corresponding to the (i−1) \n",
    "th\n",
    "  index. Thus, to determine the sum of elements for the subarray nums[i:j], we can directly use sum[j+1]−sum[i]."
   ]
  },
  {
   "cell_type": "code",
   "execution_count": 30,
   "metadata": {},
   "outputs": [],
   "source": [
    "from typing import List\n",
    "\n",
    "class Solution:\n",
    "\n",
    "    def subarraySum(self, nums: List[int], k: int) -> int:\n",
    "        cum_sum = [0]\n",
    "        current_sum = 0\n",
    "        count = 0\n",
    "\n",
    "        for val in nums:\n",
    "            current_sum += val\n",
    "            cum_sum.append(current_sum) \n",
    "\n",
    "        print(f\"input={nums} | cum sum={cum_sum}\")\n",
    "        l=[]\n",
    "        for start in range(len(nums)):\n",
    "            for next in range(start+1, len(cum_sum)):\n",
    "                if cum_sum[next] - cum_sum[start] == k:\n",
    "                    #l.append((nums[start], nums[next-1])) if start != next-1 else l.append((nums[start],))\n",
    "                    count += 1\n",
    "        print(l)\n",
    "        return count"
   ]
  },
  {
   "cell_type": "code",
   "execution_count": 31,
   "metadata": {},
   "outputs": [
    {
     "name": "stdout",
     "output_type": "stream",
     "text": [
      "input=[1, 1, 1] | cum sum=[0, 1, 2, 3]\n",
      "[(1, 1), (1, 1)]\n"
     ]
    },
    {
     "data": {
      "text/plain": [
       "2"
      ]
     },
     "execution_count": 31,
     "metadata": {},
     "output_type": "execute_result"
    }
   ],
   "source": [
    "obj = Solution()\n",
    "obj.subarraySum([1,1,1], 2)"
   ]
  },
  {
   "cell_type": "code",
   "execution_count": 32,
   "metadata": {},
   "outputs": [
    {
     "name": "stdout",
     "output_type": "stream",
     "text": [
      "input=[1, 2, 3] | cum sum=[0, 1, 3, 6]\n",
      "[(1, 2), (3,)]\n"
     ]
    },
    {
     "data": {
      "text/plain": [
       "2"
      ]
     },
     "execution_count": 32,
     "metadata": {},
     "output_type": "execute_result"
    }
   ],
   "source": [
    "obj.subarraySum([1,2,3], 3)"
   ]
  },
  {
   "cell_type": "code",
   "execution_count": 33,
   "metadata": {},
   "outputs": [
    {
     "name": "stdout",
     "output_type": "stream",
     "text": [
      "input=[1, 2, 3, 4, 1, 5, 6, -1, 7, 8, -3, 9, -4] | cum sum=[0, 1, 3, 6, 10, 11, 16, 22, 21, 28, 36, 33, 42, 38]\n",
      "[(2, 3), (4, 1), (5,), (6, -1), (8, -3), (9, -4)]\n"
     ]
    },
    {
     "data": {
      "text/plain": [
       "6"
      ]
     },
     "execution_count": 33,
     "metadata": {},
     "output_type": "execute_result"
    }
   ],
   "source": [
    "obj = Solution()\n",
    "obj.subarraySum([1,2,3,4,1,5,6,-1,7,8,-3,9,-4], 5)"
   ]
  },
  {
   "cell_type": "markdown",
   "metadata": {},
   "source": [
    "##### Contiguous Array (LeetCode #525)"
   ]
  },
  {
   "cell_type": "markdown",
   "metadata": {},
   "source": [
    "Given a binary array nums, return the maximum length of a contiguous subarray with an equal number of 0 and 1.  \n",
    "Example 1:  \n",
    "Input: nums = [0,1]  \n",
    "Output: 2  \n",
    "Explanation: [0, 1] is the longest contiguous subarray with an equal number of 0 and 1.  \n",
    "\n",
    "Example 2:  \n",
    "Input: nums = [0,1,0]  \n",
    "Output: 2  \n",
    "Explanation: [0, 1] (or [1, 0]) is a longest contiguous subarray with equal number of 0 and 1.  \n",
    "\n",
    "Constraints:  \n",
    "\n",
    "1 <= nums.length <= 105  \n",
    "nums[i] is either 0 or 1."
   ]
  },
  {
   "cell_type": "markdown",
   "metadata": {},
   "source": [
    "## Two Pointers : Array must be sorted or sort it first"
   ]
  },
  {
   "cell_type": "markdown",
   "metadata": {},
   "source": [
    "##### Two Sum II - Input Array is Sorted (LeetCode #167)"
   ]
  },
  {
   "cell_type": "code",
   "execution_count": 1,
   "metadata": {},
   "outputs": [],
   "source": [
    "Given a 1-indexed array of integers numbers that is already sorted in non-decreasing order, find two numbers such that they add up to a specific target number. Let these two numbers be numbers[index1] and numbers[index2] where 1 <= index1 < index2 <= numbers.length.\n",
    "\n",
    "Return the indices of the two numbers, index1 and index2, added by one as an integer array [index1, index2] of length 2.\n",
    "\n",
    "The tests are generated such that there is exactly one solution. You may not use the same element twice.\n",
    "\n",
    "Your solution must use only constant extra space.\n",
    "\n",
    " \n",
    "\n",
    "Example 1:\n",
    "\n",
    "Input: numbers = [2,7,11,15], target = 9\n",
    "Output: [1,2]\n",
    "Explanation: The sum of 2 and 7 is 9. Therefore, index1 = 1, index2 = 2. We return [1, 2].\n",
    "Example 2:\n",
    "\n",
    "Input: numbers = [2,3,4], target = 6\n",
    "Output: [1,3]\n",
    "Explanation: The sum of 2 and 4 is 6. Therefore index1 = 1, index2 = 3. We return [1, 3].\n",
    "Example 3:\n",
    "\n",
    "Input: numbers = [-1,0], target = -1\n",
    "Output: [1,2]\n",
    "Explanation: The sum of -1 and 0 is -1. Therefore index1 = 1, index2 = 2. We return [1, 2].\n",
    " \n",
    "\n",
    "Constraints:\n",
    "\n",
    "2 <= numbers.length <= 3 * 104\n",
    "-1000 <= numbers[i] <= 1000\n",
    "numbers is sorted in non-decreasing order.\n",
    "-1000 <= target <= 1000\n",
    "The tests are generated such that there is exactly one solution."
   ]
  },
  {
   "cell_type": "code",
   "execution_count": 3,
   "metadata": {},
   "outputs": [],
   "source": [
    "from typing import List\n",
    "class Solution:\n",
    "\n",
    "    def twoSum(self, numbers: List[int], target: int) -> List[int]:\n",
    "        start = 0\n",
    "        end = len(numbers)-1\n",
    "        while start < end:\n",
    "            if numbers[start] + numbers[end] > target:\n",
    "                end -= 1\n",
    "            elif numbers[start] + numbers[end] < target:\n",
    "                start += 1\n",
    "            else:\n",
    "                return list((start+1,end+1))"
   ]
  },
  {
   "cell_type": "code",
   "execution_count": 4,
   "metadata": {},
   "outputs": [
    {
     "data": {
      "text/plain": [
       "[1, 2]"
      ]
     },
     "execution_count": 4,
     "metadata": {},
     "output_type": "execute_result"
    }
   ],
   "source": [
    "obj = Solution()\n",
    "obj.twoSum([2,7,11,15], 9)"
   ]
  },
  {
   "cell_type": "code",
   "execution_count": 5,
   "metadata": {},
   "outputs": [
    {
     "data": {
      "text/plain": [
       "[1, 3]"
      ]
     },
     "execution_count": 5,
     "metadata": {},
     "output_type": "execute_result"
    }
   ],
   "source": [
    "obj.twoSum([2,3,4], 6)"
   ]
  },
  {
   "cell_type": "code",
   "execution_count": 6,
   "metadata": {},
   "outputs": [
    {
     "data": {
      "text/plain": [
       "[1, 2]"
      ]
     },
     "execution_count": 6,
     "metadata": {},
     "output_type": "execute_result"
    }
   ],
   "source": [
    "obj.twoSum([-1,0], -1)"
   ]
  },
  {
   "cell_type": "markdown",
   "metadata": {},
   "source": [
    "##### 3Sum (LeetCode #15)"
   ]
  },
  {
   "cell_type": "markdown",
   "metadata": {},
   "source": [
    "Given an integer array nums, return all the triplets [nums[i], nums[j], nums[k]] such that i != j, i != k, and j != k, and nums[i] + nums[j] + nums[k] == 0.\n",
    "\n",
    "Notice that the solution set must not contain duplicate triplets.\n",
    "\n",
    "Example 1:\n",
    "\n",
    "Input: nums = [-1,0,1,2,-1,-4]\n",
    "Output: [[-1,-1,2],[-1,0,1]]\n",
    "Explanation: \n",
    "nums[0] + nums[1] + nums[2] = (-1) + 0 + 1 = 0.\n",
    "nums[1] + nums[2] + nums[4] = 0 + 1 + (-1) = 0.\n",
    "nums[0] + nums[3] + nums[4] = (-1) + 2 + (-1) = 0.\n",
    "The distinct triplets are [-1,0,1] and [-1,-1,2].\n",
    "Notice that the order of the output and the order of the triplets does not matter.\n",
    "Example 2:\n",
    "\n",
    "Input: nums = [0,1,1]\n",
    "Output: []\n",
    "Explanation: The only possible triplet does not sum up to 0.\n",
    "Example 3:\n",
    "\n",
    "Input: nums = [0,0,0]\n",
    "Output: [[0,0,0]]\n",
    "Explanation: The only possible triplet sums up to 0.\n",
    " \n",
    "\n",
    "Constraints:\n",
    "\n",
    "3 <= nums.length <= 3000\n",
    "-105 <= nums[i] <= 105"
   ]
  },
  {
   "cell_type": "markdown",
   "metadata": {},
   "source": [
    "Algoexpert :: Array : Three Number Sum\n",
    "\n",
    "Three Number Sum\n",
    "Write a function that takes in a non-empty array of distinct integers and an integer representing a target sum. The function should find all triplets in the array that sum up to the target sum and return a two-dimensional array of all these triplets. The numbers in each triplet should be ordered in ascending order, and the triplets themselves should be ordered in ascending order with respect to the numbers they hold.\n",
    "\n",
    "If no three numbers sum up to the target sum, the function should return an empty array.\n",
    "Input:-\n",
    "array = [12, 3, 1, 2, -6, 5, -8, 6]\n",
    "targetSum = 0\n",
    "\n",
    "Output:-\n",
    "[[-8, 2, 6], [-8, 3, 5], [-6, 1, 5]]"
   ]
  },
  {
   "cell_type": "code",
   "execution_count": 11,
   "metadata": {},
   "outputs": [],
   "source": [
    "#according to Algoexpert only working for it\n",
    "class Solution:\n",
    "    def threeSum(self, nums: List[int]) -> List[List[int]]:\n",
    "        nums.sort()\n",
    "        triplets = []\n",
    "\n",
    "        for i in range(len(nums)-2):\n",
    "            start = i+1\n",
    "            end = len(nums)-1\n",
    "            while start < end:\n",
    "                current_sum = nums[i] + nums[start] + nums[end]\n",
    "                if current_sum == 0:\n",
    "                    triplets.append([nums[i], nums[start], nums[end]])\n",
    "                    start += 1\n",
    "                    #end -= 1\n",
    "                elif current_sum < 0:\n",
    "                    start += 1\n",
    "                elif current_sum > 0:\n",
    "                    end -= 1\n",
    "        return triplets"
   ]
  },
  {
   "cell_type": "code",
   "execution_count": 12,
   "metadata": {},
   "outputs": [
    {
     "data": {
      "text/plain": [
       "[[-8, 2, 6], [-8, 3, 5], [-6, 1, 5]]"
      ]
     },
     "execution_count": 12,
     "metadata": {},
     "output_type": "execute_result"
    }
   ],
   "source": [
    "obj = Solution()\n",
    "#targetSum = 0 hard-coded above\n",
    "obj.threeSum(nums = [12, 3, 1, 2, -6, 5, -8, 6])"
   ]
  },
  {
   "cell_type": "code",
   "execution_count": 13,
   "metadata": {},
   "outputs": [
    {
     "data": {
      "text/plain": [
       "[[-1, -1, 2], [-1, 0, 1], [-1, 0, 1]]"
      ]
     },
     "execution_count": 13,
     "metadata": {},
     "output_type": "execute_result"
    }
   ],
   "source": [
    "#giving expected result as per LEETCODE, but with one duplicate for which we didn't do anything, let's fix it with above program nxt\n",
    "obj.threeSum(nums = [-1,0,1,2,-1,-4])"
   ]
  },
  {
   "cell_type": "code",
   "execution_count": 14,
   "metadata": {},
   "outputs": [
    {
     "data": {
      "text/plain": [
       "[[-2, 0, 2], [-2, 0, 2]]"
      ]
     },
     "execution_count": 14,
     "metadata": {},
     "output_type": "execute_result"
    }
   ],
   "source": [
    "#Expected Output = [[-2,0,2]], but our output has duplicate\n",
    "obj.threeSum(nums = [-2,0,0,2,2])"
   ]
  },
  {
   "cell_type": "code",
   "execution_count": null,
   "metadata": {},
   "outputs": [],
   "source": [
    "#Anurag's Sol\n",
    "class Solution:\n",
    "    def threeSum(self, nums: List[int]) -> List[List[int]]:\n",
    "        ls=[]\n",
    "        nums.sort()\n",
    "        for i in range(len(nums)):\n",
    "            if nums[i] > 0:  # Early exit if the current number is positive\n",
    "                break\n",
    "            if i>0 and nums[i]==nums[i-1]:\n",
    "                continue\n",
    "            j=i+1\n",
    "            k=len(nums)-1\n",
    "            while  j<k:\n",
    "                if nums[i]+nums[j]+nums[k]==0:\n",
    "                    ls.append([nums[i],nums[j],nums[k]])\n",
    "                    while j<k and nums[j] == nums[j + 1]:\n",
    "                        j=j+1\n",
    "                    while j<k and nums[k] == nums[k - 1]:\n",
    "                        k=k-1\n",
    "                    j=j+1\n",
    "                    k=k-1\n",
    "                elif nums[i]+nums[j]+nums[k]>0:\n",
    "                    k=k-1\n",
    "                else:\n",
    "                    j=j+1\n",
    "        return ls"
   ]
  },
  {
   "cell_type": "code",
   "execution_count": 7,
   "metadata": {},
   "outputs": [],
   "source": [
    "#according to Algoexpert but with duplicate fix\n",
    "from typing import List\n",
    "class Solution:\n",
    "    def threeSum(self, nums: List[int]) -> List[List[int]]:\n",
    "        nums.sort()\n",
    "        triplets = []\n",
    "\n",
    "        for i in range(len(nums)-2):\n",
    "            if nums[i] > 0:\n",
    "                break\n",
    "            if i > 0 and nums[i] == nums[i-1]:\n",
    "                continue\n",
    "            else:\n",
    "                start = i+1\n",
    "                end = len(nums)-1\n",
    "                while start < end:\n",
    "                    current_sum = nums[i] + nums[start] + nums[end]\n",
    "                    if current_sum == 0:\n",
    "                        triplets.append([nums[i], nums[start], nums[end]])\n",
    "                        start += 1\n",
    "                        #end -= 1\n",
    "                    elif current_sum < 0:\n",
    "                        start += 1\n",
    "                    elif current_sum > 0:\n",
    "                        end -= 1\n",
    "        return triplets"
   ]
  },
  {
   "cell_type": "code",
   "execution_count": 8,
   "metadata": {},
   "outputs": [
    {
     "data": {
      "text/plain": [
       "[[-8, 2, 6], [-8, 3, 5], [-6, 1, 5]]"
      ]
     },
     "execution_count": 8,
     "metadata": {},
     "output_type": "execute_result"
    }
   ],
   "source": [
    "obj = Solution()\n",
    "obj.threeSum(nums = [12, 3, 1, 2, -6, 5, -8, 6])"
   ]
  },
  {
   "cell_type": "code",
   "execution_count": 9,
   "metadata": {},
   "outputs": [
    {
     "data": {
      "text/plain": [
       "[[-1, -1, 2], [-1, 0, 1]]"
      ]
     },
     "execution_count": 9,
     "metadata": {},
     "output_type": "execute_result"
    }
   ],
   "source": [
    "obj.threeSum(nums = [-1,0,1,2,-1,-4])"
   ]
  },
  {
   "cell_type": "code",
   "execution_count": 10,
   "metadata": {},
   "outputs": [
    {
     "data": {
      "text/plain": [
       "[[-2, 0, 2], [-2, 0, 2]]"
      ]
     },
     "execution_count": 10,
     "metadata": {},
     "output_type": "execute_result"
    }
   ],
   "source": [
    "#Expected Output = [[-2,0,2]], above case doesn't have duplicate but this program failing for below input to avoid duplicate\n",
    "obj.threeSum(nums = [-2,0,0,2,2])"
   ]
  },
  {
   "cell_type": "code",
   "execution_count": 98,
   "metadata": {},
   "outputs": [],
   "source": [
    "#https://leetcode.com/problems/3sum/solutions/5055810/video-two-pointer-solution/\n",
    "#BEST Solution : this one also working for both inputs referred from LEETCODE\n",
    "class Solution:\n",
    "    def threeSum(self, nums: List[int]) -> List[List[int]]:\n",
    "        nums.sort()\n",
    "        triplets = []\n",
    "\n",
    "        for i in range(len(nums)):\n",
    "            if i > 0 and nums[i] == nums[i-1]:\n",
    "                continue\n",
    "            else:\n",
    "                start = i+1\n",
    "                end = len(nums)-1\n",
    "                while start < end:\n",
    "                    current_sum = nums[i] + nums[start] + nums[end]\n",
    "                    if current_sum > 0:\n",
    "                        end -= 1\n",
    "                    elif current_sum < 0:\n",
    "                        start += 1\n",
    "                    else:\n",
    "                        triplets.append([nums[i], nums[start], nums[end]])\n",
    "                        start += 1\n",
    "                        while nums[start] == nums[start-1] and start < end:\n",
    "                            start += 1\n",
    "        return triplets"
   ]
  },
  {
   "cell_type": "code",
   "execution_count": 99,
   "metadata": {},
   "outputs": [
    {
     "data": {
      "text/plain": [
       "[[-8, 2, 6], [-8, 3, 5], [-6, 1, 5]]"
      ]
     },
     "execution_count": 99,
     "metadata": {},
     "output_type": "execute_result"
    }
   ],
   "source": [
    "obj = Solution()\n",
    "obj.threeSum(nums = [12, 3, 1, 2, -6, 5, -8, 6])"
   ]
  },
  {
   "cell_type": "code",
   "execution_count": 100,
   "metadata": {},
   "outputs": [
    {
     "data": {
      "text/plain": [
       "[[-1, -1, 2], [-1, 0, 1]]"
      ]
     },
     "execution_count": 100,
     "metadata": {},
     "output_type": "execute_result"
    }
   ],
   "source": [
    "obj = Solution()\n",
    "obj.threeSum(nums = [-1,0,1,2,-1,-4])"
   ]
  },
  {
   "cell_type": "code",
   "execution_count": 101,
   "metadata": {},
   "outputs": [
    {
     "data": {
      "text/plain": [
       "[[-2, 0, 2]]"
      ]
     },
     "execution_count": 101,
     "metadata": {},
     "output_type": "execute_result"
    }
   ],
   "source": [
    "obj.threeSum(nums = [-2,0,0,2,2])"
   ]
  },
  {
   "cell_type": "markdown",
   "metadata": {},
   "source": [
    "##### Container With Most Water (LeetCode #11)\n",
    "You are given an integer array height of length n. There are n vertical lines drawn such that the two endpoints of the ith line are (i, 0) and (i, height[i]).  \n",
    "\n",
    "Find two lines that together with the x-axis form a container, such that the container contains the most water.  \n",
    "\n",
    "Return the maximum amount of water a container can store.  \n",
    "\n",
    "Notice that you may not slant the container.  \n",
    " \n",
    "<img src=\"/workspaces/Atlas/DSA/images/21_patterns/11_container_with_most_water.jpeg\">   \n",
    "Input: height = [1,8,6,2,5,4,8,3,7]  \n",
    "Output: 49  \n",
    "Explanation: The above vertical lines are represented by array [1,8,6,2,5,4,8,3,7]. In this case, the max area of water (blue section) the container can contain is 49.\n",
    "\n",
    "Example 2:  \n",
    "Input: height = [1,1]  \n",
    "Output: 1"
   ]
  },
  {
   "cell_type": "code",
   "execution_count": 108,
   "metadata": {},
   "outputs": [],
   "source": [
    "#https://leetcode.com/problems/container-with-most-water/solutions/5139915/video-simple-two-pointer-solution/\n",
    "class Solution:\n",
    "    def maxArea(self, height: List[int]) -> int:\n",
    "        maxArea,start,end = 0,0,len(height)-1\n",
    "\n",
    "        while start < end:\n",
    "            width = end - start\n",
    "            maxArea = max(maxArea, min(height[start],height[end])*width)\n",
    "            #After that, we want to move one of the pointers. How can we judge it? \n",
    "            #It's simple. We want to keep taller height between left and right \n",
    "            #because there is a possibility that we will get max area with the taller height.\n",
    "            # if height[start] <= height[end]:\n",
    "            #     start += 1\n",
    "            # else:\n",
    "            #     end -= 1\n",
    "            start += 1 if height[start] <= height[end] else \n",
    "        return maxArea"
   ]
  },
  {
   "cell_type": "code",
   "execution_count": 109,
   "metadata": {},
   "outputs": [
    {
     "data": {
      "text/plain": [
       "49"
      ]
     },
     "execution_count": 109,
     "metadata": {},
     "output_type": "execute_result"
    }
   ],
   "source": [
    "obj = Solution()\n",
    "obj.maxArea([1,8,6,2,5,4,8,3,7])"
   ]
  },
  {
   "cell_type": "code",
   "execution_count": 110,
   "metadata": {},
   "outputs": [
    {
     "data": {
      "text/plain": [
       "1"
      ]
     },
     "execution_count": 110,
     "metadata": {},
     "output_type": "execute_result"
    }
   ],
   "source": [
    "obj.maxArea([1,1])"
   ]
  },
  {
   "cell_type": "markdown",
   "metadata": {},
   "source": [
    "## 3. Sliding Window"
   ]
  },
  {
   "cell_type": "markdown",
   "metadata": {},
   "source": [
    "The Sliding Window pattern is used to find a subarray or substring that satisfies a specific condition, optimizing the time complexity by maintaining a window of elements.\n",
    "\n",
    "Use this pattern when dealing with problems involving contiguous subarrays or substrings.\n",
    "\n",
    "Sample Problem:\n",
    "Find the maximum sum of a subarray of size k.\n",
    "\n",
    "Example:\n",
    "\n",
    "Input: nums = [2, 1, 5, 1, 3, 2], k = 3\n",
    "\n",
    "Output: 9\n",
    "\n",
    "Explanation:\n",
    "Start with the sum of the first k elements.\n",
    "\n",
    "Slide the window one element at a time, subtracting the element that goes out of the window and adding the new element.\n",
    "\n",
    "Keep track of the maximum sum encountered.\n",
    "\n",
    "LeetCode Problems:\n",
    "\n",
    "\n",
    "Longest Substring Without Repeating Characters (LeetCode #3)\n",
    "\n",
    "Minimum Window Substring (LeetCode #76)"
   ]
  },
  {
   "cell_type": "markdown",
   "metadata": {},
   "source": [
    "##### Maximum Average Subarray I (LeetCode #643)"
   ]
  },
  {
   "cell_type": "markdown",
   "metadata": {},
   "source": [
    "You are given an integer array nums consisting of n elements, and an integer k.\n",
    "\n",
    "Find a contiguous subarray whose length is equal to k that has the maximum average value and return this value. Any answer with a calculation error less than 10-5 will be accepted.\n",
    "\n",
    " \n",
    "\n",
    "Example 1:\n",
    "\n",
    "Input: nums = [1,12,-5,-6,50,3], k = 4\n",
    "Output: 12.75000\n",
    "Explanation: Maximum average is (12 - 5 - 6 + 50) / 4 = 51 / 4 = 12.75\n",
    "Example 2:\n",
    "\n",
    "Input: nums = [5], k = 1\n",
    "Output: 5.00000\n",
    " \n",
    "\n",
    "Constraints:\n",
    "\n",
    "n == nums.length\n",
    "1 <= k <= n <= 105\n",
    "-104 <= nums[i] <= 104"
   ]
  },
  {
   "cell_type": "code",
   "execution_count": 15,
   "metadata": {},
   "outputs": [],
   "source": [
    "class Solution:\n",
    "    def findMaxAverage(self, nums: List[int], k: int) -> float:\n",
    "        start = 0\n",
    "        end = k\n",
    "        max_avg = float('-inf')\n",
    "        max_avg_idx = (0,0)\n",
    "        input_len = len(nums)\n",
    "\n",
    "        while end <= input_len:\n",
    "            max_avg = max(max_avg, sum(nums[start:end])/k)\n",
    "            start += 1\n",
    "            end += 1\n",
    "\n",
    "        return max_avg"
   ]
  },
  {
   "cell_type": "code",
   "execution_count": 16,
   "metadata": {},
   "outputs": [
    {
     "data": {
      "text/plain": [
       "12.75"
      ]
     },
     "execution_count": 16,
     "metadata": {},
     "output_type": "execute_result"
    }
   ],
   "source": [
    "obj = Solution()\n",
    "obj.findMaxAverage([1,12,-5,-6,50,3], 4)"
   ]
  },
  {
   "cell_type": "code",
   "execution_count": 17,
   "metadata": {},
   "outputs": [
    {
     "data": {
      "text/plain": [
       "5.0"
      ]
     },
     "execution_count": 17,
     "metadata": {},
     "output_type": "execute_result"
    }
   ],
   "source": [
    "obj.findMaxAverage([5], 1)"
   ]
  },
  {
   "cell_type": "code",
   "execution_count": 18,
   "metadata": {},
   "outputs": [
    {
     "data": {
      "text/plain": [
       "-1.0"
      ]
     },
     "execution_count": 18,
     "metadata": {},
     "output_type": "execute_result"
    }
   ],
   "source": [
    "#Expected = -1.0, so above program failing for this edge case input, coz of max(0.0, -1.0) will yield 0.0 which is grater value than -1\n",
    "obj.findMaxAverage([-1], 1)"
   ]
  },
  {
   "cell_type": "markdown",
   "metadata": {},
   "source": [
    "**using sliding window**\n",
    "https://leetcode.com/problems/maximum-average-subarray-i/solutions/5631264/sliding-window-for-max-average-subarray-beats-93-speed-80-memory/\n",
    "\n",
    "- Start by calculating the sum of the first k elements. This will be our initial sum and also our initial maximum sum.\n",
    "- Then, slide the window one element at a time from the start of the array to the end:\n",
    "    - Subtract the element that is no longer in the window (i.e., the element at the start of the previous window).\n",
    "    - Add the new element that enters the window (i.e., the element at the end of the current window).\n",
    "- After updating the sum for the current window, compare it with the maximum sum found so far and update the maximum sum if the current sum is larger.\n",
    "- Finally, return the maximum sum divided by k to get the maximum average."
   ]
  },
  {
   "cell_type": "code",
   "execution_count": 154,
   "metadata": {},
   "outputs": [],
   "source": [
    "class Solution:\n",
    "    def findMaxAverage(self, nums: List[int], k: int) -> float:\n",
    "        nums_len = len(nums)\n",
    "        # Initialize current_sum and max_sum to the sum of the initial k elements\n",
    "        current_sum = sum(nums[:k])\n",
    "        max_sum = current_sum\n",
    "    #loop will start from k, coz we have already sum of first k elements as current_sum=sum(nums[:k]), so start with value after k\n",
    "        for idx in range(k, nums_len):\n",
    "            # Subtract the left element of the window\n",
    "            # Add the right element of the window\n",
    "            #curr_sum += nums[idx] - nums[idx-k] can be written as below \n",
    "            current_sum += nums[idx]\n",
    "            current_sum -= nums[idx-k]\n",
    "            max_sum = current_sum if current_sum > max_sum else max_sum\n",
    "        return max_sum/k"
   ]
  },
  {
   "cell_type": "code",
   "execution_count": 155,
   "metadata": {},
   "outputs": [
    {
     "data": {
      "text/plain": [
       "12.75"
      ]
     },
     "execution_count": 155,
     "metadata": {},
     "output_type": "execute_result"
    }
   ],
   "source": [
    "obj = Solution()\n",
    "obj.findMaxAverage([1,12,-5,-6,50,3], 4)"
   ]
  },
  {
   "cell_type": "code",
   "execution_count": 156,
   "metadata": {},
   "outputs": [
    {
     "data": {
      "text/plain": [
       "5.0"
      ]
     },
     "execution_count": 156,
     "metadata": {},
     "output_type": "execute_result"
    }
   ],
   "source": [
    "obj.findMaxAverage([5], 1)"
   ]
  },
  {
   "cell_type": "code",
   "execution_count": 157,
   "metadata": {},
   "outputs": [
    {
     "data": {
      "text/plain": [
       "-1.0"
      ]
     },
     "execution_count": 157,
     "metadata": {},
     "output_type": "execute_result"
    }
   ],
   "source": [
    "obj.findMaxAverage([-1], 1)"
   ]
  },
  {
   "cell_type": "code",
   "execution_count": 172,
   "metadata": {},
   "outputs": [],
   "source": [
    "#using cumulative sum\n",
    "class Solution:\n",
    "    def findMaxAverage(self, nums: List[int], k: int) -> float:\n",
    "        cum_sum=[]\n",
    "        current_sum = 0\n",
    "\n",
    "        for val in nums:\n",
    "            current_sum += val\n",
    "            cum_sum.append(current_sum)\n",
    "\n",
    "        max_avg = cum_sum[k-1]/k\n",
    "        print(f\"input={nums} | cum_sum={cum_sum} | max_avg={max_avg}\")\n",
    "        \n",
    "        for idx in range(k, len(nums)):\n",
    "            max_avg = max(max_avg, (cum_sum[idx]-cum_sum[idx-k])/k)\n",
    "\n",
    "        return max_avg"
   ]
  },
  {
   "cell_type": "code",
   "execution_count": 173,
   "metadata": {},
   "outputs": [
    {
     "name": "stdout",
     "output_type": "stream",
     "text": [
      "input=[1, 12, -5, -6, 50, 3] | cum_sum=[1, 13, 8, 2, 52, 55] | max_avg=0.5\n"
     ]
    },
    {
     "data": {
      "text/plain": [
       "12.75"
      ]
     },
     "execution_count": 173,
     "metadata": {},
     "output_type": "execute_result"
    }
   ],
   "source": [
    "obj = Solution()\n",
    "obj.findMaxAverage([1,12,-5,-6,50,3], 4)"
   ]
  },
  {
   "cell_type": "code",
   "execution_count": 174,
   "metadata": {},
   "outputs": [
    {
     "name": "stdout",
     "output_type": "stream",
     "text": [
      "input=[5] | cum_sum=[5] | max_avg=5.0\n"
     ]
    },
    {
     "data": {
      "text/plain": [
       "5.0"
      ]
     },
     "execution_count": 174,
     "metadata": {},
     "output_type": "execute_result"
    }
   ],
   "source": [
    "obj.findMaxAverage([5], 1)"
   ]
  },
  {
   "cell_type": "code",
   "execution_count": 176,
   "metadata": {},
   "outputs": [
    {
     "name": "stdout",
     "output_type": "stream",
     "text": [
      "input=[-1] | cum_sum=[-1] | max_avg=-1.0\n"
     ]
    },
    {
     "data": {
      "text/plain": [
       "-1.0"
      ]
     },
     "execution_count": 176,
     "metadata": {},
     "output_type": "execute_result"
    }
   ],
   "source": [
    "obj.findMaxAverage([-1], 1)"
   ]
  },
  {
   "cell_type": "markdown",
   "metadata": {},
   "source": [
    "##### Longest Substring Without Repeating Characters (LeetCode #3)\n",
    "\n",
    "Given a string s, find the length of the longest \n",
    "substring\n",
    " without repeating characters.\n",
    "\n",
    "\n",
    "Example 1:\n",
    "\n",
    "Input: s = \"abcabcbb\"\n",
    "Output: 3\n",
    "Explanation: The answer is \"abc\", with the length of 3.\n",
    "Example 2:\n",
    "\n",
    "Input: s = \"bbbbb\"\n",
    "Output: 1\n",
    "Explanation: The answer is \"b\", with the length of 1.\n",
    "Example 3:\n",
    "\n",
    "Input: s = \"pwwkew\"\n",
    "Output: 3\n",
    "Explanation: The answer is \"wke\", with the length of 3.\n",
    "Notice that the answer must be a substring, \"pwke\" is a subsequence and not a substring.\n",
    " \n",
    "\n",
    "Constraints:\n",
    "\n",
    "0 <= s.length <= 5 * 104\n",
    "s consists of English letters, digits, symbols and spaces."
   ]
  },
  {
   "cell_type": "code",
   "execution_count": 1,
   "metadata": {},
   "outputs": [],
   "source": [
    "#https://leetcode.com/problems/longest-substring-without-repeating-characters/solutions/5111376/video-3-ways-to-solve-this-question-sliding-window-set-hashing-and-the-last-position/\n",
    "#using sliding window & set \n",
    "class Solution:\n",
    "    def lengthOfLongestSubstring(self, s: str) -> int:\n",
    "        left = max_length = 0\n",
    "        char_set = set()\n",
    "        \n",
    "        for right in range(len(s)):\n",
    "            while s[right] in char_set:\n",
    "                char_set.remove(s[left])\n",
    "                left += 1\n",
    "\n",
    "            char_set.add(s[right])\n",
    "            max_length = max(max_length, right - left + 1)\n",
    "        print(char_set)\n",
    "        return max_length"
   ]
  },
  {
   "cell_type": "code",
   "execution_count": 11,
   "metadata": {},
   "outputs": [],
   "source": [
    "#BEST : Algo\n",
    "class Solution:\n",
    "    def lengthOfLongestSubstring(self, s: str) -> int:\n",
    "        lastSeen = {}\n",
    "        longest = [0,1]\n",
    "        startIdx = 0\n",
    "\n",
    "        for current_idx, char in enumerate(s):\n",
    "            if char in lastSeen:\n",
    "                startIdx = max(startIdx, lastSeen[char]+1)\n",
    "            \n",
    "            # if current_idx + 1 - startIdx > longest[1] - longest[0]:\n",
    "            #     longest = [startIdx, current_idx+1]\n",
    "\n",
    "            if len(s[startIdx:current_idx + 1]) > len(s[longest[0]:longest[1]]):\n",
    "                longest = [startIdx, current_idx+1]                \n",
    "\n",
    "            lastSeen[char] = current_idx\n",
    "\n",
    "        print(s[longest[0] : longest[1]])\n",
    "        return len(s[longest[0] : longest[1]])"
   ]
  },
  {
   "cell_type": "code",
   "execution_count": 12,
   "metadata": {},
   "outputs": [
    {
     "name": "stdout",
     "output_type": "stream",
     "text": [
      "abc\n"
     ]
    },
    {
     "data": {
      "text/plain": [
       "3"
      ]
     },
     "execution_count": 12,
     "metadata": {},
     "output_type": "execute_result"
    }
   ],
   "source": [
    "obj = Solution()\n",
    "obj.lengthOfLongestSubstring(\"abcabcbb\")"
   ]
  },
  {
   "cell_type": "code",
   "execution_count": 13,
   "metadata": {},
   "outputs": [
    {
     "name": "stdout",
     "output_type": "stream",
     "text": [
      "b\n"
     ]
    },
    {
     "data": {
      "text/plain": [
       "1"
      ]
     },
     "execution_count": 13,
     "metadata": {},
     "output_type": "execute_result"
    }
   ],
   "source": [
    "obj = Solution()\n",
    "obj.lengthOfLongestSubstring(\"bbbb\")"
   ]
  },
  {
   "cell_type": "code",
   "execution_count": 14,
   "metadata": {},
   "outputs": [
    {
     "name": "stdout",
     "output_type": "stream",
     "text": [
      "wke\n"
     ]
    },
    {
     "data": {
      "text/plain": [
       "3"
      ]
     },
     "execution_count": 14,
     "metadata": {},
     "output_type": "execute_result"
    }
   ],
   "source": [
    "obj = Solution()\n",
    "obj.lengthOfLongestSubstring(\"pwwkew\")"
   ]
  },
  {
   "cell_type": "markdown",
   "metadata": {},
   "source": [
    "## 4.Fast & Slow Pointers/Floyd's Cycle Finding Algorithm"
   ]
  },
  {
   "cell_type": "code",
   "execution_count": null,
   "metadata": {},
   "outputs": [],
   "source": [
    "The Fast & Slow Pointers (Tortoise and Hare) pattern is used to detect cycles in linked lists and other similar structures.\n",
    "\n",
    "Sample Problem:\n",
    "Detect if a linked list has a cycle.\n",
    "\n",
    "Explanation:\n",
    "Initialize two pointers, one moving one step at a time (slow) and the other moving two steps at a time (fast).\n",
    "\n",
    "If there is a cycle, the fast pointer will eventually meet the slow pointer.\n",
    "\n",
    "If the fast pointer reaches the end of the list, there is no cycle.\n",
    "\n",
    "LeetCode Problems:\n",
    "Linked List Cycle (LeetCode #141)\n",
    "\n",
    "Happy Number (LeetCode #202)\n",
    "\n",
    "Find the Duplicate Number (LeetCode #287)"
   ]
  },
  {
   "cell_type": "markdown",
   "metadata": {},
   "source": [
    "##### Linked List Cycle (LeetCode #141)\n",
    "Given head, the head of a linked list, determine if the linked list has a cycle in it.\n",
    "\n",
    "There is a cycle in a linked list if there is some node in the list that can be reached again by continuously following the next pointer. Internally, pos is used to denote the index of the node that tail's next pointer is connected to. Note that pos is not passed as a parameter.\n",
    "\n",
    "Return true if there is a cycle in the linked list. Otherwise, return false.\n",
    "\n",
    "Example 1:\n",
    "\n",
    "Input: head = [3,2,0,-4], pos = 1\n",
    "Output: true\n",
    "Explanation: There is a cycle in the linked list, where the tail connects to the 1st node (0-indexed).\n",
    "Example 2:\n",
    "\n",
    "Input: head = [1,2], pos = 0\n",
    "Output: true\n",
    "Explanation: There is a cycle in the linked list, where the tail connects to the 0th node.\n",
    "Example 3:\n",
    "\n",
    "Input: head = [1], pos = -1\n",
    "Output: false\n",
    "Explanation: There is no cycle in the linked list."
   ]
  },
  {
   "cell_type": "code",
   "execution_count": 10,
   "metadata": {},
   "outputs": [],
   "source": [
    "#https://leetcode.com/problems/linked-list-cycle/solutions/5280767/video-using-two-pointers/\n",
    "\n",
    "\n",
    "# Definition for singly-linked list.\n",
    "class ListNode:\n",
    "    def __init__(self, x):\n",
    "        self.val = x\n",
    "        self.next = None\n",
    "\n",
    "class Solution:\n",
    "    def hasCycle(self, head: ListNode) -> bool:\n",
    "        slowPtr = head\n",
    "        fastPtr = head\n",
    "\n",
    "        while fastPtr and fastPtr.next:\n",
    "            slowPtr = slowPtr.next\n",
    "            fastPtr = fastPtr.next.next\n",
    "\n",
    "            if fastPtr == slowPtr:\n",
    "                return True\n",
    "        return False"
   ]
  },
  {
   "cell_type": "code",
   "execution_count": 11,
   "metadata": {},
   "outputs": [
    {
     "ename": "AttributeError",
     "evalue": "'list' object has no attribute 'next'",
     "output_type": "error",
     "traceback": [
      "\u001b[0;31m---------------------------------------------------------------------------\u001b[0m",
      "\u001b[0;31mAttributeError\u001b[0m                            Traceback (most recent call last)",
      "Cell \u001b[0;32mIn[11], line 2\u001b[0m\n\u001b[1;32m      1\u001b[0m obj \u001b[38;5;241m=\u001b[39m Solution()\n\u001b[0;32m----> 2\u001b[0m \u001b[43mobj\u001b[49m\u001b[38;5;241;43m.\u001b[39;49m\u001b[43mhasCycle\u001b[49m\u001b[43m(\u001b[49m\u001b[43m[\u001b[49m\u001b[38;5;241;43m3\u001b[39;49m\u001b[43m,\u001b[49m\u001b[38;5;241;43m2\u001b[39;49m\u001b[43m,\u001b[49m\u001b[38;5;241;43m0\u001b[39;49m\u001b[43m,\u001b[49m\u001b[38;5;241;43m-\u001b[39;49m\u001b[38;5;241;43m4\u001b[39;49m\u001b[43m]\u001b[49m\u001b[43m)\u001b[49m\n",
      "Cell \u001b[0;32mIn[10], line 15\u001b[0m, in \u001b[0;36mSolution.hasCycle\u001b[0;34m(self, head)\u001b[0m\n\u001b[1;32m     12\u001b[0m slowPtr \u001b[38;5;241m=\u001b[39m head\n\u001b[1;32m     13\u001b[0m fastPtr \u001b[38;5;241m=\u001b[39m head\n\u001b[0;32m---> 15\u001b[0m \u001b[38;5;28;01mwhile\u001b[39;00m fastPtr \u001b[38;5;129;01mand\u001b[39;00m \u001b[43mfastPtr\u001b[49m\u001b[38;5;241;43m.\u001b[39;49m\u001b[43mnext\u001b[49m:\n\u001b[1;32m     16\u001b[0m     slowPtr \u001b[38;5;241m=\u001b[39m slowPtr\u001b[38;5;241m.\u001b[39mnext\n\u001b[1;32m     17\u001b[0m     fastPtr \u001b[38;5;241m=\u001b[39m fastPtr\u001b[38;5;241m.\u001b[39mnext\u001b[38;5;241m.\u001b[39mnext\n",
      "\u001b[0;31mAttributeError\u001b[0m: 'list' object has no attribute 'next'"
     ]
    }
   ],
   "source": [
    "obj = Solution()\n",
    "obj.hasCycle([3,2,0,-4])"
   ]
  },
  {
   "cell_type": "code",
   "execution_count": 8,
   "metadata": {},
   "outputs": [],
   "source": [
    "# Definition for singly-linked list.\n",
    "class ListNode:\n",
    "    def __init__(self, x):\n",
    "        self.val = x\n",
    "        self.next = None\n",
    "\n",
    "class Solution:\n",
    "    def hasCycle(self, head: ListNode) -> bool:\n",
    "        slow = head\n",
    "        fast = head.next\n",
    "\n",
    "        while slow != fast:\n",
    "            if fast is None or fast.next is None:\n",
    "                return False\n",
    "            slow = slow.next\n",
    "            fast = fast.next.next\n",
    "        return True"
   ]
  },
  {
   "cell_type": "code",
   "execution_count": 9,
   "metadata": {},
   "outputs": [
    {
     "ename": "AttributeError",
     "evalue": "'list' object has no attribute 'next'",
     "output_type": "error",
     "traceback": [
      "\u001b[0;31m---------------------------------------------------------------------------\u001b[0m",
      "\u001b[0;31mAttributeError\u001b[0m                            Traceback (most recent call last)",
      "Cell \u001b[0;32mIn[9], line 2\u001b[0m\n\u001b[1;32m      1\u001b[0m obj \u001b[38;5;241m=\u001b[39m Solution()\n\u001b[0;32m----> 2\u001b[0m \u001b[43mobj\u001b[49m\u001b[38;5;241;43m.\u001b[39;49m\u001b[43mhasCycle\u001b[49m\u001b[43m(\u001b[49m\u001b[43m[\u001b[49m\u001b[38;5;241;43m3\u001b[39;49m\u001b[43m,\u001b[49m\u001b[38;5;241;43m2\u001b[39;49m\u001b[43m,\u001b[49m\u001b[38;5;241;43m0\u001b[39;49m\u001b[43m,\u001b[49m\u001b[38;5;241;43m-\u001b[39;49m\u001b[38;5;241;43m4\u001b[39;49m\u001b[43m]\u001b[49m\u001b[43m)\u001b[49m\n",
      "Cell \u001b[0;32mIn[8], line 10\u001b[0m, in \u001b[0;36mSolution.hasCycle\u001b[0;34m(self, head)\u001b[0m\n\u001b[1;32m      8\u001b[0m \u001b[38;5;28;01mdef\u001b[39;00m \u001b[38;5;21mhasCycle\u001b[39m(\u001b[38;5;28mself\u001b[39m, head: ListNode) \u001b[38;5;241m-\u001b[39m\u001b[38;5;241m>\u001b[39m \u001b[38;5;28mbool\u001b[39m:\n\u001b[1;32m      9\u001b[0m     slow \u001b[38;5;241m=\u001b[39m head\n\u001b[0;32m---> 10\u001b[0m     fast \u001b[38;5;241m=\u001b[39m \u001b[43mhead\u001b[49m\u001b[38;5;241;43m.\u001b[39;49m\u001b[43mnext\u001b[49m\n\u001b[1;32m     12\u001b[0m     \u001b[38;5;28;01mwhile\u001b[39;00m slow \u001b[38;5;241m!=\u001b[39m fast:\n\u001b[1;32m     13\u001b[0m         \u001b[38;5;28;01mif\u001b[39;00m fast \u001b[38;5;129;01mis\u001b[39;00m \u001b[38;5;28;01mNone\u001b[39;00m \u001b[38;5;129;01mor\u001b[39;00m fast\u001b[38;5;241m.\u001b[39mnext \u001b[38;5;129;01mis\u001b[39;00m \u001b[38;5;28;01mNone\u001b[39;00m:\n",
      "\u001b[0;31mAttributeError\u001b[0m: 'list' object has no attribute 'next'"
     ]
    }
   ],
   "source": [
    "obj = Solution()\n",
    "obj.hasCycle([3,2,0,-4])"
   ]
  },
  {
   "cell_type": "markdown",
   "metadata": {},
   "source": [
    "#### Happy Number (LeetCode #202)"
   ]
  },
  {
   "cell_type": "code",
   "execution_count": null,
   "metadata": {},
   "outputs": [],
   "source": [
    "Write an algorithm to determine if a number n is happy.\n",
    "\n",
    "A happy number is a number defined by the following process:\n",
    "\n",
    "Starting with any positive integer, replace the number by the sum of the squares of its digits.\n",
    "Repeat the process until the number equals 1 (where it will stay), or it loops endlessly in a cycle which does not include 1.\n",
    "Those numbers for which this process ends in 1 are happy.\n",
    "Return true if n is a happy number, and false if not.\n",
    "\n",
    "Example 1:\n",
    "\n",
    "Input: n = 19\n",
    "Output: true\n",
    "Explanation:\n",
    "12 + 92 = 82\n",
    "82 + 22 = 68\n",
    "62 + 82 = 100\n",
    "12 + 02 + 02 = 1\n",
    "Example 2:\n",
    "\n",
    "Input: n = 2\n",
    "Output: false\n",
    " \n",
    "\n",
    "Constraints:\n",
    "\n",
    "1 <= n <= 231 - 1"
   ]
  },
  {
   "cell_type": "code",
   "execution_count": 1,
   "metadata": {},
   "outputs": [],
   "source": [
    "#https://leetcode.com/problems/happy-number/editorial/\n",
    "class Solution:\n",
    "    def isHappy(self, n: int) -> bool:\n",
    "        #first define a function to get next number we get after sum of squares of it's digits\n",
    "        def get_next(num):\n",
    "            total_sum = 0\n",
    "            while num > 0:\n",
    "                num, digit = divmod(num, 10)\n",
    "                total_sum += digit**2\n",
    "            return total_sum\n",
    "        \n",
    "        slow_ptr = n\n",
    "        fast_ptr = get_next(n)\n",
    "        #If n is a happy number, i.e. there is no cycle, then the fast runner will eventually get to 1 before the slow runner.\n",
    "        #If n is not a happy number, then eventually the fast runner and the slow runner will be on the same number.\n",
    "        while fast_ptr != 1 and slow_ptr != fast_ptr:\n",
    "            slow_ptr = get_next(slow_ptr)\n",
    "            fast_ptr = get_next(fast_ptr)\n",
    "        return fast_ptr == 1\n"
   ]
  },
  {
   "cell_type": "code",
   "execution_count": 2,
   "metadata": {},
   "outputs": [
    {
     "data": {
      "text/plain": [
       "True"
      ]
     },
     "execution_count": 2,
     "metadata": {},
     "output_type": "execute_result"
    }
   ],
   "source": [
    "obj = Solution()\n",
    "obj.isHappy(19)\n",
    "#obj.isHappy(2) run takes time"
   ]
  },
  {
   "cell_type": "code",
   "execution_count": 7,
   "metadata": {},
   "outputs": [
    {
     "data": {
      "text/plain": [
       "True"
      ]
     },
     "execution_count": 11,
     "metadata": {},
     "output_type": "execute_result"
    }
   ],
   "source": [
    "#tow pointers : https://leetcode.com/problems/happy-number/solutions/5732946/video-2-solutions-using-remainder-and-two-pointers/\n",
    "\n",
    "class Solution:\n",
    "    def isHappy(self, n: int) -> bool:\n",
    "\n",
    "        def get_next_number(n):\n",
    "            output = 0\n",
    "            while n:\n",
    "                remainder = n % 10\n",
    "                output += remainder**2\n",
    "                n = n // 10\n",
    "            return output\n",
    "        \n",
    "        slow = get_next_number(n)\n",
    "        fast = get_next_number(get_next_number(n))\n",
    "\n",
    "        while slow != fast:\n",
    "            if fast == 1:\n",
    "                return True\n",
    "            slow = get_next_number(slow)\n",
    "            fast = get_next_number(get_next_number(fast))\n",
    "\n",
    "        return slow == 1 \n",
    "    \n",
    "obj = Solution()\n",
    "obj.isHappy(19)"
   ]
  },
  {
   "cell_type": "code",
   "execution_count": null,
   "metadata": {},
   "outputs": [
    {
     "data": {
      "text/plain": [
       "False"
      ]
     },
     "execution_count": 12,
     "metadata": {},
     "output_type": "execute_result"
    }
   ],
   "source": [
    "obj.isHappy(2)"
   ]
  },
  {
   "cell_type": "code",
   "execution_count": 13,
   "metadata": {},
   "outputs": [
    {
     "data": {
      "text/plain": [
       "True"
      ]
     },
     "execution_count": 13,
     "metadata": {},
     "output_type": "execute_result"
    }
   ],
   "source": [
    "#Using Remainder : #https://leetcode.com/problems/happy-number/solutions/5732946/video-2-solutions-using-remainder-and-two-pointers/\n",
    "class Solution:\n",
    "    def isHappy(self, n: int) -> bool:  \n",
    "        visit=set()\n",
    "\n",
    "        def get_next_number(n):\n",
    "            output = 0\n",
    "            while n:\n",
    "                remainder = n % 10\n",
    "                output += remainder**2\n",
    "                n = n // 10\n",
    "            return output\n",
    "        \n",
    "        while n not in visit:\n",
    "            visit.add(n)\n",
    "            n = get_next_number(n)\n",
    "            if n == 1: return True\n",
    "        return False\n",
    "    \n",
    "obj = Solution()\n",
    "obj.isHappy(19)    "
   ]
  },
  {
   "cell_type": "code",
   "execution_count": 14,
   "metadata": {},
   "outputs": [
    {
     "data": {
      "text/plain": [
       "False"
      ]
     },
     "execution_count": 14,
     "metadata": {},
     "output_type": "execute_result"
    }
   ],
   "source": [
    "obj.isHappy(2)"
   ]
  },
  {
   "cell_type": "code",
   "execution_count": 15,
   "metadata": {},
   "outputs": [
    {
     "data": {
      "text/plain": [
       "True"
      ]
     },
     "execution_count": 15,
     "metadata": {},
     "output_type": "execute_result"
    }
   ],
   "source": [
    "class Solution:\n",
    "    def isHappy(self, n: int) -> bool:\n",
    "        seen = set()\n",
    "        seen.add(n)\n",
    "        while True:\n",
    "            total_sum = 0\n",
    "            while n:\n",
    "                val = n % 10\n",
    "                total_sum += val * val\n",
    "                n //= 10\n",
    "            if total_sum == 1: return True\n",
    "            if total_sum in seen: return False\n",
    "            seen.add(total_sum)\n",
    "            n = total_sum\n",
    "\n",
    "obj = Solution()\n",
    "obj.isHappy(19)                "
   ]
  },
  {
   "cell_type": "markdown",
   "metadata": {},
   "source": [
    "## 5.LinkedList in-place Reversal"
   ]
  },
  {
   "cell_type": "code",
   "execution_count": 2,
   "metadata": {},
   "outputs": [],
   "source": [
    "class Node:\n",
    "    def __init__(self, value) -> None:\n",
    "        self.value = value\n",
    "        self.next = None\n",
    "\n",
    "class SLinkedList:\n",
    "    def __init__(self) -> None:\n",
    "        self.head = None\n",
    "        self.tail = None\n",
    "        self.length = 0\n",
    "\n",
    "    def append(self, value):\n",
    "        new_node = Node(value)\n",
    "        if self.head is None or self.length == 0:\n",
    "            self.head = new_node\n",
    "            self.tail = new_node\n",
    "            self.length += 1\n",
    "        elif self.length > 0:\n",
    "            self.tail.next = new_node\n",
    "            self.tail = new_node\n",
    "            self.length += 1\n",
    "\n",
    "    def __str__(self) -> str:\n",
    "        ptr = self.head\n",
    "        output_str = ''\n",
    "        if self.length == 0:\n",
    "            return output_str\n",
    "        elif self.length > 0:\n",
    "            while ptr:\n",
    "                output_str += str(ptr.value)\n",
    "                ptr = ptr.next\n",
    "                if ptr:\n",
    "                    output_str += ' -> '\n",
    "        return output_str"
   ]
  },
  {
   "cell_type": "markdown",
   "metadata": {},
   "source": [
    "##### Reverse Linked List (LeetCode #206)\n",
    "Given the head of a singly linked list, reverse the list, and return the reversed list.\n",
    "Input: head = [1,2,3,4,5]\n",
    "Output: [5,4,3,2,1]\n",
    "\n",
    "Input: head = [1,2]\n",
    "Output: [2,1]\n",
    "\n",
    "Input: head = []\n",
    "Output: []"
   ]
  },
  {
   "cell_type": "code",
   "execution_count": 3,
   "metadata": {},
   "outputs": [
    {
     "name": "stdout",
     "output_type": "stream",
     "text": [
      "1 -> 2 -> 3 -> 4 -> 5\n"
     ]
    }
   ],
   "source": [
    "objSLL = SLinkedList()\n",
    "objSLL.append(1)\n",
    "objSLL.append(2)\n",
    "objSLL.append(3)\n",
    "objSLL.append(4)\n",
    "objSLL.append(5)\n",
    "print(objSLL)"
   ]
  },
  {
   "cell_type": "code",
   "execution_count": 15,
   "metadata": {},
   "outputs": [],
   "source": [
    "#from AlgoExpert\n",
    "# 1 -> 2 -> 3 -> 4 -> 5\n",
    "# None <- 1 <- 2 <- 3 <- 4 <- 5\n",
    "\n",
    "\n",
    "class Solution:\n",
    "    def reverseList(self, head):\n",
    "        p1, p2 = None, head\n",
    "        while p2 is not None:\n",
    "            p3 = p2.next\n",
    "            p2.next = p1\n",
    "            p1 = p2\n",
    "            p2 = p3\n",
    "        return p1     \n",
    "\n",
    "obj = Solution()\n",
    "obj.reverseList(objSLL.head)"
   ]
  },
  {
   "cell_type": "markdown",
   "metadata": {},
   "source": [
    "##### Reverse Linked List II (LeetCode #92)\n",
    "Given the head of a singly linked list and two integers left and right where left <= right, reverse the nodes of the list from position left to position right, and return the reversed list.\n",
    "\n",
    "Example 1:\n",
    "Input: head = [1,2,3,4,5], left = 2, right = 4\n",
    "Output: [1,4,3,2,5]\n",
    "Example 2:\n",
    "\n",
    "Input: head = [5], left = 1, right = 1\n",
    "Output: [5]\n",
    " \n",
    "Constraints:\n",
    "\n",
    "The number of nodes in the list is n.\n",
    "1 <= n <= 500\n",
    "-500 <= Node.val <= 500\n",
    "1 <= left <= right <= n"
   ]
  },
  {
   "cell_type": "code",
   "execution_count": null,
   "metadata": {},
   "outputs": [],
   "source": [
    "#https://leetcode.com/problems/reverse-linked-list-ii/solutions/5418381/video-simple-solution/\n",
    "# Definition for singly-linked list.\n",
    "class ListNode:\n",
    "    def __init__(self, val=0, next=None):\n",
    "        self.val = val\n",
    "        self.next = next\n",
    "\n",
    "class Solution:\n",
    "    def reverseBetween(self, head:ListNode, left: int, right: int):\n",
    "        if not head or left == right:\n",
    "            return head\n",
    "\n",
    "        dummyNode = ListNode(0, head)\n",
    "        prev = dummyNode\n",
    "\n",
    "        #to reach the previous node of starting input point(left)\n",
    "        for _ in range(left - 1):\n",
    "            prev = prev.next\n",
    "\n",
    "        #once p1 reached to previous node of left, it's time to assign LEFT to p2\n",
    "        curr = prev.next\n",
    "        for _ in range(right - left):\n",
    "            temp = curr.next\n",
    "            curr.next = temp.next\n",
    "            temp.next = prev.next\n",
    "            prev.next = temp\n",
    "\n",
    "        return dummyNode.next"
   ]
  },
  {
   "cell_type": "code",
   "execution_count": 16,
   "metadata": {},
   "outputs": [],
   "source": [
    "#https://leetcode.com/problems/reverse-linked-list-ii/solutions/5418381/video-simple-solution/\n",
    "# Definition for singly-linked list.\n",
    "class ListNode:\n",
    "    def __init__(self, val=0, next=None):\n",
    "        self.val = val\n",
    "        self.next = next\n",
    "\n",
    "class Solution:\n",
    "    def reverseBetween(self, head:ListNode, left: int, right: int):\n",
    "        if not head or left == right:\n",
    "            return head\n",
    "\n",
    "        dummyNode = ListNode(0, head)\n",
    "        p1 = dummyNode\n",
    "\n",
    "        #to reach the previous node of starting input point(left)\n",
    "        for _ in range(left - 1):\n",
    "            p1 = p1.next\n",
    "\n",
    "        #once p1 reached to previous node of left, it's time to assign LEFT to p2\n",
    "        p2 = p1.next\n",
    "        for _ in range(right - left):\n",
    "            p3 = p2.next\n",
    "            p2.next = p3.next\n",
    "            p3.next = p1.next\n",
    "            p1.next = p3\n",
    "\n",
    "        return dummyNode.next"
   ]
  },
  {
   "cell_type": "markdown",
   "metadata": {},
   "source": [
    "##### Swap Nodes in Pairs (LeetCode #24)\n",
    "Given a linked list, swap every two adjacent nodes and return its head. You must solve the problem without modifying the values in the list's nodes (i.e., only nodes themselves may be changed.)\n",
    "\n",
    "Example 1:\n",
    "\n",
    "Input: head = [1,2,3,4]\n",
    "\n",
    "Output: [2,1,4,3]\n",
    "\n",
    "Explanation:\n",
    "\n",
    "Example 2:\n",
    "\n",
    "Input: head = []\n",
    "\n",
    "Output: []\n",
    "\n",
    "Example 3:\n",
    "\n",
    "Input: head = [1]\n",
    "\n",
    "Output: [1]\n",
    "\n",
    "Example 4:\n",
    "\n",
    "Input: head = [1,2,3]\n",
    "\n",
    "Output: [2,1,3]\n",
    "\n",
    "Constraints:\n",
    "\n",
    "The number of nodes in the list is in the range [0, 100].\n",
    "0 <= Node.val <= 100\n"
   ]
  },
  {
   "cell_type": "code",
   "execution_count": 19,
   "metadata": {},
   "outputs": [
    {
     "name": "stdout",
     "output_type": "stream",
     "text": [
      "1 -> 2 -> 3 -> 4\n"
     ]
    }
   ],
   "source": [
    "objSLL = SLinkedList()\n",
    "objSLL.append(1)\n",
    "objSLL.append(2)\n",
    "objSLL.append(3)\n",
    "objSLL.append(4)\n",
    "print(objSLL)"
   ]
  },
  {
   "cell_type": "code",
   "execution_count": null,
   "metadata": {},
   "outputs": [],
   "source": [
    "#Using Recursion : from leetcode\n",
    "# Definition for singly-linked list.\n",
    "class ListNode:\n",
    "    def __init__(self, val=0, next=None):\n",
    "        self.val = val\n",
    "        self.next = next\n",
    "        \n",
    "class Solution:\n",
    "    def swapPairs(self, head: ListNode):\n",
    "        if head is None or head.next is None:\n",
    "            return head\n",
    "\n",
    "        #Nodes to be swapped\n",
    "        first_node = head\n",
    "        second_node = head.next\n",
    "\n",
    "        first_node.next = self.swapPairs(second_node.next)\n",
    "        second_node.next = first_node\n",
    "\n",
    "        #now the head is second_node instead first_node\n",
    "        return second_node"
   ]
  },
  {
   "cell_type": "code",
   "execution_count": 1,
   "metadata": {},
   "outputs": [],
   "source": [
    "#using iterative approach from algoexpert\n",
    "class ListNode:\n",
    "    def __init__(self, val=0, next=None):\n",
    "        self.val = val\n",
    "        self.next = next\n",
    "        \n",
    "class Solution:\n",
    "    def swapPairs(self, head: ListNode):\n",
    "        #create a dummy node and prepend to head Node\n",
    "        dummyNode = ListNode(None)\n",
    "        dummyNode.next = head\n",
    "\n",
    "        #when starting from head\n",
    "        prevNode = dummyNode\n",
    "\n",
    "        #take pair value to swap with each other\n",
    "        while prevNode.next and prevNode.next.next:\n",
    "            firstNode = prevNode.next\n",
    "            secondNode = prevNode.next.next\n",
    "\n",
    "            #after swapping firstNode should point to second's next\n",
    "            firstNode.next = secondNode.next\n",
    "            #interchanged\n",
    "            secondNode.next = firstNode\n",
    "            #attach previousNode link with new member- secondNode came in place of firstNode\n",
    "            prevNode.next = secondNode \n",
    "\n",
    "            #Now move our pointer \"prevNode\" to the last node of first pair swapped, as firstNode now became second\n",
    "            prevNode = firstNode\n",
    "\n",
    "            return dummyNode.next"
   ]
  },
  {
   "cell_type": "markdown",
   "metadata": {},
   "source": [
    "## 6.Monotonic Stack"
   ]
  },
  {
   "cell_type": "markdown",
   "metadata": {},
   "source": [
    "The Monotonic Stack pattern uses a stack to maintain a sequence of elements in a specific order (increasing or decreasing).\n",
    "\n",
    "Use this pattern for problems that require finding the next greater or smaller element.\n",
    "\n",
    "Sample Problem:\n",
    "Find the next greater element for each element in an array. Output -1 if the greater element doesn’t exist.\n",
    "\n",
    "Example:\n",
    "\n",
    "Input: nums = [2, 1, 2, 4, 3]\n",
    "\n",
    "Output: [4, 2, 4, -1, -1]\n",
    "\n",
    "Explanation:\n",
    "Use a stack to keep track of elements for which we haven't found the next greater element yet.\n",
    "\n",
    "Iterate through the array, and for each element, pop elements from the stack until you find a greater element.\n",
    "\n",
    "If the stack is not empty, set the result for index at the top of the stack to current element.\n",
    "\n",
    "Push the current element onto the stack.\n",
    "\n",
    "LeetCode Problems:\n",
    "Next Greater Element I (LeetCode #496)\n",
    "\n",
    "Daily Temperatures (LeetCode #739)\n",
    "\n",
    "Largest Rectangle in Histogram (LeetCode #84)"
   ]
  },
  {
   "cell_type": "markdown",
   "metadata": {},
   "source": [
    "##### Next Greater Element I (LeetCode #496)"
   ]
  },
  {
   "cell_type": "markdown",
   "metadata": {},
   "source": [
    "The next greater element of some element x in an array is the first greater element that is to the right of x in the same array.\n",
    "\n",
    "You are given two distinct 0-indexed integer arrays nums1 and nums2, where nums1 is a subset of nums2.\n",
    "\n",
    "For each 0 <= i < nums1.length, find the index j such that nums1[i] == nums2[j] and determine the next greater element of nums2[j] in nums2. If there is no next greater element, then the answer for this query is -1.\n",
    "\n",
    "Return an array ans of length nums1.length such that ans[i] is the next greater element as described above.\n",
    "\n",
    " \n",
    "\n",
    "Example 1:\n",
    "\n",
    "Input: nums1 = [4,1,2], nums2 = [1,3,4,2]\n",
    "Output: [-1,3,-1]\n",
    "Explanation: The next greater element for each value of nums1 is as follows:\n",
    "- 4 is underlined in nums2 = [1,3,4,2]. There is no next greater element, so the answer is -1.\n",
    "- 1 is underlined in nums2 = [1,3,4,2]. The next greater element is 3.\n",
    "- 2 is underlined in nums2 = [1,3,4,2]. There is no next greater element, so the answer is -1.\n",
    "Example 2:\n",
    "\n",
    "Input: nums1 = [2,4], nums2 = [1,2,3,4]\n",
    "Output: [3,-1]\n",
    "Explanation: The next greater element for each value of nums1 is as follows:\n",
    "- 2 is underlined in nums2 = [1,2,3,4]. The next greater element is 3.\n",
    "- 4 is underlined in nums2 = [1,2,3,4]. There is no next greater element, so the answer is -1.\n",
    " \n",
    "\n",
    "Constraints:\n",
    "\n",
    "1 <= nums1.length <= nums2.length <= 1000\n",
    "0 <= nums1[i], nums2[i] <= 104\n",
    "All integers in nums1 and nums2 are unique.\n",
    "All the integers of nums1 also appear in nums2."
   ]
  },
  {
   "cell_type": "code",
   "execution_count": 3,
   "metadata": {},
   "outputs": [],
   "source": [
    "from typing import List\n",
    "\n",
    "class Solution:\n",
    "    def nextGreaterElement(self, nums1: List[int], nums2: List[int]) -> List[int]:\n",
    "        stak = []\n",
    "        track_greater = {}\n",
    "        for num in nums2:\n",
    "            while stak and num > stak[-1]:\n",
    "                track_greater[stak.pop()] = num\n",
    "            stak.append(num)\n",
    "        \n",
    "        while stak:\n",
    "            track_greater[stak.pop()] = -1\n",
    "\n",
    "        return [track_greater.get(i, -1) for i in nums1]\n"
   ]
  },
  {
   "cell_type": "code",
   "execution_count": 4,
   "metadata": {},
   "outputs": [
    {
     "data": {
      "text/plain": [
       "[-1, 3, -1]"
      ]
     },
     "execution_count": 4,
     "metadata": {},
     "output_type": "execute_result"
    }
   ],
   "source": [
    "obj = Solution()\n",
    "obj.nextGreaterElement([4,1,2], [1,3,4,2])"
   ]
  },
  {
   "cell_type": "code",
   "execution_count": null,
   "metadata": {},
   "outputs": [],
   "source": []
  }
 ],
 "metadata": {
  "kernelspec": {
   "display_name": "Python 3",
   "language": "python",
   "name": "python3"
  },
  "language_info": {
   "codemirror_mode": {
    "name": "ipython",
    "version": 3
   },
   "file_extension": ".py",
   "mimetype": "text/x-python",
   "name": "python",
   "nbconvert_exporter": "python",
   "pygments_lexer": "ipython3",
   "version": "3.10.13"
  }
 },
 "nbformat": 4,
 "nbformat_minor": 2
}
