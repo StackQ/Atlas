{
 "cells": [
  {
   "cell_type": "markdown",
   "metadata": {},
   "source": [
    "## 1. Prefix \n",
    "**Caching Approach**  \n",
    "\n",
    "Imagine that we pre-compute the cummulative sum from index 0 to k. Could we use this information to derive Sum(i,j)?\n",
    "Let us define sum[k] as the cumulative sum for nums[0.....k−1] (inclusive):\n",
    "Now, we can calculate sumRange as following:sumRange(i,j)=sum[j+1]−sum[i]\n",
    "\n",
    "\n",
    "Prefix Sum involves preprocessing an array to create a new array where each element at index i represents the sum of the array from the start up to i. This allows for efficient sum queries on subarrays.\n",
    "\n",
    "Use this pattern when you need to perform multiple sum queries on a subarray or need to calculate cumulative sums.\n",
    "\n",
    "Sample Problem:\n",
    "Given an array nums, answer multiple queries about the sum of elements within a specific range [i, j].\n",
    "\n",
    "Example:\n",
    "Input: nums = [1, 2, 3, 4, 5, 6], i = 1, j = 3\n",
    "Output: 9\n",
    "\n",
    "Explanation:\n",
    "Preprocess the array A to create a prefix sum array staring with 0 so len+1: P = [0, 1, 3, 6, 10, 15, 21].\n",
    "To find the sum between indices i and j, use the formula: sum[j+1]−sum[i].\n",
    "\n",
    "Notice in the code above we inserted a dummy 0 as the first element in the sum array. This trick saves us from an extra conditional check in sumRange function.\n",
    "\n",
    "Complexity Analysis\n",
    "Time complexity: O(1) time per query, O(n) time pre-computation.\n",
    "Since the cumulative sum is cached, each sumRange query can be calculated in O(1) time.\n",
    "\n",
    "Space complexity: O(n).\n",
    "\n",
    "LeetCode Problems:\n",
    "Range Sum Query - Immutable (LeetCode #303)\n",
    "\n",
    "Contiguous Array (LeetCode #525)\n",
    "\n",
    "Subarray Sum Equals K (LeetCode #560)"
   ]
  },
  {
   "cell_type": "markdown",
   "metadata": {},
   "source": [
    "##### Range Sum Query - Immutable (LeetCode #303)"
   ]
  },
  {
   "cell_type": "markdown",
   "metadata": {},
   "source": [
    "\n",
    "Given an integer array nums, handle multiple queries of the following type:\n",
    "\n",
    "Calculate the sum of the elements of nums between indices left and right inclusive where left <= right.\n",
    "Implement the NumArray class:\n",
    "\n",
    "NumArray(int[] nums) Initializes the object with the integer array nums.\n",
    "int sumRange(int left, int right) Returns the sum of the elements of nums between indices left and right inclusive (i.e. nums[left] + nums[left + 1] + ... + nums[right]).\n",
    " \n",
    "Example 1:\n",
    "\n",
    "Input\n",
    "[\"NumArray\", \"sumRange\", \"sumRange\", \"sumRange\"]\n",
    "[[[-2, 0, 3, -5, 2, -1]], [0, 2], [2, 5], [0, 5]]\n",
    "Output\n",
    "[null, 1, -1, -3]\n",
    "\n",
    "Explanation\n",
    "NumArray numArray = new NumArray([-2, 0, 3, -5, 2, -1]);\n",
    "numArray.sumRange(0, 2); // return (-2) + 0 + 3 = 1\n",
    "numArray.sumRange(2, 5); // return 3 + (-5) + 2 + (-1) = -1\n",
    "numArray.sumRange(0, 5); // return (-2) + 0 + 3 + (-5) + 2 + (-1) = -3"
   ]
  },
  {
   "cell_type": "code",
   "execution_count": 1,
   "metadata": {},
   "outputs": [],
   "source": [
    "from typing import List\n",
    "\n",
    "class NumArray:\n",
    "\n",
    "    def __init__(self, nums: List[int]):\n",
    "        self.nums = nums\n",
    "        self._cum_sum = [0]\n",
    "        _current_sum = 0\n",
    "\n",
    "        for val in self.nums:\n",
    "            _current_sum += val\n",
    "            self._cum_sum.append(_current_sum)        \n",
    "\n",
    "    def sumRange(self, left: int, right: int) -> int:\n",
    "        range_sum = self._cum_sum[right+1] - self._cum_sum[left]\n",
    "        print(f\"input list = {self.nums} | cumulative sum of list = {self._cum_sum}\")\n",
    "        return range_sum"
   ]
  },
  {
   "cell_type": "code",
   "execution_count": 2,
   "metadata": {},
   "outputs": [
    {
     "name": "stdout",
     "output_type": "stream",
     "text": [
      "input list = [-2, 0, 3, -5, 2, -1] | cumulative sum of list = [0, -2, -2, 1, -4, -2, -3]\n",
      "1\n",
      "input list = [-2, 0, 3, -5, 2, -1] | cumulative sum of list = [0, -2, -2, 1, -4, -2, -3]\n",
      "-1\n",
      "input list = [-2, 0, 3, -5, 2, -1] | cumulative sum of list = [0, -2, -2, 1, -4, -2, -3]\n",
      "-3\n"
     ]
    }
   ],
   "source": [
    "tl = [-2, 0, 3, -5, 2, -1]\n",
    "obj = NumArray(tl)\n",
    "print(obj.sumRange(0,2))\n",
    "print(obj.sumRange(2,5))\n",
    "print(obj.sumRange(0,5))"
   ]
  },
  {
   "cell_type": "markdown",
   "metadata": {},
   "source": [
    "##### Contiguous Array (LeetCode #525)"
   ]
  },
  {
   "cell_type": "markdown",
   "metadata": {},
   "source": [
    "Given a binary array nums, return the maximum length of a contiguous subarray with an equal number of 0 and 1.\n",
    "\n",
    "Example 1:\n",
    "Input: nums = [0,1]\n",
    "Output: 2\n",
    "Explanation: [0, 1] is the longest contiguous subarray with an equal number of 0 and 1.\n",
    "\n",
    "Example 2:\n",
    "Input: nums = [0,1,0]\n",
    "Output: 2\n",
    "Explanation: [0, 1] (or [1, 0]) is a longest contiguous subarray with equal number of 0 and 1.\n",
    "\n",
    "Constraints:\n",
    "\n",
    "1 <= nums.length <= 105  \n",
    "nums[i] is either 0 or 1."
   ]
  },
  {
   "cell_type": "code",
   "execution_count": null,
   "metadata": {},
   "outputs": [],
   "source": []
  },
  {
   "cell_type": "markdown",
   "metadata": {},
   "source": [
    "##### Subarray Sum Equals K (LeetCode #560)"
   ]
  },
  {
   "cell_type": "markdown",
   "metadata": {},
   "source": [
    "Given an array of integers nums and an integer k, return the total number of subarrays whose sum equals to k.\n",
    "\n",
    "A subarray is a contiguous non-empty sequence of elements within an array.\n",
    "\n",
    "Example 1:\n",
    "\n",
    "Input: nums = [1,1,1], k = 2\n",
    "Output: 2\n",
    "Example 2:\n",
    "\n",
    "Input: nums = [1,2,3], k = 3\n",
    "Output: 2\n",
    " \n",
    "Constraints:\n",
    "\n",
    "1 <= nums.length <= 2 * 104  \n",
    "-1000 <= nums[i] <= 1000  \n",
    "-107 <= k <= 107  "
   ]
  },
  {
   "cell_type": "markdown",
   "metadata": {},
   "source": [
    "Instead of determining the sum of elements every time for every new subarray considered, we can make use of a cumulative sum array , sum. Then, in order to calculate the sum of elements lying between two indices, we can subtract the cumulative sum corresponding to the two indices to obtain the sum directly, instead of iterating over the subarray to obtain the sum.\n",
    "\n",
    "In this implementation, we make use of a cumulative sum array, sum, such that sum[i] is used to store the cumulative sum of nums array up to the element corresponding to the (i−1) \n",
    "th\n",
    "  index. Thus, to determine the sum of elements for the subarray nums[i:j], we can directly use sum[j+1]−sum[i]."
   ]
  },
  {
   "cell_type": "code",
   "execution_count": 40,
   "metadata": {},
   "outputs": [],
   "source": [
    "from typing import List\n",
    "\n",
    "class Solution:\n",
    "\n",
    "    def subarraySum(self, nums: List[int], k: int) -> int:\n",
    "        cum_sum = [0]\n",
    "        current_sum = 0\n",
    "        count = 0\n",
    "\n",
    "        for val in nums:\n",
    "            current_sum += val\n",
    "            cum_sum.append(current_sum) \n",
    "\n",
    "        print(f\"input={nums} | cum sum={cum_sum}\")\n",
    "        for start in range(len(nums)):\n",
    "            for end in range(start+1, len(nums)+1):\n",
    "                if cum_sum[end] - cum_sum[start] == k:\n",
    "                    count += 1\n",
    "        return count"
   ]
  },
  {
   "cell_type": "code",
   "execution_count": 41,
   "metadata": {},
   "outputs": [
    {
     "name": "stdout",
     "output_type": "stream",
     "text": [
      "input=[1, 1, 1] | cum sum=[0, 1, 2, 3]\n"
     ]
    },
    {
     "data": {
      "text/plain": [
       "2"
      ]
     },
     "execution_count": 41,
     "metadata": {},
     "output_type": "execute_result"
    }
   ],
   "source": [
    "obj = Solution()\n",
    "obj.subarraySum([1,1,1], 2)"
   ]
  },
  {
   "cell_type": "code",
   "execution_count": 42,
   "metadata": {},
   "outputs": [
    {
     "name": "stdout",
     "output_type": "stream",
     "text": [
      "input=[1, 2, 3] | cum sum=[0, 1, 3, 6]\n"
     ]
    },
    {
     "data": {
      "text/plain": [
       "2"
      ]
     },
     "execution_count": 42,
     "metadata": {},
     "output_type": "execute_result"
    }
   ],
   "source": [
    "obj.subarraySum([1,2,3], 3)"
   ]
  },
  {
   "cell_type": "code",
   "execution_count": null,
   "metadata": {},
   "outputs": [],
   "source": []
  }
 ],
 "metadata": {
  "kernelspec": {
   "display_name": "Python 3",
   "language": "python",
   "name": "python3"
  },
  "language_info": {
   "codemirror_mode": {
    "name": "ipython",
    "version": 3
   },
   "file_extension": ".py",
   "mimetype": "text/x-python",
   "name": "python",
   "nbconvert_exporter": "python",
   "pygments_lexer": "ipython3",
   "version": "3.10.13"
  }
 },
 "nbformat": 4,
 "nbformat_minor": 2
}
