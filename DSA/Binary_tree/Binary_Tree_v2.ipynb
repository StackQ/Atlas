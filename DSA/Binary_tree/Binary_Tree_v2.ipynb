{
 "cells": [
  {
   "cell_type": "code",
   "execution_count": 51,
   "metadata": {},
   "outputs": [],
   "source": [
    "class TreeNode:\n",
    "    def __init__(self, data):\n",
    "        self.data = data\n",
    "        self.children = []\n",
    "\n",
    "    def __str__(self, level=0) -> str:\n",
    "        t_str = f\" -L{level} \" + f\"  \" * level + str(self.data) + f\"\\n\"\n",
    "        for child in self.children:\n",
    "            t_str += child.__str__(level + 1)\n",
    "        return t_str\n",
    "\n",
    "    def addChild(self, TreeNode):\n",
    "        self.children.append(TreeNode)"
   ]
  },
  {
   "cell_type": "code",
   "execution_count": 52,
   "metadata": {},
   "outputs": [
    {
     "name": "stdout",
     "output_type": "stream",
     "text": [
      " -L0 Drinks\n",
      " -L1   Cold\n",
      " -L2     alcoholic\n",
      " -L3       Beer\n",
      " -L3       Whisky\n",
      " -L4         Bourbon\n",
      " -L4         Scotch\n",
      " -L5           Blended\n",
      " -L5           Single Malt\n",
      " -L6             Laphroaig 10\n",
      " -L6             glenmorangie 12\n",
      " -L2     non-alcoholic\n",
      " -L3       Cola\n",
      " -L3       Pepsi\n",
      " -L1   Hot\n",
      " -L2     Tea\n",
      " -L3       Green Tea\n",
      " -L3       Lemon Tea\n",
      " -L2     Coffee\n",
      " -L3       Espresso\n",
      " -L3       Latte\n",
      "\n"
     ]
    }
   ],
   "source": [
    "tree = TreeNode(\"Drinks\")\n",
    "\n",
    "cold = TreeNode(\"Cold\")\n",
    "alcoholic = TreeNode(\"alcoholic\")\n",
    "beer = TreeNode(\"Beer\")\n",
    "whisky = TreeNode(\"Whisky\")\n",
    "bourbon = TreeNode(\"Bourbon\")\n",
    "scotch = TreeNode(\"Scotch\")\n",
    "blended = TreeNode(\"Blended\")\n",
    "hibiki = TreeNode(\"Hibiki\")\n",
    "single_malt = TreeNode(\"Single Malt\")\n",
    "laphroaig = TreeNode(\"Laphroaig 10\")\n",
    "glenmorangie = TreeNode(\"glenmorangie 12\")\n",
    "\n",
    "non_alcoholic = TreeNode(\"non-alcoholic\")\n",
    "cola = TreeNode(\"Cola\")\n",
    "pepsi = TreeNode(\"Pepsi\")\n",
    "\n",
    "\n",
    "hot = TreeNode(\"Hot\")\n",
    "tea = TreeNode(\"Tea\")\n",
    "green_tea = TreeNode(\"Green Tea\")\n",
    "lemon_tea = TreeNode(\"Lemon Tea\")\n",
    "coffee = TreeNode(\"Coffee\")\n",
    "espresso = TreeNode(\"Espresso\")\n",
    "latte = TreeNode(\"Latte\")\n",
    "\n",
    "#child node for Root-Drinks\n",
    "tree.addChild(cold)\n",
    "tree.addChild(hot)\n",
    "\n",
    "#child node for Node-Cold\n",
    "cold.addChild(alcoholic)\n",
    "cold.addChild(non_alcoholic)\n",
    "\n",
    "non_alcoholic.addChild(cola)\n",
    "non_alcoholic.addChild(pepsi)\n",
    "\n",
    "alcoholic.addChild(beer)\n",
    "alcoholic.addChild(whisky)\n",
    "\n",
    "whisky.addChild(bourbon)\n",
    "whisky.addChild(scotch)\n",
    "\n",
    "scotch.addChild(blended)\n",
    "scotch.addChild(single_malt)\n",
    "\n",
    "single_malt.addChild(laphroaig)\n",
    "single_malt.addChild(glenmorangie)\n",
    "\n",
    "\n",
    "\n",
    "#child node for Node-Hot\n",
    "hot.addChild(tea)\n",
    "hot.addChild(coffee)\n",
    "\n",
    "tea.addChild(green_tea)\n",
    "tea.addChild(lemon_tea)\n",
    "\n",
    "coffee.addChild(espresso)\n",
    "coffee.addChild(latte)\n",
    "\n",
    "print(tree)"
   ]
  },
  {
   "cell_type": "markdown",
   "metadata": {},
   "source": [
    "### Binary Tree using Linked List"
   ]
  },
  {
   "cell_type": "code",
   "execution_count": 2,
   "metadata": {},
   "outputs": [],
   "source": [
    "class TreeNode:\n",
    "    def __init__(self, data) -> None:\n",
    "        self.data = data\n",
    "        self.leftChild = None\n",
    "        self.rightChild = None\n",
    "\n",
    "    def __str__(self) -> str:\n",
    "        pass"
   ]
  },
  {
   "cell_type": "code",
   "execution_count": 8,
   "metadata": {},
   "outputs": [],
   "source": [
    "btree = TreeNode(\"Drinks\")\n",
    "hot = TreeNode(\"Hot\")\n",
    "cold = TreeNode(\"Cold\")\n",
    "btree.leftChild = hot\n",
    "btree.rightChild =cold"
   ]
  },
  {
   "cell_type": "code",
   "execution_count": 12,
   "metadata": {},
   "outputs": [],
   "source": [
    "tree = TreeNode(\"Drinks\")\n",
    "\n",
    "cold = TreeNode(\"Cold\")\n",
    "alcoholic = TreeNode(\"alcoholic\")\n",
    "beer = TreeNode(\"Beer\")\n",
    "whisky = TreeNode(\"Whisky\")\n",
    "bourbon = TreeNode(\"Bourbon\")\n",
    "scotch = TreeNode(\"Scotch\")\n",
    "blended = TreeNode(\"Blended\")\n",
    "hibiki = TreeNode(\"Hibiki\")\n",
    "single_malt = TreeNode(\"Single Malt\")\n",
    "laphroaig = TreeNode(\"Laphroaig 10\")\n",
    "glenmorangie = TreeNode(\"glenmorangie 12\")\n",
    "\n",
    "non_alcoholic = TreeNode(\"non-alcoholic\")\n",
    "cola = TreeNode(\"Cola\")\n",
    "pepsi = TreeNode(\"Pepsi\")\n",
    "\n",
    "\n",
    "hot = TreeNode(\"Hot\")\n",
    "tea = TreeNode(\"Tea\")\n",
    "green_tea = TreeNode(\"Green Tea\")\n",
    "lemon_tea = TreeNode(\"Lemon Tea\")\n",
    "coffee = TreeNode(\"Coffee\")\n",
    "espresso = TreeNode(\"Espresso\")\n",
    "latte = TreeNode(\"Latte\")\n",
    "\n",
    "#child node for Root-Drinks\n",
    "tree.leftChild = cold\n",
    "tree.rightChild = hot\n",
    "\n",
    "#child node for Node-Cold\n",
    "cold.leftChild = alcoholic\n",
    "cold.rightChild = non_alcoholic\n",
    "\n",
    "non_alcoholic.leftChild = cola\n",
    "non_alcoholic.rightChild = pepsi\n",
    "\n",
    "alcoholic.leftChild = beer\n",
    "alcoholic.rightChild = whisky\n",
    "\n",
    "whisky.leftChild = bourbon\n",
    "whisky.rightChild = scotch\n",
    "\n",
    "scotch.leftChild = blended\n",
    "scotch.rightChild = single_malt\n",
    "\n",
    "single_malt.leftChild = laphroaig\n",
    "single_malt.rightChild = glenmorangie\n",
    "\n",
    "\n",
    "\n",
    "#child node for Node-Hot\n",
    "hot.leftChild = tea\n",
    "hot.rightChild = coffee\n",
    "\n",
    "tea.leftChild = green_tea\n",
    "tea.rightChild = lemon_tea\n",
    "\n",
    "coffee.leftChild = espresso\n",
    "coffee.rightChild = latte"
   ]
  },
  {
   "cell_type": "markdown",
   "metadata": {},
   "source": [
    "#### preOrderTraversal"
   ]
  },
  {
   "cell_type": "code",
   "execution_count": 9,
   "metadata": {},
   "outputs": [],
   "source": [
    "def preOrderTraversal(rootNode):\n",
    "    if not rootNode:\n",
    "        return\n",
    "    \n",
    "    print(rootNode.data)\n",
    "    preOrderTraversal(rootNode.leftChild)\n",
    "    preOrderTraversal(rootNode.rightChild)"
   ]
  },
  {
   "cell_type": "code",
   "execution_count": 10,
   "metadata": {},
   "outputs": [
    {
     "name": "stdout",
     "output_type": "stream",
     "text": [
      "Drinks\n",
      "Hot\n",
      "Cold\n"
     ]
    }
   ],
   "source": [
    "preOrderTraversal(btree)"
   ]
  },
  {
   "cell_type": "code",
   "execution_count": 13,
   "metadata": {},
   "outputs": [
    {
     "name": "stdout",
     "output_type": "stream",
     "text": [
      "Drinks\n",
      "Cold\n",
      "alcoholic\n",
      "Beer\n",
      "Whisky\n",
      "Bourbon\n",
      "Scotch\n",
      "Blended\n",
      "Single Malt\n",
      "Laphroaig 10\n",
      "glenmorangie 12\n",
      "non-alcoholic\n",
      "Cola\n",
      "Pepsi\n",
      "Hot\n",
      "Tea\n",
      "Green Tea\n",
      "Lemon Tea\n",
      "Coffee\n",
      "Espresso\n",
      "Latte\n"
     ]
    }
   ],
   "source": [
    "preOrderTraversal(tree)"
   ]
  },
  {
   "cell_type": "markdown",
   "metadata": {},
   "source": [
    "### inOrder Traversal"
   ]
  },
  {
   "cell_type": "code",
   "execution_count": 14,
   "metadata": {},
   "outputs": [],
   "source": [
    "def inOrderTraversal(rootNode):\n",
    "    if not rootNode:\n",
    "        return\n",
    "    \n",
    "    inOrderTraversal(rootNode.leftChild)\n",
    "    print(rootNode.data)\n",
    "    inOrderTraversal(rootNode.rightChild)\n",
    "    "
   ]
  },
  {
   "cell_type": "code",
   "execution_count": 15,
   "metadata": {},
   "outputs": [
    {
     "name": "stdout",
     "output_type": "stream",
     "text": [
      "Hot\n",
      "Drinks\n",
      "Cold\n"
     ]
    }
   ],
   "source": [
    "inOrderTraversal(btree)"
   ]
  },
  {
   "cell_type": "code",
   "execution_count": 16,
   "metadata": {},
   "outputs": [
    {
     "name": "stdout",
     "output_type": "stream",
     "text": [
      "Beer\n",
      "alcoholic\n",
      "Bourbon\n",
      "Whisky\n",
      "Blended\n",
      "Scotch\n",
      "Laphroaig 10\n",
      "Single Malt\n",
      "glenmorangie 12\n",
      "Cold\n",
      "Cola\n",
      "non-alcoholic\n",
      "Pepsi\n",
      "Drinks\n",
      "Green Tea\n",
      "Tea\n",
      "Lemon Tea\n",
      "Hot\n",
      "Espresso\n",
      "Coffee\n",
      "Latte\n"
     ]
    }
   ],
   "source": [
    "inOrderTraversal(tree)"
   ]
  },
  {
   "cell_type": "markdown",
   "metadata": {},
   "source": [
    "#### postOrderTraversal"
   ]
  },
  {
   "cell_type": "code",
   "execution_count": 17,
   "metadata": {},
   "outputs": [],
   "source": [
    "def postOrderTraversal(rootNode):\n",
    "    if not rootNode:\n",
    "        return\n",
    "    \n",
    "    postOrderTraversal(rootNode.leftChild)\n",
    "    postOrderTraversal(rootNode.rightChild)\n",
    "    print(rootNode.data)"
   ]
  },
  {
   "cell_type": "code",
   "execution_count": 19,
   "metadata": {},
   "outputs": [
    {
     "name": "stdout",
     "output_type": "stream",
     "text": [
      "Hot\n",
      "Cold\n",
      "Drinks\n"
     ]
    }
   ],
   "source": [
    "postOrderTraversal(btree)"
   ]
  },
  {
   "cell_type": "code",
   "execution_count": null,
   "metadata": {},
   "outputs": [],
   "source": []
  },
  {
   "cell_type": "code",
   "execution_count": null,
   "metadata": {},
   "outputs": [],
   "source": []
  },
  {
   "cell_type": "markdown",
   "metadata": {},
   "source": [
    "### Binary Tree using Python List\n",
    "- 0th index we will mark None\n",
    "- Left Child = 2x, x=root node's index-1\n",
    "- Right Child = 2x+1"
   ]
  },
  {
   "cell_type": "code",
   "execution_count": null,
   "metadata": {},
   "outputs": [],
   "source": []
  }
 ],
 "metadata": {
  "kernelspec": {
   "display_name": "Python 3",
   "language": "python",
   "name": "python3"
  },
  "language_info": {
   "codemirror_mode": {
    "name": "ipython",
    "version": 3
   },
   "file_extension": ".py",
   "mimetype": "text/x-python",
   "name": "python",
   "nbconvert_exporter": "python",
   "pygments_lexer": "ipython3",
   "version": "3.10.13"
  }
 },
 "nbformat": 4,
 "nbformat_minor": 2
}
