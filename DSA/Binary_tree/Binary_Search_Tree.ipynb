{
 "cells": [
  {
   "cell_type": "code",
   "execution_count": 1,
   "metadata": {},
   "outputs": [],
   "source": [
    "class Node:\n",
    "    def __init__(self, data) -> None:\n",
    "        self.data = data\n",
    "        self.leftChild = None\n",
    "        self.rightChild = None"
   ]
  },
  {
   "cell_type": "code",
   "execution_count": 3,
   "metadata": {},
   "outputs": [],
   "source": [
    "bst = Node(None)"
   ]
  },
  {
   "cell_type": "markdown",
   "metadata": {},
   "source": [
    "### Insert a node to BST"
   ]
  },
  {
   "cell_type": "code",
   "execution_count": 5,
   "metadata": {},
   "outputs": [],
   "source": [
    "def insertNode(rootNode: Node, nodeValue):\n",
    "    if rootNode.data is None:\n",
    "        rootNode.data = nodeValue\n",
    "    elif nodeValue < rootNode.data:\n",
    "        if rootNode.leftChild is None:\n",
    "            rootNode.leftChild = Node(nodeValue)\n",
    "        else:\n",
    "            insertNode(rootNode.leftChild, nodeValue)\n",
    "    else:\n",
    "        if rootNode.rightChild is None:\n",
    "            rootNode.rightChild = Node(nodeValue)\n",
    "        else:\n",
    "            insertNode(rootNode.rightChild, nodeValue)\n",
    "    return \"Node successfully inserted\""
   ]
  },
  {
   "cell_type": "code",
   "execution_count": 9,
   "metadata": {},
   "outputs": [
    {
     "name": "stdout",
     "output_type": "stream",
     "text": [
      "Node successfully inserted\n",
      "Node successfully inserted\n",
      "Node successfully inserted\n",
      "Node successfully inserted\n",
      "Node successfully inserted\n",
      "Node successfully inserted\n",
      "Node successfully inserted\n",
      "Node successfully inserted\n",
      "Node successfully inserted\n"
     ]
    }
   ],
   "source": [
    "bst = Node(None)\n",
    "print(insertNode(bst, 70))\n",
    "print(insertNode(bst, 50))\n",
    "print(insertNode(bst, 90))\n",
    "print(insertNode(bst, 30))\n",
    "print(insertNode(bst, 60))\n",
    "print(insertNode(bst, 80))\n",
    "print(insertNode(bst, 100))\n",
    "print(insertNode(bst, 20))\n",
    "print(insertNode(bst, 40))"
   ]
  },
  {
   "cell_type": "markdown",
   "metadata": {},
   "source": [
    "### Traverse BST"
   ]
  },
  {
   "cell_type": "markdown",
   "metadata": {},
   "source": [
    "#### preOrderTraversal"
   ]
  },
  {
   "cell_type": "code",
   "execution_count": 7,
   "metadata": {},
   "outputs": [],
   "source": [
    "def preOrderTraversal(rootNode: Node):\n",
    "    if rootNode is None:\n",
    "        return None\n",
    "    \n",
    "    print(rootNode.data)\n",
    "    preOrderTraversal(rootNode.leftChild)\n",
    "    preOrderTraversal(rootNode.rightChild)    "
   ]
  },
  {
   "cell_type": "code",
   "execution_count": 10,
   "metadata": {},
   "outputs": [
    {
     "name": "stdout",
     "output_type": "stream",
     "text": [
      "70\n",
      "50\n",
      "30\n",
      "20\n",
      "40\n",
      "60\n",
      "90\n",
      "80\n",
      "100\n"
     ]
    }
   ],
   "source": [
    "preOrderTraversal(bst)"
   ]
  },
  {
   "cell_type": "markdown",
   "metadata": {},
   "source": [
    "#### postOrderTraversal"
   ]
  },
  {
   "cell_type": "code",
   "execution_count": 11,
   "metadata": {},
   "outputs": [],
   "source": [
    "def postOrderTraversal(rootNode: Node):\n",
    "    if rootNode is None:\n",
    "        return None\n",
    "    \n",
    "    preOrderTraversal(rootNode.leftChild)\n",
    "    preOrderTraversal(rootNode.rightChild)    \n",
    "    print(rootNode.data)    "
   ]
  },
  {
   "cell_type": "code",
   "execution_count": 12,
   "metadata": {},
   "outputs": [
    {
     "name": "stdout",
     "output_type": "stream",
     "text": [
      "50\n",
      "30\n",
      "20\n",
      "40\n",
      "60\n",
      "90\n",
      "80\n",
      "100\n",
      "70\n"
     ]
    }
   ],
   "source": [
    "postOrderTraversal(bst)"
   ]
  },
  {
   "cell_type": "markdown",
   "metadata": {},
   "source": [
    "#### inOrderTraversal"
   ]
  },
  {
   "cell_type": "code",
   "execution_count": 13,
   "metadata": {},
   "outputs": [],
   "source": [
    "def inOrderTraversal(rootNode: Node):\n",
    "    if rootNode is None:\n",
    "        return None\n",
    "    \n",
    "    preOrderTraversal(rootNode.leftChild)\n",
    "    print(rootNode.data)      \n",
    "    preOrderTraversal(rootNode.rightChild)    "
   ]
  },
  {
   "cell_type": "code",
   "execution_count": 14,
   "metadata": {},
   "outputs": [
    {
     "name": "stdout",
     "output_type": "stream",
     "text": [
      "50\n",
      "30\n",
      "20\n",
      "40\n",
      "60\n",
      "70\n",
      "90\n",
      "80\n",
      "100\n"
     ]
    }
   ],
   "source": [
    "inOrderTraversal(bst)"
   ]
  },
  {
   "cell_type": "markdown",
   "metadata": {},
   "source": [
    "#### levelOrderTraversal"
   ]
  },
  {
   "cell_type": "code",
   "execution_count": 15,
   "metadata": {},
   "outputs": [],
   "source": [
    "class Node:\n",
    "    def __init__(self, data) -> None:\n",
    "        self.data = data\n",
    "        self.next = None\n",
    "\n",
    "    def __str__(self) -> str:\n",
    "        return str(self.data)\n",
    "\n",
    "class LinkedList:\n",
    "    def __init__(self) -> None:\n",
    "        self.head = None\n",
    "        self.tail = None\n",
    "\n",
    "    def __iter__(self):\n",
    "        current_node = self.head\n",
    "        while current_node:\n",
    "            yield current_node\n",
    "            current_node = current_node.next\n",
    "\n",
    "class LLQueue:\n",
    "    def __init__(self) -> None:\n",
    "        self.linkedList = LinkedList()\n",
    "\n",
    "    def __str__(self) -> str:\n",
    "        values = [str(val) for val in self.linkedList]\n",
    "        return ' '.join(values)\n",
    "    \n",
    "    def enqueue(self, value):\n",
    "        newNode = Node(value)\n",
    "\n",
    "        if self.linkedList.head is None:\n",
    "            self.linkedList.head = newNode\n",
    "            self.linkedList.tail = newNode\n",
    "        else:\n",
    "            self.linkedList.tail.next = newNode\n",
    "            self.linkedList.tail = newNode\n",
    "\n",
    "    def isEmpty(self):\n",
    "        if self.linkedList.head is None:\n",
    "            return True\n",
    "        else:\n",
    "            return False\n",
    "\n",
    "    def dequeue(self):\n",
    "        if self.isEmpty():\n",
    "            return \"Empty Queue\"\n",
    "        else:\n",
    "            t_node = self.linkedList.head\n",
    "            if self.linkedList.head == self.linkedList.tail:\n",
    "                self.linkedList.head = None\n",
    "                self.linkedList.tail = None\n",
    "            else:\n",
    "                self.linkedList.head = self.linkedList.head.next\n",
    "            return t_node"
   ]
  },
  {
   "cell_type": "code",
   "execution_count": 16,
   "metadata": {},
   "outputs": [],
   "source": [
    "def levelOrderTraversal(rootNode: Node):\n",
    "    if not rootNode:\n",
    "        return\n",
    "    else:\n",
    "        llq = LLQueue()\n",
    "        llq.enqueue(rootNode)\n",
    "        while not (llq.isEmpty()):\n",
    "            root = llq.dequeue()\n",
    "            print(root.data.data)\n",
    "\n",
    "            if root.data.leftChild is not None:\n",
    "                llq.enqueue(root.data.leftChild)\n",
    "\n",
    "            if root.data.rightChild is not None:\n",
    "                llq.enqueue(root.data.rightChild)"
   ]
  },
  {
   "cell_type": "code",
   "execution_count": 17,
   "metadata": {},
   "outputs": [
    {
     "name": "stdout",
     "output_type": "stream",
     "text": [
      "70\n",
      "50\n",
      "90\n",
      "30\n",
      "60\n",
      "80\n",
      "100\n",
      "20\n",
      "40\n"
     ]
    }
   ],
   "source": [
    "levelOrderTraversal(bst)"
   ]
  },
  {
   "cell_type": "markdown",
   "metadata": {},
   "source": [
    "### search in BST"
   ]
  },
  {
   "cell_type": "code",
   "execution_count": 18,
   "metadata": {},
   "outputs": [],
   "source": [
    "def searchNode(rootNode: Node, nodeValue):\n",
    "    if rootNode.data == nodeValue:\n",
    "        print(\"The value is found\")\n",
    "    elif nodeValue < rootNode.data:\n",
    "        if rootNode.leftChild.data == nodeValue:\n",
    "            print(\"The value is found\")\n",
    "        else:\n",
    "            searchNode(rootNode.leftChild, nodeValue)\n",
    "    else:\n",
    "        if rootNode.rightChild.data == nodeValue:\n",
    "            print(\"The value is found\")\n",
    "        else:\n",
    "            searchNode(rootNode.rightChild, nodeValue)"
   ]
  },
  {
   "cell_type": "code",
   "execution_count": 19,
   "metadata": {},
   "outputs": [
    {
     "name": "stdout",
     "output_type": "stream",
     "text": [
      "The value is found\n"
     ]
    }
   ],
   "source": [
    "searchNode(bst, 100)"
   ]
  },
  {
   "cell_type": "markdown",
   "metadata": {},
   "source": [
    "### Delete a node from BST\n",
    "\n",
    "- case 1: The node to be deleted is a leaf node\n",
    "- case 2: The node is a non leaf node : can replace with either \"INORDER pre or INORDER post\"\n",
    "- case 3: The node is the root node - cannot delete 70 straight away\n",
    "    - get inORDER pre & inORDER post, if either of them is leaf node, then replace root with this leaf node(would be inORDER pre/inORDER post)\n",
    "    - if asked to replace with inORDER post only, then find smallest node in the right subtree\n",
    "        - if smallest node is non-leaf node, then it would be replaced by it's smallest leaf node"
   ]
  },
  {
   "cell_type": "code",
   "execution_count": 22,
   "metadata": {},
   "outputs": [],
   "source": [
    "def minValueNode(rootNode: Node):\n",
    "    current = rootNode\n",
    "    #only leftChild traversing coz in BST, minimum values are located at the left subtree\n",
    "    while current.leftChild is not None:\n",
    "        current = current.leftChild\n",
    "    return current"
   ]
  },
  {
   "cell_type": "code",
   "execution_count": 26,
   "metadata": {},
   "outputs": [],
   "source": [
    "def deleteNode(rootNode: Node, nodeValue):\n",
    "    if rootNode is None:\n",
    "        return rootNode\n",
    "    \n",
    "    if nodeValue < rootNode.data:\n",
    "        rootNode.leftChild = deleteNode(rootNode.leftChild, nodeValue)\n",
    "    elif nodeValue > rootNode.data:\n",
    "        rootNode.rightChild = deleteNode(rootNode.rightChild, nodeValue)\n",
    "    else:\n",
    "        if rootNode.leftChild is None:\n",
    "            temp = rootNode.rightChild\n",
    "            rootNode = None\n",
    "            return temp\n",
    "        \n",
    "        if rootNode.rightChild is None:\n",
    "            temp = rootNode.leftChild\n",
    "            rootNode = None\n",
    "            return temp\n",
    "        \n",
    "        temp = minValueNode(rootNode.rightChild)\n",
    "        rootNode.data = temp.data\n",
    "        rootNode.rightChild = deleteNode(rootNode.rightChild, temp.data)\n",
    "    return rootNode"
   ]
  },
  {
   "cell_type": "code",
   "execution_count": 27,
   "metadata": {},
   "outputs": [
    {
     "name": "stdout",
     "output_type": "stream",
     "text": [
      "70\n",
      "50\n",
      "90\n",
      "30\n",
      "60\n",
      "80\n",
      "100\n",
      "20\n",
      "40\n"
     ]
    }
   ],
   "source": [
    "levelOrderTraversal(bst)"
   ]
  },
  {
   "cell_type": "code",
   "execution_count": 28,
   "metadata": {},
   "outputs": [
    {
     "name": "stdout",
     "output_type": "stream",
     "text": [
      "70\n",
      "50\n",
      "90\n",
      "30\n",
      "60\n",
      "80\n",
      "100\n",
      "40\n"
     ]
    }
   ],
   "source": [
    "deleteNode(bst, 20)\n",
    "levelOrderTraversal(bst)"
   ]
  },
  {
   "cell_type": "markdown",
   "metadata": {},
   "source": [
    "### delete entire BST"
   ]
  },
  {
   "cell_type": "code",
   "execution_count": 29,
   "metadata": {},
   "outputs": [],
   "source": [
    "def deleteBST(rootNode):\n",
    "    rootNode.data = None\n",
    "    rootNode.leftChild = None\n",
    "    rootNode.rightChild = None\n",
    "    return \"BST deleted successfully\""
   ]
  },
  {
   "cell_type": "code",
   "execution_count": 30,
   "metadata": {},
   "outputs": [
    {
     "data": {
      "text/plain": [
       "'BST deleted successfully'"
      ]
     },
     "execution_count": 30,
     "metadata": {},
     "output_type": "execute_result"
    }
   ],
   "source": [
    "deleteBST(bst)"
   ]
  },
  {
   "cell_type": "code",
   "execution_count": null,
   "metadata": {},
   "outputs": [],
   "source": []
  }
 ],
 "metadata": {
  "kernelspec": {
   "display_name": "Python 3",
   "language": "python",
   "name": "python3"
  },
  "language_info": {
   "codemirror_mode": {
    "name": "ipython",
    "version": 3
   },
   "file_extension": ".py",
   "mimetype": "text/x-python",
   "name": "python",
   "nbconvert_exporter": "python",
   "pygments_lexer": "ipython3",
   "version": "3.10.13"
  }
 },
 "nbformat": 4,
 "nbformat_minor": 2
}
