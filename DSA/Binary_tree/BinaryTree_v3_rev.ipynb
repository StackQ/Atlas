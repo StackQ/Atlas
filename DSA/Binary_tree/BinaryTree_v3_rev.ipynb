{
 "cells": [
  {
   "cell_type": "markdown",
   "metadata": {},
   "source": [
    "#### Binary Tree using Python List with Root at index=1"
   ]
  },
  {
   "cell_type": "code",
   "execution_count": 1,
   "metadata": {},
   "outputs": [
    {
     "name": "stdout",
     "output_type": "stream",
     "text": [
      "[10, 20, 30, 40, 50, 60, 70]\n"
     ]
    }
   ],
   "source": [
    "class BinaryTree:\n",
    "    def __init__(self):\n",
    "        self.tree = [None]   #list to store tree nodes, index 0 is unused\n",
    "\n",
    "    def addChild(self, child):\n",
    "        self.tree.append(child)\n",
    "\n",
    "    def getLeftChild(self, parentIndex):\n",
    "        leftIdx = 2 * parentIndex\n",
    "        if leftIdx < len(self.tree):\n",
    "            return self.tree[leftIdx]\n",
    "        return None\n",
    "    \n",
    "    def getRightChild(self, parentIndex):\n",
    "        rightIdx = 2 * parentIndex + 1\n",
    "        if rightIdx < len(self.tree):\n",
    "            return self.tree[rightIdx]\n",
    "        return None\n",
    "\n",
    "    def display(self):\n",
    "        print(self.tree[1:])\n",
    "\n",
    "objBT = BinaryTree()\n",
    "objBT.addChild(10)\n",
    "objBT.addChild(20)\n",
    "objBT.addChild(30)\n",
    "objBT.addChild(40)\n",
    "objBT.addChild(50)\n",
    "objBT.addChild(60)\n",
    "objBT.addChild(70)\n",
    "\n",
    "objBT.display()"
   ]
  },
  {
   "cell_type": "markdown",
   "metadata": {},
   "source": [
    "#### Binary Tree using Python Linkedlist"
   ]
  },
  {
   "cell_type": "code",
   "execution_count": 3,
   "metadata": {},
   "outputs": [],
   "source": [
    "class TreeNode:\n",
    "    def __init__(self, data) -> None:\n",
    "        self.data = data\n",
    "        self.leftChild = None\n",
    "        self.rightChild = None\n",
    "\n",
    "\n",
    "root = TreeNode(\"A\")\n",
    "left = TreeNode(\"B\")\n",
    "right = TreeNode(\"C\")\n",
    "\n",
    "root.leftChild = left\n",
    "root.rightChild = right"
   ]
  },
  {
   "cell_type": "markdown",
   "metadata": {},
   "source": [
    "#### PreOrder(ROOT-LEFT-RIGHT) Traversal"
   ]
  },
  {
   "cell_type": "code",
   "execution_count": null,
   "metadata": {},
   "outputs": [
    {
     "name": "stdout",
     "output_type": "stream",
     "text": [
      "A\n",
      "B\n",
      "C\n"
     ]
    }
   ],
   "source": [
    "def preOrderTraversal(rootNode: TreeNode):\n",
    "    if not rootNode:\n",
    "        return \n",
    "    print(rootNode.data)\n",
    "    preOrderTraversal(rootNode.leftChild)\n",
    "\n",
    "    preOrderTraversal(rootNode.rightChild)\n",
    "\n",
    "preOrderTraversal(root)"
   ]
  },
  {
   "cell_type": "markdown",
   "metadata": {},
   "source": [
    "#### InOrderTraversal(LEFT-ROOT-RIGHT) Traversal"
   ]
  },
  {
   "cell_type": "code",
   "execution_count": 5,
   "metadata": {},
   "outputs": [
    {
     "name": "stdout",
     "output_type": "stream",
     "text": [
      "B\n",
      "A\n",
      "C\n"
     ]
    }
   ],
   "source": [
    "def inOrderTraversal(rootNode: TreeNode):\n",
    "    if not rootNode:\n",
    "        return\n",
    "    \n",
    "    inOrderTraversal(rootNode.leftChild)\n",
    "    print(rootNode.data)\n",
    "    inOrderTraversal(rootNode.rightChild)\n",
    "\n",
    "inOrderTraversal(root)"
   ]
  },
  {
   "cell_type": "markdown",
   "metadata": {},
   "source": [
    "#### PostOrderTraversal(LEFT-RIGHT-ROOT) Traversal"
   ]
  },
  {
   "cell_type": "code",
   "execution_count": 6,
   "metadata": {},
   "outputs": [
    {
     "name": "stdout",
     "output_type": "stream",
     "text": [
      "B\n",
      "C\n",
      "A\n"
     ]
    }
   ],
   "source": [
    "def postOrderTraversal(rootNode: TreeNode):\n",
    "    if not rootNode:\n",
    "        return\n",
    "    \n",
    "    postOrderTraversal(rootNode.leftChild)\n",
    "    postOrderTraversal(rootNode.rightChild)\n",
    "    print(rootNode.data)\n",
    "\n",
    "postOrderTraversal(root)    "
   ]
  },
  {
   "cell_type": "code",
   "execution_count": null,
   "metadata": {},
   "outputs": [],
   "source": []
  }
 ],
 "metadata": {
  "kernelspec": {
   "display_name": "Python 3",
   "language": "python",
   "name": "python3"
  },
  "language_info": {
   "codemirror_mode": {
    "name": "ipython",
    "version": 3
   },
   "file_extension": ".py",
   "mimetype": "text/x-python",
   "name": "python",
   "nbconvert_exporter": "python",
   "pygments_lexer": "ipython3",
   "version": "3.10.13"
  }
 },
 "nbformat": 4,
 "nbformat_minor": 2
}
