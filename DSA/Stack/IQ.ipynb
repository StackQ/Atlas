{
 "cells": [
  {
   "cell_type": "markdown",
   "metadata": {},
   "source": [
    "#### Stack Using Linked List in Python"
   ]
  },
  {
   "cell_type": "code",
   "execution_count": 22,
   "metadata": {},
   "outputs": [],
   "source": [
    "class Node:\n",
    "    def __init__(self, value) -> None:\n",
    "        self.value = value\n",
    "        self.next = None\n",
    "\n",
    "class Stack:\n",
    "    def __init__(self) -> None:\n",
    "        self.top = None\n",
    "\n",
    "    def __str__(self) -> str:\n",
    "        tstr = \"\"\n",
    "        if self.isEmpty():\n",
    "            return \"Stack is empty!\"\n",
    "        else:\n",
    "            t_pointer = self.top\n",
    "            while t_pointer:\n",
    "                tstr += str(t_pointer.value)\n",
    "                t_pointer = t_pointer.next\n",
    "                tstr += \" -> \" if t_pointer else ''\n",
    "        return tstr\n",
    "\n",
    "    def push(self, value):\n",
    "        t_node = Node(value)\n",
    "        t_node.next = self.top\n",
    "        self.top = t_node\n",
    "\n",
    "    def isEmpty(self):\n",
    "        return self.top is None\n",
    "    \n",
    "    def pop(self):\n",
    "        if self.isEmpty():\n",
    "            return 'Stack is empty!'\n",
    "        \n",
    "        popped_node = self.top\n",
    "        self.top = self.top.next\n",
    "        return popped_node.value\n",
    "    \n",
    "    def peek(self):\n",
    "        if self.isEmpty():\n",
    "            return \"Stack is empty!\"\n",
    "        return self.top.value"
   ]
  },
  {
   "cell_type": "code",
   "execution_count": 27,
   "metadata": {},
   "outputs": [
    {
     "name": "stdout",
     "output_type": "stream",
     "text": [
      " is stack empty? True\n",
      "stack values in LIFO order are :: 90 -> 80 -> 70 -> 60 -> 50 -> 40 -> 30 -> 20 -> 10\n",
      "peek of current stack=90\n",
      "1st popped value from current stack is = 90\n",
      "After popping one value, stack values in LIFO order are :: 80 -> 70 -> 60 -> 50 -> 40 -> 30 -> 20 -> 10\n"
     ]
    }
   ],
   "source": [
    "objLLStack = Stack()\n",
    "print(f\" is stack empty? {objLLStack.isEmpty()}\")\n",
    "\n",
    "for val in range(10, 100, 10):\n",
    "    objLLStack.push(val)\n",
    "\n",
    "print(f\"stack values in LIFO order are :: {objLLStack}\")\n",
    "print(f\"peek of current stack={objLLStack.peek()}\")\n",
    "print(f\"1st popped value from current stack is = {objLLStack.pop()}\")\n",
    "print(f\"After popping one value, stack values in LIFO order are :: {objLLStack}\")"
   ]
  },
  {
   "cell_type": "markdown",
   "metadata": {},
   "source": [
    "#### using List/Array"
   ]
  },
  {
   "cell_type": "code",
   "execution_count": 15,
   "metadata": {},
   "outputs": [],
   "source": [
    "class Stack:\n",
    "    def __init__(self) -> None:\n",
    "        # Initialize an empty list to represent the stack\n",
    "        self.array = []\n",
    "\n",
    "    def __str__(self) -> str:\n",
    "        values = [str(val) for val in self.array[::-1]]\n",
    "        return '\\n'.join(values)\n",
    "\n",
    "\n",
    "    def isEmpty(self):\n",
    "        return len(self.array) == 0\n",
    "\n",
    "    def push(self, value):\n",
    "        self.array.append(value)\n",
    "\n",
    "    def pop(self):\n",
    "        if self.isEmpty():\n",
    "            return \"Stack is empty!\"\n",
    "        return self.array.pop()\n",
    "\n",
    "    # Peek at the top element without removing it\n",
    "    def peek(self):\n",
    "        if self.isEmpty():\n",
    "            return \"Stack is Empty\"\n",
    "        return self.array[-1]\n",
    "\n",
    "    def size(self):\n",
    "        return len(self.array)\n",
    "\n",
    "    def delete(self):\n",
    "        self.array = None"
   ]
  },
  {
   "cell_type": "code",
   "execution_count": 16,
   "metadata": {},
   "outputs": [
    {
     "name": "stdout",
     "output_type": "stream",
     "text": [
      " is stack empty? True\n",
      "stack values in LIFO order are =>\n",
      "90\n",
      "80\n",
      "70\n",
      "60\n",
      "50\n",
      "40\n",
      "30\n",
      "20\n",
      "10\n",
      "peek of current stack=90\n",
      "1st popped value from current stack is = 90\n",
      "After popping one value, stack values in LIFO order are =>\n",
      "80\n",
      "70\n",
      "60\n",
      "50\n",
      "40\n",
      "30\n",
      "20\n",
      "10\n"
     ]
    }
   ],
   "source": [
    "obj = Stack()\n",
    "print(f\" is stack empty? {obj.isEmpty()}\")\n",
    "for itr in range(10, 100, 10):\n",
    "    obj.push(itr)\n",
    "print(f\"stack values in LIFO order are =>\\n{obj}\")\n",
    "print(f\"peek of current stack={obj.peek()}\")\n",
    "print(f\"1st popped value from current stack is = {obj.pop()}\")\n",
    "print(f\"After popping one value, stack values in LIFO order are =>\\n{obj}\")"
   ]
  },
  {
   "cell_type": "markdown",
   "metadata": {},
   "source": [
    "#### Min-Max Stack Implementation in Python using 3 lists"
   ]
  },
  {
   "cell_type": "code",
   "execution_count": 38,
   "metadata": {},
   "outputs": [],
   "source": [
    "class MinMaxStack:\n",
    "    def __init__(self) -> None:\n",
    "        self.array = []                     #Main Stack to store the data\n",
    "        self.min_array = []                 #Stack to store the minimum value\n",
    "        self.max_array = []                 #Stack to stroe the max value\n",
    "\n",
    "    def __str__(self) -> str:\n",
    "        main_stack_values = min_stack_values = max_stack_values = \"\"\n",
    "\n",
    "        main_stack_values = '->'.join([str(val) for val in self.array[::-1]])\n",
    "        min_stack_values = '->'.join([str(val) for val in self.min_array[::-1]])\n",
    "        max_stack_values = '->'.join([str(val) for val in self.max_array[::-1]])      \n",
    "\n",
    "        return f\"main_stack_values :: {main_stack_values}\\nmin_stack_values :: {min_stack_values}\\nmax_stack_values={max_stack_values}\"\n",
    "\n",
    "    def isEmpty(self):\n",
    "        return len(self.array) == 0\n",
    "\n",
    "    def get_min(self):\n",
    "        return 'Stack is empty!' if len(self.array) == 0 else self.min_array[-1]\n",
    "\n",
    "    def get_max(self):\n",
    "        return 'Stack is empty!' if self.isEmpty() else self.max_array[-1]  \n",
    "    \n",
    "    def peek(self):\n",
    "        return 'Stack is empty!' if self.isEmpty() else self.array[-1]\n",
    "    \n",
    "    def pop(self):\n",
    "        if len(self.array) == 0 or self.isEmpty() or not self.array:\n",
    "            return \"Stack is empty!\"\n",
    "        \n",
    "        self.max_array.pop()\n",
    "        self.min_array.pop()\n",
    "        return self.array.pop()\n",
    "    \n",
    "    def push(self, value):\n",
    "        self.array.append(value)\n",
    "\n",
    "        if self.min_array:\n",
    "            self.min_array.append(min(value, self.min_array[-1]))\n",
    "        else:\n",
    "            self.min_array.append(value)\n",
    "\n",
    "        if self.max_array:\n",
    "            self.max_array.append(max(value, self.max_array[-1]))\n",
    "        else:\n",
    "            self.max_array.append(value)            "
   ]
  },
  {
   "cell_type": "code",
   "execution_count": 44,
   "metadata": {},
   "outputs": [
    {
     "name": "stdout",
     "output_type": "stream",
     "text": [
      "main_stack_values :: 30->5->20->10\n",
      "min_stack_values :: 5->5->10->10\n",
      "max_stack_values=30->20->20->10\n",
      "\n",
      "Top item: 30\n",
      "Current Min: 5\n",
      "Current Max: 30\n",
      "\n",
      "Popped item: 30\n",
      "main_stack_values :: 5->20->10\n",
      "min_stack_values :: 5->10->10\n",
      "max_stack_values=20->20->10\n",
      "\n",
      "Top item after pop: 5\n",
      "Current Min after pop: 5\n",
      "Current Max after pop: 20\n"
     ]
    }
   ],
   "source": [
    "min_max_stack = MinMaxStack()\n",
    "\n",
    "# Push elements\n",
    "min_max_stack.push(10)\n",
    "min_max_stack.push(20)\n",
    "min_max_stack.push(5)\n",
    "min_max_stack.push(30)\n",
    "\n",
    "print(min_max_stack, end='\\n\\n')\n",
    "\n",
    "print(\"Top item:\", min_max_stack.peek())  \n",
    "print(\"Current Min:\", min_max_stack.get_min())  \n",
    "print(\"Current Max:\", min_max_stack.get_max(), end='\\n\\n') \n",
    "\n",
    "print(\"Popped item:\", min_max_stack.pop())\n",
    "print(min_max_stack, end='\\n\\n')\n",
    "\n",
    "print(\"Top item after pop:\", min_max_stack.peek())  \n",
    "print(\"Current Min after pop:\", min_max_stack.get_min())  \n",
    "print(\"Current Max after pop:\", min_max_stack.get_max())  "
   ]
  },
  {
   "cell_type": "markdown",
   "metadata": {},
   "source": [
    "#### Min-Max Stack Implementation in Python using 1 list"
   ]
  },
  {
   "cell_type": "code",
   "execution_count": 51,
   "metadata": {},
   "outputs": [],
   "source": [
    "class MinMaxStack:\n",
    "    def __init__(self) -> None: \n",
    "        self.stack = [(float('inf'), float(\"inf\"), float(\"-inf\"))]\n",
    "\n",
    "    def __str__(self) -> str:\n",
    "        values = [str(val) for val in self.stack[::-1]]\n",
    "        return '->'.join(values)        \n",
    "\n",
    "    def peek(self):\n",
    "        return self.stack[-1][0]\n",
    "    \n",
    "    def get_min(self):\n",
    "        return self.stack[-1][1]\n",
    "    \n",
    "    def get_max(self):\n",
    "        return self.stack[-1][2]    \n",
    "    \n",
    "    def pop(self):\n",
    "        return self.stack.pop()\n",
    "\n",
    "    def push(self, value):\n",
    "        min_value = min(value, self.stack[-1][1])\n",
    "        max_value = max(value, self.stack[-1][2])\n",
    "\n",
    "        self.stack.append((value, min_value, max_value))"
   ]
  },
  {
   "cell_type": "code",
   "execution_count": 52,
   "metadata": {},
   "outputs": [
    {
     "name": "stdout",
     "output_type": "stream",
     "text": [
      "(30, 5, 30)->(5, 5, 20)->(20, 10, 20)->(10, 10, 10)->(inf, inf, -inf)\n",
      "\n",
      "Top item: 30\n",
      "Current Min: 5\n",
      "Current Max: 30\n",
      "\n",
      "Popped item: (30, 5, 30)\n",
      "(5, 5, 20)->(20, 10, 20)->(10, 10, 10)->(inf, inf, -inf)\n",
      "\n",
      "Top item after pop: 5\n",
      "Current Min after pop: 5\n",
      "Current Max after pop: 20\n"
     ]
    }
   ],
   "source": [
    "min_max_stack = MinMaxStack()\n",
    "\n",
    "# Push elements\n",
    "min_max_stack.push(10)\n",
    "min_max_stack.push(20)\n",
    "min_max_stack.push(5)\n",
    "min_max_stack.push(30)\n",
    "\n",
    "print(min_max_stack, end='\\n\\n')\n",
    "\n",
    "print(\"Top item:\", min_max_stack.peek())  \n",
    "print(\"Current Min:\", min_max_stack.get_min())  \n",
    "print(\"Current Max:\", min_max_stack.get_max(), end='\\n\\n') \n",
    "\n",
    "print(\"Popped item:\", min_max_stack.pop())\n",
    "print(min_max_stack, end='\\n\\n')\n",
    "\n",
    "print(\"Top item after pop:\", min_max_stack.peek())  \n",
    "print(\"Current Min after pop:\", min_max_stack.get_min())  \n",
    "print(\"Current Max after pop:\", min_max_stack.get_max())  "
   ]
  },
  {
   "cell_type": "markdown",
   "metadata": {},
   "source": [
    "## IQ"
   ]
  },
  {
   "cell_type": "markdown",
   "metadata": {},
   "source": [
    "Balanced Brackets\n",
    "Write a function that takes in a string made up of brackets ((, [, {, ), ], and }) and other optional characters. The function should return a boolean representing whether the string is balanced with regards to brackets.\n",
    "\n",
    "A string is said to be balanced if it has as many opening brackets of a certain type as it has closing brackets of that type and if no bracket is unmatched. Note that an opening bracket can't match a corresponding closing bracket that comes before it, and similarly, a closing bracket can't match a corresponding opening bracket that comes after it. Also, brackets can't overlap each other as in [(]).\n",
    "\n",
    "Sample Input  \n",
    "string = \"([])(){}(())()()\"  \n",
    "Sample Output  \n",
    "true // it's balanced  "
   ]
  },
  {
   "cell_type": "code",
   "execution_count": null,
   "metadata": {},
   "outputs": [],
   "source": []
  }
 ],
 "metadata": {
  "kernelspec": {
   "display_name": "Python 3",
   "language": "python",
   "name": "python3"
  },
  "language_info": {
   "codemirror_mode": {
    "name": "ipython",
    "version": 3
   },
   "file_extension": ".py",
   "mimetype": "text/x-python",
   "name": "python",
   "nbconvert_exporter": "python",
   "pygments_lexer": "ipython3",
   "version": "3.10.13"
  }
 },
 "nbformat": 4,
 "nbformat_minor": 2
}
