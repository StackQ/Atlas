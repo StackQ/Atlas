{
 "cells": [
  {
   "cell_type": "markdown",
   "metadata": {},
   "source": [
    "## Graphs\n",
    "\n",
    "Collection of Vertices & Edges : G=(V,E)\n",
    "\n",
    "Terminology:\n",
    "- Vertices : nodes of the graph\n",
    "- Edge : line that connects pairs of vertices\n",
    "- Unweighted graph :  Graph which doesn't have a weight associated with any edge\n",
    "- Weighted graph : A graph which has a weight associated with any edge\n",
    "- Directed Graph : If the edges in a graph have a direction associated with them\n",
    "- Cyclic graph : A graph which has at least one loop\n",
    "- Acyclic graph : A graph with no loop\n",
    "- Tree : It is a special case of Directed Acyclic Graphs\n",
    "- Parallel Edges : if 2 directional edges between 2 nodes pointing to each other\n",
    "- InDegree : Number of edges coming to a node\n",
    "- OutDegree : Number of edges going out\n",
    "- Adjacent Vertices : if 2 nodes are connected with an edge, both are adjacent to each other\n",
    "- Articulation point : In a graph with connected components(which connectes 2 diff graphs), if there is any node which can be removed and cause to split the graph, such nodes are called articulation point.\n",
    "- Strongly Connected : From any & all nodes if we can reach to rest nodes, graph is strongly connected.\n",
    "- Topological Ordering : We can arranged Directed Acyclic Graph linearly in a line, such that nodes are going only in forward direction, it is topological ordering of vertices. Only possible in DAG \n",
    "\n",
    "Graph Representation:\n",
    "- Adjacency Matrix : An adjacency matrix is a square matrix or 2D Array. And the elements of Matrix indicate whether pairs of vertices are adjacent or not in the graph.\n",
    "    - if a Graph is complete or almost complete we should use **Adjacency Matrix**.\n",
    "- Adjacency List : collection of unordered list used to represent a graph. Each list describes the set of neighbours of a vertex in the graph.\n",
    "    - if the number of edges are few then we should use **Adjacency List**"
   ]
  },
  {
   "cell_type": "code",
   "execution_count": 1,
   "metadata": {
    "tags": [
     "Create a Graph in Python"
    ]
   },
   "outputs": [],
   "source": [
    "from collections import deque\n",
    "\n",
    "class Graph:\n",
    "    def __init__(self):\n",
    "        self.adjacency_list = {}\n",
    "\n",
    "    def add_vertex(self, vertex):\n",
    "        if vertex not in self.adjacency_list:\n",
    "            self.adjacency_list[vertex]=[]\n",
    "            return True\n",
    "        return False\n",
    "    \n",
    "    def print_graph(self):\n",
    "        for vertex, tlist in self.adjacency_list.items():\n",
    "            print(f\"{vertex} : {tlist}\")\n",
    "\n",
    "    def add_edge(self, vertex1, vertex2):\n",
    "        if vertex1 in self.adjacency_list.keys() and vertex2 in self.adjacency_list.keys():\n",
    "            self.adjacency_list[vertex1].append(vertex2)\n",
    "            self.adjacency_list[vertex2].append(vertex1)     \n",
    "            return True\n",
    "        return False\n",
    "    \n",
    "    def remove_edge(self, vertex1, vertex2):\n",
    "        if vertex1 in self.adjacency_list.keys() and vertex2 in self.adjacency_list.keys():        \n",
    "            try:\n",
    "                self.adjacency_list[vertex1].remove(vertex2)\n",
    "                self.adjacency_list[vertex2].remove(vertex1)\n",
    "            except ValueError:\n",
    "                pass\n",
    "            return True\n",
    "        return False\n",
    "    \n",
    "    #removing vertex should remove all edges connected to it along with vertex\n",
    "    def remove_vertex(self, vertex):\n",
    "        if vertex in self.adjacency_list.keys():\n",
    "            for connectedVtx in self.adjacency_list[vertex]:\n",
    "                self.adjacency_list[connectedVtx].remove(vertex)\n",
    "            del self.adjacency_list[vertex]\n",
    "            return True\n",
    "        return False\n",
    "    \n",
    "    #Time Complexity = O(V+E) = O(n)\n",
    "    #Space Complexity = O(V) = O(n)\n",
    "    def bfs(self, vertex):\n",
    "        visited = set()\n",
    "        visited.add(vertex)\n",
    "        queue = deque([vertex])\n",
    "\n",
    "        while queue:\n",
    "            exploring_vertex = queue.popleft()\n",
    "            print(exploring_vertex)\n",
    "            #O(E)\n",
    "            for adjacent_vertex in self.adjacency_list[exploring_vertex]:\n",
    "                if adjacent_vertex not in visited:\n",
    "                    visited.add(adjacent_vertex)\n",
    "                    queue.append(adjacent_vertex)\n",
    "\n",
    "    #Time Complexity = O(V+E) = O(n) \n",
    "    #Space Complexity = O(V) = O(n)\n",
    "    def dfs(self, vertex):\n",
    "        visited = set()\n",
    "        stack = [vertex]\n",
    "\n",
    "        #O(V)\n",
    "        while stack:\n",
    "            exploring_vertex = stack.pop()\n",
    "            if exploring_vertex not in visited:\n",
    "                print(exploring_vertex)\n",
    "                visited.add(exploring_vertex)\n",
    "            #O(E)\n",
    "            for adjacent_vertex in self.adjacency_list[exploring_vertex]:\n",
    "                if adjacent_vertex not in visited:\n",
    "                    stack.append(adjacent_vertex)\n"
   ]
  },
  {
   "cell_type": "code",
   "execution_count": 4,
   "metadata": {},
   "outputs": [
    {
     "name": "stdout",
     "output_type": "stream",
     "text": [
      "A : []\n"
     ]
    }
   ],
   "source": [
    "my_graph = Graph()\n",
    "my_graph.add_vertex(\"A\")\n",
    "my_graph.print_graph()"
   ]
  },
  {
   "cell_type": "code",
   "execution_count": 5,
   "metadata": {},
   "outputs": [
    {
     "name": "stdout",
     "output_type": "stream",
     "text": [
      "A : ['B']\n",
      "B : ['A']\n"
     ]
    }
   ],
   "source": [
    "my_graph = Graph()\n",
    "my_graph.add_vertex(\"A\")\n",
    "my_graph.add_vertex(\"B\")\n",
    "my_graph.add_edge(\"A\", \"B\")\n",
    "my_graph.print_graph()"
   ]
  },
  {
   "cell_type": "code",
   "execution_count": 6,
   "metadata": {},
   "outputs": [
    {
     "name": "stdout",
     "output_type": "stream",
     "text": [
      "A : ['B', 'C']\n",
      "B : ['A', 'C']\n",
      "C : ['A', 'B']\n",
      "-----After removing edge A-C-----\n",
      "A : ['B']\n",
      "B : ['A', 'C']\n",
      "C : ['B']\n"
     ]
    }
   ],
   "source": [
    "my_graph = Graph()\n",
    "my_graph.add_vertex(\"A\")\n",
    "my_graph.add_vertex(\"B\")\n",
    "my_graph.add_vertex(\"C\")\n",
    "my_graph.add_edge(\"A\", \"B\")\n",
    "my_graph.add_edge(\"A\", \"C\")\n",
    "my_graph.add_edge(\"B\", \"C\")\n",
    "my_graph.print_graph()\n",
    "my_graph.remove_edge(\"A\", \"C\")\n",
    "print(f\"-----After removing edge A-C-----\")\n",
    "my_graph.print_graph()"
   ]
  },
  {
   "cell_type": "code",
   "execution_count": 14,
   "metadata": {
    "tags": [
     "coz there is no edge between A-D"
    ]
   },
   "outputs": [
    {
     "name": "stdout",
     "output_type": "stream",
     "text": [
      "A : ['B', 'C']\n",
      "B : ['A', 'C']\n",
      "C : ['A', 'B']\n",
      "D : []\n"
     ]
    },
    {
     "ename": "ValueError",
     "evalue": "list.remove(x): x not in list",
     "output_type": "error",
     "traceback": [
      "\u001b[0;31m---------------------------------------------------------------------------\u001b[0m",
      "\u001b[0;31mValueError\u001b[0m                                Traceback (most recent call last)",
      "Cell \u001b[0;32mIn[14], line 10\u001b[0m\n\u001b[1;32m      8\u001b[0m my_graph\u001b[38;5;241m.\u001b[39madd_edge(\u001b[38;5;124m\"\u001b[39m\u001b[38;5;124mB\u001b[39m\u001b[38;5;124m\"\u001b[39m, \u001b[38;5;124m\"\u001b[39m\u001b[38;5;124mC\u001b[39m\u001b[38;5;124m\"\u001b[39m)\n\u001b[1;32m      9\u001b[0m my_graph\u001b[38;5;241m.\u001b[39mprint_graph()\n\u001b[0;32m---> 10\u001b[0m \u001b[43mmy_graph\u001b[49m\u001b[38;5;241;43m.\u001b[39;49m\u001b[43mremove_edge\u001b[49m\u001b[43m(\u001b[49m\u001b[38;5;124;43m\"\u001b[39;49m\u001b[38;5;124;43mA\u001b[39;49m\u001b[38;5;124;43m\"\u001b[39;49m\u001b[43m,\u001b[49m\u001b[43m \u001b[49m\u001b[38;5;124;43m\"\u001b[39;49m\u001b[38;5;124;43mD\u001b[39;49m\u001b[38;5;124;43m\"\u001b[39;49m\u001b[43m)\u001b[49m\n\u001b[1;32m     11\u001b[0m \u001b[38;5;28mprint\u001b[39m(\u001b[38;5;124mf\u001b[39m\u001b[38;5;124m\"\u001b[39m\u001b[38;5;124m-----After removing edge A-D-----\u001b[39m\u001b[38;5;124m\"\u001b[39m)\n\u001b[1;32m     12\u001b[0m my_graph\u001b[38;5;241m.\u001b[39mprint_graph()\n",
      "Cell \u001b[0;32mIn[11], line 24\u001b[0m, in \u001b[0;36mGraph.remove_edge\u001b[0;34m(self, vertex1, vertex2)\u001b[0m\n\u001b[1;32m     22\u001b[0m \u001b[38;5;28;01mdef\u001b[39;00m \u001b[38;5;21mremove_edge\u001b[39m(\u001b[38;5;28mself\u001b[39m, vertex1, vertex2):\n\u001b[1;32m     23\u001b[0m     \u001b[38;5;28;01mif\u001b[39;00m vertex1 \u001b[38;5;129;01min\u001b[39;00m \u001b[38;5;28mself\u001b[39m\u001b[38;5;241m.\u001b[39madjacency_list\u001b[38;5;241m.\u001b[39mkeys() \u001b[38;5;129;01mand\u001b[39;00m vertex2 \u001b[38;5;129;01min\u001b[39;00m \u001b[38;5;28mself\u001b[39m\u001b[38;5;241m.\u001b[39madjacency_list\u001b[38;5;241m.\u001b[39mkeys():\n\u001b[0;32m---> 24\u001b[0m         \u001b[38;5;28;43mself\u001b[39;49m\u001b[38;5;241;43m.\u001b[39;49m\u001b[43madjacency_list\u001b[49m\u001b[43m[\u001b[49m\u001b[43mvertex1\u001b[49m\u001b[43m]\u001b[49m\u001b[38;5;241;43m.\u001b[39;49m\u001b[43mremove\u001b[49m\u001b[43m(\u001b[49m\u001b[43mvertex2\u001b[49m\u001b[43m)\u001b[49m\n\u001b[1;32m     25\u001b[0m         \u001b[38;5;28mself\u001b[39m\u001b[38;5;241m.\u001b[39madjacency_list[vertex2]\u001b[38;5;241m.\u001b[39mremove(vertex1)\n\u001b[1;32m     26\u001b[0m         \u001b[38;5;28;01mreturn\u001b[39;00m \u001b[38;5;28;01mTrue\u001b[39;00m\n",
      "\u001b[0;31mValueError\u001b[0m: list.remove(x): x not in list"
     ]
    }
   ],
   "source": [
    "my_graph = Graph()\n",
    "my_graph.add_vertex(\"A\")\n",
    "my_graph.add_vertex(\"B\")\n",
    "my_graph.add_vertex(\"C\")\n",
    "my_graph.add_vertex(\"D\")\n",
    "my_graph.add_edge(\"A\", \"B\")\n",
    "my_graph.add_edge(\"A\", \"C\")\n",
    "my_graph.add_edge(\"B\", \"C\")\n",
    "my_graph.print_graph()\n",
    "my_graph.remove_edge(\"A\", \"D\")\n",
    "print(f\"-----After removing edge A-D-----\")\n",
    "my_graph.print_graph()"
   ]
  },
  {
   "cell_type": "code",
   "execution_count": 2,
   "metadata": {
    "tags": [
     "try to remove non-exist edge"
    ]
   },
   "outputs": [
    {
     "name": "stdout",
     "output_type": "stream",
     "text": [
      "A : ['B', 'C']\n",
      "B : ['A', 'C']\n",
      "C : ['A', 'B']\n",
      "D : []\n",
      "-----After removing edge A-D-----\n",
      "A : ['B', 'C']\n",
      "B : ['A', 'C']\n",
      "C : ['A', 'B']\n",
      "D : []\n"
     ]
    }
   ],
   "source": [
    "#after adding try:catch block in remove_edge\n",
    "my_graph = Graph()\n",
    "my_graph.add_vertex(\"A\")\n",
    "my_graph.add_vertex(\"B\")\n",
    "my_graph.add_vertex(\"C\")\n",
    "my_graph.add_vertex(\"D\")\n",
    "my_graph.add_edge(\"A\", \"B\")\n",
    "my_graph.add_edge(\"A\", \"C\")\n",
    "my_graph.add_edge(\"B\", \"C\")\n",
    "my_graph.print_graph()\n",
    "my_graph.remove_edge(\"A\", \"D\")\n",
    "print(f\"-----After removing edge A-D-----\")\n",
    "my_graph.print_graph()"
   ]
  },
  {
   "cell_type": "code",
   "execution_count": 9,
   "metadata": {},
   "outputs": [
    {
     "name": "stdout",
     "output_type": "stream",
     "text": [
      "A : ['B', 'C', 'D']\n",
      "B : ['A', 'C']\n",
      "C : ['A', 'B', 'D']\n",
      "D : ['A', 'C']\n",
      "-----After removing vertex D-----\n",
      "A : ['B', 'C']\n",
      "B : ['A', 'C']\n",
      "C : ['A', 'B']\n"
     ]
    }
   ],
   "source": [
    "my_graph = Graph()\n",
    "my_graph.add_vertex(\"A\")\n",
    "my_graph.add_vertex(\"B\")\n",
    "my_graph.add_vertex(\"C\")\n",
    "my_graph.add_vertex(\"D\")\n",
    "my_graph.add_edge(\"A\", \"B\")\n",
    "my_graph.add_edge(\"A\", \"C\")\n",
    "my_graph.add_edge(\"A\", \"D\")\n",
    "my_graph.add_edge(\"B\", \"C\")\n",
    "my_graph.add_edge(\"C\", \"D\")\n",
    "my_graph.print_graph()\n",
    "my_graph.remove_vertex(\"D\")\n",
    "print(f\"-----After removing vertex D-----\")\n",
    "my_graph.print_graph()"
   ]
  },
  {
   "cell_type": "code",
   "execution_count": 10,
   "metadata": {},
   "outputs": [
    {
     "name": "stdout",
     "output_type": "stream",
     "text": [
      "A : ['B', 'C', 'D']\n",
      "B : ['A', 'C']\n",
      "C : ['A', 'B', 'D']\n",
      "D : ['A', 'C']\n",
      "-BFS-BFS-BFS-BFS-BFS-BFS-BFS-BFS-BFS-BFS-BFS-BFS-BFS-BFS-BFS-BFS-BFS-BFS-BFS-BFS-BFS-BFS-BFS-BFS-BFS-BFS-BFS-BFS-BFS-BFS-BFS-BFS-BFS-BFS-BFS-BFS-BFS-BFS-BFS-BFS-BFS-BFS-BFS-BFS-BFS-BFS-BFS-BFS-BFS-BFS\n",
      "A\n",
      "B\n",
      "C\n",
      "D\n",
      "--------------------------------------------------\n",
      "B\n",
      "A\n",
      "C\n",
      "D\n",
      "--------------------------------------------------\n",
      "C\n",
      "A\n",
      "B\n",
      "D\n",
      "--------------------------------------------------\n",
      "D\n",
      "A\n",
      "C\n",
      "B\n"
     ]
    }
   ],
   "source": [
    "my_graph = Graph()\n",
    "my_graph.add_vertex(\"A\")\n",
    "my_graph.add_vertex(\"B\")\n",
    "my_graph.add_vertex(\"C\")\n",
    "my_graph.add_vertex(\"D\")\n",
    "my_graph.add_edge(\"A\", \"B\")\n",
    "my_graph.add_edge(\"A\", \"C\")\n",
    "my_graph.add_edge(\"A\", \"D\")\n",
    "my_graph.add_edge(\"B\", \"C\")\n",
    "my_graph.add_edge(\"C\", \"D\")\n",
    "my_graph.print_graph()\n",
    "print('-BFS'*50)\n",
    "my_graph.bfs(\"A\")\n",
    "print('-'*50)\n",
    "my_graph.bfs(\"B\")\n",
    "print('-'*50)\n",
    "my_graph.bfs(\"C\")\n",
    "print('-'*50)\n",
    "my_graph.bfs(\"D\")"
   ]
  },
  {
   "cell_type": "code",
   "execution_count": 2,
   "metadata": {},
   "outputs": [
    {
     "name": "stdout",
     "output_type": "stream",
     "text": [
      "A : ['B', 'C']\n",
      "B : ['A', 'E']\n",
      "C : ['A', 'D']\n",
      "D : ['C', 'E']\n",
      "E : ['B', 'D']\n",
      "-DFS-DFS-DFS-DFS-DFS-DFS-DFS-DFS-DFS-DFS-DFS-DFS-DFS-DFS-DFS-DFS-DFS-DFS-DFS-DFS-DFS-DFS-DFS-DFS-DFS-DFS-DFS-DFS-DFS-DFS-DFS-DFS-DFS-DFS-DFS-DFS-DFS-DFS-DFS-DFS-DFS-DFS-DFS-DFS-DFS-DFS-DFS-DFS-DFS-DFS\n",
      "A\n",
      "C\n",
      "D\n",
      "E\n",
      "B\n",
      "--------------------------------------------------\n",
      "B\n",
      "E\n",
      "D\n",
      "C\n",
      "A\n",
      "--------------------------------------------------\n",
      "C\n",
      "D\n",
      "E\n",
      "B\n",
      "A\n",
      "--------------------------------------------------\n",
      "D\n",
      "E\n",
      "B\n",
      "A\n",
      "C\n"
     ]
    }
   ],
   "source": [
    "my_graph = Graph()\n",
    "my_graph.add_vertex(\"A\")\n",
    "my_graph.add_vertex(\"B\")\n",
    "my_graph.add_vertex(\"C\")\n",
    "my_graph.add_vertex(\"D\")\n",
    "my_graph.add_vertex(\"E\")\n",
    "my_graph.add_edge(\"A\", \"B\")\n",
    "my_graph.add_edge(\"A\", \"C\")\n",
    "my_graph.add_edge(\"B\", \"E\")\n",
    "my_graph.add_edge(\"C\", \"D\")\n",
    "my_graph.add_edge(\"D\", \"E\")\n",
    "my_graph.print_graph()\n",
    "print('-DFS'*50)\n",
    "my_graph.dfs(\"A\")\n",
    "print('-'*50)\n",
    "my_graph.dfs(\"B\")\n",
    "print('-'*50)\n",
    "my_graph.dfs(\"C\")\n",
    "print('-'*50)\n",
    "my_graph.dfs(\"D\")"
   ]
  },
  {
   "cell_type": "markdown",
   "metadata": {},
   "source": [
    "#### BFS vs DFS\n",
    "\n",
    "A------B  \n",
    "|............|.\\  \n",
    "|............|..\\   \n",
    "C------D..G  \n",
    "|............|../  \n",
    "|............|./  \n",
    "E------F    \n",
    "\n",
    "| Q | BFS | DFS|\n",
    "|------------|------|-------|\n",
    "|How does it work internally?|It goes in breadth first|it goes in depth first|\n",
    "|Which DS does it use internally?| Queue | Stack|\n",
    "|Time Complexity| O(V+E) | O(V+E) |\n",
    "|Space Complexity| O(V+E) | O(V+E) |\n",
    "|When to use?|If we know that the target is closed to the starting point|if we already know that the target vertex is buried very deep|\n"
   ]
  },
  {
   "cell_type": "code",
   "execution_count": null,
   "metadata": {},
   "outputs": [],
   "source": []
  }
 ],
 "metadata": {
  "kernelspec": {
   "display_name": "Python 3",
   "language": "python",
   "name": "python3"
  },
  "language_info": {
   "codemirror_mode": {
    "name": "ipython",
    "version": 3
   },
   "file_extension": ".py",
   "mimetype": "text/x-python",
   "name": "python",
   "nbconvert_exporter": "python",
   "pygments_lexer": "ipython3",
   "version": "3.10.13"
  }
 },
 "nbformat": 4,
 "nbformat_minor": 2
}
