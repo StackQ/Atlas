{
 "cells": [
  {
   "cell_type": "markdown",
   "metadata": {},
   "source": [
    "### Stack Operations"
   ]
  },
  {
   "cell_type": "markdown",
   "metadata": {},
   "source": [
    "- Create Stack\n",
    "- Push\n",
    "- Pop\n",
    "- isEmpty\n",
    "- isFull\n",
    "- deleteStack\n",
    "- Peek"
   ]
  },
  {
   "cell_type": "markdown",
   "metadata": {},
   "source": [
    "##### Create Stack using List without size limit"
   ]
  },
  {
   "cell_type": "markdown",
   "metadata": {},
   "source": [
    "Stack Creation\n",
    "- Stack using List\n",
    "    - Easy to implement\n",
    "    - Speed problem when it grows : items in a list are stored with the goal of providing fast access to the random elements in the list, means that the items are stored next to each other in memory. So if our stack grows bigger than the block of the memory that currently holds in, the python needs to do some memory allocation and this is very time consuming operation.\n",
    "\n",
    "- Stack using Linked List\n",
    "    - Fast performance : coz the elements of the linked list are not located contiguously in the memory. So the memory allocation is not required in this case when the data size gets bigger.\n",
    "    - Implementation is not easy"
   ]
  },
  {
   "cell_type": "code",
   "execution_count": 19,
   "metadata": {},
   "outputs": [],
   "source": [
    "# Stacks\n",
    "\n",
    "class Stack:\n",
    "    def __init__(self):\n",
    "        self.list = []   # time complexity: O(1), space complexity: O(1)\n",
    "\n",
    "    # def __str__(self) -> str:\n",
    "    #     values = self.list.reverse()\n",
    "    #     values = [str(x) for x in self.list]\n",
    "    #     return '\\n'.join(values)\n",
    "\n",
    "    # Sring representation of Stack\n",
    "    def __str__(self) -> str:\n",
    "        values = [str(x) for x in reversed(self.list)]\n",
    "        return '\\n'.join(values)\n",
    "    \n",
    "    #isEmpty :: time complexity: O(1), space complexity: O(1)\n",
    "    def isEmpty(self):\n",
    "        if self.list == []:\n",
    "            return True\n",
    "        else:\n",
    "            return False\n",
    "        \n",
    "    #Push :: time complexity: O(n2) worst case, space complexity: O(1)\n",
    "    def push(self, value):\n",
    "        self.list.append(value)\n",
    "        return \" The element has been successfully inserted\"\n",
    "    \n",
    "    #Pop :: time complexity: O(1), space complexity: O(1)\n",
    "    def pop(self):\n",
    "        if self.isEmpty():\n",
    "            return \"There is not any element in the stack\"\n",
    "        else:\n",
    "            return self.list.pop()\n",
    "        \n",
    "    #Peek :: time complexity: O(1), space complexity: O(1)\n",
    "    def peek(self):\n",
    "        if self.isEmpty():\n",
    "            return \"There is not any element in the stack\"\n",
    "        else:\n",
    "            return self.list[len(self.list)-1]\n",
    "        \n",
    "    #Delete :: time complexity: O(1), space complexity: O(1)\n",
    "    def delete(self):\n",
    "        self.list = None"
   ]
  },
  {
   "cell_type": "code",
   "execution_count": 20,
   "metadata": {},
   "outputs": [
    {
     "name": "stdout",
     "output_type": "stream",
     "text": [
      "True\n"
     ]
    }
   ],
   "source": [
    "customStack = Stack()\n",
    "print(customStack.isEmpty())"
   ]
  },
  {
   "cell_type": "code",
   "execution_count": 21,
   "metadata": {},
   "outputs": [
    {
     "name": "stdout",
     "output_type": "stream",
     "text": [
      "4\n",
      "3\n",
      "2\n",
      "1\n"
     ]
    }
   ],
   "source": [
    "customStack = Stack()\n",
    "customStack.push(1)\n",
    "customStack.push(2)\n",
    "customStack.push(3)\n",
    "customStack.push(4)\n",
    "print(customStack)"
   ]
  },
  {
   "cell_type": "code",
   "execution_count": 22,
   "metadata": {},
   "outputs": [
    {
     "name": "stdout",
     "output_type": "stream",
     "text": [
      "4\n"
     ]
    }
   ],
   "source": [
    "print(customStack.pop())"
   ]
  },
  {
   "cell_type": "code",
   "execution_count": 23,
   "metadata": {},
   "outputs": [
    {
     "name": "stdout",
     "output_type": "stream",
     "text": [
      "3\n",
      "2\n",
      "1\n"
     ]
    }
   ],
   "source": [
    "print(customStack)"
   ]
  },
  {
   "cell_type": "code",
   "execution_count": 24,
   "metadata": {},
   "outputs": [
    {
     "data": {
      "text/plain": [
       "3"
      ]
     },
     "execution_count": 24,
     "metadata": {},
     "output_type": "execute_result"
    }
   ],
   "source": [
    "customStack.peek()"
   ]
  },
  {
   "cell_type": "markdown",
   "metadata": {},
   "source": [
    "##### Create Stack with limit (pop, push, peek, isFull, isEmpty, delete)"
   ]
  },
  {
   "cell_type": "code",
   "execution_count": 45,
   "metadata": {},
   "outputs": [],
   "source": [
    "\n",
    "from inspect import ismemberdescriptor\n",
    "\n",
    "\n",
    "class Stack:\n",
    "    def __init__(self, maxSize) -> None:\n",
    "        self.maxSize = maxSize\n",
    "        self.list = []\n",
    "\n",
    "    # Sring representation of Stack\n",
    "    def __str__(self) -> str:\n",
    "        values = [str(x) for x in reversed(self.list)]\n",
    "        return '\\n'.join(values)\n",
    "    \n",
    "    # isEmpty \n",
    "    def isEmpty(self):\n",
    "        if self.list == []:\n",
    "            return True\n",
    "        else:\n",
    "            return False\n",
    "        \n",
    "    #isFull\n",
    "    def isFull(self):\n",
    "        if len(self.list) == self.maxSize:\n",
    "            return True\n",
    "        else:\n",
    "            return False\n",
    "        \n",
    "    #Push\n",
    "    def push(self, value):\n",
    "        if self.isFull():\n",
    "            return \"The stack is full\"\n",
    "        else:\n",
    "            self.list.append(value)\n",
    "            return \"The element has been successfully inserted\"\n",
    "        \n",
    "    #Peek\n",
    "    def peek(self):\n",
    "        if self.isEmpty():\n",
    "            return \"There is not any element in the stack\"\n",
    "        else:\n",
    "            return self.list[len(self.list)-1]\n",
    "\n",
    "    #delete\n",
    "    def delete(self):\n",
    "        self.list = None    "
   ]
  },
  {
   "cell_type": "code",
   "execution_count": 46,
   "metadata": {},
   "outputs": [
    {
     "name": "stdout",
     "output_type": "stream",
     "text": [
      "True\n",
      "False\n",
      "4\n",
      "3\n",
      "2\n",
      "1\n"
     ]
    }
   ],
   "source": [
    "customStack = Stack(4)\n",
    "print(customStack.isEmpty())\n",
    "print(customStack.isFull())\n",
    "customStack.push(1)\n",
    "customStack.push(2)\n",
    "customStack.push(3)\n",
    "customStack.push(4)\n",
    "print(customStack)"
   ]
  },
  {
   "cell_type": "code",
   "execution_count": 47,
   "metadata": {},
   "outputs": [
    {
     "data": {
      "text/plain": [
       "'The stack is full'"
      ]
     },
     "execution_count": 47,
     "metadata": {},
     "output_type": "execute_result"
    }
   ],
   "source": [
    "customStack.push(5)"
   ]
  },
  {
   "cell_type": "code",
   "execution_count": 48,
   "metadata": {},
   "outputs": [
    {
     "data": {
      "text/plain": [
       "4"
      ]
     },
     "execution_count": 48,
     "metadata": {},
     "output_type": "execute_result"
    }
   ],
   "source": [
    "customStack.peek()"
   ]
  },
  {
   "cell_type": "code",
   "execution_count": 49,
   "metadata": {},
   "outputs": [],
   "source": [
    "customStack.delete()"
   ]
  },
  {
   "cell_type": "markdown",
   "metadata": {},
   "source": [
    "|Operation|Time Complexity|Space Complexity|\n",
    "|--|-----------|----------|\n",
    "|Create Stack | O(1) | O(1) |\n",
    "|Push | O(1)/O(n^2) | O(1) |\n",
    "|Pop | O(1) | O(1) |\n",
    "|Peek | O(1) | O(1) |\n",
    "|isEmpty | O(1) | O(1) |\n",
    "|Delete Entire Stack | O(1) | O(1) |"
   ]
  },
  {
   "cell_type": "markdown",
   "metadata": {},
   "source": [
    "#### Linked List for Stack"
   ]
  },
  {
   "cell_type": "code",
   "execution_count": 1,
   "metadata": {},
   "outputs": [],
   "source": [
    "# This code defines a basic implementation of a singly linked list using two classes: Node and LinkedList\n",
    "\n",
    "#A Node is a fundamental building block of a linked list, typically holding a value and a reference to the next node in the list.\n",
    "class Node:\n",
    "    #This is the constructor method for the Node class. It initializes a new instance of the Node class. \n",
    "    #The parameter value is optional and defaults to None if not provided.\n",
    "    def __init__(self, value=None) -> None:\n",
    "        self.value = value\n",
    "        #Here, the next attribute of the Node instance is initialized to None. \n",
    "        #This attribute is used to point to the next node in the linked list. \n",
    "        #When a node is first created, it doesn't point to any other node, hence None\n",
    "        self.next = None\n",
    "\n",
    "#The LinkedList class is used to create and manage a linked list of Node instances.\n",
    "class LinkedList:\n",
    "    #This is the constructor method for the LinkedList class. It initializes a new instance of the LinkedList class.\n",
    "    def __init__(self) -> None:\n",
    "        #This line initializes the head attribute of the LinkedList instance to None. \n",
    "        #The head attribute represents the first node in the linked list. Initially, the list is empty, so head is None.\n",
    "        self.head = None\n",
    "\n",
    "    #This line defines the __iter__ method for the LinkedList class. \n",
    "    #The __iter__ method is a special method in Python that returns an iterator for an object. \n",
    "    #It allows the linked list to be iterated over using a for loop.\n",
    "    def __iter__(self):\n",
    "        #The method starts by setting a local variable curNode to the head of the list, which is the starting point for the iteration.\n",
    "        currentNode = self.head\n",
    "        #This line starts a while loop that continues as long as curNode is not None. The loop iterates through each node in the list.\n",
    "        while currentNode:\n",
    "            #The yield statement is used to return the current curNode from the iterator. \n",
    "            #It allows the code iterating over the list to receive the current node and pauses the execution of the __iter__ method until the next item is requested.\n",
    "            yield currentNode\n",
    "            #This line moves curNode to the next node in the list.\n",
    "            #It updates the curNode variable to refer to the next node of the current node. \n",
    "            #If the current node is the last one in the list, curNode.next will be None, and the loop will exit in the next iteration.\n",
    "            currentNode = currentNode.next\n",
    "\n",
    "# In summary, the Node class represents an individual element in the linked list, containing a value and a reference to the next node. \n",
    "# The LinkedList class manages a collection of these nodes, starting from the head node. \n",
    "# The __iter__ method in the LinkedList class provides a way to iterate over the nodes of the list, yielding each node in turn.            "
   ]
  },
  {
   "cell_type": "markdown",
   "metadata": {},
   "source": [
    "##### Operation on Stack using Linked List(pop, push, peek, isEmpty, delete)"
   ]
  },
  {
   "cell_type": "code",
   "execution_count": 3,
   "metadata": {},
   "outputs": [],
   "source": [
    "class Node:\n",
    "    def __init__(self, value = None) -> None:\n",
    "        self.value = value\n",
    "        self.next = None\n",
    "\n",
    "class LinkedList:\n",
    "    def __init__(self) -> None:\n",
    "        self.head = None\n",
    "\n",
    "class Stack:\n",
    "    def __init__(self) -> None:\n",
    "        #we are creating a stack with only head value and this value points to None now.\n",
    "        #So there is not any element in our stack right now. So this part is responsible for creating a stack using LinkedList\n",
    "        #Time Complexity : O(1), coz we are just creating an object of linked list\n",
    "        #Space Complexity : O(1), coz we haven't inserted any element to this linked list over here\n",
    "        self.LinkedList = LinkedList()\n",
    "\n",
    "    #Time & Space Complexity : O(1) : coz just checking the head value\n",
    "    def isEmpty(self):\n",
    "        if self.LinkedList.head == None:\n",
    "            return True\n",
    "        else:\n",
    "            return False\n"
   ]
  },
  {
   "cell_type": "code",
   "execution_count": 4,
   "metadata": {},
   "outputs": [
    {
     "name": "stdout",
     "output_type": "stream",
     "text": [
      "True\n"
     ]
    }
   ],
   "source": [
    "customStack = Stack()\n",
    "print(customStack.isEmpty())"
   ]
  },
  {
   "cell_type": "code",
   "execution_count": 14,
   "metadata": {},
   "outputs": [],
   "source": [
    "from networkx import is_empty\n",
    "\n",
    "\n",
    "class Node:\n",
    "    def __init__(self, value = None) -> None:\n",
    "        self.value = value\n",
    "        self.next = None\n",
    "\n",
    "class LinkedList:\n",
    "    def __init__(self) -> None:\n",
    "        self.head = None\n",
    "\n",
    "    def __iter__(self):\n",
    "        currentNode = self.head\n",
    "        while currentNode:\n",
    "            yield currentNode\n",
    "            currentNode = currentNode.next\n",
    "\n",
    "class Stack:\n",
    "    def __init__(self) -> None:\n",
    "        #we are creating a stack with only head value and this value points to None now.\n",
    "        #So there is not any element in our stack right now. So this part is responsible for creating a stack using LinkedList\n",
    "        #Time Complexity : O(1), coz we are just creating an object of linked list\n",
    "        #Space Complexity : O(1), coz we haven't inserted any element to this linked list over here\n",
    "        self.LinkedList = LinkedList()\n",
    "\n",
    "    def __str__(self) -> str:\n",
    "        values = [str(x.value) for x in self.LinkedList]\n",
    "        return '\\n'.join(values)\n",
    "\n",
    "    #Time & Space Complexity : O(1) : coz just checking the head value\n",
    "    def isEmpty(self):\n",
    "        if self.LinkedList.head == None:\n",
    "            return True\n",
    "        else:\n",
    "            return False\n",
    "\n",
    "    #Time & Space Complexity : O(1) : inserting a node at head will be always O(1) complexity\n",
    "    def push(self, value):\n",
    "        node = Node(value) # O(1)\n",
    "        node.next = self.LinkedList.head # O(1)\n",
    "        self.LinkedList.head = node # O(1)\n",
    "\n",
    "    #Time & Space Complexity : O(1) \n",
    "    def pop(self):\n",
    "        if self.isEmpty():\n",
    "            return \"There is not any element in the stack\"\n",
    "        else:\n",
    "            nodeValue = self.LinkedList.head.value\n",
    "            self.LinkedList.head = self.LinkedList.head.next\n",
    "            return nodeValue\n",
    "        \n",
    "    #Time & Space Complexity : O(1) \n",
    "    def peek(self):\n",
    "        if self.isEmpty():\n",
    "            return \"There is not any element in the stack\"\n",
    "        else:\n",
    "            nodeValue = self.LinkedList.head.value\n",
    "            return nodeValue\n",
    "        \n",
    "    #Time & Space Complexity : O(1) , coz just setting head ref to None, and so space complexity as 1\n",
    "    #First node after head = None becomes eligible for Garbage collection. Then it gets deleted from the memory and it continues\n",
    "    #until reaches the last node in the linked list\n",
    "    def delete(self):\n",
    "        self.LinkedList.head = None"
   ]
  },
  {
   "cell_type": "code",
   "execution_count": 10,
   "metadata": {},
   "outputs": [
    {
     "name": "stdout",
     "output_type": "stream",
     "text": [
      "4\n",
      "3\n",
      "2\n",
      "1\n"
     ]
    }
   ],
   "source": [
    "customStack = Stack()\n",
    "customStack.push(1)\n",
    "customStack.push(2)\n",
    "customStack.push(3)\n",
    "customStack.push(4)\n",
    "print(customStack)"
   ]
  },
  {
   "cell_type": "code",
   "execution_count": 15,
   "metadata": {},
   "outputs": [
    {
     "name": "stdout",
     "output_type": "stream",
     "text": [
      "4\n",
      "3\n",
      "2\n",
      "1\n",
      "--------------------------------------------------\n",
      "3\n",
      "2\n",
      "1\n"
     ]
    }
   ],
   "source": [
    "customStack = Stack()\n",
    "customStack.push(1)\n",
    "customStack.push(2)\n",
    "customStack.push(3)\n",
    "customStack.push(4)\n",
    "print(customStack)\n",
    "print(\"-\"*50)\n",
    "customStack.pop()\n",
    "print(customStack)"
   ]
  },
  {
   "cell_type": "code",
   "execution_count": 16,
   "metadata": {},
   "outputs": [
    {
     "data": {
      "text/plain": [
       "3"
      ]
     },
     "execution_count": 16,
     "metadata": {},
     "output_type": "execute_result"
    }
   ],
   "source": [
    "customStack.peek()"
   ]
  },
  {
   "cell_type": "code",
   "execution_count": null,
   "metadata": {},
   "outputs": [],
   "source": [
    "customStack.delete()\n",
    "print(customStack)"
   ]
  },
  {
   "cell_type": "markdown",
   "metadata": {},
   "source": [
    "|Operation|Time Complexity|Space Complexity|\n",
    "|--|-----------|----------|\n",
    "|Create Stack | O(1) | O(1) |\n",
    "|Push | O(1) | O(1) |\n",
    "|Pop | O(1) | O(1) |\n",
    "|Peek | O(1) | O(1) |\n",
    "|isEmpty | O(1) | O(1) |\n",
    "|Delete Entire Stack | O(1) | O(1) |"
   ]
  },
  {
   "cell_type": "markdown",
   "metadata": {},
   "source": [
    "##### When to use/ avoid Stack\n",
    "**Use**\n",
    "    - LIFO Functionality\n",
    "    - The chance of data corruption is minimum, coz we can't insert data in between\n",
    "    \n",
    "**Avoid**\n",
    "    - Random access is not possible"
   ]
  },
  {
   "cell_type": "markdown",
   "metadata": {},
   "source": []
  }
 ],
 "metadata": {
  "kernelspec": {
   "display_name": "Python 3",
   "language": "python",
   "name": "python3"
  },
  "language_info": {
   "codemirror_mode": {
    "name": "ipython",
    "version": 3
   },
   "file_extension": ".py",
   "mimetype": "text/x-python",
   "name": "python",
   "nbconvert_exporter": "python",
   "pygments_lexer": "ipython3",
   "version": "3.10.13"
  }
 },
 "nbformat": 4,
 "nbformat_minor": 2
}
