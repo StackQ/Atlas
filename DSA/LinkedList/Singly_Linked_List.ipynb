{
 "cells": [
  {
   "cell_type": "markdown",
   "metadata": {},
   "source": [
    "# Single Linked List"
   ]
  },
  {
   "cell_type": "code",
   "execution_count": 62,
   "metadata": {},
   "outputs": [
    {
     "name": "stdout",
     "output_type": "stream",
     "text": [
      "None\n",
      "96891080065728\n"
     ]
    }
   ],
   "source": [
    "import ctypes\n",
    "\n",
    "none_address = id(None)\n",
    "\n",
    "check_val_from_address = ctypes.cast(none_address, ctypes.py_object).value \n",
    "print(check_val_from_address)\n",
    "#when tail's next is NONE, it will point to this NONE's address\n",
    "print(none_address)"
   ]
  },
  {
   "cell_type": "markdown",
   "metadata": {},
   "source": [
    "## Create LinkedList"
   ]
  },
  {
   "cell_type": "code",
   "execution_count": 69,
   "metadata": {},
   "outputs": [],
   "source": [
    "class Node:\n",
    "    def __init__(self, data) -> None:\n",
    "        self.data = data\n",
    "        self.next = None\n",
    "\n",
    "class LinkedList:\n",
    "    def __init__(self) -> None:\n",
    "        self.head = None\n",
    "        self.tail = None\n",
    "        self.length = 0\n",
    "\n",
    "    #string represenation of LinkedList\n",
    "    def __str__(self) -> str:\n",
    "        t_node = self.head\n",
    "        idx = 0\n",
    "        linked_list_representation_as_string = \"\"\n",
    "\n",
    "        while t_node is not None:\n",
    "            if idx == 0:\n",
    "                node_type = \"Head\"\n",
    "            elif t_node.next is None:\n",
    "                node_type = \"Tail\"\n",
    "            else:\n",
    "                node_type = \"Node\"\n",
    "\n",
    "            t_str = f\"{node_type}[{str(t_node.data)}, next={id(t_node.next) if t_node.next is not None else None}]\"\n",
    "            linked_list_representation_as_string += t_str\n",
    "            if t_node.next is not None:\n",
    "                linked_list_representation_as_string += \" -> \"\n",
    "            t_node = t_node.next\n",
    "\n",
    "            idx += 1\n",
    "        return linked_list_representation_as_string        "
   ]
  },
  {
   "cell_type": "markdown",
   "metadata": {},
   "source": [
    "## append Method"
   ]
  },
  {
   "cell_type": "code",
   "execution_count": 70,
   "metadata": {},
   "outputs": [],
   "source": [
    "def append(LinkedList: LinkedList, value):\n",
    "    t_node = Node(value)\n",
    "    if LinkedList.head is None:\n",
    "        LinkedList.head = t_node\n",
    "        LinkedList.tail = t_node\n",
    "    else:\n",
    "        #if already there are nodes then tail will shift to new added node and tail's next will point to NONE in case of SLL\n",
    "        LinkedList.tail.next = t_node\n",
    "        LinkedList.tail = t_node\n",
    "\n",
    "    LinkedList.length += 1"
   ]
  },
  {
   "cell_type": "code",
   "execution_count": 71,
   "metadata": {},
   "outputs": [
    {
     "name": "stdout",
     "output_type": "stream",
     "text": [
      "Head[10, next=134211400032480] -> Node[20, next=134211400029552] -> Node[30, next=134211400036320] -> Tail[40, next=None]\n"
     ]
    }
   ],
   "source": [
    "new_linked_list = LinkedList()\n",
    "append(new_linked_list, 10)\n",
    "append(new_linked_list, 20)\n",
    "append(new_linked_list, 30)\n",
    "append(new_linked_list, 40)\n",
    "print(new_linked_list)"
   ]
  },
  {
   "cell_type": "markdown",
   "metadata": {},
   "source": [
    "## Linkedist traversal Method"
   ]
  },
  {
   "cell_type": "code",
   "execution_count": 72,
   "metadata": {},
   "outputs": [],
   "source": [
    "def linkedListTraversal(LinkedList: LinkedList):\n",
    "    current_node = LinkedList.head\n",
    "    while current_node:\n",
    "        print(current_node.data)\n",
    "        current_node = current_node.next  "
   ]
  },
  {
   "cell_type": "code",
   "execution_count": 73,
   "metadata": {},
   "outputs": [
    {
     "name": "stdout",
     "output_type": "stream",
     "text": [
      "10\n",
      "20\n",
      "30\n",
      "40\n"
     ]
    }
   ],
   "source": [
    "linkedListTraversal(new_linked_list)"
   ]
  },
  {
   "cell_type": "markdown",
   "metadata": {},
   "source": [
    "## Search Method"
   ]
  },
  {
   "cell_type": "code",
   "execution_count": 74,
   "metadata": {},
   "outputs": [],
   "source": [
    "def search(LinkedList, data):\n",
    "    ptr_node = LinkedList.head\n",
    "    idx = 0\n",
    "\n",
    "    while ptr_node:\n",
    "        if ptr_node.data == data:\n",
    "            return idx\n",
    "        ptr_node = ptr_node.next\n",
    "        idx += 1\n",
    "    return -999"
   ]
  },
  {
   "cell_type": "code",
   "execution_count": 76,
   "metadata": {},
   "outputs": [
    {
     "name": "stdout",
     "output_type": "stream",
     "text": [
      "2\n",
      "-999\n",
      "0\n",
      "-999\n",
      "3\n"
     ]
    }
   ],
   "source": [
    "print(search(new_linked_list, 30))\n",
    "print(search(new_linked_list, 0))\n",
    "print(search(new_linked_list, 10))\n",
    "print(search(new_linked_list, 100))\n",
    "print(search(new_linked_list,40))"
   ]
  },
  {
   "cell_type": "markdown",
   "metadata": {},
   "source": [
    "## prepend Method"
   ]
  },
  {
   "cell_type": "code",
   "execution_count": 77,
   "metadata": {},
   "outputs": [],
   "source": [
    "def prepend(LinkedList: LinkedList, data):\n",
    "    new_node = Node(data)\n",
    "\n",
    "    if LinkedList.head == None:\n",
    "        LinkedList.head = new_node\n",
    "        LinkedList.tail = new_node\n",
    "    else:\n",
    "        new_node.next = LinkedList.head\n",
    "        LinkedList.head = new_node"
   ]
  },
  {
   "cell_type": "code",
   "execution_count": 78,
   "metadata": {},
   "outputs": [
    {
     "name": "stdout",
     "output_type": "stream",
     "text": [
      "Head[10, next=134211400032480] -> Node[20, next=134211400029552] -> Node[30, next=134211400036320] -> Tail[40, next=None]\n",
      "Head[9, next=134211399950992] -> Node[10, next=134211400032480] -> Node[20, next=134211400029552] -> Node[30, next=134211400036320] -> Tail[40, next=None]\n"
     ]
    }
   ],
   "source": [
    "print(new_linked_list)\n",
    "prepend(new_linked_list, 9)\n",
    "print(new_linked_list)"
   ]
  },
  {
   "cell_type": "markdown",
   "metadata": {},
   "source": [
    "## Get Method"
   ]
  },
  {
   "cell_type": "code",
   "execution_count": 79,
   "metadata": {},
   "outputs": [],
   "source": [
    "def get(LinkedList, idx):\n",
    "    if idx == -1 or idx >= LinkedList.length:\n",
    "        return LinkedList.tail\n",
    "    elif idx < -1 or idx == 0:\n",
    "        return LinkedList.head\n",
    "    else:\n",
    "        current = LinkedList.head\n",
    "        for _ in range(idx):\n",
    "            current = current.next\n",
    "        return current"
   ]
  },
  {
   "cell_type": "code",
   "execution_count": 80,
   "metadata": {},
   "outputs": [
    {
     "name": "stdout",
     "output_type": "stream",
     "text": [
      "9\n",
      "9\n",
      "20\n",
      "40\n",
      "40\n"
     ]
    }
   ],
   "source": [
    "#return head if 0 or < 0, coz it most left side node would be always head, except -1 we are considering all -ve as head Node\n",
    "print(get(new_linked_list, 0).data)\n",
    "print(get(new_linked_list, -9).data)\n",
    "#in between node\n",
    "print(get(new_linked_list, 2).data)\n",
    "#-1 in python denotes to last element, here tail node, and length > LinkedList would be right most element, so returns tail in our program\n",
    "print(get(new_linked_list, -1).data)\n",
    "print(get(new_linked_list, 15).data)"
   ]
  },
  {
   "cell_type": "markdown",
   "metadata": {},
   "source": [
    "## Set Method"
   ]
  },
  {
   "cell_type": "code",
   "execution_count": 81,
   "metadata": {},
   "outputs": [],
   "source": [
    "def set(LinkedList, idx, value):\n",
    "    tmp = get(LinkedList, idx)\n",
    "    if tmp:\n",
    "        tmp.data = value\n",
    "        return True\n",
    "    return False"
   ]
  },
  {
   "cell_type": "code",
   "execution_count": 82,
   "metadata": {},
   "outputs": [
    {
     "name": "stdout",
     "output_type": "stream",
     "text": [
      "Head[9, next=134211399950992] -> Node[10, next=134211400032480] -> Node[20, next=134211400029552] -> Node[30, next=134211400036320] -> Tail[40, next=None]\n"
     ]
    }
   ],
   "source": [
    "print(new_linked_list)"
   ]
  },
  {
   "cell_type": "code",
   "execution_count": 83,
   "metadata": {},
   "outputs": [
    {
     "name": "stdout",
     "output_type": "stream",
     "text": [
      "Head[9, next=134211399950992] -> Node[10, next=134211400032480] -> Node[20, next=134211400029552] -> Node[30, next=134211400036320] -> Tail[40, next=None]\n",
      "Head[0, next=134211399950992] -> Node[5, next=134211400032480] -> Node[10, next=134211400029552] -> Node[30, next=134211400036320] -> Tail[77, next=None]\n"
     ]
    }
   ],
   "source": [
    "print(new_linked_list)\n",
    "#set tail element to 42\n",
    "set(new_linked_list, -1, 42)\n",
    "\n",
    "#reset tail from 42 to 77\n",
    "set(new_linked_list, 10, 77)\n",
    "\n",
    "#set head node to 0\n",
    "set(new_linked_list, 0, 0)\n",
    "\n",
    "#set first and second element of LinkedList to 5,10\n",
    "set(new_linked_list, 1, 5)\n",
    "set(new_linked_list, 2, 10)\n",
    "print(new_linked_list)"
   ]
  },
  {
   "cell_type": "markdown",
   "metadata": {},
   "source": [
    "## pop_first Method"
   ]
  },
  {
   "cell_type": "code",
   "execution_count": 84,
   "metadata": {},
   "outputs": [],
   "source": [
    "def pop_first(LinkedList):\n",
    "    popped_node = LinkedList.head\n",
    "    if LinkedList.length > 1:\n",
    "        LinkedList.head = LinkedList.head.next\n",
    "    elif LinkedList.length == 1:\n",
    "        LinkedList.head = None\n",
    "        LinkedList.tail = None\n",
    "    else:\n",
    "        return None\n",
    "    \n",
    "    popped_node.next = None\n",
    "    LinkedList.length -= 1\n",
    "    return popped_node"
   ]
  },
  {
   "cell_type": "code",
   "execution_count": 85,
   "metadata": {},
   "outputs": [
    {
     "name": "stdout",
     "output_type": "stream",
     "text": [
      "Head[0, next=134211399950992] -> Node[5, next=134211400032480] -> Node[10, next=134211400029552] -> Node[30, next=134211400036320] -> Tail[77, next=None]\n",
      "0\n",
      "Head[5, next=134211400032480] -> Node[10, next=134211400029552] -> Node[30, next=134211400036320] -> Tail[77, next=None]\n"
     ]
    }
   ],
   "source": [
    "print(new_linked_list)\n",
    "print(pop_first(new_linked_list).data)\n",
    "print(new_linked_list)"
   ]
  },
  {
   "cell_type": "markdown",
   "metadata": {},
   "source": [
    "## pop Method"
   ]
  },
  {
   "cell_type": "code",
   "execution_count": 86,
   "metadata": {},
   "outputs": [],
   "source": [
    "def pop(LinkedList):\n",
    "    if LinkedList.length == 0:\n",
    "        return None\n",
    "    \n",
    "    popped_node = LinkedList.tail\n",
    "\n",
    "    if LinkedList.length == 1:\n",
    "        LinkedList.head = LinkedList.tail = None\n",
    "    else:\n",
    "        ptr_node = LinkedList.head\n",
    "        while ptr_node.next is not LinkedList.tail:\n",
    "            ptr_node = ptr_node.next\n",
    "\n",
    "        LinkedList.tail = ptr_node\n",
    "        ptr_node.next = None\n",
    "        \n",
    "    LinkedList.length -= 1\n",
    "    return popped_node"
   ]
  },
  {
   "cell_type": "code",
   "execution_count": 87,
   "metadata": {},
   "outputs": [
    {
     "name": "stdout",
     "output_type": "stream",
     "text": [
      "Head[5, next=134211400032480] -> Node[10, next=134211400029552] -> Node[30, next=134211400036320] -> Tail[77, next=None]\n",
      "77\n",
      "Head[5, next=134211400032480] -> Node[10, next=134211400029552] -> Tail[30, next=None]\n"
     ]
    }
   ],
   "source": [
    "print(new_linked_list)\n",
    "print(pop(new_linked_list).data)\n",
    "print(new_linked_list)"
   ]
  },
  {
   "cell_type": "markdown",
   "metadata": {},
   "source": [
    "## Insertion\n",
    "- Case 1 :: Insert at the beginning : O(1)\n",
    "    - New Node's next -> head of exiting Linked List\n",
    "    - Head -> New Node  \n",
    "- Case 2 :: Insert in between : TimeC = O(n), SpaceC= O(1)\n",
    "    - Traverse through elements of LinkedList and use a pointer to go through \"index\" in sequence\n",
    "    - If found specific index where to insert \"New Node\"\n",
    "    - New Node's next -> Existing index Node's next \n",
    "    - Existing index Node's next -> New Node\n",
    "- Case 3 :: Insert at the end : TimeC = O(n), SpaceC = O(1)\n",
    "    - Existing Tail's next -> New Node\n",
    "    - New Node's next -> None\n",
    "    - Tail -> New Node"
   ]
  },
  {
   "cell_type": "code",
   "execution_count": 88,
   "metadata": {},
   "outputs": [],
   "source": [
    "def insert(LinkedList, index, data):\n",
    "    assert (index >= 0 or index == -1) and int(index) == index, \"Incorrect index\"\n",
    "    \n",
    "    new_node=Node(data)\n",
    "\n",
    "    #if linked list is empty\n",
    "    if LinkedList.head == None or LinkedList.length == 0:\n",
    "        LinkedList.head = new_node\n",
    "        LinkedList.tail = new_node\n",
    "    #Case 1 :: insert at the beginning : O(1)\n",
    "    elif index == 0:\n",
    "        new_node.next = LinkedList.head\n",
    "        LinkedList.head = new_node \n",
    "    #Case 3 :: Insert at the end : TimeC = O(1), SpaceC = O(1)\n",
    "    elif index > LinkedList.length or index == -1:\n",
    "        LinkedList.tail.next = new_node\n",
    "        new_node.next = None\n",
    "        LinkedList.tail = new_node\n",
    "    #Case 2:: Insert in between & at given index : TimeC = O(n), SpaceC= O(1)\n",
    "    else:\n",
    "        tmp_ptr_node = LinkedList.head\n",
    "        #hold the previous node of provided index value in tmp_ptr_node\n",
    "        for idx in range(index - 1):\n",
    "            tmp_ptr_node = tmp_ptr_node.next\n",
    "\n",
    "        new_node.next = tmp_ptr_node.next\n",
    "        tmp_ptr_node.next = new_node\n",
    "\n",
    "    LinkedList.length += 1"
   ]
  },
  {
   "cell_type": "code",
   "execution_count": 89,
   "metadata": {},
   "outputs": [
    {
     "name": "stdout",
     "output_type": "stream",
     "text": [
      "Head[5, next=134211400032480] -> Node[10, next=134211400029552] -> Tail[30, next=None]\n"
     ]
    }
   ],
   "source": [
    "print(new_linked_list)"
   ]
  },
  {
   "cell_type": "code",
   "execution_count": 90,
   "metadata": {},
   "outputs": [
    {
     "name": "stdout",
     "output_type": "stream",
     "text": [
      "Head[0, next=134211399950992] -> Node[5, next=134211400032480] -> Node[10, next=134211400029552] -> Tail[30, next=None]\n"
     ]
    }
   ],
   "source": [
    "insert(new_linked_list, 0, 0)\n",
    "print(new_linked_list)"
   ]
  },
  {
   "cell_type": "code",
   "execution_count": 91,
   "metadata": {},
   "outputs": [
    {
     "name": "stdout",
     "output_type": "stream",
     "text": [
      "Head[0, next=134211399950992] -> Node[5, next=134211400032480] -> Node[10, next=134211400029552] -> Node[30, next=134211410906272] -> Tail[40, next=None]\n"
     ]
    }
   ],
   "source": [
    "#Insert at last, index=15\n",
    "insert(new_linked_list,15,40)\n",
    "print(new_linked_list)"
   ]
  },
  {
   "cell_type": "code",
   "execution_count": 92,
   "metadata": {},
   "outputs": [
    {
     "name": "stdout",
     "output_type": "stream",
     "text": [
      "Head[0, next=134211399950992] -> Node[5, next=134211400032480] -> Node[10, next=134211410906608] -> Node[20, next=134211400029552] -> Node[30, next=134211410906272] -> Tail[40, next=None]\n"
     ]
    }
   ],
   "source": [
    "#Insert in between, index=15\n",
    "insert(new_linked_list,3,20)\n",
    "print(new_linked_list)"
   ]
  },
  {
   "cell_type": "code",
   "execution_count": 93,
   "metadata": {},
   "outputs": [
    {
     "name": "stdout",
     "output_type": "stream",
     "text": [
      "Head[0, next=134211399950992] -> Node[5, next=134211400032480] -> Node[10, next=134211410906608] -> Node[20, next=134211400029552] -> Node[30, next=134211410906272] -> Node[40, next=134211410917216] -> Tail[50, next=None]\n",
      "0\n",
      "5\n",
      "10\n",
      "20\n",
      "30\n",
      "40\n",
      "50\n"
     ]
    }
   ],
   "source": [
    "#Insert in -ve index\n",
    "insert(new_linked_list,-1,50)\n",
    "print(new_linked_list)\n",
    "linkedListTraversal(new_linked_list)"
   ]
  },
  {
   "cell_type": "code",
   "execution_count": 94,
   "metadata": {},
   "outputs": [
    {
     "ename": "AssertionError",
     "evalue": "Incorrect index",
     "output_type": "error",
     "traceback": [
      "\u001b[0;31m---------------------------------------------------------------------------\u001b[0m",
      "\u001b[0;31mAssertionError\u001b[0m                            Traceback (most recent call last)",
      "Cell \u001b[0;32mIn[94], line 2\u001b[0m\n\u001b[1;32m      1\u001b[0m \u001b[38;5;66;03m#Insert in -ve index\u001b[39;00m\n\u001b[0;32m----> 2\u001b[0m \u001b[43minsert\u001b[49m\u001b[43m(\u001b[49m\u001b[43mnew_linked_list\u001b[49m\u001b[43m,\u001b[49m\u001b[38;5;241;43m-\u001b[39;49m\u001b[38;5;241;43m2\u001b[39;49m\u001b[43m,\u001b[49m\u001b[38;5;241;43m0\u001b[39;49m\u001b[43m)\u001b[49m\n",
      "Cell \u001b[0;32mIn[88], line 2\u001b[0m, in \u001b[0;36minsert\u001b[0;34m(LinkedList, index, data)\u001b[0m\n\u001b[1;32m      1\u001b[0m \u001b[38;5;28;01mdef\u001b[39;00m \u001b[38;5;21minsert\u001b[39m(LinkedList, index, data):\n\u001b[0;32m----> 2\u001b[0m     \u001b[38;5;28;01massert\u001b[39;00m (index \u001b[38;5;241m>\u001b[39m\u001b[38;5;241m=\u001b[39m \u001b[38;5;241m0\u001b[39m \u001b[38;5;129;01mor\u001b[39;00m index \u001b[38;5;241m==\u001b[39m \u001b[38;5;241m-\u001b[39m\u001b[38;5;241m1\u001b[39m) \u001b[38;5;129;01mand\u001b[39;00m \u001b[38;5;28mint\u001b[39m(index) \u001b[38;5;241m==\u001b[39m index, \u001b[38;5;124m\"\u001b[39m\u001b[38;5;124mIncorrect index\u001b[39m\u001b[38;5;124m\"\u001b[39m\n\u001b[1;32m      4\u001b[0m     new_node\u001b[38;5;241m=\u001b[39mNode(data)\n\u001b[1;32m      6\u001b[0m     \u001b[38;5;66;03m#if linked list is empty\u001b[39;00m\n",
      "\u001b[0;31mAssertionError\u001b[0m: Incorrect index"
     ]
    }
   ],
   "source": [
    "#Insert in -ve index\n",
    "insert(new_linked_list,-2,0)"
   ]
  },
  {
   "cell_type": "markdown",
   "metadata": {},
   "source": [
    "## Deletion\n",
    "- Case 1 :: Delete at the beginning : O(1)\n",
    "    - New Node's next -> head of exiting Linked List\n",
    "    - Head -> New Node  \n",
    "- Case 2 :: Delete in between : TimeC = O(n), SpaceC= O(1)\n",
    "    - Traverse through elements of LinkedList and use a pointer to go through \"index\" in sequence\n",
    "    - If found specific index where to insert \"New Node\"\n",
    "    - New Node's next -> Existing index Node's next \n",
    "    - Existing index Node's next -> New Node\n",
    "- Case 3 :: Delete at the end : TimeC = O(n), SpaceC = O(1)\n",
    "    - Existing Tail's next -> New Node\n",
    "    - New Node's next -> None\n",
    "    - Tail -> New Node"
   ]
  },
  {
   "cell_type": "code",
   "execution_count": 95,
   "metadata": {},
   "outputs": [],
   "source": [
    "def delete(LinkedList, idx):\n",
    "    assert (idx == -1 or idx >= 0) and int(idx) == idx, \"Incorrect Index\"\n",
    "\n",
    "    if idx == 0:\n",
    "        return pop_first(LinkedList)\n",
    "    elif idx > LinkedList.length or idx == -1:\n",
    "        return pop(LinkedList)\n",
    "    else:\n",
    "        prev_node = get(LinkedList, idx -1)\n",
    "        popped_node = prev_node.next\n",
    "\n",
    "        prev_node.next = popped_node.next\n",
    "        popped_node.next = None\n",
    "        LinkedList.length -= 1\n",
    "        return popped_node"
   ]
  },
  {
   "cell_type": "code",
   "execution_count": 96,
   "metadata": {},
   "outputs": [
    {
     "name": "stdout",
     "output_type": "stream",
     "text": [
      "Head[0, next=134211399950992] -> Node[5, next=134211400032480] -> Node[10, next=134211410906608] -> Node[20, next=134211400029552] -> Node[30, next=134211410906272] -> Node[40, next=134211410917216] -> Tail[50, next=None]\n"
     ]
    }
   ],
   "source": [
    "print(new_linked_list)"
   ]
  },
  {
   "cell_type": "code",
   "execution_count": 97,
   "metadata": {},
   "outputs": [
    {
     "name": "stdout",
     "output_type": "stream",
     "text": [
      "Head[0, next=134211399950992] -> Node[5, next=134211400032480] -> Node[10, next=134211410906608] -> Node[20, next=134211400029552] -> Node[30, next=134211410906272] -> Node[40, next=134211410917216] -> Tail[50, next=None]\n",
      "Head[0, next=134211400032480] -> Node[10, next=134211410906608] -> Node[20, next=134211400029552] -> Node[30, next=134211410906272] -> Node[40, next=134211410917216] -> Tail[50, next=None]\n",
      "Head[0, next=134211400032480] -> Node[10, next=134211410906608] -> Node[20, next=134211400029552] -> Node[30, next=134211410906272] -> Tail[40, next=None]\n",
      "Head[0, next=134211400032480] -> Node[10, next=134211410906608] -> Node[20, next=134211400029552] -> Tail[30, next=None]\n",
      "Head[10, next=134211410906608] -> Node[20, next=134211400029552] -> Tail[30, next=None]\n"
     ]
    }
   ],
   "source": [
    "print(new_linked_list, end='\\n')\n",
    "delete(new_linked_list, 1)\n",
    "print(new_linked_list, end='\\n')\n",
    "delete(new_linked_list, -1)\n",
    "print(new_linked_list, end='\\n')\n",
    "delete(new_linked_list, 1000)\n",
    "print(new_linked_list, end='\\n')\n",
    "delete(new_linked_list, 0)\n",
    "print(new_linked_list)"
   ]
  },
  {
   "cell_type": "code",
   "execution_count": 98,
   "metadata": {},
   "outputs": [
    {
     "ename": "AssertionError",
     "evalue": "Incorrect Index",
     "output_type": "error",
     "traceback": [
      "\u001b[0;31m---------------------------------------------------------------------------\u001b[0m",
      "\u001b[0;31mAssertionError\u001b[0m                            Traceback (most recent call last)",
      "Cell \u001b[0;32mIn[98], line 1\u001b[0m\n\u001b[0;32m----> 1\u001b[0m \u001b[43mdelete\u001b[49m\u001b[43m(\u001b[49m\u001b[43mnew_linked_list\u001b[49m\u001b[43m,\u001b[49m\u001b[43m \u001b[49m\u001b[38;5;241;43m-\u001b[39;49m\u001b[38;5;241;43m100\u001b[39;49m\u001b[43m)\u001b[49m\n",
      "Cell \u001b[0;32mIn[95], line 2\u001b[0m, in \u001b[0;36mdelete\u001b[0;34m(LinkedList, idx)\u001b[0m\n\u001b[1;32m      1\u001b[0m \u001b[38;5;28;01mdef\u001b[39;00m \u001b[38;5;21mdelete\u001b[39m(LinkedList, idx):\n\u001b[0;32m----> 2\u001b[0m     \u001b[38;5;28;01massert\u001b[39;00m (idx \u001b[38;5;241m==\u001b[39m \u001b[38;5;241m-\u001b[39m\u001b[38;5;241m1\u001b[39m \u001b[38;5;129;01mor\u001b[39;00m idx \u001b[38;5;241m>\u001b[39m\u001b[38;5;241m=\u001b[39m \u001b[38;5;241m0\u001b[39m) \u001b[38;5;129;01mand\u001b[39;00m \u001b[38;5;28mint\u001b[39m(idx) \u001b[38;5;241m==\u001b[39m idx, \u001b[38;5;124m\"\u001b[39m\u001b[38;5;124mIncorrect Index\u001b[39m\u001b[38;5;124m\"\u001b[39m\n\u001b[1;32m      4\u001b[0m     \u001b[38;5;28;01mif\u001b[39;00m idx \u001b[38;5;241m==\u001b[39m \u001b[38;5;241m0\u001b[39m:\n\u001b[1;32m      5\u001b[0m         \u001b[38;5;28;01mreturn\u001b[39;00m pop_first(LinkedList)\n",
      "\u001b[0;31mAssertionError\u001b[0m: Incorrect Index"
     ]
    }
   ],
   "source": [
    "delete(new_linked_list, -100)"
   ]
  },
  {
   "cell_type": "markdown",
   "metadata": {},
   "source": [
    "## Truncate Method"
   ]
  },
  {
   "cell_type": "code",
   "execution_count": 99,
   "metadata": {},
   "outputs": [],
   "source": [
    "def truncate(LinkedList):\n",
    "    LinkedList.head = None\n",
    "    LinkedList.tail = None\n",
    "    LinkedList.length = 0"
   ]
  },
  {
   "cell_type": "code",
   "execution_count": 100,
   "metadata": {},
   "outputs": [
    {
     "name": "stdout",
     "output_type": "stream",
     "text": [
      "Head[10, next=134211410906608] -> Node[20, next=134211400029552] -> Tail[30, next=None]\n"
     ]
    }
   ],
   "source": [
    "print(new_linked_list)"
   ]
  },
  {
   "cell_type": "code",
   "execution_count": 101,
   "metadata": {},
   "outputs": [],
   "source": [
    "truncate(new_linked_list)"
   ]
  },
  {
   "cell_type": "code",
   "execution_count": 102,
   "metadata": {},
   "outputs": [
    {
     "name": "stdout",
     "output_type": "stream",
     "text": [
      "\n"
     ]
    }
   ],
   "source": [
    "print(new_linked_list)"
   ]
  },
  {
   "cell_type": "code",
   "execution_count": 103,
   "metadata": {},
   "outputs": [
    {
     "name": "stdout",
     "output_type": "stream",
     "text": [
      "Head-None, Tail-None, Length-0\n"
     ]
    }
   ],
   "source": [
    "print(f\"Head-{new_linked_list.head}, Tail-{new_linked_list.tail}, Length-{new_linked_list.length}\")"
   ]
  },
  {
   "cell_type": "markdown",
   "metadata": {},
   "source": [
    "#### Time and Space Complexity of Singly Linked List\n",
    "\n",
    "| SLL Operation | Time Complexity | Space Complexity|\n",
    "|---------------|-----------------|-----------------|\n",
    "|Create   |O(1)|O(1)|\n",
    "|Append   |O(1)|O(1)|\n",
    "|Prepend   |O(1)|O(1)|\n",
    "|Insert   |O(n)|O(1)|\n",
    "|Search   |O(n)|O(1)|\n",
    "|Traverse   |O(n)|O(1)|\n",
    "|Get   |O(n)|O(1)|\n",
    "|Set   |O(n)|O(1)|\n",
    "|Pop First   |O(1)|O(1)|\n",
    "|Pop   |O(1)|O(1)|\n",
    "|Remove   |O(n)|O(1)|\n",
    "|Truncate   |O(1)|O(1)|"
   ]
  },
  {
   "cell_type": "markdown",
   "metadata": {},
   "source": []
  }
 ],
 "metadata": {
  "kernelspec": {
   "display_name": "Python 3",
   "language": "python",
   "name": "python3"
  },
  "language_info": {
   "codemirror_mode": {
    "name": "ipython",
    "version": 3
   },
   "file_extension": ".py",
   "mimetype": "text/x-python",
   "name": "python",
   "nbconvert_exporter": "python",
   "pygments_lexer": "ipython3",
   "version": "3.10.13"
  }
 },
 "nbformat": 4,
 "nbformat_minor": 2
}
