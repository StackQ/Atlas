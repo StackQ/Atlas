{
 "cells": [
  {
   "cell_type": "markdown",
   "metadata": {},
   "source": [
    "# Linked List"
   ]
  },
  {
   "cell_type": "code",
   "execution_count": 11,
   "metadata": {},
   "outputs": [
    {
     "name": "stdout",
     "output_type": "stream",
     "text": [
      "Element: 7\n",
      "Element: 11\n",
      "Element: 41\n",
      "Element: 66\n",
      "\n",
      "After insertAtFirst(head, 56)\n",
      "\n",
      "Element: 56\n",
      "Element: 7\n",
      "Element: 11\n",
      "Element: 41\n",
      "Element: 66\n"
     ]
    }
   ],
   "source": [
    "#include <stdio.h>\n",
    "#include <stdlib.h>\n",
    "\n",
    "struct Node{\n",
    "    int data;\n",
    "    struct Node *next;\n",
    "};\n",
    "\n",
    "void linkedListTraversal(struct Node *ptr)\n",
    "{\n",
    "    while(ptr != NULL)\n",
    "    {\n",
    "        printf(\"Element: %d\\n\", ptr->data);\n",
    "        ptr = ptr->next;\n",
    "    }\n",
    "}\n",
    "\n",
    "//Case 1 :: Insert at the beginning : O(1)\n",
    "struct Node * insertAtFirst(struct Node *head, int data)\n",
    "{\n",
    "    struct Node * ptr = (struct Node *)malloc(sizeof(struct Node));\n",
    "    ptr->data = data;\n",
    "    ptr->next = head;\n",
    "    return ptr;\n",
    "}\n",
    "\n",
    "int main()\n",
    "{\n",
    "    struct Node *head;\n",
    "    struct Node *second;\n",
    "    struct Node *third;\n",
    "    struct Node *fourth;\n",
    "\n",
    "    //Allocate memory for nodes in the linked list in Heap\n",
    "    head = (struct Node *)malloc(sizeof(struct Node));\n",
    "    second = (struct Node *)malloc(sizeof(struct Node));\n",
    "    third = (struct Node *)malloc(sizeof(struct Node));      \n",
    "    fourth = (struct Node *)malloc(sizeof(struct Node));        \n",
    "\n",
    "    //Link First and second nodes\n",
    "    head->data = 7;\n",
    "    head->next = second;\n",
    "\n",
    "    //Link Second and third nodes\n",
    "    second->data = 11;\n",
    "    second->next = third;\n",
    "\n",
    "    //Terminate the list at third node\n",
    "    third->data = 41;\n",
    "    third->next = fourth;        \n",
    "\n",
    "    //Terminate the list at third node\n",
    "    fourth->data = 66;\n",
    "    fourth->next = NULL;       \n",
    "\n",
    "    linkedListTraversal(head);\n",
    "    printf(\"\\nAfter insertAtFirst(head, 56)\\n\\n\");\n",
    "    head = insertAtFirst(head, 56);\n",
    "    linkedListTraversal(head);\n",
    "    return 0;\n",
    "}"
   ]
  },
  {
   "cell_type": "markdown",
   "metadata": {},
   "source": [
    "## Insertion\n",
    "- Case 1 :: Insert at the beginning : O(1)\n",
    "    - New Node's next -> head of exiting Linked List\n",
    "    - Head -> New Node  \n",
    "- Case 2 :: Insert in between : TimeC = O(n), SpaceC= O(1)\n",
    "    - Traverse through elements of LinkedList and use a pointer to go through \"index\" in sequence\n",
    "    - If found specific index where to insert \"New Node\"\n",
    "    - New Node's next -> Existing index Node's next \n",
    "    - Existing index Node's next -> New Node\n",
    "- Case 3 :: Insert at the end : TimeC = O(n), SpaceC = O(1)\n",
    "    - Existing Tail's next -> New Node\n",
    "    - New Node's next -> None\n",
    "    - Tail -> New Node\n",
    "- Case 4 :: Insert after a Node/index : TimeC = O(1), SpaceC = O(1)\n",
    "    - rather than traversing as Case 2, if pointer \"P\" given direcly from a linked list, then no need to traverse from beginning\n",
    "    - New Node's next -> Pointer(P)'s next\n",
    "    - Pointer(P)'s next -> New Node"
   ]
  },
  {
   "cell_type": "markdown",
   "metadata": {},
   "source": [
    "#### Case 1 :: Insert at the beginning : O(1)\n",
    "- New Node's next -> head of exiting Linked List\n",
    "- Head -> New Node  "
   ]
  },
  {
   "cell_type": "code",
   "execution_count": null,
   "metadata": {},
   "outputs": [],
   "source": [
    "struct Node * insertAtFirst(struct Node *head, int data)\n",
    "{\n",
    "    struct Node * ptr = (struct Node *)malloc(sizeof(struct Node));\n",
    "    ptr->data = data\n",
    "    ptr->next = head\n",
    "    return ptr\n",
    "}"
   ]
  },
  {
   "cell_type": "code",
   "execution_count": null,
   "metadata": {},
   "outputs": [],
   "source": []
  }
 ],
 "metadata": {
  "kernelspec": {
   "display_name": "C",
   "language": "c",
   "name": "c"
  },
  "language_info": {
   "file_extension": ".c",
   "mimetype": "text/plain",
   "name": "c"
  }
 },
 "nbformat": 4,
 "nbformat_minor": 2
}
