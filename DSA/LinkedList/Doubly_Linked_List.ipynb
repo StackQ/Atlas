{
 "cells": [
  {
   "cell_type": "markdown",
   "metadata": {},
   "source": [
    "# Doubly Linked List"
   ]
  },
  {
   "cell_type": "code",
   "execution_count": 44,
   "metadata": {},
   "outputs": [],
   "source": [
    "class Node:\n",
    "    def __init__(self, data) -> None:\n",
    "        self.data = data\n",
    "        self.next = None\n",
    "        self.prev = None\n",
    "\n",
    "    def __str__(self) -> str:\n",
    "        return f\"[{self.prev} <- {self.data} -> {self.next}]\"\n",
    "    \n",
    "\n",
    "class DoublyLinkedList:\n",
    "    def __init__(self) -> None:\n",
    "        self.head = None\n",
    "        self.tail = None\n",
    "        self.length = 0\n",
    "\n",
    "    def __str__(self) -> str:\n",
    "        ptr = self.head\n",
    "        str_representation = \"\"\n",
    "\n",
    "        while ptr:\n",
    "            if ptr == self.head:\n",
    "                node_type = \"Head\"\n",
    "            elif ptr == self.tail:\n",
    "                node_type = \"Tail\"\n",
    "            else:\n",
    "                node_type = \"Node\"\n",
    "\n",
    "            str_representation += f\"{node_type}[{id(ptr.prev)}<-'{ptr.data}'->{id(ptr.next)}]\"\n",
    "            if ptr.next:\n",
    "                str_representation += \" <=>\\n\"\n",
    "            ptr = ptr.next\n",
    "\n",
    "        return str_representation"
   ]
  },
  {
   "cell_type": "code",
   "execution_count": 45,
   "metadata": {},
   "outputs": [
    {
     "name": "stdout",
     "output_type": "stream",
     "text": [
      "[None <- Raj -> None]\n"
     ]
    }
   ],
   "source": [
    "dll_node = Node(\"Raj\")\n",
    "print(dll_node)"
   ]
  },
  {
   "cell_type": "markdown",
   "metadata": {},
   "source": [
    "### Append Method"
   ]
  },
  {
   "cell_type": "code",
   "execution_count": 46,
   "metadata": {},
   "outputs": [],
   "source": [
    "def append(dll: DoublyLinkedList, value):\n",
    "    new_node = Node(value)\n",
    "\n",
    "    if dll.head is None or dll.length == 0:\n",
    "        dll.head = new_node\n",
    "        dll.tail = new_node\n",
    "    else:  \n",
    "        dll.tail.next = new_node\n",
    "        new_node.prev = dll.tail\n",
    "        dll.tail = new_node\n",
    "    dll.length += 1"
   ]
  },
  {
   "cell_type": "code",
   "execution_count": 58,
   "metadata": {},
   "outputs": [
    {
     "name": "stdout",
     "output_type": "stream",
     "text": [
      "\n",
      "None\n",
      "None\n",
      "0\n"
     ]
    }
   ],
   "source": [
    "dll = DoublyLinkedList()\n",
    "print(dll)\n",
    "print(dll.head)\n",
    "print(dll.tail)\n",
    "print(dll.length)"
   ]
  },
  {
   "cell_type": "code",
   "execution_count": 59,
   "metadata": {},
   "outputs": [
    {
     "data": {
      "text/plain": [
       "95923970466496"
      ]
     },
     "execution_count": 59,
     "metadata": {},
     "output_type": "execute_result"
    }
   ],
   "source": [
    "id(None)"
   ]
  },
  {
   "cell_type": "code",
   "execution_count": 60,
   "metadata": {},
   "outputs": [
    {
     "name": "stdout",
     "output_type": "stream",
     "text": [
      "Head[95923970466496<-' '->132898376786048] <=>\n",
      "Node[132898382173696<-'S'->132898376784704] <=>\n",
      "Node[132898376786048<-'h'->132897885708752] <=>\n",
      "Node[132898376784704<-'u'->132897885343744] <=>\n",
      "Node[132897885708752<-'k'->132897885340528] <=>\n",
      "Node[132897885343744<-'l'->132897885344224] <=>\n",
      "Tail[132897885340528<-'a'->95923970466496]\n"
     ]
    }
   ],
   "source": [
    "for v in \" Shukla\":\n",
    "    append(dll, v)\n",
    "\n",
    "#Head->prev & Tail->next points to None in Doubly linked list, and check below both are address of \"None\" as evaluated in above cell\n",
    "print(dll)\n"
   ]
  },
  {
   "cell_type": "markdown",
   "metadata": {},
   "source": [
    "### prepend Method"
   ]
  },
  {
   "cell_type": "code",
   "execution_count": 61,
   "metadata": {},
   "outputs": [],
   "source": [
    "def prepend(dll: DoublyLinkedList, value):\n",
    "    new_node = Node(value)\n",
    "    ptr = dll.head\n",
    "\n",
    "    if dll.head is None or dll.length == 0:\n",
    "        dll.head = new_node\n",
    "        dll.tail = new_node\n",
    "    else:\n",
    "        dll.head.prev = new_node\n",
    "        new_node.next = dll.head\n",
    "        dll.head = new_node\n",
    "    dll.length += 1"
   ]
  },
  {
   "cell_type": "code",
   "execution_count": 62,
   "metadata": {},
   "outputs": [
    {
     "name": "stdout",
     "output_type": "stream",
     "text": [
      "Head[95923970466496<-'R'->132897897302528] <=>\n",
      "Node[132897897308096<-'a'->132897885607952] <=>\n",
      "Node[132897897302528<-'j'->132898376971360] <=>\n",
      "Node[132897885607952<-' '->132898376971456] <=>\n",
      "Node[132898376971360<-'K'->132898382173696] <=>\n",
      "Node[132898376971456<-' '->132898376786048] <=>\n",
      "Node[132898382173696<-'S'->132898376784704] <=>\n",
      "Node[132898376786048<-'h'->132897885708752] <=>\n",
      "Node[132898376784704<-'u'->132897885343744] <=>\n",
      "Node[132897885708752<-'k'->132897885340528] <=>\n",
      "Node[132897885343744<-'l'->132897885344224] <=>\n",
      "Tail[132897885340528<-'a'->95923970466496]\n"
     ]
    }
   ],
   "source": [
    "for v in \"Raj K\"[::-1]:\n",
    "    prepend(dll, v)\n",
    "\n",
    "print(dll)"
   ]
  },
  {
   "cell_type": "markdown",
   "metadata": {},
   "source": [
    "### Traverse Method"
   ]
  },
  {
   "cell_type": "code",
   "execution_count": 64,
   "metadata": {},
   "outputs": [],
   "source": [
    "def traverse(dll: DoublyLinkedList):\n",
    "    ptr = dll.head\n",
    "\n",
    "    while ptr:\n",
    "        print(ptr.data)\n",
    "        ptr = ptr.next\n",
    "        "
   ]
  },
  {
   "cell_type": "code",
   "execution_count": 67,
   "metadata": {},
   "outputs": [
    {
     "name": "stdout",
     "output_type": "stream",
     "text": [
      "R\n",
      "a\n",
      "j\n",
      " \n",
      "K\n",
      " \n",
      "S\n",
      "h\n",
      "u\n",
      "k\n",
      "l\n",
      "a\n"
     ]
    }
   ],
   "source": [
    "traverse(dll)"
   ]
  },
  {
   "cell_type": "markdown",
   "metadata": {},
   "source": [
    "### Reverse Traverse Method"
   ]
  },
  {
   "cell_type": "code",
   "execution_count": 68,
   "metadata": {},
   "outputs": [],
   "source": [
    "def reverse(dll: DoublyLinkedList):\n",
    "    ptr = dll.tail\n",
    "\n",
    "    while ptr:\n",
    "        print(ptr.data)\n",
    "        ptr = ptr.prev"
   ]
  },
  {
   "cell_type": "code",
   "execution_count": 69,
   "metadata": {},
   "outputs": [
    {
     "name": "stdout",
     "output_type": "stream",
     "text": [
      "a\n",
      "l\n",
      "k\n",
      "u\n",
      "h\n",
      "S\n",
      " \n",
      "K\n",
      " \n",
      "j\n",
      "a\n",
      "R\n"
     ]
    }
   ],
   "source": [
    "reverse(dll)"
   ]
  },
  {
   "cell_type": "markdown",
   "metadata": {},
   "source": [
    "### Search Method"
   ]
  },
  {
   "cell_type": "code",
   "execution_count": 72,
   "metadata": {},
   "outputs": [],
   "source": [
    "def search(dll: DoublyLinkedList, value):\n",
    "    ptr = dll.head\n",
    "    idx = 0\n",
    "\n",
    "    while ptr:\n",
    "        if ptr.data == value:\n",
    "            return f\"value={value} found at index-{idx}\"\n",
    "        ptr = ptr.next\n",
    "        idx += 1\n",
    "    return \"Value not exist\""
   ]
  },
  {
   "cell_type": "code",
   "execution_count": 77,
   "metadata": {},
   "outputs": [
    {
     "name": "stdout",
     "output_type": "stream",
     "text": [
      "value=R found at index-0\n",
      "value=  found at index-3\n",
      "value=K found at index-4\n",
      "value=  found at index-3\n",
      "value=l found at index-10\n",
      "Value not exist\n"
     ]
    }
   ],
   "source": [
    "print(search(dll, 'R'))\n",
    "print(search(dll, ' '))\n",
    "print(search(dll, 'K'))\n",
    "print(search(dll, ' '))\n",
    "print(search(dll, 'l'))\n",
    "print(search(dll, 'Z'))"
   ]
  },
  {
   "cell_type": "markdown",
   "metadata": {},
   "source": [
    "### Get method"
   ]
  },
  {
   "cell_type": "code",
   "execution_count": 87,
   "metadata": {},
   "outputs": [],
   "source": [
    "def get(dll: DoublyLinkedList, idx):\n",
    "    if idx <= 0 and idx == -1:\n",
    "        ptr = dll.head\n",
    "    elif idx == -1 or idx >= dll.length:\n",
    "        ptr = dll.tail\n",
    "    elif idx < dll.length // 2:\n",
    "        ptr = dll.head\n",
    "        for _ in range(idx):\n",
    "            ptr = ptr.next\n",
    "    else:\n",
    "        ptr = dll.tail\n",
    "        for _ in range(dll.length-1, idx, -1):\n",
    "            ptr = ptr.prev\n",
    "    return ptr"
   ]
  },
  {
   "cell_type": "code",
   "execution_count": 88,
   "metadata": {},
   "outputs": [
    {
     "ename": "RecursionError",
     "evalue": "maximum recursion depth exceeded",
     "output_type": "error",
     "traceback": [
      "\u001b[0;31m---------------------------------------------------------------------------\u001b[0m",
      "\u001b[0;31mRecursionError\u001b[0m                            Traceback (most recent call last)",
      "Cell \u001b[0;32mIn[88], line 1\u001b[0m\n\u001b[0;32m----> 1\u001b[0m \u001b[38;5;28;43mprint\u001b[39;49m\u001b[43m(\u001b[49m\u001b[43mget\u001b[49m\u001b[43m(\u001b[49m\u001b[43mdll\u001b[49m\u001b[43m,\u001b[49m\u001b[43m \u001b[49m\u001b[38;5;241;43m1\u001b[39;49m\u001b[43m)\u001b[49m\u001b[43m)\u001b[49m\n",
      "Cell \u001b[0;32mIn[44], line 8\u001b[0m, in \u001b[0;36mNode.__str__\u001b[0;34m(self)\u001b[0m\n\u001b[1;32m      7\u001b[0m \u001b[38;5;28;01mdef\u001b[39;00m \u001b[38;5;21m__str__\u001b[39m(\u001b[38;5;28mself\u001b[39m) \u001b[38;5;241m-\u001b[39m\u001b[38;5;241m>\u001b[39m \u001b[38;5;28mstr\u001b[39m:\n\u001b[0;32m----> 8\u001b[0m     \u001b[38;5;28;01mreturn\u001b[39;00m \u001b[38;5;124mf\u001b[39m\u001b[38;5;124m\"\u001b[39m\u001b[38;5;124m[\u001b[39m\u001b[38;5;132;01m{\u001b[39;00m\u001b[38;5;28mself\u001b[39m\u001b[38;5;241m.\u001b[39mprev\u001b[38;5;132;01m}\u001b[39;00m\u001b[38;5;124m <- \u001b[39m\u001b[38;5;132;01m{\u001b[39;00m\u001b[38;5;28mself\u001b[39m\u001b[38;5;241m.\u001b[39mdata\u001b[38;5;132;01m}\u001b[39;00m\u001b[38;5;124m -> \u001b[39m\u001b[38;5;132;01m{\u001b[39;00m\u001b[38;5;28mself\u001b[39m\u001b[38;5;241m.\u001b[39mnext\u001b[38;5;132;01m}\u001b[39;00m\u001b[38;5;124m]\u001b[39m\u001b[38;5;124m\"\u001b[39m\n",
      "Cell \u001b[0;32mIn[44], line 8\u001b[0m, in \u001b[0;36mNode.__str__\u001b[0;34m(self)\u001b[0m\n\u001b[1;32m      7\u001b[0m \u001b[38;5;28;01mdef\u001b[39;00m \u001b[38;5;21m__str__\u001b[39m(\u001b[38;5;28mself\u001b[39m) \u001b[38;5;241m-\u001b[39m\u001b[38;5;241m>\u001b[39m \u001b[38;5;28mstr\u001b[39m:\n\u001b[0;32m----> 8\u001b[0m     \u001b[38;5;28;01mreturn\u001b[39;00m \u001b[38;5;124mf\u001b[39m\u001b[38;5;124m\"\u001b[39m\u001b[38;5;124m[\u001b[39m\u001b[38;5;132;01m{\u001b[39;00m\u001b[38;5;28mself\u001b[39m\u001b[38;5;241m.\u001b[39mprev\u001b[38;5;132;01m}\u001b[39;00m\u001b[38;5;124m <- \u001b[39m\u001b[38;5;132;01m{\u001b[39;00m\u001b[38;5;28mself\u001b[39m\u001b[38;5;241m.\u001b[39mdata\u001b[38;5;132;01m}\u001b[39;00m\u001b[38;5;124m -> \u001b[39m\u001b[38;5;132;01m{\u001b[39;00m\u001b[38;5;28mself\u001b[39m\u001b[38;5;241m.\u001b[39mnext\u001b[38;5;132;01m}\u001b[39;00m\u001b[38;5;124m]\u001b[39m\u001b[38;5;124m\"\u001b[39m\n",
      "    \u001b[0;31m[... skipping similar frames: Node.__str__ at line 8 (987 times)]\u001b[0m\n",
      "Cell \u001b[0;32mIn[44], line 8\u001b[0m, in \u001b[0;36mNode.__str__\u001b[0;34m(self)\u001b[0m\n\u001b[1;32m      7\u001b[0m \u001b[38;5;28;01mdef\u001b[39;00m \u001b[38;5;21m__str__\u001b[39m(\u001b[38;5;28mself\u001b[39m) \u001b[38;5;241m-\u001b[39m\u001b[38;5;241m>\u001b[39m \u001b[38;5;28mstr\u001b[39m:\n\u001b[0;32m----> 8\u001b[0m     \u001b[38;5;28;01mreturn\u001b[39;00m \u001b[38;5;124mf\u001b[39m\u001b[38;5;124m\"\u001b[39m\u001b[38;5;124m[\u001b[39m\u001b[38;5;132;01m{\u001b[39;00m\u001b[38;5;28mself\u001b[39m\u001b[38;5;241m.\u001b[39mprev\u001b[38;5;132;01m}\u001b[39;00m\u001b[38;5;124m <- \u001b[39m\u001b[38;5;132;01m{\u001b[39;00m\u001b[38;5;28mself\u001b[39m\u001b[38;5;241m.\u001b[39mdata\u001b[38;5;132;01m}\u001b[39;00m\u001b[38;5;124m -> \u001b[39m\u001b[38;5;132;01m{\u001b[39;00m\u001b[38;5;28mself\u001b[39m\u001b[38;5;241m.\u001b[39mnext\u001b[38;5;132;01m}\u001b[39;00m\u001b[38;5;124m]\u001b[39m\u001b[38;5;124m\"\u001b[39m\n",
      "\u001b[0;31mRecursionError\u001b[0m: maximum recursion depth exceeded"
     ]
    }
   ],
   "source": [
    "print(get(dll, 1))"
   ]
  },
  {
   "cell_type": "code",
   "execution_count": 86,
   "metadata": {},
   "outputs": [
    {
     "name": "stdout",
     "output_type": "stream",
     "text": [
      "Head[95923970466496<-'R'->132897897302528] <=>\n",
      "Node[132897897308096<-'a'->132897885607952] <=>\n",
      "Node[132897897302528<-'j'->132898376971360] <=>\n",
      "Node[132897885607952<-' '->132898376971456] <=>\n",
      "Node[132898376971360<-'K'->132898382173696] <=>\n",
      "Node[132898376971456<-' '->132898376786048] <=>\n",
      "Node[132898382173696<-'S'->132898376784704] <=>\n",
      "Node[132898376786048<-'h'->132897885708752] <=>\n",
      "Node[132898376784704<-'u'->132897885343744] <=>\n",
      "Node[132897885708752<-'k'->132897885340528] <=>\n",
      "Node[132897885343744<-'l'->132897885344224] <=>\n",
      "Tail[132897885340528<-'a'->95923970466496]\n"
     ]
    }
   ],
   "source": [
    "print(dll)"
   ]
  },
  {
   "cell_type": "code",
   "execution_count": null,
   "metadata": {},
   "outputs": [],
   "source": []
  }
 ],
 "metadata": {
  "kernelspec": {
   "display_name": "Python 3",
   "language": "python",
   "name": "python3"
  },
  "language_info": {
   "codemirror_mode": {
    "name": "ipython",
    "version": 3
   },
   "file_extension": ".py",
   "mimetype": "text/x-python",
   "name": "python",
   "nbconvert_exporter": "python",
   "pygments_lexer": "ipython3",
   "version": "3.10.13"
  }
 },
 "nbformat": 4,
 "nbformat_minor": 2
}
