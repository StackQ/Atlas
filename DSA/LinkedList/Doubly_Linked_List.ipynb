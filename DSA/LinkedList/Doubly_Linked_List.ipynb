{
 "cells": [
  {
   "cell_type": "code",
   "execution_count": 6,
   "metadata": {},
   "outputs": [
    {
     "data": {
      "text/plain": [
       "103997857350336"
      ]
     },
     "execution_count": 6,
     "metadata": {},
     "output_type": "execute_result"
    }
   ],
   "source": [
    "id(None)"
   ]
  },
  {
   "cell_type": "markdown",
   "metadata": {},
   "source": [
    "# Doubly Linked List"
   ]
  },
  {
   "cell_type": "code",
   "execution_count": 47,
   "metadata": {},
   "outputs": [],
   "source": [
    "class Node:\n",
    "    def __init__(self, data) -> None:\n",
    "        self.data = data\n",
    "        self.next = None\n",
    "        self.prev = None\n",
    "\n",
    "    def __str__(self) -> str:\n",
    "        return f\"{self.data}\"\n",
    "    \n",
    "\n",
    "class DoublyLinkedList:\n",
    "    def __init__(self) -> None:\n",
    "        self.head = None\n",
    "        self.tail = None\n",
    "        self.length = 0\n",
    "\n",
    "    def __str__(self) -> str:\n",
    "        ptr = self.head\n",
    "        str_representation = \"\"\n",
    "\n",
    "        while ptr:\n",
    "            if ptr == self.head:\n",
    "                node_type = \"Head\"\n",
    "            elif ptr == self.tail:\n",
    "                node_type = \"Tail\"\n",
    "            else:\n",
    "                node_type = \"Node\"\n",
    "\n",
    "            str_representation += f\"{node_type}[{id(ptr.prev)}<-'{str(ptr.data)}'->{id(ptr.next)}]\"\n",
    "            if ptr.next:\n",
    "                str_representation += \"<=>\"\n",
    "            ptr = ptr.next\n",
    "\n",
    "        return str_representation"
   ]
  },
  {
   "cell_type": "code",
   "execution_count": 48,
   "metadata": {
    "tags": [
     "example"
    ]
   },
   "outputs": [
    {
     "name": "stdout",
     "output_type": "stream",
     "text": [
      "Raj\n"
     ]
    }
   ],
   "source": [
    "dll_node = Node(\"Raj\")\n",
    "print(dll_node)"
   ]
  },
  {
   "cell_type": "markdown",
   "metadata": {},
   "source": [
    "### Append Method"
   ]
  },
  {
   "cell_type": "code",
   "execution_count": 49,
   "metadata": {},
   "outputs": [],
   "source": [
    "def append(dll: DoublyLinkedList, value):\n",
    "    new_node = Node(value)\n",
    "\n",
    "    if dll.head is None or dll.length == 0:\n",
    "        dll.head = new_node\n",
    "        dll.tail = new_node\n",
    "    else:  \n",
    "        dll.tail.next = new_node\n",
    "        new_node.prev = dll.tail\n",
    "        dll.tail = new_node\n",
    "    dll.length += 1"
   ]
  },
  {
   "cell_type": "code",
   "execution_count": 50,
   "metadata": {},
   "outputs": [
    {
     "name": "stdout",
     "output_type": "stream",
     "text": [
      "\n",
      "None\n",
      "None\n",
      "0\n"
     ]
    }
   ],
   "source": [
    "dll = DoublyLinkedList()\n",
    "print(dll)\n",
    "print(dll.head)\n",
    "print(dll.tail)\n",
    "print(dll.length)"
   ]
  },
  {
   "cell_type": "code",
   "execution_count": 51,
   "metadata": {},
   "outputs": [
    {
     "name": "stdout",
     "output_type": "stream",
     "text": [
      "Head[103997857350336<-' '->134491685508224]<=>Node[134491685511104<-'S'->134491685509712]<=>Node[134491685508224<-'h'->134491685511008]<=>Node[134491685509712<-'u'->134491685505488]<=>Node[134491685511008<-'k'->134491685513792]<=>Node[134491685505488<-'l'->134491685510864]<=>Tail[134491685513792<-'a'->103997857350336]\n"
     ]
    }
   ],
   "source": [
    "for v in \" Shukla\":\n",
    "    append(dll, v)\n",
    "\n",
    "#Head->prev & Tail->next points to None in Doubly linked list, and check below both are address of \"None\" as evaluated in above cell\n",
    "print(dll)\n"
   ]
  },
  {
   "cell_type": "markdown",
   "metadata": {},
   "source": [
    "### prepend Method"
   ]
  },
  {
   "cell_type": "code",
   "execution_count": 24,
   "metadata": {},
   "outputs": [],
   "source": [
    "def prepend(dll: DoublyLinkedList, value):\n",
    "    new_node = Node(value)\n",
    "    ptr = dll.head\n",
    "\n",
    "    if dll.head is None or dll.length == 0:\n",
    "        dll.head = new_node\n",
    "        dll.tail = new_node\n",
    "    else:\n",
    "        dll.head.prev = new_node\n",
    "        new_node.next = dll.head\n",
    "        dll.head = new_node\n",
    "    dll.length += 1"
   ]
  },
  {
   "cell_type": "code",
   "execution_count": 25,
   "metadata": {},
   "outputs": [
    {
     "name": "stdout",
     "output_type": "stream",
     "text": [
      "Head[103997857350336<-'R'->134491685477712] <=>\n",
      "Node[134491685474208<-'a'->134491685476416] <=>\n",
      "Node[134491685477712<-'j'->134491685473728] <=>\n",
      "Node[134491685476416<-' '->134491685476272] <=>\n",
      "Node[134491685473728<-'K'->134491685458304] <=>\n",
      "Node[134491685476272<-' '->134491685460128] <=>\n",
      "Node[134491685458304<-'S'->134491685457488] <=>\n",
      "Node[134491685460128<-'h'->134491685459408] <=>\n",
      "Node[134491685457488<-'u'->134491685458160] <=>\n",
      "Node[134491685459408<-'k'->134491685472816] <=>\n",
      "Node[134491685458160<-'l'->134491685478720] <=>\n",
      "Tail[134491685472816<-'a'->103997857350336]\n"
     ]
    }
   ],
   "source": [
    "for v in \"Raj K\"[::-1]:\n",
    "    prepend(dll, v)\n",
    "\n",
    "print(dll)"
   ]
  },
  {
   "cell_type": "markdown",
   "metadata": {},
   "source": [
    "### Traverse Method"
   ]
  },
  {
   "cell_type": "code",
   "execution_count": 26,
   "metadata": {},
   "outputs": [],
   "source": [
    "def traverse(dll: DoublyLinkedList):\n",
    "    ptr = dll.head\n",
    "\n",
    "    while ptr:\n",
    "        print(ptr.data)\n",
    "        ptr = ptr.next\n",
    "        "
   ]
  },
  {
   "cell_type": "code",
   "execution_count": 27,
   "metadata": {},
   "outputs": [
    {
     "name": "stdout",
     "output_type": "stream",
     "text": [
      "R\n",
      "a\n",
      "j\n",
      " \n",
      "K\n",
      " \n",
      "S\n",
      "h\n",
      "u\n",
      "k\n",
      "l\n",
      "a\n"
     ]
    }
   ],
   "source": [
    "traverse(dll)"
   ]
  },
  {
   "cell_type": "markdown",
   "metadata": {},
   "source": [
    "### Reverse Traverse Method"
   ]
  },
  {
   "cell_type": "code",
   "execution_count": 28,
   "metadata": {},
   "outputs": [],
   "source": [
    "def reverse(dll: DoublyLinkedList):\n",
    "    ptr = dll.tail\n",
    "\n",
    "    while ptr:\n",
    "        print(ptr.data)\n",
    "        ptr = ptr.prev"
   ]
  },
  {
   "cell_type": "code",
   "execution_count": 29,
   "metadata": {},
   "outputs": [
    {
     "name": "stdout",
     "output_type": "stream",
     "text": [
      "a\n",
      "l\n",
      "k\n",
      "u\n",
      "h\n",
      "S\n",
      " \n",
      "K\n",
      " \n",
      "j\n",
      "a\n",
      "R\n"
     ]
    }
   ],
   "source": [
    "reverse(dll)"
   ]
  },
  {
   "cell_type": "markdown",
   "metadata": {},
   "source": [
    "### Search Method"
   ]
  },
  {
   "cell_type": "code",
   "execution_count": 30,
   "metadata": {},
   "outputs": [],
   "source": [
    "def search(dll: DoublyLinkedList, value):\n",
    "    ptr = dll.head\n",
    "    idx = 0\n",
    "\n",
    "    while ptr:\n",
    "        if ptr.data == value:\n",
    "            return f\"value={value} found at index-{idx}\"\n",
    "        ptr = ptr.next\n",
    "        idx += 1\n",
    "    return \"Value not exist\""
   ]
  },
  {
   "cell_type": "code",
   "execution_count": 31,
   "metadata": {},
   "outputs": [
    {
     "name": "stdout",
     "output_type": "stream",
     "text": [
      "value=R found at index-0\n",
      "value=  found at index-3\n",
      "value=K found at index-4\n",
      "value=  found at index-3\n",
      "value=l found at index-10\n",
      "Value not exist\n"
     ]
    }
   ],
   "source": [
    "print(search(dll, 'R'))\n",
    "print(search(dll, ' '))\n",
    "print(search(dll, 'K'))\n",
    "print(search(dll, ' '))\n",
    "print(search(dll, 'l'))\n",
    "print(search(dll, 'Z'))"
   ]
  },
  {
   "cell_type": "markdown",
   "metadata": {},
   "source": [
    "### Get method"
   ]
  },
  {
   "cell_type": "code",
   "execution_count": 42,
   "metadata": {},
   "outputs": [],
   "source": [
    "#In python -1 = end element, except -1 and < 0 considered to return Head, >= length considered to return Tail always\n",
    "#Only int allowed as idx\n",
    "def get(dll: DoublyLinkedList, idx):\n",
    "    assert int(idx) == idx, \"Incorrect Index\"\n",
    "    if idx <= 0 and idx != -1:\n",
    "        ptr = dll.head\n",
    "    elif idx == -1 or idx >= dll.length:\n",
    "        ptr = dll.tail\n",
    "    elif idx < dll.length // 2:\n",
    "        ptr = dll.head\n",
    "        for _ in range(idx):\n",
    "            ptr = ptr.next\n",
    "    else:\n",
    "        ptr = dll.tail\n",
    "        for _ in range(dll.length-1, idx, -1):\n",
    "            ptr = ptr.prev\n",
    "    return ptr"
   ]
  },
  {
   "cell_type": "code",
   "execution_count": 44,
   "metadata": {},
   "outputs": [
    {
     "name": "stdout",
     "output_type": "stream",
     "text": [
      "R\n",
      "R\n",
      "R\n",
      "a\n",
      "j\n",
      " \n",
      "K\n",
      " \n",
      "S\n",
      "Length of Doubly Linked List=12\n",
      "a\n",
      "a\n",
      "a\n"
     ]
    }
   ],
   "source": [
    "#ways to get Head\n",
    "print(get(dll, -5))\n",
    "print(get(dll, 0))\n",
    "print(get(dll, -999))\n",
    "\n",
    "#ways to get in between Node, Node is returning value here coz of __str_ in Node class\n",
    "print(get(dll, 1))\n",
    "print(get(dll, 2))\n",
    "print(get(dll, 3))\n",
    "print(get(dll, 4))\n",
    "print(get(dll, 5))\n",
    "print(get(dll, 6))\n",
    "\n",
    "#ways to get Tail Node\n",
    "print(f\"Length of Doubly Linked List={dll.length}\")\n",
    "print(get(dll, -1))\n",
    "print(get(dll, 12))\n",
    "print(get(dll, 562))\n"
   ]
  },
  {
   "cell_type": "markdown",
   "metadata": {},
   "source": [
    "### Set Method"
   ]
  },
  {
   "cell_type": "code",
   "execution_count": 46,
   "metadata": {},
   "outputs": [],
   "source": [
    "def set(dll: DoublyLinkedList, idx, value):\n",
    "    node_to_set = get(dll, idx)\n",
    "    if node_to_set:\n",
    "        node_to_set.data = value\n",
    "        return True\n",
    "    return False"
   ]
  },
  {
   "cell_type": "code",
   "execution_count": 45,
   "metadata": {},
   "outputs": [],
   "source": [
    "set(dll, )"
   ]
  },
  {
   "cell_type": "code",
   "execution_count": null,
   "metadata": {},
   "outputs": [],
   "source": []
  }
 ],
 "metadata": {
  "kernelspec": {
   "display_name": "Python 3",
   "language": "python",
   "name": "python3"
  },
  "language_info": {
   "codemirror_mode": {
    "name": "ipython",
    "version": 3
   },
   "file_extension": ".py",
   "mimetype": "text/x-python",
   "name": "python",
   "nbconvert_exporter": "python",
   "pygments_lexer": "ipython3",
   "version": "3.10.13"
  }
 },
 "nbformat": 4,
 "nbformat_minor": 2
}
