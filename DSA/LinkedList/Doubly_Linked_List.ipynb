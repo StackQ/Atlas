{
 "cells": [
  {
   "cell_type": "code",
   "execution_count": 36,
   "metadata": {},
   "outputs": [
    {
     "data": {
      "text/plain": [
       "104202741154496"
      ]
     },
     "execution_count": 36,
     "metadata": {},
     "output_type": "execute_result"
    }
   ],
   "source": [
    "id(None)"
   ]
  },
  {
   "cell_type": "markdown",
   "metadata": {},
   "source": [
    "# Doubly Linked List"
   ]
  },
  {
   "cell_type": "code",
   "execution_count": 67,
   "metadata": {},
   "outputs": [],
   "source": [
    "class Node:\n",
    "    def __init__(self, data) -> None:\n",
    "        self.data = data\n",
    "        self.next = None\n",
    "        self.prev = None\n",
    "\n",
    "    def __str__(self) -> str:\n",
    "        return f\"{self.data}\"\n",
    "    \n",
    "\n",
    "class DoublyLinkedList:\n",
    "    def __init__(self) -> None:\n",
    "        self.head = None\n",
    "        self.tail = None\n",
    "        self.length = 0\n",
    "\n",
    "    def __str__(self) -> str:\n",
    "        ptr = self.head\n",
    "        str_representation = \"\"\n",
    "\n",
    "        while ptr:\n",
    "            if ptr == self.head:\n",
    "                node_type = \"Head\"\n",
    "            elif ptr == self.tail:\n",
    "                node_type = \"Tail\"\n",
    "            else:\n",
    "                node_type = \"Node\"\n",
    "\n",
    "            str_representation += f\"{node_type}[{id(ptr.prev)}<-'{str(ptr.data)}'->{id(ptr.next)}]\"\n",
    "            if ptr.next:\n",
    "                str_representation += \" <=> \"\n",
    "            ptr = ptr.next\n",
    "\n",
    "        return str_representation"
   ]
  },
  {
   "cell_type": "code",
   "execution_count": 68,
   "metadata": {
    "tags": [
     "example"
    ]
   },
   "outputs": [
    {
     "name": "stdout",
     "output_type": "stream",
     "text": [
      "Raj\n"
     ]
    }
   ],
   "source": [
    "dll_node = Node(\"Raj\")\n",
    "print(dll_node)"
   ]
  },
  {
   "cell_type": "markdown",
   "metadata": {},
   "source": [
    "### Append Method"
   ]
  },
  {
   "cell_type": "code",
   "execution_count": 69,
   "metadata": {},
   "outputs": [],
   "source": [
    "def append(dll: DoublyLinkedList, value):\n",
    "    new_node = Node(value)\n",
    "\n",
    "    if dll.head is None or dll.length == 0:\n",
    "        dll.head = new_node\n",
    "        dll.tail = new_node\n",
    "    else:  \n",
    "        dll.tail.next = new_node\n",
    "        new_node.prev = dll.tail\n",
    "        dll.tail = new_node\n",
    "    dll.length += 1"
   ]
  },
  {
   "cell_type": "code",
   "execution_count": 70,
   "metadata": {},
   "outputs": [
    {
     "name": "stdout",
     "output_type": "stream",
     "text": [
      "\n",
      "None\n",
      "None\n",
      "0\n"
     ]
    }
   ],
   "source": [
    "dll = DoublyLinkedList()\n",
    "print(dll)\n",
    "print(dll.head)\n",
    "print(dll.tail)\n",
    "print(dll.length)"
   ]
  },
  {
   "cell_type": "code",
   "execution_count": 71,
   "metadata": {},
   "outputs": [
    {
     "name": "stdout",
     "output_type": "stream",
     "text": [
      "Head[104202741154496<-' '->136960174322640] <=> Node[136960174314528<-'S'->136960174240960] <=> Node[136960174322640<-'h'->136960174230256] <=> Node[136960174240960<-'u'->136960174237936] <=> Node[136960174230256<-'k'->136960195526224] <=> Node[136960174237936<-'l'->136960173716816] <=> Tail[136960195526224<-'a'->104202741154496]\n"
     ]
    }
   ],
   "source": [
    "for v in \" Shukla\":\n",
    "    append(dll, v)\n",
    "\n",
    "#Head->prev & Tail->next points to None in Doubly linked list, and check below both are address of \"None\" as evaluated in above cell\n",
    "print(dll)\n"
   ]
  },
  {
   "cell_type": "markdown",
   "metadata": {},
   "source": [
    "### prepend Method"
   ]
  },
  {
   "cell_type": "code",
   "execution_count": 72,
   "metadata": {},
   "outputs": [],
   "source": [
    "def prepend(dll: DoublyLinkedList, value):\n",
    "    new_node = Node(value)\n",
    "    ptr = dll.head\n",
    "\n",
    "    if dll.head is None or dll.length == 0:\n",
    "        dll.head = new_node\n",
    "        dll.tail = new_node\n",
    "    else:\n",
    "        dll.head.prev = new_node\n",
    "        new_node.next = dll.head\n",
    "        dll.head = new_node\n",
    "    dll.length += 1"
   ]
  },
  {
   "cell_type": "code",
   "execution_count": 73,
   "metadata": {},
   "outputs": [
    {
     "name": "stdout",
     "output_type": "stream",
     "text": [
      "Head[104202741154496<-'R'->136960173176768] <=> Node[136960173174272<-'a'->136960173166160] <=> Node[136960173176768<-'j'->136960173173888] <=> Node[136960173166160<-' '->136960173167216] <=> Node[136960173173888<-'K'->136960174314528] <=> Node[136960173167216<-' '->136960174322640] <=> Node[136960174314528<-'S'->136960174240960] <=> Node[136960174322640<-'h'->136960174230256] <=> Node[136960174240960<-'u'->136960174237936] <=> Node[136960174230256<-'k'->136960195526224] <=> Node[136960174237936<-'l'->136960173716816] <=> Tail[136960195526224<-'a'->104202741154496]\n"
     ]
    }
   ],
   "source": [
    "for v in \"Raj K\"[::-1]:\n",
    "    prepend(dll, v)\n",
    "\n",
    "print(dll)"
   ]
  },
  {
   "cell_type": "markdown",
   "metadata": {},
   "source": [
    "### Traverse Method"
   ]
  },
  {
   "cell_type": "code",
   "execution_count": 74,
   "metadata": {},
   "outputs": [],
   "source": [
    "def traverse(dll: DoublyLinkedList):\n",
    "    ptr = dll.head\n",
    "\n",
    "    while ptr:\n",
    "        print(ptr.data)\n",
    "        ptr = ptr.next\n",
    "        "
   ]
  },
  {
   "cell_type": "code",
   "execution_count": 75,
   "metadata": {},
   "outputs": [
    {
     "name": "stdout",
     "output_type": "stream",
     "text": [
      "R\n",
      "a\n",
      "j\n",
      " \n",
      "K\n",
      " \n",
      "S\n",
      "h\n",
      "u\n",
      "k\n",
      "l\n",
      "a\n"
     ]
    }
   ],
   "source": [
    "traverse(dll)"
   ]
  },
  {
   "cell_type": "markdown",
   "metadata": {},
   "source": [
    "### Reverse Traverse Method"
   ]
  },
  {
   "cell_type": "code",
   "execution_count": 76,
   "metadata": {},
   "outputs": [],
   "source": [
    "def reverse(dll: DoublyLinkedList):\n",
    "    ptr = dll.tail\n",
    "\n",
    "    while ptr:\n",
    "        print(ptr.data)\n",
    "        ptr = ptr.prev"
   ]
  },
  {
   "cell_type": "code",
   "execution_count": 77,
   "metadata": {},
   "outputs": [
    {
     "name": "stdout",
     "output_type": "stream",
     "text": [
      "a\n",
      "l\n",
      "k\n",
      "u\n",
      "h\n",
      "S\n",
      " \n",
      "K\n",
      " \n",
      "j\n",
      "a\n",
      "R\n"
     ]
    }
   ],
   "source": [
    "reverse(dll)"
   ]
  },
  {
   "cell_type": "markdown",
   "metadata": {},
   "source": [
    "### Search Method"
   ]
  },
  {
   "cell_type": "code",
   "execution_count": 78,
   "metadata": {},
   "outputs": [],
   "source": [
    "def search(dll: DoublyLinkedList, value):\n",
    "    ptr = dll.head\n",
    "    idx = 0\n",
    "\n",
    "    while ptr:\n",
    "        if ptr.data == value:\n",
    "            return f\"value={value} found at index-{idx}\"\n",
    "        ptr = ptr.next\n",
    "        idx += 1\n",
    "    return \"Value not exist\""
   ]
  },
  {
   "cell_type": "code",
   "execution_count": 79,
   "metadata": {},
   "outputs": [
    {
     "name": "stdout",
     "output_type": "stream",
     "text": [
      "value=R found at index-0\n",
      "value=  found at index-3\n",
      "value=K found at index-4\n",
      "value=  found at index-3\n",
      "value=l found at index-10\n",
      "Value not exist\n"
     ]
    }
   ],
   "source": [
    "print(search(dll, 'R'))\n",
    "print(search(dll, ' '))\n",
    "print(search(dll, 'K'))\n",
    "print(search(dll, ' '))\n",
    "print(search(dll, 'l'))\n",
    "print(search(dll, 'Z'))"
   ]
  },
  {
   "cell_type": "markdown",
   "metadata": {},
   "source": [
    "### Get method"
   ]
  },
  {
   "cell_type": "code",
   "execution_count": 80,
   "metadata": {},
   "outputs": [],
   "source": [
    "#In python -1 = end element, except -1 and < 0 considered to return Head, >= length considered to return Tail always\n",
    "#Only int allowed as idx\n",
    "def get(dll: DoublyLinkedList, idx):\n",
    "    assert int(idx) == idx, \"Incorrect Index\"\n",
    "    if idx <= 0 and idx != -1:\n",
    "        ptr = dll.head\n",
    "    elif idx == -1 or idx >= dll.length:\n",
    "        ptr = dll.tail\n",
    "    elif idx < dll.length // 2:\n",
    "        ptr = dll.head\n",
    "        for _ in range(idx):\n",
    "            ptr = ptr.next\n",
    "    else:\n",
    "        ptr = dll.tail\n",
    "        for _ in range(dll.length-1, idx, -1):\n",
    "            ptr = ptr.prev\n",
    "    return ptr"
   ]
  },
  {
   "cell_type": "code",
   "execution_count": 81,
   "metadata": {},
   "outputs": [
    {
     "name": "stdout",
     "output_type": "stream",
     "text": [
      "R\n",
      "R\n",
      "R\n",
      "a\n",
      "j\n",
      " \n",
      "K\n",
      " \n",
      "S\n",
      "Length of Doubly Linked List=12\n",
      "a\n",
      "a\n",
      "a\n"
     ]
    }
   ],
   "source": [
    "#ways to get Head\n",
    "print(get(dll, -5))\n",
    "print(get(dll, 0))\n",
    "print(get(dll, -999))\n",
    "\n",
    "#ways to get in between Node, Node is returning value here coz of __str_ in Node class\n",
    "print(get(dll, 1))\n",
    "print(get(dll, 2))\n",
    "print(get(dll, 3))\n",
    "print(get(dll, 4))\n",
    "print(get(dll, 5))\n",
    "print(get(dll, 6))\n",
    "\n",
    "#ways to get Tail Node\n",
    "print(f\"Length of Doubly Linked List={dll.length}\")\n",
    "print(get(dll, -1))\n",
    "print(get(dll, 12))\n",
    "print(get(dll, 562))\n"
   ]
  },
  {
   "cell_type": "markdown",
   "metadata": {},
   "source": [
    "### Set Method"
   ]
  },
  {
   "cell_type": "code",
   "execution_count": 82,
   "metadata": {},
   "outputs": [],
   "source": [
    "def set(dll: DoublyLinkedList, idx, value):\n",
    "    node_to_set = get(dll, idx)\n",
    "    if node_to_set:\n",
    "        node_to_set.data = value\n",
    "        return True\n",
    "    return False"
   ]
  },
  {
   "cell_type": "code",
   "execution_count": 83,
   "metadata": {},
   "outputs": [
    {
     "name": "stdout",
     "output_type": "stream",
     "text": [
      "Head[104202741154496<-'R'->136960173176768] <=> Node[136960173174272<-'a'->136960173166160] <=> Node[136960173176768<-'j'->136960173173888] <=> Node[136960173166160<-' '->136960173167216] <=> Node[136960173173888<-'K'->136960174314528] <=> Node[136960173167216<-' '->136960174322640] <=> Node[136960174314528<-'S'->136960174240960] <=> Node[136960174322640<-'h'->136960174230256] <=> Node[136960174240960<-'u'->136960174237936] <=> Node[136960174230256<-'k'->136960195526224] <=> Node[136960174237936<-'l'->136960173716816] <=> Tail[136960195526224<-'a'->104202741154496]\n",
      "Head[104202741154496<-'R'->136960173176768] <=> Node[136960173174272<-'a'->136960173166160] <=> Node[136960173176768<-'j'->136960173173888] <=> Node[136960173166160<-' '->136960173167216] <=> Node[136960173173888<-'k'->136960174314528] <=> Node[136960173167216<-' '->136960174322640] <=> Node[136960174314528<-'s'->136960174240960] <=> Node[136960174322640<-'h'->136960174230256] <=> Node[136960174240960<-'u'->136960174237936] <=> Node[136960174230256<-'k'->136960195526224] <=> Node[136960174237936<-'l'->136960173716816] <=> Tail[136960195526224<-'a'->104202741154496]\n",
      "Head[104202741154496<-'R'->136960173176768] <=> Node[136960173174272<-'a'->136960173166160] <=> Node[136960173176768<-'j'->136960173173888] <=> Node[136960173166160<-' '->136960173167216] <=> Node[136960173173888<-'k'->136960174314528] <=> Node[136960173167216<-' '->136960174322640] <=> Node[136960174314528<-'s'->136960174240960] <=> Node[136960174322640<-'h'->136960174230256] <=> Node[136960174240960<-'u'->136960174237936] <=> Node[136960174230256<-'k'->136960195526224] <=> Node[136960174237936<-'l'->136960173716816] <=> Tail[136960195526224<-'a'->104202741154496]\n",
      "Head[104202741154496<-'R'->136960173176768] <=> Node[136960173174272<-'a'->136960173166160] <=> Node[136960173176768<-'j'->136960173173888] <=> Node[136960173166160<-' '->136960173167216] <=> Node[136960173173888<-'K'->136960174314528] <=> Node[136960173167216<-' '->136960174322640] <=> Node[136960174314528<-'S'->136960174240960] <=> Node[136960174322640<-'h'->136960174230256] <=> Node[136960174240960<-'u'->136960174237936] <=> Node[136960174230256<-'k'->136960195526224] <=> Node[136960174237936<-'l'->136960173716816] <=> Tail[136960195526224<-'a'->104202741154496]\n"
     ]
    }
   ],
   "source": [
    "print(dll)\n",
    "set(dll, 4, 'k')\n",
    "set(dll, 6, 's')\n",
    "print(dll)\n",
    "set(dll, -1, 'A')\n",
    "set(dll, 568, 'a')\n",
    "print(dll)\n",
    "set(dll, 0, 'r')\n",
    "set(dll, -568, 'R')\n",
    "set(dll, 4, 'K')\n",
    "set(dll, 6, 'S')\n",
    "print(dll)"
   ]
  },
  {
   "cell_type": "markdown",
   "metadata": {},
   "source": [
    "### Insert Method"
   ]
  },
  {
   "cell_type": "code",
   "execution_count": 84,
   "metadata": {},
   "outputs": [],
   "source": [
    "def insert(dll: DoublyLinkedList, idx, value):\n",
    "    new_node = Node(value)\n",
    "\n",
    "    if idx <=0 and idx != -1:\n",
    "        prepend(dll, value)\n",
    "    elif idx >= dll.length or idx == -1:\n",
    "        append(dll, value)\n",
    "    else:\n",
    "        prev_node = get(dll, idx-1)\n",
    "        new_node.next = prev_node.next\n",
    "        new_node.prev = prev_node\n",
    "        new_node.next.prev = new_node\n",
    "        prev_node.next = new_node\n",
    "    dll.length += 1"
   ]
  },
  {
   "cell_type": "code",
   "execution_count": 85,
   "metadata": {},
   "outputs": [
    {
     "name": "stdout",
     "output_type": "stream",
     "text": [
      "Head[104202741154496<-'R'->136960173176768] <=> Node[136960173174272<-'a'->136960173166160] <=> Node[136960173176768<-'j'->136960173173888] <=> Node[136960173166160<-' '->136960173167216] <=> Node[136960173173888<-'K'->136960174314528] <=> Node[136960173167216<-' '->136960174322640] <=> Node[136960174314528<-'S'->136960174240960] <=> Node[136960174322640<-'h'->136960174230256] <=> Node[136960174240960<-'u'->136960174237936] <=> Node[136960174230256<-'k'->136960195526224] <=> Node[136960174237936<-'l'->136960173716816] <=> Tail[136960195526224<-'a'->104202741154496]\n",
      "Head[104202741154496<-'M'->136960175661568] <=> Node[136960175657248<-'r. '->136960173174272] <=> Node[136960175661568<-'R'->136960173176768] <=> Node[136960173174272<-'a'->136960173166160] <=> Node[136960173176768<-'j'->136960173173888] <=> Node[136960173166160<-' '->136960173167216] <=> Node[136960173173888<-'K'->136960175662432] <=> Node[136960173167216<-'u'->136960175659216] <=> Node[136960175662432<-'m'->136960175662672] <=> Node[136960175659216<-'a'->136960175660512] <=> Node[136960175662672<-'r'->136960174314528] <=> Node[136960175660512<-' '->136960174322640] <=> Node[136960174314528<-'S'->136960174240960] <=> Node[136960174322640<-'h'->136960174230256] <=> Node[136960174240960<-'u'->136960174237936] <=> Node[136960174230256<-'k'->136960195526224] <=> Node[136960174237936<-'l'->136960173716816] <=> Node[136960195526224<-'a'->136960175662288] <=> Node[136960173716816<-' '->136960175662624] <=> Node[136960175662288<-'M'->136960175664352] <=> Tail[136960175662624<-'H'->104202741154496]\n"
     ]
    }
   ],
   "source": [
    "print(dll)\n",
    "#always first insert values in between then Head/Tail position\n",
    "insert(dll, 5, \"u\")\n",
    "insert(dll, 6, \"m\")\n",
    "insert(dll, 7, \"a\")\n",
    "insert(dll, 8, \"r\")\n",
    "\n",
    "insert(dll, 0, \"r. \")\n",
    "insert(dll, -365, \"M\")\n",
    "\n",
    "insert(dll, dll.length, \" \")\n",
    "insert(dll, -1, \"M\")\n",
    "insert(dll, 365, \"H\")\n",
    "print(dll)"
   ]
  },
  {
   "cell_type": "code",
   "execution_count": 86,
   "metadata": {
    "tags": [
     "to check insertion successful in the required order"
    ]
   },
   "outputs": [
    {
     "name": "stdout",
     "output_type": "stream",
     "text": [
      "Mr. Raj Kumar Shukla MH\n"
     ]
    }
   ],
   "source": [
    "start = dll.head\n",
    "output = \"\"\n",
    "while start:\n",
    "    output += f\"{start.data}\"\n",
    "    start = start.next\n",
    "print(output)"
   ]
  },
  {
   "cell_type": "markdown",
   "metadata": {},
   "source": [
    "### pop_first method"
   ]
  },
  {
   "cell_type": "code",
   "execution_count": 87,
   "metadata": {},
   "outputs": [],
   "source": [
    "def pop_first(dll: DoublyLinkedList):\n",
    "    popped_node = dll.head    \n",
    "    if dll.head is None or dll.length == 0:\n",
    "        return None\n",
    "    elif dll.length == 1:\n",
    "        dll.head = None\n",
    "        dll.tail = None\n",
    "    else:\n",
    "        dll.head = popped_node.next\n",
    "        popped_node.next.prev = None #OR dll.head.prev = None, coz HEAD is now shifted\n",
    "        popped_node.next = None\n",
    "    dll.length -= 1\n",
    "    return popped_node"
   ]
  },
  {
   "cell_type": "code",
   "execution_count": 88,
   "metadata": {},
   "outputs": [
    {
     "name": "stdout",
     "output_type": "stream",
     "text": [
      "Head[104202741154496<-'M'->136960175661568] <=> Node[136960175657248<-'r. '->136960173174272] <=> Node[136960175661568<-'R'->136960173176768] <=> Node[136960173174272<-'a'->136960173166160] <=> Node[136960173176768<-'j'->136960173173888] <=> Node[136960173166160<-' '->136960173167216] <=> Node[136960173173888<-'K'->136960175662432] <=> Node[136960173167216<-'u'->136960175659216] <=> Node[136960175662432<-'m'->136960175662672] <=> Node[136960175659216<-'a'->136960175660512] <=> Node[136960175662672<-'r'->136960174314528] <=> Node[136960175660512<-' '->136960174322640] <=> Node[136960174314528<-'S'->136960174240960] <=> Node[136960174322640<-'h'->136960174230256] <=> Node[136960174240960<-'u'->136960174237936] <=> Node[136960174230256<-'k'->136960195526224] <=> Node[136960174237936<-'l'->136960173716816] <=> Node[136960195526224<-'a'->136960175662288] <=> Node[136960173716816<-' '->136960175662624] <=> Node[136960175662288<-'M'->136960175664352] <=> Tail[136960175662624<-'H'->104202741154496]\n"
     ]
    }
   ],
   "source": [
    "print(dll)"
   ]
  },
  {
   "cell_type": "code",
   "execution_count": 89,
   "metadata": {},
   "outputs": [
    {
     "name": "stdout",
     "output_type": "stream",
     "text": [
      "Head[104202741154496<-'R'->136960173176768] <=> Node[136960173174272<-'a'->136960173166160] <=> Node[136960173176768<-'j'->136960173173888] <=> Node[136960173166160<-' '->136960173167216] <=> Node[136960173173888<-'K'->136960175662432] <=> Node[136960173167216<-'u'->136960175659216] <=> Node[136960175662432<-'m'->136960175662672] <=> Node[136960175659216<-'a'->136960175660512] <=> Node[136960175662672<-'r'->136960174314528] <=> Node[136960175660512<-' '->136960174322640] <=> Node[136960174314528<-'S'->136960174240960] <=> Node[136960174322640<-'h'->136960174230256] <=> Node[136960174240960<-'u'->136960174237936] <=> Node[136960174230256<-'k'->136960195526224] <=> Node[136960174237936<-'l'->136960173716816] <=> Node[136960195526224<-'a'->136960175662288] <=> Node[136960173716816<-' '->136960175662624] <=> Node[136960175662288<-'M'->136960175664352] <=> Tail[136960175662624<-'H'->104202741154496]\n"
     ]
    }
   ],
   "source": [
    "pop_first(dll)\n",
    "pop_first(dll)\n",
    "print(dll)"
   ]
  },
  {
   "cell_type": "code",
   "execution_count": 90,
   "metadata": {},
   "outputs": [
    {
     "name": "stdout",
     "output_type": "stream",
     "text": [
      "Raj Kumar Shukla MH\n"
     ]
    }
   ],
   "source": [
    "start = dll.head\n",
    "output = \"\"\n",
    "while start:\n",
    "    output += f\"{start.data}\"\n",
    "    start = start.next\n",
    "print(output)"
   ]
  },
  {
   "cell_type": "markdown",
   "metadata": {},
   "source": [
    "### pop Method"
   ]
  },
  {
   "cell_type": "code",
   "execution_count": 91,
   "metadata": {},
   "outputs": [],
   "source": [
    "def pop(dll: DoublyLinkedList):\n",
    "    popped_node = dll.tail\n",
    "    if dll.tail is None or dll.length == 0:\n",
    "        return None\n",
    "    elif dll.length == 1:\n",
    "        dll.head = None\n",
    "        dll.tail = None\n",
    "    else:\n",
    "        dll.tail = popped_node.prev\n",
    "        dll.tail.next = None #OR popped_node.prev.next = None\n",
    "        popped_node.prev = None\n",
    "    dll.length -= 1\n",
    "    return popped_node    "
   ]
  },
  {
   "cell_type": "code",
   "execution_count": 92,
   "metadata": {},
   "outputs": [
    {
     "name": "stdout",
     "output_type": "stream",
     "text": [
      "Head[104202741154496<-'R'->136960173176768] <=> Node[136960173174272<-'a'->136960173166160] <=> Node[136960173176768<-'j'->136960173173888] <=> Node[136960173166160<-' '->136960173167216] <=> Node[136960173173888<-'K'->136960175662432] <=> Node[136960173167216<-'u'->136960175659216] <=> Node[136960175662432<-'m'->136960175662672] <=> Node[136960175659216<-'a'->136960175660512] <=> Node[136960175662672<-'r'->136960174314528] <=> Node[136960175660512<-' '->136960174322640] <=> Node[136960174314528<-'S'->136960174240960] <=> Node[136960174322640<-'h'->136960174230256] <=> Node[136960174240960<-'u'->136960174237936] <=> Node[136960174230256<-'k'->136960195526224] <=> Node[136960174237936<-'l'->136960173716816] <=> Node[136960195526224<-'a'->136960175662288] <=> Node[136960173716816<-' '->136960175662624] <=> Node[136960175662288<-'M'->136960175664352] <=> Tail[136960175662624<-'H'->104202741154496]\n",
      "Head[104202741154496<-'R'->136960173176768] <=> Node[136960173174272<-'a'->136960173166160] <=> Node[136960173176768<-'j'->136960173173888] <=> Node[136960173166160<-' '->136960173167216] <=> Node[136960173173888<-'K'->136960175662432] <=> Node[136960173167216<-'u'->136960175659216] <=> Node[136960175662432<-'m'->136960175662672] <=> Node[136960175659216<-'a'->136960175660512] <=> Node[136960175662672<-'r'->136960174314528] <=> Node[136960175660512<-' '->136960174322640] <=> Node[136960174314528<-'S'->136960174240960] <=> Node[136960174322640<-'h'->136960174230256] <=> Node[136960174240960<-'u'->136960174237936] <=> Node[136960174230256<-'k'->136960195526224] <=> Node[136960174237936<-'l'->136960173716816] <=> Tail[136960195526224<-'a'->104202741154496]\n"
     ]
    }
   ],
   "source": [
    "print(dll)\n",
    "pop(dll)\n",
    "pop(dll)\n",
    "pop(dll)\n",
    "print(dll)"
   ]
  },
  {
   "cell_type": "code",
   "execution_count": 93,
   "metadata": {},
   "outputs": [
    {
     "name": "stdout",
     "output_type": "stream",
     "text": [
      "Raj Kumar Shukla\n"
     ]
    }
   ],
   "source": [
    "start = dll.head\n",
    "output = \"\"\n",
    "while start:\n",
    "    output += f\"{start.data}\"\n",
    "    start = start.next\n",
    "print(output)"
   ]
  },
  {
   "cell_type": "markdown",
   "metadata": {},
   "source": [
    "### Remove Method"
   ]
  },
  {
   "cell_type": "code",
   "execution_count": 94,
   "metadata": {},
   "outputs": [],
   "source": [
    "def remove(dll: DoublyLinkedList, idx):\n",
    "    node_to_remove = get(dll, idx)\n",
    "\n",
    "    if dll.length == 0:\n",
    "        return None\n",
    "    elif dll.length == 1:\n",
    "        dll.head = None\n",
    "        dll.tail = None\n",
    "    else:\n",
    "        node_to_remove.prev.next = node_to_remove.next\n",
    "        node_to_remove.next.prev = node_to_remove.prev\n",
    "\n",
    "        node_to_remove.next = None\n",
    "        node_to_remove.prev = None\n",
    "    dll.length -= 1\n",
    "    return node_to_remove"
   ]
  },
  {
   "cell_type": "code",
   "execution_count": 95,
   "metadata": {},
   "outputs": [
    {
     "name": "stdout",
     "output_type": "stream",
     "text": [
      "Head[104202741154496<-'R'->136960173176768] <=> Node[136960173174272<-'a'->136960173166160] <=> Node[136960173176768<-'j'->136960173173888] <=> Node[136960173166160<-' '->136960173167216] <=> Node[136960173173888<-'K'->136960174314528] <=> Node[136960173167216<-' '->136960174322640] <=> Node[136960174314528<-'S'->136960174240960] <=> Node[136960174322640<-'h'->136960174230256] <=> Node[136960174240960<-'u'->136960174237936] <=> Node[136960174230256<-'k'->136960195526224] <=> Node[136960174237936<-'l'->136960173716816] <=> Tail[136960195526224<-'a'->104202741154496]\n"
     ]
    }
   ],
   "source": [
    "remove(dll, 5)\n",
    "remove(dll, 5)\n",
    "remove(dll, 5)\n",
    "remove(dll, 5)\n",
    "print(dll)"
   ]
  },
  {
   "cell_type": "code",
   "execution_count": 96,
   "metadata": {},
   "outputs": [
    {
     "name": "stdout",
     "output_type": "stream",
     "text": [
      "Raj K Shukla\n"
     ]
    }
   ],
   "source": [
    "start = dll.head\n",
    "output = \"\"\n",
    "while start:\n",
    "    output += f\"{start.data}\"\n",
    "    start = start.next\n",
    "print(output)"
   ]
  },
  {
   "cell_type": "code",
   "execution_count": null,
   "metadata": {},
   "outputs": [],
   "source": []
  }
 ],
 "metadata": {
  "kernelspec": {
   "display_name": "Python 3",
   "language": "python",
   "name": "python3"
  },
  "language_info": {
   "codemirror_mode": {
    "name": "ipython",
    "version": 3
   },
   "file_extension": ".py",
   "mimetype": "text/x-python",
   "name": "python",
   "nbconvert_exporter": "python",
   "pygments_lexer": "ipython3",
   "version": "3.10.13"
  }
 },
 "nbformat": 4,
 "nbformat_minor": 2
}
