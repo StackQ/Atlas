{
 "cells": [
  {
   "cell_type": "markdown",
   "metadata": {},
   "source": [
    "# Circular Singly Linked List"
   ]
  },
  {
   "cell_type": "code",
   "execution_count": 151,
   "metadata": {},
   "outputs": [],
   "source": [
    "class Node:\n",
    "    def __init__(self, data) -> None:\n",
    "        self.data = data\n",
    "        self.next = None\n",
    "\n",
    "    def __str__(self) -> str:\n",
    "        return str(self.data)\n",
    "\n",
    "class CSLinkedList:\n",
    "    def __init__(self, value=None) -> None:\n",
    "        #To create empty Circluar singly linked list\n",
    "        if not value:\n",
    "            self.head = None\n",
    "            self.tail = None\n",
    "            self.length = 0\n",
    "        #To create Circular Singly Linked List with Nodes\n",
    "        else:\n",
    "            new_node = Node(value)\n",
    "            new_node.next = new_node\n",
    "\n",
    "            self.head = new_node\n",
    "            self.tail = new_node\n",
    "            self.length = 1\n",
    "\n",
    "    def __str__(self) -> str:\n",
    "        t_node = self.head\n",
    "        str_representation = \"\"\n",
    "\n",
    "        while t_node:\n",
    "            if t_node == self.head:\n",
    "                node_type = \"Head\"\n",
    "            elif t_node == self.tail:\n",
    "                node_type = \"Tail\"\n",
    "            else:\n",
    "                node_type = \"Node\"\n",
    "\n",
    "            str_representation += f\"{node_type}[{t_node.data}, next={id(t_node.next)}]\"\n",
    "            t_node = t_node.next\n",
    "            \n",
    "            if t_node == self.head:\n",
    "                break\n",
    "            str_representation += \" -> \"\n",
    "            \n",
    "        return str_representation"
   ]
  },
  {
   "cell_type": "code",
   "execution_count": 152,
   "metadata": {
    "tags": [
     "Empty Circular Singly Linked List"
    ]
   },
   "outputs": [
    {
     "name": "stdout",
     "output_type": "stream",
     "text": [
      "\n",
      "None\n",
      "None\n",
      "0\n"
     ]
    }
   ],
   "source": [
    "empty_cs_linkedlist = CSLinkedList()\n",
    "print(empty_cs_linkedlist)\n",
    "print(empty_cs_linkedlist.head)\n",
    "print(empty_cs_linkedlist.tail)\n",
    "print(empty_cs_linkedlist.length)"
   ]
  },
  {
   "cell_type": "code",
   "execution_count": 153,
   "metadata": {
    "tags": [
     "Circular Singly Linked List with one Node"
    ]
   },
   "outputs": [
    {
     "name": "stdout",
     "output_type": "stream",
     "text": [
      "Head[10, next=132580712330768]\n",
      "10\n",
      "10\n",
      "1\n"
     ]
    }
   ],
   "source": [
    "new_cs_linkedlist = CSLinkedList(10)\n",
    "print(new_cs_linkedlist)\n",
    "print(new_cs_linkedlist.head.data)\n",
    "print(new_cs_linkedlist.tail.data)\n",
    "print(new_cs_linkedlist.length)"
   ]
  },
  {
   "cell_type": "markdown",
   "metadata": {},
   "source": [
    "### Append Method"
   ]
  },
  {
   "cell_type": "code",
   "execution_count": 154,
   "metadata": {},
   "outputs": [],
   "source": [
    "def append(CSLinkedList: CSLinkedList, value):\n",
    "    new_node = Node(value)\n",
    "\n",
    "    if CSLinkedList.length == 0:\n",
    "        CSLinkedList.head = new_node\n",
    "        CSLinkedList.tail = new_node\n",
    "        new_node.next = new_node\n",
    "    else:\n",
    "        CSLinkedList.tail.next = new_node\n",
    "        new_node.next = CSLinkedList.head\n",
    "        CSLinkedList.tail = new_node\n",
    "\n",
    "    CSLinkedList.length += 1"
   ]
  },
  {
   "cell_type": "code",
   "execution_count": 155,
   "metadata": {},
   "outputs": [
    {
     "name": "stdout",
     "output_type": "stream",
     "text": [
      "Head[40, next=132580712320400] -> Node[60, next=132580712324288] -> Tail[80, next=132580712328752]\n"
     ]
    }
   ],
   "source": [
    "cs_linkedlist = CSLinkedList()\n",
    "append(cs_linkedlist, 40)\n",
    "append(cs_linkedlist, 60)\n",
    "append(cs_linkedlist, 80)\n",
    "print(cs_linkedlist)"
   ]
  },
  {
   "cell_type": "markdown",
   "metadata": {},
   "source": [
    "## Prepend method"
   ]
  },
  {
   "cell_type": "code",
   "execution_count": 156,
   "metadata": {},
   "outputs": [],
   "source": [
    "def prepend(CSLinkedList: CSLinkedList, value):\n",
    "    new_node = Node(value)\n",
    "\n",
    "    if CSLinkedList.length == 0 or CSLinkedList.head is None:\n",
    "        CSLinkedList.head = new_node\n",
    "        CSLinkedList.tail = new_node\n",
    "        new_node.next = new_node\n",
    "    else:\n",
    "        new_node.next = CSLinkedList.head\n",
    "        CSLinkedList.head = new_node\n",
    "        CSLinkedList.tail.next = new_node\n",
    "    CSLinkedList.length += 1"
   ]
  },
  {
   "cell_type": "code",
   "execution_count": 157,
   "metadata": {},
   "outputs": [
    {
     "name": "stdout",
     "output_type": "stream",
     "text": [
      "Head[40, next=132580712320400] -> Node[60, next=132580712324288] -> Tail[80, next=132580712328752]\n",
      "Head[20, next=132580712328752] -> Node[40, next=132580712320400] -> Node[60, next=132580712324288] -> Tail[80, next=132580710566448]\n"
     ]
    }
   ],
   "source": [
    "print(cs_linkedlist)\n",
    "prepend(cs_linkedlist, 20)\n",
    "print(cs_linkedlist)"
   ]
  },
  {
   "cell_type": "markdown",
   "metadata": {},
   "source": [
    "## Insert Method"
   ]
  },
  {
   "cell_type": "code",
   "execution_count": 158,
   "metadata": {},
   "outputs": [],
   "source": [
    "from operator import length_hint\n",
    "\n",
    "\n",
    "def insert(CSLinkedList: CSLinkedList, idx, value):\n",
    "    assert idx >= 0 and int(idx) == idx, \"Incorrect Index\"\n",
    "\n",
    "    new_node = Node(value)\n",
    "    if idx == 0:\n",
    "        if CSLinkedList.length == 0:\n",
    "            CSLinkedList.head = new_node\n",
    "            CSLinkedList.tail = new_node\n",
    "            new_node.next = new_node\n",
    "        else:\n",
    "            new_node.next = CSLinkedList.head\n",
    "            CSLinkedList.head = new_node\n",
    "            CSLinkedList.tail.next = new_node\n",
    "    elif idx > CSLinkedList.length or idx == CSLinkedList.length:\n",
    "        new_node.next = CSLinkedList.head\n",
    "        CSLinkedList.tail.next = new_node\n",
    "        CSLinkedList.tail = new_node\n",
    "    else:\n",
    "        ptr_node = CSLinkedList.head\n",
    "        for _ in range(idx - 1):\n",
    "            ptr_node = ptr_node.next\n",
    "        \n",
    "        new_node.next = ptr_node.next\n",
    "        ptr_node.next = new_node\n",
    "\n",
    "    CSLinkedList.length += 1"
   ]
  },
  {
   "cell_type": "code",
   "execution_count": 159,
   "metadata": {},
   "outputs": [
    {
     "name": "stdout",
     "output_type": "stream",
     "text": [
      "Head[20, next=132580712328752] -> Node[40, next=132580712320400] -> Node[60, next=132580712324288] -> Tail[80, next=132580710566448]\n",
      "4\n"
     ]
    }
   ],
   "source": [
    "print(cs_linkedlist)\n",
    "print(cs_linkedlist.length)"
   ]
  },
  {
   "cell_type": "code",
   "execution_count": 160,
   "metadata": {},
   "outputs": [
    {
     "name": "stdout",
     "output_type": "stream",
     "text": [
      "Head[20, next=132580712328752] -> Node[40, next=132580712320400] -> Node[60, next=132580712324288] -> Tail[80, next=132580710566448]\n",
      "Head[10, next=132580710566448] -> Node[20, next=132580712328752] -> Node[40, next=132580712290848] -> Node[50, next=132580712320400] -> Node[60, next=132580712324288] -> Node[80, next=132580712292336] -> Node[90, next=132580712324336] -> Tail[100, next=132580712325632]\n"
     ]
    }
   ],
   "source": [
    "print(cs_linkedlist)\n",
    "insert(cs_linkedlist, 4, 90)\n",
    "insert(cs_linkedlist, 2, 50)\n",
    "insert(cs_linkedlist, 0, 10)\n",
    "insert(cs_linkedlist, 999, 100)\n",
    "print(cs_linkedlist)"
   ]
  },
  {
   "cell_type": "code",
   "execution_count": 161,
   "metadata": {},
   "outputs": [
    {
     "ename": "AssertionError",
     "evalue": "Incorrect Index",
     "output_type": "error",
     "traceback": [
      "\u001b[0;31m---------------------------------------------------------------------------\u001b[0m",
      "\u001b[0;31mAssertionError\u001b[0m                            Traceback (most recent call last)",
      "Cell \u001b[0;32mIn[161], line 1\u001b[0m\n\u001b[0;32m----> 1\u001b[0m \u001b[43minsert\u001b[49m\u001b[43m(\u001b[49m\u001b[43mcs_linkedlist\u001b[49m\u001b[43m,\u001b[49m\u001b[43m \u001b[49m\u001b[38;5;241;43m-\u001b[39;49m\u001b[38;5;241;43m5\u001b[39;49m\u001b[43m,\u001b[49m\u001b[43m \u001b[49m\u001b[38;5;241;43m100\u001b[39;49m\u001b[43m)\u001b[49m\n",
      "Cell \u001b[0;32mIn[158], line 5\u001b[0m, in \u001b[0;36minsert\u001b[0;34m(CSLinkedList, idx, value)\u001b[0m\n\u001b[1;32m      4\u001b[0m \u001b[38;5;28;01mdef\u001b[39;00m \u001b[38;5;21minsert\u001b[39m(CSLinkedList: CSLinkedList, idx, value):\n\u001b[0;32m----> 5\u001b[0m     \u001b[38;5;28;01massert\u001b[39;00m idx \u001b[38;5;241m>\u001b[39m\u001b[38;5;241m=\u001b[39m \u001b[38;5;241m0\u001b[39m \u001b[38;5;129;01mand\u001b[39;00m \u001b[38;5;28mint\u001b[39m(idx) \u001b[38;5;241m==\u001b[39m idx, \u001b[38;5;124m\"\u001b[39m\u001b[38;5;124mIncorrect Index\u001b[39m\u001b[38;5;124m\"\u001b[39m\n\u001b[1;32m      7\u001b[0m     new_node \u001b[38;5;241m=\u001b[39m Node(value)\n\u001b[1;32m      8\u001b[0m     \u001b[38;5;28;01mif\u001b[39;00m idx \u001b[38;5;241m==\u001b[39m \u001b[38;5;241m0\u001b[39m:\n",
      "\u001b[0;31mAssertionError\u001b[0m: Incorrect Index"
     ]
    }
   ],
   "source": [
    "insert(cs_linkedlist, -5, 100)"
   ]
  },
  {
   "cell_type": "markdown",
   "metadata": {},
   "source": [
    "## Traversal"
   ]
  },
  {
   "cell_type": "code",
   "execution_count": 162,
   "metadata": {},
   "outputs": [],
   "source": [
    "def traverse(CSLinkedList: CSLinkedList):\n",
    "    ptr_node = CSLinkedList.head\n",
    "    \n",
    "    while ptr_node:\n",
    "        print(ptr_node.data)\n",
    "        ptr_node = ptr_node.next\n",
    "        if ptr_node == CSLinkedList.head:\n",
    "            break"
   ]
  },
  {
   "cell_type": "code",
   "execution_count": 163,
   "metadata": {},
   "outputs": [],
   "source": [
    "traverse(empty_cs_linkedlist)"
   ]
  },
  {
   "cell_type": "code",
   "execution_count": 164,
   "metadata": {},
   "outputs": [
    {
     "name": "stdout",
     "output_type": "stream",
     "text": [
      "10\n",
      "20\n",
      "40\n",
      "50\n",
      "60\n",
      "80\n",
      "90\n",
      "100\n"
     ]
    }
   ],
   "source": [
    "traverse(cs_linkedlist)"
   ]
  },
  {
   "cell_type": "markdown",
   "metadata": {},
   "source": [
    "## Search Method"
   ]
  },
  {
   "cell_type": "code",
   "execution_count": 165,
   "metadata": {},
   "outputs": [],
   "source": [
    "def search(CSLinkedList: CSLinkedList, value):\n",
    "    ptr_node = CSLinkedList.head\n",
    "    idx = 0\n",
    "\n",
    "    while ptr_node:\n",
    "        if ptr_node.data == value:\n",
    "            print(f\"value={value} availabe at index-{idx}\")\n",
    "        ptr_node = ptr_node.next\n",
    "        idx += 1\n",
    "\n",
    "        if ptr_node == CSLinkedList.head:\n",
    "            break"
   ]
  },
  {
   "cell_type": "code",
   "execution_count": 166,
   "metadata": {},
   "outputs": [
    {
     "name": "stdout",
     "output_type": "stream",
     "text": [
      "Head[10, next=132580710566448] -> Node[20, next=132580712328752] -> Node[40, next=132580712290848] -> Node[50, next=132580712320400] -> Node[60, next=132580712324288] -> Node[80, next=132580712292336] -> Node[90, next=132580712324336] -> Tail[100, next=132580712325632]\n",
      "value=10 availabe at index-0\n",
      "value=20 availabe at index-1\n",
      "value=40 availabe at index-2\n",
      "value=50 availabe at index-3\n",
      "value=60 availabe at index-4\n",
      "value=80 availabe at index-5\n",
      "value=90 availabe at index-6\n",
      "value=100 availabe at index-7\n"
     ]
    }
   ],
   "source": [
    "print(cs_linkedlist)\n",
    "search(cs_linkedlist, 10)\n",
    "search(cs_linkedlist, 20)\n",
    "search(cs_linkedlist, 40)\n",
    "search(cs_linkedlist, 50)\n",
    "search(cs_linkedlist, 60)\n",
    "search(cs_linkedlist, 80)\n",
    "search(cs_linkedlist, 90)\n",
    "search(cs_linkedlist, 100)"
   ]
  },
  {
   "cell_type": "markdown",
   "metadata": {},
   "source": [
    "## Get Method"
   ]
  },
  {
   "cell_type": "code",
   "execution_count": 167,
   "metadata": {},
   "outputs": [],
   "source": [
    "def get(CSLinkedList: CSLinkedList, idx):\n",
    "    assert int(idx) == idx, \"Incorrect Index\"\n",
    "    ptr_node = CSLinkedList.head\n",
    "\n",
    "    if idx < -1:\n",
    "        idx = 0\n",
    "    elif idx > CSLinkedList.length or idx == -1:\n",
    "        idx = CSLinkedList.length - 1\n",
    "    else:\n",
    "        pass\n",
    "\n",
    "    for _ in range(idx):\n",
    "        ptr_node = ptr_node.next\n",
    "    return ptr_node"
   ]
  },
  {
   "cell_type": "code",
   "execution_count": 168,
   "metadata": {},
   "outputs": [
    {
     "name": "stdout",
     "output_type": "stream",
     "text": [
      "Head[10, next=132580710566448] -> Node[20, next=132580712328752] -> Node[40, next=132580712290848] -> Node[50, next=132580712320400] -> Node[60, next=132580712324288] -> Node[80, next=132580712292336] -> Node[90, next=132580712324336] -> Tail[100, next=132580712325632]\n"
     ]
    }
   ],
   "source": [
    "print(cs_linkedlist)"
   ]
  },
  {
   "cell_type": "code",
   "execution_count": 169,
   "metadata": {},
   "outputs": [
    {
     "name": "stdout",
     "output_type": "stream",
     "text": [
      "-------------------------Head-------------------------\n",
      "10\n",
      "10\n",
      "10\n",
      "10\n",
      "-------------------------Nodes-------------------------\n",
      "20\n",
      "40\n",
      "50\n",
      "60\n",
      "80\n",
      "90\n",
      "-------------------------Tail-------------------------\n",
      "100\n",
      "100\n",
      "100\n"
     ]
    }
   ],
   "source": [
    "print(\"-\"*25+\"Head\"+\"-\"*25)\n",
    "print(get(cs_linkedlist, -5))\n",
    "print(get(cs_linkedlist, -4))\n",
    "print(get(cs_linkedlist, -0))\n",
    "print(get(cs_linkedlist, 0))\n",
    "print(\"-\"*25+\"Nodes\"+\"-\"*25)\n",
    "print(get(cs_linkedlist, 1))\n",
    "print(get(cs_linkedlist, 2))\n",
    "print(get(cs_linkedlist, 3))\n",
    "print(get(cs_linkedlist, 4))\n",
    "print(get(cs_linkedlist, 5))\n",
    "print(get(cs_linkedlist, 6))\n",
    "print(\"-\"*25+\"Tail\"+\"-\"*25)\n",
    "print(get(cs_linkedlist, 7))\n",
    "print(get(cs_linkedlist, 235))\n",
    "print(get(cs_linkedlist, -1))"
   ]
  },
  {
   "cell_type": "code",
   "execution_count": 170,
   "metadata": {},
   "outputs": [
    {
     "ename": "AssertionError",
     "evalue": "Incorrect Index",
     "output_type": "error",
     "traceback": [
      "\u001b[0;31m---------------------------------------------------------------------------\u001b[0m",
      "\u001b[0;31mAssertionError\u001b[0m                            Traceback (most recent call last)",
      "Cell \u001b[0;32mIn[170], line 1\u001b[0m\n\u001b[0;32m----> 1\u001b[0m \u001b[43mget\u001b[49m\u001b[43m(\u001b[49m\u001b[43mcs_linkedlist\u001b[49m\u001b[43m,\u001b[49m\u001b[43m \u001b[49m\u001b[38;5;241;43m-\u001b[39;49m\u001b[38;5;241;43m1.5\u001b[39;49m\u001b[43m)\u001b[49m\u001b[38;5;241m.\u001b[39mdata\n",
      "Cell \u001b[0;32mIn[167], line 2\u001b[0m, in \u001b[0;36mget\u001b[0;34m(CSLinkedList, idx)\u001b[0m\n\u001b[1;32m      1\u001b[0m \u001b[38;5;28;01mdef\u001b[39;00m \u001b[38;5;21mget\u001b[39m(CSLinkedList: CSLinkedList, idx):\n\u001b[0;32m----> 2\u001b[0m     \u001b[38;5;28;01massert\u001b[39;00m \u001b[38;5;28mint\u001b[39m(idx) \u001b[38;5;241m==\u001b[39m idx, \u001b[38;5;124m\"\u001b[39m\u001b[38;5;124mIncorrect Index\u001b[39m\u001b[38;5;124m\"\u001b[39m\n\u001b[1;32m      3\u001b[0m     ptr_node \u001b[38;5;241m=\u001b[39m CSLinkedList\u001b[38;5;241m.\u001b[39mhead\n\u001b[1;32m      5\u001b[0m     \u001b[38;5;28;01mif\u001b[39;00m idx \u001b[38;5;241m<\u001b[39m \u001b[38;5;241m-\u001b[39m\u001b[38;5;241m1\u001b[39m:\n",
      "\u001b[0;31mAssertionError\u001b[0m: Incorrect Index"
     ]
    }
   ],
   "source": [
    "get(cs_linkedlist, -1.5).data"
   ]
  },
  {
   "cell_type": "code",
   "execution_count": 171,
   "metadata": {},
   "outputs": [
    {
     "ename": "AssertionError",
     "evalue": "Incorrect Index",
     "output_type": "error",
     "traceback": [
      "\u001b[0;31m---------------------------------------------------------------------------\u001b[0m",
      "\u001b[0;31mAssertionError\u001b[0m                            Traceback (most recent call last)",
      "Cell \u001b[0;32mIn[171], line 1\u001b[0m\n\u001b[0;32m----> 1\u001b[0m \u001b[43mget\u001b[49m\u001b[43m(\u001b[49m\u001b[43mcs_linkedlist\u001b[49m\u001b[43m,\u001b[49m\u001b[43m \u001b[49m\u001b[38;5;241;43m.5\u001b[39;49m\u001b[43m)\u001b[49m\u001b[38;5;241m.\u001b[39mdata\n",
      "Cell \u001b[0;32mIn[167], line 2\u001b[0m, in \u001b[0;36mget\u001b[0;34m(CSLinkedList, idx)\u001b[0m\n\u001b[1;32m      1\u001b[0m \u001b[38;5;28;01mdef\u001b[39;00m \u001b[38;5;21mget\u001b[39m(CSLinkedList: CSLinkedList, idx):\n\u001b[0;32m----> 2\u001b[0m     \u001b[38;5;28;01massert\u001b[39;00m \u001b[38;5;28mint\u001b[39m(idx) \u001b[38;5;241m==\u001b[39m idx, \u001b[38;5;124m\"\u001b[39m\u001b[38;5;124mIncorrect Index\u001b[39m\u001b[38;5;124m\"\u001b[39m\n\u001b[1;32m      3\u001b[0m     ptr_node \u001b[38;5;241m=\u001b[39m CSLinkedList\u001b[38;5;241m.\u001b[39mhead\n\u001b[1;32m      5\u001b[0m     \u001b[38;5;28;01mif\u001b[39;00m idx \u001b[38;5;241m<\u001b[39m \u001b[38;5;241m-\u001b[39m\u001b[38;5;241m1\u001b[39m:\n",
      "\u001b[0;31mAssertionError\u001b[0m: Incorrect Index"
     ]
    }
   ],
   "source": [
    "get(cs_linkedlist, .5).data"
   ]
  },
  {
   "cell_type": "markdown",
   "metadata": {},
   "source": [
    "## Set Method"
   ]
  },
  {
   "cell_type": "code",
   "execution_count": 172,
   "metadata": {},
   "outputs": [],
   "source": [
    "def set(CSLinkedList: CSLinkedList, idx, value):\n",
    "    ptr_node = get(CSLinkedList, idx)\n",
    "    ptr_node.data = value\n"
   ]
  },
  {
   "cell_type": "code",
   "execution_count": 173,
   "metadata": {},
   "outputs": [
    {
     "name": "stdout",
     "output_type": "stream",
     "text": [
      "Head[10, next=132580710566448] -> Node[20, next=132580712328752] -> Node[40, next=132580712290848] -> Node[50, next=132580712320400] -> Node[60, next=132580712324288] -> Node[80, next=132580712292336] -> Node[90, next=132580712324336] -> Tail[100, next=132580712325632]\n"
     ]
    }
   ],
   "source": [
    "print(cs_linkedlist)"
   ]
  },
  {
   "cell_type": "code",
   "execution_count": 174,
   "metadata": {},
   "outputs": [
    {
     "name": "stdout",
     "output_type": "stream",
     "text": [
      "Head[5, next=132580710566448] -> Node[20, next=132580712328752] -> Node[40, next=132580712290848] -> Node[50, next=132580712320400] -> Node[60, next=132580712324288] -> Node[80, next=132580712292336] -> Node[90, next=132580712324336] -> Tail[100, next=132580712325632]\n"
     ]
    }
   ],
   "source": [
    "set(cs_linkedlist, 0, 5)\n",
    "print(cs_linkedlist)"
   ]
  },
  {
   "cell_type": "code",
   "execution_count": 175,
   "metadata": {},
   "outputs": [
    {
     "name": "stdout",
     "output_type": "stream",
     "text": [
      "Head[0, next=132580710566448] -> Node[20, next=132580712328752] -> Node[40, next=132580712290848] -> Node[50, next=132580712320400] -> Node[60, next=132580712324288] -> Node[80, next=132580712292336] -> Node[90, next=132580712324336] -> Tail[100, next=132580712325632]\n"
     ]
    }
   ],
   "source": [
    "set(cs_linkedlist, -15, 0)\n",
    "print(cs_linkedlist)"
   ]
  },
  {
   "cell_type": "code",
   "execution_count": 176,
   "metadata": {},
   "outputs": [
    {
     "name": "stdout",
     "output_type": "stream",
     "text": [
      "Head[0, next=132580710566448] -> Node[20, next=132580712328752] -> Node[40, next=132580712290848] -> Node[None, next=132580712320400] -> Node[60, next=132580712324288] -> Node[80, next=132580712292336] -> Node[90, next=132580712324336] -> Tail[100, next=132580712325632]\n"
     ]
    }
   ],
   "source": [
    "set(cs_linkedlist, 3, None)\n",
    "print(cs_linkedlist)"
   ]
  },
  {
   "cell_type": "code",
   "execution_count": 177,
   "metadata": {},
   "outputs": [
    {
     "name": "stdout",
     "output_type": "stream",
     "text": [
      "Head[0, next=132580710566448] -> Node[20, next=132580712328752] -> Node[40, next=132580712290848] -> Node[None, next=132580712320400] -> Node[60, next=132580712324288] -> Node[80, next=132580712292336] -> Node[None, next=132580712324336] -> Tail[None, next=132580712325632]\n"
     ]
    }
   ],
   "source": [
    "set(cs_linkedlist, 6, None)\n",
    "set(cs_linkedlist, -1, None)\n",
    "print(cs_linkedlist)"
   ]
  },
  {
   "cell_type": "code",
   "execution_count": 178,
   "metadata": {},
   "outputs": [
    {
     "name": "stdout",
     "output_type": "stream",
     "text": [
      "Head[0, next=132580710566448] -> Node[20, next=132580712328752] -> Node[40, next=132580712290848] -> Node[None, next=132580712320400] -> Node[60, next=132580712324288] -> Node[80, next=132580712292336] -> Node[None, next=132580712324336] -> Tail[110, next=132580712325632]\n"
     ]
    }
   ],
   "source": [
    "set(cs_linkedlist, 999, 110)\n",
    "print(cs_linkedlist)"
   ]
  },
  {
   "cell_type": "markdown",
   "metadata": {},
   "source": [
    "## pop_first Method"
   ]
  },
  {
   "cell_type": "code",
   "execution_count": 179,
   "metadata": {},
   "outputs": [],
   "source": [
    "def pop_first(CSLinkedList: CSLinkedList):\n",
    "    first_node = CSLinkedList.head\n",
    "\n",
    "    if CSLinkedList.length == 1:\n",
    "        CSLinkedList.head = None\n",
    "        CSLinkedList.tail = None\n",
    "    elif CSLinkedList.length == 0:\n",
    "        return None\n",
    "    else:\n",
    "        CSLinkedList.head = first_node.next # OR CSLinkedList.head.next\n",
    "        CSLinkedList.tail.next = CSLinkedList.head\n",
    "        first_node.next = None\n",
    "    CSLinkedList.length -= 1\n",
    "    return first_node"
   ]
  },
  {
   "cell_type": "code",
   "execution_count": 180,
   "metadata": {},
   "outputs": [
    {
     "name": "stdout",
     "output_type": "stream",
     "text": [
      "Head[0, next=132580710566448] -> Node[20, next=132580712328752] -> Node[40, next=132580712290848] -> Node[None, next=132580712320400] -> Node[60, next=132580712324288] -> Node[80, next=132580712292336] -> Node[None, next=132580712324336] -> Tail[110, next=132580712325632]\n",
      "Head[20, next=132580712328752] -> Node[40, next=132580712290848] -> Node[None, next=132580712320400] -> Node[60, next=132580712324288] -> Node[80, next=132580712292336] -> Node[None, next=132580712324336] -> Tail[110, next=132580710566448]\n"
     ]
    }
   ],
   "source": [
    "print(cs_linkedlist)\n",
    "pop_first(cs_linkedlist)\n",
    "print(cs_linkedlist)"
   ]
  },
  {
   "cell_type": "code",
   "execution_count": 181,
   "metadata": {
    "tags": [
     "CSLL with one Node/element only"
    ]
   },
   "outputs": [
    {
     "name": "stdout",
     "output_type": "stream",
     "text": [
      "Head[1, next=132580712330192]\n",
      "1\n",
      "\n"
     ]
    }
   ],
   "source": [
    "one_csll = CSLinkedList(1)\n",
    "print(one_csll)\n",
    "print(pop_first(one_csll))\n",
    "print(one_csll)"
   ]
  },
  {
   "cell_type": "code",
   "execution_count": 182,
   "metadata": {},
   "outputs": [
    {
     "name": "stdout",
     "output_type": "stream",
     "text": [
      "None\n"
     ]
    }
   ],
   "source": [
    "print(pop_first(empty_cs_linkedlist))"
   ]
  },
  {
   "cell_type": "markdown",
   "metadata": {},
   "source": [
    "## pop Method"
   ]
  },
  {
   "cell_type": "code",
   "execution_count": 183,
   "metadata": {},
   "outputs": [],
   "source": [
    "def pop(CSLinkedList: CSLinkedList):\n",
    "    #as we have created above get(CSLinkedList, idx) method\n",
    "    node_to_pop = CSLinkedList.tail\n",
    "\n",
    "    if CSLinkedList.length == 0:\n",
    "        return None\n",
    "    elif CSLinkedList.length == 1:\n",
    "        CSLinkedList.head = CSLinkedList.tail = None\n",
    "        return node_to_pop\n",
    "    else:\n",
    "        second_last_node = get(CSLinkedList, CSLinkedList.length - 2)\n",
    "        second_last_node.next = CSLinkedList.head\n",
    "        CSLinkedList.tail = second_last_node\n",
    "        node_to_pop.next = None\n",
    "    CSLinkedList.length -= 1\n",
    "    return node_to_pop"
   ]
  },
  {
   "cell_type": "code",
   "execution_count": 184,
   "metadata": {},
   "outputs": [],
   "source": [
    "#2nd way\n",
    "def pop2(CSLinkedList: CSLinkedList):\n",
    "    popped_node = CSLinkedList.tail\n",
    "    ptr_node = CSLinkedList.head\n",
    "    \n",
    "    if CSLinkedList.length == 0:\n",
    "        return None\n",
    "    elif CSLinkedList.length == 1:\n",
    "        CSLinkedList.head = CSLinkedList.tail = None\n",
    "        return popped_node\n",
    "    else:\n",
    "        while ptr_node.next != CSLinkedList.tail:\n",
    "            ptr_node = ptr_node.next\n",
    "\n",
    "        ptr_node.next = CSLinkedList.head\n",
    "        CSLinkedList.tail = ptr_node\n",
    "        ptr_node.next = None\n",
    "    CSLinkedList.length -= 1\n",
    "    return popped_node"
   ]
  },
  {
   "cell_type": "code",
   "execution_count": 185,
   "metadata": {},
   "outputs": [
    {
     "name": "stdout",
     "output_type": "stream",
     "text": [
      "Head[20, next=132580712328752] -> Node[40, next=132580712290848] -> Node[None, next=132580712320400] -> Node[60, next=132580712324288] -> Node[80, next=132580712292336] -> Node[None, next=132580712324336] -> Tail[110, next=132580710566448]\n",
      "110\n",
      "Head[20, next=132580712328752] -> Node[40, next=132580712290848] -> Node[None, next=132580712320400] -> Node[60, next=132580712324288] -> Node[80, next=132580712292336] -> Tail[None, next=132580710566448]\n"
     ]
    }
   ],
   "source": [
    "print(cs_linkedlist)\n",
    "print(pop(cs_linkedlist))\n",
    "print(cs_linkedlist)"
   ]
  },
  {
   "cell_type": "code",
   "execution_count": 186,
   "metadata": {},
   "outputs": [
    {
     "name": "stdout",
     "output_type": "stream",
     "text": [
      "Head[20, next=132580712328752] -> Node[40, next=132580712290848] -> Node[None, next=132580712320400] -> Node[60, next=132580712324288] -> Node[80, next=132580712292336] -> Tail[None, next=132580710566448]\n",
      "None\n",
      "Head[20, next=132580712328752] -> Node[40, next=132580712290848] -> Node[None, next=132580712320400] -> Node[60, next=132580712324288] -> Tail[80, next=132580710566448]\n"
     ]
    }
   ],
   "source": [
    "print(cs_linkedlist)\n",
    "print(pop(cs_linkedlist))\n",
    "print(cs_linkedlist)"
   ]
  },
  {
   "cell_type": "code",
   "execution_count": 187,
   "metadata": {},
   "outputs": [
    {
     "name": "stdout",
     "output_type": "stream",
     "text": [
      "Head[20, next=132580712328752] -> Node[40, next=132580712290848] -> Node[None, next=132580712320400] -> Node[60, next=132580712324288] -> Tail[80, next=132580710566448]\n",
      "80\n",
      "Head[20, next=132580712328752] -> Node[40, next=132580712290848] -> Node[None, next=132580712320400] -> Tail[60, next=108897898930880] -> \n"
     ]
    }
   ],
   "source": [
    "print(cs_linkedlist)\n",
    "print(pop2(cs_linkedlist))\n",
    "print(cs_linkedlist)"
   ]
  },
  {
   "cell_type": "markdown",
   "metadata": {},
   "source": [
    "## Remove method"
   ]
  },
  {
   "cell_type": "code",
   "execution_count": 194,
   "metadata": {},
   "outputs": [],
   "source": [
    "def remove(CSLinkedList, idx):\n",
    "    #assert (idx < 0 or idx >= CSLinkedList.length) and int(idx) == idx, \"Incorrect Index\"\n",
    "\n",
    "    if idx == 0 or idx < -1:\n",
    "        return pop_first(CSLinkedList)\n",
    "    elif idx == -1 or idx >= CSLinkedList.length:\n",
    "        return pop(CSLinkedList)\n",
    "    else:\n",
    "        prev_node = get(CSLinkedList, idx -1)\n",
    "        popped_node = prev_node.next\n",
    "\n",
    "        prev_node.next = popped_node.next\n",
    "        popped_node.next = None\n",
    "    CSLinkedList.length -= 1\n",
    "    return popped_node"
   ]
  },
  {
   "cell_type": "code",
   "execution_count": 189,
   "metadata": {},
   "outputs": [
    {
     "name": "stdout",
     "output_type": "stream",
     "text": [
      "Head[20, next=132580712328752] -> Node[40, next=132580712290848] -> Node[None, next=132580712320400] -> Node[60, next=132580723021552] -> Node[80, next=132580712294448] -> Node[100, next=132580723028032] -> Tail[120, next=132580710566448]\n"
     ]
    }
   ],
   "source": [
    "append(cs_linkedlist, 80)\n",
    "append(cs_linkedlist, 100)\n",
    "append(cs_linkedlist, 120)\n",
    "print(cs_linkedlist)"
   ]
  },
  {
   "cell_type": "code",
   "execution_count": 192,
   "metadata": {},
   "outputs": [
    {
     "name": "stdout",
     "output_type": "stream",
     "text": [
      "Head[20, next=132580712328752] -> Node[40, next=132580712290848] -> Node[None, next=132580712320400] -> Node[60, next=132580723021552] -> Node[80, next=132580712294448] -> Node[100, next=132580723028032] -> Tail[120, next=132580710566448]\n",
      "Head[40, next=132580712290848] -> Node[None, next=132580712320400] -> Node[60, next=132580723021552] -> Node[80, next=132580712294448] -> Node[100, next=132580723028032] -> Tail[120, next=132580712328752]\n"
     ]
    }
   ],
   "source": [
    "print(cs_linkedlist)\n",
    "remove(cs_linkedlist, -65)\n",
    "print(cs_linkedlist)"
   ]
  },
  {
   "cell_type": "code",
   "execution_count": 195,
   "metadata": {},
   "outputs": [
    {
     "name": "stdout",
     "output_type": "stream",
     "text": [
      "Head[40, next=132580712290848] -> Node[None, next=132580712320400] -> Node[60, next=132580723021552] -> Node[80, next=132580712294448] -> Node[100, next=132580723028032] -> Tail[120, next=132580712328752]\n",
      "Head[40, next=132580712320400] -> Node[60, next=132580723021552] -> Node[80, next=132580712294448] -> Node[100, next=132580723028032] -> Tail[120, next=132580712328752]\n"
     ]
    }
   ],
   "source": [
    "print(cs_linkedlist)\n",
    "remove(cs_linkedlist, 1)\n",
    "print(cs_linkedlist)"
   ]
  },
  {
   "cell_type": "code",
   "execution_count": 196,
   "metadata": {},
   "outputs": [
    {
     "name": "stdout",
     "output_type": "stream",
     "text": [
      "Head[40, next=132580712320400] -> Node[60, next=132580723021552] -> Node[80, next=132580712294448] -> Node[100, next=132580723028032] -> Tail[120, next=132580712328752]\n",
      "Head[40, next=132580712320400] -> Node[60, next=132580723021552] -> Node[80, next=132580712294448] -> Tail[100, next=132580712328752]\n"
     ]
    }
   ],
   "source": [
    "print(cs_linkedlist)\n",
    "remove(cs_linkedlist, -1)\n",
    "print(cs_linkedlist)"
   ]
  },
  {
   "cell_type": "code",
   "execution_count": 197,
   "metadata": {},
   "outputs": [
    {
     "name": "stdout",
     "output_type": "stream",
     "text": [
      "Head[40, next=132580712320400] -> Node[60, next=132580723021552] -> Node[80, next=132580712294448] -> Tail[100, next=132580712328752]\n",
      "Head[40, next=132580712320400] -> Node[60, next=132580723021552] -> Tail[80, next=132580712328752]\n"
     ]
    }
   ],
   "source": [
    "print(cs_linkedlist)\n",
    "remove(cs_linkedlist, 365)\n",
    "print(cs_linkedlist)"
   ]
  },
  {
   "cell_type": "markdown",
   "metadata": {},
   "source": [
    "## Truncate Method"
   ]
  },
  {
   "cell_type": "code",
   "execution_count": 199,
   "metadata": {},
   "outputs": [],
   "source": [
    "def truncate(CSLinkedList):\n",
    "    if CSLinkedList.length == 0:\n",
    "        return None\n",
    "\n",
    "    CSLinkedList.tail.next = None\n",
    "    CSLinkedList.head = None\n",
    "    CSLinkedList.tail = None    \n",
    "    CSLinkedList.length = 0"
   ]
  },
  {
   "cell_type": "code",
   "execution_count": 200,
   "metadata": {},
   "outputs": [],
   "source": [
    "truncate(cs_linkedlist)"
   ]
  },
  {
   "cell_type": "code",
   "execution_count": 201,
   "metadata": {},
   "outputs": [
    {
     "name": "stdout",
     "output_type": "stream",
     "text": [
      "\n"
     ]
    }
   ],
   "source": [
    "print(cs_linkedlist)"
   ]
  },
  {
   "cell_type": "code",
   "execution_count": null,
   "metadata": {},
   "outputs": [],
   "source": []
  }
 ],
 "metadata": {
  "kernelspec": {
   "display_name": "Python 3",
   "language": "python",
   "name": "python3"
  },
  "language_info": {
   "codemirror_mode": {
    "name": "ipython",
    "version": 3
   },
   "file_extension": ".py",
   "mimetype": "text/x-python",
   "name": "python",
   "nbconvert_exporter": "python",
   "pygments_lexer": "ipython3",
   "version": "3.10.13"
  }
 },
 "nbformat": 4,
 "nbformat_minor": 2
}
