{
 "cells": [
  {
   "cell_type": "code",
   "execution_count": 247,
   "metadata": {},
   "outputs": [
    {
     "data": {
      "text/plain": [
       "99801761731264"
      ]
     },
     "execution_count": 247,
     "metadata": {},
     "output_type": "execute_result"
    }
   ],
   "source": [
    "id(None)"
   ]
  },
  {
   "cell_type": "markdown",
   "metadata": {},
   "source": [
    "# Circular Doubly Linked List\n",
    "let's consider a Clock cycle with AM(12 hours in a day) only"
   ]
  },
  {
   "cell_type": "code",
   "execution_count": 248,
   "metadata": {},
   "outputs": [],
   "source": [
    "class Node:\n",
    "    def __init__(self, data) -> None:\n",
    "        self.data = data\n",
    "        self.next = None\n",
    "        self.prev = None\n",
    "\n",
    "    def __str__(self):\n",
    "        return str(self.data)\n",
    "\n",
    "\n",
    "class CircularDoublyLinkedList:\n",
    "    #To create empty CircularDoublyLinkedList\n",
    "    def __init__(self) -> None:\n",
    "        self.head = None\n",
    "        self.tail = None\n",
    "        self.length = 0\n",
    "\n",
    "    # #another way to create a CircularDoublyLinkedList with One Node\n",
    "    # def __init__(self, data) -> None:\n",
    "    #     new_node = Node(data)\n",
    "    #     new_node.next = new_node\n",
    "    #     new_node.prev = new_node        \n",
    "\n",
    "    #     self.head = new_node\n",
    "    #     self.tail = new_node\n",
    "    #     self.length = 1\n",
    "\n",
    "    def __str__(self) -> str:\n",
    "        ptr = self.head\n",
    "        str_representation = \"\"\n",
    "\n",
    "        while ptr:\n",
    "            if ptr == self.head:\n",
    "                node_type = \"Head\"\n",
    "            elif ptr == self.tail:\n",
    "                node_type = \"Tail\"\n",
    "            else:\n",
    "                node_type = \"Node\"\n",
    "\n",
    "            str_representation += f\"{node_type}[{id(ptr.prev)}<-'{str(ptr.data)}'->{id(ptr.next)}]\"\n",
    "            ptr = ptr.next\n",
    "            if ptr == self.head: break\n",
    "            str_representation += \" <=> \"\n",
    "        return str_representation"
   ]
  },
  {
   "cell_type": "code",
   "execution_count": 249,
   "metadata": {},
   "outputs": [
    {
     "name": "stdout",
     "output_type": "stream",
     "text": [
      "\n"
     ]
    }
   ],
   "source": [
    "cdll = CircularDoublyLinkedList()\n",
    "print(cdll)"
   ]
  },
  {
   "cell_type": "markdown",
   "metadata": {},
   "source": [
    "### Append Method"
   ]
  },
  {
   "cell_type": "code",
   "execution_count": 250,
   "metadata": {},
   "outputs": [],
   "source": [
    "def append(cdll: CircularDoublyLinkedList, value):\n",
    "    new_node = Node(value)\n",
    "\n",
    "    if cdll.length == 0:\n",
    "        cdll.head = new_node\n",
    "        cdll.tail = new_node   \n",
    "\n",
    "        new_node.prev = new_node\n",
    "        new_node.next = new_node\n",
    "    else:\n",
    "        new_node.prev = cdll.tail\n",
    "        new_node.next = cdll.head\n",
    "\n",
    "        cdll.tail.next = new_node\n",
    "        cdll.head.prev = new_node\n",
    "\n",
    "        cdll.tail = new_node\n",
    "    cdll.length += 1"
   ]
  },
  {
   "cell_type": "code",
   "execution_count": 251,
   "metadata": {},
   "outputs": [
    {
     "name": "stdout",
     "output_type": "stream",
     "text": [
      "Head[134418656966496<-'12 AM'->134418656966880] <=> Node[134418656965200<-'1 AM'->134418656966496] <=> Tail[134418656966880<-'2 AM'->134418656965200]\n"
     ]
    }
   ],
   "source": [
    "append(cdll, \"12 AM\")\n",
    "append(cdll, \"1 AM\")\n",
    "append(cdll, \"2 AM\")\n",
    "print(cdll)"
   ]
  },
  {
   "cell_type": "markdown",
   "metadata": {},
   "source": [
    "### prepend Method"
   ]
  },
  {
   "cell_type": "code",
   "execution_count": 252,
   "metadata": {},
   "outputs": [],
   "source": [
    "def prepend(cdll: CircularDoublyLinkedList, value):\n",
    "    new_node = Node(value)\n",
    "\n",
    "    if not cdll.head or cdll.length == 0:\n",
    "        cdll.head = new_node\n",
    "        cdll.tail = new_node\n",
    "\n",
    "        new_node.next = new_node\n",
    "        new_node.prev = new_node\n",
    "    else:\n",
    "        new_node.next = cdll.head\n",
    "        new_node.prev = cdll.tail\n",
    "\n",
    "        cdll.head.prev = new_node\n",
    "        cdll.tail.next = new_node\n",
    "\n",
    "        cdll.head = new_node\n",
    "    cdll.length += 1 "
   ]
  },
  {
   "cell_type": "code",
   "execution_count": 253,
   "metadata": {},
   "outputs": [
    {
     "name": "stdout",
     "output_type": "stream",
     "text": [
      "Head[134418656966496<-'12 AM'->134418656966880] <=> Node[134418656965200<-'1 AM'->134418656966496] <=> Tail[134418656966880<-'2 AM'->134418656965200]\n",
      "Head[134418656966496<-'10 AM'->134418657735776] <=> Node[134418657734000<-'11 AM'->134418656965200] <=> Node[134418657735776<-'12 AM'->134418656966880] <=> Node[134418656965200<-'1 AM'->134418656966496] <=> Tail[134418656966880<-'2 AM'->134418657734000]\n"
     ]
    }
   ],
   "source": [
    "print(cdll)\n",
    "prepend(cdll, \"11 AM\")\n",
    "prepend(cdll, \"10 AM\")\n",
    "print(cdll)"
   ]
  },
  {
   "cell_type": "markdown",
   "metadata": {},
   "source": [
    "### Traverse Method"
   ]
  },
  {
   "cell_type": "code",
   "execution_count": 254,
   "metadata": {},
   "outputs": [],
   "source": [
    "def traverse(cdll: CircularDoublyLinkedList):\n",
    "    ptr = cdll.head\n",
    "    while ptr:\n",
    "        print(ptr)\n",
    "        ptr = ptr.next\n",
    "        if ptr == cdll.head: break"
   ]
  },
  {
   "cell_type": "code",
   "execution_count": 255,
   "metadata": {},
   "outputs": [
    {
     "name": "stdout",
     "output_type": "stream",
     "text": [
      "10 AM\n",
      "11 AM\n",
      "12 AM\n",
      "1 AM\n",
      "2 AM\n"
     ]
    }
   ],
   "source": [
    "traverse(cdll)"
   ]
  },
  {
   "cell_type": "markdown",
   "metadata": {},
   "source": [
    "### Reverse traverse Method"
   ]
  },
  {
   "cell_type": "code",
   "execution_count": 256,
   "metadata": {},
   "outputs": [],
   "source": [
    "def reverse(cdll: CircularDoublyLinkedList):\n",
    "    ptr = cdll.tail\n",
    "    while ptr:\n",
    "        print(ptr)\n",
    "        ptr = ptr.prev\n",
    "        if ptr == cdll.tail: break"
   ]
  },
  {
   "cell_type": "code",
   "execution_count": 257,
   "metadata": {},
   "outputs": [
    {
     "name": "stdout",
     "output_type": "stream",
     "text": [
      "2 AM\n",
      "1 AM\n",
      "12 AM\n",
      "11 AM\n",
      "10 AM\n"
     ]
    }
   ],
   "source": [
    "reverse(cdll)"
   ]
  },
  {
   "cell_type": "markdown",
   "metadata": {},
   "source": [
    "### Search Method"
   ]
  },
  {
   "cell_type": "code",
   "execution_count": 258,
   "metadata": {},
   "outputs": [],
   "source": [
    "def search(cdll: CircularDoublyLinkedList, value):\n",
    "    ptr = cdll.head\n",
    "    idx = 0\n",
    "\n",
    "    while ptr:\n",
    "        if ptr.data == value:\n",
    "            return f\"value={value} found at index-{idx}\"\n",
    "        ptr = ptr.next\n",
    "        idx += 1\n",
    "        if ptr == cdll.head: break\n",
    "\n",
    "    return False"
   ]
  },
  {
   "cell_type": "code",
   "execution_count": 259,
   "metadata": {},
   "outputs": [
    {
     "name": "stdout",
     "output_type": "stream",
     "text": [
      "value=10 AM found at index-0\n",
      "value=11 AM found at index-1\n",
      "value=12 AM found at index-2\n",
      "value=1 AM found at index-3\n",
      "value=2 AM found at index-4\n",
      "False\n"
     ]
    }
   ],
   "source": [
    "print(search(cdll, '10 AM'))\n",
    "print(search(cdll, '11 AM'))\n",
    "print(search(cdll, '12 AM'))\n",
    "print(search(cdll, '1 AM'))\n",
    "print(search(cdll, '2 AM'))\n",
    "print(search(cdll, '3 AM'))"
   ]
  },
  {
   "cell_type": "markdown",
   "metadata": {},
   "source": [
    "### Get Method"
   ]
  },
  {
   "cell_type": "code",
   "execution_count": 260,
   "metadata": {},
   "outputs": [],
   "source": [
    "def get(cdll: CircularDoublyLinkedList, idx):\n",
    "    assert int(idx) == idx, \"Incorrect Index\"\n",
    "    if idx <= 0 and idx != -1:\n",
    "        ptr = cdll.head\n",
    "    elif idx == -1 or idx >= cdll.length:\n",
    "        ptr = cdll.tail\n",
    "    elif idx < cdll.length // 2:\n",
    "        ptr = cdll.head\n",
    "        for _ in range(idx):\n",
    "            ptr = ptr.next\n",
    "    else:\n",
    "        ptr = cdll.tail\n",
    "        for _ in range(cdll.length-1, idx, -1):\n",
    "            ptr = ptr.prev\n",
    "    return ptr"
   ]
  },
  {
   "cell_type": "code",
   "execution_count": 261,
   "metadata": {},
   "outputs": [
    {
     "name": "stdout",
     "output_type": "stream",
     "text": [
      "Head[134418656966496<-'10 AM'->134418657735776] <=> Node[134418657734000<-'11 AM'->134418656965200] <=> Node[134418657735776<-'12 AM'->134418656966880] <=> Node[134418656965200<-'1 AM'->134418656966496] <=> Tail[134418656966880<-'2 AM'->134418657734000]\n",
      "10 AM\n",
      "10 AM\n",
      "11 AM\n",
      "12 AM\n",
      "1 AM\n",
      "2 AM\n",
      "2 AM\n",
      "2 AM\n"
     ]
    }
   ],
   "source": [
    "print(cdll)\n",
    "print(get(cdll, -365))\n",
    "print(get(cdll, 0))\n",
    "\n",
    "print(get(cdll, 1))\n",
    "print(get(cdll, 2))\n",
    "print(get(cdll, 3))\n",
    "\n",
    "print(get(cdll, -1))\n",
    "print(get(cdll, 4))\n",
    "print(get(cdll, 365))"
   ]
  },
  {
   "cell_type": "markdown",
   "metadata": {},
   "source": [
    "### Set method"
   ]
  },
  {
   "cell_type": "code",
   "execution_count": 262,
   "metadata": {},
   "outputs": [],
   "source": [
    "def set(cdll, idx, value):\n",
    "    node = get(cdll, idx)\n",
    "    if node:\n",
    "        node.data = value\n",
    "        return True\n",
    "    return False"
   ]
  },
  {
   "cell_type": "code",
   "execution_count": 263,
   "metadata": {},
   "outputs": [
    {
     "name": "stdout",
     "output_type": "stream",
     "text": [
      "10 AM\n",
      "11 AM\n",
      "12 AM\n",
      "1 AM\n",
      "2 AM\n"
     ]
    }
   ],
   "source": [
    "traverse(cdll)"
   ]
  },
  {
   "cell_type": "code",
   "execution_count": 264,
   "metadata": {},
   "outputs": [
    {
     "name": "stdout",
     "output_type": "stream",
     "text": [
      "09:58 AM\n",
      "11 AM\n",
      "12 AM\n",
      "1 AM\n",
      "2 AM\n"
     ]
    }
   ],
   "source": [
    "set(cdll, 0, \"09:58 AM\")\n",
    "traverse(cdll)"
   ]
  },
  {
   "cell_type": "code",
   "execution_count": 265,
   "metadata": {},
   "outputs": [
    {
     "name": "stdout",
     "output_type": "stream",
     "text": [
      "09:59 AM\n",
      "11 AM\n",
      "12 AM\n",
      "1 AM\n",
      "2 AM\n"
     ]
    }
   ],
   "source": [
    "set(cdll, -365, \"09:59 AM\")\n",
    "traverse(cdll)"
   ]
  },
  {
   "cell_type": "code",
   "execution_count": 266,
   "metadata": {},
   "outputs": [
    {
     "name": "stdout",
     "output_type": "stream",
     "text": [
      "09:59 AM\n",
      "11 AM\n",
      "12 AM\n",
      "12:59 AM\n",
      "1:58 AM\n"
     ]
    }
   ],
   "source": [
    "set(cdll, 3, \"12:59 AM\")\n",
    "set(cdll, -1, \"1:58 AM\")\n",
    "traverse(cdll)"
   ]
  },
  {
   "cell_type": "code",
   "execution_count": 267,
   "metadata": {},
   "outputs": [
    {
     "name": "stdout",
     "output_type": "stream",
     "text": [
      "09:59 AM\n",
      "11 AM\n",
      "12 AM\n",
      "12:59 AM\n",
      "1:59 AM\n"
     ]
    }
   ],
   "source": [
    "set(cdll, -1, \"1:59 AM\")\n",
    "traverse(cdll)"
   ]
  },
  {
   "cell_type": "markdown",
   "metadata": {},
   "source": [
    "### Insert Method"
   ]
  },
  {
   "cell_type": "code",
   "execution_count": 268,
   "metadata": {},
   "outputs": [],
   "source": [
    "def insert(cdll: CircularDoublyLinkedList, idx, value):\n",
    "    if idx <= 0 and idx != -1:\n",
    "        prepend(cdll, value)\n",
    "    elif idx >= cdll.length or idx == -1:\n",
    "        append(cdll, value)\n",
    "    else:\n",
    "        new_node = Node(value)\n",
    "        prev_node = get(cdll, idx -1)\n",
    "\n",
    "        new_node.next = prev_node.next\n",
    "        new_node.prev = prev_node\n",
    "        prev_node.next.prev = new_node\n",
    "        prev_node.next = new_node\n",
    "        cdll.length += 1"
   ]
  },
  {
   "cell_type": "code",
   "execution_count": 269,
   "metadata": {},
   "outputs": [
    {
     "name": "stdout",
     "output_type": "stream",
     "text": [
      "Head[134418656966496<-'09:59 AM'->134418657735776] <=> Node[134418657734000<-'11 AM'->134418656965200] <=> Node[134418657735776<-'12 AM'->134418656966880] <=> Node[134418656965200<-'12:59 AM'->134418656966496] <=> Tail[134418656966880<-'1:59 AM'->134418657734000]\n",
      "Head[134418656966496<-'8 AM'->134418656874160] <=> Node[134418656877520<-'9 AM'->134418657734000] <=> Node[134418656874160<-'09:59 AM'->134418657735776] <=> Node[134418657734000<-'11 AM'->134418656965200] <=> Node[134418657735776<-'12 AM'->134418656966880] <=> Node[134418656965200<-'12:59 AM'->134418656966496] <=> Tail[134418656966880<-'1:59 AM'->134418656877520]\n",
      "Head[134418656872816<-'8 AM'->134418656874160] <=> Node[134418656877520<-'9 AM'->134418657734000] <=> Node[134418656874160<-'09:59 AM'->134418657735776] <=> Node[134418657734000<-'11 AM'->134418656965200] <=> Node[134418657735776<-'12 AM'->134418656966880] <=> Node[134418656965200<-'12:59 AM'->134418656966496] <=> Node[134418656966880<-'1:59 AM'->134418656882992] <=> Node[134418656966496<-'3 AM'->134418656878288] <=> Node[134418656882992<-'4 AM'->134418656872816] <=> Tail[134418656878288<-'5 AM'->134418656877520]\n"
     ]
    }
   ],
   "source": [
    "print(cdll)\n",
    "insert(cdll, -365, \"9 AM\")\n",
    "insert(cdll, 0, \"8 AM\")\n",
    "print(cdll)\n",
    "insert(cdll, cdll.length, \"3 AM\")\n",
    "insert(cdll, 365, \"4 AM\")\n",
    "insert(cdll, -1, \"5 AM\")\n",
    "print(cdll)"
   ]
  },
  {
   "cell_type": "code",
   "execution_count": 270,
   "metadata": {},
   "outputs": [
    {
     "name": "stdout",
     "output_type": "stream",
     "text": [
      "8 AM\n",
      "9 AM\n",
      "09:59 AM\n",
      "11 AM\n",
      "12 AM\n",
      "12:59 AM\n",
      "1:59 AM\n",
      "3 AM\n",
      "4 AM\n",
      "5 AM\n"
     ]
    }
   ],
   "source": [
    "traverse(cdll)"
   ]
  },
  {
   "cell_type": "code",
   "execution_count": 271,
   "metadata": {},
   "outputs": [
    {
     "name": "stdout",
     "output_type": "stream",
     "text": [
      "8 AM\n",
      "9 AM\n",
      "09:59 AM\n",
      "10 AM\n",
      "11 AM\n",
      "12 AM\n",
      "12:59 AM\n",
      "1 AM\n",
      "1:59 AM\n",
      "2 AM\n",
      "3 AM\n",
      "4 AM\n",
      "5 AM\n"
     ]
    }
   ],
   "source": [
    "insert(cdll, 3, \"10 AM\")\n",
    "insert(cdll, 6+1, \"1 AM\")\n",
    "insert(cdll, 8+1, \"2 AM\")\n",
    "traverse(cdll)"
   ]
  },
  {
   "cell_type": "markdown",
   "metadata": {},
   "source": [
    "### pop_first method"
   ]
  },
  {
   "cell_type": "code",
   "execution_count": 272,
   "metadata": {},
   "outputs": [],
   "source": [
    "def pop_first(cdll: CircularDoublyLinkedList):\n",
    "    popped_node = cdll.head\n",
    "\n",
    "    if popped_node is None:\n",
    "        return None\n",
    "    elif cdll.length == 1:\n",
    "        cdll.head = None\n",
    "        cdll.tail = None\n",
    "    else:\n",
    "        cdll.head = cdll.head.next\n",
    "\n",
    "        popped_node.next = None\n",
    "        popped_node.prev = None\n",
    "\n",
    "        cdll.head.prev = cdll.tail\n",
    "        cdll.tail.next = cdll.head\n",
    "\n",
    "    cdll.length -= 1\n",
    "    return popped_node"
   ]
  },
  {
   "cell_type": "code",
   "execution_count": 273,
   "metadata": {},
   "outputs": [
    {
     "name": "stdout",
     "output_type": "stream",
     "text": [
      "8 AM\n",
      "9 AM\n",
      "09:59 AM\n",
      "10 AM\n",
      "11 AM\n",
      "12 AM\n",
      "12:59 AM\n",
      "1 AM\n",
      "1:59 AM\n",
      "2 AM\n",
      "3 AM\n",
      "4 AM\n",
      "5 AM\n"
     ]
    }
   ],
   "source": [
    "traverse(cdll)"
   ]
  },
  {
   "cell_type": "code",
   "execution_count": 274,
   "metadata": {},
   "outputs": [
    {
     "name": "stdout",
     "output_type": "stream",
     "text": [
      "10 AM\n",
      "11 AM\n",
      "12 AM\n",
      "12:59 AM\n",
      "1 AM\n",
      "1:59 AM\n",
      "2 AM\n",
      "3 AM\n",
      "4 AM\n",
      "5 AM\n"
     ]
    }
   ],
   "source": [
    "pop_first(cdll)\n",
    "pop_first(cdll)\n",
    "pop_first(cdll)\n",
    "traverse(cdll)"
   ]
  },
  {
   "cell_type": "markdown",
   "metadata": {},
   "source": [
    "### pop method"
   ]
  },
  {
   "cell_type": "code",
   "execution_count": 275,
   "metadata": {},
   "outputs": [],
   "source": [
    "def pop(cdll: CircularDoublyLinkedList):\n",
    "    popped_node = cdll.tail\n",
    "\n",
    "    if popped_node is None:\n",
    "        return None\n",
    "    elif cdll.length == 1:\n",
    "        cdll.head = None\n",
    "        cdll.tail = None\n",
    "    else:\n",
    "        cdll.tail = cdll.tail.prev\n",
    "\n",
    "        popped_node.next = None\n",
    "        popped_node.prev = None\n",
    "\n",
    "        cdll.tail.next = cdll.head\n",
    "        cdll.head.prev = cdll.tail\n",
    "    \n",
    "    cdll.length -= 1\n",
    "    return popped_node"
   ]
  },
  {
   "cell_type": "code",
   "execution_count": 276,
   "metadata": {},
   "outputs": [
    {
     "name": "stdout",
     "output_type": "stream",
     "text": [
      "10 AM\n",
      "11 AM\n",
      "12 AM\n",
      "12:59 AM\n",
      "1 AM\n",
      "1:59 AM\n",
      "2 AM\n",
      "3 AM\n"
     ]
    }
   ],
   "source": [
    "pop(cdll)\n",
    "pop(cdll)\n",
    "traverse(cdll)"
   ]
  },
  {
   "cell_type": "markdown",
   "metadata": {},
   "source": [
    "### Remove method"
   ]
  },
  {
   "cell_type": "code",
   "execution_count": 277,
   "metadata": {},
   "outputs": [],
   "source": [
    "def remove(cdll: CircularDoublyLinkedList, idx):\n",
    "    popped_node = get(cdll, idx)\n",
    "\n",
    "    if idx <= 0 and idx != -1:\n",
    "        pop_first(cdll)\n",
    "    elif idx >= cdll.length or idx == -1:\n",
    "        pop(cdll)\n",
    "    else:\n",
    "        popped_node.prev.next = popped_node.next\n",
    "        popped_node.next.prev = popped_node.prev\n",
    "\n",
    "        popped_node.prev = None\n",
    "        popped_node.next = None\n",
    "\n",
    "    cdll.length -= 1\n",
    "    return popped_node"
   ]
  },
  {
   "cell_type": "code",
   "execution_count": 278,
   "metadata": {},
   "outputs": [
    {
     "name": "stdout",
     "output_type": "stream",
     "text": [
      "Head[134418656882992<-'10 AM'->134418657735776] <=> Node[134418656876464<-'11 AM'->134418656965200] <=> Node[134418657735776<-'12 AM'->134418656966880] <=> Node[134418656965200<-'12:59 AM'->134418654035728] <=> Node[134418656966880<-'1 AM'->134418656966496] <=> Node[134418654035728<-'1:59 AM'->134418656873488] <=> Node[134418656966496<-'2 AM'->134418656882992] <=> Tail[134418656873488<-'3 AM'->134418656876464]\n",
      "10 AM\n",
      "11 AM\n",
      "12 AM\n",
      "12:59 AM\n",
      "1 AM\n",
      "1:59 AM\n",
      "2 AM\n",
      "3 AM\n"
     ]
    }
   ],
   "source": [
    "print(cdll)\n",
    "traverse(cdll)"
   ]
  },
  {
   "cell_type": "code",
   "execution_count": 279,
   "metadata": {},
   "outputs": [
    {
     "name": "stdout",
     "output_type": "stream",
     "text": [
      "Head[134418656882992<-'10 AM'->134418657735776] <=> Node[134418656876464<-'11 AM'->134418656965200] <=> Node[134418657735776<-'12 AM'->134418656966880] <=> Node[134418656965200<-'12:59 AM'->134418654035728] <=> Node[134418656966880<-'1 AM'->134418656966496] <=> Node[134418654035728<-'1:59 AM'->134418656873488] <=> Node[134418656966496<-'2 AM'->134418656882992] <=> Tail[134418656873488<-'3 AM'->134418656876464]\n",
      "10 AM\n",
      "11 AM\n",
      "Head[134418656882992<-'12 AM'->134418656966880] <=> Node[134418656965200<-'12:59 AM'->134418654035728] <=> Node[134418656966880<-'1 AM'->134418656966496] <=> Node[134418654035728<-'1:59 AM'->134418656873488] <=> Node[134418656966496<-'2 AM'->134418656882992] <=> Tail[134418656873488<-'3 AM'->134418656965200]\n"
     ]
    }
   ],
   "source": [
    "print(cdll)\n",
    "print(remove(cdll, -365))\n",
    "print(remove(cdll, 0))\n",
    "print(cdll)"
   ]
  },
  {
   "cell_type": "code",
   "execution_count": 280,
   "metadata": {},
   "outputs": [
    {
     "name": "stdout",
     "output_type": "stream",
     "text": [
      "Head[134418656882992<-'12 AM'->134418656966880] <=> Node[134418656965200<-'12:59 AM'->134418654035728] <=> Node[134418656966880<-'1 AM'->134418656966496] <=> Node[134418654035728<-'1:59 AM'->134418656873488] <=> Node[134418656966496<-'2 AM'->134418656882992] <=> Tail[134418656873488<-'3 AM'->134418656965200]\n",
      "3 AM\n",
      "2 AM\n",
      "1:59 AM\n",
      "Head[134418654035728<-'12 AM'->134418656966880] <=> Node[134418656965200<-'12:59 AM'->134418654035728] <=> Tail[134418656966880<-'1 AM'->134418656965200]\n"
     ]
    }
   ],
   "source": [
    "print(cdll)\n",
    "print(remove(cdll, -1))\n",
    "print(remove(cdll, cdll.length))\n",
    "print(remove(cdll, 365))\n",
    "print(cdll)"
   ]
  },
  {
   "cell_type": "code",
   "execution_count": 281,
   "metadata": {},
   "outputs": [
    {
     "name": "stdout",
     "output_type": "stream",
     "text": [
      "Head[134418654035728<-'12 AM'->134418656966880] <=> Node[134418656965200<-'12:59 AM'->134418654035728] <=> Tail[134418656966880<-'1 AM'->134418656965200]\n",
      "1 AM\n",
      "Head[134418656966880<-'12 AM'->134418656966880] <=> Tail[134418656965200<-'12:59 AM'->134418656965200]\n"
     ]
    }
   ],
   "source": [
    "print(cdll)\n",
    "print(remove(cdll, 1))\n",
    "print(cdll)"
   ]
  },
  {
   "cell_type": "markdown",
   "metadata": {},
   "source": [
    "### Truncate method"
   ]
  },
  {
   "cell_type": "code",
   "execution_count": 282,
   "metadata": {},
   "outputs": [],
   "source": [
    "def truncate(cdll: CircularDoublyLinkedList):\n",
    "    cdll.head = None\n",
    "    cdll.tail = None\n",
    "    cdll.length = 0"
   ]
  },
  {
   "cell_type": "code",
   "execution_count": 283,
   "metadata": {},
   "outputs": [
    {
     "name": "stdout",
     "output_type": "stream",
     "text": [
      "Head[134418656966880<-'12 AM'->134418656966880] <=> Tail[134418656965200<-'12:59 AM'->134418656965200]\n",
      "\n"
     ]
    }
   ],
   "source": [
    "print(cdll)\n",
    "truncate(cdll)\n",
    "print(cdll)"
   ]
  },
  {
   "cell_type": "code",
   "execution_count": null,
   "metadata": {},
   "outputs": [],
   "source": []
  }
 ],
 "metadata": {
  "kernelspec": {
   "display_name": "Python 3",
   "language": "python",
   "name": "python3"
  },
  "language_info": {
   "codemirror_mode": {
    "name": "ipython",
    "version": 3
   },
   "file_extension": ".py",
   "mimetype": "text/x-python",
   "name": "python",
   "nbconvert_exporter": "python",
   "pygments_lexer": "ipython3",
   "version": "3.10.13"
  }
 },
 "nbformat": 4,
 "nbformat_minor": 2
}
