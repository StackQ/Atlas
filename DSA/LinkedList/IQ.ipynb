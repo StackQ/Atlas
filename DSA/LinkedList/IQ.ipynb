{
 "cells": [
  {
   "cell_type": "markdown",
   "metadata": {},
   "source": [
    "#### Doubly Linked List"
   ]
  },
  {
   "cell_type": "code",
   "execution_count": 43,
   "metadata": {},
   "outputs": [],
   "source": [
    "class Node:\n",
    "    def __init__(self, value) -> None:\n",
    "        self.value = value\n",
    "        self.next = None\n",
    "        self.prev = None\n",
    "\n",
    "class DoublyLinkedList:\n",
    "    def __init__(self) -> None:\n",
    "        self.head = None\n",
    "        self.tail = None\n",
    "        self.length = 0\n",
    "\n",
    "    # def __str__(self) -> str:\n",
    "    #     ptr = self.head\n",
    "    #     str_repr = \"\"\n",
    "\n",
    "    #     while ptr:\n",
    "    #         str_repr += str(ptr.value)\n",
    "    #         if ptr.next:\n",
    "    #             str_repr += \" <-> \"\n",
    "    #         ptr = ptr.next\n",
    "\n",
    "    #     return str_repr\n",
    "\n",
    "    def __str__(self) -> str:\n",
    "        ptr = self.head\n",
    "        str_repr = \"\"\n",
    "        cntr = 0\n",
    "\n",
    "        while ptr:\n",
    "            if ptr == self.head:\n",
    "                node_type = \"HEAD\"\n",
    "            elif ptr == self.tail:\n",
    "                node_type = \"TAIL\"\n",
    "            else:\n",
    "                node_type = \"NODE\"\n",
    "            str_repr += f\"\\n{cntr * 4 * ' '}{node_type}[{id(ptr.prev)} < \\033[1m{ptr.value}\\033[0m > {id(ptr.next)}]\"\n",
    "\n",
    "            if ptr.next:\n",
    "                str_repr += \" <=> \"\n",
    "            ptr = ptr.next\n",
    "            cntr += 1\n",
    "\n",
    "        return str_repr        \n",
    "\n",
    "    def append(self, value):\n",
    "        new_node = Node(value)\n",
    "\n",
    "        if self.length == 0 or self.head is None or self.tail is None:\n",
    "            self.head = new_node\n",
    "            self.tail = new_node\n",
    "        else:\n",
    "            self.tail.next = new_node\n",
    "            new_node.prev = self.tail\n",
    "            self.tail = new_node\n",
    "        self.length += 1\n",
    "\n",
    "    def prepend(self, value):\n",
    "        new_node = Node(value)\n",
    "\n",
    "        if self.length == 0:\n",
    "            self.head = new_node\n",
    "            self.tail = new_node\n",
    "        else:\n",
    "            self.head.prev = new_node\n",
    "            new_node.next = self.head\n",
    "            self.head = new_node\n",
    "        self.length += 1\n",
    "\n",
    "    def traverse(self):\n",
    "        ptr = self.head\n",
    "        while ptr:\n",
    "            print(ptr.value)\n",
    "            ptr = ptr.next\n",
    "\n",
    "    def reverse_traverse(self):\n",
    "        ptr = self.tail\n",
    "        while ptr:\n",
    "            print(ptr.value)\n",
    "            ptr = ptr.prev\n",
    "\n",
    "    def search(self, value):\n",
    "        ptr = self.head\n",
    "        idx = 0\n",
    "\n",
    "        while ptr:\n",
    "            if ptr.value == value:\n",
    "                return idx\n",
    "            idx += 1\n",
    "        return \"Value doesn't exist\"\n",
    "\n",
    "    def get(self, idx):\n",
    "        #assert int(idx) == idx, \"Incorrect Index\"\n",
    "        ptr = self.head\n",
    "        for _ in range(idx):\n",
    "            ptr = ptr.next\n",
    "        return ptr\n",
    "\n",
    "    def set(self, idx, value):\n",
    "        idx_node = self.get(idx)\n",
    "        if idx_node:\n",
    "            idx_node.value = value\n",
    "            return True\n",
    "        return False\n",
    "\n",
    "    def insert(self, idx, value):\n",
    "        new_node = Node(value)\n",
    "        idx_prev_node = self.get(idx-1)\n",
    "\n",
    "        new_node.next = idx_prev_node.next\n",
    "        new_node.prev = idx_prev_node\n",
    "        new_node.next.prev = new_node\n",
    "        idx_prev_node.next = new_node\n",
    "        self.length += 1\n",
    "\n",
    "    def pop_first(self):\n",
    "        head_node = self.head\n",
    "\n",
    "        if self.length == 0:\n",
    "            return None\n",
    "        elif self.length == 1:\n",
    "            self.head = None\n",
    "            self.tail = None\n",
    "        else:\n",
    "            self.head = head_node.next\n",
    "            self.head.prev = None\n",
    "            head_node.next = None\n",
    "        self.length -= 1\n",
    "        return head_node\n",
    "\n",
    "    def pop(self):\n",
    "        tail_node = self.tail\n",
    "\n",
    "        if self.length <= 1:\n",
    "            self.head = None\n",
    "            self.tail = None\n",
    "        else:\n",
    "            self.tail = tail_node.prev\n",
    "            self.tail.next = None\n",
    "            tail_node.prev = None\n",
    "        self.length -= 1\n",
    "        return tail_node\n",
    "\n",
    "    def remove(self, idx):\n",
    "        node_to_remove = self.get(idx)\n",
    "\n",
    "        node_to_remove.prev.next = node_to_remove.next\n",
    "        node_to_remove.next.prev = node_to_remove.prev\n",
    "\n",
    "        node_to_remove.next = None\n",
    "        node_to_remove.prev = None\n",
    "        self.length -= 1\n",
    "\n"
   ]
  },
  {
   "cell_type": "code",
   "execution_count": 44,
   "metadata": {},
   "outputs": [
    {
     "name": "stdout",
     "output_type": "stream",
     "text": [
      "\n",
      "HEAD[108283379606208 < \u001b[1m5\u001b[0m > 123790715099392] <=> \n",
      "    NODE[123790715098288 < \u001b[1m10\u001b[0m > 123790715095792] <=> \n",
      "        NODE[123790715099392 < \u001b[1m20\u001b[0m > 123790715099008] <=> \n",
      "            NODE[123790715095792 < \u001b[1m30\u001b[0m > 123790715097280] <=> \n",
      "                TAIL[123790715099008 < \u001b[1m40\u001b[0m > 108283379606208]\n"
     ]
    }
   ],
   "source": [
    "dll = DoublyLinkedList()\n",
    "dll.append(10)\n",
    "dll.append(20)\n",
    "dll.append(30)\n",
    "dll.append(40)\n",
    "dll.prepend(5)\n",
    "\n",
    "print(dll)"
   ]
  },
  {
   "cell_type": "code",
   "execution_count": null,
   "metadata": {},
   "outputs": [],
   "source": [
    "# This is an input class. Do not edit.\n",
    "class Node:\n",
    "    def __init__(self, value):\n",
    "        self.value = value\n",
    "        self.prev = None\n",
    "        self.next = None\n",
    "\n",
    "\n",
    "# Feel free to add new properties and methods to the class.\n",
    "class DoublyLinkedList:\n",
    "    def __init__(self):\n",
    "        self.head = None\n",
    "        self.tail = None\n",
    "        self.length = 0\n",
    "\n",
    "    def insertBefore(self, node, nodeToInsert):\n",
    "        # Write your code here.\n",
    "        if self.length == 0:\n",
    "            self.head = node\n",
    "            self.tail = node\n",
    "        else:\n",
    "            \n",
    "\n",
    "\n",
    "    def insertAfter(self, node, nodeToInsert):\n",
    "        # Write your code here.\n",
    "        pass\n",
    "\n",
    "    def insertAtPosition(self, position, nodeToInsert):\n",
    "        # Write your code here.\n",
    "        pass        \n",
    "\n",
    "    def setHead(self, node):\n",
    "        # Write your code here.\n",
    "        pass\n",
    "\n",
    "    def setTail(self, node):\n",
    "        # Write your code here.\n",
    "        pass\n",
    "\n",
    "\n",
    "\n",
    "    def removeNodesWithValue(self, value):\n",
    "        # Write your code here.\n",
    "        pass\n",
    "\n",
    "    def remove(self, node):\n",
    "        # Write your code here.\n",
    "        pass\n",
    "\n",
    "    def containsNodeWithValue(self, value):\n",
    "        # Write your code here.\n",
    "        pass\n"
   ]
  },
  {
   "cell_type": "markdown",
   "metadata": {},
   "source": [
    "#### SLL"
   ]
  },
  {
   "cell_type": "code",
   "execution_count": 1,
   "metadata": {},
   "outputs": [],
   "source": [
    "class Node:\n",
    "    def __init__(self, value) -> None:\n",
    "        self.value = value\n",
    "        self.next = None\n",
    "\n",
    "class SinglyLinkedList:\n",
    "    def __init__(self) -> None:\n",
    "        self.head = None\n",
    "        self.tail = None\n",
    "        self.length = 0\n",
    "\n",
    "    def __str__(self) -> str:\n",
    "        current_pointer = self.head\n",
    "        result = \"\"\n",
    "\n",
    "        while current_pointer is not None:\n",
    "            result += str(current_pointer.value)\n",
    "            if current_pointer.next is not None:\n",
    "                result += \" -> \"\n",
    "            current_pointer = current_pointer.next\n",
    "\n",
    "        return result\n",
    "    \n",
    "    def append(self, value):\n",
    "        new_node = Node(value)\n",
    "\n",
    "        if self.head is None or self.length == 0:\n",
    "            self.head = new_node\n",
    "            self.tail = new_node\n",
    "        else:\n",
    "            self.tail.next = new_node\n",
    "            self.tail = new_node\n",
    "        self.length += 1\n",
    "\n",
    "    def prepend(self, value):\n",
    "        new_node = Node(value)\n",
    "\n",
    "        if self.head is None or self.length == 0:\n",
    "            self.head = new_node\n",
    "            self.tail = new_node\n",
    "        else:\n",
    "            new_node.next = self.head\n",
    "            self.head = new_node\n",
    "        self.length += 1\n",
    "\n",
    "    def insert(self, index, value):\n",
    "        new_node = Node(value)\n",
    "        current_pointer = self.head\n",
    "\n",
    "        for _ in range(index-1):\n",
    "            current_pointer = current_pointer.next\n",
    "        new_node.next = current_pointer.next\n",
    "        current_pointer.next = new_node\n",
    "        self.length += 1"
   ]
  },
  {
   "cell_type": "code",
   "execution_count": null,
   "metadata": {},
   "outputs": [],
   "source": [
    "Remove Kth Node From End\n",
    "Write a function that takes in the head of a Singly Linked List and an integer k and removes the kth node from the end of the list.\n",
    "\n",
    "The removal should be done in place, meaning that the original data structure should be mutated (no new structure should be created).\n",
    "\n",
    "Furthermore, the input head of the linked list should remain the head of the linked list after the removal is done, even if the head is the node that's supposed to be removed. In other words, if the head is the node that's supposed to be removed, your function should simply mutate its value and next pointer.\n",
    "\n",
    "Note that your function doesn't need to return anything.\n",
    "\n",
    "You can assume that the input Linked List will always have at least two nodes and, more specifically, at least k nodes.\n",
    "\n",
    "Each LinkedList node has an integer value as well as a next node pointing to the next node in the list or to None / null if it's the tail of the list.\n",
    "\n",
    "Sample Input\n",
    "head = 0 -> 1 -> 2 -> 3 -> 4 -> 5 -> 6 -> 7 -> 8 -> 9 // the head node with value 0\n",
    "k = 4\n",
    "Sample Output\n",
    "// No output required.\n",
    "// The 4th node from the end of the list (the node with value 6) is removed.\n",
    "0 -> 1 -> 2 -> 3 -> 4 -> 5 -> 7 -> 8 -> 9"
   ]
  },
  {
   "cell_type": "code",
   "execution_count": 174,
   "metadata": {},
   "outputs": [
    {
     "name": "stdout",
     "output_type": "stream",
     "text": [
      "0 -> 1 -> 2 -> 3 -> 4 -> 5 -> 6 -> 7 -> 8 -> 9\n"
     ]
    }
   ],
   "source": [
    "sll = SinglyLinkedList()\n",
    "\n",
    "sll.append(0)\n",
    "sll.append(1)\n",
    "sll.append(2)\n",
    "sll.append(3)\n",
    "sll.append(4)\n",
    "sll.append(5)\n",
    "sll.append(6)\n",
    "sll.append(7)\n",
    "sll.append(8)\n",
    "sll.append(9)\n",
    "\n",
    "print(sll)"
   ]
  },
  {
   "cell_type": "code",
   "execution_count": 172,
   "metadata": {},
   "outputs": [],
   "source": [
    "def removeKthNodeFromEnd(sll:SinglyLinkedList, kth_idx):\n",
    "    sll_len = 0\n",
    "    ptr = sll.head\n",
    "    while ptr:\n",
    "        sll_len += 1\n",
    "        ptr = ptr.next\n",
    "    \n",
    "    ptr = sll.head\n",
    "    kth_node = ptr.next \n",
    "    # print(f\"current={ptr.value}\")\n",
    "    if kth_idx == sll_len:\n",
    "        sll.head = ptr.next\n",
    "        ptr.next = None\n",
    "    else:    \n",
    "        for x in range(10-kth_idx-1,0,-1):\n",
    "            ptr = ptr.next\n",
    "            kth_node = ptr.next    \n",
    "            # print(f\"prev={ptr.value} | kth={kth_node.value}\")    \n",
    "\n",
    "        ptr.next = kth_node.next\n",
    "        kth_node.next = None\n",
    "        sll.length -= 1\n",
    "    print(sll)\n"
   ]
  },
  {
   "cell_type": "code",
   "execution_count": 164,
   "metadata": {},
   "outputs": [
    {
     "name": "stdout",
     "output_type": "stream",
     "text": [
      "0 -> 1 -> 2 -> 3 -> 4 -> 5 -> 7 -> 8 -> 9\n"
     ]
    }
   ],
   "source": [
    "removeKthNodeFromEnd(sll,4)"
   ]
  },
  {
   "cell_type": "code",
   "execution_count": 166,
   "metadata": {},
   "outputs": [
    {
     "name": "stdout",
     "output_type": "stream",
     "text": [
      "0 -> 2 -> 3 -> 4 -> 5 -> 6 -> 7 -> 8 -> 9\n"
     ]
    }
   ],
   "source": [
    "removeKthNodeFromEnd(sll,9)"
   ]
  },
  {
   "cell_type": "code",
   "execution_count": 168,
   "metadata": {},
   "outputs": [
    {
     "name": "stdout",
     "output_type": "stream",
     "text": [
      "1 -> 2 -> 3 -> 4 -> 5 -> 6 -> 7 -> 8 -> 9\n"
     ]
    }
   ],
   "source": [
    "removeKthNodeFromEnd(sll,10)"
   ]
  },
  {
   "cell_type": "code",
   "execution_count": 177,
   "metadata": {},
   "outputs": [
    {
     "name": "stdout",
     "output_type": "stream",
     "text": [
      "0 -> 1 -> 2 -> 3 -> 4 -> 5 -> 6 -> 7 -> 8 -> 9\n"
     ]
    }
   ],
   "source": [
    "print(sll)"
   ]
  },
  {
   "cell_type": "code",
   "execution_count": 175,
   "metadata": {},
   "outputs": [],
   "source": [
    "#The length function uses recursion, which isn't efficient, just for sake of one-liner\n",
    "def get_length(head):\n",
    "    return 0 if head is None else 1 + get_length(head.next)\n",
    "\n",
    "def removeKthNodeFromEnd_v2(head_node, k):\n",
    "    #removePos = get_length(head_node) - k +1\n",
    "    sll_len = 0\n",
    "    ptr = head_node\n",
    "    while ptr:\n",
    "        sll_len += 1\n",
    "        ptr = ptr.next\n",
    "\n",
    "    removePos = sll_len - k + 1\n",
    "\n",
    "    if removePos == 1:\n",
    "        head.value, head.next = head.next.value, head.next.next \n",
    "    else:\n",
    "        curr = head\n",
    "        for _ in range(1, removePos - 1):\n",
    "            curr = curr.next\n",
    "        curr.next = curr.next.next"
   ]
  },
  {
   "cell_type": "code",
   "execution_count": 176,
   "metadata": {},
   "outputs": [
    {
     "data": {
      "text/plain": [
       "10"
      ]
     },
     "execution_count": 176,
     "metadata": {},
     "output_type": "execute_result"
    }
   ],
   "source": [
    "get_length(sll.head)"
   ]
  },
  {
   "cell_type": "markdown",
   "metadata": {},
   "source": [
    "Sum of Linked Lists\n",
    "You're given two Linked Lists of potentially unequal length. Each Linked List represents a non-negative integer, where each node in the Linked List is a digit of that integer, and the first node in each Linked List always represents the least significant digit of the integer. Write a function that returns the head of a new Linked List that represents the sum of the integers represented by the two input Linked Lists.\n",
    "\n",
    "Each LinkedList node has an integer value as well as a next node pointing to the next node in the list or to None / null if it's the tail of the list. The value of each LinkedList node is always in the range of 0 - 9.\n",
    "\n",
    "Note: your function must create and return a new Linked List, and you're not allowed to modify either of the input Linked Lists.\n",
    "\n",
    "Sample Input\n",
    "linkedListOne = 2 -> 4 -> 7 -> 1\n",
    "linkedListTwo = 9 -> 4 -> 5\n",
    "Sample Output\n",
    "1 -> 9 -> 2 -> 2\n",
    "// linkedListOne represents 1742\n",
    "// linkedListTwo represents 549\n",
    "// 1742 + 549 = 2291"
   ]
  },
  {
   "cell_type": "code",
   "execution_count": 221,
   "metadata": {},
   "outputs": [
    {
     "name": "stdout",
     "output_type": "stream",
     "text": [
      "2 -> 4 -> 7 -> 1\n",
      "9 -> 4 -> 5\n"
     ]
    }
   ],
   "source": [
    "linkedListOne = SinglyLinkedList()\n",
    "linkedListOne.append(2)\n",
    "linkedListOne.append(4)\n",
    "linkedListOne.append(7)\n",
    "linkedListOne.append(1)\n",
    "\n",
    "linkedListTwo = SinglyLinkedList()\n",
    "linkedListTwo.append(9)\n",
    "linkedListTwo.append(4)\n",
    "linkedListTwo.append(5)\n",
    "\n",
    "print(linkedListOne)\n",
    "print(linkedListTwo)"
   ]
  },
  {
   "cell_type": "code",
   "execution_count": 215,
   "metadata": {},
   "outputs": [],
   "source": [
    "def sumOfLinkedLists(linkedListOne, linkedListTwo):\n",
    "    # Write your code here.\n",
    "    ptrOne = linkedListOne.head\n",
    "    ptrTwo = linkedListTwo.head\n",
    "\n",
    "    list1, list2 = [],[]\n",
    "\n",
    "    while ptrOne:\n",
    "        list1.append(str(ptrOne.value))\n",
    "        ptrOne = ptrOne.next\n",
    "\n",
    "    while ptrTwo:\n",
    "        list2.append(str(ptrTwo.value))\n",
    "        ptrTwo = ptrTwo.next        \n",
    "\n",
    "    newLinkListValues = list(str(int(''.join(list1[::-1])) + int(''.join(list2[::-1])))[::-1])\n",
    "    newLinkList = SinglyLinkedList()\n",
    "    for val in newLinkListValues:\n",
    "        newLinkList.append(val)\n",
    "    print(newLinkList)"
   ]
  },
  {
   "cell_type": "code",
   "execution_count": 216,
   "metadata": {},
   "outputs": [
    {
     "name": "stdout",
     "output_type": "stream",
     "text": [
      "1 -> 9 -> 2 -> 2\n"
     ]
    }
   ],
   "source": [
    "sumOfLinkedLists(linkedListOne, linkedListTwo)"
   ]
  },
  {
   "cell_type": "code",
   "execution_count": 196,
   "metadata": {},
   "outputs": [
    {
     "data": {
      "text/plain": [
       "['1', '9', '2', '2']"
      ]
     },
     "execution_count": 196,
     "metadata": {},
     "output_type": "execute_result"
    }
   ],
   "source": [
    "list(str(int(''.join(['1', '7', '4', '2'])) + int(''.join(['5', '4', '9'])))[::-1])"
   ]
  },
  {
   "cell_type": "code",
   "execution_count": null,
   "metadata": {},
   "outputs": [],
   "source": [
    "# This is an input class. Do not edit.\n",
    "class LinkedList:\n",
    "    def __init__(self, value):\n",
    "        self.value = value\n",
    "        self.next = None\n",
    "\n",
    "\n",
    "def sumOfLinkedLists(linkedListOne, linkedListTwo):\n",
    "    # Write your code here.\n",
    "    ptrOne = linkedListOne\n",
    "    ptrTwo = linkedListTwo\n",
    "\n",
    "    list1, list2 = [],[]\n",
    "\n",
    "    while ptrOne:\n",
    "        list1.append(str(ptrOne.value))\n",
    "        ptrOne = ptrOne.next\n",
    "\n",
    "    while ptrTwo:\n",
    "        list2.append(str(ptrTwo.value))\n",
    "        ptrTwo = ptrTwo.next        \n",
    "\n",
    "    newLinkListValues = list(str(int(''.join(list1[::-1])) + int(''.join(list2[::-1])))[::-1])\n",
    "    newLinkedistHeadPointer = LinkedList(0)\n",
    "    currentNode = newLinkedistHeadPointer\n",
    "    for val in newLinkListValues:\n",
    "        #newLinkList.append(val)\n",
    "        newNode = LinkedList(int(val))\n",
    "        currentNode.next = newNode\n",
    "        currentNode = newNode\n",
    "    return newLinkedistHeadPointer.next"
   ]
  },
  {
   "cell_type": "markdown",
   "metadata": {},
   "source": [
    "##### Merging Linked List"
   ]
  },
  {
   "cell_type": "markdown",
   "metadata": {},
   "source": [
    "You're given two Linked Lists of potentially unequal length. These Linked Lists potentially merge at a shared intersection node. Write a function that returns the intersection node or returns None / null if there is no intersection.\n",
    "\n",
    "Each LinkedList node has an integer value as well as a next node pointing to the next node in the list or to None / null if it's the tail of the list.\n",
    "\n",
    "Note: Your function should return an existing node. It should not modify either Linked List, and it should not create any new Linked Lists.\n",
    "\n",
    "Sample Input::  \n",
    "linkedListOne = 2 -> 3 -> 1 -> 4  \n",
    "linkedListTwo = 8 -> 7 -> 1 -> 4  \n",
    "\n",
    "Sample Output::\n",
    "1 -> 4 // The lists intersect at the node with value 1  "
   ]
  },
  {
   "cell_type": "code",
   "execution_count": 30,
   "metadata": {},
   "outputs": [
    {
     "name": "stdout",
     "output_type": "stream",
     "text": [
      "2 -> 3 -> 1 -> 4\n",
      "8 -> 7 -> 1 -> 4\n"
     ]
    }
   ],
   "source": [
    "objSLL1 = SinglyLinkedList()\n",
    "for val in [2,3,1,4]:\n",
    "    objSLL1.append(val)\n",
    "\n",
    "objSLL2 = SinglyLinkedList()\n",
    "for _val in [8,7,1,4]:\n",
    "    objSLL2.append(_val)\n",
    "\n",
    "print(objSLL1)\n",
    "print(objSLL2)"
   ]
  },
  {
   "cell_type": "code",
   "execution_count": 33,
   "metadata": {},
   "outputs": [
    {
     "name": "stdout",
     "output_type": "stream",
     "text": [
      "1 -> 4\n"
     ]
    }
   ],
   "source": [
    "def mergingLinkedLists(linkedListOne, linkedListTwo):\n",
    "    pointer1 = linkedListOne\n",
    "    pointer2 = linkedListTwo\n",
    "\n",
    "    while pointer1.value != pointer2.value:\n",
    "        if pointer1.next:\n",
    "            pointer1 = pointer1.next                   \n",
    "        else:\n",
    "            pointer1 = linkedListTwo     \n",
    "\n",
    "        if pointer2.next:\n",
    "            pointer2 = pointer2.next                     \n",
    "        else:\n",
    "            pointer2 = linkedListOne   \n",
    "\n",
    "    tstr=\"\"\n",
    "    if pointer1:\n",
    "        while pointer1:\n",
    "            tstr += str(pointer1.value)\n",
    "            if pointer1.next: tstr += ' -> '\n",
    "            pointer1 = pointer1.next\n",
    "\n",
    "    print(tstr) \n",
    "    return pointer1\n",
    "\n",
    "mergingLinkedLists(objSLL1.head, objSLL2.head)"
   ]
  },
  {
   "cell_type": "code",
   "execution_count": null,
   "metadata": {},
   "outputs": [
    {
     "name": "stdout",
     "output_type": "stream",
     "text": [
      "2 -> 3 -> 5 -> 6 -> 1 -> 4\n",
      "8 -> 7 -> 1 -> 4\n",
      "1 -> 4\n"
     ]
    }
   ],
   "source": [
    "objSLL1 = SinglyLinkedList()\n",
    "for val in [2,3,5,6, 1, 4]:\n",
    "    objSLL1.append(val)\n",
    "\n",
    "objSLL2 = SinglyLinkedList()\n",
    "for _val in [8,7,1,4]:\n",
    "    objSLL2.append(_val)\n",
    "\n",
    "print(objSLL1)\n",
    "print(objSLL2)\n",
    "\n",
    "mergingLinkedLists(objSLL1.head, objSLL2.head)"
   ]
  },
  {
   "cell_type": "code",
   "execution_count": null,
   "metadata": {},
   "outputs": [],
   "source": [
    "#short code for above code\n",
    "#Time = O(n+m) TIME | Space = O(1), n=len of linkedList1, m=len of linkedList2\n",
    "def mergingLinkedLists(linkedListOne, linkedListTwo):\n",
    "    l1 = linkedListOne.head\n",
    "    l2 = linkedListTwo.head\n",
    "    while l1.value != l2.value:\n",
    "        l1 = l1.next if l1 else linkedListTwo\n",
    "        l2 = l2.next if l2 else linkedListOne\n",
    "\n",
    "    return l1"
   ]
  },
  {
   "cell_type": "markdown",
   "metadata": {},
   "source": [
    "#### Merge Linked Lists"
   ]
  },
  {
   "cell_type": "markdown",
   "metadata": {},
   "source": [
    "Write a function that takes in the heads of two Singly Linked Lists that are in sorted order, respectively. The function should merge the lists in place (i.e., it shouldn't create a brand new list) and return the head of the merged list; the merged list should be in sorted order.\n",
    "\n",
    "Each LinkedList node has an integer value as well as a next node pointing to the next node in the list or to None / null if it's the tail of the list.\n",
    "\n",
    "You can assume that the input linked lists will always have at least one node; in other words, the heads will never be None / null.\n",
    "\n",
    "Sample Input::  \n",
    "headOne = 2 -> 6 -> 7 -> 8 // the head node with value 2  \n",
    "headTwo = 1 -> 3 -> 4 -> 5 -> 9 -> 10 // the head node with value 1  \n",
    "Sample Output::  \n",
    "1 -> 2 -> 3 -> 4 -> 5 -> 6 -> 7 -> 8 -> 9 -> 10 // the new head node with value 1"
   ]
  },
  {
   "cell_type": "code",
   "execution_count": null,
   "metadata": {},
   "outputs": [],
   "source": [
    "class LinkedList:\n",
    "    def __init__(self, value):\n",
    "        self.value = value\n",
    "        self.next = None\n",
    "\n",
    "def mergeLinkedList(headOne, headTwo):\n",
    "    dummy = LinkedList(-1)\n",
    "    prev = dummy\n",
    "\n",
    "    while headOne and headTwo:\n",
    "        if headOne.value < headTwo.value:\n",
    "            prev.next = headOne\n",
    "            headOne = headOne.next\n",
    "        else:\n",
    "            prev.next = headTwo\n",
    "            headTwo = headTwo.next\n",
    "        prev = prev.next\n",
    "\n",
    "    #head1 or head2 could be None if they aren't equal lengths\n",
    "    #connect the list to remaining portion\n",
    "    prev.next = headTwo if headOne is None else headOne\n",
    "\n",
    "    return dummy.next"
   ]
  },
  {
   "cell_type": "markdown",
   "metadata": {},
   "source": [
    "#### Shift Linked List"
   ]
  },
  {
   "cell_type": "markdown",
   "metadata": {},
   "source": [
    "Write a function that takes in the head of a Singly Linked List and an integer k, shifts the list in place (i.e., doesn't create a brand new list) by k positions, and returns its new head.\n",
    "\n",
    "Shifting a Linked List means moving its nodes forward or backward and wrapping them around the list where appropriate. For example, shifting a Linked List forward by one position would make its tail become the new head of the linked list.\n",
    "\n",
    "Whether nodes are moved forward or backward is determined by whether k is positive or negative.\n",
    "\n",
    "Each LinkedList node has an integer value as well as a next node pointing to the next node in the list or to None / null if it's the tail of the list.\n",
    "\n",
    "You can assume that the input Linked List will always have at least one node; in other words, the head will never be None / null.\n",
    "\n",
    "Sample Input::  \n",
    "head = 0 -> 1 -> 2 -> 3 -> 4 -> 5 // the head node with value 0  \n",
    "k = 2  \n",
    "Sample Output  \n",
    "4 -> 5 -> 0 -> 1 -> 2 -> 3 // the new head node with value 4  "
   ]
  },
  {
   "cell_type": "code",
   "execution_count": null,
   "metadata": {},
   "outputs": [],
   "source": [
    "class LinkedList:\n",
    "    def __init__(self, value):\n",
    "        self.value = value\n",
    "        self.next = None\n",
    "\n",
    "\n",
    "def shiftLinkedList(head, k):\n",
    "    currentNode = head\n",
    "    length = 1\n",
    "\n",
    "    while currentNode.next:\n",
    "        length += 1\n",
    "        currentNode = currentNode.next\n",
    "\n",
    "    k = k % length # relative shift(modulo list length)\n",
    "\n",
    "    if k == 0: return head # there is no shift needed\n",
    "\n",
    "    currentNode.next = head # as currentNode already at Tail, join it with head to make it circular\n",
    "    \n",
    "    knode = head  #now to find knode start with head\n",
    "    for i in range(length-k-1):\n",
    "        knode = knode.next   #at the end of for loop it will reach to kth prev node which would be tail now\n",
    "\n",
    "    head = knode.next  #our linkedlist is circular now, knode is at tail position so it's next would be head after breaking cycle\n",
    "    knode.next = None\n",
    "\n",
    "    return head"
   ]
  },
  {
   "cell_type": "markdown",
   "metadata": {},
   "source": [
    "#### LRU Cache"
   ]
  },
  {
   "cell_type": "markdown",
   "metadata": {},
   "source": [
    "Implement an LRUCache class for a Least Recently Used (LRU) cache. The class should support:\n",
    "\n",
    "Inserting key-value pairs with the insertKeyValuePair method.\n",
    "Retrieving a key's value with the getValueFromKey method.\n",
    "Retrieving the most recently used (the most recently inserted or retrieved) key with the getMostRecentKey method.\n",
    "Each of these methods should run in constant time.\n",
    "\n",
    "Additionally, the LRUCache class should store a maxSize property set to the size of the cache, which is passed in as an argument during instantiation. This size represents the maximum number of key-value pairs that the cache can store at once. If a key-value pair is inserted in the cache when it has reached maximum capacity, the least recently used key-value pair should be evicted from the cache and no longer retrievable; the newly added key-value pair should effectively replace it.\n",
    "\n",
    "Note that inserting a key-value pair with an already existing key should simply replace the key's value in the cache with the new value and shouldn't evict a key-value pair if the cache is full. Lastly, attempting to retrieve a value from a key that isn't in the cache should return None / null.\n",
    "\n",
    "Sample Usage::  \n",
    "// All operations below are performed sequentially.  \n",
    "LRUCache(3): - // instantiate an LRUCache of size 3  \n",
    "insertKeyValuePair(\"b\", 2): -  \n",
    "insertKeyValuePair(\"a\", 1): -  \n",
    "insertKeyValuePair(\"c\", 3): -  \n",
    "getMostRecentKey(): \"c\" // \"c\" was the most recently inserted key  \n",
    "getValueFromKey(\"a\"): 1  \n",
    "getMostRecentKey(): \"a\" // \"a\" was the most recently retrieved key  \n",
    "insertKeyValuePair(\"d\", 4): - // the cache had 3 entries; the least recently used one is evicted  \n",
    "getValueFromKey(\"b\"): None // \"b\" was evicted in the previous operation  \n",
    "insertKeyValuePair(\"a\", 5): - // \"a\" already exists in the cache so its value just gets replaced    \n",
    "getValueFromKey(\"a\"): 5  "
   ]
  },
  {
   "cell_type": "code",
   "execution_count": null,
   "metadata": {},
   "outputs": [],
   "source": [
    "def linkedListPalindrome(head):\n",
    "    # Write your code here.\n",
    "    pointer = head\n",
    "    tstr = \"\"\n",
    "    tstr2 = \"\"\n",
    "\n",
    "    while pointer is not None:\n",
    "        tstr += str(pointer.value)\n",
    "        tstr2 += str(pointer.value)[::-1]\n",
    "        pointer = pointer.next\n",
    "\n",
    "    return tstr == tstr2[::-1]\n"
   ]
  },
  {
   "cell_type": "code",
   "execution_count": 6,
   "metadata": {},
   "outputs": [
    {
     "name": "stdout",
     "output_type": "stream",
     "text": [
      "val=9 | val2=9\n",
      "val=10 | val2=01\n",
      "val=11 | val2=11\n",
      "val=12 | val2=21\n",
      "val=13 | val2=31\n",
      "val=12 | val2=21\n",
      "val=11 | val2=11\n",
      "val=10 | val2=01\n",
      "val=9 | val2=9\n",
      "tstr1=9101112131211109 | tstr2=9011121312111019\n"
     ]
    }
   ],
   "source": [
    "tlist=[\"9\", \"10\", \"11\",\"12\",\"13\",\"12\",\"11\", \"10\", \"9\"]\n",
    "\n",
    "tstr1 = \"\"\n",
    "tstr2 = \"\"\n",
    "\n",
    "for val in tlist:\n",
    "    print(f\"val={val} | val2={val[::-1]}\")\n",
    "    tstr1 += val\n",
    "    tstr2 += val[::-1]\n",
    "\n",
    "print(f\"tstr1={tstr1} | tstr2={tstr1[::-1]}\")"
   ]
  },
  {
   "cell_type": "code",
   "execution_count": null,
   "metadata": {},
   "outputs": [
    {
     "name": "stdout",
     "output_type": "stream",
     "text": [
      "0\n",
      "1\n",
      "2\n",
      "3\n",
      "4\n"
     ]
    }
   ],
   "source": [
    "tlist=[8,5,7,2,3]\n",
    "length = 5\n",
    "\n",
    "for v in range(5):\n",
    "    print(v)"
   ]
  },
  {
   "cell_type": "code",
   "execution_count": null,
   "metadata": {},
   "outputs": [],
   "source": []
  }
 ],
 "metadata": {
  "kernelspec": {
   "display_name": "Python 3",
   "language": "python",
   "name": "python3"
  },
  "language_info": {
   "codemirror_mode": {
    "name": "ipython",
    "version": 3
   },
   "file_extension": ".py",
   "mimetype": "text/x-python",
   "name": "python",
   "nbconvert_exporter": "python",
   "pygments_lexer": "ipython3",
   "version": "3.10.13"
  }
 },
 "nbformat": 4,
 "nbformat_minor": 2
}
