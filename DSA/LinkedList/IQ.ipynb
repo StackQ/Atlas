{
 "cells": [
  {
   "cell_type": "markdown",
   "metadata": {},
   "source": [
    "#### Doubly Linked List"
   ]
  },
  {
   "cell_type": "code",
   "execution_count": 43,
   "metadata": {},
   "outputs": [],
   "source": [
    "class Node:\n",
    "    def __init__(self, value) -> None:\n",
    "        self.value = value\n",
    "        self.next = None\n",
    "        self.prev = None\n",
    "\n",
    "class DoublyLinkedList:\n",
    "    def __init__(self) -> None:\n",
    "        self.head = None\n",
    "        self.tail = None\n",
    "        self.length = 0\n",
    "\n",
    "    # def __str__(self) -> str:\n",
    "    #     ptr = self.head\n",
    "    #     str_repr = \"\"\n",
    "\n",
    "    #     while ptr:\n",
    "    #         str_repr += str(ptr.value)\n",
    "    #         if ptr.next:\n",
    "    #             str_repr += \" <-> \"\n",
    "    #         ptr = ptr.next\n",
    "\n",
    "    #     return str_repr\n",
    "\n",
    "    def __str__(self) -> str:\n",
    "        ptr = self.head\n",
    "        str_repr = \"\"\n",
    "        cntr = 0\n",
    "\n",
    "        while ptr:\n",
    "            if ptr == self.head:\n",
    "                node_type = \"HEAD\"\n",
    "            elif ptr == self.tail:\n",
    "                node_type = \"TAIL\"\n",
    "            else:\n",
    "                node_type = \"NODE\"\n",
    "            str_repr += f\"\\n{cntr * 4 * ' '}{node_type}[{id(ptr.prev)} < \\033[1m{ptr.value}\\033[0m > {id(ptr.next)}]\"\n",
    "\n",
    "            if ptr.next:\n",
    "                str_repr += \" <=> \"\n",
    "            ptr = ptr.next\n",
    "            cntr += 1\n",
    "\n",
    "        return str_repr        \n",
    "\n",
    "    def append(self, value):\n",
    "        new_node = Node(value)\n",
    "\n",
    "        if self.length == 0 or self.head is None or self.tail is None:\n",
    "            self.head = new_node\n",
    "            self.tail = new_node\n",
    "        else:\n",
    "            self.tail.next = new_node\n",
    "            new_node.prev = self.tail\n",
    "            self.tail = new_node\n",
    "        self.length += 1\n",
    "\n",
    "    def prepend(self, value):\n",
    "        new_node = Node(value)\n",
    "\n",
    "        if self.length == 0:\n",
    "            self.head = new_node\n",
    "            self.tail = new_node\n",
    "        else:\n",
    "            self.head.prev = new_node\n",
    "            new_node.next = self.head\n",
    "            self.head = new_node\n",
    "        self.length += 1\n",
    "\n",
    "    def traverse(self):\n",
    "        ptr = self.head\n",
    "        while ptr:\n",
    "            print(ptr.value)\n",
    "            ptr = ptr.next\n",
    "\n",
    "    def reverse_traverse(self):\n",
    "        ptr = self.tail\n",
    "        while ptr:\n",
    "            print(ptr.value)\n",
    "            ptr = ptr.prev\n",
    "\n",
    "    def search(self, value):\n",
    "        ptr = self.head\n",
    "        idx = 0\n",
    "\n",
    "        while ptr:\n",
    "            if ptr.value == value:\n",
    "                return idx\n",
    "            idx += 1\n",
    "        return \"Value doesn't exist\"\n",
    "\n",
    "    def get(self, idx):\n",
    "        #assert int(idx) == idx, \"Incorrect Index\"\n",
    "        ptr = self.head\n",
    "        for _ in range(idx):\n",
    "            ptr = ptr.next\n",
    "        return ptr\n",
    "\n",
    "    def set(self, idx, value):\n",
    "        idx_node = self.get(idx)\n",
    "        if idx_node:\n",
    "            idx_node.value = value\n",
    "            return True\n",
    "        return False\n",
    "\n",
    "    def insert(self, idx, value):\n",
    "        new_node = Node(value)\n",
    "        idx_prev_node = self.get(idx-1)\n",
    "\n",
    "        new_node.next = idx_prev_node.next\n",
    "        new_node.prev = idx_prev_node\n",
    "        new_node.next.prev = new_node\n",
    "        idx_prev_node.next = new_node\n",
    "        self.length += 1\n",
    "\n",
    "    def pop_first(self):\n",
    "        head_node = self.head\n",
    "\n",
    "        if self.length == 0:\n",
    "            return None\n",
    "        elif self.length == 1:\n",
    "            self.head = None\n",
    "            self.tail = None\n",
    "        else:\n",
    "            self.head = head_node.next\n",
    "            self.head.prev = None\n",
    "            head_node.next = None\n",
    "        self.length -= 1\n",
    "        return head_node\n",
    "\n",
    "    def pop(self):\n",
    "        tail_node = self.tail\n",
    "\n",
    "        if self.length <= 1:\n",
    "            self.head = None\n",
    "            self.tail = None\n",
    "        else:\n",
    "            self.tail = tail_node.prev\n",
    "            self.tail.next = None\n",
    "            tail_node.prev = None\n",
    "        self.length -= 1\n",
    "        return tail_node\n",
    "\n",
    "    def remove(self, idx):\n",
    "        node_to_remove = self.get(idx)\n",
    "\n",
    "        node_to_remove.prev.next = node_to_remove.next\n",
    "        node_to_remove.next.prev = node_to_remove.prev\n",
    "\n",
    "        node_to_remove.next = None\n",
    "        node_to_remove.prev = None\n",
    "        self.length -= 1\n",
    "\n"
   ]
  },
  {
   "cell_type": "code",
   "execution_count": 44,
   "metadata": {},
   "outputs": [
    {
     "name": "stdout",
     "output_type": "stream",
     "text": [
      "\n",
      "HEAD[108283379606208 < \u001b[1m5\u001b[0m > 123790715099392] <=> \n",
      "    NODE[123790715098288 < \u001b[1m10\u001b[0m > 123790715095792] <=> \n",
      "        NODE[123790715099392 < \u001b[1m20\u001b[0m > 123790715099008] <=> \n",
      "            NODE[123790715095792 < \u001b[1m30\u001b[0m > 123790715097280] <=> \n",
      "                TAIL[123790715099008 < \u001b[1m40\u001b[0m > 108283379606208]\n"
     ]
    }
   ],
   "source": [
    "dll = DoublyLinkedList()\n",
    "dll.append(10)\n",
    "dll.append(20)\n",
    "dll.append(30)\n",
    "dll.append(40)\n",
    "dll.prepend(5)\n",
    "\n",
    "print(dll)"
   ]
  },
  {
   "cell_type": "code",
   "execution_count": null,
   "metadata": {},
   "outputs": [],
   "source": [
    "# This is an input class. Do not edit.\n",
    "class Node:\n",
    "    def __init__(self, value):\n",
    "        self.value = value\n",
    "        self.prev = None\n",
    "        self.next = None\n",
    "\n",
    "\n",
    "# Feel free to add new properties and methods to the class.\n",
    "class DoublyLinkedList:\n",
    "    def __init__(self):\n",
    "        self.head = None\n",
    "        self.tail = None\n",
    "        self.length = 0\n",
    "\n",
    "    def insertBefore(self, node, nodeToInsert):\n",
    "        # Write your code here.\n",
    "        if self.length == 0:\n",
    "            self.head = node\n",
    "            self.tail = node\n",
    "        else:\n",
    "            \n",
    "\n",
    "\n",
    "    def insertAfter(self, node, nodeToInsert):\n",
    "        # Write your code here.\n",
    "        pass\n",
    "\n",
    "    def insertAtPosition(self, position, nodeToInsert):\n",
    "        # Write your code here.\n",
    "        pass        \n",
    "\n",
    "    def setHead(self, node):\n",
    "        # Write your code here.\n",
    "        pass\n",
    "\n",
    "    def setTail(self, node):\n",
    "        # Write your code here.\n",
    "        pass\n",
    "\n",
    "\n",
    "\n",
    "    def removeNodesWithValue(self, value):\n",
    "        # Write your code here.\n",
    "        pass\n",
    "\n",
    "    def remove(self, node):\n",
    "        # Write your code here.\n",
    "        pass\n",
    "\n",
    "    def containsNodeWithValue(self, value):\n",
    "        # Write your code here.\n",
    "        pass\n"
   ]
  },
  {
   "cell_type": "markdown",
   "metadata": {},
   "source": [
    "#### SLL"
   ]
  },
  {
   "cell_type": "code",
   "execution_count": 45,
   "metadata": {},
   "outputs": [],
   "source": [
    "class Node:\n",
    "    def __init__(self, value) -> None:\n",
    "        self.value = value\n",
    "        self.next = None\n",
    "\n",
    "class SinglyLinkedList:\n",
    "    def __init__(self) -> None:\n",
    "        self.head = None\n",
    "        self.tail = None\n",
    "        self.length = 0\n",
    "\n",
    "    def __str__(self) -> str:\n",
    "        current_pointer = self.head\n",
    "        result = \"\"\n",
    "\n",
    "        while current_pointer is not None:\n",
    "            result += str(current_pointer.value)\n",
    "            if current_pointer.next is not None:\n",
    "                result += \" -> \"\n",
    "            current_pointer = current_pointer.next\n",
    "\n",
    "        return result\n",
    "    \n",
    "    def append(self, value):\n",
    "        new_node = Node(value)\n",
    "\n",
    "        if self.head is None or self.length == 0:\n",
    "            self.head = new_node\n",
    "            self.tail = new_node\n",
    "        else:\n",
    "            self.tail.next = new_node\n",
    "            self.tail = new_node\n",
    "        self.length += 1\n",
    "\n",
    "    def prepend(self, value):\n",
    "        new_node = Node(value)\n",
    "\n",
    "        if self.head is None or self.length == 0:\n",
    "            self.head = new_node\n",
    "            self.tail = new_node\n",
    "        else:\n",
    "            new_node.next = self.head\n",
    "            self.head = new_node\n",
    "        self.length += 1\n",
    "\n",
    "    def insert(self, index, value):\n",
    "        new_node = Node(value)\n",
    "        current_pointer = self.head\n",
    "\n",
    "        for _ in range(index-1):\n",
    "            current_pointer = current_pointer.next\n",
    "        new_node.next = current_pointer.next\n",
    "        current_pointer.next = new_node\n",
    "        self.length += 1"
   ]
  },
  {
   "cell_type": "code",
   "execution_count": null,
   "metadata": {},
   "outputs": [],
   "source": [
    "Remove Kth Node From End\n",
    "Write a function that takes in the head of a Singly Linked List and an integer k and removes the kth node from the end of the list.\n",
    "\n",
    "The removal should be done in place, meaning that the original data structure should be mutated (no new structure should be created).\n",
    "\n",
    "Furthermore, the input head of the linked list should remain the head of the linked list after the removal is done, even if the head is the node that's supposed to be removed. In other words, if the head is the node that's supposed to be removed, your function should simply mutate its value and next pointer.\n",
    "\n",
    "Note that your function doesn't need to return anything.\n",
    "\n",
    "You can assume that the input Linked List will always have at least two nodes and, more specifically, at least k nodes.\n",
    "\n",
    "Each LinkedList node has an integer value as well as a next node pointing to the next node in the list or to None / null if it's the tail of the list.\n",
    "\n",
    "Sample Input\n",
    "head = 0 -> 1 -> 2 -> 3 -> 4 -> 5 -> 6 -> 7 -> 8 -> 9 // the head node with value 0\n",
    "k = 4\n",
    "Sample Output\n",
    "// No output required.\n",
    "// The 4th node from the end of the list (the node with value 6) is removed.\n",
    "0 -> 1 -> 2 -> 3 -> 4 -> 5 -> 7 -> 8 -> 9"
   ]
  },
  {
   "cell_type": "code",
   "execution_count": 174,
   "metadata": {},
   "outputs": [
    {
     "name": "stdout",
     "output_type": "stream",
     "text": [
      "0 -> 1 -> 2 -> 3 -> 4 -> 5 -> 6 -> 7 -> 8 -> 9\n"
     ]
    }
   ],
   "source": [
    "sll = SinglyLinkedList()\n",
    "\n",
    "sll.append(0)\n",
    "sll.append(1)\n",
    "sll.append(2)\n",
    "sll.append(3)\n",
    "sll.append(4)\n",
    "sll.append(5)\n",
    "sll.append(6)\n",
    "sll.append(7)\n",
    "sll.append(8)\n",
    "sll.append(9)\n",
    "\n",
    "print(sll)"
   ]
  },
  {
   "cell_type": "code",
   "execution_count": 172,
   "metadata": {},
   "outputs": [],
   "source": [
    "def removeKthNodeFromEnd(sll:SinglyLinkedList, kth_idx):\n",
    "    sll_len = 0\n",
    "    ptr = sll.head\n",
    "    while ptr:\n",
    "        sll_len += 1\n",
    "        ptr = ptr.next\n",
    "    \n",
    "    ptr = sll.head\n",
    "    kth_node = ptr.next \n",
    "    # print(f\"current={ptr.value}\")\n",
    "    if kth_idx == sll_len:\n",
    "        sll.head = ptr.next\n",
    "        ptr.next = None\n",
    "    else:    \n",
    "        for x in range(10-kth_idx-1,0,-1):\n",
    "            ptr = ptr.next\n",
    "            kth_node = ptr.next    \n",
    "            # print(f\"prev={ptr.value} | kth={kth_node.value}\")    \n",
    "\n",
    "        ptr.next = kth_node.next\n",
    "        kth_node.next = None\n",
    "        sll.length -= 1\n",
    "    print(sll)\n"
   ]
  },
  {
   "cell_type": "code",
   "execution_count": 164,
   "metadata": {},
   "outputs": [
    {
     "name": "stdout",
     "output_type": "stream",
     "text": [
      "0 -> 1 -> 2 -> 3 -> 4 -> 5 -> 7 -> 8 -> 9\n"
     ]
    }
   ],
   "source": [
    "removeKthNodeFromEnd(sll,4)"
   ]
  },
  {
   "cell_type": "code",
   "execution_count": 166,
   "metadata": {},
   "outputs": [
    {
     "name": "stdout",
     "output_type": "stream",
     "text": [
      "0 -> 2 -> 3 -> 4 -> 5 -> 6 -> 7 -> 8 -> 9\n"
     ]
    }
   ],
   "source": [
    "removeKthNodeFromEnd(sll,9)"
   ]
  },
  {
   "cell_type": "code",
   "execution_count": 168,
   "metadata": {},
   "outputs": [
    {
     "name": "stdout",
     "output_type": "stream",
     "text": [
      "1 -> 2 -> 3 -> 4 -> 5 -> 6 -> 7 -> 8 -> 9\n"
     ]
    }
   ],
   "source": [
    "removeKthNodeFromEnd(sll,10)"
   ]
  },
  {
   "cell_type": "code",
   "execution_count": 177,
   "metadata": {},
   "outputs": [
    {
     "name": "stdout",
     "output_type": "stream",
     "text": [
      "0 -> 1 -> 2 -> 3 -> 4 -> 5 -> 6 -> 7 -> 8 -> 9\n"
     ]
    }
   ],
   "source": [
    "print(sll)"
   ]
  },
  {
   "cell_type": "code",
   "execution_count": 175,
   "metadata": {},
   "outputs": [],
   "source": [
    "#The length function uses recursion, which isn't efficient, just for sake of one-liner\n",
    "def get_length(head):\n",
    "    return 0 if head is None else 1 + get_length(head.next)\n",
    "\n",
    "def removeKthNodeFromEnd_v2(head_node, k):\n",
    "    #removePos = get_length(head_node) - k +1\n",
    "    sll_len = 0\n",
    "    ptr = head_node\n",
    "    while ptr:\n",
    "        sll_len += 1\n",
    "        ptr = ptr.next\n",
    "\n",
    "    removePos = sll_len - k + 1\n",
    "\n",
    "    if removePos == 1:\n",
    "        head.value, head.next = head.next.value, head.next.next \n",
    "    else:\n",
    "        curr = head\n",
    "        for _ in range(1, removePos - 1):\n",
    "            curr = curr.next\n",
    "        curr.next = curr.next.next"
   ]
  },
  {
   "cell_type": "code",
   "execution_count": 176,
   "metadata": {},
   "outputs": [
    {
     "data": {
      "text/plain": [
       "10"
      ]
     },
     "execution_count": 176,
     "metadata": {},
     "output_type": "execute_result"
    }
   ],
   "source": [
    "get_length(sll.head)"
   ]
  },
  {
   "cell_type": "markdown",
   "metadata": {},
   "source": [
    "Sum of Linked Lists\n",
    "You're given two Linked Lists of potentially unequal length. Each Linked List represents a non-negative integer, where each node in the Linked List is a digit of that integer, and the first node in each Linked List always represents the least significant digit of the integer. Write a function that returns the head of a new Linked List that represents the sum of the integers represented by the two input Linked Lists.\n",
    "\n",
    "Each LinkedList node has an integer value as well as a next node pointing to the next node in the list or to None / null if it's the tail of the list. The value of each LinkedList node is always in the range of 0 - 9.\n",
    "\n",
    "Note: your function must create and return a new Linked List, and you're not allowed to modify either of the input Linked Lists.\n",
    "\n",
    "Sample Input\n",
    "linkedListOne = 2 -> 4 -> 7 -> 1\n",
    "linkedListTwo = 9 -> 4 -> 5\n",
    "Sample Output\n",
    "1 -> 9 -> 2 -> 2\n",
    "// linkedListOne represents 1742\n",
    "// linkedListTwo represents 549\n",
    "// 1742 + 549 = 2291"
   ]
  },
  {
   "cell_type": "code",
   "execution_count": 221,
   "metadata": {},
   "outputs": [
    {
     "name": "stdout",
     "output_type": "stream",
     "text": [
      "2 -> 4 -> 7 -> 1\n",
      "9 -> 4 -> 5\n"
     ]
    }
   ],
   "source": [
    "linkedListOne = SinglyLinkedList()\n",
    "linkedListOne.append(2)\n",
    "linkedListOne.append(4)\n",
    "linkedListOne.append(7)\n",
    "linkedListOne.append(1)\n",
    "\n",
    "linkedListTwo = SinglyLinkedList()\n",
    "linkedListTwo.append(9)\n",
    "linkedListTwo.append(4)\n",
    "linkedListTwo.append(5)\n",
    "\n",
    "print(linkedListOne)\n",
    "print(linkedListTwo)"
   ]
  },
  {
   "cell_type": "code",
   "execution_count": 215,
   "metadata": {},
   "outputs": [],
   "source": [
    "def sumOfLinkedLists(linkedListOne, linkedListTwo):\n",
    "    # Write your code here.\n",
    "    ptrOne = linkedListOne.head\n",
    "    ptrTwo = linkedListTwo.head\n",
    "\n",
    "    list1, list2 = [],[]\n",
    "\n",
    "    while ptrOne:\n",
    "        list1.append(str(ptrOne.value))\n",
    "        ptrOne = ptrOne.next\n",
    "\n",
    "    while ptrTwo:\n",
    "        list2.append(str(ptrTwo.value))\n",
    "        ptrTwo = ptrTwo.next        \n",
    "\n",
    "    newLinkListValues = list(str(int(''.join(list1[::-1])) + int(''.join(list2[::-1])))[::-1])\n",
    "    newLinkList = SinglyLinkedList()\n",
    "    for val in newLinkListValues:\n",
    "        newLinkList.append(val)\n",
    "    print(newLinkList)"
   ]
  },
  {
   "cell_type": "code",
   "execution_count": 216,
   "metadata": {},
   "outputs": [
    {
     "name": "stdout",
     "output_type": "stream",
     "text": [
      "1 -> 9 -> 2 -> 2\n"
     ]
    }
   ],
   "source": [
    "sumOfLinkedLists(linkedListOne, linkedListTwo)"
   ]
  },
  {
   "cell_type": "code",
   "execution_count": 196,
   "metadata": {},
   "outputs": [
    {
     "data": {
      "text/plain": [
       "['1', '9', '2', '2']"
      ]
     },
     "execution_count": 196,
     "metadata": {},
     "output_type": "execute_result"
    }
   ],
   "source": [
    "list(str(int(''.join(['1', '7', '4', '2'])) + int(''.join(['5', '4', '9'])))[::-1])"
   ]
  },
  {
   "cell_type": "code",
   "execution_count": null,
   "metadata": {},
   "outputs": [],
   "source": [
    "# This is an input class. Do not edit.\n",
    "class LinkedList:\n",
    "    def __init__(self, value):\n",
    "        self.value = value\n",
    "        self.next = None\n",
    "\n",
    "\n",
    "def sumOfLinkedLists(linkedListOne, linkedListTwo):\n",
    "    # Write your code here.\n",
    "    ptrOne = linkedListOne\n",
    "    ptrTwo = linkedListTwo\n",
    "\n",
    "    list1, list2 = [],[]\n",
    "\n",
    "    while ptrOne:\n",
    "        list1.append(str(ptrOne.value))\n",
    "        ptrOne = ptrOne.next\n",
    "\n",
    "    while ptrTwo:\n",
    "        list2.append(str(ptrTwo.value))\n",
    "        ptrTwo = ptrTwo.next        \n",
    "\n",
    "    newLinkListValues = list(str(int(''.join(list1[::-1])) + int(''.join(list2[::-1])))[::-1])\n",
    "    newLinkedistHeadPointer = LinkedList(0)\n",
    "    currentNode = newLinkedistHeadPointer\n",
    "    for val in newLinkListValues:\n",
    "        #newLinkList.append(val)\n",
    "        newNode = LinkedList(int(val))\n",
    "        currentNode.next = newNode\n",
    "        currentNode = newNode\n",
    "    return newLinkedistHeadPointer.next"
   ]
  }
 ],
 "metadata": {
  "kernelspec": {
   "display_name": "Python 3",
   "language": "python",
   "name": "python3"
  },
  "language_info": {
   "codemirror_mode": {
    "name": "ipython",
    "version": 3
   },
   "file_extension": ".py",
   "mimetype": "text/x-python",
   "name": "python",
   "nbconvert_exporter": "python",
   "pygments_lexer": "ipython3",
   "version": "3.10.13"
  }
 },
 "nbformat": 4,
 "nbformat_minor": 2
}
