{
 "cells": [
  {
   "cell_type": "markdown",
   "metadata": {},
   "source": [
    "#### Linear Search\n",
    "\n",
    "- Create function with two parameters which are an input array and a value to search\n",
    "- Loop through the array and check if the current array element is = value to search\n",
    "- if exists return the index at which the element is found\n",
    "- if not exists return -1\n",
    "\n",
    "Time Complexity : O(n)  \n",
    "Space Complexity : O(1)"
   ]
  },
  {
   "cell_type": "code",
   "execution_count": 3,
   "metadata": {},
   "outputs": [],
   "source": [
    "def linearSearch(inputList, searchValue):\n",
    "    for idx in range(len(inputList)):\n",
    "        if inputList[idx] == searchValue:\n",
    "            return idx\n",
    "    return -1"
   ]
  },
  {
   "cell_type": "code",
   "execution_count": 4,
   "metadata": {},
   "outputs": [
    {
     "name": "stdout",
     "output_type": "stream",
     "text": [
      "3\n",
      "-1\n"
     ]
    }
   ],
   "source": [
    "print(linearSearch([45,65,41,5,36,9,78], 5))\n",
    "print(linearSearch([45,65,41,5,36,9,78], 100))"
   ]
  },
  {
   "cell_type": "markdown",
   "metadata": {},
   "source": [
    "#### Binary Search\n",
    "\n",
    "- Binary Search is faster than Linear Search\n",
    "- Half of the remaining elements can be eliminated at a time, instead of eliminating one by one\n",
    "- Binary search only works for **Sorted Arrays**"
   ]
  },
  {
   "cell_type": "code",
   "execution_count": 19,
   "metadata": {},
   "outputs": [],
   "source": [
    "def binarySearch(inputList, searchValue):\n",
    "    start = 0\n",
    "    end = len(inputList)-1\n",
    "    mid = round((end + start)/2)\n",
    "\n",
    "    while inputList[mid] != searchValue and start <= end:\n",
    "        if searchValue < inputList[mid]:\n",
    "            end = mid - 1\n",
    "        else:\n",
    "            start = mid + 1\n",
    "        mid = round((start+end)/2)\n",
    "\n",
    "    if inputList[mid] == searchValue:\n",
    "        return mid\n",
    "    else:\n",
    "        return -1"
   ]
  },
  {
   "cell_type": "code",
   "execution_count": 20,
   "metadata": {},
   "outputs": [
    {
     "data": {
      "text/plain": [
       "3"
      ]
     },
     "execution_count": 20,
     "metadata": {},
     "output_type": "execute_result"
    }
   ],
   "source": [
    "binarySearch([8, 9, 12, 15, 17, 19, 20, 21, 28], 15)"
   ]
  },
  {
   "cell_type": "code",
   "execution_count": 21,
   "metadata": {},
   "outputs": [
    {
     "data": {
      "text/plain": [
       "-1"
      ]
     },
     "execution_count": 21,
     "metadata": {},
     "output_type": "execute_result"
    }
   ],
   "source": [
    "binarySearch([8, 9, 12, 15, 17, 19, 20, 21, 28], 90)"
   ]
  },
  {
   "cell_type": "code",
   "execution_count": null,
   "metadata": {},
   "outputs": [],
   "source": []
  }
 ],
 "metadata": {
  "kernelspec": {
   "display_name": "Python 3",
   "language": "python",
   "name": "python3"
  },
  "language_info": {
   "codemirror_mode": {
    "name": "ipython",
    "version": 3
   },
   "file_extension": ".py",
   "mimetype": "text/x-python",
   "name": "python",
   "nbconvert_exporter": "python",
   "pygments_lexer": "ipython3",
   "version": "3.10.13"
  }
 },
 "nbformat": 4,
 "nbformat_minor": 2
}
