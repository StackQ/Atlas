{
 "cells": [
  {
   "cell_type": "markdown",
   "metadata": {
    "application/vnd.databricks.v1+cell": {
     "cellMetadata": {},
     "inputWidgets": {},
     "nuid": "b7f919fd-3d29-4130-a5ec-5b73550e9b3f",
     "showTitle": false,
     "title": ""
    }
   },
   "source": [
    "\n",
    "# Transformations, Actions, and Visualizations"
   ]
  },
  {
   "cell_type": "code",
   "execution_count": 0,
   "metadata": {
    "application/vnd.databricks.v1+cell": {
     "cellMetadata": {},
     "inputWidgets": {},
     "nuid": "f84b383a-46eb-4fbb-9f59-e3bdeee2bc93",
     "showTitle": false,
     "title": ""
    }
   },
   "outputs": [
    {
     "data": {
      "text/html": [
       "<div class = \"ansiout\">\n",
       "This module provides various utilities for users to interact with the rest of Databricks.\n",
       "  <h3></h3><b>credentials: DatabricksCredentialUtils</b> -> Utilities for interacting with credentials within notebooks<br /><b>data: DataUtils</b> -> Utilities for understanding and interacting with datasets (EXPERIMENTAL)<br /><b>fs: DbfsUtils</b> -> Manipulates the Databricks filesystem (DBFS) from the console<br /><b>jobs: JobsUtils</b> -> Utilities for leveraging jobs features<br /><b>library: LibraryUtils</b> -> Utilities for session isolated libraries<br /><b>meta: MetaUtils</b> -> Methods to hook into the compiler (EXPERIMENTAL)<br /><b>notebook: NotebookUtils</b> -> Utilities for the control flow of a notebook (EXPERIMENTAL)<br /><b>preview: Preview</b> -> Utilities under preview category<br /><b>secrets: SecretUtils</b> -> Provides utilities for leveraging secrets within notebooks<br /><b>widgets: WidgetsUtils</b> -> Methods to create and get bound value of input widgets inside notebooks<br /><br /></div>"
      ]
     },
     "metadata": {
      "application/vnd.databricks.v1+output": {
       "addedWidgets": {},
       "arguments": {},
       "data": "<div class = \"ansiout\">\nThis module provides various utilities for users to interact with the rest of Databricks.\n  <h3></h3><b>credentials: DatabricksCredentialUtils</b> -> Utilities for interacting with credentials within notebooks<br /><b>data: DataUtils</b> -> Utilities for understanding and interacting with datasets (EXPERIMENTAL)<br /><b>fs: DbfsUtils</b> -> Manipulates the Databricks filesystem (DBFS) from the console<br /><b>jobs: JobsUtils</b> -> Utilities for leveraging jobs features<br /><b>library: LibraryUtils</b> -> Utilities for session isolated libraries<br /><b>meta: MetaUtils</b> -> Methods to hook into the compiler (EXPERIMENTAL)<br /><b>notebook: NotebookUtils</b> -> Utilities for the control flow of a notebook (EXPERIMENTAL)<br /><b>preview: Preview</b> -> Utilities under preview category<br /><b>secrets: SecretUtils</b> -> Provides utilities for leveraging secrets within notebooks<br /><b>widgets: WidgetsUtils</b> -> Methods to create and get bound value of input widgets inside notebooks<br /><br /></div>",
       "datasetInfos": [],
       "metadata": {},
       "removedWidgets": [],
       "textData": null,
       "type": "htmlSandbox"
      }
     },
     "output_type": "display_data"
    }
   ],
   "source": [
    "dbutils.help()"
   ]
  },
  {
   "cell_type": "code",
   "execution_count": 0,
   "metadata": {
    "application/vnd.databricks.v1+cell": {
     "cellMetadata": {},
     "inputWidgets": {},
     "nuid": "a23671f6-758f-432e-a66e-6d3fe03dea06",
     "showTitle": false,
     "title": ""
    }
   },
   "outputs": [],
   "source": [
    "dbutils.fs.ls(\"dbfs:/\")\n",
    "\n",
    "# Out[2]: [FileInfo(path='dbfs:/ /', name=' /', size=0),\n",
    "#  FileInfo(path='dbfs:/%(s3_ddl_location)s/', name='%(s3_ddl_location)s/', size=0),"
   ]
  },
  {
   "cell_type": "code",
   "execution_count": 0,
   "metadata": {
    "application/vnd.databricks.v1+cell": {
     "cellMetadata": {},
     "inputWidgets": {},
     "nuid": "2cd485dd-d7f3-406b-881d-fbcccb9de6e8",
     "showTitle": false,
     "title": ""
    }
   },
   "outputs": [],
   "source": [
    "dbutils.fs.ls(\"/databricks-datasets\")\n",
    "\n",
    "# Out[3]: [FileInfo(path='dbfs:/databricks-datasets/COVID/', name='COVID/', size=0),\n",
    "#  FileInfo(path='dbfs:/databricks-datasets/README.md', name='README.md', size=976),\n",
    "#  FileInfo(path='dbfs:/databricks-datasets/Rdatasets/', name='Rdatasets/', size=0),\n",
    "#  FileInfo(path='dbfs:/databricks-datasets/SPARK_README.md', name='SPARK_README.md', size=3359),\n",
    "#  FileInfo(path='dbfs:/databricks-datasets/adult/', name='adult/', size=0),"
   ]
  },
  {
   "cell_type": "code",
   "execution_count": 0,
   "metadata": {
    "application/vnd.databricks.v1+cell": {
     "cellMetadata": {},
     "inputWidgets": {},
     "nuid": "8b268f4c-56f6-4c4e-a343-1435ffdeaa9d",
     "showTitle": false,
     "title": ""
    }
   },
   "outputs": [
    {
     "data": {
      "text/html": [
       "<style scoped>\n",
       "  .ansiout {\n",
       "    display: block;\n",
       "    unicode-bidi: embed;\n",
       "    white-space: pre-wrap;\n",
       "    word-wrap: break-word;\n",
       "    word-break: break-all;\n",
       "    font-family: \"Source Code Pro\", \"Menlo\", monospace;;\n",
       "    font-size: 13px;\n",
       "    color: #555;\n",
       "    margin-left: 4px;\n",
       "    line-height: 19px;\n",
       "  }\n",
       "</style>\n",
       "<div class=\"ansiout\">Out[4]: [FileInfo(path=&#39;dbfs:/databricks-datasets/adult/README.md&#39;, name=&#39;README.md&#39;, size=2672),\n",
       " FileInfo(path=&#39;dbfs:/databricks-datasets/adult/adult.data&#39;, name=&#39;adult.data&#39;, size=3974305),\n",
       " FileInfo(path=&#39;dbfs:/databricks-datasets/adult/adult.test&#39;, name=&#39;adult.test&#39;, size=2003132)]</div>"
      ]
     },
     "metadata": {
      "application/vnd.databricks.v1+output": {
       "addedWidgets": {},
       "arguments": {},
       "data": "<div class=\"ansiout\">Out[4]: [FileInfo(path=&#39;dbfs:/databricks-datasets/adult/README.md&#39;, name=&#39;README.md&#39;, size=2672),\n FileInfo(path=&#39;dbfs:/databricks-datasets/adult/adult.data&#39;, name=&#39;adult.data&#39;, size=3974305),\n FileInfo(path=&#39;dbfs:/databricks-datasets/adult/adult.test&#39;, name=&#39;adult.test&#39;, size=2003132)]</div>",
       "datasetInfos": [],
       "metadata": {},
       "removedWidgets": [],
       "type": "html"
      }
     },
     "output_type": "display_data"
    }
   ],
   "source": [
    "dbutils.fs.ls(\"/databricks-datasets/adult\")"
   ]
  },
  {
   "cell_type": "code",
   "execution_count": 0,
   "metadata": {
    "application/vnd.databricks.v1+cell": {
     "cellMetadata": {},
     "inputWidgets": {},
     "nuid": "2b6c3da5-cbd4-4ca0-97c1-d6505ffb77a4",
     "showTitle": false,
     "title": ""
    }
   },
   "outputs": [
    {
     "data": {
      "text/html": [
       "<style scoped>\n",
       "  .table-result-container {\n",
       "    max-height: 300px;\n",
       "    overflow: auto;\n",
       "  }\n",
       "  table, th, td {\n",
       "    border: 1px solid black;\n",
       "    border-collapse: collapse;\n",
       "  }\n",
       "  th, td {\n",
       "    padding: 5px;\n",
       "  }\n",
       "  th {\n",
       "    text-align: left;\n",
       "  }\n",
       "</style><div class='table-result-container'><table class='table-result'><thead style='background-color: white'><tr><th>path</th><th>name</th><th>size</th></tr></thead><tbody><tr><td>dbfs:/databricks-datasets/adult/README.md</td><td>README.md</td><td>2672</td></tr><tr><td>dbfs:/databricks-datasets/adult/adult.data</td><td>adult.data</td><td>3974305</td></tr><tr><td>dbfs:/databricks-datasets/adult/adult.test</td><td>adult.test</td><td>2003132</td></tr></tbody></table></div>"
      ]
     },
     "metadata": {
      "application/vnd.databricks.v1+output": {
       "addedWidgets": {},
       "aggData": [],
       "aggError": "",
       "aggOverflow": false,
       "aggSchema": [],
       "aggSeriesLimitReached": false,
       "aggType": "",
       "arguments": {},
       "columnCustomDisplayInfos": {},
       "data": [
        [
         "dbfs:/databricks-datasets/adult/README.md",
         "README.md",
         2672
        ],
        [
         "dbfs:/databricks-datasets/adult/adult.data",
         "adult.data",
         3974305
        ],
        [
         "dbfs:/databricks-datasets/adult/adult.test",
         "adult.test",
         2003132
        ]
       ],
       "datasetInfos": [],
       "dbfsResultPath": null,
       "isJsonSchema": true,
       "metadata": {
        "isDbfsCommandResult": false
       },
       "overflow": false,
       "plotOptions": {
        "customPlotOptions": {},
        "displayType": "table",
        "pivotAggregation": null,
        "pivotColumns": null,
        "xColumns": null,
        "yColumns": null
       },
       "removedWidgets": [],
       "schema": [
        {
         "metadata": "{}",
         "name": "path",
         "type": "\"string\""
        },
        {
         "metadata": "{}",
         "name": "name",
         "type": "\"string\""
        },
        {
         "metadata": "{}",
         "name": "size",
         "type": "\"long\""
        }
       ],
       "type": "table"
      }
     },
     "output_type": "display_data"
    }
   ],
   "source": [
    "%fs\n",
    "\n",
    "ls /databricks-datasets/adult"
   ]
  },
  {
   "cell_type": "code",
   "execution_count": 0,
   "metadata": {
    "application/vnd.databricks.v1+cell": {
     "cellMetadata": {},
     "inputWidgets": {},
     "nuid": "c15ad38b-b572-4b09-9439-4a8709ee5366",
     "showTitle": false,
     "title": ""
    }
   },
   "outputs": [
    {
     "data": {
      "text/html": [
       "<style scoped>\n",
       "  .ansiout {\n",
       "    display: block;\n",
       "    unicode-bidi: embed;\n",
       "    white-space: pre-wrap;\n",
       "    word-wrap: break-word;\n",
       "    word-break: break-all;\n",
       "    font-family: \"Source Code Pro\", \"Menlo\", monospace;;\n",
       "    font-size: 13px;\n",
       "    color: #555;\n",
       "    margin-left: 4px;\n",
       "    line-height: 19px;\n",
       "  }\n",
       "</style>\n",
       "<div class=\"ansiout\">Out[5]: pyspark.sql.dataframe.DataFrame</div>"
      ]
     },
     "metadata": {
      "application/vnd.databricks.v1+output": {
       "addedWidgets": {},
       "arguments": {},
       "data": "<div class=\"ansiout\">Out[5]: pyspark.sql.dataframe.DataFrame</div>",
       "datasetInfos": [],
       "metadata": {},
       "removedWidgets": [],
       "type": "html"
      }
     },
     "output_type": "display_data"
    }
   ],
   "source": [
    "adult_census_data = spark.read.csv(\"dbfs:/databricks-datasets/adult/adult.data\", header = True)\n",
    "\n",
    "type(adult_census_data)"
   ]
  },
  {
   "cell_type": "code",
   "execution_count": 0,
   "metadata": {
    "application/vnd.databricks.v1+cell": {
     "cellMetadata": {},
     "inputWidgets": {},
     "nuid": "28545834-e5d8-4645-b9d4-30ebf7f733fa",
     "showTitle": false,
     "title": ""
    }
   },
   "outputs": [
    {
     "data": {
      "text/html": [
       "<style scoped>\n",
       "  .ansiout {\n",
       "    display: block;\n",
       "    unicode-bidi: embed;\n",
       "    white-space: pre-wrap;\n",
       "    word-wrap: break-word;\n",
       "    word-break: break-all;\n",
       "    font-family: \"Source Code Pro\", \"Menlo\", monospace;;\n",
       "    font-size: 13px;\n",
       "    color: #555;\n",
       "    margin-left: 4px;\n",
       "    line-height: 19px;\n",
       "  }\n",
       "</style>\n",
       "<div class=\"ansiout\">Out[6]: pyspark.rdd.RDD</div>"
      ]
     },
     "metadata": {
      "application/vnd.databricks.v1+output": {
       "addedWidgets": {},
       "arguments": {},
       "data": "<div class=\"ansiout\">Out[6]: pyspark.rdd.RDD</div>",
       "datasetInfos": [],
       "metadata": {},
       "removedWidgets": [],
       "type": "html"
      }
     },
     "output_type": "display_data"
    }
   ],
   "source": [
    "adult_census_rdd = adult_census_data.rdd\n",
    "type(adult_census_rdd)"
   ]
  },
  {
   "cell_type": "code",
   "execution_count": 0,
   "metadata": {
    "application/vnd.databricks.v1+cell": {
     "cellMetadata": {},
     "inputWidgets": {},
     "nuid": "c8ccb9ee-af83-4b36-95e8-18f02630b452",
     "showTitle": false,
     "title": ""
    }
   },
   "outputs": [],
   "source": [
    "adult_census_rdd.collect()"
   ]
  },
  {
   "cell_type": "code",
   "execution_count": 0,
   "metadata": {
    "application/vnd.databricks.v1+cell": {
     "cellMetadata": {},
     "inputWidgets": {},
     "nuid": "745191ca-cd89-4ca5-8ef2-bf12a8965796",
     "showTitle": false,
     "title": ""
    }
   },
   "outputs": [
    {
     "data": {
      "text/html": [
       "<style scoped>\n",
       "  .ansiout {\n",
       "    display: block;\n",
       "    unicode-bidi: embed;\n",
       "    white-space: pre-wrap;\n",
       "    word-wrap: break-word;\n",
       "    word-break: break-all;\n",
       "    font-family: \"Source Code Pro\", \"Menlo\", monospace;;\n",
       "    font-size: 13px;\n",
       "    color: #555;\n",
       "    margin-left: 4px;\n",
       "    line-height: 19px;\n",
       "  }\n",
       "</style>\n",
       "<div class=\"ansiout\">Out[8]: 32560</div>"
      ]
     },
     "metadata": {
      "application/vnd.databricks.v1+output": {
       "addedWidgets": {},
       "arguments": {},
       "data": "<div class=\"ansiout\">Out[8]: 32560</div>",
       "datasetInfos": [],
       "metadata": {},
       "removedWidgets": [],
       "type": "html"
      }
     },
     "output_type": "display_data"
    }
   ],
   "source": [
    "adult_census_rdd.count()"
   ]
  },
  {
   "cell_type": "code",
   "execution_count": 0,
   "metadata": {
    "application/vnd.databricks.v1+cell": {
     "cellMetadata": {},
     "inputWidgets": {},
     "nuid": "390e9328-2429-4fcd-afbf-801d5fc2d1c3",
     "showTitle": false,
     "title": ""
    }
   },
   "outputs": [
    {
     "data": {
      "text/html": [
       "<style scoped>\n",
       "  .ansiout {\n",
       "    display: block;\n",
       "    unicode-bidi: embed;\n",
       "    white-space: pre-wrap;\n",
       "    word-wrap: break-word;\n",
       "    word-break: break-all;\n",
       "    font-family: \"Source Code Pro\", \"Menlo\", monospace;;\n",
       "    font-size: 13px;\n",
       "    color: #555;\n",
       "    margin-left: 4px;\n",
       "    line-height: 19px;\n",
       "  }\n",
       "</style>\n",
       "<div class=\"ansiout\">Out[9]: Row(39=&#39;50&#39;,  State-gov=&#39; Self-emp-not-inc&#39;,  77516=&#39; 83311&#39;,  Bachelors=&#39; Bachelors&#39;,  13=&#39; 13&#39;,  Never-married=&#39; Married-civ-spouse&#39;,  Adm-clerical=&#39; Exec-managerial&#39;,  Not-in-family=&#39; Husband&#39;,  White=&#39; White&#39;,  Male=&#39; Male&#39;,  2174=&#39; 0&#39;,  0=&#39; 0&#39;,  40=&#39; 13&#39;,  United-States=&#39; United-States&#39;,  &lt;=50K=&#39; &lt;=50K&#39;)</div>"
      ]
     },
     "metadata": {
      "application/vnd.databricks.v1+output": {
       "addedWidgets": {},
       "arguments": {},
       "data": "<div class=\"ansiout\">Out[9]: Row(39=&#39;50&#39;,  State-gov=&#39; Self-emp-not-inc&#39;,  77516=&#39; 83311&#39;,  Bachelors=&#39; Bachelors&#39;,  13=&#39; 13&#39;,  Never-married=&#39; Married-civ-spouse&#39;,  Adm-clerical=&#39; Exec-managerial&#39;,  Not-in-family=&#39; Husband&#39;,  White=&#39; White&#39;,  Male=&#39; Male&#39;,  2174=&#39; 0&#39;,  0=&#39; 0&#39;,  40=&#39; 13&#39;,  United-States=&#39; United-States&#39;,  &lt;=50K=&#39; &lt;=50K&#39;)</div>",
       "datasetInfos": [],
       "metadata": {},
       "removedWidgets": [],
       "type": "html"
      }
     },
     "output_type": "display_data"
    }
   ],
   "source": [
    "adult_census_rdd.first()"
   ]
  },
  {
   "cell_type": "code",
   "execution_count": 0,
   "metadata": {
    "application/vnd.databricks.v1+cell": {
     "cellMetadata": {},
     "inputWidgets": {},
     "nuid": "aeadd377-0a77-4a3c-a0c5-1fdc815753a4",
     "showTitle": false,
     "title": ""
    }
   },
   "outputs": [
    {
     "data": {
      "text/html": [
       "<style scoped>\n",
       "  .ansiout {\n",
       "    display: block;\n",
       "    unicode-bidi: embed;\n",
       "    white-space: pre-wrap;\n",
       "    word-wrap: break-word;\n",
       "    word-break: break-all;\n",
       "    font-family: \"Source Code Pro\", \"Menlo\", monospace;;\n",
       "    font-size: 13px;\n",
       "    color: #555;\n",
       "    margin-left: 4px;\n",
       "    line-height: 19px;\n",
       "  }\n",
       "</style>\n",
       "<div class=\"ansiout\">Out[10]: PythonRDD[3670] at RDD at PythonRDD.scala:58</div>"
      ]
     },
     "metadata": {
      "application/vnd.databricks.v1+output": {
       "addedWidgets": {},
       "arguments": {},
       "data": "<div class=\"ansiout\">Out[10]: PythonRDD[3670] at RDD at PythonRDD.scala:58</div>",
       "datasetInfos": [],
       "metadata": {},
       "removedWidgets": [],
       "type": "html"
      }
     },
     "output_type": "display_data"
    }
   ],
   "source": [
    "adult_census_rdd.map(lambda row : (row[1], row[3], row[5]))"
   ]
  },
  {
   "cell_type": "code",
   "execution_count": 0,
   "metadata": {
    "application/vnd.databricks.v1+cell": {
     "cellMetadata": {},
     "inputWidgets": {},
     "nuid": "b486ec7f-bcdf-468b-adf5-1420c8852df8",
     "showTitle": false,
     "title": ""
    }
   },
   "outputs": [],
   "source": [
    "adult_census_rdd.map(lambda row : (row[1], row[3], row[5])).collect()\n",
    "\n",
    "# Out[11]: [(' Self-emp-not-inc', ' Bachelors', ' Married-civ-spouse'),\n",
    "#  (' Private', ' HS-grad', ' Divorced'),\n",
    "#  (' Private', ' 11th', ' Married-civ-spouse'),\n",
    "#  (' Private', ' Bachelors', ' Married-civ-spouse'),\n",
    "#  (' Private', ' Masters', ' Married-civ-spouse'),"
   ]
  },
  {
   "cell_type": "code",
   "execution_count": 0,
   "metadata": {
    "application/vnd.databricks.v1+cell": {
     "cellMetadata": {},
     "inputWidgets": {},
     "nuid": "732dacc6-b9d3-4c3a-8d7a-533179d3e092",
     "showTitle": false,
     "title": ""
    }
   },
   "outputs": [],
   "source": [
    "adult_census_rdd.map(lambda row : (row[' State-gov'], row[' Adm-clerical'], row[' <=50K'])).collect()\n",
    "\n",
    "# Out[12]: [(' Self-emp-not-inc', ' Exec-managerial', ' <=50K'),\n",
    "#  (' Private', ' Handlers-cleaners', ' <=50K'),\n",
    "#  (' Private', ' Handlers-cleaners', ' <=50K'),\n",
    "#  (' Private', ' Prof-specialty', ' <=50K'),\n",
    "#  (' Private', ' Exec-managerial', ' <=50K'),\n",
    "#  (' Private', ' Other-service', ' <=50K'),\n",
    "#  (' Self-emp-not-inc', ' Exec-managerial', ' >50K'),"
   ]
  },
  {
   "cell_type": "code",
   "execution_count": 0,
   "metadata": {
    "application/vnd.databricks.v1+cell": {
     "cellMetadata": {},
     "inputWidgets": {},
     "nuid": "eb1c53f6-dd62-4456-9688-5eb30ad96500",
     "showTitle": false,
     "title": ""
    }
   },
   "outputs": [
    {
     "data": {
      "text/html": [
       "<style scoped>\n",
       "  .ansiout {\n",
       "    display: block;\n",
       "    unicode-bidi: embed;\n",
       "    white-space: pre-wrap;\n",
       "    word-wrap: break-word;\n",
       "    word-break: break-all;\n",
       "    font-family: \"Source Code Pro\", \"Menlo\", monospace;;\n",
       "    font-size: 13px;\n",
       "    color: #555;\n",
       "    margin-left: 4px;\n",
       "    line-height: 19px;\n",
       "  }\n",
       "</style>\n",
       "<div class=\"ansiout\"></div>"
      ]
     },
     "metadata": {
      "application/vnd.databricks.v1+output": {
       "addedWidgets": {},
       "arguments": {},
       "data": "<div class=\"ansiout\"></div>",
       "datasetInfos": [],
       "metadata": {},
       "removedWidgets": [],
       "type": "html"
      }
     },
     "output_type": "display_data"
    }
   ],
   "source": [
    "adult_census_rdd_filtered = adult_census_rdd.filter(lambda row: row[' <=50K'] == ' <=50K')"
   ]
  },
  {
   "cell_type": "code",
   "execution_count": 0,
   "metadata": {
    "application/vnd.databricks.v1+cell": {
     "cellMetadata": {},
     "inputWidgets": {},
     "nuid": "eb3c9ffc-ac7b-4172-882c-54862324ca12",
     "showTitle": false,
     "title": ""
    }
   },
   "outputs": [
    {
     "data": {
      "text/html": [
       "<style scoped>\n",
       "  .ansiout {\n",
       "    display: block;\n",
       "    unicode-bidi: embed;\n",
       "    white-space: pre-wrap;\n",
       "    word-wrap: break-word;\n",
       "    word-break: break-all;\n",
       "    font-family: \"Source Code Pro\", \"Menlo\", monospace;;\n",
       "    font-size: 13px;\n",
       "    color: #555;\n",
       "    margin-left: 4px;\n",
       "    line-height: 19px;\n",
       "  }\n",
       "</style>\n",
       "<div class=\"ansiout\">Out[14]: 24719</div>"
      ]
     },
     "metadata": {
      "application/vnd.databricks.v1+output": {
       "addedWidgets": {},
       "arguments": {},
       "data": "<div class=\"ansiout\">Out[14]: 24719</div>",
       "datasetInfos": [],
       "metadata": {},
       "removedWidgets": [],
       "type": "html"
      }
     },
     "output_type": "display_data"
    }
   ],
   "source": [
    "adult_census_rdd_filtered.count()"
   ]
  },
  {
   "cell_type": "markdown",
   "metadata": {
    "application/vnd.databricks.v1+cell": {
     "cellMetadata": {},
     "inputWidgets": {},
     "nuid": "1b410365-5c92-4c70-a94c-5b6c67efb69b",
     "showTitle": false,
     "title": ""
    }
   },
   "source": [
    "\n",
    "### Transformations and actionis on dataframes"
   ]
  },
  {
   "cell_type": "code",
   "execution_count": 0,
   "metadata": {
    "application/vnd.databricks.v1+cell": {
     "cellMetadata": {},
     "inputWidgets": {},
     "nuid": "8a79ca59-4533-4d49-9535-539c75acaefa",
     "showTitle": false,
     "title": ""
    }
   },
   "outputs": [
    {
     "data": {
      "text/html": [
       "<style scoped>\n",
       "  .ansiout {\n",
       "    display: block;\n",
       "    unicode-bidi: embed;\n",
       "    white-space: pre-wrap;\n",
       "    word-wrap: break-word;\n",
       "    word-break: break-all;\n",
       "    font-family: \"Source Code Pro\", \"Menlo\", monospace;;\n",
       "    font-size: 13px;\n",
       "    color: #555;\n",
       "    margin-left: 4px;\n",
       "    line-height: 19px;\n",
       "  }\n",
       "</style>\n",
       "<div class=\"ansiout\">Out[15]: [FileInfo(path=&#39;dbfs:/databricks-datasets/bikeSharing/README.md&#39;, name=&#39;README.md&#39;, size=5016),\n",
       " FileInfo(path=&#39;dbfs:/databricks-datasets/bikeSharing/data-001/&#39;, name=&#39;data-001/&#39;, size=0)]</div>"
      ]
     },
     "metadata": {
      "application/vnd.databricks.v1+output": {
       "addedWidgets": {},
       "arguments": {},
       "data": "<div class=\"ansiout\">Out[15]: [FileInfo(path=&#39;dbfs:/databricks-datasets/bikeSharing/README.md&#39;, name=&#39;README.md&#39;, size=5016),\n FileInfo(path=&#39;dbfs:/databricks-datasets/bikeSharing/data-001/&#39;, name=&#39;data-001/&#39;, size=0)]</div>",
       "datasetInfos": [],
       "metadata": {},
       "removedWidgets": [],
       "type": "html"
      }
     },
     "output_type": "display_data"
    }
   ],
   "source": [
    "dbutils.fs.ls(\"/databricks-datasets/bikeSharing/\")"
   ]
  },
  {
   "cell_type": "code",
   "execution_count": 0,
   "metadata": {
    "application/vnd.databricks.v1+cell": {
     "cellMetadata": {},
     "inputWidgets": {},
     "nuid": "880f8cb7-30fc-4026-918f-f6415563fc75",
     "showTitle": false,
     "title": ""
    }
   },
   "outputs": [
    {
     "data": {
      "text/html": [
       "<style scoped>\n",
       "  .table-result-container {\n",
       "    max-height: 300px;\n",
       "    overflow: auto;\n",
       "  }\n",
       "  table, th, td {\n",
       "    border: 1px solid black;\n",
       "    border-collapse: collapse;\n",
       "  }\n",
       "  th, td {\n",
       "    padding: 5px;\n",
       "  }\n",
       "  th {\n",
       "    text-align: left;\n",
       "  }\n",
       "</style><div class='table-result-container'><table class='table-result'><thead style='background-color: white'><tr><th>path</th><th>name</th><th>size</th></tr></thead><tbody><tr><td>dbfs:/databricks-datasets/bikeSharing/data-001/day.csv</td><td>day.csv</td><td>57569</td></tr><tr><td>dbfs:/databricks-datasets/bikeSharing/data-001/hour.csv</td><td>hour.csv</td><td>1156736</td></tr></tbody></table></div>"
      ]
     },
     "metadata": {
      "application/vnd.databricks.v1+output": {
       "addedWidgets": {},
       "aggData": [],
       "aggError": "",
       "aggOverflow": false,
       "aggSchema": [],
       "aggSeriesLimitReached": false,
       "aggType": "",
       "arguments": {},
       "columnCustomDisplayInfos": {},
       "data": [
        [
         "dbfs:/databricks-datasets/bikeSharing/data-001/day.csv",
         "day.csv",
         57569
        ],
        [
         "dbfs:/databricks-datasets/bikeSharing/data-001/hour.csv",
         "hour.csv",
         1156736
        ]
       ],
       "datasetInfos": [],
       "dbfsResultPath": null,
       "isJsonSchema": true,
       "metadata": {
        "isDbfsCommandResult": false
       },
       "overflow": false,
       "plotOptions": {
        "customPlotOptions": {},
        "displayType": "table",
        "pivotAggregation": null,
        "pivotColumns": null,
        "xColumns": null,
        "yColumns": null
       },
       "removedWidgets": [],
       "schema": [
        {
         "metadata": "{}",
         "name": "path",
         "type": "\"string\""
        },
        {
         "metadata": "{}",
         "name": "name",
         "type": "\"string\""
        },
        {
         "metadata": "{}",
         "name": "size",
         "type": "\"long\""
        }
       ],
       "type": "table"
      }
     },
     "output_type": "display_data"
    }
   ],
   "source": [
    "%fs\n",
    "\n",
    "ls /databricks-datasets/bikeSharing/data-001/"
   ]
  },
  {
   "cell_type": "code",
   "execution_count": 0,
   "metadata": {
    "application/vnd.databricks.v1+cell": {
     "cellMetadata": {},
     "inputWidgets": {},
     "nuid": "866cb49f-9348-4e27-a562-4cfde9c93b2e",
     "showTitle": false,
     "title": ""
    }
   },
   "outputs": [
    {
     "data": {
      "text/html": [
       "<style scoped>\n",
       "  .ansiout {\n",
       "    display: block;\n",
       "    unicode-bidi: embed;\n",
       "    white-space: pre-wrap;\n",
       "    word-wrap: break-word;\n",
       "    word-break: break-all;\n",
       "    font-family: \"Source Code Pro\", \"Menlo\", monospace;;\n",
       "    font-size: 13px;\n",
       "    color: #555;\n",
       "    margin-left: 4px;\n",
       "    line-height: 19px;\n",
       "  }\n",
       "</style>\n",
       "<div class=\"ansiout\"></div>"
      ]
     },
     "metadata": {
      "application/vnd.databricks.v1+output": {
       "addedWidgets": {},
       "arguments": {},
       "data": "<div class=\"ansiout\"></div>",
       "datasetInfos": [],
       "metadata": {},
       "removedWidgets": [],
       "type": "html"
      }
     },
     "output_type": "display_data"
    }
   ],
   "source": [
    "bike_sharing_data = spark.read.format('csv') \\\n",
    "                         .option('inferschema',True) \\\n",
    "                         .option('header', True) \\\n",
    "                         .option('sep', \",\") \\\n",
    "                         .load(\"/databricks-datasets/bikeSharing/data-001/day.csv\")"
   ]
  },
  {
   "cell_type": "code",
   "execution_count": 0,
   "metadata": {
    "application/vnd.databricks.v1+cell": {
     "cellMetadata": {},
     "inputWidgets": {},
     "nuid": "4a97d855-6fca-4330-af0c-e2f651e959a3",
     "showTitle": false,
     "title": ""
    }
   },
   "outputs": [
    {
     "data": {
      "text/html": [
       "<style scoped>\n",
       "  .ansiout {\n",
       "    display: block;\n",
       "    unicode-bidi: embed;\n",
       "    white-space: pre-wrap;\n",
       "    word-wrap: break-word;\n",
       "    word-break: break-all;\n",
       "    font-family: \"Source Code Pro\", \"Menlo\", monospace;;\n",
       "    font-size: 13px;\n",
       "    color: #555;\n",
       "    margin-left: 4px;\n",
       "    line-height: 19px;\n",
       "  }\n",
       "</style>\n",
       "<div class=\"ansiout\">+-------+----------+------+---+----+-------+-------+----------+----------+--------+--------+--------+---------+------+----------+----+\n",
       "instant|    dteday|season| yr|mnth|holiday|weekday|workingday|weathersit|    temp|   atemp|     hum|windspeed|casual|registered| cnt|\n",
       "+-------+----------+------+---+----+-------+-------+----------+----------+--------+--------+--------+---------+------+----------+----+\n",
       "      1|2011-01-01|     1|  0|   1|      0|      6|         0|         2|0.344167|0.363625|0.805833| 0.160446|   331|       654| 985|\n",
       "      2|2011-01-02|     1|  0|   1|      0|      0|         0|         2|0.363478|0.353739|0.696087| 0.248539|   131|       670| 801|\n",
       "      3|2011-01-03|     1|  0|   1|      0|      1|         1|         1|0.196364|0.189405|0.437273| 0.248309|   120|      1229|1349|\n",
       "      4|2011-01-04|     1|  0|   1|      0|      2|         1|         1|     0.2|0.212122|0.590435| 0.160296|   108|      1454|1562|\n",
       "      5|2011-01-05|     1|  0|   1|      0|      3|         1|         1|0.226957| 0.22927|0.436957|   0.1869|    82|      1518|1600|\n",
       "      6|2011-01-06|     1|  0|   1|      0|      4|         1|         1|0.204348|0.233209|0.518261|0.0895652|    88|      1518|1606|\n",
       "      7|2011-01-07|     1|  0|   1|      0|      5|         1|         2|0.196522|0.208839|0.498696| 0.168726|   148|      1362|1510|\n",
       "      8|2011-01-08|     1|  0|   1|      0|      6|         0|         2|   0.165|0.162254|0.535833| 0.266804|    68|       891| 959|\n",
       "      9|2011-01-09|     1|  0|   1|      0|      0|         0|         1|0.138333|0.116175|0.434167|  0.36195|    54|       768| 822|\n",
       "     10|2011-01-10|     1|  0|   1|      0|      1|         1|         1|0.150833|0.150888|0.482917| 0.223267|    41|      1280|1321|\n",
       "+-------+----------+------+---+----+-------+-------+----------+----------+--------+--------+--------+---------+------+----------+----+\n",
       "only showing top 10 rows\n",
       "\n",
       "</div>"
      ]
     },
     "metadata": {
      "application/vnd.databricks.v1+output": {
       "addedWidgets": {},
       "arguments": {},
       "data": "<div class=\"ansiout\">+-------+----------+------+---+----+-------+-------+----------+----------+--------+--------+--------+---------+------+----------+----+\n|instant|    dteday|season| yr|mnth|holiday|weekday|workingday|weathersit|    temp|   atemp|     hum|windspeed|casual|registered| cnt|\n+-------+----------+------+---+----+-------+-------+----------+----------+--------+--------+--------+---------+------+----------+----+\n|      1|2011-01-01|     1|  0|   1|      0|      6|         0|         2|0.344167|0.363625|0.805833| 0.160446|   331|       654| 985|\n|      2|2011-01-02|     1|  0|   1|      0|      0|         0|         2|0.363478|0.353739|0.696087| 0.248539|   131|       670| 801|\n|      3|2011-01-03|     1|  0|   1|      0|      1|         1|         1|0.196364|0.189405|0.437273| 0.248309|   120|      1229|1349|\n|      4|2011-01-04|     1|  0|   1|      0|      2|         1|         1|     0.2|0.212122|0.590435| 0.160296|   108|      1454|1562|\n|      5|2011-01-05|     1|  0|   1|      0|      3|         1|         1|0.226957| 0.22927|0.436957|   0.1869|    82|      1518|1600|\n|      6|2011-01-06|     1|  0|   1|      0|      4|         1|         1|0.204348|0.233209|0.518261|0.0895652|    88|      1518|1606|\n|      7|2011-01-07|     1|  0|   1|      0|      5|         1|         2|0.196522|0.208839|0.498696| 0.168726|   148|      1362|1510|\n|      8|2011-01-08|     1|  0|   1|      0|      6|         0|         2|   0.165|0.162254|0.535833| 0.266804|    68|       891| 959|\n|      9|2011-01-09|     1|  0|   1|      0|      0|         0|         1|0.138333|0.116175|0.434167|  0.36195|    54|       768| 822|\n|     10|2011-01-10|     1|  0|   1|      0|      1|         1|         1|0.150833|0.150888|0.482917| 0.223267|    41|      1280|1321|\n+-------+----------+------+---+----+-------+-------+----------+----------+--------+--------+--------+---------+------+----------+----+\nonly showing top 10 rows\n\n</div>",
       "datasetInfos": [],
       "metadata": {},
       "removedWidgets": [],
       "type": "html"
      }
     },
     "output_type": "display_data"
    }
   ],
   "source": [
    "bike_sharing_data.show(10)"
   ]
  },
  {
   "cell_type": "code",
   "execution_count": 0,
   "metadata": {
    "application/vnd.databricks.v1+cell": {
     "cellMetadata": {},
     "inputWidgets": {},
     "nuid": "53583717-9055-464a-894a-b984dfa7911e",
     "showTitle": false,
     "title": ""
    }
   },
   "outputs": [
    {
     "data": {
      "text/html": [
       "<style scoped>\n",
       "  .ansiout {\n",
       "    display: block;\n",
       "    unicode-bidi: embed;\n",
       "    white-space: pre-wrap;\n",
       "    word-wrap: break-word;\n",
       "    word-break: break-all;\n",
       "    font-family: \"Source Code Pro\", \"Menlo\", monospace;;\n",
       "    font-size: 13px;\n",
       "    color: #555;\n",
       "    margin-left: 4px;\n",
       "    line-height: 19px;\n",
       "  }\n",
       "</style>\n",
       "<div class=\"ansiout\"></div>"
      ]
     },
     "metadata": {
      "application/vnd.databricks.v1+output": {
       "addedWidgets": {},
       "arguments": {},
       "data": "<div class=\"ansiout\"></div>",
       "datasetInfos": [],
       "metadata": {},
       "removedWidgets": [],
       "type": "html"
      }
     },
     "output_type": "display_data"
    }
   ],
   "source": [
    "bike_sharing_data_selected = bike_sharing_data.select('season', 'holiday', 'cnt')"
   ]
  },
  {
   "cell_type": "code",
   "execution_count": 0,
   "metadata": {
    "application/vnd.databricks.v1+cell": {
     "cellMetadata": {},
     "inputWidgets": {},
     "nuid": "74e0e558-9303-45b8-aee1-ac5732853f86",
     "showTitle": false,
     "title": ""
    }
   },
   "outputs": [
    {
     "data": {
      "text/html": [
       "<style scoped>\n",
       "  .ansiout {\n",
       "    display: block;\n",
       "    unicode-bidi: embed;\n",
       "    white-space: pre-wrap;\n",
       "    word-wrap: break-word;\n",
       "    word-break: break-all;\n",
       "    font-family: \"Source Code Pro\", \"Menlo\", monospace;;\n",
       "    font-size: 13px;\n",
       "    color: #555;\n",
       "    margin-left: 4px;\n",
       "    line-height: 19px;\n",
       "  }\n",
       "</style>\n",
       "<div class=\"ansiout\">+------+-------+----+\n",
       "season|holiday| cnt|\n",
       "+------+-------+----+\n",
       "     1|      0| 985|\n",
       "     1|      0| 801|\n",
       "     1|      0|1349|\n",
       "     1|      0|1562|\n",
       "     1|      0|1600|\n",
       "     1|      0|1606|\n",
       "     1|      0|1510|\n",
       "     1|      0| 959|\n",
       "     1|      0| 822|\n",
       "     1|      0|1321|\n",
       "     1|      0|1263|\n",
       "     1|      0|1162|\n",
       "     1|      0|1406|\n",
       "     1|      0|1421|\n",
       "     1|      0|1248|\n",
       "     1|      0|1204|\n",
       "     1|      1|1000|\n",
       "     1|      0| 683|\n",
       "     1|      0|1650|\n",
       "     1|      0|1927|\n",
       "+------+-------+----+\n",
       "only showing top 20 rows\n",
       "\n",
       "</div>"
      ]
     },
     "metadata": {
      "application/vnd.databricks.v1+output": {
       "addedWidgets": {},
       "arguments": {},
       "data": "<div class=\"ansiout\">+------+-------+----+\n|season|holiday| cnt|\n+------+-------+----+\n|     1|      0| 985|\n|     1|      0| 801|\n|     1|      0|1349|\n|     1|      0|1562|\n|     1|      0|1600|\n|     1|      0|1606|\n|     1|      0|1510|\n|     1|      0| 959|\n|     1|      0| 822|\n|     1|      0|1321|\n|     1|      0|1263|\n|     1|      0|1162|\n|     1|      0|1406|\n|     1|      0|1421|\n|     1|      0|1248|\n|     1|      0|1204|\n|     1|      1|1000|\n|     1|      0| 683|\n|     1|      0|1650|\n|     1|      0|1927|\n+------+-------+----+\nonly showing top 20 rows\n\n</div>",
       "datasetInfos": [],
       "metadata": {},
       "removedWidgets": [],
       "type": "html"
      }
     },
     "output_type": "display_data"
    }
   ],
   "source": [
    "bike_sharing_data_selected.show()"
   ]
  },
  {
   "cell_type": "code",
   "execution_count": 0,
   "metadata": {
    "application/vnd.databricks.v1+cell": {
     "cellMetadata": {},
     "inputWidgets": {},
     "nuid": "09753ec0-d456-4bf5-85ee-d1a082ef506e",
     "showTitle": false,
     "title": ""
    }
   },
   "outputs": [
    {
     "data": {
      "text/html": [
       "<style scoped>\n",
       "  .ansiout {\n",
       "    display: block;\n",
       "    unicode-bidi: embed;\n",
       "    white-space: pre-wrap;\n",
       "    word-wrap: break-word;\n",
       "    word-break: break-all;\n",
       "    font-family: \"Source Code Pro\", \"Menlo\", monospace;;\n",
       "    font-size: 13px;\n",
       "    color: #555;\n",
       "    margin-left: 4px;\n",
       "    line-height: 19px;\n",
       "  }\n",
       "</style>\n",
       "<div class=\"ansiout\">+-------+----------+------+---+----+-------+-------+----------+----------+---------+--------+--------+---------+------+----------+----+\n",
       "instant|    dteday|season| yr|mnth|holiday|weekday|workingday|weathersit|     temp|   atemp|     hum|windspeed|casual|registered| cnt|\n",
       "+-------+----------+------+---+----+-------+-------+----------+----------+---------+--------+--------+---------+------+----------+----+\n",
       "      3|2011-01-03|     1|  0|   1|      0|      1|         1|         1| 0.196364|0.189405|0.437273| 0.248309|   120|      1229|1349|\n",
       "      4|2011-01-04|     1|  0|   1|      0|      2|         1|         1|      0.2|0.212122|0.590435| 0.160296|   108|      1454|1562|\n",
       "      5|2011-01-05|     1|  0|   1|      0|      3|         1|         1| 0.226957| 0.22927|0.436957|   0.1869|    82|      1518|1600|\n",
       "      6|2011-01-06|     1|  0|   1|      0|      4|         1|         1| 0.204348|0.233209|0.518261|0.0895652|    88|      1518|1606|\n",
       "      7|2011-01-07|     1|  0|   1|      0|      5|         1|         2| 0.196522|0.208839|0.498696| 0.168726|   148|      1362|1510|\n",
       "     10|2011-01-10|     1|  0|   1|      0|      1|         1|         1| 0.150833|0.150888|0.482917| 0.223267|    41|      1280|1321|\n",
       "     11|2011-01-11|     1|  0|   1|      0|      2|         1|         2| 0.169091|0.191464|0.686364| 0.122132|    43|      1220|1263|\n",
       "     12|2011-01-12|     1|  0|   1|      0|      3|         1|         1| 0.172727|0.160473|0.599545| 0.304627|    25|      1137|1162|\n",
       "     13|2011-01-13|     1|  0|   1|      0|      4|         1|         1|    0.165|0.150883|0.470417|    0.301|    38|      1368|1406|\n",
       "     14|2011-01-14|     1|  0|   1|      0|      5|         1|         1|  0.16087|0.188413|0.537826| 0.126548|    54|      1367|1421|\n",
       "     15|2011-01-15|     1|  0|   1|      0|      6|         0|         2| 0.233333|0.248112| 0.49875| 0.157963|   222|      1026|1248|\n",
       "     16|2011-01-16|     1|  0|   1|      0|      0|         0|         1| 0.231667|0.234217| 0.48375| 0.188433|   251|       953|1204|\n",
       "     19|2011-01-19|     1|  0|   1|      0|      3|         1|         2| 0.292174|0.298422|0.741739| 0.208317|    78|      1572|1650|\n",
       "     20|2011-01-20|     1|  0|   1|      0|      4|         1|         2| 0.261667| 0.25505|0.538333| 0.195904|    83|      1844|1927|\n",
       "     21|2011-01-21|     1|  0|   1|      0|      5|         1|         1|   0.1775|0.157833|0.457083| 0.353242|    75|      1468|1543|\n",
       "     24|2011-01-24|     1|  0|   1|      0|      1|         1|         1|0.0973913| 0.11793|0.491739|  0.15833|    86|      1330|1416|\n",
       "     25|2011-01-25|     1|  0|   1|      0|      2|         1|         2| 0.223478|0.234526|0.616957| 0.129796|   186|      1799|1985|\n",
       "     28|2011-01-28|     1|  0|   1|      0|      5|         1|         2| 0.203478|0.223317|0.793043|   0.1233|    38|      1129|1167|\n",
       "     29|2011-01-29|     1|  0|   1|      0|      6|         0|         1| 0.196522|0.212126|0.651739| 0.145365|   123|       975|1098|\n",
       "     30|2011-01-30|     1|  0|   1|      0|      0|         0|         1| 0.216522|0.250322|0.722174|0.0739826|   140|       956|1096|\n",
       "+-------+----------+------+---+----+-------+-------+----------+----------+---------+--------+--------+---------+------+----------+----+\n",
       "only showing top 20 rows\n",
       "\n",
       "</div>"
      ]
     },
     "metadata": {
      "application/vnd.databricks.v1+output": {
       "addedWidgets": {},
       "arguments": {},
       "data": "<div class=\"ansiout\">+-------+----------+------+---+----+-------+-------+----------+----------+---------+--------+--------+---------+------+----------+----+\n|instant|    dteday|season| yr|mnth|holiday|weekday|workingday|weathersit|     temp|   atemp|     hum|windspeed|casual|registered| cnt|\n+-------+----------+------+---+----+-------+-------+----------+----------+---------+--------+--------+---------+------+----------+----+\n|      3|2011-01-03|     1|  0|   1|      0|      1|         1|         1| 0.196364|0.189405|0.437273| 0.248309|   120|      1229|1349|\n|      4|2011-01-04|     1|  0|   1|      0|      2|         1|         1|      0.2|0.212122|0.590435| 0.160296|   108|      1454|1562|\n|      5|2011-01-05|     1|  0|   1|      0|      3|         1|         1| 0.226957| 0.22927|0.436957|   0.1869|    82|      1518|1600|\n|      6|2011-01-06|     1|  0|   1|      0|      4|         1|         1| 0.204348|0.233209|0.518261|0.0895652|    88|      1518|1606|\n|      7|2011-01-07|     1|  0|   1|      0|      5|         1|         2| 0.196522|0.208839|0.498696| 0.168726|   148|      1362|1510|\n|     10|2011-01-10|     1|  0|   1|      0|      1|         1|         1| 0.150833|0.150888|0.482917| 0.223267|    41|      1280|1321|\n|     11|2011-01-11|     1|  0|   1|      0|      2|         1|         2| 0.169091|0.191464|0.686364| 0.122132|    43|      1220|1263|\n|     12|2011-01-12|     1|  0|   1|      0|      3|         1|         1| 0.172727|0.160473|0.599545| 0.304627|    25|      1137|1162|\n|     13|2011-01-13|     1|  0|   1|      0|      4|         1|         1|    0.165|0.150883|0.470417|    0.301|    38|      1368|1406|\n|     14|2011-01-14|     1|  0|   1|      0|      5|         1|         1|  0.16087|0.188413|0.537826| 0.126548|    54|      1367|1421|\n|     15|2011-01-15|     1|  0|   1|      0|      6|         0|         2| 0.233333|0.248112| 0.49875| 0.157963|   222|      1026|1248|\n|     16|2011-01-16|     1|  0|   1|      0|      0|         0|         1| 0.231667|0.234217| 0.48375| 0.188433|   251|       953|1204|\n|     19|2011-01-19|     1|  0|   1|      0|      3|         1|         2| 0.292174|0.298422|0.741739| 0.208317|    78|      1572|1650|\n|     20|2011-01-20|     1|  0|   1|      0|      4|         1|         2| 0.261667| 0.25505|0.538333| 0.195904|    83|      1844|1927|\n|     21|2011-01-21|     1|  0|   1|      0|      5|         1|         1|   0.1775|0.157833|0.457083| 0.353242|    75|      1468|1543|\n|     24|2011-01-24|     1|  0|   1|      0|      1|         1|         1|0.0973913| 0.11793|0.491739|  0.15833|    86|      1330|1416|\n|     25|2011-01-25|     1|  0|   1|      0|      2|         1|         2| 0.223478|0.234526|0.616957| 0.129796|   186|      1799|1985|\n|     28|2011-01-28|     1|  0|   1|      0|      5|         1|         2| 0.203478|0.223317|0.793043|   0.1233|    38|      1129|1167|\n|     29|2011-01-29|     1|  0|   1|      0|      6|         0|         1| 0.196522|0.212126|0.651739| 0.145365|   123|       975|1098|\n|     30|2011-01-30|     1|  0|   1|      0|      0|         0|         1| 0.216522|0.250322|0.722174|0.0739826|   140|       956|1096|\n+-------+----------+------+---+----+-------+-------+----------+----------+---------+--------+--------+---------+------+----------+----+\nonly showing top 20 rows\n\n</div>",
       "datasetInfos": [],
       "metadata": {},
       "removedWidgets": [],
       "type": "html"
      }
     },
     "output_type": "display_data"
    }
   ],
   "source": [
    "bike_sharing_data.filter(bike_sharing_data['cnt'] > 1000).show()"
   ]
  },
  {
   "cell_type": "markdown",
   "metadata": {
    "application/vnd.databricks.v1+cell": {
     "cellMetadata": {},
     "inputWidgets": {},
     "nuid": "59ccd333-313d-4294-ac21-848bf4f67fdf",
     "showTitle": false,
     "title": ""
    }
   },
   "source": [
    "\n",
    "### Uploading a Dataset to DBFS using notebooks\n",
    "###### Settings -> Admin console -> Workspace Settings -> Advanced Section (Enable - DBFS File Browser) -> Refresh page -> Data Left Panel -> Two Section (Database Tables | DBFS)"
   ]
  },
  {
   "cell_type": "code",
   "execution_count": 0,
   "metadata": {
    "application/vnd.databricks.v1+cell": {
     "cellMetadata": {},
     "inputWidgets": {},
     "nuid": "723a278c-5abf-4b79-99dc-d4dd4b5bd4c7",
     "showTitle": false,
     "title": ""
    }
   },
   "outputs": [],
   "source": [
    "# File -> Upload Data -> /FileStore/ to upload the data\n",
    "#OR\n",
    "\n",
    "df1 = spark.read.format(\"csv\").load(\"dbfs:/FileStore/shared_uploads/rshukla@atlassian.com/credit_train.csv\")  #headers won't be avail "
   ]
  },
  {
   "cell_type": "code",
   "execution_count": 0,
   "metadata": {
    "application/vnd.databricks.v1+cell": {
     "cellMetadata": {},
     "inputWidgets": {},
     "nuid": "c937e755-4343-41c3-b8a8-91064e585a1b",
     "showTitle": false,
     "title": ""
    }
   },
   "outputs": [],
   "source": [
    "credit_data = spark.read.format(\"csv\").option(\"inferSchema\", True).option(\"header\", True).option(\"sep\", \",\").load(\"dbfs:/FileStore/shared_uploads/rshukla@atlassian.com/credit_train.csv\")"
   ]
  },
  {
   "cell_type": "markdown",
   "metadata": {
    "application/vnd.databricks.v1+cell": {
     "cellMetadata": {},
     "inputWidgets": {},
     "nuid": "17bea01b-3306-4450-b3d2-a4a05e3049d5",
     "showTitle": false,
     "title": ""
    }
   },
   "source": [
    "\n",
    "### Basic Selection and Filtering Operations"
   ]
  },
  {
   "cell_type": "code",
   "execution_count": 0,
   "metadata": {
    "application/vnd.databricks.v1+cell": {
     "cellMetadata": {},
     "inputWidgets": {},
     "nuid": "e48eb6b9-0526-4840-96c0-c36f11e520e2",
     "showTitle": false,
     "title": ""
    }
   },
   "outputs": [],
   "source": [
    "credit_data.count()"
   ]
  },
  {
   "cell_type": "code",
   "execution_count": 0,
   "metadata": {
    "application/vnd.databricks.v1+cell": {
     "cellMetadata": {},
     "inputWidgets": {},
     "nuid": "e85dfb9a-b9cc-4339-abae-5746895ad228",
     "showTitle": false,
     "title": ""
    }
   },
   "outputs": [],
   "source": [
    "credit_data_subset = credit_data.select('Loan Status','Current Loan Amount', 'Annual Income').limit(10).show()"
   ]
  },
  {
   "cell_type": "code",
   "execution_count": 0,
   "metadata": {
    "application/vnd.databricks.v1+cell": {
     "cellMetadata": {},
     "inputWidgets": {},
     "nuid": "aa548864-5c25-4ae0-b821-ae0e35082146",
     "showTitle": false,
     "title": ""
    }
   },
   "outputs": [],
   "source": [
    "credit_data.filter(credit_data['Annual Income'].isNull()).show()"
   ]
  },
  {
   "cell_type": "code",
   "execution_count": 0,
   "metadata": {
    "application/vnd.databricks.v1+cell": {
     "cellMetadata": {},
     "inputWidgets": {},
     "nuid": "d33d89da-f639-4531-b39c-c140b644b02b",
     "showTitle": false,
     "title": ""
    }
   },
   "outputs": [],
   "source": [
    "credit_data = credit_data.dropna()"
   ]
  },
  {
   "cell_type": "code",
   "execution_count": 0,
   "metadata": {
    "application/vnd.databricks.v1+cell": {
     "cellMetadata": {},
     "inputWidgets": {},
     "nuid": "3509474d-2e46-46c5-991f-994efd48c90b",
     "showTitle": false,
     "title": ""
    }
   },
   "outputs": [],
   "source": [
    "credit_data.select('Customer ID', 'Annual Income', 'Home Ownership', 'Bankruptcies').where(credit_data.Bankruptcies > 0).show()"
   ]
  },
  {
   "cell_type": "code",
   "execution_count": 0,
   "metadata": {
    "application/vnd.databricks.v1+cell": {
     "cellMetadata": {},
     "inputWidgets": {},
     "nuid": "513230a6-38e1-4e16-ad89-b922e984f571",
     "showTitle": false,
     "title": ""
    }
   },
   "outputs": [],
   "source": [
    "credit_data.select('Customer ID', 'Annual Income', 'Home Ownership', 'Bankruptcies')\\\n",
    "            .filter((credit_data['Annual Income'] > 100000) & (credit_data['Tax Liens'] > 0)).show()"
   ]
  },
  {
   "cell_type": "code",
   "execution_count": 0,
   "metadata": {
    "application/vnd.databricks.v1+cell": {
     "cellMetadata": {},
     "inputWidgets": {},
     "nuid": "6ad12486-a94c-4209-80f6-f24598ba1d89",
     "showTitle": false,
     "title": ""
    }
   },
   "outputs": [],
   "source": [
    "credit_data.select('Customer ID', 'Home Ownership')\\\n",
    "            .filter(credit_data['Home Ownership'].isin(['Home Mortgage', 'Rent']))\\\n",
    "            .show()"
   ]
  },
  {
   "cell_type": "markdown",
   "metadata": {
    "application/vnd.databricks.v1+cell": {
     "cellMetadata": {},
     "inputWidgets": {},
     "nuid": "471bbe09-69fd-4c23-b426-77d14a451270",
     "showTitle": false,
     "title": ""
    }
   },
   "source": [
    "\n",
    "### Writing CSV Files out to DBFS"
   ]
  },
  {
   "cell_type": "code",
   "execution_count": 0,
   "metadata": {
    "application/vnd.databricks.v1+cell": {
     "cellMetadata": {},
     "inputWidgets": {},
     "nuid": "6e0581a1-4557-4865-95c0-d257a245c990",
     "showTitle": false,
     "title": ""
    }
   },
   "outputs": [],
   "source": [
    "credit_data.select('Customer ID', 'Annual Income','Monthly Debt') \\\n",
    "           .withColumnRenamed('Annual Income', 'Income') \\\n",
    "           .withColumnRenamed('Monthly Debt', 'Monthly Debt Payment')\\\n",
    "           .show()"
   ]
  },
  {
   "cell_type": "code",
   "execution_count": 0,
   "metadata": {
    "application/vnd.databricks.v1+cell": {
     "cellMetadata": {},
     "inputWidgets": {},
     "nuid": "1f2c85a0-3111-4f9e-be15-6d7e6becc741",
     "showTitle": false,
     "title": ""
    }
   },
   "outputs": [],
   "source": [
    "credit_data.select('Customer ID', 'Annual Income', 'Monthly Debt') \\\n",
    "           .withColumn('Savings', credit_data['Annual Income'] - 12 * credit_data['Monthly Debt'])\\\n",
    "           .show()"
   ]
  },
  {
   "cell_type": "code",
   "execution_count": 0,
   "metadata": {
    "application/vnd.databricks.v1+cell": {
     "cellMetadata": {},
     "inputWidgets": {},
     "nuid": "2a818b8c-7e30-4277-b5fb-b7bb4ff333a2",
     "showTitle": false,
     "title": ""
    }
   },
   "outputs": [],
   "source": [
    "credit_data.select('Customer ID', 'Annual Income', 'Monthly Debt') \\\n",
    "           .orderBy(credit_data['Monthly Debt'].desc())\\\n",
    "           .show()"
   ]
  },
  {
   "cell_type": "code",
   "execution_count": 0,
   "metadata": {
    "application/vnd.databricks.v1+cell": {
     "cellMetadata": {},
     "inputWidgets": {},
     "nuid": "8cc79b31-e912-4584-b9b3-315fb117ef2c",
     "showTitle": false,
     "title": ""
    }
   },
   "outputs": [],
   "source": [
    "credit_data.select('Customer ID', 'Years of Credit History', 'Years in current job')\\\n",
    "           .orderBy(credit_data['Years of Credit History']).asc())\\\n",
    "           .show()"
   ]
  },
  {
   "cell_type": "code",
   "execution_count": 0,
   "metadata": {
    "application/vnd.databricks.v1+cell": {
     "cellMetadata": {},
     "inputWidgets": {},
     "nuid": "1024cdda-49f4-40d6-8010-56ac1557e285",
     "showTitle": false,
     "title": ""
    }
   },
   "outputs": [],
   "source": [
    "credit_data.groupBy('Loan Status').count().show()"
   ]
  },
  {
   "cell_type": "code",
   "execution_count": 0,
   "metadata": {
    "application/vnd.databricks.v1+cell": {
     "cellMetadata": {},
     "inputWidgets": {},
     "nuid": "8ffe50ba-1bc5-45da-955e-9c29c5cdfb1a",
     "showTitle": false,
     "title": ""
    }
   },
   "outputs": [],
   "source": [
    "credit_data.groupBy('Purpose').agg({'Current Loan Amount': 'sum'}).show()"
   ]
  },
  {
   "cell_type": "code",
   "execution_count": 0,
   "metadata": {
    "application/vnd.databricks.v1+cell": {
     "cellMetadata": {},
     "inputWidgets": {},
     "nuid": "95dcfb93-5d48-447c-8217-266bfc3368e4",
     "showTitle": false,
     "title": ""
    }
   },
   "outputs": [],
   "source": [
    "credit_data.groupBy('Purpose').count().write.csv('dbfs:/FileStore/shared_uploads/rshukla@atlassian.com/count_by_loan_purpose.csv')"
   ]
  },
  {
   "cell_type": "code",
   "execution_count": 0,
   "metadata": {
    "application/vnd.databricks.v1+cell": {
     "cellMetadata": {},
     "inputWidgets": {},
     "nuid": "242ef210-2a2b-4cc2-8136-37b2f6625363",
     "showTitle": false,
     "title": ""
    }
   },
   "outputs": [],
   "source": [
    "print(dbutils.fs.head('dbfs:/FileStore/shared_uploads/rshukla@atlassian.com/count_by_loan_purpose.csv/part-0000****************.csv'))"
   ]
  },
  {
   "cell_type": "markdown",
   "metadata": {
    "application/vnd.databricks.v1+cell": {
     "cellMetadata": {},
     "inputWidgets": {},
     "nuid": "8c4983c2-19ca-4adc-bc0b-749c7a9c5b9c",
     "showTitle": false,
     "title": ""
    }
   },
   "source": [
    "\n",
    "### Creating a table Using the Databricks UI"
   ]
  },
  {
   "cell_type": "markdown",
   "metadata": {
    "application/vnd.databricks.v1+cell": {
     "cellMetadata": {},
     "inputWidgets": {},
     "nuid": "fbf04d70-d3b1-42da-9ebc-e3e30194269d",
     "showTitle": false,
     "title": ""
    }
   },
   "source": [
    "\n",
    "### Visualizing data using the display() function"
   ]
  },
  {
   "cell_type": "code",
   "execution_count": 0,
   "metadata": {
    "application/vnd.databricks.v1+cell": {
     "cellMetadata": {},
     "inputWidgets": {},
     "nuid": "a733c272-16f0-42d5-8a3c-f8c1cdfef5a6",
     "showTitle": false,
     "title": ""
    }
   },
   "outputs": [],
   "source": [
    "auto_data = spark.sql('SELECT * FROM default.automobile_data')"
   ]
  },
  {
   "cell_type": "code",
   "execution_count": 0,
   "metadata": {
    "application/vnd.databricks.v1+cell": {
     "cellMetadata": {},
     "inputWidgets": {},
     "nuid": "22fcf8f9-43a3-43e3-9d81-c944df4d03b0",
     "showTitle": false,
     "title": ""
    }
   },
   "outputs": [],
   "source": [
    "display(auto_data)"
   ]
  },
  {
   "cell_type": "markdown",
   "metadata": {
    "application/vnd.databricks.v1+cell": {
     "cellMetadata": {},
     "inputWidgets": {},
     "nuid": "71b6b781-1521-4484-9233-2953d314b59e",
     "showTitle": false,
     "title": ""
    }
   },
   "source": [
    "\n",
    "# Modify Data Using Spark Functions"
   ]
  },
  {
   "cell_type": "markdown",
   "metadata": {
    "application/vnd.databricks.v1+cell": {
     "cellMetadata": {},
     "inputWidgets": {},
     "nuid": "ced1e997-f759-4dee-af94-21fda1393f6e",
     "showTitle": false,
     "title": ""
    }
   },
   "source": [
    "\n",
    "### Reading and Parsing JSON data"
   ]
  },
  {
   "cell_type": "code",
   "execution_count": 0,
   "metadata": {
    "application/vnd.databricks.v1+cell": {
     "cellMetadata": {},
     "inputWidgets": {},
     "nuid": "cbd2daaf-c097-45fc-a3bd-d7386b4cd111",
     "showTitle": false,
     "title": ""
    }
   },
   "outputs": [
    {
     "data": {
      "text/html": [
       "<style scoped>\n",
       "  .ansiout {\n",
       "    display: block;\n",
       "    unicode-bidi: embed;\n",
       "    white-space: pre-wrap;\n",
       "    word-wrap: break-word;\n",
       "    word-break: break-all;\n",
       "    font-family: \"Source Code Pro\", \"Menlo\", monospace;;\n",
       "    font-size: 13px;\n",
       "    color: #555;\n",
       "    margin-left: 4px;\n",
       "    line-height: 19px;\n",
       "  }\n",
       "</style>\n",
       "<div class=\"ansiout\"></div>"
      ]
     },
     "metadata": {
      "application/vnd.databricks.v1+output": {
       "addedWidgets": {},
       "arguments": {},
       "data": "<div class=\"ansiout\"></div>",
       "datasetInfos": [],
       "metadata": {},
       "removedWidgets": [],
       "type": "html"
      }
     },
     "output_type": "display_data"
    }
   ],
   "source": [
    "people_data = spark.read.option('multiline', False) \\\n",
    "              .json('s3://atl-mgmt-de-dev/rshukla/GSwASonD/people.json')"
   ]
  },
  {
   "cell_type": "code",
   "execution_count": 0,
   "metadata": {
    "application/vnd.databricks.v1+cell": {
     "cellMetadata": {},
     "inputWidgets": {},
     "nuid": "e180414e-259d-4713-b79f-674c467a58ac",
     "showTitle": false,
     "title": ""
    }
   },
   "outputs": [
    {
     "data": {
      "text/html": [
       "<style scoped>\n",
       "  .table-result-container {\n",
       "    max-height: 300px;\n",
       "    overflow: auto;\n",
       "  }\n",
       "  table, th, td {\n",
       "    border: 1px solid black;\n",
       "    border-collapse: collapse;\n",
       "  }\n",
       "  th, td {\n",
       "    padding: 5px;\n",
       "  }\n",
       "  th {\n",
       "    text-align: left;\n",
       "  }\n",
       "</style><div class='table-result-container'><table class='table-result'><thead style='background-color: white'><tr><th>age</th><th>city</th><th>name</th></tr></thead><tbody><tr><td>30</td><td>NewYork</td><td>John</td></tr><tr><td>34</td><td>Chicago</td><td>James</td></tr><tr><td>32</td><td>Houston</td><td>Anna</td></tr></tbody></table></div>"
      ]
     },
     "metadata": {
      "application/vnd.databricks.v1+output": {
       "addedWidgets": {},
       "aggData": [],
       "aggError": "",
       "aggOverflow": false,
       "aggSchema": [],
       "aggSeriesLimitReached": false,
       "aggType": "",
       "arguments": {},
       "columnCustomDisplayInfos": {},
       "data": [
        [
         30,
         "NewYork",
         "John"
        ],
        [
         34,
         "Chicago",
         "James"
        ],
        [
         32,
         "Houston",
         "Anna"
        ]
       ],
       "datasetInfos": [],
       "dbfsResultPath": null,
       "isJsonSchema": true,
       "metadata": {},
       "overflow": false,
       "plotOptions": {
        "customPlotOptions": {},
        "displayType": "table",
        "pivotAggregation": null,
        "pivotColumns": null,
        "xColumns": null,
        "yColumns": null
       },
       "removedWidgets": [],
       "schema": [
        {
         "metadata": "{}",
         "name": "age",
         "type": "\"long\""
        },
        {
         "metadata": "{}",
         "name": "city",
         "type": "\"string\""
        },
        {
         "metadata": "{}",
         "name": "name",
         "type": "\"string\""
        }
       ],
       "type": "table"
      }
     },
     "output_type": "display_data"
    }
   ],
   "source": [
    "display(people_data.filter(people_data.age >= 30))"
   ]
  },
  {
   "cell_type": "code",
   "execution_count": 0,
   "metadata": {
    "application/vnd.databricks.v1+cell": {
     "cellMetadata": {},
     "inputWidgets": {},
     "nuid": "b2af3b39-09a8-46a0-bd4f-cd4d68dce600",
     "showTitle": false,
     "title": ""
    }
   },
   "outputs": [
    {
     "data": {
      "text/html": [
       "<style scoped>\n",
       "  .ansiout {\n",
       "    display: block;\n",
       "    unicode-bidi: embed;\n",
       "    white-space: pre-wrap;\n",
       "    word-wrap: break-word;\n",
       "    word-break: break-all;\n",
       "    font-family: \"Source Code Pro\", \"Menlo\", monospace;;\n",
       "    font-size: 13px;\n",
       "    color: #555;\n",
       "    margin-left: 4px;\n",
       "    line-height: 19px;\n",
       "  }\n",
       "</style>\n",
       "<div class=\"ansiout\"></div>"
      ]
     },
     "metadata": {
      "application/vnd.databricks.v1+output": {
       "addedWidgets": {},
       "arguments": {},
       "data": "<div class=\"ansiout\"></div>",
       "datasetInfos": [],
       "metadata": {},
       "removedWidgets": [],
       "type": "html"
      }
     },
     "output_type": "display_data"
    }
   ],
   "source": [
    "iris_data = spark.read.option('multiline', False) \\\n",
    "              .json('s3://atl-mgmt-de-dev/rshukla/GSwASonD/iris.json')"
   ]
  },
  {
   "cell_type": "code",
   "execution_count": 0,
   "metadata": {
    "application/vnd.databricks.v1+cell": {
     "cellMetadata": {},
     "inputWidgets": {},
     "nuid": "5bef47be-e009-4473-b9ce-cb2bff07a7d1",
     "showTitle": false,
     "title": ""
    }
   },
   "outputs": [],
   "source": [
    "display(iris_data)"
   ]
  },
  {
   "cell_type": "code",
   "execution_count": 0,
   "metadata": {
    "application/vnd.databricks.v1+cell": {
     "cellMetadata": {},
     "inputWidgets": {},
     "nuid": "917b41b4-2340-4f32-9fc8-30fc53264ff3",
     "showTitle": false,
     "title": ""
    }
   },
   "outputs": [
    {
     "data": {
      "text/html": [
       "<style scoped>\n",
       "  .ansiout {\n",
       "    display: block;\n",
       "    unicode-bidi: embed;\n",
       "    white-space: pre-wrap;\n",
       "    word-wrap: break-word;\n",
       "    word-break: break-all;\n",
       "    font-family: \"Source Code Pro\", \"Menlo\", monospace;;\n",
       "    font-size: 13px;\n",
       "    color: #555;\n",
       "    margin-left: 4px;\n",
       "    line-height: 19px;\n",
       "  }\n",
       "</style>\n",
       "<div class=\"ansiout\"></div>"
      ]
     },
     "metadata": {
      "application/vnd.databricks.v1+output": {
       "addedWidgets": {},
       "arguments": {},
       "data": "<div class=\"ansiout\"></div>",
       "datasetInfos": [],
       "metadata": {},
       "removedWidgets": [],
       "type": "html"
      }
     },
     "output_type": "display_data"
    }
   ],
   "source": [
    "iris_data = spark.read.option('multiline', True) \\\n",
    "              .json('s3://atl-mgmt-de-dev/rshukla/GSwASonD/iris.json')"
   ]
  },
  {
   "cell_type": "code",
   "execution_count": 0,
   "metadata": {
    "application/vnd.databricks.v1+cell": {
     "cellMetadata": {},
     "inputWidgets": {},
     "nuid": "fd1f62f9-1029-4e9b-b24a-2cd33d18a398",
     "showTitle": false,
     "title": ""
    }
   },
   "outputs": [],
   "source": [
    "display(iris_data)"
   ]
  },
  {
   "cell_type": "code",
   "execution_count": 0,
   "metadata": {
    "application/vnd.databricks.v1+cell": {
     "cellMetadata": {},
     "inputWidgets": {},
     "nuid": "b258f4f2-c964-4a9d-b96d-7e439fc88c09",
     "showTitle": false,
     "title": ""
    }
   },
   "outputs": [
    {
     "data": {
      "text/html": [
       "<style scoped>\n",
       "  .table-result-container {\n",
       "    max-height: 300px;\n",
       "    overflow: auto;\n",
       "  }\n",
       "  table, th, td {\n",
       "    border: 1px solid black;\n",
       "    border-collapse: collapse;\n",
       "  }\n",
       "  th, td {\n",
       "    padding: 5px;\n",
       "  }\n",
       "  th {\n",
       "    text-align: left;\n",
       "  }\n",
       "</style><div class='table-result-container'><table class='table-result'><thead style='background-color: white'><tr><th>species</th></tr></thead><tbody><tr><td>virginica</td></tr><tr><td>versicolor</td></tr><tr><td>setosa</td></tr></tbody></table></div>"
      ]
     },
     "metadata": {
      "application/vnd.databricks.v1+output": {
       "addedWidgets": {},
       "aggData": [],
       "aggError": "",
       "aggOverflow": false,
       "aggSchema": [],
       "aggSeriesLimitReached": false,
       "aggType": "",
       "arguments": {},
       "columnCustomDisplayInfos": {},
       "data": [
        [
         "virginica"
        ],
        [
         "versicolor"
        ],
        [
         "setosa"
        ]
       ],
       "datasetInfos": [],
       "dbfsResultPath": null,
       "isJsonSchema": true,
       "metadata": {},
       "overflow": false,
       "plotOptions": {
        "customPlotOptions": {},
        "displayType": "table",
        "pivotAggregation": null,
        "pivotColumns": null,
        "xColumns": null,
        "yColumns": null
       },
       "removedWidgets": [],
       "schema": [
        {
         "metadata": "{}",
         "name": "species",
         "type": "\"string\""
        }
       ],
       "type": "table"
      }
     },
     "output_type": "display_data"
    }
   ],
   "source": [
    "display(iris_data.select(\"species\").distinct())"
   ]
  },
  {
   "cell_type": "markdown",
   "metadata": {
    "application/vnd.databricks.v1+cell": {
     "cellMetadata": {},
     "inputWidgets": {},
     "nuid": "5486a955-b402-4801-940e-1d6aaa2d3d71",
     "showTitle": false,
     "title": ""
    }
   },
   "source": [
    "### Accessing Nested Fields and List Elements"
   ]
  },
  {
   "cell_type": "code",
   "execution_count": 0,
   "metadata": {
    "application/vnd.databricks.v1+cell": {
     "cellMetadata": {},
     "inputWidgets": {},
     "nuid": "c477e874-7ce4-4716-b447-ad60024b4f83",
     "showTitle": true,
     "title": "mode = PERMISSIVE"
    }
   },
   "outputs": [
    {
     "data": {
      "text/html": [
       "<style scoped>\n",
       "  .ansiout {\n",
       "    display: block;\n",
       "    unicode-bidi: embed;\n",
       "    white-space: pre-wrap;\n",
       "    word-wrap: break-word;\n",
       "    word-break: break-all;\n",
       "    font-family: \"Source Code Pro\", \"Menlo\", monospace;;\n",
       "    font-size: 13px;\n",
       "    color: #555;\n",
       "    margin-left: 4px;\n",
       "    line-height: 19px;\n",
       "  }\n",
       "</style>\n",
       "<div class=\"ansiout\"></div>"
      ]
     },
     "metadata": {
      "application/vnd.databricks.v1+output": {
       "addedWidgets": {},
       "arguments": {},
       "data": "<div class=\"ansiout\"></div>",
       "datasetInfos": [],
       "metadata": {},
       "removedWidgets": [],
       "type": "html"
      }
     },
     "output_type": "display_data"
    }
   ],
   "source": [
    "# Permissive mode allows us to deal with corrupt records during parsing. Permissive sets other fields to null when it needs a corrupted record and puts the malformed string into a new field\n",
    "employee_data = spark.read.option('multiline', True)\\\n",
    "                .option(\"mode\", \"PERMISSIVE\")\\\n",
    "                .json('s3://atl-mgmt-de-dev/rshukla/GSwASonD/employees.json')"
   ]
  },
  {
   "cell_type": "code",
   "execution_count": 0,
   "metadata": {
    "application/vnd.databricks.v1+cell": {
     "cellMetadata": {},
     "inputWidgets": {},
     "nuid": "a6e8cf37-4e9e-4b67-9f95-03e95fc24b9a",
     "showTitle": false,
     "title": ""
    }
   },
   "outputs": [
    {
     "data": {
      "text/html": [
       "<style scoped>\n",
       "  .table-result-container {\n",
       "    max-height: 300px;\n",
       "    overflow: auto;\n",
       "  }\n",
       "  table, th, td {\n",
       "    border: 1px solid black;\n",
       "    border-collapse: collapse;\n",
       "  }\n",
       "  th, td {\n",
       "    padding: 5px;\n",
       "  }\n",
       "  th {\n",
       "    text-align: left;\n",
       "  }\n",
       "</style><div class='table-result-container'><table class='table-result'><thead style='background-color: white'><tr><th>address</th><th>contact</th><th>gender</th><th>id</th><th>name</th><th>salary</th></tr></thead><tbody><tr><td>List(Baltimore, MD)</td><td>List(List(watson@commerce.gov, 650-333-3456), List(emily@gmail.com, 238-111-7689))</td><td>Female</td><td>1</td><td>Emily Watson</td><td>54000.0</td></tr><tr><td>List(Barton, TN)</td><td>List(List(johnsmith@yahoo.com, 425-231-8754))</td><td>Male</td><td>2</td><td>John Smith</td><td>67000.0</td></tr><tr><td>List(Salt Lake City, UT)</td><td>List(List(peter@radio.us, null), List(peterjones@yahoo.com, 425-213-0987))</td><td>Male</td><td>3</td><td>Peter Jones</td><td>45000.0</td></tr><tr><td>List(Seattle, WA)</td><td>List(List(nina@hotmail.com, 813-190-3628), List(ninajames@hotmail.com, 813-456-6509))</td><td>Female</td><td>4</td><td>Nina James</td><td>95500.0</td></tr></tbody></table></div>"
      ]
     },
     "metadata": {
      "application/vnd.databricks.v1+output": {
       "addedWidgets": {},
       "aggData": [],
       "aggError": "",
       "aggOverflow": false,
       "aggSchema": [],
       "aggSeriesLimitReached": false,
       "aggType": "",
       "arguments": {},
       "columnCustomDisplayInfos": {},
       "data": [
        [
         [
          "Baltimore",
          "MD"
         ],
         [
          [
           "watson@commerce.gov",
           "650-333-3456"
          ],
          [
           "emily@gmail.com",
           "238-111-7689"
          ]
         ],
         "Female",
         1,
         "Emily Watson",
         54000
        ],
        [
         [
          "Barton",
          "TN"
         ],
         [
          [
           "johnsmith@yahoo.com",
           "425-231-8754"
          ]
         ],
         "Male",
         2,
         "John Smith",
         67000
        ],
        [
         [
          "Salt Lake City",
          "UT"
         ],
         [
          [
           "peter@radio.us",
           null
          ],
          [
           "peterjones@yahoo.com",
           "425-213-0987"
          ]
         ],
         "Male",
         3,
         "Peter Jones",
         45000
        ],
        [
         [
          "Seattle",
          "WA"
         ],
         [
          [
           "nina@hotmail.com",
           "813-190-3628"
          ],
          [
           "ninajames@hotmail.com",
           "813-456-6509"
          ]
         ],
         "Female",
         4,
         "Nina James",
         95500
        ]
       ],
       "datasetInfos": [],
       "dbfsResultPath": null,
       "isJsonSchema": true,
       "metadata": {},
       "overflow": false,
       "plotOptions": {
        "customPlotOptions": {},
        "displayType": "table",
        "pivotAggregation": null,
        "pivotColumns": null,
        "xColumns": null,
        "yColumns": null
       },
       "removedWidgets": [],
       "schema": [
        {
         "metadata": "{}",
         "name": "address",
         "type": "{\"type\":\"struct\",\"fields\":[{\"name\":\"city\",\"type\":\"string\",\"nullable\":true,\"metadata\":{}},{\"name\":\"state\",\"type\":\"string\",\"nullable\":true,\"metadata\":{}}]}"
        },
        {
         "metadata": "{}",
         "name": "contact",
         "type": "{\"type\":\"array\",\"elementType\":{\"type\":\"struct\",\"fields\":[{\"name\":\"email\",\"type\":\"string\",\"nullable\":true,\"metadata\":{}},{\"name\":\"phone\",\"type\":\"string\",\"nullable\":true,\"metadata\":{}}]},\"containsNull\":true}"
        },
        {
         "metadata": "{}",
         "name": "gender",
         "type": "\"string\""
        },
        {
         "metadata": "{}",
         "name": "id",
         "type": "\"long\""
        },
        {
         "metadata": "{}",
         "name": "name",
         "type": "\"string\""
        },
        {
         "metadata": "{}",
         "name": "salary",
         "type": "\"double\""
        }
       ],
       "type": "table"
      }
     },
     "output_type": "display_data"
    }
   ],
   "source": [
    "display(employee_data)"
   ]
  },
  {
   "cell_type": "code",
   "execution_count": 0,
   "metadata": {
    "application/vnd.databricks.v1+cell": {
     "cellMetadata": {},
     "inputWidgets": {},
     "nuid": "6d8dcc94-d762-4416-9a57-34beef2ff45e",
     "showTitle": false,
     "title": ""
    }
   },
   "outputs": [
    {
     "data": {
      "text/html": [
       "<style scoped>\n",
       "  .table-result-container {\n",
       "    max-height: 300px;\n",
       "    overflow: auto;\n",
       "  }\n",
       "  table, th, td {\n",
       "    border: 1px solid black;\n",
       "    border-collapse: collapse;\n",
       "  }\n",
       "  th, td {\n",
       "    padding: 5px;\n",
       "  }\n",
       "  th {\n",
       "    text-align: left;\n",
       "  }\n",
       "</style><div class='table-result-container'><table class='table-result'><thead style='background-color: white'><tr><th>name</th><th>salary</th><th>address</th><th>contact</th></tr></thead><tbody><tr><td>Emily Watson</td><td>54000.0</td><td>List(Baltimore, MD)</td><td>List(List(watson@commerce.gov, 650-333-3456), List(emily@gmail.com, 238-111-7689))</td></tr><tr><td>John Smith</td><td>67000.0</td><td>List(Barton, TN)</td><td>List(List(johnsmith@yahoo.com, 425-231-8754))</td></tr><tr><td>Peter Jones</td><td>45000.0</td><td>List(Salt Lake City, UT)</td><td>List(List(peter@radio.us, null), List(peterjones@yahoo.com, 425-213-0987))</td></tr><tr><td>Nina James</td><td>95500.0</td><td>List(Seattle, WA)</td><td>List(List(nina@hotmail.com, 813-190-3628), List(ninajames@hotmail.com, 813-456-6509))</td></tr></tbody></table></div>"
      ]
     },
     "metadata": {
      "application/vnd.databricks.v1+output": {
       "addedWidgets": {},
       "aggData": [],
       "aggError": "",
       "aggOverflow": false,
       "aggSchema": [],
       "aggSeriesLimitReached": false,
       "aggType": "",
       "arguments": {},
       "columnCustomDisplayInfos": {},
       "data": [
        [
         "Emily Watson",
         54000,
         [
          "Baltimore",
          "MD"
         ],
         [
          [
           "watson@commerce.gov",
           "650-333-3456"
          ],
          [
           "emily@gmail.com",
           "238-111-7689"
          ]
         ]
        ],
        [
         "John Smith",
         67000,
         [
          "Barton",
          "TN"
         ],
         [
          [
           "johnsmith@yahoo.com",
           "425-231-8754"
          ]
         ]
        ],
        [
         "Peter Jones",
         45000,
         [
          "Salt Lake City",
          "UT"
         ],
         [
          [
           "peter@radio.us",
           null
          ],
          [
           "peterjones@yahoo.com",
           "425-213-0987"
          ]
         ]
        ],
        [
         "Nina James",
         95500,
         [
          "Seattle",
          "WA"
         ],
         [
          [
           "nina@hotmail.com",
           "813-190-3628"
          ],
          [
           "ninajames@hotmail.com",
           "813-456-6509"
          ]
         ]
        ]
       ],
       "datasetInfos": [],
       "dbfsResultPath": null,
       "isJsonSchema": true,
       "metadata": {},
       "overflow": false,
       "plotOptions": {
        "customPlotOptions": {},
        "displayType": "table",
        "pivotAggregation": null,
        "pivotColumns": null,
        "xColumns": null,
        "yColumns": null
       },
       "removedWidgets": [],
       "schema": [
        {
         "metadata": "{}",
         "name": "name",
         "type": "\"string\""
        },
        {
         "metadata": "{}",
         "name": "salary",
         "type": "\"double\""
        },
        {
         "metadata": "{}",
         "name": "address",
         "type": "{\"type\":\"struct\",\"fields\":[{\"name\":\"city\",\"type\":\"string\",\"nullable\":true,\"metadata\":{}},{\"name\":\"state\",\"type\":\"string\",\"nullable\":true,\"metadata\":{}}]}"
        },
        {
         "metadata": "{}",
         "name": "contact",
         "type": "{\"type\":\"array\",\"elementType\":{\"type\":\"struct\",\"fields\":[{\"name\":\"email\",\"type\":\"string\",\"nullable\":true,\"metadata\":{}},{\"name\":\"phone\",\"type\":\"string\",\"nullable\":true,\"metadata\":{}}]},\"containsNull\":true}"
        }
       ],
       "type": "table"
      }
     },
     "output_type": "display_data"
    }
   ],
   "source": [
    "display(employee_data.select('name', 'salary', 'address', 'contact'))"
   ]
  },
  {
   "cell_type": "code",
   "execution_count": 0,
   "metadata": {
    "application/vnd.databricks.v1+cell": {
     "cellMetadata": {},
     "inputWidgets": {},
     "nuid": "6e1d9c58-53a5-4030-b1c3-c48a70ddf387",
     "showTitle": false,
     "title": ""
    }
   },
   "outputs": [
    {
     "data": {
      "text/html": [
       "<style scoped>\n",
       "  .table-result-container {\n",
       "    max-height: 300px;\n",
       "    overflow: auto;\n",
       "  }\n",
       "  table, th, td {\n",
       "    border: 1px solid black;\n",
       "    border-collapse: collapse;\n",
       "  }\n",
       "  th, td {\n",
       "    padding: 5px;\n",
       "  }\n",
       "  th {\n",
       "    text-align: left;\n",
       "  }\n",
       "</style><div class='table-result-container'><table class='table-result'><thead style='background-color: white'><tr><th>name</th><th>salary</th><th>city</th><th>state</th></tr></thead><tbody><tr><td>Emily Watson</td><td>54000.0</td><td>Baltimore</td><td>MD</td></tr><tr><td>John Smith</td><td>67000.0</td><td>Barton</td><td>TN</td></tr><tr><td>Peter Jones</td><td>45000.0</td><td>Salt Lake City</td><td>UT</td></tr><tr><td>Nina James</td><td>95500.0</td><td>Seattle</td><td>WA</td></tr></tbody></table></div>"
      ]
     },
     "metadata": {
      "application/vnd.databricks.v1+output": {
       "addedWidgets": {},
       "aggData": [],
       "aggError": "",
       "aggOverflow": false,
       "aggSchema": [],
       "aggSeriesLimitReached": false,
       "aggType": "",
       "arguments": {},
       "columnCustomDisplayInfos": {},
       "data": [
        [
         "Emily Watson",
         54000,
         "Baltimore",
         "MD"
        ],
        [
         "John Smith",
         67000,
         "Barton",
         "TN"
        ],
        [
         "Peter Jones",
         45000,
         "Salt Lake City",
         "UT"
        ],
        [
         "Nina James",
         95500,
         "Seattle",
         "WA"
        ]
       ],
       "datasetInfos": [],
       "dbfsResultPath": null,
       "isJsonSchema": true,
       "metadata": {},
       "overflow": false,
       "plotOptions": {
        "customPlotOptions": {},
        "displayType": "table",
        "pivotAggregation": null,
        "pivotColumns": null,
        "xColumns": null,
        "yColumns": null
       },
       "removedWidgets": [],
       "schema": [
        {
         "metadata": "{}",
         "name": "name",
         "type": "\"string\""
        },
        {
         "metadata": "{}",
         "name": "salary",
         "type": "\"double\""
        },
        {
         "metadata": "{}",
         "name": "city",
         "type": "\"string\""
        },
        {
         "metadata": "{}",
         "name": "state",
         "type": "\"string\""
        }
       ],
       "type": "table"
      }
     },
     "output_type": "display_data"
    }
   ],
   "source": [
    "display(employee_data.select('name', 'salary', 'address.city', 'address.state'))"
   ]
  },
  {
   "cell_type": "code",
   "execution_count": 0,
   "metadata": {
    "application/vnd.databricks.v1+cell": {
     "cellMetadata": {},
     "inputWidgets": {},
     "nuid": "91a9180a-1757-476e-8dc6-f27a04ab7ff0",
     "showTitle": false,
     "title": ""
    }
   },
   "outputs": [
    {
     "data": {
      "text/html": [
       "<style scoped>\n",
       "  .table-result-container {\n",
       "    max-height: 300px;\n",
       "    overflow: auto;\n",
       "  }\n",
       "  table, th, td {\n",
       "    border: 1px solid black;\n",
       "    border-collapse: collapse;\n",
       "  }\n",
       "  th, td {\n",
       "    padding: 5px;\n",
       "  }\n",
       "  th {\n",
       "    text-align: left;\n",
       "  }\n",
       "</style><div class='table-result-container'><table class='table-result'><thead style='background-color: white'><tr><th>name</th><th>salary</th><th>email</th><th>phone</th></tr></thead><tbody><tr><td>Emily Watson</td><td>54000.0</td><td>List(watson@commerce.gov, emily@gmail.com)</td><td>List(650-333-3456, 238-111-7689)</td></tr><tr><td>John Smith</td><td>67000.0</td><td>List(johnsmith@yahoo.com)</td><td>List(425-231-8754)</td></tr><tr><td>Peter Jones</td><td>45000.0</td><td>List(peter@radio.us, peterjones@yahoo.com)</td><td>List(null, 425-213-0987)</td></tr><tr><td>Nina James</td><td>95500.0</td><td>List(nina@hotmail.com, ninajames@hotmail.com)</td><td>List(813-190-3628, 813-456-6509)</td></tr></tbody></table></div>"
      ]
     },
     "metadata": {
      "application/vnd.databricks.v1+output": {
       "addedWidgets": {},
       "aggData": [],
       "aggError": "",
       "aggOverflow": false,
       "aggSchema": [],
       "aggSeriesLimitReached": false,
       "aggType": "",
       "arguments": {},
       "columnCustomDisplayInfos": {},
       "data": [
        [
         "Emily Watson",
         54000,
         [
          "watson@commerce.gov",
          "emily@gmail.com"
         ],
         [
          "650-333-3456",
          "238-111-7689"
         ]
        ],
        [
         "John Smith",
         67000,
         [
          "johnsmith@yahoo.com"
         ],
         [
          "425-231-8754"
         ]
        ],
        [
         "Peter Jones",
         45000,
         [
          "peter@radio.us",
          "peterjones@yahoo.com"
         ],
         [
          null,
          "425-213-0987"
         ]
        ],
        [
         "Nina James",
         95500,
         [
          "nina@hotmail.com",
          "ninajames@hotmail.com"
         ],
         [
          "813-190-3628",
          "813-456-6509"
         ]
        ]
       ],
       "datasetInfos": [],
       "dbfsResultPath": null,
       "isJsonSchema": true,
       "metadata": {},
       "overflow": false,
       "plotOptions": {
        "customPlotOptions": {},
        "displayType": "table",
        "pivotAggregation": null,
        "pivotColumns": null,
        "xColumns": null,
        "yColumns": null
       },
       "removedWidgets": [],
       "schema": [
        {
         "metadata": "{}",
         "name": "name",
         "type": "\"string\""
        },
        {
         "metadata": "{}",
         "name": "salary",
         "type": "\"double\""
        },
        {
         "metadata": "{}",
         "name": "email",
         "type": "{\"type\":\"array\",\"elementType\":\"string\",\"containsNull\":true}"
        },
        {
         "metadata": "{}",
         "name": "phone",
         "type": "{\"type\":\"array\",\"elementType\":\"string\",\"containsNull\":true}"
        }
       ],
       "type": "table"
      }
     },
     "output_type": "display_data"
    }
   ],
   "source": [
    "display(employee_data.select('name', 'salary', 'contact.email', 'contact.phone'))"
   ]
  },
  {
   "cell_type": "code",
   "execution_count": 0,
   "metadata": {
    "application/vnd.databricks.v1+cell": {
     "cellMetadata": {},
     "inputWidgets": {},
     "nuid": "dc7027d2-73fe-48e0-92c4-5e952e2306d1",
     "showTitle": false,
     "title": ""
    }
   },
   "outputs": [
    {
     "data": {
      "text/html": [
       "<style scoped>\n",
       "  .ansiout {\n",
       "    display: block;\n",
       "    unicode-bidi: embed;\n",
       "    white-space: pre-wrap;\n",
       "    word-wrap: break-word;\n",
       "    word-break: break-all;\n",
       "    font-family: \"Source Code Pro\", \"Menlo\", monospace;;\n",
       "    font-size: 13px;\n",
       "    color: #555;\n",
       "    margin-left: 4px;\n",
       "    line-height: 19px;\n",
       "  }\n",
       "</style>\n",
       "<div class=\"ansiout\"></div>"
      ]
     },
     "metadata": {
      "application/vnd.databricks.v1+output": {
       "addedWidgets": {},
       "arguments": {},
       "data": "<div class=\"ansiout\"></div>",
       "datasetInfos": [],
       "metadata": {},
       "removedWidgets": [],
       "type": "html"
      }
     },
     "output_type": "display_data"
    }
   ],
   "source": [
    "from pyspark.sql import functions as F"
   ]
  },
  {
   "cell_type": "code",
   "execution_count": 0,
   "metadata": {
    "application/vnd.databricks.v1+cell": {
     "cellMetadata": {},
     "inputWidgets": {},
     "nuid": "d2c3ae79-abfe-4860-b7c8-74196f1fef73",
     "showTitle": false,
     "title": ""
    }
   },
   "outputs": [
    {
     "data": {
      "text/html": [
       "<style scoped>\n",
       "  .table-result-container {\n",
       "    max-height: 300px;\n",
       "    overflow: auto;\n",
       "  }\n",
       "  table, th, td {\n",
       "    border: 1px solid black;\n",
       "    border-collapse: collapse;\n",
       "  }\n",
       "  th, td {\n",
       "    padding: 5px;\n",
       "  }\n",
       "  th {\n",
       "    text-align: left;\n",
       "  }\n",
       "</style><div class='table-result-container'><table class='table-result'><thead style='background-color: white'><tr><th>email_address</th></tr></thead><tbody><tr><td>watson@commerce.gov</td></tr><tr><td>johnsmith@yahoo.com</td></tr><tr><td>peter@radio.us</td></tr><tr><td>nina@hotmail.com</td></tr></tbody></table></div>"
      ]
     },
     "metadata": {
      "application/vnd.databricks.v1+output": {
       "addedWidgets": {},
       "aggData": [],
       "aggError": "",
       "aggOverflow": false,
       "aggSchema": [],
       "aggSeriesLimitReached": false,
       "aggType": "",
       "arguments": {},
       "columnCustomDisplayInfos": {},
       "data": [
        [
         "watson@commerce.gov"
        ],
        [
         "johnsmith@yahoo.com"
        ],
        [
         "peter@radio.us"
        ],
        [
         "nina@hotmail.com"
        ]
       ],
       "datasetInfos": [],
       "dbfsResultPath": null,
       "isJsonSchema": true,
       "metadata": {},
       "overflow": false,
       "plotOptions": {
        "customPlotOptions": {},
        "displayType": "table",
        "pivotAggregation": null,
        "pivotColumns": null,
        "xColumns": null,
        "yColumns": null
       },
       "removedWidgets": [],
       "schema": [
        {
         "metadata": "{}",
         "name": "email_address",
         "type": "\"string\""
        }
       ],
       "type": "table"
      }
     },
     "output_type": "display_data"
    }
   ],
   "source": [
    "display(employee_data.select(F.col('contact.email').getItem(0).alias('email_address')))"
   ]
  },
  {
   "cell_type": "code",
   "execution_count": 0,
   "metadata": {
    "application/vnd.databricks.v1+cell": {
     "cellMetadata": {},
     "inputWidgets": {},
     "nuid": "860e6ef3-9f05-4a5e-8f40-48065968e08b",
     "showTitle": false,
     "title": ""
    }
   },
   "outputs": [
    {
     "data": {
      "text/html": [
       "<style scoped>\n",
       "  .table-result-container {\n",
       "    max-height: 300px;\n",
       "    overflow: auto;\n",
       "  }\n",
       "  table, th, td {\n",
       "    border: 1px solid black;\n",
       "    border-collapse: collapse;\n",
       "  }\n",
       "  th, td {\n",
       "    padding: 5px;\n",
       "  }\n",
       "  th {\n",
       "    text-align: left;\n",
       "  }\n",
       "</style><div class='table-result-container'><table class='table-result'><thead style='background-color: white'><tr><th>name</th><th>email_address</th><th>phone_number</th></tr></thead><tbody><tr><td>Emily Watson</td><td>watson@commerce.gov</td><td>650-333-3456</td></tr><tr><td>John Smith</td><td>johnsmith@yahoo.com</td><td>425-231-8754</td></tr><tr><td>Peter Jones</td><td>peter@radio.us</td><td>null</td></tr><tr><td>Nina James</td><td>nina@hotmail.com</td><td>813-190-3628</td></tr></tbody></table></div>"
      ]
     },
     "metadata": {
      "application/vnd.databricks.v1+output": {
       "addedWidgets": {},
       "aggData": [],
       "aggError": "",
       "aggOverflow": false,
       "aggSchema": [],
       "aggSeriesLimitReached": false,
       "aggType": "",
       "arguments": {},
       "columnCustomDisplayInfos": {},
       "data": [
        [
         "Emily Watson",
         "watson@commerce.gov",
         "650-333-3456"
        ],
        [
         "John Smith",
         "johnsmith@yahoo.com",
         "425-231-8754"
        ],
        [
         "Peter Jones",
         "peter@radio.us",
         null
        ],
        [
         "Nina James",
         "nina@hotmail.com",
         "813-190-3628"
        ]
       ],
       "datasetInfos": [],
       "dbfsResultPath": null,
       "isJsonSchema": true,
       "metadata": {},
       "overflow": false,
       "plotOptions": {
        "customPlotOptions": {},
        "displayType": "table",
        "pivotAggregation": null,
        "pivotColumns": null,
        "xColumns": null,
        "yColumns": null
       },
       "removedWidgets": [],
       "schema": [
        {
         "metadata": "{}",
         "name": "name",
         "type": "\"string\""
        },
        {
         "metadata": "{}",
         "name": "email_address",
         "type": "\"string\""
        },
        {
         "metadata": "{}",
         "name": "phone_number",
         "type": "\"string\""
        }
       ],
       "type": "table"
      }
     },
     "output_type": "display_data"
    }
   ],
   "source": [
    "display(employee_data.select('name',\n",
    "                             F.col('contact.email').getItem(0).alias('email_address'),\n",
    "                             F.col('contact.phone').getItem(0).alias('phone_number')))"
   ]
  },
  {
   "cell_type": "markdown",
   "metadata": {
    "application/vnd.databricks.v1+cell": {
     "cellMetadata": {},
     "inputWidgets": {},
     "nuid": "6fa862d8-2d02-4210-a4e2-1323757997cd",
     "showTitle": false,
     "title": ""
    }
   },
   "source": [
    "\n",
    "### Reading from Azure Data Storage"
   ]
  },
  {
   "cell_type": "markdown",
   "metadata": {
    "application/vnd.databricks.v1+cell": {
     "cellMetadata": {},
     "inputWidgets": {},
     "nuid": "36a5a518-bf2e-40ee-8111-156c0a668d7c",
     "showTitle": false,
     "title": ""
    }
   },
   "source": [
    "\n",
    "-https://databricks-instance#secrets/createScope\n",
    "-vault URI-\n",
    "-resource ID"
   ]
  },
  {
   "cell_type": "code",
   "execution_count": 0,
   "metadata": {
    "application/vnd.databricks.v1+cell": {
     "cellMetadata": {},
     "inputWidgets": {},
     "nuid": "27baacfa-0e4a-40c8-b3f8-f9badb3f6c7a",
     "showTitle": false,
     "title": ""
    }
   },
   "outputs": [],
   "source": [
    "spark.conf.set(\"fs.azure.account.key.loonydatastorage.blob.core.windows.net\", \n",
    "              dbutils.secrets.get(scope = \"loonydatabrickssecretscope\", key = \"loonydatasecretkey\"))"
   ]
  },
  {
   "cell_type": "code",
   "execution_count": 0,
   "metadata": {
    "application/vnd.databricks.v1+cell": {
     "cellMetadata": {},
     "inputWidgets": {},
     "nuid": "daefbf24-c9a0-4176-8a3e-08ba97a3edfb",
     "showTitle": false,
     "title": ""
    }
   },
   "outputs": [],
   "source": [
    "netflix_data = spark.read.csv(\"wasbs://loonydatacontainer@loonydatastorage.blob.core.windows.net/datasets/netflix_data.csv\", header = \"true\")"
   ]
  },
  {
   "cell_type": "code",
   "execution_count": 0,
   "metadata": {
    "application/vnd.databricks.v1+cell": {
     "cellMetadata": {},
     "inputWidgets": {},
     "nuid": "84089571-f949-4d99-b4cb-8016a58bfe2d",
     "showTitle": false,
     "title": ""
    }
   },
   "outputs": [
    {
     "data": {
      "text/html": [
       "<style scoped>\n",
       "  .ansiout {\n",
       "    display: block;\n",
       "    unicode-bidi: embed;\n",
       "    white-space: pre-wrap;\n",
       "    word-wrap: break-word;\n",
       "    word-break: break-all;\n",
       "    font-family: \"Source Code Pro\", \"Menlo\", monospace;;\n",
       "    font-size: 13px;\n",
       "    color: #555;\n",
       "    margin-left: 4px;\n",
       "    line-height: 19px;\n",
       "  }\n",
       "</style>\n",
       "<div class=\"ansiout\"></div>"
      ]
     },
     "metadata": {
      "application/vnd.databricks.v1+output": {
       "addedWidgets": {},
       "arguments": {},
       "data": "<div class=\"ansiout\"></div>",
       "datasetInfos": [],
       "metadata": {},
       "removedWidgets": [],
       "type": "html"
      }
     },
     "output_type": "display_data"
    }
   ],
   "source": [
    "netflix_data = spark.read.csv(\"s3://atl-mgmt-de-dev/rshukla/GSwASonD/netflix_list.csv\", header = \"true\")"
   ]
  },
  {
   "cell_type": "code",
   "execution_count": 0,
   "metadata": {
    "application/vnd.databricks.v1+cell": {
     "cellMetadata": {},
     "inputWidgets": {},
     "nuid": "9c093779-54ce-484f-bd91-ea5a6a14c71a",
     "showTitle": false,
     "title": ""
    }
   },
   "outputs": [],
   "source": [
    "display(netflix_data)"
   ]
  },
  {
   "cell_type": "code",
   "execution_count": 0,
   "metadata": {
    "application/vnd.databricks.v1+cell": {
     "cellMetadata": {},
     "inputWidgets": {},
     "nuid": "43ac384c-b5aa-43b2-9953-6799f1e4ee1b",
     "showTitle": false,
     "title": ""
    }
   },
   "outputs": [],
   "source": [
    "#Accessing this data using the long storage acount URL is kind of clunky. We can also mount our storage account so that we can access this data from within our databrticks File System\n",
    "\n",
    "dbutils.fs.mount(\n",
    "  source = \"wasbs://loonydatacontainer@loonydatastorage.blob.core.windows.net\",\n",
    "  mount_point = \"/mnt/\",\n",
    "  extra_configs = {\"fs.azure.account.key.loonydatastorage.blob.core.windows.net\":\n",
    "                  dbutils.secrets.get(scope = \"loonydatabrickssecretscope\", key = \"loonydatasecretkey\")\n",
    "  }\n",
    ")"
   ]
  },
  {
   "cell_type": "code",
   "execution_count": 0,
   "metadata": {
    "application/vnd.databricks.v1+cell": {
     "cellMetadata": {},
     "inputWidgets": {},
     "nuid": "e576cd9d-1c4f-4a33-8637-7e9f322bda54",
     "showTitle": false,
     "title": ""
    }
   },
   "outputs": [],
   "source": [
    "dbutils.fs.ls('/mnt/datasets/netflix_list.csv')"
   ]
  },
  {
   "cell_type": "code",
   "execution_count": 0,
   "metadata": {
    "application/vnd.databricks.v1+cell": {
     "cellMetadata": {},
     "inputWidgets": {},
     "nuid": "ebe64dd3-a4b1-4b86-9352-d6d17cbb07d3",
     "showTitle": false,
     "title": ""
    }
   },
   "outputs": [],
   "source": [
    "netflix_data = spark.read.format(\"csv\").option(\"inferSchema\", \"True\").option(\"header\", True).option(\"sep\", \",\").load(\"/mnt/datasets/netflix_list.csv\")\n",
    "\n",
    "display(netflix_data)"
   ]
  },
  {
   "cell_type": "markdown",
   "metadata": {
    "application/vnd.databricks.v1+cell": {
     "cellMetadata": {},
     "inputWidgets": {},
     "nuid": "42264f09-df80-4bd2-bb0c-14742bcde113",
     "showTitle": false,
     "title": ""
    }
   },
   "source": [
    "\n",
    "### Built-in Functions"
   ]
  },
  {
   "cell_type": "code",
   "execution_count": 0,
   "metadata": {
    "application/vnd.databricks.v1+cell": {
     "cellMetadata": {},
     "inputWidgets": {},
     "nuid": "857e7363-bed9-4f4e-98ab-df6225065c24",
     "showTitle": false,
     "title": ""
    }
   },
   "outputs": [
    {
     "data": {
      "text/html": [
       "<style scoped>\n",
       "  .ansiout {\n",
       "    display: block;\n",
       "    unicode-bidi: embed;\n",
       "    white-space: pre-wrap;\n",
       "    word-wrap: break-word;\n",
       "    word-break: break-all;\n",
       "    font-family: \"Source Code Pro\", \"Menlo\", monospace;;\n",
       "    font-size: 13px;\n",
       "    color: #555;\n",
       "    margin-left: 4px;\n",
       "    line-height: 19px;\n",
       "  }\n",
       "</style>\n",
       "<div class=\"ansiout\"></div>"
      ]
     },
     "metadata": {
      "application/vnd.databricks.v1+output": {
       "addedWidgets": {},
       "arguments": {},
       "data": "<div class=\"ansiout\"></div>",
       "datasetInfos": [],
       "metadata": {},
       "removedWidgets": [],
       "type": "html"
      }
     },
     "output_type": "display_data"
    }
   ],
   "source": [
    "netflix_data = spark.read.format(\"csv\")\\\n",
    "               .option(\"inferSchema\", True)\\\n",
    "               .option(\"header\", True)\\\n",
    "               .option(\"sep\", \",\")\\\n",
    "               .load(\"s3://atl-mgmt-de-dev/rshukla/GSwASonD/netflix_list.csv\")"
   ]
  },
  {
   "cell_type": "code",
   "execution_count": 0,
   "metadata": {
    "application/vnd.databricks.v1+cell": {
     "cellMetadata": {},
     "inputWidgets": {},
     "nuid": "c7e19577-7e79-4ec2-9f43-092be04552e4",
     "showTitle": false,
     "title": ""
    }
   },
   "outputs": [
    {
     "data": {
      "text/html": [
       "<style scoped>\n",
       "  .table-result-container {\n",
       "    max-height: 300px;\n",
       "    overflow: auto;\n",
       "  }\n",
       "  table, th, td {\n",
       "    border: 1px solid black;\n",
       "    border-collapse: collapse;\n",
       "  }\n",
       "  th, td {\n",
       "    padding: 5px;\n",
       "  }\n",
       "  th {\n",
       "    text-align: left;\n",
       "  }\n",
       "</style><div class='table-result-container'><table class='table-result'><thead style='background-color: white'><tr><th>title</th><th>upper(title)</th><th>initcap(title)</th><th>lower(genres)</th></tr></thead><tbody><tr><td>Army of the Dead</td><td>ARMY OF THE DEAD</td><td>Army Of The Dead</td><td>action,crime,horror</td></tr><tr><td>The Woman in the Window</td><td>THE WOMAN IN THE WINDOW</td><td>The Woman In The Window</td><td>crime,drama,mystery</td></tr><tr><td>The Mitchells vs the Machines</td><td>THE MITCHELLS VS THE MACHINES</td><td>The Mitchells Vs The Machines</td><td>adventure,animation,comedy</td></tr><tr><td>Blue Miracle</td><td>BLUE MIRACLE</td><td>Blue Miracle</td><td>adventure,biography,drama</td></tr><tr><td>Things Heard & Seen</td><td>THINGS HEARD & SEEN</td><td>Things Heard & Seen</td><td>drama,horror,mystery</td></tr><tr><td>Stowaway</td><td>STOWAWAY</td><td>Stowaway</td><td>drama,sci-fi,thriller</td></tr><tr><td>Don't Look Up</td><td>DON'T LOOK UP</td><td>Don't Look Up</td><td>comedy</td></tr><tr><td>I Am All Girls</td><td>I AM ALL GIRLS</td><td>I Am All Girls</td><td>crime,drama,mystery</td></tr><tr><td>Hotel Transylvania: Transformania</td><td>HOTEL TRANSYLVANIA: TRANSFORMANIA</td><td>Hotel Transylvania: Transformania</td><td>adventure,animation,comedy</td></tr><tr><td>The Dig</td><td>THE DIG</td><td>The Dig</td><td>biography,drama,history</td></tr><tr><td>Thunder Force</td><td>THUNDER FORCE</td><td>Thunder Force</td><td>action,adventure,comedy</td></tr><tr><td>The Ice Road</td><td>THE ICE ROAD</td><td>The Ice Road</td><td>thriller</td></tr><tr><td>Gunpowder Milkshake</td><td>GUNPOWDER MILKSHAKE</td><td>Gunpowder Milkshake</td><td>action,adventure,thriller</td></tr><tr><td>Fear Street</td><td>FEAR STREET</td><td>Fear Street</td><td>horror,mystery</td></tr><tr><td>The Nailbomber</td><td>THE NAILBOMBER</td><td>The Nailbomber</td><td>crime,documentary,history</td></tr><tr><td>Awake</td><td>AWAKE</td><td>Awake</td><td>action,adventure,drama</td></tr><tr><td>Moxie</td><td>MOXIE</td><td>Moxie</td><td>comedy,drama,music</td></tr><tr><td>Yes Day</td><td>YES DAY</td><td>Yes Day</td><td>comedy,family</td></tr><tr><td>America: The Motion Picture</td><td>AMERICA: THE MOTION PICTURE</td><td>America: The Motion Picture</td><td>action,adventure,animation</td></tr><tr><td>Outside the Wire</td><td>OUTSIDE THE WIRE</td><td>Outside The Wire</td><td>action,adventure,fantasy</td></tr><tr><td>Red Notice</td><td>RED NOTICE</td><td>Red Notice</td><td>action,comedy,crime</td></tr><tr><td>Bad Trip</td><td>BAD TRIP</td><td>Bad Trip</td><td>comedy</td></tr><tr><td>Malcolm & Marie</td><td>MALCOLM & MARIE</td><td>Malcolm & Marie</td><td>drama,romance</td></tr><tr><td>Finding 'Ohana</td><td>FINDING 'OHANA</td><td>Finding 'ohana</td><td>action,adventure,comedy</td></tr><tr><td>Fatherhood</td><td>FATHERHOOD</td><td>Fatherhood</td><td>comedy,drama</td></tr><tr><td>Deadly Illusions</td><td>DEADLY ILLUSIONS</td><td>Deadly Illusions</td><td>drama,thriller</td></tr><tr><td>Sing 2</td><td>SING 2</td><td>Sing 2</td><td>adventure,animation,comedy</td></tr><tr><td>A Week Away</td><td>A WEEK AWAY</td><td>A Week Away</td><td>drama,family,musical</td></tr><tr><td>Blonde</td><td>BLONDE</td><td>Blonde</td><td>biography,drama,romance</td></tr><tr><td>He's All That</td><td>HE'S ALL THAT</td><td>He's All That</td><td>comedy,romance</td></tr><tr><td>Seaspiracy</td><td>SEASPIRACY</td><td>Seaspiracy</td><td>adventure,documentary</td></tr><tr><td>Army of Thieves</td><td>ARMY OF THIEVES</td><td>Army Of Thieves</td><td>action,crime,horror</td></tr><tr><td>Wish Dragon</td><td>WISH DRAGON</td><td>Wish Dragon</td><td>adventure,animation,comedy</td></tr><tr><td>To All the Boys: Always and Forever</td><td>TO ALL THE BOYS: ALWAYS AND FOREVER</td><td>To All The Boys: Always And Forever</td><td>comedy,drama,romance</td></tr><tr><td>Good on Paper</td><td>GOOD ON PAPER</td><td>Good On Paper</td><td>comedy,romance</td></tr><tr><td>Escape From Spiderhead</td><td>ESCAPE FROM SPIDERHEAD</td><td>Escape From Spiderhead</td><td>action,mystery,sci-fi</td></tr><tr><td>The Last Letter from Your Lover</td><td>THE LAST LETTER FROM YOUR LOVER</td><td>The Last Letter From Your Lover</td><td>drama,romance</td></tr><tr><td>The Kissing Booth 3</td><td>THE KISSING BOOTH 3</td><td>The Kissing Booth 3</td><td>comedy,romance</td></tr><tr><td>Sweet Girl</td><td>SWEET GIRL</td><td>Sweet Girl</td><td>action,drama,thriller</td></tr><tr><td>Matilda</td><td>MATILDA</td><td>Matilda</td><td>comedy,drama,family</td></tr><tr><td>Breaking Boundaries: The Science of Our Planet</td><td>BREAKING BOUNDARIES: THE SCIENCE OF OUR PLANET</td><td>Breaking Boundaries: The Science Of Our Planet</td><td>documentary</td></tr><tr><td>tick, tick...Boom!</td><td>TICK, TICK...BOOM!</td><td>Tick, Tick...boom!</td><td>biography,drama,musical</td></tr><tr><td>Secret Magic Control Agency</td><td>SECRET MAGIC CONTROL AGENCY</td><td>Secret Magic Control Agency</td><td>adventure,animation,comedy</td></tr><tr><td>Vivo</td><td>VIVO</td><td>Vivo</td><td>adventure,animation,comedy</td></tr><tr><td>The Guilty</td><td>THE GUILTY</td><td>The Guilty</td><td>crime,drama,thriller</td></tr><tr><td>The Power of the Dog</td><td>THE POWER OF THE DOG</td><td>The Power Of The Dog</td><td>drama</td></tr><tr><td>Skater Girl</td><td>SKATER GIRL</td><td>Skater Girl</td><td>drama,family,sport</td></tr><tr><td>Trippin' with the Kandasamys</td><td>TRIPPIN' WITH THE KANDASAMYS</td><td>Trippin' With The Kandasamys</td><td>comedy,romance</td></tr><tr><td>Trollhunters: Rise of the Titans</td><td>TROLLHUNTERS: RISE OF THE TITANS</td><td>Trollhunters: Rise Of The Titans</td><td>action,adventure,animation</td></tr><tr><td>Fear Street 2</td><td>FEAR STREET 2</td><td>Fear Street 2</td><td>horror,mystery</td></tr><tr><td>Kate</td><td>KATE</td><td>Kate</td><td>action,adventure,crime</td></tr><tr><td>The Loud House</td><td>THE LOUD HOUSE</td><td>The Loud House</td><td>action,adventure,animation</td></tr><tr><td>Operation Varsity Blues: The College Admissions Scandal</td><td>OPERATION VARSITY BLUES: THE COLLEGE ADMISSIONS SCANDAL</td><td>Operation Varsity Blues: The College Admissions Scandal</td><td>crime,documentary,drama</td></tr><tr><td>Hating Peter Tatchell</td><td>HATING PETER TATCHELL</td><td>Hating Peter Tatchell</td><td>documentary</td></tr><tr><td>Fear Street 3</td><td>FEAR STREET 3</td><td>Fear Street 3</td><td>horror,mystery</td></tr><tr><td>The Harder They Fall</td><td>THE HARDER THEY FALL</td><td>The Harder They Fall</td><td>drama,western</td></tr><tr><td>Passing</td><td>PASSING</td><td>Passing</td><td>drama</td></tr><tr><td>Munich</td><td>MUNICH</td><td>Munich</td><td>biography,drama,history</td></tr><tr><td>A Boy Called Christmas</td><td>A BOY CALLED CHRISTMAS</td><td>A Boy Called Christmas</td><td>adventure,drama,family</td></tr><tr><td>A Jazzman's Blues</td><td>A JAZZMAN'S BLUES</td><td>A Jazzman's Blues</td><td>drama</td></tr><tr><td>Untitled Sandra Bullock/Nora Fingscheidt Project</td><td>UNTITLED SANDRA BULLOCK/NORA FINGSCHEIDT PROJECT</td><td>Untitled Sandra Bullock/nora Fingscheidt Project</td><td>drama</td></tr><tr><td>Night Teeth</td><td>NIGHT TEETH</td><td>Night Teeth</td><td>thriller</td></tr><tr><td>In Our Mothers' Gardens</td><td>IN OUR MOTHERS' GARDENS</td><td>In Our Mothers' Gardens</td><td>documentary</td></tr><tr><td>The Witcher: Nightmare of the Wolf</td><td>THE WITCHER: NIGHTMARE OF THE WOLF</td><td>The Witcher: Nightmare Of The Wolf</td><td>action,adventure,animation</td></tr><tr><td>Back to the Outback</td><td>BACK TO THE OUTBACK</td><td>Back To The Outback</td><td>adventure,animation,comedy</td></tr><tr><td>There's Someone Inside Your House</td><td>THERE'S SOMEONE INSIDE YOUR HOUSE</td><td>There's Someone Inside Your House</td><td>horror,thriller</td></tr><tr><td>Biggie: I Got a Story to Tell</td><td>BIGGIE: I GOT A STORY TO TELL</td><td>Biggie: I Got A Story To Tell</td><td>biography,documentary,music</td></tr><tr><td>Metal Lords</td><td>METAL LORDS</td><td>Metal Lords</td><td>drama,music</td></tr><tr><td>Pelé</td><td>PELÉ</td><td>Pelé</td><td>biography,documentary,sport</td></tr><tr><td>The Minimalists: Less Is Now</td><td>THE MINIMALISTS: LESS IS NOW</td><td>The Minimalists: Less Is Now</td><td>documentary</td></tr><tr><td>Beauty</td><td>BEAUTY</td><td>Beauty</td><td>drama,romance</td></tr><tr><td>The Princess Switch 3</td><td>THE PRINCESS SWITCH 3</td><td>The Princess Switch 3</td><td>comedy,drama,family</td></tr><tr><td>Love Hard</td><td>LOVE HARD</td><td>Love Hard</td><td>comedy,romance</td></tr><tr><td>Strip Down, Rise Up</td><td>STRIP DOWN, RISE UP</td><td>Strip Down, Rise Up</td><td>documentary</td></tr><tr><td>Rise of the Teenage Mutant Ninja Turtles</td><td>RISE OF THE TEENAGE MUTANT NINJA TURTLES</td><td>Rise Of The Teenage Mutant Ninja Turtles</td><td>action,adventure,animation</td></tr><tr><td>Nightbooks</td><td>NIGHTBOOKS</td><td>Nightbooks</td><td>family,fantasy,horror</td></tr><tr><td>Crack: Cocaine, Corruption & Conspiracy</td><td>CRACK: COCAINE, CORRUPTION & CONSPIRACY</td><td>Crack: Cocaine, Corruption & Conspiracy</td><td>crime,documentary,history</td></tr><tr><td>Against the Ice</td><td>AGAINST THE ICE</td><td>Against The Ice</td><td>adventure,drama,history</td></tr><tr><td>Resort to Love</td><td>RESORT TO LOVE</td><td>Resort To Love</td><td>comedy,romance</td></tr><tr><td>A Castle for Christmas</td><td>A CASTLE FOR CHRISTMAS</td><td>A Castle For Christmas</td><td>adventure,comedy,family</td></tr><tr><td>Pray Away</td><td>PRAY AWAY</td><td>Pray Away</td><td>documentary</td></tr><tr><td>Single All the Way</td><td>SINGLE ALL THE WAY</td><td>Single All The Way</td><td>comedy,drama,romance</td></tr><tr><td>Sisters on Track</td><td>SISTERS ON TRACK</td><td>Sisters On Track</td><td>documentary,sport</td></tr><tr><td>Intrusion</td><td>INTRUSION</td><td>Intrusion</td><td>thriller</td></tr><tr><td>Accomplice</td><td>ACCOMPLICE</td><td>Accomplice</td><td>documentary</td></tr><tr><td>Hypnotic</td><td>HYPNOTIC</td><td>Hypnotic</td><td>horror,thriller</td></tr><tr><td>Diana</td><td>DIANA</td><td>Diana</td><td>biography,drama,musical</td></tr><tr><td>Headspace: Unwind Your Mind</td><td>HEADSPACE: UNWIND YOUR MIND</td><td>Headspace: Unwind Your Mind</td><td>animation,documentary</td></tr><tr><td>Bob Ross: Happy Accidents, Betrayal & Greed</td><td>BOB ROSS: HAPPY ACCIDENTS, BETRAYAL & GREED</td><td>Bob Ross: Happy Accidents, Betrayal & Greed</td><td>documentary</td></tr><tr><td>Kane Chonicles</td><td>KANE CHONICLES</td><td>Kane Chonicles</td><td>adventure</td></tr><tr><td>Untitled Netflix Family Comedy 2021</td><td>UNTITLED NETFLIX FAMILY COMEDY 2021</td><td>Untitled Netflix Family Comedy 2021</td><td>comedy</td></tr><tr><td>Untitled Boeing 737 Max/Rory Kennedy Project</td><td>UNTITLED BOEING 737 MAX/RORY KENNEDY PROJECT</td><td>Untitled Boeing 737 Max/rory Kennedy Project</td><td>documentary</td></tr><tr><td>Happiness Ever After</td><td>HAPPINESS EVER AFTER</td><td>Happiness Ever After</td><td>drama,romance</td></tr><tr><td>Love and Monsters</td><td>LOVE AND MONSTERS</td><td>Love And Monsters</td><td>action,adventure,comedy</td></tr><tr><td>I Care a Lot</td><td>I CARE A LOT</td><td>I Care A Lot</td><td>comedy,crime,thriller</td></tr><tr><td>Eurovision Song Contest: The Story of Fire Saga</td><td>EUROVISION SONG CONTEST: THE STORY OF FIRE SAGA</td><td>Eurovision Song Contest: The Story Of Fire Saga</td><td>comedy,music</td></tr><tr><td>The Devil All the Time</td><td>THE DEVIL ALL THE TIME</td><td>The Devil All The Time</td><td>crime,drama,thriller</td></tr><tr><td>Honest Thief</td><td>HONEST THIEF</td><td>Honest Thief</td><td>action,crime,drama</td></tr><tr><td>Run</td><td>RUN</td><td>Run</td><td>mystery,thriller</td></tr><tr><td>News of the World</td><td>NEWS OF THE WORLD</td><td>News Of The World</td><td>action,adventure,drama</td></tr><tr><td>Enola Holmes</td><td>ENOLA HOLMES</td><td>Enola Holmes</td><td>action,adventure,crime</td></tr><tr><td>The Trial of the Chicago 7</td><td>THE TRIAL OF THE CHICAGO 7</td><td>The Trial Of The Chicago 7</td><td>drama,history,thriller</td></tr><tr><td>The Water Man</td><td>THE WATER MAN</td><td>The Water Man</td><td>adventure,drama,family</td></tr><tr><td>Breach</td><td>BREACH</td><td>Breach</td><td>action,sci-fi</td></tr><tr><td>The Old Guard</td><td>THE OLD GUARD</td><td>The Old Guard</td><td>action,adventure,fantasy</td></tr><tr><td>Extraction</td><td>EXTRACTION</td><td>Extraction</td><td>action,thriller</td></tr><tr><td>Spenser Confidential</td><td>SPENSER CONFIDENTIAL</td><td>Spenser Confidential</td><td>action,comedy,crime</td></tr><tr><td>Mank</td><td>MANK</td><td>Mank</td><td>biography,comedy,drama</td></tr><tr><td>Hillbilly Elegy</td><td>HILLBILLY ELEGY</td><td>Hillbilly Elegy</td><td>drama</td></tr><tr><td>Rebecca</td><td>REBECCA</td><td>Rebecca</td><td>drama,mystery,romance</td></tr><tr><td>I'm Thinking of Ending Things</td><td>I'M THINKING OF ENDING THINGS</td><td>I'm Thinking Of Ending Things</td><td>drama,thriller</td></tr><tr><td>Pieces of a Woman</td><td>PIECES OF A WOMAN</td><td>Pieces Of A Woman</td><td>drama</td></tr><tr><td>My Octopus Teacher</td><td>MY OCTOPUS TEACHER</td><td>My Octopus Teacher</td><td>documentary</td></tr><tr><td>Fantasy Island</td><td>FANTASY ISLAND</td><td>Fantasy Island</td><td>action,adventure,fantasy</td></tr><tr><td>The Wrong Missy</td><td>THE WRONG MISSY</td><td>The Wrong Missy</td><td>comedy,romance</td></tr><tr><td>The Midnight Sky</td><td>THE MIDNIGHT SKY</td><td>The Midnight Sky</td><td>drama,fantasy,sci-fi</td></tr><tr><td>We Can Be Heroes</td><td>WE CAN BE HEROES</td><td>We Can Be Heroes</td><td>action,comedy,drama</td></tr><tr><td>Project Power</td><td>PROJECT POWER</td><td>Project Power</td><td>action,crime,sci-fi</td></tr><tr><td>The Babysitter: Killer Queen</td><td>THE BABYSITTER: KILLER QUEEN</td><td>The Babysitter: Killer Queen</td><td>comedy,horror</td></tr><tr><td>His House</td><td>HIS HOUSE</td><td>His House</td><td>drama,horror,thriller</td></tr><tr><td>Ma Rainey's Black Bottom</td><td>MA RAINEY'S BLACK BOTTOM</td><td>Ma Rainey's Black Bottom</td><td>drama,music</td></tr><tr><td>Hubie Halloween</td><td>HUBIE HALLOWEEN</td><td>Hubie Halloween</td><td>comedy,mystery</td></tr><tr><td>Concrete Cowboy</td><td>CONCRETE COWBOY</td><td>Concrete Cowboy</td><td>drama</td></tr><tr><td>All the Bright Places</td><td>ALL THE BRIGHT PLACES</td><td>All The Bright Places</td><td>drama,romance</td></tr><tr><td>Holidate</td><td>HOLIDATE</td><td>Holidate</td><td>comedy,romance</td></tr><tr><td>2067</td><td>2067</td><td>2067</td><td>sci-fi</td></tr><tr><td>Force of Nature</td><td>FORCE OF NATURE</td><td>Force Of Nature</td><td>action,crime,drama</td></tr><tr><td>Da 5 Bloods</td><td>DA 5 BLOODS</td><td>Da 5 Bloods</td><td>adventure,drama,war</td></tr><tr><td>The SpongeBob Movie: Sponge on the Run</td><td>THE SPONGEBOB MOVIE: SPONGE ON THE RUN</td><td>The Spongebob Movie: Sponge On The Run</td><td>adventure,animation,comedy</td></tr><tr><td>Jungle Beat: The Movie</td><td>JUNGLE BEAT: THE MOVIE</td><td>Jungle Beat: The Movie</td><td>adventure,animation,comedy</td></tr><tr><td>Penguin Bloom</td><td>PENGUIN BLOOM</td><td>Penguin Bloom</td><td>drama</td></tr><tr><td>Over the Moon</td><td>OVER THE MOON</td><td>Over The Moon</td><td>adventure,animation,comedy</td></tr><tr><td>Love Wedding Repeat</td><td>LOVE WEDDING REPEAT</td><td>Love Wedding Repeat</td><td>comedy,romance</td></tr><tr><td>The Prom</td><td>THE PROM</td><td>The Prom</td><td>comedy,drama,musical</td></tr><tr><td>The Kissing Booth 2</td><td>THE KISSING BOOTH 2</td><td>The Kissing Booth 2</td><td>comedy,romance</td></tr><tr><td>Lost Girls</td><td>LOST GIRLS</td><td>Lost Girls</td><td>drama,mystery,thriller</td></tr><tr><td>The Stand In</td><td>THE STAND IN</td><td>The Stand In</td><td>comedy,drama</td></tr><tr><td>The Last Thing He Wanted</td><td>THE LAST THING HE WANTED</td><td>The Last Thing He Wanted</td><td>crime,drama,thriller</td></tr><tr><td>The Social Dilemma</td><td>THE SOCIAL DILEMMA</td><td>The Social Dilemma</td><td>documentary,drama</td></tr><tr><td>Horse Girl</td><td>HORSE GIRL</td><td>Horse Girl</td><td>drama,mystery,thriller</td></tr><tr><td>The Sleepover</td><td>THE SLEEPOVER</td><td>The Sleepover</td><td>action,adventure,comedy</td></tr><tr><td>The Boys in the Band</td><td>THE BOYS IN THE BAND</td><td>The Boys In The Band</td><td>drama</td></tr><tr><td>The Last Days of American Crime</td><td>THE LAST DAYS OF AMERICAN CRIME</td><td>The Last Days Of American Crime</td><td>action,crime,drama</td></tr><tr><td>Love, Guaranteed</td><td>LOVE, GUARANTEED</td><td>Love, Guaranteed</td><td>comedy,romance</td></tr><tr><td>The Willoughbys</td><td>THE WILLOUGHBYS</td><td>The Willoughbys</td><td>adventure,animation,comedy</td></tr><tr><td>Feel the Beat</td><td>FEEL THE BEAT</td><td>Feel The Beat</td><td>comedy,drama,family</td></tr><tr><td>American Murder: The Family Next Door</td><td>AMERICAN MURDER: THE FAMILY NEXT DOOR</td><td>American Murder: The Family Next Door</td><td>crime,documentary</td></tr><tr><td>Work It</td><td>WORK IT</td><td>Work It</td><td>comedy,music</td></tr><tr><td>The Lovebirds</td><td>THE LOVEBIRDS</td><td>The Lovebirds</td><td>action,comedy,crime</td></tr><tr><td>Sightless</td><td>SIGHTLESS</td><td>Sightless</td><td>drama,thriller</td></tr><tr><td>Dangerous Lies</td><td>DANGEROUS LIES</td><td>Dangerous Lies</td><td>drama,mystery,thriller</td></tr><tr><td>The F**k-It List</td><td>THE F**K-IT LIST</td><td>The F**k-it List</td><td>comedy</td></tr><tr><td>A Fall from Grace</td><td>A FALL FROM GRACE</td><td>A Fall From Grace</td><td>drama,fantasy,thriller</td></tr><tr><td>Vampires vs. the Bronx</td><td>VAMPIRES VS. THE BRONX</td><td>Vampires Vs. The Bronx</td><td>comedy,horror</td></tr><tr><td>Think Like a Dog</td><td>THINK LIKE A DOG</td><td>Think Like A Dog</td><td>comedy,drama,family</td></tr><tr><td>To All the Boys: P.S. I Still Love You</td><td>TO ALL THE BOYS: P.S. I STILL LOVE YOU</td><td>To All The Boys: P.s. I Still Love You</td><td>comedy,drama,romance</td></tr><tr><td>Desperados</td><td>DESPERADOS</td><td>Desperados</td><td>comedy,romance</td></tr><tr><td>A Babysitter's Guide to Monster Hunting</td><td>A BABYSITTER'S GUIDE TO MONSTER HUNTING</td><td>A Babysitter's Guide To Monster Hunting</td><td>comedy,family,fantasy</td></tr><tr><td>Sergio</td><td>SERGIO</td><td>Sergio</td><td>biography,drama,history</td></tr><tr><td>Roped</td><td>ROPED</td><td>Roped</td><td>drama,romance</td></tr><tr><td>David Attenborough: A Life on Our Planet</td><td>DAVID ATTENBOROUGH: A LIFE ON OUR PLANET</td><td>David Attenborough: A Life On Our Planet</td><td>biography,documentary</td></tr><tr><td>The Debt Collector 2</td><td>THE DEBT COLLECTOR 2</td><td>The Debt Collector 2</td><td>action,comedy</td></tr><tr><td>A California Christmas</td><td>A CALIFORNIA CHRISTMAS</td><td>A California Christmas</td><td>comedy,drama,romance</td></tr><tr><td>All Together Now</td><td>ALL TOGETHER NOW</td><td>All Together Now</td><td>drama</td></tr><tr><td>The Christmas Chronicles: Part Two</td><td>THE CHRISTMAS CHRONICLES: PART TWO</td><td>The Christmas Chronicles: Part Two</td><td>adventure,comedy,family</td></tr><tr><td>The Princess Switch: Switched Again</td><td>THE PRINCESS SWITCH: SWITCHED AGAIN</td><td>The Princess Switch: Switched Again</td><td>comedy,drama,family</td></tr><tr><td>Crip Camp</td><td>CRIP CAMP</td><td>Crip Camp</td><td>documentary</td></tr><tr><td>Lady Driver</td><td>LADY DRIVER</td><td>Lady Driver</td><td>sport</td></tr><tr><td>Coffee & Kareem</td><td>COFFEE & KAREEM</td><td>Coffee & Kareem</td><td>action,comedy,crime</td></tr><tr><td>Fatal Affair</td><td>FATAL AFFAIR</td><td>Fatal Affair</td><td>thriller</td></tr><tr><td>Wheels of Fortune</td><td>WHEELS OF FORTUNE</td><td>Wheels Of Fortune</td><td>comedy</td></tr><tr><td>Kiss the Ground</td><td>KISS THE GROUND</td><td>Kiss The Ground</td><td>documentary</td></tr><tr><td>The Forty-Year-Old Version</td><td>THE FORTY-YEAR-OLD VERSION</td><td>The Forty-year-old Version</td><td>comedy,drama</td></tr><tr><td>The Main Event</td><td>THE MAIN EVENT</td><td>The Main Event</td><td>action,comedy,family</td></tr><tr><td>Made You Look: A True Story About Fake Art</td><td>MADE YOU LOOK: A TRUE STORY ABOUT FAKE ART</td><td>Made You Look: A True Story About Fake Art</td><td>crime,documentary</td></tr><tr><td>The Fisherman's Diary</td><td>THE FISHERMAN'S DIARY</td><td>The Fisherman's Diary</td><td>drama</td></tr><tr><td>Serious Men</td><td>SERIOUS MEN</td><td>Serious Men</td><td>comedy,drama</td></tr><tr><td>Uncorked</td><td>UNCORKED</td><td>Uncorked</td><td>drama</td></tr><tr><td>Midnight at the Magnolia</td><td>MIDNIGHT AT THE MAGNOLIA</td><td>Midnight At The Magnolia</td><td>comedy,romance</td></tr><tr><td>All Day and a Night</td><td>ALL DAY AND A NIGHT</td><td>All Day And A Night</td><td>drama</td></tr><tr><td>Operation Christmas Drop</td><td>OPERATION CHRISTMAS DROP</td><td>Operation Christmas Drop</td><td>comedy,family,romance</td></tr><tr><td>Jingle Jangle: A Christmas Journey</td><td>JINGLE JANGLE: A CHRISTMAS JOURNEY</td><td>Jingle Jangle: A Christmas Journey</td><td>family,fantasy,musical</td></tr><tr><td>Bruised</td><td>BRUISED</td><td>Bruised</td><td>drama,sport</td></tr><tr><td>What Is Life Worth</td><td>WHAT IS LIFE WORTH</td><td>What Is Life Worth</td><td>biography,drama,history</td></tr><tr><td>Have a Good Trip: Adventures in Psychedelics</td><td>HAVE A GOOD TRIP: ADVENTURES IN PSYCHEDELICS</td><td>Have A Good Trip: Adventures In Psychedelics</td><td>comedy,documentary</td></tr><tr><td>I Am Vengeance: Retaliation</td><td>I AM VENGEANCE: RETALIATION</td><td>I Am Vengeance: Retaliation</td><td>action</td></tr><tr><td>Miss Americana</td><td>MISS AMERICANA</td><td>Miss Americana</td><td>biography,documentary,music</td></tr><tr><td>Dick Johnson Is Dead</td><td>DICK JOHNSON IS DEAD</td><td>Dick Johnson Is Dead</td><td>documentary,drama</td></tr><tr><td>You Are My Home</td><td>YOU ARE MY HOME</td><td>You Are My Home</td><td>animation,family,fantasy</td></tr><tr><td>Tigertail</td><td>TIGERTAIL</td><td>Tigertail</td><td>drama</td></tr><tr><td>Go!</td><td>GO!</td><td>Go!</td><td>family,sport</td></tr><tr><td>Athlete A</td><td>ATHLETE A</td><td>Athlete A</td><td>crime,documentary,sport</td></tr><tr><td>Secrets of the Saqqara Tomb</td><td>SECRETS OF THE SAQQARA TOMB</td><td>Secrets Of The Saqqara Tomb</td><td>documentary,history</td></tr><tr><td>Ricos de Amor</td><td>RICOS DE AMOR</td><td>Ricos De Amor</td><td>comedy,romance</td></tr><tr><td>A Secret Love</td><td>A SECRET LOVE</td><td>A Secret Love</td><td>documentary,drama</td></tr><tr><td>Ariana Grande: Excuse Me, I Love You</td><td>ARIANA GRANDE: EXCUSE ME, I LOVE YOU</td><td>Ariana Grande: Excuse Me, I Love You</td><td>documentary,music</td></tr><tr><td>Malibu Rescue: The Next Wave</td><td>MALIBU RESCUE: THE NEXT WAVE</td><td>Malibu Rescue: The Next Wave</td><td>action,comedy,family</td></tr><tr><td>Namaste Wahala</td><td>NAMASTE WAHALA</td><td>Namaste Wahala</td><td>drama,romance</td></tr><tr><td>Citation</td><td>CITATION</td><td>Citation</td><td>drama,thriller</td></tr><tr><td>Farewell Amor</td><td>FAREWELL AMOR</td><td>Farewell Amor</td><td>drama,music,romance</td></tr><tr><td>Funny Boy</td><td>FUNNY BOY</td><td>Funny Boy</td><td>drama</td></tr><tr><td>A New York Christmas Wedding</td><td>A NEW YORK CHRISTMAS WEDDING</td><td>A New York Christmas Wedding</td><td>drama,romance</td></tr><tr><td>Christmas on the Square</td><td>CHRISTMAS ON THE SQUARE</td><td>Christmas On The Square</td><td>comedy,family,musical</td></tr><tr><td>Seriously Single</td><td>SERIOUSLY SINGLE</td><td>Seriously Single</td><td>comedy,romance</td></tr><tr><td>Rising Phoenix</td><td>RISING PHOENIX</td><td>Rising Phoenix</td><td>documentary,sport</td></tr><tr><td>Riding Faith</td><td>RIDING FAITH</td><td>Riding Faith</td><td>family</td></tr><tr><td>Murder to Mercy: The Cyntoia Brown Story</td><td>MURDER TO MERCY: THE CYNTOIA BROWN STORY</td><td>Murder To Mercy: The Cyntoia Brown Story</td><td>documentary</td></tr><tr><td>Becoming</td><td>BECOMING</td><td>Becoming</td><td>documentary</td></tr><tr><td>Not a Game</td><td>NOT A GAME</td><td>Not A Game</td><td>documentary</td></tr><tr><td>Barbie Princess Adventure</td><td>BARBIE PRINCESS ADVENTURE</td><td>Barbie Princess Adventure</td><td>animation,musical</td></tr><tr><td>Angela's Christmas Wish</td><td>ANGELA'S CHRISTMAS WISH</td><td>Angela's Christmas Wish</td><td>adventure,animation,family</td></tr><tr><td>Father Soldier Son</td><td>FATHER SOLDIER SON</td><td>Father Soldier Son</td><td>documentary,war</td></tr><tr><td>Uppity: The Willy T. Ribbs Story</td><td>UPPITY: THE WILLY T. RIBBS STORY</td><td>Uppity: The Willy T. Ribbs Story</td><td>documentary</td></tr><tr><td>Maska</td><td>MASKA</td><td>Maska</td><td>comedy,drama,romance</td></tr><tr><td>Octonauts & the Great Barrier Reef</td><td>OCTONAUTS & THE GREAT BARRIER REEF</td><td>Octonauts & The Great Barrier Reef</td><td>action,adventure,animation</td></tr><tr><td>Shawn Mendes: In Wonder</td><td>SHAWN MENDES: IN WONDER</td><td>Shawn Mendes: In Wonder</td><td>documentary,music</td></tr><tr><td>LA Originals</td><td>LA ORIGINALS</td><td>La Originals</td><td>documentary</td></tr><tr><td>Mucho Mucho Amor: The Legend of Walter Mercado</td><td>MUCHO MUCHO AMOR: THE LEGEND OF WALTER MERCADO</td><td>Mucho Mucho Amor: The Legend Of Walter Mercado</td><td>documentary</td></tr><tr><td>Octonauts and the Caves of Sac Actun</td><td>OCTONAUTS AND THE CAVES OF SAC ACTUN</td><td>Octonauts And The Caves Of Sac Actun</td><td>adventure,animation,comedy</td></tr><tr><td>The Larva Island Movie</td><td>THE LARVA ISLAND MOVIE</td><td>The Larva Island Movie</td><td>adventure,animation,comedy</td></tr><tr><td>André & His Olive Tree</td><td>ANDRÉ & HIS OLIVE TREE</td><td>André & His Olive Tree</td><td>documentary</td></tr><tr><td>Dance Dreams: Hot Chocolate Nutcracker</td><td>DANCE DREAMS: HOT CHOCOLATE NUTCRACKER</td><td>Dance Dreams: Hot Chocolate Nutcracker</td><td>documentary,family</td></tr><tr><td>#cats_the_mewvie</td><td>#CATS_THE_MEWVIE</td><td>#cats_the_mewvie</td><td>documentary</td></tr><tr><td>Giving Voice</td><td>GIVING VOICE</td><td>Giving Voice</td><td>documentary</td></tr><tr><td>The App That Stole Christmas</td><td>THE APP THAT STOLE CHRISTMAS</td><td>The App That Stole Christmas</td><td>comedy</td></tr><tr><td>Shawn Mendes: Live in Concert</td><td>SHAWN MENDES: LIVE IN CONCERT</td><td>Shawn Mendes: Live In Concert</td><td>music</td></tr><tr><td>Thomas & Friends: Marvelous Machinery</td><td>THOMAS & FRIENDS: MARVELOUS MACHINERY</td><td>Thomas & Friends: Marvelous Machinery</td><td>action,adventure,animation</td></tr><tr><td>The Magic School Bus Rides Again: Kids in Space</td><td>THE MAGIC SCHOOL BUS RIDES AGAIN: KIDS IN SPACE</td><td>The Magic School Bus Rides Again: Kids In Space</td><td>adventure,animation,comedy</td></tr><tr><td>Night on Earth: Shot in the Dark</td><td>NIGHT ON EARTH: SHOT IN THE DARK</td><td>Night On Earth: Shot In The Dark</td><td>documentary</td></tr><tr><td>United Nation Three Decades of Drum & Bass</td><td>UNITED NATION THREE DECADES OF DRUM & BASS</td><td>United Nation Three Decades Of Drum & Bass</td><td>documentary</td></tr><tr><td>Light in the Dark</td><td>LIGHT IN THE DARK</td><td>Light In The Dark</td><td>thriller</td></tr><tr><td>Pemburu di Manchester Biru</td><td>PEMBURU DI MANCHESTER BIRU</td><td>Pemburu Di Manchester Biru</td><td>biography,drama</td></tr><tr><td>Bigflo & Oli: Hip Hop Frenzy</td><td>BIGFLO & OLI: HIP HOP FRENZY</td><td>Bigflo & Oli: Hip Hop Frenzy</td><td>documentary,music</td></tr><tr><td>Horrid Henry's Gross Day Out</td><td>HORRID HENRY'S GROSS DAY OUT</td><td>Horrid Henry's Gross Day Out</td><td>action,adventure,animation</td></tr><tr><td>Last days on Earth</td><td>LAST DAYS ON EARTH</td><td>Last Days On Earth</td><td>documentary</td></tr></tbody></table></div>"
      ]
     },
     "metadata": {
      "application/vnd.databricks.v1+output": {
       "addedWidgets": {},
       "aggData": [],
       "aggError": "",
       "aggOverflow": false,
       "aggSchema": [],
       "aggSeriesLimitReached": false,
       "aggType": "",
       "arguments": {},
       "columnCustomDisplayInfos": {},
       "data": [
        [
         "Army of the Dead",
         "ARMY OF THE DEAD",
         "Army Of The Dead",
         "action,crime,horror"
        ],
        [
         "The Woman in the Window",
         "THE WOMAN IN THE WINDOW",
         "The Woman In The Window",
         "crime,drama,mystery"
        ],
        [
         "The Mitchells vs the Machines",
         "THE MITCHELLS VS THE MACHINES",
         "The Mitchells Vs The Machines",
         "adventure,animation,comedy"
        ],
        [
         "Blue Miracle",
         "BLUE MIRACLE",
         "Blue Miracle",
         "adventure,biography,drama"
        ],
        [
         "Things Heard & Seen",
         "THINGS HEARD & SEEN",
         "Things Heard & Seen",
         "drama,horror,mystery"
        ],
        [
         "Stowaway",
         "STOWAWAY",
         "Stowaway",
         "drama,sci-fi,thriller"
        ],
        [
         "Don't Look Up",
         "DON'T LOOK UP",
         "Don't Look Up",
         "comedy"
        ],
        [
         "I Am All Girls",
         "I AM ALL GIRLS",
         "I Am All Girls",
         "crime,drama,mystery"
        ],
        [
         "Hotel Transylvania: Transformania",
         "HOTEL TRANSYLVANIA: TRANSFORMANIA",
         "Hotel Transylvania: Transformania",
         "adventure,animation,comedy"
        ],
        [
         "The Dig",
         "THE DIG",
         "The Dig",
         "biography,drama,history"
        ],
        [
         "Thunder Force",
         "THUNDER FORCE",
         "Thunder Force",
         "action,adventure,comedy"
        ],
        [
         "The Ice Road",
         "THE ICE ROAD",
         "The Ice Road",
         "thriller"
        ],
        [
         "Gunpowder Milkshake",
         "GUNPOWDER MILKSHAKE",
         "Gunpowder Milkshake",
         "action,adventure,thriller"
        ],
        [
         "Fear Street",
         "FEAR STREET",
         "Fear Street",
         "horror,mystery"
        ],
        [
         "The Nailbomber",
         "THE NAILBOMBER",
         "The Nailbomber",
         "crime,documentary,history"
        ],
        [
         "Awake",
         "AWAKE",
         "Awake",
         "action,adventure,drama"
        ],
        [
         "Moxie",
         "MOXIE",
         "Moxie",
         "comedy,drama,music"
        ],
        [
         "Yes Day",
         "YES DAY",
         "Yes Day",
         "comedy,family"
        ],
        [
         "America: The Motion Picture",
         "AMERICA: THE MOTION PICTURE",
         "America: The Motion Picture",
         "action,adventure,animation"
        ],
        [
         "Outside the Wire",
         "OUTSIDE THE WIRE",
         "Outside The Wire",
         "action,adventure,fantasy"
        ],
        [
         "Red Notice",
         "RED NOTICE",
         "Red Notice",
         "action,comedy,crime"
        ],
        [
         "Bad Trip",
         "BAD TRIP",
         "Bad Trip",
         "comedy"
        ],
        [
         "Malcolm & Marie",
         "MALCOLM & MARIE",
         "Malcolm & Marie",
         "drama,romance"
        ],
        [
         "Finding 'Ohana",
         "FINDING 'OHANA",
         "Finding 'ohana",
         "action,adventure,comedy"
        ],
        [
         "Fatherhood",
         "FATHERHOOD",
         "Fatherhood",
         "comedy,drama"
        ],
        [
         "Deadly Illusions",
         "DEADLY ILLUSIONS",
         "Deadly Illusions",
         "drama,thriller"
        ],
        [
         "Sing 2",
         "SING 2",
         "Sing 2",
         "adventure,animation,comedy"
        ],
        [
         "A Week Away",
         "A WEEK AWAY",
         "A Week Away",
         "drama,family,musical"
        ],
        [
         "Blonde",
         "BLONDE",
         "Blonde",
         "biography,drama,romance"
        ],
        [
         "He's All That",
         "HE'S ALL THAT",
         "He's All That",
         "comedy,romance"
        ],
        [
         "Seaspiracy",
         "SEASPIRACY",
         "Seaspiracy",
         "adventure,documentary"
        ],
        [
         "Army of Thieves",
         "ARMY OF THIEVES",
         "Army Of Thieves",
         "action,crime,horror"
        ],
        [
         "Wish Dragon",
         "WISH DRAGON",
         "Wish Dragon",
         "adventure,animation,comedy"
        ],
        [
         "To All the Boys: Always and Forever",
         "TO ALL THE BOYS: ALWAYS AND FOREVER",
         "To All The Boys: Always And Forever",
         "comedy,drama,romance"
        ],
        [
         "Good on Paper",
         "GOOD ON PAPER",
         "Good On Paper",
         "comedy,romance"
        ],
        [
         "Escape From Spiderhead",
         "ESCAPE FROM SPIDERHEAD",
         "Escape From Spiderhead",
         "action,mystery,sci-fi"
        ],
        [
         "The Last Letter from Your Lover",
         "THE LAST LETTER FROM YOUR LOVER",
         "The Last Letter From Your Lover",
         "drama,romance"
        ],
        [
         "The Kissing Booth 3",
         "THE KISSING BOOTH 3",
         "The Kissing Booth 3",
         "comedy,romance"
        ],
        [
         "Sweet Girl",
         "SWEET GIRL",
         "Sweet Girl",
         "action,drama,thriller"
        ],
        [
         "Matilda",
         "MATILDA",
         "Matilda",
         "comedy,drama,family"
        ],
        [
         "Breaking Boundaries: The Science of Our Planet",
         "BREAKING BOUNDARIES: THE SCIENCE OF OUR PLANET",
         "Breaking Boundaries: The Science Of Our Planet",
         "documentary"
        ],
        [
         "tick, tick...Boom!",
         "TICK, TICK...BOOM!",
         "Tick, Tick...boom!",
         "biography,drama,musical"
        ],
        [
         "Secret Magic Control Agency",
         "SECRET MAGIC CONTROL AGENCY",
         "Secret Magic Control Agency",
         "adventure,animation,comedy"
        ],
        [
         "Vivo",
         "VIVO",
         "Vivo",
         "adventure,animation,comedy"
        ],
        [
         "The Guilty",
         "THE GUILTY",
         "The Guilty",
         "crime,drama,thriller"
        ],
        [
         "The Power of the Dog",
         "THE POWER OF THE DOG",
         "The Power Of The Dog",
         "drama"
        ],
        [
         "Skater Girl",
         "SKATER GIRL",
         "Skater Girl",
         "drama,family,sport"
        ],
        [
         "Trippin' with the Kandasamys",
         "TRIPPIN' WITH THE KANDASAMYS",
         "Trippin' With The Kandasamys",
         "comedy,romance"
        ],
        [
         "Trollhunters: Rise of the Titans",
         "TROLLHUNTERS: RISE OF THE TITANS",
         "Trollhunters: Rise Of The Titans",
         "action,adventure,animation"
        ],
        [
         "Fear Street 2",
         "FEAR STREET 2",
         "Fear Street 2",
         "horror,mystery"
        ],
        [
         "Kate",
         "KATE",
         "Kate",
         "action,adventure,crime"
        ],
        [
         "The Loud House",
         "THE LOUD HOUSE",
         "The Loud House",
         "action,adventure,animation"
        ],
        [
         "Operation Varsity Blues: The College Admissions Scandal",
         "OPERATION VARSITY BLUES: THE COLLEGE ADMISSIONS SCANDAL",
         "Operation Varsity Blues: The College Admissions Scandal",
         "crime,documentary,drama"
        ],
        [
         "Hating Peter Tatchell",
         "HATING PETER TATCHELL",
         "Hating Peter Tatchell",
         "documentary"
        ],
        [
         "Fear Street 3",
         "FEAR STREET 3",
         "Fear Street 3",
         "horror,mystery"
        ],
        [
         "The Harder They Fall",
         "THE HARDER THEY FALL",
         "The Harder They Fall",
         "drama,western"
        ],
        [
         "Passing",
         "PASSING",
         "Passing",
         "drama"
        ],
        [
         "Munich",
         "MUNICH",
         "Munich",
         "biography,drama,history"
        ],
        [
         "A Boy Called Christmas",
         "A BOY CALLED CHRISTMAS",
         "A Boy Called Christmas",
         "adventure,drama,family"
        ],
        [
         "A Jazzman's Blues",
         "A JAZZMAN'S BLUES",
         "A Jazzman's Blues",
         "drama"
        ],
        [
         "Untitled Sandra Bullock/Nora Fingscheidt Project",
         "UNTITLED SANDRA BULLOCK/NORA FINGSCHEIDT PROJECT",
         "Untitled Sandra Bullock/nora Fingscheidt Project",
         "drama"
        ],
        [
         "Night Teeth",
         "NIGHT TEETH",
         "Night Teeth",
         "thriller"
        ],
        [
         "In Our Mothers' Gardens",
         "IN OUR MOTHERS' GARDENS",
         "In Our Mothers' Gardens",
         "documentary"
        ],
        [
         "The Witcher: Nightmare of the Wolf",
         "THE WITCHER: NIGHTMARE OF THE WOLF",
         "The Witcher: Nightmare Of The Wolf",
         "action,adventure,animation"
        ],
        [
         "Back to the Outback",
         "BACK TO THE OUTBACK",
         "Back To The Outback",
         "adventure,animation,comedy"
        ],
        [
         "There's Someone Inside Your House",
         "THERE'S SOMEONE INSIDE YOUR HOUSE",
         "There's Someone Inside Your House",
         "horror,thriller"
        ],
        [
         "Biggie: I Got a Story to Tell",
         "BIGGIE: I GOT A STORY TO TELL",
         "Biggie: I Got A Story To Tell",
         "biography,documentary,music"
        ],
        [
         "Metal Lords",
         "METAL LORDS",
         "Metal Lords",
         "drama,music"
        ],
        [
         "Pelé",
         "PELÉ",
         "Pelé",
         "biography,documentary,sport"
        ],
        [
         "The Minimalists: Less Is Now",
         "THE MINIMALISTS: LESS IS NOW",
         "The Minimalists: Less Is Now",
         "documentary"
        ],
        [
         "Beauty",
         "BEAUTY",
         "Beauty",
         "drama,romance"
        ],
        [
         "The Princess Switch 3",
         "THE PRINCESS SWITCH 3",
         "The Princess Switch 3",
         "comedy,drama,family"
        ],
        [
         "Love Hard",
         "LOVE HARD",
         "Love Hard",
         "comedy,romance"
        ],
        [
         "Strip Down, Rise Up",
         "STRIP DOWN, RISE UP",
         "Strip Down, Rise Up",
         "documentary"
        ],
        [
         "Rise of the Teenage Mutant Ninja Turtles",
         "RISE OF THE TEENAGE MUTANT NINJA TURTLES",
         "Rise Of The Teenage Mutant Ninja Turtles",
         "action,adventure,animation"
        ],
        [
         "Nightbooks",
         "NIGHTBOOKS",
         "Nightbooks",
         "family,fantasy,horror"
        ],
        [
         "Crack: Cocaine, Corruption & Conspiracy",
         "CRACK: COCAINE, CORRUPTION & CONSPIRACY",
         "Crack: Cocaine, Corruption & Conspiracy",
         "crime,documentary,history"
        ],
        [
         "Against the Ice",
         "AGAINST THE ICE",
         "Against The Ice",
         "adventure,drama,history"
        ],
        [
         "Resort to Love",
         "RESORT TO LOVE",
         "Resort To Love",
         "comedy,romance"
        ],
        [
         "A Castle for Christmas",
         "A CASTLE FOR CHRISTMAS",
         "A Castle For Christmas",
         "adventure,comedy,family"
        ],
        [
         "Pray Away",
         "PRAY AWAY",
         "Pray Away",
         "documentary"
        ],
        [
         "Single All the Way",
         "SINGLE ALL THE WAY",
         "Single All The Way",
         "comedy,drama,romance"
        ],
        [
         "Sisters on Track",
         "SISTERS ON TRACK",
         "Sisters On Track",
         "documentary,sport"
        ],
        [
         "Intrusion",
         "INTRUSION",
         "Intrusion",
         "thriller"
        ],
        [
         "Accomplice",
         "ACCOMPLICE",
         "Accomplice",
         "documentary"
        ],
        [
         "Hypnotic",
         "HYPNOTIC",
         "Hypnotic",
         "horror,thriller"
        ],
        [
         "Diana",
         "DIANA",
         "Diana",
         "biography,drama,musical"
        ],
        [
         "Headspace: Unwind Your Mind",
         "HEADSPACE: UNWIND YOUR MIND",
         "Headspace: Unwind Your Mind",
         "animation,documentary"
        ],
        [
         "Bob Ross: Happy Accidents, Betrayal & Greed",
         "BOB ROSS: HAPPY ACCIDENTS, BETRAYAL & GREED",
         "Bob Ross: Happy Accidents, Betrayal & Greed",
         "documentary"
        ],
        [
         "Kane Chonicles",
         "KANE CHONICLES",
         "Kane Chonicles",
         "adventure"
        ],
        [
         "Untitled Netflix Family Comedy 2021",
         "UNTITLED NETFLIX FAMILY COMEDY 2021",
         "Untitled Netflix Family Comedy 2021",
         "comedy"
        ],
        [
         "Untitled Boeing 737 Max/Rory Kennedy Project",
         "UNTITLED BOEING 737 MAX/RORY KENNEDY PROJECT",
         "Untitled Boeing 737 Max/rory Kennedy Project",
         "documentary"
        ],
        [
         "Happiness Ever After",
         "HAPPINESS EVER AFTER",
         "Happiness Ever After",
         "drama,romance"
        ],
        [
         "Love and Monsters",
         "LOVE AND MONSTERS",
         "Love And Monsters",
         "action,adventure,comedy"
        ],
        [
         "I Care a Lot",
         "I CARE A LOT",
         "I Care A Lot",
         "comedy,crime,thriller"
        ],
        [
         "Eurovision Song Contest: The Story of Fire Saga",
         "EUROVISION SONG CONTEST: THE STORY OF FIRE SAGA",
         "Eurovision Song Contest: The Story Of Fire Saga",
         "comedy,music"
        ],
        [
         "The Devil All the Time",
         "THE DEVIL ALL THE TIME",
         "The Devil All The Time",
         "crime,drama,thriller"
        ],
        [
         "Honest Thief",
         "HONEST THIEF",
         "Honest Thief",
         "action,crime,drama"
        ],
        [
         "Run",
         "RUN",
         "Run",
         "mystery,thriller"
        ],
        [
         "News of the World",
         "NEWS OF THE WORLD",
         "News Of The World",
         "action,adventure,drama"
        ],
        [
         "Enola Holmes",
         "ENOLA HOLMES",
         "Enola Holmes",
         "action,adventure,crime"
        ],
        [
         "The Trial of the Chicago 7",
         "THE TRIAL OF THE CHICAGO 7",
         "The Trial Of The Chicago 7",
         "drama,history,thriller"
        ],
        [
         "The Water Man",
         "THE WATER MAN",
         "The Water Man",
         "adventure,drama,family"
        ],
        [
         "Breach",
         "BREACH",
         "Breach",
         "action,sci-fi"
        ],
        [
         "The Old Guard",
         "THE OLD GUARD",
         "The Old Guard",
         "action,adventure,fantasy"
        ],
        [
         "Extraction",
         "EXTRACTION",
         "Extraction",
         "action,thriller"
        ],
        [
         "Spenser Confidential",
         "SPENSER CONFIDENTIAL",
         "Spenser Confidential",
         "action,comedy,crime"
        ],
        [
         "Mank",
         "MANK",
         "Mank",
         "biography,comedy,drama"
        ],
        [
         "Hillbilly Elegy",
         "HILLBILLY ELEGY",
         "Hillbilly Elegy",
         "drama"
        ],
        [
         "Rebecca",
         "REBECCA",
         "Rebecca",
         "drama,mystery,romance"
        ],
        [
         "I'm Thinking of Ending Things",
         "I'M THINKING OF ENDING THINGS",
         "I'm Thinking Of Ending Things",
         "drama,thriller"
        ],
        [
         "Pieces of a Woman",
         "PIECES OF A WOMAN",
         "Pieces Of A Woman",
         "drama"
        ],
        [
         "My Octopus Teacher",
         "MY OCTOPUS TEACHER",
         "My Octopus Teacher",
         "documentary"
        ],
        [
         "Fantasy Island",
         "FANTASY ISLAND",
         "Fantasy Island",
         "action,adventure,fantasy"
        ],
        [
         "The Wrong Missy",
         "THE WRONG MISSY",
         "The Wrong Missy",
         "comedy,romance"
        ],
        [
         "The Midnight Sky",
         "THE MIDNIGHT SKY",
         "The Midnight Sky",
         "drama,fantasy,sci-fi"
        ],
        [
         "We Can Be Heroes",
         "WE CAN BE HEROES",
         "We Can Be Heroes",
         "action,comedy,drama"
        ],
        [
         "Project Power",
         "PROJECT POWER",
         "Project Power",
         "action,crime,sci-fi"
        ],
        [
         "The Babysitter: Killer Queen",
         "THE BABYSITTER: KILLER QUEEN",
         "The Babysitter: Killer Queen",
         "comedy,horror"
        ],
        [
         "His House",
         "HIS HOUSE",
         "His House",
         "drama,horror,thriller"
        ],
        [
         "Ma Rainey's Black Bottom",
         "MA RAINEY'S BLACK BOTTOM",
         "Ma Rainey's Black Bottom",
         "drama,music"
        ],
        [
         "Hubie Halloween",
         "HUBIE HALLOWEEN",
         "Hubie Halloween",
         "comedy,mystery"
        ],
        [
         "Concrete Cowboy",
         "CONCRETE COWBOY",
         "Concrete Cowboy",
         "drama"
        ],
        [
         "All the Bright Places",
         "ALL THE BRIGHT PLACES",
         "All The Bright Places",
         "drama,romance"
        ],
        [
         "Holidate",
         "HOLIDATE",
         "Holidate",
         "comedy,romance"
        ],
        [
         "2067",
         "2067",
         "2067",
         "sci-fi"
        ],
        [
         "Force of Nature",
         "FORCE OF NATURE",
         "Force Of Nature",
         "action,crime,drama"
        ],
        [
         "Da 5 Bloods",
         "DA 5 BLOODS",
         "Da 5 Bloods",
         "adventure,drama,war"
        ],
        [
         "The SpongeBob Movie: Sponge on the Run",
         "THE SPONGEBOB MOVIE: SPONGE ON THE RUN",
         "The Spongebob Movie: Sponge On The Run",
         "adventure,animation,comedy"
        ],
        [
         "Jungle Beat: The Movie",
         "JUNGLE BEAT: THE MOVIE",
         "Jungle Beat: The Movie",
         "adventure,animation,comedy"
        ],
        [
         "Penguin Bloom",
         "PENGUIN BLOOM",
         "Penguin Bloom",
         "drama"
        ],
        [
         "Over the Moon",
         "OVER THE MOON",
         "Over The Moon",
         "adventure,animation,comedy"
        ],
        [
         "Love Wedding Repeat",
         "LOVE WEDDING REPEAT",
         "Love Wedding Repeat",
         "comedy,romance"
        ],
        [
         "The Prom",
         "THE PROM",
         "The Prom",
         "comedy,drama,musical"
        ],
        [
         "The Kissing Booth 2",
         "THE KISSING BOOTH 2",
         "The Kissing Booth 2",
         "comedy,romance"
        ],
        [
         "Lost Girls",
         "LOST GIRLS",
         "Lost Girls",
         "drama,mystery,thriller"
        ],
        [
         "The Stand In",
         "THE STAND IN",
         "The Stand In",
         "comedy,drama"
        ],
        [
         "The Last Thing He Wanted",
         "THE LAST THING HE WANTED",
         "The Last Thing He Wanted",
         "crime,drama,thriller"
        ],
        [
         "The Social Dilemma",
         "THE SOCIAL DILEMMA",
         "The Social Dilemma",
         "documentary,drama"
        ],
        [
         "Horse Girl",
         "HORSE GIRL",
         "Horse Girl",
         "drama,mystery,thriller"
        ],
        [
         "The Sleepover",
         "THE SLEEPOVER",
         "The Sleepover",
         "action,adventure,comedy"
        ],
        [
         "The Boys in the Band",
         "THE BOYS IN THE BAND",
         "The Boys In The Band",
         "drama"
        ],
        [
         "The Last Days of American Crime",
         "THE LAST DAYS OF AMERICAN CRIME",
         "The Last Days Of American Crime",
         "action,crime,drama"
        ],
        [
         "Love, Guaranteed",
         "LOVE, GUARANTEED",
         "Love, Guaranteed",
         "comedy,romance"
        ],
        [
         "The Willoughbys",
         "THE WILLOUGHBYS",
         "The Willoughbys",
         "adventure,animation,comedy"
        ],
        [
         "Feel the Beat",
         "FEEL THE BEAT",
         "Feel The Beat",
         "comedy,drama,family"
        ],
        [
         "American Murder: The Family Next Door",
         "AMERICAN MURDER: THE FAMILY NEXT DOOR",
         "American Murder: The Family Next Door",
         "crime,documentary"
        ],
        [
         "Work It",
         "WORK IT",
         "Work It",
         "comedy,music"
        ],
        [
         "The Lovebirds",
         "THE LOVEBIRDS",
         "The Lovebirds",
         "action,comedy,crime"
        ],
        [
         "Sightless",
         "SIGHTLESS",
         "Sightless",
         "drama,thriller"
        ],
        [
         "Dangerous Lies",
         "DANGEROUS LIES",
         "Dangerous Lies",
         "drama,mystery,thriller"
        ],
        [
         "The F**k-It List",
         "THE F**K-IT LIST",
         "The F**k-it List",
         "comedy"
        ],
        [
         "A Fall from Grace",
         "A FALL FROM GRACE",
         "A Fall From Grace",
         "drama,fantasy,thriller"
        ],
        [
         "Vampires vs. the Bronx",
         "VAMPIRES VS. THE BRONX",
         "Vampires Vs. The Bronx",
         "comedy,horror"
        ],
        [
         "Think Like a Dog",
         "THINK LIKE A DOG",
         "Think Like A Dog",
         "comedy,drama,family"
        ],
        [
         "To All the Boys: P.S. I Still Love You",
         "TO ALL THE BOYS: P.S. I STILL LOVE YOU",
         "To All The Boys: P.s. I Still Love You",
         "comedy,drama,romance"
        ],
        [
         "Desperados",
         "DESPERADOS",
         "Desperados",
         "comedy,romance"
        ],
        [
         "A Babysitter's Guide to Monster Hunting",
         "A BABYSITTER'S GUIDE TO MONSTER HUNTING",
         "A Babysitter's Guide To Monster Hunting",
         "comedy,family,fantasy"
        ],
        [
         "Sergio",
         "SERGIO",
         "Sergio",
         "biography,drama,history"
        ],
        [
         "Roped",
         "ROPED",
         "Roped",
         "drama,romance"
        ],
        [
         "David Attenborough: A Life on Our Planet",
         "DAVID ATTENBOROUGH: A LIFE ON OUR PLANET",
         "David Attenborough: A Life On Our Planet",
         "biography,documentary"
        ],
        [
         "The Debt Collector 2",
         "THE DEBT COLLECTOR 2",
         "The Debt Collector 2",
         "action,comedy"
        ],
        [
         "A California Christmas",
         "A CALIFORNIA CHRISTMAS",
         "A California Christmas",
         "comedy,drama,romance"
        ],
        [
         "All Together Now",
         "ALL TOGETHER NOW",
         "All Together Now",
         "drama"
        ],
        [
         "The Christmas Chronicles: Part Two",
         "THE CHRISTMAS CHRONICLES: PART TWO",
         "The Christmas Chronicles: Part Two",
         "adventure,comedy,family"
        ],
        [
         "The Princess Switch: Switched Again",
         "THE PRINCESS SWITCH: SWITCHED AGAIN",
         "The Princess Switch: Switched Again",
         "comedy,drama,family"
        ],
        [
         "Crip Camp",
         "CRIP CAMP",
         "Crip Camp",
         "documentary"
        ],
        [
         "Lady Driver",
         "LADY DRIVER",
         "Lady Driver",
         "sport"
        ],
        [
         "Coffee & Kareem",
         "COFFEE & KAREEM",
         "Coffee & Kareem",
         "action,comedy,crime"
        ],
        [
         "Fatal Affair",
         "FATAL AFFAIR",
         "Fatal Affair",
         "thriller"
        ],
        [
         "Wheels of Fortune",
         "WHEELS OF FORTUNE",
         "Wheels Of Fortune",
         "comedy"
        ],
        [
         "Kiss the Ground",
         "KISS THE GROUND",
         "Kiss The Ground",
         "documentary"
        ],
        [
         "The Forty-Year-Old Version",
         "THE FORTY-YEAR-OLD VERSION",
         "The Forty-year-old Version",
         "comedy,drama"
        ],
        [
         "The Main Event",
         "THE MAIN EVENT",
         "The Main Event",
         "action,comedy,family"
        ],
        [
         "Made You Look: A True Story About Fake Art",
         "MADE YOU LOOK: A TRUE STORY ABOUT FAKE ART",
         "Made You Look: A True Story About Fake Art",
         "crime,documentary"
        ],
        [
         "The Fisherman's Diary",
         "THE FISHERMAN'S DIARY",
         "The Fisherman's Diary",
         "drama"
        ],
        [
         "Serious Men",
         "SERIOUS MEN",
         "Serious Men",
         "comedy,drama"
        ],
        [
         "Uncorked",
         "UNCORKED",
         "Uncorked",
         "drama"
        ],
        [
         "Midnight at the Magnolia",
         "MIDNIGHT AT THE MAGNOLIA",
         "Midnight At The Magnolia",
         "comedy,romance"
        ],
        [
         "All Day and a Night",
         "ALL DAY AND A NIGHT",
         "All Day And A Night",
         "drama"
        ],
        [
         "Operation Christmas Drop",
         "OPERATION CHRISTMAS DROP",
         "Operation Christmas Drop",
         "comedy,family,romance"
        ],
        [
         "Jingle Jangle: A Christmas Journey",
         "JINGLE JANGLE: A CHRISTMAS JOURNEY",
         "Jingle Jangle: A Christmas Journey",
         "family,fantasy,musical"
        ],
        [
         "Bruised",
         "BRUISED",
         "Bruised",
         "drama,sport"
        ],
        [
         "What Is Life Worth",
         "WHAT IS LIFE WORTH",
         "What Is Life Worth",
         "biography,drama,history"
        ],
        [
         "Have a Good Trip: Adventures in Psychedelics",
         "HAVE A GOOD TRIP: ADVENTURES IN PSYCHEDELICS",
         "Have A Good Trip: Adventures In Psychedelics",
         "comedy,documentary"
        ],
        [
         "I Am Vengeance: Retaliation",
         "I AM VENGEANCE: RETALIATION",
         "I Am Vengeance: Retaliation",
         "action"
        ],
        [
         "Miss Americana",
         "MISS AMERICANA",
         "Miss Americana",
         "biography,documentary,music"
        ],
        [
         "Dick Johnson Is Dead",
         "DICK JOHNSON IS DEAD",
         "Dick Johnson Is Dead",
         "documentary,drama"
        ],
        [
         "You Are My Home",
         "YOU ARE MY HOME",
         "You Are My Home",
         "animation,family,fantasy"
        ],
        [
         "Tigertail",
         "TIGERTAIL",
         "Tigertail",
         "drama"
        ],
        [
         "Go!",
         "GO!",
         "Go!",
         "family,sport"
        ],
        [
         "Athlete A",
         "ATHLETE A",
         "Athlete A",
         "crime,documentary,sport"
        ],
        [
         "Secrets of the Saqqara Tomb",
         "SECRETS OF THE SAQQARA TOMB",
         "Secrets Of The Saqqara Tomb",
         "documentary,history"
        ],
        [
         "Ricos de Amor",
         "RICOS DE AMOR",
         "Ricos De Amor",
         "comedy,romance"
        ],
        [
         "A Secret Love",
         "A SECRET LOVE",
         "A Secret Love",
         "documentary,drama"
        ],
        [
         "Ariana Grande: Excuse Me, I Love You",
         "ARIANA GRANDE: EXCUSE ME, I LOVE YOU",
         "Ariana Grande: Excuse Me, I Love You",
         "documentary,music"
        ],
        [
         "Malibu Rescue: The Next Wave",
         "MALIBU RESCUE: THE NEXT WAVE",
         "Malibu Rescue: The Next Wave",
         "action,comedy,family"
        ],
        [
         "Namaste Wahala",
         "NAMASTE WAHALA",
         "Namaste Wahala",
         "drama,romance"
        ],
        [
         "Citation",
         "CITATION",
         "Citation",
         "drama,thriller"
        ],
        [
         "Farewell Amor",
         "FAREWELL AMOR",
         "Farewell Amor",
         "drama,music,romance"
        ],
        [
         "Funny Boy",
         "FUNNY BOY",
         "Funny Boy",
         "drama"
        ],
        [
         "A New York Christmas Wedding",
         "A NEW YORK CHRISTMAS WEDDING",
         "A New York Christmas Wedding",
         "drama,romance"
        ],
        [
         "Christmas on the Square",
         "CHRISTMAS ON THE SQUARE",
         "Christmas On The Square",
         "comedy,family,musical"
        ],
        [
         "Seriously Single",
         "SERIOUSLY SINGLE",
         "Seriously Single",
         "comedy,romance"
        ],
        [
         "Rising Phoenix",
         "RISING PHOENIX",
         "Rising Phoenix",
         "documentary,sport"
        ],
        [
         "Riding Faith",
         "RIDING FAITH",
         "Riding Faith",
         "family"
        ],
        [
         "Murder to Mercy: The Cyntoia Brown Story",
         "MURDER TO MERCY: THE CYNTOIA BROWN STORY",
         "Murder To Mercy: The Cyntoia Brown Story",
         "documentary"
        ],
        [
         "Becoming",
         "BECOMING",
         "Becoming",
         "documentary"
        ],
        [
         "Not a Game",
         "NOT A GAME",
         "Not A Game",
         "documentary"
        ],
        [
         "Barbie Princess Adventure",
         "BARBIE PRINCESS ADVENTURE",
         "Barbie Princess Adventure",
         "animation,musical"
        ],
        [
         "Angela's Christmas Wish",
         "ANGELA'S CHRISTMAS WISH",
         "Angela's Christmas Wish",
         "adventure,animation,family"
        ],
        [
         "Father Soldier Son",
         "FATHER SOLDIER SON",
         "Father Soldier Son",
         "documentary,war"
        ],
        [
         "Uppity: The Willy T. Ribbs Story",
         "UPPITY: THE WILLY T. RIBBS STORY",
         "Uppity: The Willy T. Ribbs Story",
         "documentary"
        ],
        [
         "Maska",
         "MASKA",
         "Maska",
         "comedy,drama,romance"
        ],
        [
         "Octonauts & the Great Barrier Reef",
         "OCTONAUTS & THE GREAT BARRIER REEF",
         "Octonauts & The Great Barrier Reef",
         "action,adventure,animation"
        ],
        [
         "Shawn Mendes: In Wonder",
         "SHAWN MENDES: IN WONDER",
         "Shawn Mendes: In Wonder",
         "documentary,music"
        ],
        [
         "LA Originals",
         "LA ORIGINALS",
         "La Originals",
         "documentary"
        ],
        [
         "Mucho Mucho Amor: The Legend of Walter Mercado",
         "MUCHO MUCHO AMOR: THE LEGEND OF WALTER MERCADO",
         "Mucho Mucho Amor: The Legend Of Walter Mercado",
         "documentary"
        ],
        [
         "Octonauts and the Caves of Sac Actun",
         "OCTONAUTS AND THE CAVES OF SAC ACTUN",
         "Octonauts And The Caves Of Sac Actun",
         "adventure,animation,comedy"
        ],
        [
         "The Larva Island Movie",
         "THE LARVA ISLAND MOVIE",
         "The Larva Island Movie",
         "adventure,animation,comedy"
        ],
        [
         "André & His Olive Tree",
         "ANDRÉ & HIS OLIVE TREE",
         "André & His Olive Tree",
         "documentary"
        ],
        [
         "Dance Dreams: Hot Chocolate Nutcracker",
         "DANCE DREAMS: HOT CHOCOLATE NUTCRACKER",
         "Dance Dreams: Hot Chocolate Nutcracker",
         "documentary,family"
        ],
        [
         "#cats_the_mewvie",
         "#CATS_THE_MEWVIE",
         "#cats_the_mewvie",
         "documentary"
        ],
        [
         "Giving Voice",
         "GIVING VOICE",
         "Giving Voice",
         "documentary"
        ],
        [
         "The App That Stole Christmas",
         "THE APP THAT STOLE CHRISTMAS",
         "The App That Stole Christmas",
         "comedy"
        ],
        [
         "Shawn Mendes: Live in Concert",
         "SHAWN MENDES: LIVE IN CONCERT",
         "Shawn Mendes: Live In Concert",
         "music"
        ],
        [
         "Thomas & Friends: Marvelous Machinery",
         "THOMAS & FRIENDS: MARVELOUS MACHINERY",
         "Thomas & Friends: Marvelous Machinery",
         "action,adventure,animation"
        ],
        [
         "The Magic School Bus Rides Again: Kids in Space",
         "THE MAGIC SCHOOL BUS RIDES AGAIN: KIDS IN SPACE",
         "The Magic School Bus Rides Again: Kids In Space",
         "adventure,animation,comedy"
        ],
        [
         "Night on Earth: Shot in the Dark",
         "NIGHT ON EARTH: SHOT IN THE DARK",
         "Night On Earth: Shot In The Dark",
         "documentary"
        ],
        [
         "United Nation Three Decades of Drum & Bass",
         "UNITED NATION THREE DECADES OF DRUM & BASS",
         "United Nation Three Decades Of Drum & Bass",
         "documentary"
        ],
        [
         "Light in the Dark",
         "LIGHT IN THE DARK",
         "Light In The Dark",
         "thriller"
        ],
        [
         "Pemburu di Manchester Biru",
         "PEMBURU DI MANCHESTER BIRU",
         "Pemburu Di Manchester Biru",
         "biography,drama"
        ],
        [
         "Bigflo & Oli: Hip Hop Frenzy",
         "BIGFLO & OLI: HIP HOP FRENZY",
         "Bigflo & Oli: Hip Hop Frenzy",
         "documentary,music"
        ],
        [
         "Horrid Henry's Gross Day Out",
         "HORRID HENRY'S GROSS DAY OUT",
         "Horrid Henry's Gross Day Out",
         "action,adventure,animation"
        ],
        [
         "Last days on Earth",
         "LAST DAYS ON EARTH",
         "Last Days On Earth",
         "documentary"
        ]
       ],
       "datasetInfos": [],
       "dbfsResultPath": null,
       "isJsonSchema": true,
       "metadata": {},
       "overflow": false,
       "plotOptions": {
        "customPlotOptions": {},
        "displayType": "table",
        "pivotAggregation": null,
        "pivotColumns": null,
        "xColumns": null,
        "yColumns": null
       },
       "removedWidgets": [],
       "schema": [
        {
         "metadata": "{}",
         "name": "title",
         "type": "\"string\""
        },
        {
         "metadata": "{}",
         "name": "upper(title)",
         "type": "\"string\""
        },
        {
         "metadata": "{}",
         "name": "initcap(title)",
         "type": "\"string\""
        },
        {
         "metadata": "{}",
         "name": "lower(genres)",
         "type": "\"string\""
        }
       ],
       "type": "table"
      }
     },
     "output_type": "display_data"
    }
   ],
   "source": [
    "from pyspark.sql.functions import initcap, upper, lower\n",
    "\n",
    "display(netflix_data.select('title', upper('title'), initcap('title'), lower('genres')))"
   ]
  },
  {
   "cell_type": "code",
   "execution_count": 0,
   "metadata": {
    "application/vnd.databricks.v1+cell": {
     "cellMetadata": {},
     "inputWidgets": {},
     "nuid": "2a56fa82-0022-428e-b278-caf9084fff34",
     "showTitle": false,
     "title": ""
    }
   },
   "outputs": [
    {
     "data": {
      "text/html": [
       "<style scoped>\n",
       "  .table-result-container {\n",
       "    max-height: 300px;\n",
       "    overflow: auto;\n",
       "  }\n",
       "  table, th, td {\n",
       "    border: 1px solid black;\n",
       "    border-collapse: collapse;\n",
       "  }\n",
       "  th, td {\n",
       "    padding: 5px;\n",
       "  }\n",
       "  th {\n",
       "    text-align: left;\n",
       "  }\n",
       "</style><div class='table-result-container'><table class='table-result'><thead style='background-color: white'><tr><th>title</th><th>origin_country</th><th>regexp_replace(language, En*, en, 1)</th></tr></thead><tbody><tr><td>Army of the Dead</td><td>United States</td><td>english</td></tr><tr><td>The Woman in the Window</td><td>United States</td><td>english</td></tr><tr><td>The Mitchells vs the Machines</td><td>United States</td><td>english</td></tr><tr><td>Blue Miracle</td><td>United States</td><td>english</td></tr><tr><td>Things Heard & Seen</td><td>United States</td><td>english</td></tr><tr><td>Stowaway</td><td>Germany</td><td>english</td></tr><tr><td>Don't Look Up</td><td>United States</td><td>english</td></tr><tr><td>I Am All Girls</td><td>South Africa</td><td>english</td></tr><tr><td>Hotel Transylvania: Transformania</td><td>United States</td><td>english</td></tr><tr><td>The Dig</td><td>United Kingdom</td><td>english</td></tr><tr><td>Thunder Force</td><td>United States</td><td>english</td></tr><tr><td>The Ice Road</td><td>United States</td><td>english</td></tr><tr><td>Gunpowder Milkshake</td><td>France</td><td>english</td></tr><tr><td>Fear Street</td><td>United States</td><td>english</td></tr><tr><td>The Nailbomber</td><td>United Kingdom</td><td>english</td></tr><tr><td>Awake</td><td>United States</td><td>english</td></tr><tr><td>Moxie</td><td>United States</td><td>english</td></tr><tr><td>Yes Day</td><td>United States</td><td>english</td></tr><tr><td>America: The Motion Picture</td><td>United States</td><td>english</td></tr><tr><td>Outside the Wire</td><td>Hungary</td><td>english</td></tr><tr><td>Red Notice</td><td>United States</td><td>english</td></tr><tr><td>Bad Trip</td><td>United States</td><td>english</td></tr><tr><td>Malcolm & Marie</td><td>United States</td><td>english</td></tr><tr><td>Finding 'Ohana</td><td>United States</td><td>english</td></tr><tr><td>Fatherhood</td><td>United States</td><td>english</td></tr><tr><td>Deadly Illusions</td><td>United States</td><td>english</td></tr><tr><td>Sing 2</td><td>France</td><td>english</td></tr><tr><td>A Week Away</td><td>United States</td><td>english</td></tr><tr><td>Blonde</td><td>United States</td><td>english</td></tr><tr><td>He's All That</td><td>United States</td><td>english</td></tr><tr><td>Seaspiracy</td><td>United States</td><td>english</td></tr><tr><td>Army of Thieves</td><td>Germany</td><td>english</td></tr><tr><td>Wish Dragon</td><td>China</td><td>english</td></tr><tr><td>To All the Boys: Always and Forever</td><td>United States</td><td>english</td></tr><tr><td>Good on Paper</td><td>United States</td><td>english</td></tr><tr><td>Escape From Spiderhead</td><td>United States</td><td>english</td></tr><tr><td>The Last Letter from Your Lover</td><td>United Kingdom</td><td>english</td></tr><tr><td>The Kissing Booth 3</td><td>United Kingdom</td><td>english</td></tr><tr><td>Sweet Girl</td><td>United States</td><td>english</td></tr><tr><td>Matilda</td><td>United Kingdom</td><td>english</td></tr><tr><td>Breaking Boundaries: The Science of Our Planet</td><td>United States</td><td>english</td></tr><tr><td>tick, tick...Boom!</td><td>United States</td><td>english</td></tr><tr><td>Secret Magic Control Agency</td><td>Russia</td><td>english</td></tr><tr><td>Vivo</td><td>Canada</td><td>english</td></tr><tr><td>The Guilty</td><td>United States</td><td>english</td></tr><tr><td>The Power of the Dog</td><td>United Kingdom</td><td>english</td></tr><tr><td>Skater Girl</td><td>United States</td><td>english</td></tr><tr><td>Trippin' with the Kandasamys</td><td>South Africa</td><td>english</td></tr><tr><td>Trollhunters: Rise of the Titans</td><td>United States</td><td>english</td></tr><tr><td>Fear Street 2</td><td>United States</td><td>english</td></tr><tr><td>Kate</td><td>United States</td><td>english</td></tr><tr><td>The Loud House</td><td>Spain</td><td>english</td></tr><tr><td>Operation Varsity Blues: The College Admissions Scandal</td><td>United States</td><td>english</td></tr><tr><td>Hating Peter Tatchell</td><td>Australia</td><td>english</td></tr><tr><td>Fear Street 3</td><td>United States</td><td>english</td></tr><tr><td>The Harder They Fall</td><td>United States</td><td>english</td></tr><tr><td>Passing</td><td>United Kingdom</td><td>english</td></tr><tr><td>Munich</td><td>United Kingdom</td><td>english</td></tr><tr><td>A Boy Called Christmas</td><td>United Kingdom</td><td>english</td></tr><tr><td>A Jazzman's Blues</td><td>United States</td><td>english</td></tr><tr><td>Untitled Sandra Bullock/Nora Fingscheidt Project</td><td>United Kingdom</td><td>english</td></tr><tr><td>Night Teeth</td><td>United States</td><td>english</td></tr><tr><td>In Our Mothers' Gardens</td><td>United States</td><td>english</td></tr><tr><td>The Witcher: Nightmare of the Wolf</td><td>United States</td><td>english</td></tr><tr><td>Back to the Outback</td><td>United States</td><td>english</td></tr><tr><td>There's Someone Inside Your House</td><td>United States</td><td>english</td></tr><tr><td>Biggie: I Got a Story to Tell</td><td>United States</td><td>english</td></tr><tr><td>Metal Lords</td><td>United States</td><td>english</td></tr><tr><td>Pelé</td><td>United Kingdom</td><td>english</td></tr><tr><td>The Minimalists: Less Is Now</td><td>United States</td><td>english</td></tr><tr><td>Beauty</td><td>United States</td><td>english</td></tr><tr><td>The Princess Switch 3</td><td>United States</td><td>english</td></tr><tr><td>Love Hard</td><td>United States</td><td>english</td></tr><tr><td>Strip Down, Rise Up</td><td>United States</td><td>english</td></tr><tr><td>Rise of the Teenage Mutant Ninja Turtles</td><td>United States</td><td>english</td></tr><tr><td>Nightbooks</td><td>United States</td><td>english</td></tr><tr><td>Crack: Cocaine, Corruption & Conspiracy</td><td>United States</td><td>english</td></tr><tr><td>Against the Ice</td><td>United States</td><td>english</td></tr><tr><td>Resort to Love</td><td>United States</td><td>english</td></tr><tr><td>A Castle for Christmas</td><td>United States</td><td>english</td></tr><tr><td>Pray Away</td><td>United States</td><td>english</td></tr><tr><td>Single All the Way</td><td>United States</td><td>english</td></tr><tr><td>Sisters on Track</td><td>United States</td><td>english</td></tr><tr><td>Intrusion</td><td>United States</td><td>english</td></tr><tr><td>Accomplice</td><td>United States</td><td>english</td></tr><tr><td>Hypnotic</td><td>United States</td><td>english</td></tr><tr><td>Diana</td><td>United States</td><td>english</td></tr><tr><td>Headspace: Unwind Your Mind</td><td>United States</td><td>english</td></tr><tr><td>Bob Ross: Happy Accidents, Betrayal & Greed</td><td>United States</td><td>english</td></tr><tr><td>Kane Chonicles</td><td>United States</td><td>english</td></tr><tr><td>Untitled Netflix Family Comedy 2021</td><td>United States</td><td>english</td></tr><tr><td>Untitled Boeing 737 Max/Rory Kennedy Project</td><td>United States</td><td>english</td></tr><tr><td>Happiness Ever After</td><td>South Africa</td><td>english</td></tr><tr><td>Love and Monsters</td><td>Canada</td><td>english</td></tr><tr><td>I Care a Lot</td><td>United States</td><td>english</td></tr><tr><td>Eurovision Song Contest: The Story of Fire Saga</td><td>United States</td><td>english</td></tr><tr><td>The Devil All the Time</td><td>United States</td><td>english</td></tr><tr><td>Honest Thief</td><td>United States</td><td>english</td></tr><tr><td>Run</td><td>United States</td><td>english</td></tr><tr><td>News of the World</td><td>United States</td><td>english</td></tr><tr><td>Enola Holmes</td><td>United Kingdom</td><td>english</td></tr><tr><td>The Trial of the Chicago 7</td><td>United States</td><td>english</td></tr><tr><td>The Water Man</td><td>United States</td><td>english</td></tr><tr><td>Breach</td><td>Canada</td><td>english</td></tr><tr><td>The Old Guard</td><td>United States</td><td>english</td></tr><tr><td>Extraction</td><td>United States</td><td>english</td></tr><tr><td>Spenser Confidential</td><td>United States</td><td>english</td></tr><tr><td>Mank</td><td>United States</td><td>english</td></tr><tr><td>Hillbilly Elegy</td><td>United States</td><td>english</td></tr><tr><td>Rebecca</td><td>United Kingdom</td><td>english</td></tr><tr><td>I'm Thinking of Ending Things</td><td>United States</td><td>english</td></tr><tr><td>Pieces of a Woman</td><td>Canada</td><td>english</td></tr><tr><td>My Octopus Teacher</td><td>South Africa</td><td>english</td></tr><tr><td>Fantasy Island</td><td>United States</td><td>english</td></tr><tr><td>The Wrong Missy</td><td>United States</td><td>english</td></tr><tr><td>The Midnight Sky</td><td>United States</td><td>english</td></tr><tr><td>We Can Be Heroes</td><td>United States</td><td>english</td></tr><tr><td>Project Power</td><td>United States</td><td>english</td></tr><tr><td>The Babysitter: Killer Queen</td><td>United States</td><td>english</td></tr><tr><td>His House</td><td>United Kingdom</td><td>english</td></tr><tr><td>Ma Rainey's Black Bottom</td><td>United States</td><td>english</td></tr><tr><td>Hubie Halloween</td><td>United States</td><td>english</td></tr><tr><td>Concrete Cowboy</td><td>United Kingdom</td><td>english</td></tr><tr><td>All the Bright Places</td><td>United States</td><td>english</td></tr><tr><td>Holidate</td><td>United States</td><td>english</td></tr><tr><td>2067</td><td>Australia</td><td>english</td></tr><tr><td>Force of Nature</td><td>United States</td><td>english</td></tr><tr><td>Da 5 Bloods</td><td>United States</td><td>english</td></tr><tr><td>The SpongeBob Movie: Sponge on the Run</td><td>United States</td><td>english</td></tr><tr><td>Jungle Beat: The Movie</td><td>Mauritius</td><td>english</td></tr><tr><td>Penguin Bloom</td><td>Australia</td><td>english</td></tr><tr><td>Over the Moon</td><td>China</td><td>english</td></tr><tr><td>Love Wedding Repeat</td><td>United Kingdom</td><td>english</td></tr><tr><td>The Prom</td><td>United States</td><td>english</td></tr><tr><td>The Kissing Booth 2</td><td>United Kingdom</td><td>english</td></tr><tr><td>Lost Girls</td><td>United States</td><td>english</td></tr><tr><td>The Stand In</td><td>United States</td><td>english</td></tr><tr><td>The Last Thing He Wanted</td><td>United States</td><td>english</td></tr><tr><td>The Social Dilemma</td><td>United States</td><td>english</td></tr><tr><td>Horse Girl</td><td>United States</td><td>english</td></tr><tr><td>The Sleepover</td><td>United States</td><td>english</td></tr><tr><td>The Boys in the Band</td><td>United States</td><td>english</td></tr><tr><td>The Last Days of American Crime</td><td>United States</td><td>english</td></tr><tr><td>Love, Guaranteed</td><td>United States</td><td>english</td></tr><tr><td>The Willoughbys</td><td>Canada</td><td>english</td></tr><tr><td>Feel the Beat</td><td>United States</td><td>english</td></tr><tr><td>American Murder: The Family Next Door</td><td>United States</td><td>english</td></tr><tr><td>Work It</td><td>United States</td><td>english</td></tr><tr><td>The Lovebirds</td><td>United States</td><td>english</td></tr><tr><td>Sightless</td><td>United States</td><td>english</td></tr><tr><td>Dangerous Lies</td><td>United States</td><td>english</td></tr><tr><td>The F**k-It List</td><td>United States</td><td>english</td></tr><tr><td>A Fall from Grace</td><td>United States</td><td>english</td></tr><tr><td>Vampires vs. the Bronx</td><td>United States</td><td>english</td></tr><tr><td>Think Like a Dog</td><td>China</td><td>english</td></tr><tr><td>To All the Boys: P.S. I Still Love You</td><td>United States</td><td>english</td></tr><tr><td>Desperados</td><td>United States</td><td>english</td></tr><tr><td>A Babysitter's Guide to Monster Hunting</td><td>United States</td><td>english</td></tr><tr><td>Sergio</td><td>United States</td><td>english</td></tr><tr><td>Roped</td><td>United States</td><td>english</td></tr><tr><td>David Attenborough: A Life on Our Planet</td><td>United Kingdom</td><td>english</td></tr><tr><td>The Debt Collector 2</td><td>United States</td><td>english</td></tr><tr><td>A California Christmas</td><td>United States</td><td>english</td></tr><tr><td>All Together Now</td><td>United States</td><td>english</td></tr><tr><td>The Christmas Chronicles: Part Two</td><td>United States</td><td>english</td></tr><tr><td>The Princess Switch: Switched Again</td><td>United States</td><td>english</td></tr><tr><td>Crip Camp</td><td>United States</td><td>english</td></tr><tr><td>Lady Driver</td><td>United States</td><td>english</td></tr><tr><td>Coffee & Kareem</td><td>United States</td><td>english</td></tr><tr><td>Fatal Affair</td><td>United States</td><td>english</td></tr><tr><td>Wheels of Fortune</td><td>United States</td><td>english</td></tr><tr><td>Kiss the Ground</td><td>United States</td><td>english</td></tr><tr><td>The Forty-Year-Old Version</td><td>United States</td><td>english</td></tr><tr><td>The Main Event</td><td>United States</td><td>english</td></tr><tr><td>Made You Look: A True Story About Fake Art</td><td>Canada</td><td>english</td></tr><tr><td>The Fisherman's Diary</td><td>Cameroon</td><td>english</td></tr><tr><td>Serious Men</td><td>India</td><td>english</td></tr><tr><td>Uncorked</td><td>United States</td><td>english</td></tr><tr><td>Midnight at the Magnolia</td><td>Canada</td><td>english</td></tr><tr><td>All Day and a Night</td><td>United States</td><td>english</td></tr><tr><td>Operation Christmas Drop</td><td>United States</td><td>english</td></tr><tr><td>Jingle Jangle: A Christmas Journey</td><td>United States</td><td>english</td></tr><tr><td>Bruised</td><td>United States</td><td>english</td></tr><tr><td>What Is Life Worth</td><td>United States</td><td>english</td></tr><tr><td>Have a Good Trip: Adventures in Psychedelics</td><td>United States</td><td>english</td></tr><tr><td>I Am Vengeance: Retaliation</td><td>United Kingdom</td><td>english</td></tr><tr><td>Miss Americana</td><td>United States</td><td>english</td></tr><tr><td>Dick Johnson Is Dead</td><td>United States</td><td>english</td></tr><tr><td>You Are My Home</td><td>United States</td><td>english</td></tr><tr><td>Tigertail</td><td>United States</td><td>english</td></tr><tr><td>Go!</td><td>Australia</td><td>english</td></tr><tr><td>Athlete A</td><td>United States</td><td>english</td></tr><tr><td>Secrets of the Saqqara Tomb</td><td>United States</td><td>english</td></tr><tr><td>Ricos de Amor</td><td>Brazil</td><td>english</td></tr><tr><td>A Secret Love</td><td>United States</td><td>english</td></tr><tr><td>Ariana Grande: Excuse Me, I Love You</td><td>United States</td><td>english</td></tr><tr><td>Malibu Rescue: The Next Wave</td><td>United States</td><td>english</td></tr><tr><td>Namaste Wahala</td><td>Nigeria</td><td>english</td></tr><tr><td>Citation</td><td>Nigeria</td><td>english</td></tr><tr><td>Farewell Amor</td><td>United States</td><td>english</td></tr><tr><td>Funny Boy</td><td>Canada</td><td>english</td></tr><tr><td>A New York Christmas Wedding</td><td>United States</td><td>english</td></tr><tr><td>Christmas on the Square</td><td>United States</td><td>english</td></tr><tr><td>Seriously Single</td><td>South Africa</td><td>english</td></tr><tr><td>Rising Phoenix</td><td>United Kingdom</td><td>english</td></tr><tr><td>Riding Faith</td><td>United States</td><td>english</td></tr><tr><td>Murder to Mercy: The Cyntoia Brown Story</td><td>United States</td><td>english</td></tr><tr><td>Becoming</td><td>United States</td><td>english</td></tr><tr><td>Not a Game</td><td>United Kingdom</td><td>english</td></tr><tr><td>Barbie Princess Adventure</td><td>Netherlands</td><td>english</td></tr><tr><td>Angela's Christmas Wish</td><td>United States</td><td>english</td></tr><tr><td>Father Soldier Son</td><td>United States</td><td>english</td></tr><tr><td>Uppity: The Willy T. Ribbs Story</td><td>United States</td><td>english</td></tr><tr><td>Maska</td><td>India</td><td>english</td></tr><tr><td>Octonauts & the Great Barrier Reef</td><td>United Kingdom</td><td>english</td></tr><tr><td>Shawn Mendes: In Wonder</td><td>United States</td><td>english</td></tr><tr><td>LA Originals</td><td>United States</td><td>english</td></tr><tr><td>Mucho Mucho Amor: The Legend of Walter Mercado</td><td>United States</td><td>english</td></tr><tr><td>Octonauts and the Caves of Sac Actun</td><td>United Kingdom</td><td>english</td></tr><tr><td>The Larva Island Movie</td><td>South Korea</td><td>english</td></tr><tr><td>André & His Olive Tree</td><td>Singapore</td><td>english</td></tr><tr><td>Dance Dreams: Hot Chocolate Nutcracker</td><td>United States</td><td>english</td></tr><tr><td>#cats_the_mewvie</td><td>Canada</td><td>english</td></tr><tr><td>Giving Voice</td><td>United States</td><td>english</td></tr><tr><td>The App That Stole Christmas</td><td>United States</td><td>english</td></tr><tr><td>Shawn Mendes: Live in Concert</td><td>United Kingdom</td><td>english</td></tr><tr><td>Thomas & Friends: Marvelous Machinery</td><td>Canada</td><td>english</td></tr><tr><td>The Magic School Bus Rides Again: Kids in Space</td><td>United States</td><td>english</td></tr><tr><td>Night on Earth: Shot in the Dark</td><td>United Kingdom</td><td>english</td></tr><tr><td>United Nation Three Decades of Drum & Bass</td><td>United Kingdom</td><td>english</td></tr><tr><td>Light in the Dark</td><td>Nigeria</td><td>english</td></tr><tr><td>Pemburu di Manchester Biru</td><td>Indonesia</td><td>english</td></tr><tr><td>Bigflo & Oli: Hip Hop Frenzy</td><td>France</td><td>english</td></tr><tr><td>Horrid Henry's Gross Day Out</td><td>United Kingdom</td><td>english</td></tr><tr><td>Last days on Earth</td><td>United Kingdom</td><td>english</td></tr></tbody></table></div>"
      ]
     },
     "metadata": {
      "application/vnd.databricks.v1+output": {
       "addedWidgets": {},
       "aggData": [],
       "aggError": "",
       "aggOverflow": false,
       "aggSchema": [],
       "aggSeriesLimitReached": false,
       "aggType": "",
       "arguments": {},
       "columnCustomDisplayInfos": {},
       "data": [
        [
         "Army of the Dead",
         "United States",
         "english"
        ],
        [
         "The Woman in the Window",
         "United States",
         "english"
        ],
        [
         "The Mitchells vs the Machines",
         "United States",
         "english"
        ],
        [
         "Blue Miracle",
         "United States",
         "english"
        ],
        [
         "Things Heard & Seen",
         "United States",
         "english"
        ],
        [
         "Stowaway",
         "Germany",
         "english"
        ],
        [
         "Don't Look Up",
         "United States",
         "english"
        ],
        [
         "I Am All Girls",
         "South Africa",
         "english"
        ],
        [
         "Hotel Transylvania: Transformania",
         "United States",
         "english"
        ],
        [
         "The Dig",
         "United Kingdom",
         "english"
        ],
        [
         "Thunder Force",
         "United States",
         "english"
        ],
        [
         "The Ice Road",
         "United States",
         "english"
        ],
        [
         "Gunpowder Milkshake",
         "France",
         "english"
        ],
        [
         "Fear Street",
         "United States",
         "english"
        ],
        [
         "The Nailbomber",
         "United Kingdom",
         "english"
        ],
        [
         "Awake",
         "United States",
         "english"
        ],
        [
         "Moxie",
         "United States",
         "english"
        ],
        [
         "Yes Day",
         "United States",
         "english"
        ],
        [
         "America: The Motion Picture",
         "United States",
         "english"
        ],
        [
         "Outside the Wire",
         "Hungary",
         "english"
        ],
        [
         "Red Notice",
         "United States",
         "english"
        ],
        [
         "Bad Trip",
         "United States",
         "english"
        ],
        [
         "Malcolm & Marie",
         "United States",
         "english"
        ],
        [
         "Finding 'Ohana",
         "United States",
         "english"
        ],
        [
         "Fatherhood",
         "United States",
         "english"
        ],
        [
         "Deadly Illusions",
         "United States",
         "english"
        ],
        [
         "Sing 2",
         "France",
         "english"
        ],
        [
         "A Week Away",
         "United States",
         "english"
        ],
        [
         "Blonde",
         "United States",
         "english"
        ],
        [
         "He's All That",
         "United States",
         "english"
        ],
        [
         "Seaspiracy",
         "United States",
         "english"
        ],
        [
         "Army of Thieves",
         "Germany",
         "english"
        ],
        [
         "Wish Dragon",
         "China",
         "english"
        ],
        [
         "To All the Boys: Always and Forever",
         "United States",
         "english"
        ],
        [
         "Good on Paper",
         "United States",
         "english"
        ],
        [
         "Escape From Spiderhead",
         "United States",
         "english"
        ],
        [
         "The Last Letter from Your Lover",
         "United Kingdom",
         "english"
        ],
        [
         "The Kissing Booth 3",
         "United Kingdom",
         "english"
        ],
        [
         "Sweet Girl",
         "United States",
         "english"
        ],
        [
         "Matilda",
         "United Kingdom",
         "english"
        ],
        [
         "Breaking Boundaries: The Science of Our Planet",
         "United States",
         "english"
        ],
        [
         "tick, tick...Boom!",
         "United States",
         "english"
        ],
        [
         "Secret Magic Control Agency",
         "Russia",
         "english"
        ],
        [
         "Vivo",
         "Canada",
         "english"
        ],
        [
         "The Guilty",
         "United States",
         "english"
        ],
        [
         "The Power of the Dog",
         "United Kingdom",
         "english"
        ],
        [
         "Skater Girl",
         "United States",
         "english"
        ],
        [
         "Trippin' with the Kandasamys",
         "South Africa",
         "english"
        ],
        [
         "Trollhunters: Rise of the Titans",
         "United States",
         "english"
        ],
        [
         "Fear Street 2",
         "United States",
         "english"
        ],
        [
         "Kate",
         "United States",
         "english"
        ],
        [
         "The Loud House",
         "Spain",
         "english"
        ],
        [
         "Operation Varsity Blues: The College Admissions Scandal",
         "United States",
         "english"
        ],
        [
         "Hating Peter Tatchell",
         "Australia",
         "english"
        ],
        [
         "Fear Street 3",
         "United States",
         "english"
        ],
        [
         "The Harder They Fall",
         "United States",
         "english"
        ],
        [
         "Passing",
         "United Kingdom",
         "english"
        ],
        [
         "Munich",
         "United Kingdom",
         "english"
        ],
        [
         "A Boy Called Christmas",
         "United Kingdom",
         "english"
        ],
        [
         "A Jazzman's Blues",
         "United States",
         "english"
        ],
        [
         "Untitled Sandra Bullock/Nora Fingscheidt Project",
         "United Kingdom",
         "english"
        ],
        [
         "Night Teeth",
         "United States",
         "english"
        ],
        [
         "In Our Mothers' Gardens",
         "United States",
         "english"
        ],
        [
         "The Witcher: Nightmare of the Wolf",
         "United States",
         "english"
        ],
        [
         "Back to the Outback",
         "United States",
         "english"
        ],
        [
         "There's Someone Inside Your House",
         "United States",
         "english"
        ],
        [
         "Biggie: I Got a Story to Tell",
         "United States",
         "english"
        ],
        [
         "Metal Lords",
         "United States",
         "english"
        ],
        [
         "Pelé",
         "United Kingdom",
         "english"
        ],
        [
         "The Minimalists: Less Is Now",
         "United States",
         "english"
        ],
        [
         "Beauty",
         "United States",
         "english"
        ],
        [
         "The Princess Switch 3",
         "United States",
         "english"
        ],
        [
         "Love Hard",
         "United States",
         "english"
        ],
        [
         "Strip Down, Rise Up",
         "United States",
         "english"
        ],
        [
         "Rise of the Teenage Mutant Ninja Turtles",
         "United States",
         "english"
        ],
        [
         "Nightbooks",
         "United States",
         "english"
        ],
        [
         "Crack: Cocaine, Corruption & Conspiracy",
         "United States",
         "english"
        ],
        [
         "Against the Ice",
         "United States",
         "english"
        ],
        [
         "Resort to Love",
         "United States",
         "english"
        ],
        [
         "A Castle for Christmas",
         "United States",
         "english"
        ],
        [
         "Pray Away",
         "United States",
         "english"
        ],
        [
         "Single All the Way",
         "United States",
         "english"
        ],
        [
         "Sisters on Track",
         "United States",
         "english"
        ],
        [
         "Intrusion",
         "United States",
         "english"
        ],
        [
         "Accomplice",
         "United States",
         "english"
        ],
        [
         "Hypnotic",
         "United States",
         "english"
        ],
        [
         "Diana",
         "United States",
         "english"
        ],
        [
         "Headspace: Unwind Your Mind",
         "United States",
         "english"
        ],
        [
         "Bob Ross: Happy Accidents, Betrayal & Greed",
         "United States",
         "english"
        ],
        [
         "Kane Chonicles",
         "United States",
         "english"
        ],
        [
         "Untitled Netflix Family Comedy 2021",
         "United States",
         "english"
        ],
        [
         "Untitled Boeing 737 Max/Rory Kennedy Project",
         "United States",
         "english"
        ],
        [
         "Happiness Ever After",
         "South Africa",
         "english"
        ],
        [
         "Love and Monsters",
         "Canada",
         "english"
        ],
        [
         "I Care a Lot",
         "United States",
         "english"
        ],
        [
         "Eurovision Song Contest: The Story of Fire Saga",
         "United States",
         "english"
        ],
        [
         "The Devil All the Time",
         "United States",
         "english"
        ],
        [
         "Honest Thief",
         "United States",
         "english"
        ],
        [
         "Run",
         "United States",
         "english"
        ],
        [
         "News of the World",
         "United States",
         "english"
        ],
        [
         "Enola Holmes",
         "United Kingdom",
         "english"
        ],
        [
         "The Trial of the Chicago 7",
         "United States",
         "english"
        ],
        [
         "The Water Man",
         "United States",
         "english"
        ],
        [
         "Breach",
         "Canada",
         "english"
        ],
        [
         "The Old Guard",
         "United States",
         "english"
        ],
        [
         "Extraction",
         "United States",
         "english"
        ],
        [
         "Spenser Confidential",
         "United States",
         "english"
        ],
        [
         "Mank",
         "United States",
         "english"
        ],
        [
         "Hillbilly Elegy",
         "United States",
         "english"
        ],
        [
         "Rebecca",
         "United Kingdom",
         "english"
        ],
        [
         "I'm Thinking of Ending Things",
         "United States",
         "english"
        ],
        [
         "Pieces of a Woman",
         "Canada",
         "english"
        ],
        [
         "My Octopus Teacher",
         "South Africa",
         "english"
        ],
        [
         "Fantasy Island",
         "United States",
         "english"
        ],
        [
         "The Wrong Missy",
         "United States",
         "english"
        ],
        [
         "The Midnight Sky",
         "United States",
         "english"
        ],
        [
         "We Can Be Heroes",
         "United States",
         "english"
        ],
        [
         "Project Power",
         "United States",
         "english"
        ],
        [
         "The Babysitter: Killer Queen",
         "United States",
         "english"
        ],
        [
         "His House",
         "United Kingdom",
         "english"
        ],
        [
         "Ma Rainey's Black Bottom",
         "United States",
         "english"
        ],
        [
         "Hubie Halloween",
         "United States",
         "english"
        ],
        [
         "Concrete Cowboy",
         "United Kingdom",
         "english"
        ],
        [
         "All the Bright Places",
         "United States",
         "english"
        ],
        [
         "Holidate",
         "United States",
         "english"
        ],
        [
         "2067",
         "Australia",
         "english"
        ],
        [
         "Force of Nature",
         "United States",
         "english"
        ],
        [
         "Da 5 Bloods",
         "United States",
         "english"
        ],
        [
         "The SpongeBob Movie: Sponge on the Run",
         "United States",
         "english"
        ],
        [
         "Jungle Beat: The Movie",
         "Mauritius",
         "english"
        ],
        [
         "Penguin Bloom",
         "Australia",
         "english"
        ],
        [
         "Over the Moon",
         "China",
         "english"
        ],
        [
         "Love Wedding Repeat",
         "United Kingdom",
         "english"
        ],
        [
         "The Prom",
         "United States",
         "english"
        ],
        [
         "The Kissing Booth 2",
         "United Kingdom",
         "english"
        ],
        [
         "Lost Girls",
         "United States",
         "english"
        ],
        [
         "The Stand In",
         "United States",
         "english"
        ],
        [
         "The Last Thing He Wanted",
         "United States",
         "english"
        ],
        [
         "The Social Dilemma",
         "United States",
         "english"
        ],
        [
         "Horse Girl",
         "United States",
         "english"
        ],
        [
         "The Sleepover",
         "United States",
         "english"
        ],
        [
         "The Boys in the Band",
         "United States",
         "english"
        ],
        [
         "The Last Days of American Crime",
         "United States",
         "english"
        ],
        [
         "Love, Guaranteed",
         "United States",
         "english"
        ],
        [
         "The Willoughbys",
         "Canada",
         "english"
        ],
        [
         "Feel the Beat",
         "United States",
         "english"
        ],
        [
         "American Murder: The Family Next Door",
         "United States",
         "english"
        ],
        [
         "Work It",
         "United States",
         "english"
        ],
        [
         "The Lovebirds",
         "United States",
         "english"
        ],
        [
         "Sightless",
         "United States",
         "english"
        ],
        [
         "Dangerous Lies",
         "United States",
         "english"
        ],
        [
         "The F**k-It List",
         "United States",
         "english"
        ],
        [
         "A Fall from Grace",
         "United States",
         "english"
        ],
        [
         "Vampires vs. the Bronx",
         "United States",
         "english"
        ],
        [
         "Think Like a Dog",
         "China",
         "english"
        ],
        [
         "To All the Boys: P.S. I Still Love You",
         "United States",
         "english"
        ],
        [
         "Desperados",
         "United States",
         "english"
        ],
        [
         "A Babysitter's Guide to Monster Hunting",
         "United States",
         "english"
        ],
        [
         "Sergio",
         "United States",
         "english"
        ],
        [
         "Roped",
         "United States",
         "english"
        ],
        [
         "David Attenborough: A Life on Our Planet",
         "United Kingdom",
         "english"
        ],
        [
         "The Debt Collector 2",
         "United States",
         "english"
        ],
        [
         "A California Christmas",
         "United States",
         "english"
        ],
        [
         "All Together Now",
         "United States",
         "english"
        ],
        [
         "The Christmas Chronicles: Part Two",
         "United States",
         "english"
        ],
        [
         "The Princess Switch: Switched Again",
         "United States",
         "english"
        ],
        [
         "Crip Camp",
         "United States",
         "english"
        ],
        [
         "Lady Driver",
         "United States",
         "english"
        ],
        [
         "Coffee & Kareem",
         "United States",
         "english"
        ],
        [
         "Fatal Affair",
         "United States",
         "english"
        ],
        [
         "Wheels of Fortune",
         "United States",
         "english"
        ],
        [
         "Kiss the Ground",
         "United States",
         "english"
        ],
        [
         "The Forty-Year-Old Version",
         "United States",
         "english"
        ],
        [
         "The Main Event",
         "United States",
         "english"
        ],
        [
         "Made You Look: A True Story About Fake Art",
         "Canada",
         "english"
        ],
        [
         "The Fisherman's Diary",
         "Cameroon",
         "english"
        ],
        [
         "Serious Men",
         "India",
         "english"
        ],
        [
         "Uncorked",
         "United States",
         "english"
        ],
        [
         "Midnight at the Magnolia",
         "Canada",
         "english"
        ],
        [
         "All Day and a Night",
         "United States",
         "english"
        ],
        [
         "Operation Christmas Drop",
         "United States",
         "english"
        ],
        [
         "Jingle Jangle: A Christmas Journey",
         "United States",
         "english"
        ],
        [
         "Bruised",
         "United States",
         "english"
        ],
        [
         "What Is Life Worth",
         "United States",
         "english"
        ],
        [
         "Have a Good Trip: Adventures in Psychedelics",
         "United States",
         "english"
        ],
        [
         "I Am Vengeance: Retaliation",
         "United Kingdom",
         "english"
        ],
        [
         "Miss Americana",
         "United States",
         "english"
        ],
        [
         "Dick Johnson Is Dead",
         "United States",
         "english"
        ],
        [
         "You Are My Home",
         "United States",
         "english"
        ],
        [
         "Tigertail",
         "United States",
         "english"
        ],
        [
         "Go!",
         "Australia",
         "english"
        ],
        [
         "Athlete A",
         "United States",
         "english"
        ],
        [
         "Secrets of the Saqqara Tomb",
         "United States",
         "english"
        ],
        [
         "Ricos de Amor",
         "Brazil",
         "english"
        ],
        [
         "A Secret Love",
         "United States",
         "english"
        ],
        [
         "Ariana Grande: Excuse Me, I Love You",
         "United States",
         "english"
        ],
        [
         "Malibu Rescue: The Next Wave",
         "United States",
         "english"
        ],
        [
         "Namaste Wahala",
         "Nigeria",
         "english"
        ],
        [
         "Citation",
         "Nigeria",
         "english"
        ],
        [
         "Farewell Amor",
         "United States",
         "english"
        ],
        [
         "Funny Boy",
         "Canada",
         "english"
        ],
        [
         "A New York Christmas Wedding",
         "United States",
         "english"
        ],
        [
         "Christmas on the Square",
         "United States",
         "english"
        ],
        [
         "Seriously Single",
         "South Africa",
         "english"
        ],
        [
         "Rising Phoenix",
         "United Kingdom",
         "english"
        ],
        [
         "Riding Faith",
         "United States",
         "english"
        ],
        [
         "Murder to Mercy: The Cyntoia Brown Story",
         "United States",
         "english"
        ],
        [
         "Becoming",
         "United States",
         "english"
        ],
        [
         "Not a Game",
         "United Kingdom",
         "english"
        ],
        [
         "Barbie Princess Adventure",
         "Netherlands",
         "english"
        ],
        [
         "Angela's Christmas Wish",
         "United States",
         "english"
        ],
        [
         "Father Soldier Son",
         "United States",
         "english"
        ],
        [
         "Uppity: The Willy T. Ribbs Story",
         "United States",
         "english"
        ],
        [
         "Maska",
         "India",
         "english"
        ],
        [
         "Octonauts & the Great Barrier Reef",
         "United Kingdom",
         "english"
        ],
        [
         "Shawn Mendes: In Wonder",
         "United States",
         "english"
        ],
        [
         "LA Originals",
         "United States",
         "english"
        ],
        [
         "Mucho Mucho Amor: The Legend of Walter Mercado",
         "United States",
         "english"
        ],
        [
         "Octonauts and the Caves of Sac Actun",
         "United Kingdom",
         "english"
        ],
        [
         "The Larva Island Movie",
         "South Korea",
         "english"
        ],
        [
         "André & His Olive Tree",
         "Singapore",
         "english"
        ],
        [
         "Dance Dreams: Hot Chocolate Nutcracker",
         "United States",
         "english"
        ],
        [
         "#cats_the_mewvie",
         "Canada",
         "english"
        ],
        [
         "Giving Voice",
         "United States",
         "english"
        ],
        [
         "The App That Stole Christmas",
         "United States",
         "english"
        ],
        [
         "Shawn Mendes: Live in Concert",
         "United Kingdom",
         "english"
        ],
        [
         "Thomas & Friends: Marvelous Machinery",
         "Canada",
         "english"
        ],
        [
         "The Magic School Bus Rides Again: Kids in Space",
         "United States",
         "english"
        ],
        [
         "Night on Earth: Shot in the Dark",
         "United Kingdom",
         "english"
        ],
        [
         "United Nation Three Decades of Drum & Bass",
         "United Kingdom",
         "english"
        ],
        [
         "Light in the Dark",
         "Nigeria",
         "english"
        ],
        [
         "Pemburu di Manchester Biru",
         "Indonesia",
         "english"
        ],
        [
         "Bigflo & Oli: Hip Hop Frenzy",
         "France",
         "english"
        ],
        [
         "Horrid Henry's Gross Day Out",
         "United Kingdom",
         "english"
        ],
        [
         "Last days on Earth",
         "United Kingdom",
         "english"
        ]
       ],
       "datasetInfos": [],
       "dbfsResultPath": null,
       "isJsonSchema": true,
       "metadata": {},
       "overflow": false,
       "plotOptions": {
        "customPlotOptions": {},
        "displayType": "table",
        "pivotAggregation": null,
        "pivotColumns": null,
        "xColumns": null,
        "yColumns": null
       },
       "removedWidgets": [],
       "schema": [
        {
         "metadata": "{}",
         "name": "title",
         "type": "\"string\""
        },
        {
         "metadata": "{}",
         "name": "origin_country",
         "type": "\"string\""
        },
        {
         "metadata": "{}",
         "name": "regexp_replace(language, En*, en, 1)",
         "type": "\"string\""
        }
       ],
       "type": "table"
      }
     },
     "output_type": "display_data"
    }
   ],
   "source": [
    "from pyspark.sql.functions import regexp_replace\n",
    "\n",
    "display(netflix_data.select('title', 'origin_country', regexp_replace('language', 'En*', 'en')))"
   ]
  },
  {
   "cell_type": "code",
   "execution_count": 0,
   "metadata": {
    "application/vnd.databricks.v1+cell": {
     "cellMetadata": {},
     "inputWidgets": {},
     "nuid": "dd869ca8-6e03-4729-9f17-6b521394c2a4",
     "showTitle": false,
     "title": ""
    }
   },
   "outputs": [
    {
     "data": {
      "text/html": [
       "<style scoped>\n",
       "  .table-result-container {\n",
       "    max-height: 300px;\n",
       "    overflow: auto;\n",
       "  }\n",
       "  table, th, td {\n",
       "    border: 1px solid black;\n",
       "    border-collapse: collapse;\n",
       "  }\n",
       "  th, td {\n",
       "    padding: 5px;\n",
       "  }\n",
       "  th {\n",
       "    text-align: left;\n",
       "  }\n",
       "</style><div class='table-result-container'><table class='table-result'><thead style='background-color: white'><tr><th>title</th><th>translate(title, io, 10)</th></tr></thead><tbody><tr><td>Army of the Dead</td><td>Army 0f the Dead</td></tr><tr><td>The Woman in the Window</td><td>The W0man 1n the W1nd0w</td></tr><tr><td>The Mitchells vs the Machines</td><td>The M1tchells vs the Mach1nes</td></tr><tr><td>Blue Miracle</td><td>Blue M1racle</td></tr><tr><td>Things Heard & Seen</td><td>Th1ngs Heard & Seen</td></tr><tr><td>Stowaway</td><td>St0waway</td></tr><tr><td>Don't Look Up</td><td>D0n't L00k Up</td></tr><tr><td>I Am All Girls</td><td>I Am All G1rls</td></tr><tr><td>Hotel Transylvania: Transformania</td><td>H0tel Transylvan1a: Transf0rman1a</td></tr><tr><td>The Dig</td><td>The D1g</td></tr><tr><td>Thunder Force</td><td>Thunder F0rce</td></tr><tr><td>The Ice Road</td><td>The Ice R0ad</td></tr><tr><td>Gunpowder Milkshake</td><td>Gunp0wder M1lkshake</td></tr><tr><td>Fear Street</td><td>Fear Street</td></tr><tr><td>The Nailbomber</td><td>The Na1lb0mber</td></tr><tr><td>Awake</td><td>Awake</td></tr><tr><td>Moxie</td><td>M0x1e</td></tr><tr><td>Yes Day</td><td>Yes Day</td></tr><tr><td>America: The Motion Picture</td><td>Amer1ca: The M0t10n P1cture</td></tr><tr><td>Outside the Wire</td><td>Outs1de the W1re</td></tr><tr><td>Red Notice</td><td>Red N0t1ce</td></tr><tr><td>Bad Trip</td><td>Bad Tr1p</td></tr><tr><td>Malcolm & Marie</td><td>Malc0lm & Mar1e</td></tr><tr><td>Finding 'Ohana</td><td>F1nd1ng 'Ohana</td></tr><tr><td>Fatherhood</td><td>Fatherh00d</td></tr><tr><td>Deadly Illusions</td><td>Deadly Illus10ns</td></tr><tr><td>Sing 2</td><td>S1ng 2</td></tr><tr><td>A Week Away</td><td>A Week Away</td></tr><tr><td>Blonde</td><td>Bl0nde</td></tr><tr><td>He's All That</td><td>He's All That</td></tr><tr><td>Seaspiracy</td><td>Seasp1racy</td></tr><tr><td>Army of Thieves</td><td>Army 0f Th1eves</td></tr><tr><td>Wish Dragon</td><td>W1sh Drag0n</td></tr><tr><td>To All the Boys: Always and Forever</td><td>T0 All the B0ys: Always and F0rever</td></tr><tr><td>Good on Paper</td><td>G00d 0n Paper</td></tr><tr><td>Escape From Spiderhead</td><td>Escape Fr0m Sp1derhead</td></tr><tr><td>The Last Letter from Your Lover</td><td>The Last Letter fr0m Y0ur L0ver</td></tr><tr><td>The Kissing Booth 3</td><td>The K1ss1ng B00th 3</td></tr><tr><td>Sweet Girl</td><td>Sweet G1rl</td></tr><tr><td>Matilda</td><td>Mat1lda</td></tr><tr><td>Breaking Boundaries: The Science of Our Planet</td><td>Break1ng B0undar1es: The Sc1ence 0f Our Planet</td></tr><tr><td>tick, tick...Boom!</td><td>t1ck, t1ck...B00m!</td></tr><tr><td>Secret Magic Control Agency</td><td>Secret Mag1c C0ntr0l Agency</td></tr><tr><td>Vivo</td><td>V1v0</td></tr><tr><td>The Guilty</td><td>The Gu1lty</td></tr><tr><td>The Power of the Dog</td><td>The P0wer 0f the D0g</td></tr><tr><td>Skater Girl</td><td>Skater G1rl</td></tr><tr><td>Trippin' with the Kandasamys</td><td>Tr1pp1n' w1th the Kandasamys</td></tr><tr><td>Trollhunters: Rise of the Titans</td><td>Tr0llhunters: R1se 0f the T1tans</td></tr><tr><td>Fear Street 2</td><td>Fear Street 2</td></tr><tr><td>Kate</td><td>Kate</td></tr><tr><td>The Loud House</td><td>The L0ud H0use</td></tr><tr><td>Operation Varsity Blues: The College Admissions Scandal</td><td>Operat10n Vars1ty Blues: The C0llege Adm1ss10ns Scandal</td></tr><tr><td>Hating Peter Tatchell</td><td>Hat1ng Peter Tatchell</td></tr><tr><td>Fear Street 3</td><td>Fear Street 3</td></tr><tr><td>The Harder They Fall</td><td>The Harder They Fall</td></tr><tr><td>Passing</td><td>Pass1ng</td></tr><tr><td>Munich</td><td>Mun1ch</td></tr><tr><td>A Boy Called Christmas</td><td>A B0y Called Chr1stmas</td></tr><tr><td>A Jazzman's Blues</td><td>A Jazzman's Blues</td></tr><tr><td>Untitled Sandra Bullock/Nora Fingscheidt Project</td><td>Unt1tled Sandra Bull0ck/N0ra F1ngsche1dt Pr0ject</td></tr><tr><td>Night Teeth</td><td>N1ght Teeth</td></tr><tr><td>In Our Mothers' Gardens</td><td>In Our M0thers' Gardens</td></tr><tr><td>The Witcher: Nightmare of the Wolf</td><td>The W1tcher: N1ghtmare 0f the W0lf</td></tr><tr><td>Back to the Outback</td><td>Back t0 the Outback</td></tr><tr><td>There's Someone Inside Your House</td><td>There's S0me0ne Ins1de Y0ur H0use</td></tr><tr><td>Biggie: I Got a Story to Tell</td><td>B1gg1e: I G0t a St0ry t0 Tell</td></tr><tr><td>Metal Lords</td><td>Metal L0rds</td></tr><tr><td>Pelé</td><td>Pelé</td></tr><tr><td>The Minimalists: Less Is Now</td><td>The M1n1mal1sts: Less Is N0w</td></tr><tr><td>Beauty</td><td>Beauty</td></tr><tr><td>The Princess Switch 3</td><td>The Pr1ncess Sw1tch 3</td></tr><tr><td>Love Hard</td><td>L0ve Hard</td></tr><tr><td>Strip Down, Rise Up</td><td>Str1p D0wn, R1se Up</td></tr><tr><td>Rise of the Teenage Mutant Ninja Turtles</td><td>R1se 0f the Teenage Mutant N1nja Turtles</td></tr><tr><td>Nightbooks</td><td>N1ghtb00ks</td></tr><tr><td>Crack: Cocaine, Corruption & Conspiracy</td><td>Crack: C0ca1ne, C0rrupt10n & C0nsp1racy</td></tr><tr><td>Against the Ice</td><td>Aga1nst the Ice</td></tr><tr><td>Resort to Love</td><td>Res0rt t0 L0ve</td></tr><tr><td>A Castle for Christmas</td><td>A Castle f0r Chr1stmas</td></tr><tr><td>Pray Away</td><td>Pray Away</td></tr><tr><td>Single All the Way</td><td>S1ngle All the Way</td></tr><tr><td>Sisters on Track</td><td>S1sters 0n Track</td></tr><tr><td>Intrusion</td><td>Intrus10n</td></tr><tr><td>Accomplice</td><td>Acc0mpl1ce</td></tr><tr><td>Hypnotic</td><td>Hypn0t1c</td></tr><tr><td>Diana</td><td>D1ana</td></tr><tr><td>Headspace: Unwind Your Mind</td><td>Headspace: Unw1nd Y0ur M1nd</td></tr><tr><td>Bob Ross: Happy Accidents, Betrayal & Greed</td><td>B0b R0ss: Happy Acc1dents, Betrayal & Greed</td></tr><tr><td>Kane Chonicles</td><td>Kane Ch0n1cles</td></tr><tr><td>Untitled Netflix Family Comedy 2021</td><td>Unt1tled Netfl1x Fam1ly C0medy 2021</td></tr><tr><td>Untitled Boeing 737 Max/Rory Kennedy Project</td><td>Unt1tled B0e1ng 737 Max/R0ry Kennedy Pr0ject</td></tr><tr><td>Happiness Ever After</td><td>Happ1ness Ever After</td></tr><tr><td>Love and Monsters</td><td>L0ve and M0nsters</td></tr><tr><td>I Care a Lot</td><td>I Care a L0t</td></tr><tr><td>Eurovision Song Contest: The Story of Fire Saga</td><td>Eur0v1s10n S0ng C0ntest: The St0ry 0f F1re Saga</td></tr><tr><td>The Devil All the Time</td><td>The Dev1l All the T1me</td></tr><tr><td>Honest Thief</td><td>H0nest Th1ef</td></tr><tr><td>Run</td><td>Run</td></tr><tr><td>News of the World</td><td>News 0f the W0rld</td></tr><tr><td>Enola Holmes</td><td>En0la H0lmes</td></tr><tr><td>The Trial of the Chicago 7</td><td>The Tr1al 0f the Ch1cag0 7</td></tr><tr><td>The Water Man</td><td>The Water Man</td></tr><tr><td>Breach</td><td>Breach</td></tr><tr><td>The Old Guard</td><td>The Old Guard</td></tr><tr><td>Extraction</td><td>Extract10n</td></tr><tr><td>Spenser Confidential</td><td>Spenser C0nf1dent1al</td></tr><tr><td>Mank</td><td>Mank</td></tr><tr><td>Hillbilly Elegy</td><td>H1llb1lly Elegy</td></tr><tr><td>Rebecca</td><td>Rebecca</td></tr><tr><td>I'm Thinking of Ending Things</td><td>I'm Th1nk1ng 0f End1ng Th1ngs</td></tr><tr><td>Pieces of a Woman</td><td>P1eces 0f a W0man</td></tr><tr><td>My Octopus Teacher</td><td>My Oct0pus Teacher</td></tr><tr><td>Fantasy Island</td><td>Fantasy Island</td></tr><tr><td>The Wrong Missy</td><td>The Wr0ng M1ssy</td></tr><tr><td>The Midnight Sky</td><td>The M1dn1ght Sky</td></tr><tr><td>We Can Be Heroes</td><td>We Can Be Her0es</td></tr><tr><td>Project Power</td><td>Pr0ject P0wer</td></tr><tr><td>The Babysitter: Killer Queen</td><td>The Babys1tter: K1ller Queen</td></tr><tr><td>His House</td><td>H1s H0use</td></tr><tr><td>Ma Rainey's Black Bottom</td><td>Ma Ra1ney's Black B0tt0m</td></tr><tr><td>Hubie Halloween</td><td>Hub1e Hall0ween</td></tr><tr><td>Concrete Cowboy</td><td>C0ncrete C0wb0y</td></tr><tr><td>All the Bright Places</td><td>All the Br1ght Places</td></tr><tr><td>Holidate</td><td>H0l1date</td></tr><tr><td>2067</td><td>2067</td></tr><tr><td>Force of Nature</td><td>F0rce 0f Nature</td></tr><tr><td>Da 5 Bloods</td><td>Da 5 Bl00ds</td></tr><tr><td>The SpongeBob Movie: Sponge on the Run</td><td>The Sp0ngeB0b M0v1e: Sp0nge 0n the Run</td></tr><tr><td>Jungle Beat: The Movie</td><td>Jungle Beat: The M0v1e</td></tr><tr><td>Penguin Bloom</td><td>Pengu1n Bl00m</td></tr><tr><td>Over the Moon</td><td>Over the M00n</td></tr><tr><td>Love Wedding Repeat</td><td>L0ve Wedd1ng Repeat</td></tr><tr><td>The Prom</td><td>The Pr0m</td></tr><tr><td>The Kissing Booth 2</td><td>The K1ss1ng B00th 2</td></tr><tr><td>Lost Girls</td><td>L0st G1rls</td></tr><tr><td>The Stand In</td><td>The Stand In</td></tr><tr><td>The Last Thing He Wanted</td><td>The Last Th1ng He Wanted</td></tr><tr><td>The Social Dilemma</td><td>The S0c1al D1lemma</td></tr><tr><td>Horse Girl</td><td>H0rse G1rl</td></tr><tr><td>The Sleepover</td><td>The Sleep0ver</td></tr><tr><td>The Boys in the Band</td><td>The B0ys 1n the Band</td></tr><tr><td>The Last Days of American Crime</td><td>The Last Days 0f Amer1can Cr1me</td></tr><tr><td>Love, Guaranteed</td><td>L0ve, Guaranteed</td></tr><tr><td>The Willoughbys</td><td>The W1ll0ughbys</td></tr><tr><td>Feel the Beat</td><td>Feel the Beat</td></tr><tr><td>American Murder: The Family Next Door</td><td>Amer1can Murder: The Fam1ly Next D00r</td></tr><tr><td>Work It</td><td>W0rk It</td></tr><tr><td>The Lovebirds</td><td>The L0veb1rds</td></tr><tr><td>Sightless</td><td>S1ghtless</td></tr><tr><td>Dangerous Lies</td><td>Danger0us L1es</td></tr><tr><td>The F**k-It List</td><td>The F**k-It L1st</td></tr><tr><td>A Fall from Grace</td><td>A Fall fr0m Grace</td></tr><tr><td>Vampires vs. the Bronx</td><td>Vamp1res vs. the Br0nx</td></tr><tr><td>Think Like a Dog</td><td>Th1nk L1ke a D0g</td></tr><tr><td>To All the Boys: P.S. I Still Love You</td><td>T0 All the B0ys: P.S. I St1ll L0ve Y0u</td></tr><tr><td>Desperados</td><td>Desperad0s</td></tr><tr><td>A Babysitter's Guide to Monster Hunting</td><td>A Babys1tter's Gu1de t0 M0nster Hunt1ng</td></tr><tr><td>Sergio</td><td>Serg10</td></tr><tr><td>Roped</td><td>R0ped</td></tr><tr><td>David Attenborough: A Life on Our Planet</td><td>Dav1d Attenb0r0ugh: A L1fe 0n Our Planet</td></tr><tr><td>The Debt Collector 2</td><td>The Debt C0llect0r 2</td></tr><tr><td>A California Christmas</td><td>A Cal1f0rn1a Chr1stmas</td></tr><tr><td>All Together Now</td><td>All T0gether N0w</td></tr><tr><td>The Christmas Chronicles: Part Two</td><td>The Chr1stmas Chr0n1cles: Part Tw0</td></tr><tr><td>The Princess Switch: Switched Again</td><td>The Pr1ncess Sw1tch: Sw1tched Aga1n</td></tr><tr><td>Crip Camp</td><td>Cr1p Camp</td></tr><tr><td>Lady Driver</td><td>Lady Dr1ver</td></tr><tr><td>Coffee & Kareem</td><td>C0ffee & Kareem</td></tr><tr><td>Fatal Affair</td><td>Fatal Affa1r</td></tr><tr><td>Wheels of Fortune</td><td>Wheels 0f F0rtune</td></tr><tr><td>Kiss the Ground</td><td>K1ss the Gr0und</td></tr><tr><td>The Forty-Year-Old Version</td><td>The F0rty-Year-Old Vers10n</td></tr><tr><td>The Main Event</td><td>The Ma1n Event</td></tr><tr><td>Made You Look: A True Story About Fake Art</td><td>Made Y0u L00k: A True St0ry Ab0ut Fake Art</td></tr><tr><td>The Fisherman's Diary</td><td>The F1sherman's D1ary</td></tr><tr><td>Serious Men</td><td>Ser10us Men</td></tr><tr><td>Uncorked</td><td>Unc0rked</td></tr><tr><td>Midnight at the Magnolia</td><td>M1dn1ght at the Magn0l1a</td></tr><tr><td>All Day and a Night</td><td>All Day and a N1ght</td></tr><tr><td>Operation Christmas Drop</td><td>Operat10n Chr1stmas Dr0p</td></tr><tr><td>Jingle Jangle: A Christmas Journey</td><td>J1ngle Jangle: A Chr1stmas J0urney</td></tr><tr><td>Bruised</td><td>Bru1sed</td></tr><tr><td>What Is Life Worth</td><td>What Is L1fe W0rth</td></tr><tr><td>Have a Good Trip: Adventures in Psychedelics</td><td>Have a G00d Tr1p: Adventures 1n Psychedel1cs</td></tr><tr><td>I Am Vengeance: Retaliation</td><td>I Am Vengeance: Retal1at10n</td></tr><tr><td>Miss Americana</td><td>M1ss Amer1cana</td></tr><tr><td>Dick Johnson Is Dead</td><td>D1ck J0hns0n Is Dead</td></tr><tr><td>You Are My Home</td><td>Y0u Are My H0me</td></tr><tr><td>Tigertail</td><td>T1gerta1l</td></tr><tr><td>Go!</td><td>G0!</td></tr><tr><td>Athlete A</td><td>Athlete A</td></tr><tr><td>Secrets of the Saqqara Tomb</td><td>Secrets 0f the Saqqara T0mb</td></tr><tr><td>Ricos de Amor</td><td>R1c0s de Am0r</td></tr><tr><td>A Secret Love</td><td>A Secret L0ve</td></tr><tr><td>Ariana Grande: Excuse Me, I Love You</td><td>Ar1ana Grande: Excuse Me, I L0ve Y0u</td></tr><tr><td>Malibu Rescue: The Next Wave</td><td>Mal1bu Rescue: The Next Wave</td></tr><tr><td>Namaste Wahala</td><td>Namaste Wahala</td></tr><tr><td>Citation</td><td>C1tat10n</td></tr><tr><td>Farewell Amor</td><td>Farewell Am0r</td></tr><tr><td>Funny Boy</td><td>Funny B0y</td></tr><tr><td>A New York Christmas Wedding</td><td>A New Y0rk Chr1stmas Wedd1ng</td></tr><tr><td>Christmas on the Square</td><td>Chr1stmas 0n the Square</td></tr><tr><td>Seriously Single</td><td>Ser10usly S1ngle</td></tr><tr><td>Rising Phoenix</td><td>R1s1ng Ph0en1x</td></tr><tr><td>Riding Faith</td><td>R1d1ng Fa1th</td></tr><tr><td>Murder to Mercy: The Cyntoia Brown Story</td><td>Murder t0 Mercy: The Cynt01a Br0wn St0ry</td></tr><tr><td>Becoming</td><td>Bec0m1ng</td></tr><tr><td>Not a Game</td><td>N0t a Game</td></tr><tr><td>Barbie Princess Adventure</td><td>Barb1e Pr1ncess Adventure</td></tr><tr><td>Angela's Christmas Wish</td><td>Angela's Chr1stmas W1sh</td></tr><tr><td>Father Soldier Son</td><td>Father S0ld1er S0n</td></tr><tr><td>Uppity: The Willy T. Ribbs Story</td><td>Upp1ty: The W1lly T. R1bbs St0ry</td></tr><tr><td>Maska</td><td>Maska</td></tr><tr><td>Octonauts & the Great Barrier Reef</td><td>Oct0nauts & the Great Barr1er Reef</td></tr><tr><td>Shawn Mendes: In Wonder</td><td>Shawn Mendes: In W0nder</td></tr><tr><td>LA Originals</td><td>LA Or1g1nals</td></tr><tr><td>Mucho Mucho Amor: The Legend of Walter Mercado</td><td>Much0 Much0 Am0r: The Legend 0f Walter Mercad0</td></tr><tr><td>Octonauts and the Caves of Sac Actun</td><td>Oct0nauts and the Caves 0f Sac Actun</td></tr><tr><td>The Larva Island Movie</td><td>The Larva Island M0v1e</td></tr><tr><td>André & His Olive Tree</td><td>André & H1s Ol1ve Tree</td></tr><tr><td>Dance Dreams: Hot Chocolate Nutcracker</td><td>Dance Dreams: H0t Ch0c0late Nutcracker</td></tr><tr><td>#cats_the_mewvie</td><td>#cats_the_mewv1e</td></tr><tr><td>Giving Voice</td><td>G1v1ng V01ce</td></tr><tr><td>The App That Stole Christmas</td><td>The App That St0le Chr1stmas</td></tr><tr><td>Shawn Mendes: Live in Concert</td><td>Shawn Mendes: L1ve 1n C0ncert</td></tr><tr><td>Thomas & Friends: Marvelous Machinery</td><td>Th0mas & Fr1ends: Marvel0us Mach1nery</td></tr><tr><td>The Magic School Bus Rides Again: Kids in Space</td><td>The Mag1c Sch00l Bus R1des Aga1n: K1ds 1n Space</td></tr><tr><td>Night on Earth: Shot in the Dark</td><td>N1ght 0n Earth: Sh0t 1n the Dark</td></tr><tr><td>United Nation Three Decades of Drum & Bass</td><td>Un1ted Nat10n Three Decades 0f Drum & Bass</td></tr><tr><td>Light in the Dark</td><td>L1ght 1n the Dark</td></tr><tr><td>Pemburu di Manchester Biru</td><td>Pemburu d1 Manchester B1ru</td></tr><tr><td>Bigflo & Oli: Hip Hop Frenzy</td><td>B1gfl0 & Ol1: H1p H0p Frenzy</td></tr><tr><td>Horrid Henry's Gross Day Out</td><td>H0rr1d Henry's Gr0ss Day Out</td></tr><tr><td>Last days on Earth</td><td>Last days 0n Earth</td></tr></tbody></table></div>"
      ]
     },
     "metadata": {
      "application/vnd.databricks.v1+output": {
       "addedWidgets": {},
       "aggData": [],
       "aggError": "",
       "aggOverflow": false,
       "aggSchema": [],
       "aggSeriesLimitReached": false,
       "aggType": "",
       "arguments": {},
       "columnCustomDisplayInfos": {},
       "data": [
        [
         "Army of the Dead",
         "Army 0f the Dead"
        ],
        [
         "The Woman in the Window",
         "The W0man 1n the W1nd0w"
        ],
        [
         "The Mitchells vs the Machines",
         "The M1tchells vs the Mach1nes"
        ],
        [
         "Blue Miracle",
         "Blue M1racle"
        ],
        [
         "Things Heard & Seen",
         "Th1ngs Heard & Seen"
        ],
        [
         "Stowaway",
         "St0waway"
        ],
        [
         "Don't Look Up",
         "D0n't L00k Up"
        ],
        [
         "I Am All Girls",
         "I Am All G1rls"
        ],
        [
         "Hotel Transylvania: Transformania",
         "H0tel Transylvan1a: Transf0rman1a"
        ],
        [
         "The Dig",
         "The D1g"
        ],
        [
         "Thunder Force",
         "Thunder F0rce"
        ],
        [
         "The Ice Road",
         "The Ice R0ad"
        ],
        [
         "Gunpowder Milkshake",
         "Gunp0wder M1lkshake"
        ],
        [
         "Fear Street",
         "Fear Street"
        ],
        [
         "The Nailbomber",
         "The Na1lb0mber"
        ],
        [
         "Awake",
         "Awake"
        ],
        [
         "Moxie",
         "M0x1e"
        ],
        [
         "Yes Day",
         "Yes Day"
        ],
        [
         "America: The Motion Picture",
         "Amer1ca: The M0t10n P1cture"
        ],
        [
         "Outside the Wire",
         "Outs1de the W1re"
        ],
        [
         "Red Notice",
         "Red N0t1ce"
        ],
        [
         "Bad Trip",
         "Bad Tr1p"
        ],
        [
         "Malcolm & Marie",
         "Malc0lm & Mar1e"
        ],
        [
         "Finding 'Ohana",
         "F1nd1ng 'Ohana"
        ],
        [
         "Fatherhood",
         "Fatherh00d"
        ],
        [
         "Deadly Illusions",
         "Deadly Illus10ns"
        ],
        [
         "Sing 2",
         "S1ng 2"
        ],
        [
         "A Week Away",
         "A Week Away"
        ],
        [
         "Blonde",
         "Bl0nde"
        ],
        [
         "He's All That",
         "He's All That"
        ],
        [
         "Seaspiracy",
         "Seasp1racy"
        ],
        [
         "Army of Thieves",
         "Army 0f Th1eves"
        ],
        [
         "Wish Dragon",
         "W1sh Drag0n"
        ],
        [
         "To All the Boys: Always and Forever",
         "T0 All the B0ys: Always and F0rever"
        ],
        [
         "Good on Paper",
         "G00d 0n Paper"
        ],
        [
         "Escape From Spiderhead",
         "Escape Fr0m Sp1derhead"
        ],
        [
         "The Last Letter from Your Lover",
         "The Last Letter fr0m Y0ur L0ver"
        ],
        [
         "The Kissing Booth 3",
         "The K1ss1ng B00th 3"
        ],
        [
         "Sweet Girl",
         "Sweet G1rl"
        ],
        [
         "Matilda",
         "Mat1lda"
        ],
        [
         "Breaking Boundaries: The Science of Our Planet",
         "Break1ng B0undar1es: The Sc1ence 0f Our Planet"
        ],
        [
         "tick, tick...Boom!",
         "t1ck, t1ck...B00m!"
        ],
        [
         "Secret Magic Control Agency",
         "Secret Mag1c C0ntr0l Agency"
        ],
        [
         "Vivo",
         "V1v0"
        ],
        [
         "The Guilty",
         "The Gu1lty"
        ],
        [
         "The Power of the Dog",
         "The P0wer 0f the D0g"
        ],
        [
         "Skater Girl",
         "Skater G1rl"
        ],
        [
         "Trippin' with the Kandasamys",
         "Tr1pp1n' w1th the Kandasamys"
        ],
        [
         "Trollhunters: Rise of the Titans",
         "Tr0llhunters: R1se 0f the T1tans"
        ],
        [
         "Fear Street 2",
         "Fear Street 2"
        ],
        [
         "Kate",
         "Kate"
        ],
        [
         "The Loud House",
         "The L0ud H0use"
        ],
        [
         "Operation Varsity Blues: The College Admissions Scandal",
         "Operat10n Vars1ty Blues: The C0llege Adm1ss10ns Scandal"
        ],
        [
         "Hating Peter Tatchell",
         "Hat1ng Peter Tatchell"
        ],
        [
         "Fear Street 3",
         "Fear Street 3"
        ],
        [
         "The Harder They Fall",
         "The Harder They Fall"
        ],
        [
         "Passing",
         "Pass1ng"
        ],
        [
         "Munich",
         "Mun1ch"
        ],
        [
         "A Boy Called Christmas",
         "A B0y Called Chr1stmas"
        ],
        [
         "A Jazzman's Blues",
         "A Jazzman's Blues"
        ],
        [
         "Untitled Sandra Bullock/Nora Fingscheidt Project",
         "Unt1tled Sandra Bull0ck/N0ra F1ngsche1dt Pr0ject"
        ],
        [
         "Night Teeth",
         "N1ght Teeth"
        ],
        [
         "In Our Mothers' Gardens",
         "In Our M0thers' Gardens"
        ],
        [
         "The Witcher: Nightmare of the Wolf",
         "The W1tcher: N1ghtmare 0f the W0lf"
        ],
        [
         "Back to the Outback",
         "Back t0 the Outback"
        ],
        [
         "There's Someone Inside Your House",
         "There's S0me0ne Ins1de Y0ur H0use"
        ],
        [
         "Biggie: I Got a Story to Tell",
         "B1gg1e: I G0t a St0ry t0 Tell"
        ],
        [
         "Metal Lords",
         "Metal L0rds"
        ],
        [
         "Pelé",
         "Pelé"
        ],
        [
         "The Minimalists: Less Is Now",
         "The M1n1mal1sts: Less Is N0w"
        ],
        [
         "Beauty",
         "Beauty"
        ],
        [
         "The Princess Switch 3",
         "The Pr1ncess Sw1tch 3"
        ],
        [
         "Love Hard",
         "L0ve Hard"
        ],
        [
         "Strip Down, Rise Up",
         "Str1p D0wn, R1se Up"
        ],
        [
         "Rise of the Teenage Mutant Ninja Turtles",
         "R1se 0f the Teenage Mutant N1nja Turtles"
        ],
        [
         "Nightbooks",
         "N1ghtb00ks"
        ],
        [
         "Crack: Cocaine, Corruption & Conspiracy",
         "Crack: C0ca1ne, C0rrupt10n & C0nsp1racy"
        ],
        [
         "Against the Ice",
         "Aga1nst the Ice"
        ],
        [
         "Resort to Love",
         "Res0rt t0 L0ve"
        ],
        [
         "A Castle for Christmas",
         "A Castle f0r Chr1stmas"
        ],
        [
         "Pray Away",
         "Pray Away"
        ],
        [
         "Single All the Way",
         "S1ngle All the Way"
        ],
        [
         "Sisters on Track",
         "S1sters 0n Track"
        ],
        [
         "Intrusion",
         "Intrus10n"
        ],
        [
         "Accomplice",
         "Acc0mpl1ce"
        ],
        [
         "Hypnotic",
         "Hypn0t1c"
        ],
        [
         "Diana",
         "D1ana"
        ],
        [
         "Headspace: Unwind Your Mind",
         "Headspace: Unw1nd Y0ur M1nd"
        ],
        [
         "Bob Ross: Happy Accidents, Betrayal & Greed",
         "B0b R0ss: Happy Acc1dents, Betrayal & Greed"
        ],
        [
         "Kane Chonicles",
         "Kane Ch0n1cles"
        ],
        [
         "Untitled Netflix Family Comedy 2021",
         "Unt1tled Netfl1x Fam1ly C0medy 2021"
        ],
        [
         "Untitled Boeing 737 Max/Rory Kennedy Project",
         "Unt1tled B0e1ng 737 Max/R0ry Kennedy Pr0ject"
        ],
        [
         "Happiness Ever After",
         "Happ1ness Ever After"
        ],
        [
         "Love and Monsters",
         "L0ve and M0nsters"
        ],
        [
         "I Care a Lot",
         "I Care a L0t"
        ],
        [
         "Eurovision Song Contest: The Story of Fire Saga",
         "Eur0v1s10n S0ng C0ntest: The St0ry 0f F1re Saga"
        ],
        [
         "The Devil All the Time",
         "The Dev1l All the T1me"
        ],
        [
         "Honest Thief",
         "H0nest Th1ef"
        ],
        [
         "Run",
         "Run"
        ],
        [
         "News of the World",
         "News 0f the W0rld"
        ],
        [
         "Enola Holmes",
         "En0la H0lmes"
        ],
        [
         "The Trial of the Chicago 7",
         "The Tr1al 0f the Ch1cag0 7"
        ],
        [
         "The Water Man",
         "The Water Man"
        ],
        [
         "Breach",
         "Breach"
        ],
        [
         "The Old Guard",
         "The Old Guard"
        ],
        [
         "Extraction",
         "Extract10n"
        ],
        [
         "Spenser Confidential",
         "Spenser C0nf1dent1al"
        ],
        [
         "Mank",
         "Mank"
        ],
        [
         "Hillbilly Elegy",
         "H1llb1lly Elegy"
        ],
        [
         "Rebecca",
         "Rebecca"
        ],
        [
         "I'm Thinking of Ending Things",
         "I'm Th1nk1ng 0f End1ng Th1ngs"
        ],
        [
         "Pieces of a Woman",
         "P1eces 0f a W0man"
        ],
        [
         "My Octopus Teacher",
         "My Oct0pus Teacher"
        ],
        [
         "Fantasy Island",
         "Fantasy Island"
        ],
        [
         "The Wrong Missy",
         "The Wr0ng M1ssy"
        ],
        [
         "The Midnight Sky",
         "The M1dn1ght Sky"
        ],
        [
         "We Can Be Heroes",
         "We Can Be Her0es"
        ],
        [
         "Project Power",
         "Pr0ject P0wer"
        ],
        [
         "The Babysitter: Killer Queen",
         "The Babys1tter: K1ller Queen"
        ],
        [
         "His House",
         "H1s H0use"
        ],
        [
         "Ma Rainey's Black Bottom",
         "Ma Ra1ney's Black B0tt0m"
        ],
        [
         "Hubie Halloween",
         "Hub1e Hall0ween"
        ],
        [
         "Concrete Cowboy",
         "C0ncrete C0wb0y"
        ],
        [
         "All the Bright Places",
         "All the Br1ght Places"
        ],
        [
         "Holidate",
         "H0l1date"
        ],
        [
         "2067",
         "2067"
        ],
        [
         "Force of Nature",
         "F0rce 0f Nature"
        ],
        [
         "Da 5 Bloods",
         "Da 5 Bl00ds"
        ],
        [
         "The SpongeBob Movie: Sponge on the Run",
         "The Sp0ngeB0b M0v1e: Sp0nge 0n the Run"
        ],
        [
         "Jungle Beat: The Movie",
         "Jungle Beat: The M0v1e"
        ],
        [
         "Penguin Bloom",
         "Pengu1n Bl00m"
        ],
        [
         "Over the Moon",
         "Over the M00n"
        ],
        [
         "Love Wedding Repeat",
         "L0ve Wedd1ng Repeat"
        ],
        [
         "The Prom",
         "The Pr0m"
        ],
        [
         "The Kissing Booth 2",
         "The K1ss1ng B00th 2"
        ],
        [
         "Lost Girls",
         "L0st G1rls"
        ],
        [
         "The Stand In",
         "The Stand In"
        ],
        [
         "The Last Thing He Wanted",
         "The Last Th1ng He Wanted"
        ],
        [
         "The Social Dilemma",
         "The S0c1al D1lemma"
        ],
        [
         "Horse Girl",
         "H0rse G1rl"
        ],
        [
         "The Sleepover",
         "The Sleep0ver"
        ],
        [
         "The Boys in the Band",
         "The B0ys 1n the Band"
        ],
        [
         "The Last Days of American Crime",
         "The Last Days 0f Amer1can Cr1me"
        ],
        [
         "Love, Guaranteed",
         "L0ve, Guaranteed"
        ],
        [
         "The Willoughbys",
         "The W1ll0ughbys"
        ],
        [
         "Feel the Beat",
         "Feel the Beat"
        ],
        [
         "American Murder: The Family Next Door",
         "Amer1can Murder: The Fam1ly Next D00r"
        ],
        [
         "Work It",
         "W0rk It"
        ],
        [
         "The Lovebirds",
         "The L0veb1rds"
        ],
        [
         "Sightless",
         "S1ghtless"
        ],
        [
         "Dangerous Lies",
         "Danger0us L1es"
        ],
        [
         "The F**k-It List",
         "The F**k-It L1st"
        ],
        [
         "A Fall from Grace",
         "A Fall fr0m Grace"
        ],
        [
         "Vampires vs. the Bronx",
         "Vamp1res vs. the Br0nx"
        ],
        [
         "Think Like a Dog",
         "Th1nk L1ke a D0g"
        ],
        [
         "To All the Boys: P.S. I Still Love You",
         "T0 All the B0ys: P.S. I St1ll L0ve Y0u"
        ],
        [
         "Desperados",
         "Desperad0s"
        ],
        [
         "A Babysitter's Guide to Monster Hunting",
         "A Babys1tter's Gu1de t0 M0nster Hunt1ng"
        ],
        [
         "Sergio",
         "Serg10"
        ],
        [
         "Roped",
         "R0ped"
        ],
        [
         "David Attenborough: A Life on Our Planet",
         "Dav1d Attenb0r0ugh: A L1fe 0n Our Planet"
        ],
        [
         "The Debt Collector 2",
         "The Debt C0llect0r 2"
        ],
        [
         "A California Christmas",
         "A Cal1f0rn1a Chr1stmas"
        ],
        [
         "All Together Now",
         "All T0gether N0w"
        ],
        [
         "The Christmas Chronicles: Part Two",
         "The Chr1stmas Chr0n1cles: Part Tw0"
        ],
        [
         "The Princess Switch: Switched Again",
         "The Pr1ncess Sw1tch: Sw1tched Aga1n"
        ],
        [
         "Crip Camp",
         "Cr1p Camp"
        ],
        [
         "Lady Driver",
         "Lady Dr1ver"
        ],
        [
         "Coffee & Kareem",
         "C0ffee & Kareem"
        ],
        [
         "Fatal Affair",
         "Fatal Affa1r"
        ],
        [
         "Wheels of Fortune",
         "Wheels 0f F0rtune"
        ],
        [
         "Kiss the Ground",
         "K1ss the Gr0und"
        ],
        [
         "The Forty-Year-Old Version",
         "The F0rty-Year-Old Vers10n"
        ],
        [
         "The Main Event",
         "The Ma1n Event"
        ],
        [
         "Made You Look: A True Story About Fake Art",
         "Made Y0u L00k: A True St0ry Ab0ut Fake Art"
        ],
        [
         "The Fisherman's Diary",
         "The F1sherman's D1ary"
        ],
        [
         "Serious Men",
         "Ser10us Men"
        ],
        [
         "Uncorked",
         "Unc0rked"
        ],
        [
         "Midnight at the Magnolia",
         "M1dn1ght at the Magn0l1a"
        ],
        [
         "All Day and a Night",
         "All Day and a N1ght"
        ],
        [
         "Operation Christmas Drop",
         "Operat10n Chr1stmas Dr0p"
        ],
        [
         "Jingle Jangle: A Christmas Journey",
         "J1ngle Jangle: A Chr1stmas J0urney"
        ],
        [
         "Bruised",
         "Bru1sed"
        ],
        [
         "What Is Life Worth",
         "What Is L1fe W0rth"
        ],
        [
         "Have a Good Trip: Adventures in Psychedelics",
         "Have a G00d Tr1p: Adventures 1n Psychedel1cs"
        ],
        [
         "I Am Vengeance: Retaliation",
         "I Am Vengeance: Retal1at10n"
        ],
        [
         "Miss Americana",
         "M1ss Amer1cana"
        ],
        [
         "Dick Johnson Is Dead",
         "D1ck J0hns0n Is Dead"
        ],
        [
         "You Are My Home",
         "Y0u Are My H0me"
        ],
        [
         "Tigertail",
         "T1gerta1l"
        ],
        [
         "Go!",
         "G0!"
        ],
        [
         "Athlete A",
         "Athlete A"
        ],
        [
         "Secrets of the Saqqara Tomb",
         "Secrets 0f the Saqqara T0mb"
        ],
        [
         "Ricos de Amor",
         "R1c0s de Am0r"
        ],
        [
         "A Secret Love",
         "A Secret L0ve"
        ],
        [
         "Ariana Grande: Excuse Me, I Love You",
         "Ar1ana Grande: Excuse Me, I L0ve Y0u"
        ],
        [
         "Malibu Rescue: The Next Wave",
         "Mal1bu Rescue: The Next Wave"
        ],
        [
         "Namaste Wahala",
         "Namaste Wahala"
        ],
        [
         "Citation",
         "C1tat10n"
        ],
        [
         "Farewell Amor",
         "Farewell Am0r"
        ],
        [
         "Funny Boy",
         "Funny B0y"
        ],
        [
         "A New York Christmas Wedding",
         "A New Y0rk Chr1stmas Wedd1ng"
        ],
        [
         "Christmas on the Square",
         "Chr1stmas 0n the Square"
        ],
        [
         "Seriously Single",
         "Ser10usly S1ngle"
        ],
        [
         "Rising Phoenix",
         "R1s1ng Ph0en1x"
        ],
        [
         "Riding Faith",
         "R1d1ng Fa1th"
        ],
        [
         "Murder to Mercy: The Cyntoia Brown Story",
         "Murder t0 Mercy: The Cynt01a Br0wn St0ry"
        ],
        [
         "Becoming",
         "Bec0m1ng"
        ],
        [
         "Not a Game",
         "N0t a Game"
        ],
        [
         "Barbie Princess Adventure",
         "Barb1e Pr1ncess Adventure"
        ],
        [
         "Angela's Christmas Wish",
         "Angela's Chr1stmas W1sh"
        ],
        [
         "Father Soldier Son",
         "Father S0ld1er S0n"
        ],
        [
         "Uppity: The Willy T. Ribbs Story",
         "Upp1ty: The W1lly T. R1bbs St0ry"
        ],
        [
         "Maska",
         "Maska"
        ],
        [
         "Octonauts & the Great Barrier Reef",
         "Oct0nauts & the Great Barr1er Reef"
        ],
        [
         "Shawn Mendes: In Wonder",
         "Shawn Mendes: In W0nder"
        ],
        [
         "LA Originals",
         "LA Or1g1nals"
        ],
        [
         "Mucho Mucho Amor: The Legend of Walter Mercado",
         "Much0 Much0 Am0r: The Legend 0f Walter Mercad0"
        ],
        [
         "Octonauts and the Caves of Sac Actun",
         "Oct0nauts and the Caves 0f Sac Actun"
        ],
        [
         "The Larva Island Movie",
         "The Larva Island M0v1e"
        ],
        [
         "André & His Olive Tree",
         "André & H1s Ol1ve Tree"
        ],
        [
         "Dance Dreams: Hot Chocolate Nutcracker",
         "Dance Dreams: H0t Ch0c0late Nutcracker"
        ],
        [
         "#cats_the_mewvie",
         "#cats_the_mewv1e"
        ],
        [
         "Giving Voice",
         "G1v1ng V01ce"
        ],
        [
         "The App That Stole Christmas",
         "The App That St0le Chr1stmas"
        ],
        [
         "Shawn Mendes: Live in Concert",
         "Shawn Mendes: L1ve 1n C0ncert"
        ],
        [
         "Thomas & Friends: Marvelous Machinery",
         "Th0mas & Fr1ends: Marvel0us Mach1nery"
        ],
        [
         "The Magic School Bus Rides Again: Kids in Space",
         "The Mag1c Sch00l Bus R1des Aga1n: K1ds 1n Space"
        ],
        [
         "Night on Earth: Shot in the Dark",
         "N1ght 0n Earth: Sh0t 1n the Dark"
        ],
        [
         "United Nation Three Decades of Drum & Bass",
         "Un1ted Nat10n Three Decades 0f Drum & Bass"
        ],
        [
         "Light in the Dark",
         "L1ght 1n the Dark"
        ],
        [
         "Pemburu di Manchester Biru",
         "Pemburu d1 Manchester B1ru"
        ],
        [
         "Bigflo & Oli: Hip Hop Frenzy",
         "B1gfl0 & Ol1: H1p H0p Frenzy"
        ],
        [
         "Horrid Henry's Gross Day Out",
         "H0rr1d Henry's Gr0ss Day Out"
        ],
        [
         "Last days on Earth",
         "Last days 0n Earth"
        ]
       ],
       "datasetInfos": [],
       "dbfsResultPath": null,
       "isJsonSchema": true,
       "metadata": {},
       "overflow": false,
       "plotOptions": {
        "customPlotOptions": {},
        "displayType": "table",
        "pivotAggregation": null,
        "pivotColumns": null,
        "xColumns": null,
        "yColumns": null
       },
       "removedWidgets": [],
       "schema": [
        {
         "metadata": "{}",
         "name": "title",
         "type": "\"string\""
        },
        {
         "metadata": "{}",
         "name": "translate(title, io, 10)",
         "type": "\"string\""
        }
       ],
       "type": "table"
      }
     },
     "output_type": "display_data"
    }
   ],
   "source": [
    "from pyspark.sql.functions import translate\n",
    "\n",
    "display(netflix_data.select('title', translate('title', 'io', '10')))"
   ]
  },
  {
   "cell_type": "code",
   "execution_count": 0,
   "metadata": {
    "application/vnd.databricks.v1+cell": {
     "cellMetadata": {},
     "inputWidgets": {},
     "nuid": "809f0d61-66f9-41ac-9f90-3dee666cff99",
     "showTitle": false,
     "title": ""
    }
   },
   "outputs": [
    {
     "data": {
      "text/html": [
       "<style scoped>\n",
       "  .ansiout {\n",
       "    display: block;\n",
       "    unicode-bidi: embed;\n",
       "    white-space: pre-wrap;\n",
       "    word-wrap: break-word;\n",
       "    word-break: break-all;\n",
       "    font-family: \"Source Code Pro\", \"Menlo\", monospace;;\n",
       "    font-size: 13px;\n",
       "    color: #555;\n",
       "    margin-left: 4px;\n",
       "    line-height: 19px;\n",
       "  }\n",
       "</style>\n",
       "<div class=\"ansiout\">Out[34]: 0.3233840451451909</div>"
      ]
     },
     "metadata": {
      "application/vnd.databricks.v1+output": {
       "addedWidgets": {},
       "arguments": {},
       "data": "<div class=\"ansiout\">Out[34]: 0.3233840451451909</div>",
       "datasetInfos": [],
       "metadata": {},
       "removedWidgets": [],
       "type": "html"
      }
     },
     "output_type": "display_data"
    }
   ],
   "source": [
    "netflix_data.stat.corr('rating', 'numVotes')"
   ]
  },
  {
   "cell_type": "code",
   "execution_count": 0,
   "metadata": {
    "application/vnd.databricks.v1+cell": {
     "cellMetadata": {},
     "inputWidgets": {},
     "nuid": "415f8d10-ab83-47e0-a507-04272d2b7c2f",
     "showTitle": false,
     "title": ""
    }
   },
   "outputs": [
    {
     "data": {
      "text/html": [
       "<style scoped>\n",
       "  .ansiout {\n",
       "    display: block;\n",
       "    unicode-bidi: embed;\n",
       "    white-space: pre-wrap;\n",
       "    word-wrap: break-word;\n",
       "    word-break: break-all;\n",
       "    font-family: \"Source Code Pro\", \"Menlo\", monospace;;\n",
       "    font-size: 13px;\n",
       "    color: #555;\n",
       "    margin-left: 4px;\n",
       "    line-height: 19px;\n",
       "  }\n",
       "</style>\n",
       "<div class=\"ansiout\">Out[35]: 25143.949063466087</div>"
      ]
     },
     "metadata": {
      "application/vnd.databricks.v1+output": {
       "addedWidgets": {},
       "arguments": {},
       "data": "<div class=\"ansiout\">Out[35]: 25143.949063466087</div>",
       "datasetInfos": [],
       "metadata": {},
       "removedWidgets": [],
       "type": "html"
      }
     },
     "output_type": "display_data"
    }
   ],
   "source": [
    "netflix_data.stat.cov('rating', 'numVotes')"
   ]
  },
  {
   "cell_type": "code",
   "execution_count": 0,
   "metadata": {
    "application/vnd.databricks.v1+cell": {
     "cellMetadata": {},
     "inputWidgets": {},
     "nuid": "16919cd3-6958-4d3f-8291-cb7e0c214aca",
     "showTitle": false,
     "title": ""
    }
   },
   "outputs": [],
   "source": []
  },
  {
   "cell_type": "code",
   "execution_count": 0,
   "metadata": {
    "application/vnd.databricks.v1+cell": {
     "cellMetadata": {},
     "inputWidgets": {},
     "nuid": "f26c12a8-6b55-43fc-bc69-d74c25784900",
     "showTitle": false,
     "title": ""
    }
   },
   "outputs": [],
   "source": []
  },
  {
   "cell_type": "code",
   "execution_count": 0,
   "metadata": {
    "application/vnd.databricks.v1+cell": {
     "cellMetadata": {},
     "inputWidgets": {},
     "nuid": "7a4885d5-e604-479c-9db5-f305e3c13bac",
     "showTitle": false,
     "title": ""
    }
   },
   "outputs": [],
   "source": []
  },
  {
   "cell_type": "code",
   "execution_count": 0,
   "metadata": {
    "application/vnd.databricks.v1+cell": {
     "cellMetadata": {},
     "inputWidgets": {},
     "nuid": "ef256e73-e859-4346-a1ef-d6df8286e2d7",
     "showTitle": false,
     "title": ""
    }
   },
   "outputs": [],
   "source": []
  }
 ],
 "metadata": {
  "application/vnd.databricks.v1+notebook": {
   "dashboards": [],
   "language": "python",
   "notebookMetadata": {
    "pythonIndentUnit": 2
   },
   "notebookName": "GSwASonD",
   "widgets": {}
  },
  "language_info": {
   "name": "python"
  }
 },
 "nbformat": 4,
 "nbformat_minor": 0
}
