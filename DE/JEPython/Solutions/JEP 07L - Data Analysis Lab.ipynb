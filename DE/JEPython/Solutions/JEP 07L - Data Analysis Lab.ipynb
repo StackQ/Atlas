{
 "cells": [
  {
   "cell_type": "markdown",
   "metadata": {
    "application/vnd.databricks.v1+cell": {
     "cellMetadata": {},
     "inputWidgets": {},
     "nuid": "f73fa653-8bf0-4d70-a332-adc2b4d885b9",
     "showTitle": false,
     "title": ""
    }
   },
   "source": [
    "\n",
    "<div style=\"text-align: center; line-height: 0; padding-top: 9px;\">\n",
    "  <img src=\"https://databricks.com/wp-content/uploads/2018/03/db-academy-rgb-1200px.png\" alt=\"Databricks Learning\" style=\"width: 600px\">\n",
    "</div>"
   ]
  },
  {
   "cell_type": "markdown",
   "metadata": {
    "application/vnd.databricks.v1+cell": {
     "cellMetadata": {},
     "inputWidgets": {},
     "nuid": "f663abe8-a6d4-40b3-b7bb-a7baaa74d067",
     "showTitle": false,
     "title": ""
    }
   },
   "source": [
    "# Data Analysis with Pandas\n",
    "\n",
    "\n",
    "<img src=\"https://files.training.databricks.com/images/301/sf.jpg\" style=\"height: 200px; margin: 10px; border: 1px solid #ddd; padding: 10px\"/>\n",
    "\n",
    "You'll be analyzing data from [Inside Airbnb]((http://insideairbnb.com/get-the-data.html) to better understand the San Francisco rental market.\n",
    "\n",
    "0. Read in SF Airbnb data into a pandas DataFrame\n",
    "0. Select a subset of columns\n",
    "0. Sort based on largest # of bedrooms\n",
    "0. Fill in missing values\n",
    "0. Compute the average number of bathrooms\n",
    "0. Plot the most common property listings in the Financial District"
   ]
  },
  {
   "cell_type": "markdown",
   "metadata": {
    "application/vnd.databricks.v1+cell": {
     "cellMetadata": {},
     "inputWidgets": {},
     "nuid": "e3b9368f-e5b5-44e4-9698-5c631aa7f422",
     "showTitle": false,
     "title": ""
    }
   },
   "source": [
    "Read in the file located `/dbfs/databricks-datasets/learning-spark-v2/sf-airbnb/sf-airbnb.csv` into a pandas DataFrame, and display the first 5 records."
   ]
  },
  {
   "cell_type": "code",
   "execution_count": 0,
   "metadata": {
    "application/vnd.databricks.v1+cell": {
     "cellMetadata": {},
     "inputWidgets": {},
     "nuid": "64078e27-e85a-471c-ac0b-7be476931639",
     "showTitle": false,
     "title": ""
    }
   },
   "outputs": [],
   "source": [
    "# ANSWER\n",
    "import pandas as pd\n",
    "\n",
    "df = pd.read_csv(\"/dbfs/databricks-datasets/learning-spark-v2/sf-airbnb/sf-airbnb.csv\")\n",
    "df.head()"
   ]
  },
  {
   "cell_type": "markdown",
   "metadata": {
    "application/vnd.databricks.v1+cell": {
     "cellMetadata": {},
     "inputWidgets": {},
     "nuid": "3fcbdfd2-e8dc-4f90-a15a-5c1842fd41d5",
     "showTitle": false,
     "title": ""
    }
   },
   "source": [
    "We are not interested in all of the columns in this DataFrame so let's select just these columns: \n",
    "\n",
    "`\"beds\", \"bedrooms\", \"bathrooms\", \"property_type\", \"neighbourhood_cleansed\"` and assign the result to the variable `df`.\n",
    "\n",
    "NOTE: We are not looking at the `price` column for now because we need to convert it from a string to a double (and remove the `$` and `,` from the values)"
   ]
  },
  {
   "cell_type": "code",
   "execution_count": 0,
   "metadata": {
    "application/vnd.databricks.v1+cell": {
     "cellMetadata": {},
     "inputWidgets": {},
     "nuid": "66337fd1-ddbc-4b3c-bf55-e18e05a460e8",
     "showTitle": false,
     "title": ""
    }
   },
   "outputs": [],
   "source": [
    "# ANSWER\n",
    "df = df[[\"beds\", \"bedrooms\", \"bathrooms\", \"property_type\", \"neighbourhood_cleansed\"]]\n",
    "df.head()"
   ]
  },
  {
   "cell_type": "markdown",
   "metadata": {
    "application/vnd.databricks.v1+cell": {
     "cellMetadata": {},
     "inputWidgets": {},
     "nuid": "d6a7e0c3-fc91-47ed-97c7-d754d313ffc2",
     "showTitle": false,
     "title": ""
    }
   },
   "source": [
    "Now that we have the columns that we want, we would like to view the listings with the highest number of bedrooms first. We can do this using the [.sort_values()](https://pandas.pydata.org/pandas-docs/stable/reference/api/pandas.DataFrame.sort_values.html) function!"
   ]
  },
  {
   "cell_type": "code",
   "execution_count": 0,
   "metadata": {
    "application/vnd.databricks.v1+cell": {
     "cellMetadata": {},
     "inputWidgets": {},
     "nuid": "601d3762-9bc7-4222-a77c-124d8ea5a828",
     "showTitle": false,
     "title": ""
    }
   },
   "outputs": [],
   "source": [
    "# ANSWER\n",
    "df.sort_values(\"bedrooms\", ascending=False)"
   ]
  },
  {
   "cell_type": "markdown",
   "metadata": {
    "application/vnd.databricks.v1+cell": {
     "cellMetadata": {},
     "inputWidgets": {},
     "nuid": "e4716e11-16b9-4c34-9fd0-664e3d3bf969",
     "showTitle": false,
     "title": ""
    }
   },
   "source": [
    "### Fill Missing Values\n",
    "If you scroll through the rows carefully you'll notice that some of the entries say `NaN` instead of a number. Run the following cell to pick out and display those listings using [isna()](https://pandas.pydata.org/pandas-docs/stable/reference/api/pandas.DataFrame.isna.html)."
   ]
  },
  {
   "cell_type": "code",
   "execution_count": 0,
   "metadata": {
    "application/vnd.databricks.v1+cell": {
     "cellMetadata": {},
     "inputWidgets": {},
     "nuid": "f17982b0-8516-48d5-88a9-9d470e21ad8b",
     "showTitle": false,
     "title": ""
    }
   },
   "outputs": [],
   "source": [
    "df[df.isna().any(axis=1)]"
   ]
  },
  {
   "cell_type": "markdown",
   "metadata": {
    "application/vnd.databricks.v1+cell": {
     "cellMetadata": {},
     "inputWidgets": {},
     "nuid": "b57a4212-4d4c-46a0-abd6-f8df678e70c7",
     "showTitle": false,
     "title": ""
    }
   },
   "source": [
    "We're going to assume if a listing didn't input a number for `beds`, `bedrooms`, or `bathrooms` then the number should have been a 0.\n",
    "\n",
    "Let's go ahead and fill the missing values for `beds`, `bedrooms`, or `bathrooms` with `0`."
   ]
  },
  {
   "cell_type": "code",
   "execution_count": 0,
   "metadata": {
    "application/vnd.databricks.v1+cell": {
     "cellMetadata": {},
     "inputWidgets": {},
     "nuid": "5a7695c0-d1e9-413f-9cb4-dd29e59d645e",
     "showTitle": false,
     "title": ""
    }
   },
   "outputs": [],
   "source": [
    "# ANSWER\n",
    "df = df.fillna(0)"
   ]
  },
  {
   "cell_type": "markdown",
   "metadata": {
    "application/vnd.databricks.v1+cell": {
     "cellMetadata": {},
     "inputWidgets": {},
     "nuid": "c4500c0c-af09-4407-8af8-ede907e03e2b",
     "showTitle": false,
     "title": ""
    }
   },
   "source": [
    "### Average # Bathrooms\n",
    "What is the average number of bathrooms in this list of Airbnb listings?"
   ]
  },
  {
   "cell_type": "code",
   "execution_count": 0,
   "metadata": {
    "application/vnd.databricks.v1+cell": {
     "cellMetadata": {},
     "inputWidgets": {},
     "nuid": "3734196e-e7d2-4cae-947d-6e5052e86cd6",
     "showTitle": false,
     "title": ""
    }
   },
   "outputs": [],
   "source": [
    "# ANSWER\n",
    "df[\"bathrooms\"].mean()"
   ]
  },
  {
   "cell_type": "markdown",
   "metadata": {
    "application/vnd.databricks.v1+cell": {
     "cellMetadata": {},
     "inputWidgets": {},
     "nuid": "ce64cf73-5419-406d-b323-880ca03ce7e5",
     "showTitle": false,
     "title": ""
    }
   },
   "source": [
    "### Filter\n",
    "\n",
    "Suppose we are only going to be near `Financial District` so we only want to view listings in that neighbourhood."
   ]
  },
  {
   "cell_type": "code",
   "execution_count": 0,
   "metadata": {
    "application/vnd.databricks.v1+cell": {
     "cellMetadata": {},
     "inputWidgets": {},
     "nuid": "45e21cfd-907d-4e35-8367-6ab0ce3c8821",
     "showTitle": false,
     "title": ""
    }
   },
   "outputs": [],
   "source": [
    "# ANSWER\n",
    "financial_district_df = df[df[\"neighbourhood_cleansed\"] == \"Financial District\"]\n",
    "financial_district_df.head()"
   ]
  },
  {
   "cell_type": "markdown",
   "metadata": {
    "application/vnd.databricks.v1+cell": {
     "cellMetadata": {},
     "inputWidgets": {},
     "nuid": "6dd3ad44-9d27-4ff4-b1f4-d300e918f87d",
     "showTitle": false,
     "title": ""
    }
   },
   "source": [
    "### Plot\n",
    "\n",
    "We want to see what the most common types of property listings around `Financial District` are! \n",
    "\n",
    "[Plot](https://pandas.pydata.org/pandas-docs/stable/reference/api/pandas.DataFrame.plot.html) the count of the various `property_type`."
   ]
  },
  {
   "cell_type": "code",
   "execution_count": 0,
   "metadata": {
    "application/vnd.databricks.v1+cell": {
     "cellMetadata": {},
     "inputWidgets": {},
     "nuid": "c018dc3e-313e-48f9-bdd6-02b846603a44",
     "showTitle": false,
     "title": ""
    }
   },
   "outputs": [],
   "source": [
    "# ANSWER\n",
    "financial_district_df.groupby([\"property_type\"]).count().sort_values(\"beds\", ascending=False).plot(kind=\"bar\", y=\"beds\")"
   ]
  },
  {
   "cell_type": "markdown",
   "metadata": {
    "application/vnd.databricks.v1+cell": {
     "cellMetadata": {},
     "inputWidgets": {},
     "nuid": "0e3b9d37-f98e-49a6-9258-e61a1831785a",
     "showTitle": false,
     "title": ""
    }
   },
   "source": [
    "&copy; 2020 Databricks, Inc. All rights reserved.<br/>\n",
    "Apache, Apache Spark, Spark and the Spark logo are trademarks of the <a href=\"http://www.apache.org/\">Apache Software Foundation</a>.<br/>\n",
    "<br/>\n",
    "<a href=\"https://databricks.com/privacy-policy\">Privacy Policy</a> | <a href=\"https://databricks.com/terms-of-use\">Terms of Use</a> | <a href=\"http://help.databricks.com/\">Support</a>"
   ]
  }
 ],
 "metadata": {
  "application/vnd.databricks.v1+notebook": {
   "dashboards": [],
   "language": "python",
   "notebookMetadata": {
    "pythonIndentUnit": 2
   },
   "notebookName": "JEP 07L - Data Analysis Lab",
   "widgets": {}
  }
 },
 "nbformat": 4,
 "nbformat_minor": 0
}
