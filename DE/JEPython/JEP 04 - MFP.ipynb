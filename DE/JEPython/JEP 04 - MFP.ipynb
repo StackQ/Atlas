{
 "cells": [
  {
   "cell_type": "markdown",
   "metadata": {
    "application/vnd.databricks.v1+cell": {
     "cellMetadata": {},
     "inputWidgets": {},
     "nuid": "de44a221-a88b-4395-bc34-7fa054151d9e",
     "showTitle": false,
     "title": ""
    }
   },
   "source": [
    "\n",
    "<div style=\"text-align: center; line-height: 0; padding-top: 9px;\">\n",
    "  <img src=\"https://databricks.com/wp-content/uploads/2018/03/db-academy-rgb-1200px.png\" alt=\"Databricks Learning\" style=\"width: 600px\">\n",
    "</div>"
   ]
  },
  {
   "cell_type": "markdown",
   "metadata": {
    "application/vnd.databricks.v1+cell": {
     "cellMetadata": {},
     "inputWidgets": {},
     "nuid": "5ffe19ae-d8d5-4dc6-ba01-4d89b58b8883",
     "showTitle": false,
     "title": ""
    }
   },
   "source": [
    "# Methods, Functions &amp; Packages\n",
    "\n",
    "## In this lesson you:\n",
    "* Define and use functions\n",
    "  * with and without arguments\n",
    "  * with and without type hints\n",
    "* Use **`assert`** statements to \"unit test\" functions\n",
    "* Employ the **`help()`** function to learn about modules, functions, classes, and keywords\n",
    "* Identify differences between functions and methods\n",
    "* Import libraries"
   ]
  },
  {
   "cell_type": "markdown",
   "metadata": {
    "application/vnd.databricks.v1+cell": {
     "cellMetadata": {},
     "inputWidgets": {},
     "nuid": "6fbf62b2-3e26-4691-8f66-1c038a34b2a2",
     "showTitle": false,
     "title": ""
    }
   },
   "source": [
    "##![Spark Logo Tiny](https://files.training.databricks.com/images/105/logo_spark_tiny.png) Functions\n",
    "\n",
    "In this lesson, we're going to see how we can use functions to make code reusable.\n",
    "\n",
    "Let's start with a simple example:\n",
    "\n",
    "We know that we can use Python to do math.\n",
    "\n",
    "The modulo operator returns the remainder of a division.\n",
    "\n",
    "The code below returns 0 becuase 42 is even, so this division has no remainder."
   ]
  },
  {
   "cell_type": "code",
   "execution_count": 0,
   "metadata": {
    "application/vnd.databricks.v1+cell": {
     "cellMetadata": {},
     "inputWidgets": {},
     "nuid": "3998df22-e5b6-4f07-94c5-c07eb6535d54",
     "showTitle": false,
     "title": ""
    }
   },
   "outputs": [],
   "source": [
    "42 % 2"
   ]
  },
  {
   "cell_type": "markdown",
   "metadata": {
    "application/vnd.databricks.v1+cell": {
     "cellMetadata": {},
     "inputWidgets": {},
     "nuid": "a38fc8ef-4113-45ee-bf8c-264d5daba795",
     "showTitle": false,
     "title": ""
    }
   },
   "source": [
    "The code below will return 1 because it is odd."
   ]
  },
  {
   "cell_type": "code",
   "execution_count": 0,
   "metadata": {
    "application/vnd.databricks.v1+cell": {
     "cellMetadata": {},
     "inputWidgets": {},
     "nuid": "c9a2c22f-28f6-47b5-88ba-9e8af1cccf1d",
     "showTitle": false,
     "title": ""
    }
   },
   "outputs": [],
   "source": [
    "41 % 2"
   ]
  },
  {
   "cell_type": "markdown",
   "metadata": {
    "application/vnd.databricks.v1+cell": {
     "cellMetadata": {},
     "inputWidgets": {},
     "nuid": "45733c2e-1fab-4624-88fe-a55a2d5322bc",
     "showTitle": false,
     "title": ""
    }
   },
   "source": [
    "If we want to determine whether a whole bunch of numbers are even or odd, we can package this same code into a **function**. \n",
    "\n",
    "A <a href=\"https://docs.python.org/3/tutorial/controlflow.html#defining-functions\" target=\"_blank\">function</a> is created with the **`def`** keyword, followed by the name of the function, any parameters (variables) in parentheses, and a colon."
   ]
  },
  {
   "cell_type": "code",
   "execution_count": 0,
   "metadata": {
    "application/vnd.databricks.v1+cell": {
     "cellMetadata": {},
     "inputWidgets": {},
     "nuid": "509db317-93fc-4f6e-8f26-5c87ac42b1f8",
     "showTitle": false,
     "title": ""
    }
   },
   "outputs": [],
   "source": [
    "# General syntax\n",
    "# def function_name(parameter_name):\n",
    "#   \"\"\"Optional doc string explaining the function\"\"\"\n",
    "#   block of code that is run every time function is called\n",
    "\n",
    "# defining the function\n",
    "def printEvenOdd(num):\n",
    "  \"\"\"Prints the string \"even\", \"odd\", or \"UNKNOWN\".\"\"\"\n",
    "  \n",
    "  if num % 2 == 0:\n",
    "     print(\"even\")\n",
    "  elif num % 2 == 1:\n",
    "     print(\"odd\")\n",
    "  else:\n",
    "     print(\"UNKNOWN\")\n",
    "\n",
    "# execute the function by passing it a number\n",
    "printEvenOdd(42)"
   ]
  },
  {
   "cell_type": "markdown",
   "metadata": {
    "application/vnd.databricks.v1+cell": {
     "cellMetadata": {},
     "inputWidgets": {},
     "nuid": "87a8ae08-6806-49b3-9b8d-61d7a149c331",
     "showTitle": false,
     "title": ""
    }
   },
   "source": [
    "The one problem with printing the result is that if you assign the function's result back to a variable, the value is **`None`**.\n",
    "\n",
    "As we see here:"
   ]
  },
  {
   "cell_type": "code",
   "execution_count": 0,
   "metadata": {
    "application/vnd.databricks.v1+cell": {
     "cellMetadata": {},
     "inputWidgets": {},
     "nuid": "950bc42c-7712-496e-beb6-9816f5a5ace1",
     "showTitle": false,
     "title": ""
    }
   },
   "outputs": [],
   "source": [
    "result = printEvenOdd(42)\n",
    "print(f\"The result is: {result}\")"
   ]
  },
  {
   "cell_type": "markdown",
   "metadata": {
    "application/vnd.databricks.v1+cell": {
     "cellMetadata": {},
     "inputWidgets": {},
     "nuid": "9dfd9e95-9d61-44d4-8a69-b74ec0aaf3e9",
     "showTitle": false,
     "title": ""
    }
   },
   "source": [
    "To make the function more useful, we can instead introduce a **`return`** expression.\n",
    "\n",
    "This directs the method to stop execution of the method and to \"return\" the specified value"
   ]
  },
  {
   "cell_type": "code",
   "execution_count": 0,
   "metadata": {
    "application/vnd.databricks.v1+cell": {
     "cellMetadata": {},
     "inputWidgets": {},
     "nuid": "0e42a7ea-3b71-464e-83a5-fa85c81dc474",
     "showTitle": false,
     "title": ""
    }
   },
   "outputs": [],
   "source": [
    "def evenOdd(num):\n",
    "  \"\"\"Returns the string \"even\", \"odd\", or \"UNKNOWN\".\"\"\"\n",
    "  \n",
    "  if num % 2 == 0:\n",
    "    return \"even\"\n",
    "  elif num % 2 == 1:\n",
    "    return \"odd\"\n",
    "  else:\n",
    "    return \"UNKNOWN\"\n",
    "\n",
    "# execute the function by passing it a number\n",
    "result = evenOdd(42)\n",
    "print(f\"The result is: {result}\")"
   ]
  },
  {
   "cell_type": "markdown",
   "metadata": {
    "application/vnd.databricks.v1+cell": {
     "cellMetadata": {},
     "inputWidgets": {},
     "nuid": "e66713f9-a98f-4b99-9416-174fbcc30a57",
     "showTitle": false,
     "title": ""
    }
   },
   "source": [
    "##![Spark Logo Tiny](https://files.training.databricks.com/images/105/logo_spark_tiny.png) Testing Functions\n",
    "\n",
    "When developing functions like this, it's is best practice to test them with various inputs, expecting different outputs.\n",
    "\n",
    "This is commonly refered to as **Unit Testing** - testing a \"unit\" of code.\n",
    "\n",
    "To do that, we can employ the **`assert`** expression as seen in the previous lesson.\n",
    "\n",
    "If a test fails, execution will stop and an alert (**AssertionError**) will be rended to the console.\n",
    "\n",
    "To see this in action, alter the code below so that the various assertions fail."
   ]
  },
  {
   "cell_type": "code",
   "execution_count": 0,
   "metadata": {
    "application/vnd.databricks.v1+cell": {
     "cellMetadata": {},
     "inputWidgets": {},
     "nuid": "c6dacc61-ccb2-4564-b82d-0237cf40f264",
     "showTitle": false,
     "title": ""
    }
   },
   "outputs": [],
   "source": [
    "result = evenOdd(101)\n",
    "assert \"odd\" == result, f\"Expected odd, found {result}\"\n",
    "print(\"Test #1 passed\")\n",
    "\n",
    "result = evenOdd(400)\n",
    "assert \"even\" == result, f\"Expected even, found {result}\"\n",
    "print(\"Test #2 passed\")\n",
    "\n",
    "result = evenOdd(5)\n",
    "assert \"odd\" == result, f\"Expected odd, found {result}\"\n",
    "print(\"Test #3 passed\")\n",
    "\n",
    "result = evenOdd(2)\n",
    "assert \"even\" == result, f\"Expected even, found {result}\"\n",
    "print(\"Test #4 passed\")\n",
    "\n",
    "result = evenOdd(3780) \n",
    "assert \"even\" == result, f\"Expected even, found {result}\"\n",
    "print(\"Test #5 passed\")\n",
    "\n",
    "result = evenOdd(78963)\n",
    "assert \"odd\" == result, f\"Expected odd, found {result}\"\n",
    "print(\"Test #6 passed\")\n",
    "\n",
    "# A slighly more robust version:\n",
    "value = 1/3\n",
    "expected = \"UNKNOWN\"\n",
    "result = evenOdd(value)\n",
    "assert expected == result, f\"Expected {expected}, found {result} for {value}\"\n",
    "print(\"Test #7 passed\")"
   ]
  },
  {
   "cell_type": "markdown",
   "metadata": {
    "application/vnd.databricks.v1+cell": {
     "cellMetadata": {},
     "inputWidgets": {},
     "nuid": "dcf78a61-f4b2-4117-a1c2-586f4a7ee21a",
     "showTitle": false,
     "title": ""
    }
   },
   "source": [
    "The secret to unit testing is two fold:\n",
    "* Write your code so that it is testable - a whole other topic in and of itself.\n",
    "* Provide as much information as reasonable in the assertion - in most cases you will be looking at a report of failures and not the code itself."
   ]
  },
  {
   "cell_type": "markdown",
   "metadata": {
    "application/vnd.databricks.v1+cell": {
     "cellMetadata": {},
     "inputWidgets": {},
     "nuid": "24374e35-9919-4063-82ec-5ae272810d59",
     "showTitle": false,
     "title": ""
    }
   },
   "source": [
    "##![Spark Logo Tiny](https://files.training.databricks.com/images/105/logo_spark_tiny.png) The Help Functions\n",
    "\n",
    "The <a href=\"https://docs.python.org/3/library/functions.html#help\" target=\"_blank\">help()</a> function can display additional information the functions you develop.\n",
    "\n",
    "It relies in large part on the documentation string provided at the top of a function, for example:"
   ]
  },
  {
   "cell_type": "code",
   "execution_count": 0,
   "metadata": {
    "application/vnd.databricks.v1+cell": {
     "cellMetadata": {},
     "inputWidgets": {},
     "nuid": "041bfec1-f6cb-44e2-b8d0-abeb122b6d0e",
     "showTitle": false,
     "title": ""
    }
   },
   "outputs": [],
   "source": [
    "help(evenOdd)"
   ]
  },
  {
   "cell_type": "markdown",
   "metadata": {
    "application/vnd.databricks.v1+cell": {
     "cellMetadata": {},
     "inputWidgets": {},
     "nuid": "a6b2a4cb-7530-4427-aa8d-3fe63aabd24b",
     "showTitle": false,
     "title": ""
    }
   },
   "source": [
    "A properly documented function will include information on:\n",
    "* The parameters\n",
    "* The parameter's data types\n",
    "* The return value\n",
    "* The return value's data type\n",
    "* A one-line description\n",
    "* Possibly a more verbose description\n",
    "* Example usage\n",
    "* and more..."
   ]
  },
  {
   "cell_type": "code",
   "execution_count": 0,
   "metadata": {
    "application/vnd.databricks.v1+cell": {
     "cellMetadata": {},
     "inputWidgets": {},
     "nuid": "164a6664-53d8-48f6-964c-5b1a02b0424b",
     "showTitle": false,
     "title": ""
    }
   },
   "outputs": [],
   "source": [
    "def documentedEvenOdd(num):\n",
    "  \"\"\"\n",
    "  Returns the string \"even\", \"odd\", or \"UNKNOWN\".\n",
    "  \n",
    "  This would be a more verbose description of \n",
    "  what this function might do and could drone \n",
    "  one for quite a while\n",
    "  \n",
    "  Args:\n",
    "    num (int): The number to be tested as even or odd\n",
    "    \n",
    "  Returns:\n",
    "    str: \"even\" if the number is even, \"odd\" if the number is odd or \"UNKNOWN\"\n",
    "    \n",
    "  Examples:\n",
    "    evenOdd(32)\n",
    "    evenOdd(13)\n",
    "  \"\"\"\n",
    "    \n",
    "  if num % 2 == 0:\n",
    "    return \"even\"\n",
    "  elif num % 2 == 1:\n",
    "    return \"odd\"\n",
    "  else:\n",
    "    return \"UNKNOWN\""
   ]
  },
  {
   "cell_type": "code",
   "execution_count": 0,
   "metadata": {
    "application/vnd.databricks.v1+cell": {
     "cellMetadata": {},
     "inputWidgets": {},
     "nuid": "6c1d0cba-020a-4ba5-908c-fd423dbb1d81",
     "showTitle": false,
     "title": ""
    }
   },
   "outputs": [],
   "source": [
    "help(documentedEvenOdd)"
   ]
  },
  {
   "cell_type": "markdown",
   "metadata": {
    "application/vnd.databricks.v1+cell": {
     "cellMetadata": {},
     "inputWidgets": {},
     "nuid": "e1bd9c56-74dc-4f94-8633-93d2151213d9",
     "showTitle": false,
     "title": ""
    }
   },
   "source": [
    "##![Spark Logo Tiny](https://files.training.databricks.com/images/105/logo_spark_tiny.png) Functions Arguments\n",
    "\n",
    "Obviously, functions can accept more than one argument.\n",
    "\n",
    "Our function takes only one argument and works well for English.\n",
    "\n",
    "Now let's modify our function to make it easy to localize for different languages by accepting two additional arguments for the local version of \"even\" and \"odd\"."
   ]
  },
  {
   "cell_type": "code",
   "execution_count": 0,
   "metadata": {
    "application/vnd.databricks.v1+cell": {
     "cellMetadata": {},
     "inputWidgets": {},
     "nuid": "ba5e048b-5cdd-4c51-9df9-437a43b17147",
     "showTitle": false,
     "title": ""
    }
   },
   "outputs": [],
   "source": [
    "def evenOddInt(num, evenLabel, oddLabel):\n",
    "  if num % 2 == 0:\n",
    "    return evenLabel\n",
    "  elif num % 2 == 1:\n",
    "    return oddLabel\n",
    "  else:\n",
    "    return \"UNKNOWN\"\n",
    "\n",
    "# execute the function by passing it a number and two labels\n",
    "print( evenOddInt(41, \"even\", \"odd\") )\n",
    "print( evenOddInt(42, \"even\", \"odd\") )"
   ]
  },
  {
   "cell_type": "markdown",
   "metadata": {
    "application/vnd.databricks.v1+cell": {
     "cellMetadata": {},
     "inputWidgets": {},
     "nuid": "d9267812-a94a-4a6d-a756-16d7f8b3f728",
     "showTitle": false,
     "title": ""
    }
   },
   "source": [
    "A new set of unit tests can verify that our new function works as expected.\n",
    "\n",
    "And because a unit tests is just more code, we can wrap that up in a test-function as well."
   ]
  },
  {
   "cell_type": "code",
   "execution_count": 0,
   "metadata": {
    "application/vnd.databricks.v1+cell": {
     "cellMetadata": {},
     "inputWidgets": {},
     "nuid": "f093e8be-be07-4cbc-95bb-388f86ecfae2",
     "showTitle": false,
     "title": ""
    }
   },
   "outputs": [],
   "source": [
    "def testEvenOddInt(value, evenLabel, oddLabel, expected):\n",
    "  result = evenOddInt(value, evenLabel, oddLabel)\n",
    "  \n",
    "  assert expected == result, f\"Expected {expected}, found {result} for {value}\"\n",
    "  print(f\"Test {value}/{evenLabel}/{oddLabel} passed\")"
   ]
  },
  {
   "cell_type": "markdown",
   "metadata": {
    "application/vnd.databricks.v1+cell": {
     "cellMetadata": {},
     "inputWidgets": {},
     "nuid": "b52e1925-4279-49e3-89d3-7832b40ea662",
     "showTitle": false,
     "title": ""
    }
   },
   "source": [
    "With the test functiond defined, testing many permutations gets even easier."
   ]
  },
  {
   "cell_type": "code",
   "execution_count": 0,
   "metadata": {
    "application/vnd.databricks.v1+cell": {
     "cellMetadata": {},
     "inputWidgets": {},
     "nuid": "2f525d4e-1b1b-4f77-b7a6-f777d9a7569f",
     "showTitle": false,
     "title": ""
    }
   },
   "outputs": [],
   "source": [
    "# Test our \"UNKNOWN\" case\n",
    "testEvenOddInt(1/3, \"what\", \"ever\", \"UNKNOWN\")\n",
    "\n",
    "# Test around zero\n",
    "testEvenOddInt(-1, \"even\", \"odd\", \"odd\")\n",
    "testEvenOddInt(0, \"even\", \"odd\", \"even\")\n",
    "testEvenOddInt(1, \"even\", \"odd\", \"odd\")\n",
    "testEvenOddInt(2, \"even\", \"odd\", \"even\")\n",
    "testEvenOddInt(3, \"even\", \"odd\", \"odd\")\n",
    "\n",
    "# Additional tests focused on the even/odd labels\n",
    "testEvenOddInt(400, \"pair\", \"impair\", \"pair\")\n",
    "testEvenOddInt(5, \"zυγός\", \"περιττός\", \"περιττός\")\n",
    "testEvenOddInt(2, \"gerade\", \"ungerade\", \"gerade\")\n",
    "testEvenOddInt(3780, \"genap\", \"ganjil\", \"genap\")\n",
    "testEvenOddInt(78963, \"sudé\", \"liché\", \"liché\")"
   ]
  },
  {
   "cell_type": "markdown",
   "metadata": {
    "application/vnd.databricks.v1+cell": {
     "cellMetadata": {},
     "inputWidgets": {},
     "nuid": "59f12593-a4bd-4148-8e97-c74963ba00d3",
     "showTitle": false,
     "title": ""
    }
   },
   "source": [
    "##![Spark Logo Tiny](https://files.training.databricks.com/images/105/logo_spark_tiny.png) Type Hints\n",
    "\n",
    "Type hinting allows us to indicate the argument and return type of a function.\n",
    "\n",
    "This is done by appending a colon and data type to the end of each parameter.\n",
    "* For example **`num`** would become **`num:int`**.\n",
    "\n",
    "The return type is documented by adding an \"arrow\" and data type to the end of a function.\n",
    " * For example, **`def someFunc():`** would become **`def someFunc() -> str:`** to indicate that it returns a string.\n",
    " \n",
    "We can see below how our **`evenOddInt()`** function would look with type parameters."
   ]
  },
  {
   "cell_type": "code",
   "execution_count": 0,
   "metadata": {
    "application/vnd.databricks.v1+cell": {
     "cellMetadata": {},
     "inputWidgets": {},
     "nuid": "3822cda6-6603-4377-aa12-ded259a5e4a7",
     "showTitle": false,
     "title": ""
    }
   },
   "outputs": [],
   "source": [
    "def evenOddInt(num:int, evenLabel:str, oddLabel:str) -> str:\n",
    "  if num % 2 == 0:\n",
    "    return evenLabel\n",
    "  elif num % 2 == 1:\n",
    "    return oddLabel\n",
    "  else:\n",
    "    return \"UNKNOWN\"\n",
    "\n",
    "# execute the function by passing it a number\n",
    "evenOddInt(42, \"even\", \"odd\")"
   ]
  },
  {
   "cell_type": "markdown",
   "metadata": {
    "application/vnd.databricks.v1+cell": {
     "cellMetadata": {},
     "inputWidgets": {},
     "nuid": "009f0280-7e9b-4f36-8fd0-ca9a726442e2",
     "showTitle": false,
     "title": ""
    }
   },
   "source": [
    "But there is a catch!\n",
    "\n",
    "Python is dynamically-typed language, so even if you decalre a parameter to be a string, there is little to nothing stoping you from passing other data types to that function.\n",
    "\n",
    "For example...."
   ]
  },
  {
   "cell_type": "code",
   "execution_count": 0,
   "metadata": {
    "application/vnd.databricks.v1+cell": {
     "cellMetadata": {},
     "inputWidgets": {},
     "nuid": "9bb83291-3360-4d60-9c1c-9426335f219f",
     "showTitle": false,
     "title": ""
    }
   },
   "outputs": [],
   "source": [
    "resultA = evenOddInt(12, \"EVEN\", \"ODD\")\n",
    "print(f\"\"\"The result is \"{resultA}\" and of type {type(resultA)}\"\"\")\n",
    "\n",
    "resultB = evenOddInt(13, True, False)\n",
    "print(f\"\"\"The result is \"{resultB}\" and of type {type(resultB)}\"\"\")\n",
    "\n",
    "resultC = evenOddInt(17, 1, 0)\n",
    "print(f\"\"\"The result is \"{resultC}\" and of type {type(resultC)}\"\"\")"
   ]
  },
  {
   "cell_type": "markdown",
   "metadata": {
    "application/vnd.databricks.v1+cell": {
     "cellMetadata": {},
     "inputWidgets": {},
     "nuid": "3055d578-2009-46e8-8f66-62664636d4f7",
     "showTitle": false,
     "title": ""
    }
   },
   "source": [
    "**Question:** If type hints are not inforced in Python, then why provide them?"
   ]
  },
  {
   "cell_type": "markdown",
   "metadata": {
    "application/vnd.databricks.v1+cell": {
     "cellMetadata": {},
     "inputWidgets": {},
     "nuid": "8044d376-6280-476c-a004-e0485c6a58f3",
     "showTitle": false,
     "title": ""
    }
   },
   "source": [
    "**Question:** If type hints won't stop callers of my function from passing the wrong value, what can I do?<br/>\n",
    "Hint: Consider the following version of our even/odd method:"
   ]
  },
  {
   "cell_type": "code",
   "execution_count": 0,
   "metadata": {
    "application/vnd.databricks.v1+cell": {
     "cellMetadata": {},
     "inputWidgets": {},
     "nuid": "2293c7cc-912b-45e7-9e9f-ff5aa992dcb7",
     "showTitle": false,
     "title": ""
    }
   },
   "outputs": [
    {
     "output_type": "display_data",
     "data": {
      "text/html": [
       "<style scoped>\n",
       "  .ansiout {\n",
       "    display: block;\n",
       "    unicode-bidi: embed;\n",
       "    white-space: pre-wrap;\n",
       "    word-wrap: break-word;\n",
       "    word-break: break-all;\n",
       "    font-family: \"Source Code Pro\", \"Menlo\", monospace;;\n",
       "    font-size: 13px;\n",
       "    color: #555;\n",
       "    margin-left: 4px;\n",
       "    line-height: 19px;\n",
       "  }\n",
       "</style>\n",
       "<div class=\"ansiout\">EVEN\n",
       "False\n",
       "0\n",
       "</div>"
      ]
     },
     "metadata": {
      "application/vnd.databricks.v1+output": {
       "addedWidgets": {},
       "arguments": {},
       "data": "<div class=\"ansiout\">EVEN\nFalse\n0\n</div>",
       "datasetInfos": [],
       "metadata": {},
       "removedWidgets": [],
       "type": "html"
      }
     },
     "output_type": "display_data"
    }
   ],
   "source": [
    "def evenOddInt(num:int, evenLabel:str, oddLabel:str) -> str:\n",
    "  # What can one do to protect a function from bad input?\n",
    "  \n",
    "  if num % 2 == 0:\n",
    "    return evenLabel\n",
    "  elif num % 2 == 1:\n",
    "    return oddLabel\n",
    "  else:\n",
    "    return \"UNKNOWN\"\n",
    "\n",
    "# This should always work\n",
    "print( evenOddInt(12, \"EVEN\", \"ODD\") )\n",
    "\n",
    "# But can we stop this code from executing?\n",
    "print( evenOddInt(13, True, False) )\n",
    "print( evenOddInt(17, 1, 0) )"
   ]
  },
  {
   "cell_type": "markdown",
   "metadata": {
    "application/vnd.databricks.v1+cell": {
     "cellMetadata": {},
     "inputWidgets": {},
     "nuid": "e984966d-3f0d-4398-88ce-59bfa675c4c4",
     "showTitle": false,
     "title": ""
    }
   },
   "source": [
    "##![Spark Logo Tiny](https://files.training.databricks.com/images/105/logo_spark_tiny.png) Default Values\n",
    "\n",
    "Assuming 90% of the callers of this function expect to use English, requiring them to specify the **`evenLabel`** and **`oddLabel`** everytime is cumbersome.\n",
    "\n",
    "We can improve our function further by adding default values for even and odd so these two arguments are not needed for English."
   ]
  },
  {
   "cell_type": "code",
   "execution_count": 0,
   "metadata": {
    "application/vnd.databricks.v1+cell": {
     "cellMetadata": {},
     "inputWidgets": {},
     "nuid": "2e59c0fa-5cf7-430a-9a75-0095e1dc4bb4",
     "showTitle": false,
     "title": ""
    }
   },
   "outputs": [],
   "source": [
    "def evenOddInt(num: int, evenLabel:str = \"even\", oddLabel:str = \"odd\") -> str:\n",
    "  if num % 2 == 0:\n",
    "    return evenLabel\n",
    "  elif num % 2 == 1:\n",
    "    return oddLabel\n",
    "  else:\n",
    "    return \"UNKNOWN\"\n",
    "\n",
    "# execute the function by passing it a number\n",
    "print(evenOddInt(42))\n",
    "print(evenOddInt(32, \"EVEN\", \"ODD\"))\n",
    "print(evenOddInt(65, \"pair\", \"impair\"))"
   ]
  },
  {
   "cell_type": "markdown",
   "metadata": {
    "application/vnd.databricks.v1+cell": {
     "cellMetadata": {},
     "inputWidgets": {},
     "nuid": "a466ed09-0b2e-453e-857c-dd08a3c2292e",
     "showTitle": false,
     "title": ""
    }
   },
   "source": [
    "Of course we now need to update our unit tests to account for the fact that we now have default values.\n",
    "\n",
    "But we can save that for a later date."
   ]
  },
  {
   "cell_type": "markdown",
   "metadata": {
    "application/vnd.databricks.v1+cell": {
     "cellMetadata": {},
     "inputWidgets": {},
     "nuid": "54cc2620-59aa-4372-aba3-5d4a8ff2d583",
     "showTitle": false,
     "title": ""
    }
   },
   "source": [
    "##![Spark Logo Tiny](https://files.training.databricks.com/images/105/logo_spark_tiny.png) Named Arguments\n",
    "\n",
    "By default, Python assignes a value to a parameter based on its ordinal value.\n",
    "\n",
    "In the previous example, the first value is assigned to the **`num`** parameter, the second value to the **`evenLabel`** parameter, and so on.\n",
    "\n",
    "Alternatively, you can name the arguments as the function is called - note that the order no longer matters."
   ]
  },
  {
   "cell_type": "code",
   "execution_count": 0,
   "metadata": {
    "application/vnd.databricks.v1+cell": {
     "cellMetadata": {},
     "inputWidgets": {},
     "nuid": "c65717b0-b975-491a-8b0b-29ea8684e53b",
     "showTitle": false,
     "title": ""
    }
   },
   "outputs": [],
   "source": [
    "def evenOddInt(num: int, evenLabel:str = \"even\", oddLabel:str = \"odd\") -> str:\n",
    "  if num % 2 == 0:\n",
    "    return evenLabel\n",
    "  elif num % 2 == 1:\n",
    "    return oddLabel\n",
    "  else:\n",
    "    return \"UNKNOWN\"\n",
    "\n",
    "# execute the function by passing it a number\n",
    "print(evenOddInt(42, oddLabel=\"impair\", evenLabel=\"pair\"))\n",
    "print(evenOddInt(evenLabel=\"EVEN\", oddLabel=\"ODD\", num=32))\n",
    "print(evenOddInt(oddLabel=\"ganjil\", num=3780, evenLabel=\"genap\"))"
   ]
  },
  {
   "cell_type": "markdown",
   "metadata": {
    "application/vnd.databricks.v1+cell": {
     "cellMetadata": {},
     "inputWidgets": {},
     "nuid": "54bcc6fe-7761-4729-80d7-056b898d252f",
     "showTitle": false,
     "title": ""
    }
   },
   "source": [
    "Hint: Calling a function that has 3+ aruments can make your code far more readable.\n",
    "\n",
    "Compare the two examples:\n",
    "\n",
    "**`db.record(\"Mike\", \"Smith\", 32, 1695, \"Plummer Dr\", 75087)`**\n",
    "\n",
    "**`db.record(first=\"Mike\", last=\"Smith\", age=32, house_num=1695, street=\"Plummer Dr\", zip=75087)`**"
   ]
  },
  {
   "cell_type": "markdown",
   "metadata": {
    "application/vnd.databricks.v1+cell": {
     "cellMetadata": {},
     "inputWidgets": {},
     "nuid": "b8865ba2-970a-4fee-adea-b0062cc17f11",
     "showTitle": false,
     "title": ""
    }
   },
   "source": [
    "##![Spark Logo Tiny](https://files.training.databricks.com/images/105/logo_spark_tiny.png) Arbitrary Arguments\n",
    "\n",
    "You can define a function in Python that accepts an arbitrary number of arguments with syntax like this:\n",
    "\n",
    "```\n",
    "def my_func(*args):\n",
    "  ...\n",
    "```\n",
    "\n",
    "The parameter name **`args`** is not required, but it is a common convention.\n",
    "\n",
    "The **`args`** parameter is treated as a sequence containing all of the arguments passed to the function."
   ]
  },
  {
   "cell_type": "code",
   "execution_count": 0,
   "metadata": {
    "application/vnd.databricks.v1+cell": {
     "cellMetadata": {},
     "inputWidgets": {},
     "nuid": "a4296191-f35f-4add-a366-dbcd5e0d5732",
     "showTitle": false,
     "title": ""
    }
   },
   "outputs": [],
   "source": [
    "def sum(*args):\n",
    "  total = 0\n",
    "  for value in args:\n",
    "    total += value\n",
    "  return total\n",
    "\n",
    "sum_a = sum(1, 2, 3, 4, 5)\n",
    "sum_b = sum(32, 123, -100, 9)\n",
    "sum_c = sum(13)\n",
    "sum_d = sum()\n",
    "\n",
    "print(f\"Example A: {sum_a}\")\n",
    "print(f\"Example B: {sum_b}\")\n",
    "print(f\"Example C: {sum_c}\")\n",
    "print(f\"Example D: {sum_d}\")"
   ]
  },
  {
   "cell_type": "markdown",
   "metadata": {
    "application/vnd.databricks.v1+cell": {
     "cellMetadata": {},
     "inputWidgets": {},
     "nuid": "2141a9ce-4271-4e19-895f-61debb30c9f6",
     "showTitle": false,
     "title": ""
    }
   },
   "source": [
    "##![Spark Logo Tiny](https://files.training.databricks.com/images/105/logo_spark_tiny.png) Arbitrary Keyword Arguments\n",
    "\n",
    "A Python function can also accept arbitrary named arguments, which are referred to as _keyword arguments_, with syntax like this:\n",
    "\n",
    "```\n",
    "def my_func(**kwargs):\n",
    "  ...\n",
    "```\n",
    "\n",
    "The parameter name `kwargs` is not required, but it is a common convention. \n",
    "\n",
    "The `kwargs` parameter is treated as a dictionary containing all of the argument names and values passed to the function.\n",
    "\n",
    "We will talk more about dictionaries in the next lesson."
   ]
  },
  {
   "cell_type": "code",
   "execution_count": 0,
   "metadata": {
    "application/vnd.databricks.v1+cell": {
     "cellMetadata": {},
     "inputWidgets": {},
     "nuid": "a96aad3e-32c5-49d7-bd58-b2287f55cab8",
     "showTitle": false,
     "title": ""
    }
   },
   "outputs": [],
   "source": [
    "def my_func(**kwargs):\n",
    "  print(\"Arguments received:\")\n",
    "  for key in kwargs:\n",
    "    value = kwargs[key]\n",
    "    print(f\"  {key:15s} = {value}\")\n",
    "  print()\n",
    "\n",
    "my_func(first_name=\"Jeff\", last_name=\"Lebowski\", drink=\"White Russian\")\n",
    "\n",
    "my_func(movie_title=\"The Big Lebowski\", release_year=1998)"
   ]
  },
  {
   "cell_type": "markdown",
   "metadata": {
    "application/vnd.databricks.v1+cell": {
     "cellMetadata": {},
     "inputWidgets": {},
     "nuid": "99419653-9d98-4d59-985b-7503f9d18b3c",
     "showTitle": false,
     "title": ""
    }
   },
   "source": [
    "##![Spark Logo Tiny](https://files.training.databricks.com/images/105/logo_spark_tiny.png) Methods\n",
    "\n",
    "In Python, a Method refers to a special kind of function that is applied to an object.\n",
    "\n",
    "We will talk more about objects and classes in a later lesson, but for now, consdier that:\n",
    "* A function only operates on the parameters passed to it (generally).\n",
    "* A method has parameters, but it also has additional state as defined by the object it is attached to.\n",
    "\n",
    "For example, a string (**`str`**) is a type of object:"
   ]
  },
  {
   "cell_type": "code",
   "execution_count": 0,
   "metadata": {
    "application/vnd.databricks.v1+cell": {
     "cellMetadata": {},
     "inputWidgets": {},
     "nuid": "866c14fc-eac3-4e4b-8f7c-26ecc918acfd",
     "showTitle": false,
     "title": ""
    }
   },
   "outputs": [],
   "source": [
    "name = 'Databricks'\n",
    "print(name)"
   ]
  },
  {
   "cell_type": "markdown",
   "metadata": {
    "application/vnd.databricks.v1+cell": {
     "cellMetadata": {},
     "inputWidgets": {},
     "nuid": "2b9e9956-5546-40c3-8183-1d0abe3161bf",
     "showTitle": false,
     "title": ""
    }
   },
   "source": [
    "The string object has a method called **`upper()`** which we can invoke."
   ]
  },
  {
   "cell_type": "code",
   "execution_count": 0,
   "metadata": {
    "application/vnd.databricks.v1+cell": {
     "cellMetadata": {},
     "inputWidgets": {},
     "nuid": "131ea56c-67ac-4530-87a3-c1d5a32acc70",
     "showTitle": false,
     "title": ""
    }
   },
   "outputs": [],
   "source": [
    "result = name.upper()\n",
    "print(result)"
   ]
  },
  {
   "cell_type": "markdown",
   "metadata": {
    "application/vnd.databricks.v1+cell": {
     "cellMetadata": {},
     "inputWidgets": {},
     "nuid": "a8605cd6-c6a7-460b-873b-3dac5fb9588f",
     "showTitle": false,
     "title": ""
    }
   },
   "source": [
    "Note that the original object was not modified, but that the **`upper()`** method used the string to produce a new string."
   ]
  },
  {
   "cell_type": "code",
   "execution_count": 0,
   "metadata": {
    "application/vnd.databricks.v1+cell": {
     "cellMetadata": {},
     "inputWidgets": {},
     "nuid": "cd03e48f-6f75-4ccc-9b7c-d8d874687bb2",
     "showTitle": false,
     "title": ""
    }
   },
   "outputs": [],
   "source": [
    "print(name)"
   ]
  },
  {
   "cell_type": "markdown",
   "metadata": {
    "application/vnd.databricks.v1+cell": {
     "cellMetadata": {},
     "inputWidgets": {},
     "nuid": "e87f2b56-ed75-406c-b0b5-086a4c4e355a",
     "showTitle": false,
     "title": ""
    }
   },
   "source": [
    "As with functions, certain methods expect an argument.\n",
    "\n",
    "The string class also has a **`count(str)`** method that returns the total number of times the specified substring is found.\n",
    "\n",
    "In this case, let's count how many times we find the letter **`a`**."
   ]
  },
  {
   "cell_type": "code",
   "execution_count": 0,
   "metadata": {
    "application/vnd.databricks.v1+cell": {
     "cellMetadata": {},
     "inputWidgets": {},
     "nuid": "b074ea83-87b6-4f97-aadf-89b7faa715b0",
     "showTitle": false,
     "title": ""
    }
   },
   "outputs": [],
   "source": [
    "total = name.count('a')\n",
    "print(f\"I found {total} instances of that substring\")"
   ]
  },
  {
   "cell_type": "markdown",
   "metadata": {
    "application/vnd.databricks.v1+cell": {
     "cellMetadata": {},
     "inputWidgets": {},
     "nuid": "dd219236-c8db-4ab7-9c65-558c217c25eb",
     "showTitle": false,
     "title": ""
    }
   },
   "source": [
    "##![Spark Logo Tiny](https://files.training.databricks.com/images/105/logo_spark_tiny.png) Libraries\n",
    "\n",
    "Python includes a rich set of libraries developed by an every going community of software develoeprs.\n",
    "\n",
    "Some libraries are included with Python by default.\n",
    "\n",
    "Others are external libraries that have to be \"installed\".\n",
    "\n",
    "One such library is <a href=\"https://numpy.org/doc/stable\" target=\"_blank\">NumPy</a> - while a 3rd-party library, NumPy is pre-installed on the Databricks runtime.\n",
    "  \n",
    "To use any library, you need to first import it into the current name space:"
   ]
  },
  {
   "cell_type": "code",
   "execution_count": 0,
   "metadata": {
    "application/vnd.databricks.v1+cell": {
     "cellMetadata": {},
     "inputWidgets": {},
     "nuid": "920dd4f7-3976-4f35-a418-f87b6fa9a4b8",
     "showTitle": false,
     "title": ""
    }
   },
   "outputs": [],
   "source": [
    "import numpy\n",
    "\n",
    "numpy.sqrt(9)"
   ]
  },
  {
   "cell_type": "markdown",
   "metadata": {
    "application/vnd.databricks.v1+cell": {
     "cellMetadata": {},
     "inputWidgets": {},
     "nuid": "9906f3b7-7c77-4f2e-a2d1-2694d63401f4",
     "showTitle": false,
     "title": ""
    }
   },
   "source": [
    "As with other functions, we can use the **`help()`** function on **`numpy.sqrt`** to get more information."
   ]
  },
  {
   "cell_type": "code",
   "execution_count": 0,
   "metadata": {
    "application/vnd.databricks.v1+cell": {
     "cellMetadata": {},
     "inputWidgets": {},
     "nuid": "2018a9de-b0d2-42ac-b26b-f63b0da2f0dc",
     "showTitle": false,
     "title": ""
    }
   },
   "outputs": [],
   "source": [
    "help(numpy.sqrt)"
   ]
  },
  {
   "cell_type": "markdown",
   "metadata": {
    "application/vnd.databricks.v1+cell": {
     "cellMetadata": {},
     "inputWidgets": {},
     "nuid": "ec4e10f0-8a10-497b-a4e5-a227bda51d03",
     "showTitle": false,
     "title": ""
    }
   },
   "source": [
    "You can also change the name of the library when you import it.\n",
    "\n",
    "This can be handy when the code gets too verbose and abreviating or renaming the imported object makes the code easier to read."
   ]
  },
  {
   "cell_type": "code",
   "execution_count": 0,
   "metadata": {
    "application/vnd.databricks.v1+cell": {
     "cellMetadata": {},
     "inputWidgets": {},
     "nuid": "3aaeb13d-9339-44e9-a933-6ee0fed2d8e9",
     "showTitle": false,
     "title": ""
    }
   },
   "outputs": [],
   "source": [
    "import numpy as np\n",
    "\n",
    "np.sqrt(12)"
   ]
  },
  {
   "cell_type": "markdown",
   "metadata": {
    "application/vnd.databricks.v1+cell": {
     "cellMetadata": {},
     "inputWidgets": {},
     "nuid": "ceb16f2a-5136-451a-9478-9871e3372db9",
     "showTitle": false,
     "title": ""
    }
   },
   "source": [
    "And instead of importing just one function at a time, you can import every function from the NumPy package using the wildcard **`*`**.\n",
    "\n",
    "Caution: importing too many things into the same name space can create confusion.\n",
    "* Are you using Python's **`count()`** function? Databricks' **`count()`**? NumPy's **`count()`** function?"
   ]
  },
  {
   "cell_type": "code",
   "execution_count": 0,
   "metadata": {
    "application/vnd.databricks.v1+cell": {
     "cellMetadata": {},
     "inputWidgets": {},
     "nuid": "6347a297-7779-4f5b-8b58-179aed3866da",
     "showTitle": false,
     "title": ""
    }
   },
   "outputs": [],
   "source": [
    "from numpy import *\n",
    "\n",
    "sqrt(12)\n",
    "absolute(-123)"
   ]
  },
  {
   "cell_type": "markdown",
   "metadata": {
    "application/vnd.databricks.v1+cell": {
     "cellMetadata": {},
     "inputWidgets": {},
     "nuid": "2c20c020-efed-4a64-a366-a704f6bc85ce",
     "showTitle": false,
     "title": ""
    }
   },
   "source": [
    "&copy; 2020 Databricks, Inc. All rights reserved.<br/>\n",
    "Apache, Apache Spark, Spark and the Spark logo are trademarks of the <a href=\"http://www.apache.org/\">Apache Software Foundation</a>.<br/>\n",
    "<br/>\n",
    "<a href=\"https://databricks.com/privacy-policy\">Privacy Policy</a> | <a href=\"https://databricks.com/terms-of-use\">Terms of Use</a> | <a href=\"http://help.databricks.com/\">Support</a>"
   ]
  }
 ],
 "metadata": {
  "application/vnd.databricks.v1+notebook": {
   "dashboards": [],
   "language": "python",
   "notebookMetadata": {
    "pythonIndentUnit": 2
   },
   "notebookName": "JEP 04 - MFP",
   "widgets": {}
  }
 },
 "nbformat": 4,
 "nbformat_minor": 0
}
