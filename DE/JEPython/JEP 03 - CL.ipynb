{
 "cells": [
  {
   "cell_type": "markdown",
   "metadata": {
    "application/vnd.databricks.v1+cell": {
     "cellMetadata": {},
     "inputWidgets": {},
     "nuid": "3d802317-eb55-487c-9886-f40a11b8ef03",
     "showTitle": false,
     "title": ""
    }
   },
   "source": [
    "\n",
    "<div style=\"text-align: center; line-height: 0; padding-top: 9px;\">\n",
    "  <img src=\"https://databricks.com/wp-content/uploads/2018/03/db-academy-rgb-1200px.png\" alt=\"Databricks Learning\" style=\"width: 600px\">\n",
    "</div>"
   ]
  },
  {
   "cell_type": "markdown",
   "metadata": {
    "application/vnd.databricks.v1+cell": {
     "cellMetadata": {},
     "inputWidgets": {},
     "nuid": "7a44e776-9ccb-4238-98dd-93b71ee6664c",
     "showTitle": false,
     "title": ""
    }
   },
   "source": [
    "# Conditionals and Loops\n",
    "\n",
    "## In this lesson you:\n",
    "- Create a simple list\n",
    "- Iterate over a list using a **`for`** expression\n",
    "- Conditionally execute statements using **`if`**, **`elif`** and **`else`** expressions"
   ]
  },
  {
   "cell_type": "markdown",
   "metadata": {
    "application/vnd.databricks.v1+cell": {
     "cellMetadata": {},
     "inputWidgets": {},
     "nuid": "1a0f0e8f-c39b-4835-bf45-80e13845cec8",
     "showTitle": false,
     "title": ""
    }
   },
   "source": [
    "##![Spark Logo Tiny](https://files.training.databricks.com/images/105/logo_spark_tiny.png) C-Style For Loops\n",
    "\n",
    "If you have any programming experience in other structured programming languages, you should be familair with **C-Style For Loops**\n",
    "\n",
    "If not, a little history wont hurt...\n",
    "\n",
    "The classic c-style for loop will look something like this:"
   ]
  },
  {
   "cell_type": "markdown",
   "metadata": {
    "application/vnd.databricks.v1+cell": {
     "cellMetadata": {},
     "inputWidgets": {},
     "nuid": "beea7fe2-c31a-4870-abdc-d95d826d1a82",
     "showTitle": false,
     "title": ""
    }
   },
   "source": [
    "\n",
    "```\n",
    "for (i = 0; i < 10; i++) {\n",
    "  print(i)\n",
    "}\n",
    "```"
   ]
  },
  {
   "cell_type": "markdown",
   "metadata": {
    "application/vnd.databricks.v1+cell": {
     "cellMetadata": {},
     "inputWidgets": {},
     "nuid": "3974a337-77b4-4130-a524-2371c17da1e6",
     "showTitle": false,
     "title": ""
    }
   },
   "source": [
    "What is unique about this syntax is:\n",
    "* **`i`** is a varaible that is initially set to **`0`**\n",
    "* **`i`** is incremented by one (**`i++`**) after each iteration of the loop\n",
    "* Incrementation and block-execution is repeated while the prescribed condition (**`i < 10`**) is true"
   ]
  },
  {
   "cell_type": "markdown",
   "metadata": {
    "application/vnd.databricks.v1+cell": {
     "cellMetadata": {},
     "inputWidgets": {},
     "nuid": "ec2bcbf5-b6c6-4539-a374-e96a72ff4f5d",
     "showTitle": false,
     "title": ""
    }
   },
   "source": [
    "##![Spark Logo Tiny](https://files.training.databricks.com/images/105/logo_spark_tiny.png) For-In Loops\n",
    "\n",
    "More modern programming languages such as Python, Scala, Java, and others, have abandoned if not deprecated this type of loop.\n",
    "\n",
    "Instead they use a for-in methodology that amounts to executing a block of code once for every item in a list.\n",
    "\n",
    "To see how this works, we need to first introduce a list - we will cover lists in more details in a latter section."
   ]
  },
  {
   "cell_type": "markdown",
   "metadata": {
    "application/vnd.databricks.v1+cell": {
     "cellMetadata": {},
     "inputWidgets": {},
     "nuid": "bc7f36b7-13b8-4ca3-9f98-c059b2b385af",
     "showTitle": false,
     "title": ""
    }
   },
   "source": [
    "Let's make a <a href=\"https://docs.python.org/3/library/stdtypes.html#list\" target=\"_blank\">list</a> of what everyone ate for breakfast this morning.\n",
    "\n",
    "<img src=\"https://upload.wikimedia.org/wikipedia/commons/thumb/2/20/Scrambed_eggs.jpg/1280px-Scrambed_eggs.jpg\" width=\"20%\" height=\"10%\">"
   ]
  },
  {
   "cell_type": "code",
   "execution_count": 0,
   "metadata": {
    "application/vnd.databricks.v1+cell": {
     "cellMetadata": {},
     "inputWidgets": {},
     "nuid": "83df329e-ea65-4ea7-b1c9-e92146097db9",
     "showTitle": false,
     "title": ""
    }
   },
   "outputs": [],
   "source": [
    "breakfast_list = [\"pancakes\", \"eggs\", \"waffles\"] # Declare the list\n",
    "print(breakfast_list)                            # Print the entire list"
   ]
  },
  {
   "cell_type": "markdown",
   "metadata": {
    "application/vnd.databricks.v1+cell": {
     "cellMetadata": {},
     "inputWidgets": {},
     "nuid": "38a423ac-9ac7-402f-b690-d2e281bc885b",
     "showTitle": false,
     "title": ""
    }
   },
   "source": [
    "There are a lot of different things we can do with a list such as:\n",
    "* Iterating over a list\n",
    "* Accessing specific elements of a list\n",
    "* Slicing a list\n",
    "* Appending to a list\n",
    "* Removing items from a list\n",
    "* Concatenating lists\n",
    "* and so on...\n",
    "\n",
    "For now, let's focus on iterating over a list and printing each individual item in the list:"
   ]
  },
  {
   "cell_type": "code",
   "execution_count": 0,
   "metadata": {
    "application/vnd.databricks.v1+cell": {
     "cellMetadata": {},
     "inputWidgets": {},
     "nuid": "7cd0be37-6ba9-4525-9dd9-c7ce6732d400",
     "showTitle": false,
     "title": ""
    }
   },
   "outputs": [],
   "source": [
    "for food in breakfast_list:\n",
    "  print(food)\n",
    "  \n",
    "print(\"This is executed once because it is outside the for loop\")"
   ]
  },
  {
   "cell_type": "markdown",
   "metadata": {
    "application/vnd.databricks.v1+cell": {
     "cellMetadata": {},
     "inputWidgets": {},
     "nuid": "88031832-5979-4e48-81b1-79cce54de10d",
     "showTitle": false,
     "title": ""
    }
   },
   "source": [
    "So how does one replicate a C-Style For Loop on a range of numbers in Python?\n",
    "\n",
    "For that, we can use the <a href=\"https://docs.python.org/3/library/functions.html#func-range\" target=\"_blank\">range</a> function which produces an immutable collection of nubmers (a type of list)."
   ]
  },
  {
   "cell_type": "code",
   "execution_count": 0,
   "metadata": {
    "application/vnd.databricks.v1+cell": {
     "cellMetadata": {},
     "inputWidgets": {},
     "nuid": "0fb8fb88-847b-4929-adce-fc38315291e3",
     "showTitle": false,
     "title": ""
    }
   },
   "outputs": [],
   "source": [
    "for i in range(0, 5):\n",
    "  print(i)"
   ]
  },
  {
   "cell_type": "markdown",
   "metadata": {
    "application/vnd.databricks.v1+cell": {
     "cellMetadata": {},
     "inputWidgets": {},
     "nuid": "a34e9364-820b-4fab-bf29-0e4b05a339d5",
     "showTitle": false,
     "title": ""
    }
   },
   "source": [
    "We will talk more about collections in a later section including lists, ranges, dictionaries, etc.\n",
    "\n",
    "The key thing to remember here is that they are all iterable and the **`for-in`** expression allows us to iterate over them."
   ]
  },
  {
   "cell_type": "markdown",
   "metadata": {
    "application/vnd.databricks.v1+cell": {
     "cellMetadata": {},
     "inputWidgets": {},
     "nuid": "48d7b647-149e-4214-9c22-9af40ae5845d",
     "showTitle": false,
     "title": ""
    }
   },
   "source": [
    "##![Spark Logo Tiny](https://files.training.databricks.com/images/105/logo_spark_tiny.png) Conditionals\n",
    "\n",
    "Before exploring loops further, let's take a look at conditionals.\n",
    "\n",
    "At the end of this lesson, we combine these two concepts so as to develop more complex constructs."
   ]
  },
  {
   "cell_type": "markdown",
   "metadata": {
    "application/vnd.databricks.v1+cell": {
     "cellMetadata": {},
     "inputWidgets": {},
     "nuid": "2f8b05d0-133e-4fb0-9fd5-e2953bdca590",
     "showTitle": false,
     "title": ""
    }
   },
   "source": [
    "\n",
    "We don't always want to execute every line of code.\n",
    "\n",
    "We can that process by employing **`if`**, **`elif`**, and **`else`** expressions.\n",
    "\n",
    "We can see a few examples here:"
   ]
  },
  {
   "cell_type": "code",
   "execution_count": 0,
   "metadata": {
    "application/vnd.databricks.v1+cell": {
     "cellMetadata": {},
     "inputWidgets": {},
     "nuid": "c9c681a2-adfe-4a5d-91cc-257830d526e9",
     "showTitle": false,
     "title": ""
    }
   },
   "outputs": [],
   "source": [
    "food = \"bacon\"\n",
    "\n",
    "if food == \"eggs\":\n",
    "  print(\"Make scrambled eggs\")\n",
    "  \n",
    "print(\"All done\")"
   ]
  },
  {
   "cell_type": "markdown",
   "metadata": {
    "application/vnd.databricks.v1+cell": {
     "cellMetadata": {},
     "inputWidgets": {},
     "nuid": "54bdf343-d140-4f53-b8e0-338f004dec31",
     "showTitle": false,
     "title": ""
    }
   },
   "source": [
    "In the example above, line #5 is not executed.\n",
    "\n",
    "Edit line #2 above and set the variable **`food`** to **`\"eggs\"`** and rerun the command."
   ]
  },
  {
   "cell_type": "markdown",
   "metadata": {
    "application/vnd.databricks.v1+cell": {
     "cellMetadata": {},
     "inputWidgets": {},
     "nuid": "06a43f47-df76-4346-9ee6-a194b32d1614",
     "showTitle": false,
     "title": ""
    }
   },
   "source": [
    "Let's build on this example with an **`else`** expression..."
   ]
  },
  {
   "cell_type": "code",
   "execution_count": 0,
   "metadata": {
    "application/vnd.databricks.v1+cell": {
     "cellMetadata": {},
     "inputWidgets": {},
     "nuid": "b3423987-72bd-46af-b86f-7dd32e2421c0",
     "showTitle": false,
     "title": ""
    }
   },
   "outputs": [],
   "source": [
    "food = \"bacon\"\n",
    "\n",
    "if food == \"eggs\":\n",
    "  print(\"Make scrambled eggs\")\n",
    "else:\n",
    "  print(f\"I don't know what to do with {food}\")\n",
    "  \n",
    "print(\"All done\")"
   ]
  },
  {
   "cell_type": "markdown",
   "metadata": {
    "application/vnd.databricks.v1+cell": {
     "cellMetadata": {},
     "inputWidgets": {},
     "nuid": "c3f98d0d-b9ee-490b-8616-327d2023cce1",
     "showTitle": false,
     "title": ""
    }
   },
   "source": [
    "And lastly, we can introduce the **`elif`** expression..."
   ]
  },
  {
   "cell_type": "code",
   "execution_count": 0,
   "metadata": {
    "application/vnd.databricks.v1+cell": {
     "cellMetadata": {},
     "inputWidgets": {},
     "nuid": "99fbd5b6-6c92-4896-a38c-69a6e34eb0bc",
     "showTitle": false,
     "title": ""
    }
   },
   "outputs": [],
   "source": [
    "food = \"bacon\"\n",
    "\n",
    "if food == \"eggs\":\n",
    "  print(\"Make scrambled eggs\")\n",
    "elif food == \"waffles\":\n",
    "  print(\"I need syrup for my waffles\")\n",
    "else:\n",
    "  print(f\"I don't know what to do with {food}\")\n",
    "  \n",
    "print(\"All done\")"
   ]
  },
  {
   "cell_type": "markdown",
   "metadata": {
    "application/vnd.databricks.v1+cell": {
     "cellMetadata": {},
     "inputWidgets": {},
     "nuid": "6c058828-5d21-40c6-abb8-5daca08300d4",
     "showTitle": false,
     "title": ""
    }
   },
   "source": [
    "What if the expression needs to be more complex?\n",
    "\n",
    "For example, if I need syrup with waffles or pancakes?\n",
    "\n",
    "Each **`if`** and **`elif`** expression can get increasignly more complex by adding more conditional statements and combining them with various **`and`** &amp; **`or`** operators"
   ]
  },
  {
   "cell_type": "code",
   "execution_count": 0,
   "metadata": {
    "application/vnd.databricks.v1+cell": {
     "cellMetadata": {},
     "inputWidgets": {},
     "nuid": "944f6d6a-d57a-4932-8474-5cc4e4be5ee8",
     "showTitle": false,
     "title": ""
    }
   },
   "outputs": [],
   "source": [
    "food = \"bacon\"\n",
    "\n",
    "if food == \"eggs\":\n",
    "  print(\"Make scrambled eggs\")\n",
    "elif food == \"waffles\" or food == \"pancakes\":\n",
    "  print(f\"I need syrup for my {food}\")\n",
    "else:\n",
    "  print(f\"I don't know what to do with {food}\")\n",
    "  \n",
    "print(\"All done\")"
   ]
  },
  {
   "cell_type": "markdown",
   "metadata": {
    "application/vnd.databricks.v1+cell": {
     "cellMetadata": {},
     "inputWidgets": {},
     "nuid": "e4808218-b6fd-4695-bad3-a97e94f70c9a",
     "showTitle": false,
     "title": ""
    }
   },
   "source": [
    "Besides compounding conditional statements, we can also nest **`if`**, **`elif`** and **`else`** expressions:"
   ]
  },
  {
   "cell_type": "code",
   "execution_count": 0,
   "metadata": {
    "application/vnd.databricks.v1+cell": {
     "cellMetadata": {},
     "inputWidgets": {},
     "nuid": "6e3d8e66-7824-4a86-89c2-e58ffa0b47d0",
     "showTitle": false,
     "title": ""
    }
   },
   "outputs": [],
   "source": [
    "food = \"bacon\"\n",
    "\n",
    "if food != \"eggs\":\n",
    "  if food == \"waffles\" or food == \"pancakes\":\n",
    "    print(f\"I need syrup for my {food}\")\n",
    "  else:\n",
    "    print(f\"I don't know what to do with {food}\")\n",
    "else:\n",
    "  print(\"Make scrambled eggs\")\n",
    "  \n",
    "print(\"All done\")"
   ]
  },
  {
   "cell_type": "markdown",
   "metadata": {
    "application/vnd.databricks.v1+cell": {
     "cellMetadata": {},
     "inputWidgets": {},
     "nuid": "dd4b577a-225a-4068-b3d3-74ebf0c3c7e6",
     "showTitle": false,
     "title": ""
    }
   },
   "source": [
    "##![Spark Logo Tiny](https://files.training.databricks.com/images/105/logo_spark_tiny.png) Loops & Conditionals\n",
    "\n",
    "Lastly, let's take a look at how we can combine these two constructs.\n",
    "\n",
    "Before we do, let's review the contents of our breakfast list:"
   ]
  },
  {
   "cell_type": "code",
   "execution_count": 0,
   "metadata": {
    "application/vnd.databricks.v1+cell": {
     "cellMetadata": {},
     "inputWidgets": {},
     "nuid": "20644a0b-c22a-4e30-b873-be824969fa20",
     "showTitle": false,
     "title": ""
    }
   },
   "outputs": [],
   "source": [
    "for food in breakfast_list:\n",
    "  print(food)"
   ]
  },
  {
   "cell_type": "markdown",
   "metadata": {
    "application/vnd.databricks.v1+cell": {
     "cellMetadata": {},
     "inputWidgets": {},
     "nuid": "6a663b79-88d1-49a3-9b4c-8d81ab918061",
     "showTitle": false,
     "title": ""
    }
   },
   "source": [
    "Next we will iterate over that list and instead of printing each item, we can run through our conditionals instead"
   ]
  },
  {
   "cell_type": "code",
   "execution_count": 0,
   "metadata": {
    "application/vnd.databricks.v1+cell": {
     "cellMetadata": {},
     "inputWidgets": {},
     "nuid": "73e8496c-b2cf-4f1c-bee6-ee76270812e8",
     "showTitle": false,
     "title": ""
    }
   },
   "outputs": [],
   "source": [
    "for food in breakfast_list:\n",
    "  if food != \"eggs\":\n",
    "    if food == \"waffles\" or food == \"pancakes\":\n",
    "      print(f\"I need syrup for my {food}\")\n",
    "    else:\n",
    "      print(f\"I don't know what to do with {food}\")\n",
    "  else:\n",
    "    print(\"Make scrambled eggs\")\n",
    "  \n",
    "print(\"All done\")"
   ]
  },
  {
   "cell_type": "markdown",
   "metadata": {
    "application/vnd.databricks.v1+cell": {
     "cellMetadata": {},
     "inputWidgets": {},
     "nuid": "5ca788c1-5c58-4f5f-be32-7a585ac27bf1",
     "showTitle": false,
     "title": ""
    }
   },
   "source": [
    "&copy; 2020 Databricks, Inc. All rights reserved.<br/>\n",
    "Apache, Apache Spark, Spark and the Spark logo are trademarks of the <a href=\"http://www.apache.org/\">Apache Software Foundation</a>.<br/>\n",
    "<br/>\n",
    "<a href=\"https://databricks.com/privacy-policy\">Privacy Policy</a> | <a href=\"https://databricks.com/terms-of-use\">Terms of Use</a> | <a href=\"http://help.databricks.com/\">Support</a>"
   ]
  }
 ],
 "metadata": {
  "application/vnd.databricks.v1+notebook": {
   "dashboards": [],
   "language": "python",
   "notebookMetadata": {
    "pythonIndentUnit": 2
   },
   "notebookName": "JEP 03 - CL",
   "widgets": {}
  }
 },
 "nbformat": 4,
 "nbformat_minor": 0
}
