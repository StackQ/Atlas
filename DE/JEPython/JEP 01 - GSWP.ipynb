{
 "cells": [
  {
   "cell_type": "markdown",
   "metadata": {
    "application/vnd.databricks.v1+cell": {
     "cellMetadata": {},
     "inputWidgets": {},
     "nuid": "09ce6851-4446-41e3-8340-329a84426872",
     "showTitle": false,
     "title": ""
    }
   },
   "source": [
    "\n",
    "<div style=\"text-align: center; line-height: 0; padding-top: 9px;\">\n",
    "  <img src=\"https://databricks.com/wp-content/uploads/2018/03/db-academy-rgb-1200px.png\" alt=\"Databricks Learning\" style=\"width: 600px\">\n",
    "</div>"
   ]
  },
  {
   "cell_type": "markdown",
   "metadata": {
    "application/vnd.databricks.v1+cell": {
     "cellMetadata": {},
     "inputWidgets": {},
     "nuid": "fdd06ecb-53a8-4556-b613-0f9451873719",
     "showTitle": false,
     "title": ""
    }
   },
   "source": [
    "\n",
    "#Getting Started with Python\n",
    "\n",
    "## In this lesson you'll learn:\n",
    "\n",
    "* Key Python Internet resources\n",
    "* How to run Python code in various environments"
   ]
  },
  {
   "cell_type": "markdown",
   "metadata": {
    "application/vnd.databricks.v1+cell": {
     "cellMetadata": {},
     "inputWidgets": {},
     "nuid": "f35f4a9b-5eea-4532-b656-8ee28ed63dfb",
     "showTitle": false,
     "title": ""
    }
   },
   "source": [
    "\n",
    "##![Spark Logo Tiny](https://files.training.databricks.com/images/105/logo_spark_tiny.png) What is Python?\n",
    "\n",
    "> Python is an interpreted, object-oriented, high-level programming language with dynamic semantics.<br/>\n",
    "> Its high-level built in data structures, combined with dynamic typing and dynamic binding, make it<br/>\n",
    "> very attractive for Rapid Application Development, as well as for use as a scripting or glue language<br/>\n",
    "> to connect existing components together.\n",
    "\n",
    "<a href=\"https://www.python.org/doc/essays/blurb/\" target=\"_blank\">https&#58;//www.python.org/doc/essays/blurb</a>\n",
    "\n",
    "Key Points:\n",
    "- Python is an interpreted programming language (compilation of the program is not required)\n",
    "- The main focus is on **readability** and **productivity**\n",
    "- It is dynamically typed language (type checking is performed at run time)\n",
    "- Despite their dynamic nature, values cannot be implicitly coerced to unrelated types (for example, **`print(\"Foo \" + 5)`** throws a **`TypeError`**)\n",
    "- Created by Guido van Rossum and first released in 1990"
   ]
  },
  {
   "cell_type": "markdown",
   "metadata": {
    "application/vnd.databricks.v1+cell": {
     "cellMetadata": {},
     "inputWidgets": {},
     "nuid": "09b20687-e008-4c2b-a664-ad448d450de4",
     "showTitle": false,
     "title": ""
    }
   },
   "source": [
    "\n",
    "##![Spark Logo Tiny](https://files.training.databricks.com/images/105/logo_spark_tiny.png) Important Links\n",
    "\n",
    "- The home page of Python is at <a href=\"https://www.python.org\" target=\"_blank\">https&#58;//www.python.org</a>\n",
    "- Documentation about standard features and library is available at <a href=\"https://docs.python.org/3\" target=\"_blank\">https&#58;//docs.python.org/3</a>\n",
    "- A useful list of libraries available for Python is available at <a href=\"https://github.com/vinta/awesome-python\" target=\"_blank\">https&#58;//github.com/vinta/awesome-python</a>\n",
    "\n",
    "Additional Resources:\n",
    "* [Python for Data Analysis by Wes McKinney](https://www.amazon.com/gp/product/1491957662/ref=as_li_qf_asin_il_tl?ie=UTF8&tag=quantpytho-20&creative=9325&linkCode=as2&creativeASIN=1491957662&linkId=ea8de4253cce96046e8ab0383ac71b33)\n",
    "* [Python reference sheet](http://www.cogsci.rpi.edu/~destem/igd/python_cheat_sheet.pdf)\n",
    "* [Python official tutorial](https://docs.python.org/3/tutorial/)"
   ]
  },
  {
   "cell_type": "markdown",
   "metadata": {
    "application/vnd.databricks.v1+cell": {
     "cellMetadata": {},
     "inputWidgets": {},
     "nuid": "1cff99da-2379-4209-9530-3fb0cda246e7",
     "showTitle": false,
     "title": ""
    }
   },
   "source": [
    "\n",
    "##![Spark Logo Tiny](https://files.training.databricks.com/images/105/logo_spark_tiny.png) Running Python Programs\n",
    "\n",
    "This is a Python program that simply prints \"Hello, world!\" to the terminal when executed:\n",
    "\n",
    "<pre style=\"font-weight:bold\">\n",
    "print(\"Hello, world!\")\n",
    "</pre>\n",
    "\n",
    ":SIDENOTE: By convention, Python source files use a **`.py`** extension.\n",
    "\n",
    "Use the **`python`** command to run your Python program:\n",
    "\n",
    "<pre>$ python HelloWorld.py</pre>"
   ]
  },
  {
   "cell_type": "markdown",
   "metadata": {
    "application/vnd.databricks.v1+cell": {
     "cellMetadata": {},
     "inputWidgets": {},
     "nuid": "3dfbc0ad-d334-443d-9afc-9a0b8aa990b9",
     "showTitle": false,
     "title": ""
    }
   },
   "source": [
    "\n",
    "##![Spark Logo Tiny](https://files.training.databricks.com/images/105/logo_spark_tiny.png) The Python REPL\n",
    "\n",
    "Python also includes a REPL (“read-eval-print-loop”) that functions as an interpreter for Python code. Using the REPL you can interactively execute and test out Python code.\n",
    "\n",
    "You start the REPL from the terminal by executing the **`python`** command with no arguments. For example:\n",
    "\n",
    "<pre style=\"font-weight:bold\">\n",
    "$ python\n",
    "Python 3.7.1 (default, Dec 14 2018, 13:28:58) \n",
    "[Clang 4.0.1 (tags/RELEASE_401/final)] :: Anaconda, Inc. on darwin\n",
    "Type \"help\", \"copyright\", \"credits\" or \"license\" for more information.\n",
    ">>> print(\"Welcome to Databricks Academy\")\n",
    "Welcome to Databricks Academy\n",
    ">>> exit()\n",
    "$ \n",
    "</pre>"
   ]
  },
  {
   "cell_type": "markdown",
   "metadata": {
    "application/vnd.databricks.v1+cell": {
     "cellMetadata": {},
     "inputWidgets": {},
     "nuid": "44f5319c-b687-4a0c-8298-974258a85a07",
     "showTitle": false,
     "title": ""
    }
   },
   "source": [
    "\n",
    "##![Spark Logo Tiny](https://files.training.databricks.com/images/105/logo_spark_tiny.png) Python and IDEs\n",
    "\n",
    "For developing Python in an integrated development environment (IDE), there are two main choices:\n",
    "\n",
    "* PyCharm: <a href=\"https://www.jetbrains.com/pycharm\" target=\"_blank\">https&#58;//www.jetbrains.com/pycharm</a>\n",
    "* Spyder: <a href=\"https://www.spyder-ide.org\" target=\"_blank\">https&#58;//www.spyder-ide.org</a>\n",
    "* Atom: <a href=\"https://ide.atom.io/\" target=\"_blank\">https&#58;//ide.atom.io/</a>"
   ]
  },
  {
   "cell_type": "markdown",
   "metadata": {
    "application/vnd.databricks.v1+cell": {
     "cellMetadata": {},
     "inputWidgets": {},
     "nuid": "11244eab-b221-4e2f-89f8-a152d1606e8a",
     "showTitle": false,
     "title": ""
    }
   },
   "source": [
    "##![Spark Logo Tiny](https://files.training.databricks.com/images/105/logo_spark_tiny.png) Databricks Connect\n",
    "\n",
    "**Databricks Connect** allows you to connect your favorite IDE (IntelliJ, Eclipse, PyCharm, RStudio, Visual Studio), notebook server (Zeppelin, Jupyter), and other custom applications to Databricks clusters and run Apache Spark code.\n",
    "\n",
    "With Databricks Connect, you can:\n",
    "* Run large-scale Spark jobs from any Python, Java, Scala, or R application. \n",
    "* Step through and debug code in your IDE even when working with a remote cluster.\n",
    "* Iterate quickly when developing libraries. \n",
    "* Shut down idle clusters without losing work. \n",
    "\n",
    "For more information, see <a href=\"https://docs.databricks.com/dev-tools/databricks-connect.html\" target=\"_blank\">https&#58;//docs.databricks.com/dev-tools/databricks-connect.html</a>"
   ]
  },
  {
   "cell_type": "markdown",
   "metadata": {
    "application/vnd.databricks.v1+cell": {
     "cellMetadata": {},
     "inputWidgets": {},
     "nuid": "a45a33ad-2547-4119-a42a-b70fabd4ae02",
     "showTitle": false,
     "title": ""
    }
   },
   "source": [
    "\n",
    "##![Spark Logo Tiny](https://files.training.databricks.com/images/105/logo_spark_tiny.png) Notebook Interfaces for Python Development\n",
    "\n",
    "Databricks provides a notebook interface for developing executable code, visualizations, and narrative text. When you run an executable code cell in a notebook, the code is executed in a Python REPL on the Databricks cloud platform and the results are displayed in the notebook.\n",
    "\n",
    "Other notebook interfaces with support for Python include:\n",
    "\n",
    "* Apache Zeppelin: <a href=\"https://zeppelin.apache.org\" target=\"_blank\">https&#58;//zeppelin.apache.org</a>\n",
    "* Jupyter Notebook: <a href=\"https://jupyter.org\" target=\"_blank\">https&#58;//jupyter.org</a>\n",
    "\n",
    "Try executing the following code cell."
   ]
  },
  {
   "cell_type": "code",
   "execution_count": 0,
   "metadata": {
    "application/vnd.databricks.v1+cell": {
     "cellMetadata": {},
     "inputWidgets": {},
     "nuid": "b8461580-3f75-41ba-a368-f394f08d9f3a",
     "showTitle": false,
     "title": ""
    }
   },
   "outputs": [],
   "source": [
    "%python\n",
    "\n",
    "print(\"Hello, world!\")"
   ]
  },
  {
   "cell_type": "markdown",
   "metadata": {
    "application/vnd.databricks.v1+cell": {
     "cellMetadata": {},
     "inputWidgets": {},
     "nuid": "addf46c7-5104-44fd-b2a1-5f8b737e4b79",
     "showTitle": false,
     "title": ""
    }
   },
   "source": [
    "&copy; 2020 Databricks, Inc. All rights reserved.<br/>\n",
    "Apache, Apache Spark, Spark and the Spark logo are trademarks of the <a href=\"http://www.apache.org/\">Apache Software Foundation</a>.<br/>\n",
    "<br/>\n",
    "<a href=\"https://databricks.com/privacy-policy\">Privacy Policy</a> | <a href=\"https://databricks.com/terms-of-use\">Terms of Use</a> | <a href=\"http://help.databricks.com/\">Support</a>"
   ]
  }
 ],
 "metadata": {
  "application/vnd.databricks.v1+notebook": {
   "dashboards": [],
   "language": "python",
   "notebookMetadata": {
    "pythonIndentUnit": 2
   },
   "notebookName": "JEP 01 - GSWP",
   "widgets": {}
  }
 },
 "nbformat": 4,
 "nbformat_minor": 0
}
