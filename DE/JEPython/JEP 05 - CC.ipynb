{
 "cells": [
  {
   "cell_type": "markdown",
   "metadata": {
    "application/vnd.databricks.v1+cell": {
     "cellMetadata": {},
     "inputWidgets": {},
     "nuid": "73848833-85be-45aa-b9bb-738812bb4149",
     "showTitle": false,
     "title": ""
    }
   },
   "source": [
    "\n",
    "<div style=\"text-align: center; line-height: 0; padding-top: 9px;\">\n",
    "  <img src=\"https://databricks.com/wp-content/uploads/2018/03/db-academy-rgb-1200px.png\" alt=\"Databricks Learning\" style=\"width: 600px\">\n",
    "</div>"
   ]
  },
  {
   "cell_type": "markdown",
   "metadata": {
    "application/vnd.databricks.v1+cell": {
     "cellMetadata": {},
     "inputWidgets": {},
     "nuid": "63878a52-3c5f-44af-9cab-2b7cc3d9e380",
     "showTitle": false,
     "title": ""
    }
   },
   "source": [
    "# Collections & Classes\n",
    "## ![Spark Logo Tiny](https://files.training.databricks.com/images/105/logo_spark_tiny.png) In this lesson you:<br>\n",
    "- Use list methods and syntax to append, remove, or replace elements of a list\n",
    "- Compare ranges to lists\n",
    "- Define dictionaries\n",
    "- Use list and dictionary comprehensions to efficiently transform each element of each data structure\n",
    "- Define classes and methods"
   ]
  },
  {
   "cell_type": "markdown",
   "metadata": {
    "application/vnd.databricks.v1+cell": {
     "cellMetadata": {},
     "inputWidgets": {},
     "nuid": "f81fb625-e5b9-4d3d-ace6-2d48a6056dcd",
     "showTitle": false,
     "title": ""
    }
   },
   "source": [
    "## ![Spark Logo Tiny](https://files.training.databricks.com/images/105/logo_spark_tiny.png) Lists\n",
    "\n",
    "We've seen that a list is an ordered sequence of items and that a **`for-in`** expression can be used to iterate over them.\n",
    "\n",
    "The items may be of any type, though in practice you'll usually create lists where all of the values are of the same type.\n",
    "\n",
    "You typically create a list by providing comma-separated values enclosed by square brackets."
   ]
  },
  {
   "cell_type": "code",
   "execution_count": 0,
   "metadata": {
    "application/vnd.databricks.v1+cell": {
     "cellMetadata": {},
     "inputWidgets": {},
     "nuid": "ece26018-a08b-4de9-b8da-38ca82a464c5",
     "showTitle": false,
     "title": ""
    }
   },
   "outputs": [],
   "source": [
    "breakfast_list = [\"pancakes\", \"apple\", \"eggs\"]\n",
    "print(breakfast_list)"
   ]
  },
  {
   "cell_type": "markdown",
   "metadata": {
    "application/vnd.databricks.v1+cell": {
     "cellMetadata": {},
     "inputWidgets": {},
     "nuid": "a86370de-7ef0-42ef-988d-c2b87e8b16b4",
     "showTitle": false,
     "title": ""
    }
   },
   "source": [
    "### Referencing Elements Of A List\n",
    "Elemets of a list are referenced by appending a pair of square brackets (which surround an index number) to the end the list variable.\n",
    "\n",
    "It's important to note that in Python, lists are zero-indexed meaning that the first item is referenced by index zero."
   ]
  },
  {
   "cell_type": "code",
   "execution_count": 0,
   "metadata": {
    "application/vnd.databricks.v1+cell": {
     "cellMetadata": {},
     "inputWidgets": {},
     "nuid": "94620634-1208-4a1b-ab1b-ec21a3ed4320",
     "showTitle": false,
     "title": ""
    }
   },
   "outputs": [],
   "source": [
    "first_item = breakfast_list[0]\n",
    "second_item = breakfast_list[1]\n",
    "thrid_item = breakfast_list[2]\n",
    "# non_existant_item = breakfast_list[3]\n",
    "\n",
    "print(f\"\"\"The first item is \"{first_item}\".\"\"\")\n",
    "print(f\"\"\"The second item is \"{second_item}\".\"\"\")\n",
    "print(f\"\"\"The thrid item is \"{thrid_item}\".\"\"\")"
   ]
  },
  {
   "cell_type": "markdown",
   "metadata": {
    "application/vnd.databricks.v1+cell": {
     "cellMetadata": {},
     "inputWidgets": {},
     "nuid": "e754c0cc-b783-4c89-b6d3-d03beab51567",
     "showTitle": false,
     "title": ""
    }
   },
   "source": [
    "When the length of a list is not know, you can employ the built in function **`len()`** to determine the length of the list and access the last item.\n",
    "\n",
    "This is a common practice in many different programming languages."
   ]
  },
  {
   "cell_type": "code",
   "execution_count": 0,
   "metadata": {
    "application/vnd.databricks.v1+cell": {
     "cellMetadata": {},
     "inputWidgets": {},
     "nuid": "9cedd336-12b2-42bc-8e5a-a6737b9488c7",
     "showTitle": false,
     "title": ""
    }
   },
   "outputs": [],
   "source": [
    "list_length = len(breakfast_list)         # first determine the length of the list\n",
    "last_item = breakfast_list[list_length-1] # minus one because we are a zero-based index\n",
    "\n",
    "print(f\"The list has {list_length} items in it.\")\n",
    "print(f\"\"\"The last item is \"{last_item}\".\"\"\")"
   ]
  },
  {
   "cell_type": "markdown",
   "metadata": {
    "application/vnd.databricks.v1+cell": {
     "cellMetadata": {},
     "inputWidgets": {},
     "nuid": "ad463a10-8b86-4e16-b2c1-00ca97f66afc",
     "showTitle": false,
     "title": ""
    }
   },
   "source": [
    "But Python goes a long way to make hard things convenient. \n",
    "\n",
    "For example, you can access the last item in a list by counting backwards, as it where."
   ]
  },
  {
   "cell_type": "code",
   "execution_count": 0,
   "metadata": {
    "application/vnd.databricks.v1+cell": {
     "cellMetadata": {},
     "inputWidgets": {},
     "nuid": "832b6f57-2454-4e82-af78-60b2fe6fba04",
     "showTitle": false,
     "title": ""
    }
   },
   "outputs": [],
   "source": [
    "thrid_item_v2 = breakfast_list[-1]\n",
    "second_item_v2 = breakfast_list[-2]\n",
    "first_item_v2 = breakfast_list[-3]\n",
    "\n",
    "\n",
    "print(f\"\"\"From the end, the thrid item is \"{thrid_item_v2}\".\"\"\")\n",
    "print(f\"\"\"From the end, the second item is \"{second_item_v2}\".\"\"\")\n",
    "print(f\"\"\"From the end, the first item is \"{first_item_v2}\".\"\"\")"
   ]
  },
  {
   "cell_type": "markdown",
   "metadata": {
    "application/vnd.databricks.v1+cell": {
     "cellMetadata": {},
     "inputWidgets": {},
     "nuid": "f5df2776-b3ce-4dab-8a2f-1f8bd33d1fe8",
     "showTitle": false,
     "title": ""
    }
   },
   "source": [
    "### Altering Lists\n",
    "Lists are _mutable_ collections, meaning that we can change the contents of the list with operations that update, append to, and delete the elements of a list."
   ]
  },
  {
   "cell_type": "code",
   "execution_count": 0,
   "metadata": {
    "application/vnd.databricks.v1+cell": {
     "cellMetadata": {},
     "inputWidgets": {},
     "nuid": "75eea813-c121-496f-b4c2-647719c11c8f",
     "showTitle": false,
     "title": ""
    }
   },
   "outputs": [],
   "source": [
    "breakfast_list = [\"pancakes\", \"apple\", \"eggs\"]\n",
    "print(f\"Before the update: {breakfast_list}\")\n",
    "\n",
    "# Replace pancakes with waffles\n",
    "breakfast_list[0] = \"waffles\" \n",
    "\n",
    "print(f\"After the update:  {breakfast_list}\")"
   ]
  },
  {
   "cell_type": "markdown",
   "metadata": {
    "application/vnd.databricks.v1+cell": {
     "cellMetadata": {},
     "inputWidgets": {},
     "nuid": "f7874475-d4b4-4e14-9f94-9981465aea14",
     "showTitle": false,
     "title": ""
    }
   },
   "source": [
    "Because a list is an object, it also supports additional methods such as the **`append()`** method:"
   ]
  },
  {
   "cell_type": "code",
   "execution_count": 0,
   "metadata": {
    "application/vnd.databricks.v1+cell": {
     "cellMetadata": {},
     "inputWidgets": {},
     "nuid": "ed1e128c-94ef-49ce-9b3a-379403daac83",
     "showTitle": false,
     "title": ""
    }
   },
   "outputs": [],
   "source": [
    "breakfast_list = [\"pancakes\", \"apple\", \"eggs\"]\n",
    "print(f\"Before the append: {breakfast_list}\")\n",
    "\n",
    "# Append an item to the end of the list\n",
    "breakfast_list.append(\"oatmeal\")\n",
    "\n",
    "print(f\"After the append:  {breakfast_list}\")"
   ]
  },
  {
   "cell_type": "markdown",
   "metadata": {
    "application/vnd.databricks.v1+cell": {
     "cellMetadata": {},
     "inputWidgets": {},
     "nuid": "80872739-2238-4557-92ba-63bf83094006",
     "showTitle": false,
     "title": ""
    }
   },
   "source": [
    "The **`del`** keyword allows you to remove an item from a list if you know it's specific index."
   ]
  },
  {
   "cell_type": "code",
   "execution_count": 0,
   "metadata": {
    "application/vnd.databricks.v1+cell": {
     "cellMetadata": {},
     "inputWidgets": {},
     "nuid": "2f87bb73-228c-42c9-bbb5-55dc195d9149",
     "showTitle": false,
     "title": ""
    }
   },
   "outputs": [],
   "source": [
    "breakfast_list = [\"pancakes\", \"apple\", \"eggs\"]\n",
    "print(f\"Before the delete: {breakfast_list}\")\n",
    "\n",
    "# Remove the eggs (the last item in the list) to go vegan\n",
    "del breakfast_list[2]\n",
    "# del breakfast_list[-1]\n",
    "\n",
    "print(f\"After the delete:  {breakfast_list}\")"
   ]
  },
  {
   "cell_type": "markdown",
   "metadata": {
    "application/vnd.databricks.v1+cell": {
     "cellMetadata": {},
     "inputWidgets": {},
     "nuid": "3edb200a-d972-4fe7-8173-39a1b5ff59a5",
     "showTitle": false,
     "title": ""
    }
   },
   "source": [
    "Or you can use another of the list's methods, the **`remove()`** method."
   ]
  },
  {
   "cell_type": "code",
   "execution_count": 0,
   "metadata": {
    "application/vnd.databricks.v1+cell": {
     "cellMetadata": {},
     "inputWidgets": {},
     "nuid": "7b27f276-5d04-4e37-8c4d-13d10d86be7c",
     "showTitle": false,
     "title": ""
    }
   },
   "outputs": [],
   "source": [
    "breakfast_list = [\"pancakes\", \"eggs\", \"apple\"]\n",
    "print(f\"Before the remove: {breakfast_list}\")\n",
    "\n",
    "# Remove the eggs, wherever it may be\n",
    "breakfast_list.remove(\"eggs\")\n",
    "\n",
    "print(f\"After the remove:  {breakfast_list}\")"
   ]
  },
  {
   "cell_type": "markdown",
   "metadata": {
    "application/vnd.databricks.v1+cell": {
     "cellMetadata": {},
     "inputWidgets": {},
     "nuid": "0bd38d10-f36f-45e3-b2ca-064ebf15f3c7",
     "showTitle": false,
     "title": ""
    }
   },
   "source": [
    "#### List Contains Value?\n",
    "\n",
    "You can test for the presence or absence of an item in a list using the **`in`** and **`not in`** operations, respectively."
   ]
  },
  {
   "cell_type": "code",
   "execution_count": 0,
   "metadata": {
    "application/vnd.databricks.v1+cell": {
     "cellMetadata": {},
     "inputWidgets": {},
     "nuid": "ed6c4917-dda4-40df-aa57-84f1e4ad276d",
     "showTitle": false,
     "title": ""
    }
   },
   "outputs": [],
   "source": [
    "breakfast_list = [\"pancakes\", \"eggs\", \"apple\"]\n",
    "\n",
    "if \"apple\" in breakfast_list:\n",
    "  print(\"You had an apple for breakfast.\")\n",
    "\n",
    "if \"bacon\" not in breakfast_list:\n",
    "  print(\"You did not have bacon for breakfast.\")"
   ]
  },
  {
   "cell_type": "markdown",
   "metadata": {
    "application/vnd.databricks.v1+cell": {
     "cellMetadata": {},
     "inputWidgets": {},
     "nuid": "ec0b3aac-7468-4de6-a89e-e51738cb16f1",
     "showTitle": false,
     "title": ""
    }
   },
   "source": [
    "#### Built-in Functions for Lists\n",
    "\n",
    "Python has built-in functions for determining the length, minimum, and maximum of a collection.\n",
    "\n",
    "We already saw the **`len()`** function, but we can also use the **`min`** and **`max`** functions on a list.\n",
    "\n",
    "Caution: What these functions return depend largely on the contents of the list."
   ]
  },
  {
   "cell_type": "code",
   "execution_count": 0,
   "metadata": {
    "application/vnd.databricks.v1+cell": {
     "cellMetadata": {},
     "inputWidgets": {},
     "nuid": "93775046-254d-444f-ad09-78a8b8f376db",
     "showTitle": false,
     "title": ""
    }
   },
   "outputs": [],
   "source": [
    "breakfast_list = [\"pancakes\", \"eggs\", \"apple\", \"chicken\"]\n",
    "\n",
    "item_count = len(breakfast_list)\n",
    "item_min = min(breakfast_list)\n",
    "item_max = max(breakfast_list)\n",
    "\n",
    "print(f\"You had {item_count} items for breakfast\")\n",
    "print(f\"\"\"The \"min\" value in the list is \"{item_min}\".\"\"\")\n",
    "print(f\"\"\"The \"max\" value in the list is \"{item_max}\".\"\"\")"
   ]
  },
  {
   "cell_type": "markdown",
   "metadata": {
    "application/vnd.databricks.v1+cell": {
     "cellMetadata": {},
     "inputWidgets": {},
     "nuid": "e5a37fc0-67ef-4bed-a0b3-3bd0913cfe1b",
     "showTitle": false,
     "title": ""
    }
   },
   "source": [
    "The **`max`** and **`min`** functions make more sense with a list of numbers."
   ]
  },
  {
   "cell_type": "code",
   "execution_count": 0,
   "metadata": {
    "application/vnd.databricks.v1+cell": {
     "cellMetadata": {},
     "inputWidgets": {},
     "nuid": "8ee19c8f-ddde-4d85-b0d7-daf74924a6d5",
     "showTitle": false,
     "title": ""
    }
   },
   "outputs": [],
   "source": [
    "some_numbers = [1, 32, 22, 54, 21, 32, 30]\n",
    "\n",
    "item_count = len(some_numbers)\n",
    "min_value = min(some_numbers)\n",
    "max_value = max(some_numbers)\n",
    "\n",
    "print(f\"You had {item_count} items for breakfast\")\n",
    "print(f\"\"\"The \"min\" value in the list is {min_value}.\"\"\")\n",
    "print(f\"\"\"The \"max\" value in the list is {max_value}.\"\"\")"
   ]
  },
  {
   "cell_type": "markdown",
   "metadata": {
    "application/vnd.databricks.v1+cell": {
     "cellMetadata": {},
     "inputWidgets": {},
     "nuid": "e1218184-b1c0-4f62-9850-13dd05ce66fb",
     "showTitle": false,
     "title": ""
    }
   },
   "source": [
    "## ![Spark Logo Tiny](https://files.training.databricks.com/images/105/logo_spark_tiny.png) Ranges\n",
    "\n",
    "A _range_ represents an _immutable_ sequence of numbers.\n",
    "\n",
    "It is commonly used for looping through a sequence of numbers with a **`for-in`** expression.\n",
    "\n",
    "We saw this in action in the previous lesson."
   ]
  },
  {
   "cell_type": "code",
   "execution_count": 0,
   "metadata": {
    "application/vnd.databricks.v1+cell": {
     "cellMetadata": {},
     "inputWidgets": {},
     "nuid": "2fa7a54f-234d-4cf2-9bfe-d1239bc56b58",
     "showTitle": false,
     "title": ""
    }
   },
   "outputs": [],
   "source": [
    "# Note that a range includes the start value and excludes the stop value\n",
    "\n",
    "# A range from 1 up to but not including 5 (exclusive)\n",
    "for i in range(1, 5):\n",
    "  print(f\"This is item #{i}\")"
   ]
  },
  {
   "cell_type": "markdown",
   "metadata": {
    "application/vnd.databricks.v1+cell": {
     "cellMetadata": {},
     "inputWidgets": {},
     "nuid": "fa34fd3c-8d27-4190-ae82-c9cfaf16a769",
     "showTitle": false,
     "title": ""
    }
   },
   "source": [
    "But the **`range()`** function has a lot more versatility to it than just that...\n",
    "\n",
    "Most loops start with zero, so the one-arg variant makes that assumption for you"
   ]
  },
  {
   "cell_type": "code",
   "execution_count": 0,
   "metadata": {
    "application/vnd.databricks.v1+cell": {
     "cellMetadata": {},
     "inputWidgets": {},
     "nuid": "3a74d82a-7c84-4ce9-b32c-a13dd6509db5",
     "showTitle": false,
     "title": ""
    }
   },
   "outputs": [],
   "source": [
    "# A range from 0 to 5 exclusive\n",
    "for i in range(5):\n",
    "  print(f\"This is item #{i}\")"
   ]
  },
  {
   "cell_type": "markdown",
   "metadata": {
    "application/vnd.databricks.v1+cell": {
     "cellMetadata": {},
     "inputWidgets": {},
     "nuid": "d5c68457-e348-4e43-bce3-8b9641071a0f",
     "showTitle": false,
     "title": ""
    }
   },
   "source": [
    "We can also skip numbers by specifying the third parameter, **`step`** ."
   ]
  },
  {
   "cell_type": "code",
   "execution_count": 0,
   "metadata": {
    "application/vnd.databricks.v1+cell": {
     "cellMetadata": {},
     "inputWidgets": {},
     "nuid": "f6c0b04e-f050-4a98-af34-a1907f89feeb",
     "showTitle": false,
     "title": ""
    }
   },
   "outputs": [],
   "source": [
    "# Only even numbers between 0 & 10 exclusive\n",
    "for i in range(0, 10, 2):\n",
    "  print(f\"This is item #{i}\")"
   ]
  },
  {
   "cell_type": "markdown",
   "metadata": {
    "application/vnd.databricks.v1+cell": {
     "cellMetadata": {},
     "inputWidgets": {},
     "nuid": "6b8ff2fe-9dd6-4051-b2c9-a05d3cd0b7ca",
     "showTitle": false,
     "title": ""
    }
   },
   "source": [
    "And we can count backwards just as easily"
   ]
  },
  {
   "cell_type": "code",
   "execution_count": 0,
   "metadata": {
    "application/vnd.databricks.v1+cell": {
     "cellMetadata": {},
     "inputWidgets": {},
     "nuid": "682f0ea7-fcb6-4c96-bbc3-436acc02739d",
     "showTitle": false,
     "title": ""
    }
   },
   "outputs": [
    {
     "output_type": "display_data",
     "data": {
      "text/html": [
       "<style scoped>\n",
       "  .ansiout {\n",
       "    display: block;\n",
       "    unicode-bidi: embed;\n",
       "    white-space: pre-wrap;\n",
       "    word-wrap: break-word;\n",
       "    word-break: break-all;\n",
       "    font-family: \"Source Code Pro\", \"Menlo\", monospace;;\n",
       "    font-size: 13px;\n",
       "    color: #555;\n",
       "    margin-left: 4px;\n",
       "    line-height: 19px;\n",
       "  }\n",
       "</style>\n",
       "<div class=\"ansiout\">This is item #12\n",
       "This is item #9\n",
       "This is item #6\n",
       "This is item #3\n",
       "</div>"
      ]
     },
     "metadata": {
      "application/vnd.databricks.v1+output": {
       "addedWidgets": {},
       "arguments": {},
       "data": "<div class=\"ansiout\">This is item #12\nThis is item #9\nThis is item #6\nThis is item #3\n</div>",
       "datasetInfos": [],
       "metadata": {},
       "removedWidgets": [],
       "type": "html"
      }
     },
     "output_type": "display_data"
    }
   ],
   "source": [
    "# Every 3rd number, counting backwards, starting with 12\n",
    "for i in range(12, 0, -3):\n",
    "  print(f\"This is item #{i}\")"
   ]
  },
  {
   "cell_type": "markdown",
   "metadata": {
    "application/vnd.databricks.v1+cell": {
     "cellMetadata": {},
     "inputWidgets": {},
     "nuid": "f8f75b14-aa82-476e-9242-49b5acebd502",
     "showTitle": false,
     "title": ""
    }
   },
   "source": [
    "## ![Spark Logo Tiny](https://files.training.databricks.com/images/105/logo_spark_tiny.png) List Comprehensions\n",
    "\n",
    "A common task is to take a collection of values and create a new collection that is a transformation of the original values.\n",
    "\n",
    "You can do this explicitly with a **`for-in`** expression."
   ]
  },
  {
   "cell_type": "code",
   "execution_count": 0,
   "metadata": {
    "application/vnd.databricks.v1+cell": {
     "cellMetadata": {},
     "inputWidgets": {},
     "nuid": "a2a7adcb-b50f-4491-a74b-6e1330bafe63",
     "showTitle": false,
     "title": ""
    }
   },
   "outputs": [],
   "source": [
    "breakfast_list = [\"pancakes\", \"eggs\", \"apple\", \"chicken\"]\n",
    "print(f\"Before transformation: {breakfast_list}\")\n",
    "\n",
    "caps_list = []  # Create an empty list\n",
    "      \n",
    "for item in breakfast_list:\n",
    "  caps_list.append(item.capitalize())\n",
    "  \n",
    "print(f\"After transformation:  {caps_list}\")"
   ]
  },
  {
   "cell_type": "markdown",
   "metadata": {
    "application/vnd.databricks.v1+cell": {
     "cellMetadata": {},
     "inputWidgets": {},
     "nuid": "2406e037-42b2-44a0-acf4-a37665afabac",
     "showTitle": false,
     "title": ""
    }
   },
   "source": [
    "A more compact and efficient technique to accomplish the same thing is a _list comprehension_. \n",
    "\n",
    "The following is equivalent to the example above:"
   ]
  },
  {
   "cell_type": "code",
   "execution_count": 0,
   "metadata": {
    "application/vnd.databricks.v1+cell": {
     "cellMetadata": {},
     "inputWidgets": {},
     "nuid": "b70db7a8-1ee7-4e04-b930-0d094eb3a130",
     "showTitle": false,
     "title": ""
    }
   },
   "outputs": [],
   "source": [
    "breakfast_list = [\"pancakes\", \"eggs\", \"apple\", \"chicken\"]\n",
    "print(f\"Before transformation: {breakfast_list}\")\n",
    "\n",
    "comp_caps_list = [item.capitalize() for item in breakfast_list]\n",
    "\n",
    "print(f\"After transformation:  {comp_caps_list}\")"
   ]
  },
  {
   "cell_type": "markdown",
   "metadata": {
    "application/vnd.databricks.v1+cell": {
     "cellMetadata": {},
     "inputWidgets": {},
     "nuid": "b025e5ae-6a2d-4994-b9f1-21feb3babb77",
     "showTitle": false,
     "title": ""
    }
   },
   "source": [
    "A comprehension can also include a filter expression to process only the items that match a condition."
   ]
  },
  {
   "cell_type": "code",
   "execution_count": 0,
   "metadata": {
    "application/vnd.databricks.v1+cell": {
     "cellMetadata": {},
     "inputWidgets": {},
     "nuid": "a091ad96-c343-456c-842b-c720b91d8c05",
     "showTitle": false,
     "title": ""
    }
   },
   "outputs": [],
   "source": [
    "breakfast_list = [\"pancakes\", \"eggs\", \"apple\", \"chicken\"]\n",
    "print(f\"Before filtering: {breakfast_list}\")\n",
    "\n",
    "comp_caps_list = [item.capitalize() for item in breakfast_list]\n",
    "\n",
    "short_list = [item.upper() for item in breakfast_list if len(item) >= 7]\n",
    "print(f\"After filtering:  {short_list}\")"
   ]
  },
  {
   "cell_type": "markdown",
   "metadata": {
    "application/vnd.databricks.v1+cell": {
     "cellMetadata": {},
     "inputWidgets": {},
     "nuid": "228ea806-a0ef-491d-8ae7-716521efecde",
     "showTitle": false,
     "title": ""
    }
   },
   "source": [
    "## ![Spark Logo Tiny](https://files.training.databricks.com/images/105/logo_spark_tiny.png) Dictionaries\n",
    "\n",
    "A Python <a href=\"https://docs.python.org/3/library/stdtypes.html#mapping-types-dict\" target=\"_blank\">dictionary</a> is a mutable collection of elements where each element is a key-value pair.\n",
    "\n",
    "* All of the keys in a dictionary must be unique.\n",
    "* The keys must be of an immutable type, typically strings or integers.\n",
    "* The values may be mutable and of any type.\n",
    "* Prior to Python 3.6, dictionaries are _unordered_ collections. The order of elements can change as you add and delete elements.\n",
    "* In Python 3.6 and later, dictionaries are _ordered_ collections, which means that they keep their elements in the same order in which they were originally inserted.\n",
    "\n",
    "You can create a dictionary like this:"
   ]
  },
  {
   "cell_type": "code",
   "execution_count": 0,
   "metadata": {
    "application/vnd.databricks.v1+cell": {
     "cellMetadata": {},
     "inputWidgets": {},
     "nuid": "01a6fb26-e19d-41ea-b099-9c361c5405da",
     "showTitle": false,
     "title": ""
    }
   },
   "outputs": [],
   "source": [
    "breakfast_dict = {\n",
    "  \"eggs\": 160,\n",
    "  \"apple\": 100,\n",
    "  \"pancakes\": 400,\n",
    "  \"waffles\": 300,\n",
    "}\n",
    "print(breakfast_dict)"
   ]
  },
  {
   "cell_type": "markdown",
   "metadata": {
    "application/vnd.databricks.v1+cell": {
     "cellMetadata": {},
     "inputWidgets": {},
     "nuid": "fcc790d2-08ed-4530-9011-58022ade36e7",
     "showTitle": false,
     "title": ""
    }
   },
   "source": [
    "#### Accessing Dictionary Values\n",
    "\n",
    "Once created, you can retrieve the value corresponding to a given key like this:"
   ]
  },
  {
   "cell_type": "code",
   "execution_count": 0,
   "metadata": {
    "application/vnd.databricks.v1+cell": {
     "cellMetadata": {},
     "inputWidgets": {},
     "nuid": "89877ea8-ece9-4461-8fba-cf17ab157872",
     "showTitle": false,
     "title": ""
    }
   },
   "outputs": [],
   "source": [
    "choice = \"apple\"\n",
    "apple_calories = breakfast_dict[choice]\n",
    "\n",
    "print(f\"Your {choice} had {apple_calories} calories.\")"
   ]
  },
  {
   "cell_type": "markdown",
   "metadata": {
    "application/vnd.databricks.v1+cell": {
     "cellMetadata": {},
     "inputWidgets": {},
     "nuid": "e7c6cc1d-0a55-479c-bde2-d4ffa98e4660",
     "showTitle": false,
     "title": ""
    }
   },
   "source": [
    "However, if the dictionary does not contain an element with that key, Python raises a `KeyError`."
   ]
  },
  {
   "cell_type": "code",
   "execution_count": 0,
   "metadata": {
    "application/vnd.databricks.v1+cell": {
     "cellMetadata": {},
     "inputWidgets": {},
     "nuid": "8ef2e0bf-bba2-46d6-afa4-9f60f143a59b",
     "showTitle": false,
     "title": ""
    }
   },
   "outputs": [],
   "source": [
    "# Uncomment the following line and run this cell\n",
    "# breakfast_dict[\"oatmeal\"]"
   ]
  },
  {
   "cell_type": "markdown",
   "metadata": {
    "application/vnd.databricks.v1+cell": {
     "cellMetadata": {},
     "inputWidgets": {},
     "nuid": "8e95fea3-bbdc-4ec8-9fa6-e36aa5813d97",
     "showTitle": false,
     "title": ""
    }
   },
   "source": [
    "Alternatively, you can use the dictionary **`get()`** method.\n",
    "\n",
    "This returns the value for the given key if present.\n",
    "\n",
    "If the key is not present in the dictionary, **`get()`** returns either the specified default value or **`None`**."
   ]
  },
  {
   "cell_type": "code",
   "execution_count": 0,
   "metadata": {
    "application/vnd.databricks.v1+cell": {
     "cellMetadata": {},
     "inputWidgets": {},
     "nuid": "f474e795-435d-4e72-b93c-203caba69786",
     "showTitle": false,
     "title": ""
    }
   },
   "outputs": [],
   "source": [
    "choiceA = \"oatmeal\"\n",
    "caloriesA = breakfast_dict.get(choiceA, -1)\n",
    "print(f\"Your {choiceA} had {caloriesA} calories.\")\n",
    "\n",
    "choiceB = \"waffles\"\n",
    "caloriesB = breakfast_dict.get(choiceB, -1)\n",
    "print(f\"Your {choiceB} had {caloriesB} calories.\")"
   ]
  },
  {
   "cell_type": "markdown",
   "metadata": {
    "application/vnd.databricks.v1+cell": {
     "cellMetadata": {},
     "inputWidgets": {},
     "nuid": "69c53bd5-da21-4cda-81d2-913125bbf1ed",
     "showTitle": false,
     "title": ""
    }
   },
   "source": [
    "### Dictionary Contains Key?\n",
    "\n",
    "You can test for the presence or absence of a key in a dictionary using the **`in`** and **`not in`** operators, respectively."
   ]
  },
  {
   "cell_type": "code",
   "execution_count": 0,
   "metadata": {
    "application/vnd.databricks.v1+cell": {
     "cellMetadata": {},
     "inputWidgets": {},
     "nuid": "889e5859-1d52-4ced-bcb9-f8247e09458b",
     "showTitle": false,
     "title": ""
    }
   },
   "outputs": [],
   "source": [
    "print(f\"Original dictionary: {breakfast_dict}\")\n",
    "\n",
    "choice = \"bacon\"\n",
    "\n",
    "if choice in breakfast_dict:\n",
    "  print(f\"{choice.upperCase()} has {breakfast_dict[choice]} calories\")\n",
    "  \n",
    "elif choice not in breakfast_dict:\n",
    "  print(f\"\"\"I couldn't find \"{choice}\" in the dictionary\"\"\")\n",
    "  \n",
    "else:\n",
    "  print(\"This logically cannot happen :-)\")"
   ]
  },
  {
   "cell_type": "markdown",
   "metadata": {
    "application/vnd.databricks.v1+cell": {
     "cellMetadata": {},
     "inputWidgets": {},
     "nuid": "abe36782-f540-4c4a-80d4-9f83f548de8e",
     "showTitle": false,
     "title": ""
    }
   },
   "source": [
    "#### Updating Dictionaries\n",
    "\n",
    "Because a dictionary is a mutable collection, we can change its contents with operations like inserting, updating, and deleting elements."
   ]
  },
  {
   "cell_type": "code",
   "execution_count": 0,
   "metadata": {
    "application/vnd.databricks.v1+cell": {
     "cellMetadata": {},
     "inputWidgets": {},
     "nuid": "82bdd8d3-a22f-46dd-8e90-785e168736ec",
     "showTitle": false,
     "title": ""
    }
   },
   "outputs": [],
   "source": [
    "breakfast_dict = {\"eggs\": 160, \"apple\": 100, \"pancakes\": 400, \"waffles\": 300,}\n",
    "print(f\"Before insert: {breakfast_dict}\")\n",
    "\n",
    "# Insert orange juice with 110 calories\n",
    "breakfast_dict[\"orange juice\"] = 110\n",
    "print(f\"After insert:  {breakfast_dict}\")"
   ]
  },
  {
   "cell_type": "code",
   "execution_count": 0,
   "metadata": {
    "application/vnd.databricks.v1+cell": {
     "cellMetadata": {},
     "inputWidgets": {},
     "nuid": "3a50db14-d7d4-40a1-817d-ff62c11a8e0f",
     "showTitle": false,
     "title": ""
    }
   },
   "outputs": [],
   "source": [
    "breakfast_dict = {\"eggs\": 160, \"apple\": 100, \"pancakes\": 400, \"waffles\": 300,}\n",
    "print(f\"Before update: {breakfast_dict}\")\n",
    "\n",
    "# Update the calorie count for pancakes\n",
    "breakfast_dict[\"pancakes\"] = 350\n",
    "print(f\"After update:  {breakfast_dict}\")"
   ]
  },
  {
   "cell_type": "code",
   "execution_count": 0,
   "metadata": {
    "application/vnd.databricks.v1+cell": {
     "cellMetadata": {},
     "inputWidgets": {},
     "nuid": "694fc9f6-eacd-4122-ab8d-879cb4bb4b16",
     "showTitle": false,
     "title": ""
    }
   },
   "outputs": [],
   "source": [
    "breakfast_dict = {\"eggs\": 160, \"apple\": 100, \"pancakes\": 400, \"waffles\": 300,}\n",
    "print(f\"Before delete: {breakfast_dict}\")\n",
    "\n",
    "# Delete the waffles\n",
    "del breakfast_dict[\"waffles\"]\n",
    "print(f\"After delete:  {breakfast_dict}\")"
   ]
  },
  {
   "cell_type": "markdown",
   "metadata": {
    "application/vnd.databricks.v1+cell": {
     "cellMetadata": {},
     "inputWidgets": {},
     "nuid": "0d211f86-e49c-4097-a576-9aa0b4e92773",
     "showTitle": false,
     "title": ""
    }
   },
   "source": [
    "#### Iterating Over the Elements of a Dictionary\n",
    "\n",
    "You can use the **`for-in`** expression to iterate over the keys of a dictionary like this:"
   ]
  },
  {
   "cell_type": "code",
   "execution_count": 0,
   "metadata": {
    "application/vnd.databricks.v1+cell": {
     "cellMetadata": {},
     "inputWidgets": {},
     "nuid": "cec8a605-6b96-44fc-a578-99d5190e5294",
     "showTitle": false,
     "title": ""
    }
   },
   "outputs": [],
   "source": [
    "breakfast_dict = {\"eggs\": 160, \"apple\": 100, \"pancakes\": 400, \"waffles\": 300,}\n",
    "print(\"Food          Calories\")\n",
    "\n",
    "for food in breakfast_dict:\n",
    "  print(f\"{food:13} {breakfast_dict[food]}\")"
   ]
  },
  {
   "cell_type": "markdown",
   "metadata": {
    "application/vnd.databricks.v1+cell": {
     "cellMetadata": {},
     "inputWidgets": {},
     "nuid": "ae3787e0-26be-4255-b192-6998dfd2e85a",
     "showTitle": false,
     "title": ""
    }
   },
   "source": [
    "Alternatively, you can unpack the key-value pairs while iterating over a dictionary using the **`items()`** method:"
   ]
  },
  {
   "cell_type": "code",
   "execution_count": 0,
   "metadata": {
    "application/vnd.databricks.v1+cell": {
     "cellMetadata": {},
     "inputWidgets": {},
     "nuid": "f2e57db9-2ab0-47b2-b994-96665670cc86",
     "showTitle": false,
     "title": ""
    }
   },
   "outputs": [],
   "source": [
    "print(\"Food          Calories\")\n",
    "for key_value in breakfast_dict.items():\n",
    "  key = key_value[0]\n",
    "  value = key_value[1]\n",
    "  print(f\"{key:13} {value}\")"
   ]
  },
  {
   "cell_type": "markdown",
   "metadata": {
    "application/vnd.databricks.v1+cell": {
     "cellMetadata": {},
     "inputWidgets": {},
     "nuid": "02ddba1d-0045-4401-9452-65a202360ef4",
     "showTitle": false,
     "title": ""
    }
   },
   "source": [
    "## ![Spark Logo Tiny](https://files.training.databricks.com/images/105/logo_spark_tiny.png) Tuples\n",
    "\n",
    "The method **`items()`** is returning a new data type called **`dict_items`** which is a sub-type of **`tuple`**.\n",
    "\n",
    "We will elaborate on sub-types a bit later, but a **`tuple`** is an immutable sequence of values, much like a list.\n",
    "\n",
    "As seen above, elements of a tuple are accessed like an array.\n",
    "\n",
    "In this case, index **`0`** was the key and **`1`** was the value.\n",
    "\n",
    "Here are some more examples..."
   ]
  },
  {
   "cell_type": "code",
   "execution_count": 0,
   "metadata": {
    "application/vnd.databricks.v1+cell": {
     "cellMetadata": {},
     "inputWidgets": {},
     "nuid": "2d075d8d-0c8a-4a0d-a5e2-63d1c0b6a478",
     "showTitle": false,
     "title": ""
    }
   },
   "outputs": [],
   "source": [
    "dict_type = type(breakfast_dict.items())                # What type is it exactly?\n",
    "print(f\"breakfast_dict.items() is of type {dict_type}\") # Print the result\n",
    "\n",
    "my_tuple = (\"apple\", 100)                               # Create your own tuple\n",
    "tuple_type = type(my_tuple)                             # What type is it exactly?\n",
    "print(f\"my_tuple is of type {tuple_type}\")              # Print the result\n",
    "\n",
    "first_item = my_tuple[0]                                # Access the first element of the tuple\n",
    "second_item = my_tuple[1]                               # Access the second element of the tuple\n",
    "\n",
    "print()                                                 # Print a blank line\n",
    "print(f\"First item:  {first_item}\")                     # Print the first item\n",
    "print(f\"Second item: {second_item}\")                    # Print the second item"
   ]
  },
  {
   "cell_type": "markdown",
   "metadata": {
    "application/vnd.databricks.v1+cell": {
     "cellMetadata": {},
     "inputWidgets": {},
     "nuid": "a6303ab0-693b-4608-8325-214a7433db85",
     "showTitle": false,
     "title": ""
    }
   },
   "source": [
    "Tuples can also be \"unpacked\" as seen here:"
   ]
  },
  {
   "cell_type": "code",
   "execution_count": 0,
   "metadata": {
    "application/vnd.databricks.v1+cell": {
     "cellMetadata": {},
     "inputWidgets": {},
     "nuid": "344f67e0-6825-48cc-8d37-94491ae3c2f6",
     "showTitle": false,
     "title": ""
    }
   },
   "outputs": [],
   "source": [
    "my_tuple = (\"Smith\", 39)    # Create your own tuple\n",
    "last_name, age = my_tuple   # Unpack the tuple\n",
    "\n",
    "print(f\"Name: {last_name}\") # Print the last name\n",
    "print(f\"Age:  {age}\")       # Print the age"
   ]
  },
  {
   "cell_type": "markdown",
   "metadata": {
    "application/vnd.databricks.v1+cell": {
     "cellMetadata": {},
     "inputWidgets": {},
     "nuid": "f46c9f50-fa16-4a60-86cf-9ac5c97b2f04",
     "showTitle": false,
     "title": ""
    }
   },
   "source": [
    "Back to our dictionary and our **`dict_items`**.\n",
    "\n",
    "As a tuple, we can also unpack what was previously in the **`key_value`** variable:"
   ]
  },
  {
   "cell_type": "code",
   "execution_count": 0,
   "metadata": {
    "application/vnd.databricks.v1+cell": {
     "cellMetadata": {},
     "inputWidgets": {},
     "nuid": "143d3673-c1a8-475e-a33a-ea719fcca3d9",
     "showTitle": false,
     "title": ""
    }
   },
   "outputs": [],
   "source": [
    "print(\"Food          Calories\")\n",
    "for food, calories in breakfast_dict.items():\n",
    "  print(f\"{food:13} {calories}\")"
   ]
  },
  {
   "cell_type": "markdown",
   "metadata": {
    "application/vnd.databricks.v1+cell": {
     "cellMetadata": {},
     "inputWidgets": {},
     "nuid": "41dcbb62-25ba-4096-bdab-538aece114be",
     "showTitle": false,
     "title": ""
    }
   },
   "source": [
    "## ![Spark Logo Tiny](https://files.training.databricks.com/images/105/logo_spark_tiny.png) Classes\n",
    "\n",
    "A [_class_](https://www.w3schools.com/python/python_classes.asp) is a custom type that you can define that is in essence a custom data structure.\n",
    "\n",
    "* The class definition itself serves as a \"template\" that you can use to create any number of individual _objects_ (also known as _instances_ in object oriented programming).\n",
    "* These objects will have the same characteristics and behaviors, but their own data values (also known as _attributes_ or _properties_ in OOP).\n",
    "\n",
    "As an analogy, you can think of a class as though it were a blueprint for a house.\n",
    "\n",
    "* The blueprint isn't a house itself, but it describes how to build a house.\n",
    "* From one blueprint (class), a developer could build any number of houses (objects/instances).\n",
    "* Each house would have the same floorplan, but each house could have its own unique paint colors, floor tiling, etc. (attributes/properties).\n",
    "\n",
    "NOTE: We've already encountered and used classes in this course. \n",
    "\n",
    "For example, Python has a built-in **`str`** class that defines the capabilities of all strings. \n",
    "\n",
    "Similarly, **`list`** and **`dict`** are built-in classes defining the capabilities of lists and dictionaries, respectively. \n",
    "\n",
    "You can see that for yourself by using the **`help()`** function on these types:"
   ]
  },
  {
   "cell_type": "code",
   "execution_count": 0,
   "metadata": {
    "application/vnd.databricks.v1+cell": {
     "cellMetadata": {},
     "inputWidgets": {},
     "nuid": "f11df0fa-f6ec-45e8-bfdf-c26eba2dd85a",
     "showTitle": false,
     "title": ""
    }
   },
   "outputs": [],
   "source": [
    "help(dict)"
   ]
  },
  {
   "cell_type": "markdown",
   "metadata": {
    "application/vnd.databricks.v1+cell": {
     "cellMetadata": {},
     "inputWidgets": {},
     "nuid": "03c5df17-9d3f-4198-b6a6-9f7465763e4e",
     "showTitle": false,
     "title": ""
    }
   },
   "source": [
    "#### Class Methods\n",
    "\n",
    "A class definition usually consists of one or more function definitions, which are also called _methods_.\n",
    "\n",
    "* These methods are automatically associated with each object created using the class.\n",
    "* When you invoke a method, Python automatically passes a reference to the associated object as the first argument, followed by any other arguments that you passed explicitly.\n",
    "* By convention, `self` is used as the parameter name for the object reference.\n",
    "\n",
    "Here's a simple example of a class definition and its use:"
   ]
  },
  {
   "cell_type": "code",
   "execution_count": 0,
   "metadata": {
    "application/vnd.databricks.v1+cell": {
     "cellMetadata": {},
     "inputWidgets": {},
     "nuid": "2b245fb4-eb40-4ff7-a59e-3a4f803def90",
     "showTitle": false,
     "title": ""
    }
   },
   "outputs": [],
   "source": [
    "class Thing:\n",
    "  def greet(self, greeting=\"Hello!\"):\n",
    "    print(f'{self} says, \"{greeting}\"')\n",
    "\n",
    "thing1 = Thing()  # Create an instance of Thing\n",
    "thing2 = Thing()  # Create another Thing\n",
    "\n",
    "thing1.greet()                # Call the greet() method on thing1\n",
    "thing2.greet(\"Guten Tag!\")    # Call the greet() method on thing2"
   ]
  },
  {
   "cell_type": "markdown",
   "metadata": {
    "application/vnd.databricks.v1+cell": {
     "cellMetadata": {},
     "inputWidgets": {},
     "nuid": "918bc05c-dfdf-4a49-9c84-7cec35c447f6",
     "showTitle": false,
     "title": ""
    }
   },
   "source": [
    "Wow, that's ugly. \n",
    "\n",
    "We can see that the value of `self` is different for `thing1` and `thing2` because each is a separate instance of `Thing`. \n",
    "\n",
    "But the string representation of `self` is not informative to us as programmers. \n",
    "\n",
    "To make things more interesting and useful, we need to define some class properties."
   ]
  },
  {
   "cell_type": "markdown",
   "metadata": {
    "application/vnd.databricks.v1+cell": {
     "cellMetadata": {},
     "inputWidgets": {},
     "nuid": "fad481fd-f448-4c0b-874d-a73ec71aecc8",
     "showTitle": false,
     "title": ""
    }
   },
   "source": [
    "#### Class Properties and the Constructor Method\n",
    "\n",
    "Class properties are usually defined in a special method called a _constructor_.\n",
    "\n",
    "* The constructor method **must** be named `__init__()`.\n",
    "* Python calls the constructor method automatically whenever you create an instance of the class.\n",
    "* The purpose of the constructor is to initialize the newly created instance, most typically by setting the initial values of the object's properties.\n",
    "\n",
    "The following is an example of a more interesting class that includes a constructor method that sets two properties and two additional methods:"
   ]
  },
  {
   "cell_type": "code",
   "execution_count": 0,
   "metadata": {
    "application/vnd.databricks.v1+cell": {
     "cellMetadata": {},
     "inputWidgets": {},
     "nuid": "7294efc6-887e-40ba-86a9-936070fe67ba",
     "showTitle": false,
     "title": ""
    }
   },
   "outputs": [],
   "source": [
    "class Person:\n",
    "  \n",
    "  # Defining the class constructor method\n",
    "  def __init__(self, first_name, last_name):\n",
    "    # Here we create the properties on self with the values provided in the constructor\n",
    "    self.first_name = first_name\n",
    "    self.last_name = last_name\n",
    "  \n",
    "  # Defining other class methods\n",
    "  def greet(self, greeting=\"Hello!\"):\n",
    "    print(f'{self.first_name} says, \"{greeting}\"')\n",
    "    \n",
    "  def full_name(self):\n",
    "    return self.last_name + \", \" + self.first_name\n",
    "\n",
    "person1 = Person(\"Ming-Na\", \"Wen\")\n",
    "person2 = Person(first_name=\"Anil\", last_name=\"Kapoor\")\n",
    "person3 = Person(\"Walter\", \"Carlos\")\n",
    "\n",
    "person1.greet()\n",
    "person2.greet(\"Hi!\")\n",
    "\n",
    "print()\n",
    "\n",
    "print(f\"person3's current name: {person3.full_name()}\")\n",
    "person3.first_name = \"Wendy\"  # You can change the value of object properties\n",
    "print(f\"person3's updated name: {person3.full_name()}\")"
   ]
  },
  {
   "cell_type": "markdown",
   "metadata": {
    "application/vnd.databricks.v1+cell": {
     "cellMetadata": {},
     "inputWidgets": {},
     "nuid": "0b1c37b0-a87a-4de1-a731-f6805ee890e7",
     "showTitle": false,
     "title": ""
    }
   },
   "source": [
    "&copy; 2020 Databricks, Inc. All rights reserved.<br/>\n",
    "Apache, Apache Spark, Spark and the Spark logo are trademarks of the <a href=\"http://www.apache.org/\">Apache Software Foundation</a>.<br/>\n",
    "<br/>\n",
    "<a href=\"https://databricks.com/privacy-policy\">Privacy Policy</a> | <a href=\"https://databricks.com/terms-of-use\">Terms of Use</a> | <a href=\"http://help.databricks.com/\">Support</a>"
   ]
  }
 ],
 "metadata": {
  "application/vnd.databricks.v1+notebook": {
   "dashboards": [],
   "language": "python",
   "notebookMetadata": {
    "pythonIndentUnit": 2
   },
   "notebookName": "JEP 05 - CC",
   "widgets": {}
  }
 },
 "nbformat": 4,
 "nbformat_minor": 0
}
