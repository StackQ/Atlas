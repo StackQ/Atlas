{
 "cells": [
  {
   "cell_type": "markdown",
   "metadata": {
    "application/vnd.databricks.v1+cell": {
     "cellMetadata": {},
     "inputWidgets": {},
     "nuid": "414ced75-8ed2-43d2-a5b6-86876c6c119b",
     "showTitle": false,
     "title": ""
    }
   },
   "source": [
    "\n",
    "<div style=\"text-align: center; line-height: 0; padding-top: 9px;\">\n",
    "  <img src=\"https://databricks.com/wp-content/uploads/2018/03/db-academy-rgb-1200px.png\" alt=\"Databricks Learning\" style=\"width: 600px\">\n",
    "</div>"
   ]
  },
  {
   "cell_type": "markdown",
   "metadata": {
    "application/vnd.databricks.v1+cell": {
     "cellMetadata": {},
     "inputWidgets": {},
     "nuid": "7efaba86-08e4-4ba2-96c5-fed867b4a2e6",
     "showTitle": false,
     "title": ""
    }
   },
   "source": [
    "# Functions Lab\n",
    "\n",
    "Building on the previous lab, the FizzBuzz Test, we are going to refactor that code into a function.\n",
    "0. Declare a fucntion.\n",
    "  0. The name of the function should be **`fizzBuzz`**\n",
    "  0. The function has one parameter, presumably an integer (**`int`**).\n",
    "  0. The function should return a string (**`str`**)\n",
    "0. Add a guard, or pre-condition, that asserts that the one specified parameter is of type **`int`**.\n",
    "0. Using your solution from the previous lab (one example solution is included below):\n",
    "  0. Discard the for loop.\n",
    "  0. Alter the print statements so that they return the corresponding value instead (e.g. return \"Fizz\" instead of printing \"Fizz\")\n",
    "  0. Ensure that the return value is always a string (**`str`**).</br>\n",
    "  Hint: See the built-in functions to convert numbers to string or employ an f-string.\n",
    "\n",
    "Bonus: Update your function to use type hints."
   ]
  },
  {
   "cell_type": "markdown",
   "metadata": {
    "application/vnd.databricks.v1+cell": {
     "cellMetadata": {},
     "inputWidgets": {},
     "nuid": "271596b2-17c0-48ae-bbb8-483292b88b78",
     "showTitle": false,
     "title": ""
    }
   },
   "source": [
    "To help you get started, we have included one possible solution to the Fizz Buzz Test here:"
   ]
  },
  {
   "cell_type": "code",
   "execution_count": 0,
   "metadata": {
    "application/vnd.databricks.v1+cell": {
     "cellMetadata": {},
     "inputWidgets": {},
     "nuid": "5a93681b-9b6f-43a0-937b-ea3ae494164f",
     "showTitle": false,
     "title": ""
    }
   },
   "outputs": [],
   "source": [
    "for num in range(1, 101):\n",
    "  if (num % 5 == 0) and (num % 3 == 0):\n",
    "    print(\"FizzBuzz\")\n",
    "  elif num % 5 == 0:\n",
    "    print(\"Buzz\")\n",
    "  elif num % 3 == 0:\n",
    "    print(\"Fizz\")\n",
    "  else:\n",
    "    print(num)"
   ]
  },
  {
   "cell_type": "code",
   "execution_count": 0,
   "metadata": {
    "application/vnd.databricks.v1+cell": {
     "cellMetadata": {},
     "inputWidgets": {},
     "nuid": "be05bcf2-da15-4773-8cf4-0b6bd0d30e53",
     "showTitle": false,
     "title": ""
    }
   },
   "outputs": [],
   "source": [
    "# TODO\n",
    "def FILL_IN\n",
    "  assert FILL_IN\n",
    "  \n",
    "  if FILL_IN"
   ]
  },
  {
   "cell_type": "markdown",
   "metadata": {
    "application/vnd.databricks.v1+cell": {
     "cellMetadata": {},
     "inputWidgets": {},
     "nuid": "418d0178-af2d-4982-8d67-e7635b4eedf9",
     "showTitle": false,
     "title": ""
    }
   },
   "source": [
    "Use the code below to test your function."
   ]
  },
  {
   "cell_type": "code",
   "execution_count": 0,
   "metadata": {
    "application/vnd.databricks.v1+cell": {
     "cellMetadata": {},
     "inputWidgets": {},
     "nuid": "b402f325-3003-4faa-85aa-dc434a9b69ad",
     "showTitle": false,
     "title": ""
    }
   },
   "outputs": [],
   "source": [
    "expected = \"Fizz\"\n",
    "result = fizzBuzz(3)\n",
    "assert type(result) == str, f\"Expected actual to be of type str, but found {type(result)}.\"\n",
    "assert result == expected, f\"\"\"Expected \"{expected}\", but found \"{result}\".\"\"\"\n",
    "\n",
    "expected = \"Buzz\"\n",
    "result = fizzBuzz(5)\n",
    "assert type(result) == str, f\"Expected actual to be of type str, but found {type(actresultual)}.\"\n",
    "assert result == expected, f\"\"\"Expected \"{expected}\", but found \"{result}\".\"\"\"\n",
    "\n",
    "expected = \"FizzBuzz\"\n",
    "result = fizzBuzz(15)\n",
    "assert type(result) == str, f\"Expected actual to be of type str, but found {type(result)}.\"\n",
    "assert result == expected, f\"\"\"Expected \"{expected}\", but found \"{result}\".\"\"\"\n",
    "\n",
    "expected = \"7\"\n",
    "result = fizzBuzz(7)\n",
    "assert type(result) == str, f\"Expected actual to be of type str, but found {type(result)}.\"\n",
    "assert result == expected, f\"\"\"Expected \"{expected}\", but found \"{result}\".\"\"\""
   ]
  },
  {
   "cell_type": "markdown",
   "metadata": {
    "application/vnd.databricks.v1+cell": {
     "cellMetadata": {},
     "inputWidgets": {},
     "nuid": "aeb5e6f6-5790-48ba-90a2-db4c330e07b4",
     "showTitle": false,
     "title": ""
    }
   },
   "source": [
    "Using the asserts in the previous command as a template, create a test function that calls **`fizzBuzz()`** for the following sequence of numbers: 0, 1, 2, 3, 5, and 15\n",
    "0. Implement the method **`testFizzBuzz()`**\n",
    "0. Iterate over the list **`test_numbers`** and **`expectations`**</br>\n",
    "Hint: Without introducing any new constructs, you can employ a **`range`**\n",
    "0. Call **`fizzBuzz()`** with the specified value\n",
    "0. Assert that the result is of type **`str`**, as seen above\n",
    "0. Assert that the result matches the expected value, as seen above"
   ]
  },
  {
   "cell_type": "code",
   "execution_count": 0,
   "metadata": {
    "application/vnd.databricks.v1+cell": {
     "cellMetadata": {},
     "inputWidgets": {},
     "nuid": "27f5562c-140c-48cb-99e7-d3f4a38bfadd",
     "showTitle": false,
     "title": ""
    }
   },
   "outputs": [],
   "source": [
    "#TODO\n",
    "def FILL_IN        # Declare the function testFizzBuzz\n",
    "  result = FILL_IN # Call fizzBizz() with the specified value\n",
    "  assert FILL_IN   # Assert that the result is of type str\n",
    "  assert FILL_IN   # Assert that the result matches the expected value\n",
    "\n",
    "test_numbers = [0, 1, 2, 3, 5, 15]\n",
    "expectations = [\"FizzBuzz\", \"1\", \"2\", \"Fizz\", \"Buzz\", \"FizzBuzz\"]\n",
    "\n",
    "for FILL_IN\n",
    "  num = FILL_IN\n",
    "  expected = FILL_IN\n",
    "  testFizzBuzz(FILL_IN)"
   ]
  },
  {
   "cell_type": "markdown",
   "metadata": {
    "application/vnd.databricks.v1+cell": {
     "cellMetadata": {},
     "inputWidgets": {},
     "nuid": "301801cd-a2bb-496a-b515-58b83d60ebe5",
     "showTitle": false,
     "title": ""
    }
   },
   "source": [
    "&copy; 2020 Databricks, Inc. All rights reserved.<br/>\n",
    "Apache, Apache Spark, Spark and the Spark logo are trademarks of the <a href=\"http://www.apache.org/\">Apache Software Foundation</a>.<br/>\n",
    "<br/>\n",
    "<a href=\"https://databricks.com/privacy-policy\">Privacy Policy</a> | <a href=\"https://databricks.com/terms-of-use\">Terms of Use</a> | <a href=\"http://help.databricks.com/\">Support</a>"
   ]
  }
 ],
 "metadata": {
  "application/vnd.databricks.v1+notebook": {
   "dashboards": [],
   "language": "python",
   "notebookMetadata": {
    "pythonIndentUnit": 2
   },
   "notebookName": "JEP 04L - Functions Lab",
   "widgets": {}
  }
 },
 "nbformat": 4,
 "nbformat_minor": 0
}
