{
 "cells": [
  {
   "cell_type": "markdown",
   "metadata": {
    "application/vnd.databricks.v1+cell": {
     "cellMetadata": {},
     "inputWidgets": {},
     "nuid": "8778abde-1b6e-4301-a667-6952b24b03e3",
     "showTitle": false,
     "title": ""
    }
   },
   "source": [
    "\n",
    "<div style=\"text-align: center; line-height: 0; padding-top: 9px;\">\n",
    "  <img src=\"https://databricks.com/wp-content/uploads/2018/03/db-academy-rgb-1200px.png\" alt=\"Databricks Learning\" style=\"width: 600px\">\n",
    "</div>"
   ]
  },
  {
   "cell_type": "markdown",
   "metadata": {
    "application/vnd.databricks.v1+cell": {
     "cellMetadata": {},
     "inputWidgets": {},
     "nuid": "338d579f-bcf3-4300-9a2a-ac69dce362bb",
     "showTitle": false,
     "title": ""
    }
   },
   "source": [
    "# Fizz Buzz Test\n",
    "\n",
    "The Fizz-Buzz test was invted by Imran Ghory to test candiates applying for various software development roles.\n",
    "\n",
    "You can find out more about the history of this test by reading the article\n",
    "<a href=\"http://imranontech.com/2007/01/24/using-fizzbuzz-to-find-developers-who-grok-coding/\" target=\"_blank\">Using FizzBuzz to Find Developers who Grok Coding</a></br>\n",
    "which dates back to January 24, 2007.\n",
    "\n",
    "The test, and your challenge, reads as follows:\n",
    "\n",
    "> Write a program that prints the numbers from 1 to 100. But for  \n",
    "> multiples of three print “Fizz” instead of the number and for the  \n",
    "> multiples of five print “Buzz”. For numbers which are multiples  \n",
    "> of both three and five print “FizzBuzz”.\"  \n",
    "\n",
    "A couple of hints:\n",
    "* You will need a for-loop that itereates over the numbers 0 to 100 inclusive.\n",
    "* Inside the loop, you will need a combination of **`if`**, **`elif`** and **`else`** statements.\n",
    "* The modulo (**`%`**) operator will give you the cleanest method for testing for divisability by 3 and 5.\n",
    "* Start with a short list, say 1 to 15, during your initial development and then scale out to 100 when you think you are ready.\n",
    "* Don't worry about how pretty your code is - there are many different ways of completing this challenge - all of them are correct, if the output is correct."
   ]
  },
  {
   "cell_type": "code",
   "execution_count": 0,
   "metadata": {
    "application/vnd.databricks.v1+cell": {
     "cellMetadata": {},
     "inputWidgets": {},
     "nuid": "23a2ceab-21f0-4ca0-96a0-df610b1f9668",
     "showTitle": false,
     "title": ""
    }
   },
   "outputs": [],
   "source": [
    "# TODO\n",
    "\n",
    "for FILL_IN\n",
    "  if FILL_IN"
   ]
  },
  {
   "cell_type": "markdown",
   "metadata": {
    "application/vnd.databricks.v1+cell": {
     "cellMetadata": {},
     "inputWidgets": {},
     "nuid": "53b6a3d5-d40b-4892-8b8a-355e3eddc517",
     "showTitle": false,
     "title": ""
    }
   },
   "source": [
    "&copy; 2020 Databricks, Inc. All rights reserved.<br/>\n",
    "Apache, Apache Spark, Spark and the Spark logo are trademarks of the <a href=\"http://www.apache.org/\">Apache Software Foundation</a>.<br/>\n",
    "<br/>\n",
    "<a href=\"https://databricks.com/privacy-policy\">Privacy Policy</a> | <a href=\"https://databricks.com/terms-of-use\">Terms of Use</a> | <a href=\"http://help.databricks.com/\">Support</a>"
   ]
  }
 ],
 "metadata": {
  "application/vnd.databricks.v1+notebook": {
   "dashboards": [],
   "language": "python",
   "notebookMetadata": {
    "pythonIndentUnit": 2
   },
   "notebookName": "JEP 03L - Fizz Buzz Lab",
   "widgets": {}
  }
 },
 "nbformat": 4,
 "nbformat_minor": 0
}
