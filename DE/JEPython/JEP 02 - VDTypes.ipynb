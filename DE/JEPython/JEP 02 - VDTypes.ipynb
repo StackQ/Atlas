{
 "cells": [
  {
   "cell_type": "markdown",
   "metadata": {
    "application/vnd.databricks.v1+cell": {
     "cellMetadata": {},
     "inputWidgets": {},
     "nuid": "282cae16-8f1f-4984-a7b2-a08d2ab1bc67",
     "showTitle": false,
     "title": ""
    }
   },
   "source": [
    "\n",
    "<div style=\"text-align: center; line-height: 0; padding-top: 9px;\">\n",
    "  <img src=\"https://databricks.com/wp-content/uploads/2018/03/db-academy-rgb-1200px.png\" alt=\"Databricks Learning\" style=\"width: 600px\">\n",
    "</div>"
   ]
  },
  {
   "cell_type": "markdown",
   "metadata": {
    "application/vnd.databricks.v1+cell": {
     "cellMetadata": {},
     "inputWidgets": {},
     "nuid": "1d12d389-9ed7-4cbf-8e2e-a34ff6c6f706",
     "showTitle": false,
     "title": ""
    }
   },
   "source": [
    "# Variables and Data Types\n",
    "\n",
    "## In this lesson you:\n",
    "* Explore fundamental Pythopn concepts\n",
    "* Are introduced to 4 basic data types\n",
    "* Declare and assign variables\n",
    "* Employ simple, built-in functions such as **`print()`** and **`type()`**\n",
    "* Develop and use **`assert`** statements"
   ]
  },
  {
   "cell_type": "markdown",
   "metadata": {
    "application/vnd.databricks.v1+cell": {
     "cellMetadata": {},
     "inputWidgets": {},
     "nuid": "5c72b614-5b33-4523-832e-c2c0a8b9a5c8",
     "showTitle": false,
     "title": ""
    }
   },
   "source": [
    "##![Spark Logo Tiny](https://files.training.databricks.com/images/105/logo_spark_tiny.png) Comments\n",
    "\n",
    "Comments are any text that appear after the **`#`** symbol\n",
    "\n",
    "They are often used to document various aspects of your code\n",
    "\n",
    "They can also be used to temporary disable code (aka commenting out)"
   ]
  },
  {
   "cell_type": "code",
   "execution_count": 0,
   "metadata": {
    "application/vnd.databricks.v1+cell": {
     "cellMetadata": {},
     "inputWidgets": {},
     "nuid": "8f972100-17a8-45ec-8c7a-987ffe91eee9",
     "showTitle": false,
     "title": ""
    }
   },
   "outputs": [],
   "source": [
    "# This is a comment - it's here only for explination\n",
    "# Run this cell, and notice the lack of output.\n",
    "# Then uncomment the following line and run this cell again.\n",
    "# print(\"Hello world!\")"
   ]
  },
  {
   "cell_type": "markdown",
   "metadata": {
    "application/vnd.databricks.v1+cell": {
     "cellMetadata": {},
     "inputWidgets": {},
     "nuid": "361e949a-0ac8-4d43-abc6-d78c88a2b9a6",
     "showTitle": false,
     "title": ""
    }
   },
   "source": [
    "Comments can also appear after code to provide a different style of documentation"
   ]
  },
  {
   "cell_type": "code",
   "execution_count": 0,
   "metadata": {
    "application/vnd.databricks.v1+cell": {
     "cellMetadata": {},
     "inputWidgets": {},
     "nuid": "19537e2b-e19c-49c2-a0d0-aac797d334f2",
     "showTitle": false,
     "title": ""
    }
   },
   "outputs": [],
   "source": [
    "print(\"Step 1\") # This is step #1\n",
    "print(\"Step 2\") # Step number 2 comes after #1\n",
    "print(\"Step 3\") # This is the last step"
   ]
  },
  {
   "cell_type": "markdown",
   "metadata": {
    "application/vnd.databricks.v1+cell": {
     "cellMetadata": {},
     "inputWidgets": {},
     "nuid": "c984ab8f-247d-40c3-bc1e-195dada5f57d",
     "showTitle": false,
     "title": ""
    }
   },
   "source": [
    "##![Spark Logo Tiny](https://files.training.databricks.com/images/105/logo_spark_tiny.png) Numbers &amp; Basic Mathematical Operators\n",
    "Run the following three cells and note their output:"
   ]
  },
  {
   "cell_type": "code",
   "execution_count": 0,
   "metadata": {
    "application/vnd.databricks.v1+cell": {
     "cellMetadata": {},
     "inputWidgets": {},
     "nuid": "cf3efb8c-e4d0-4d93-ba18-a2029abbd91b",
     "showTitle": false,
     "title": ""
    }
   },
   "outputs": [
    {
     "output_type": "display_data",
     "data": {
      "text/html": [
       "<style scoped>\n",
       "  .ansiout {\n",
       "    display: block;\n",
       "    unicode-bidi: embed;\n",
       "    white-space: pre-wrap;\n",
       "    word-wrap: break-word;\n",
       "    word-break: break-all;\n",
       "    font-family: \"Source Code Pro\", \"Menlo\", monospace;;\n",
       "    font-size: 13px;\n",
       "    color: #555;\n",
       "    margin-left: 4px;\n",
       "    line-height: 19px;\n",
       "  }\n",
       "</style>\n",
       "<div class=\"ansiout\">Out[1]: True</div>"
      ]
     },
     "metadata": {
      "application/vnd.databricks.v1+output": {
       "addedWidgets": {},
       "arguments": {},
       "data": "<div class=\"ansiout\">Out[1]: True</div>",
       "datasetInfos": [],
       "metadata": {},
       "removedWidgets": [],
       "type": "html"
      }
     },
     "output_type": "display_data"
    }
   ],
   "source": [
    "True # This is a boolean data type (1/0, true/false, on/off)"
   ]
  },
  {
   "cell_type": "code",
   "execution_count": 0,
   "metadata": {
    "application/vnd.databricks.v1+cell": {
     "cellMetadata": {},
     "inputWidgets": {},
     "nuid": "d3ad540f-b857-40b5-935b-23956875951f",
     "showTitle": false,
     "title": ""
    }
   },
   "outputs": [
    {
     "output_type": "display_data",
     "data": {
      "text/html": [
       "<style scoped>\n",
       "  .ansiout {\n",
       "    display: block;\n",
       "    unicode-bidi: embed;\n",
       "    white-space: pre-wrap;\n",
       "    word-wrap: break-word;\n",
       "    word-break: break-all;\n",
       "    font-family: \"Source Code Pro\", \"Menlo\", monospace;;\n",
       "    font-size: 13px;\n",
       "    color: #555;\n",
       "    margin-left: 4px;\n",
       "    line-height: 19px;\n",
       "  }\n",
       "</style>\n",
       "<div class=\"ansiout\">Out[2]: 37</div>"
      ]
     },
     "metadata": {
      "application/vnd.databricks.v1+output": {
       "addedWidgets": {},
       "arguments": {},
       "data": "<div class=\"ansiout\">Out[2]: 37</div>",
       "datasetInfos": [],
       "metadata": {},
       "removedWidgets": [],
       "type": "html"
      }
     },
     "output_type": "display_data"
    }
   ],
   "source": [
    "37 # This is whole number (or integer)"
   ]
  },
  {
   "cell_type": "code",
   "execution_count": 0,
   "metadata": {
    "application/vnd.databricks.v1+cell": {
     "cellMetadata": {},
     "inputWidgets": {},
     "nuid": "ce83bed3-6b41-4bd9-922c-86f79d4374ab",
     "showTitle": false,
     "title": ""
    }
   },
   "outputs": [
    {
     "output_type": "display_data",
     "data": {
      "text/html": [
       "<style scoped>\n",
       "  .ansiout {\n",
       "    display: block;\n",
       "    unicode-bidi: embed;\n",
       "    white-space: pre-wrap;\n",
       "    word-wrap: break-word;\n",
       "    word-break: break-all;\n",
       "    font-family: \"Source Code Pro\", \"Menlo\", monospace;;\n",
       "    font-size: 13px;\n",
       "    color: #555;\n",
       "    margin-left: 4px;\n",
       "    line-height: 19px;\n",
       "  }\n",
       "</style>\n",
       "<div class=\"ansiout\">Out[3]: 3.14159265359</div>"
      ]
     },
     "metadata": {
      "application/vnd.databricks.v1+output": {
       "addedWidgets": {},
       "arguments": {},
       "data": "<div class=\"ansiout\">Out[3]: 3.14159265359</div>",
       "datasetInfos": [],
       "metadata": {},
       "removedWidgets": [],
       "type": "html"
      }
     },
     "output_type": "display_data"
    }
   ],
   "source": [
    "3.14159265359 # This is a floating-point number"
   ]
  },
  {
   "cell_type": "markdown",
   "metadata": {
    "application/vnd.databricks.v1+cell": {
     "cellMetadata": {},
     "inputWidgets": {},
     "nuid": "a7714d63-da26-4bc4-8918-156b231a7fb4",
     "showTitle": false,
     "title": ""
    }
   },
   "source": [
    "The Python interpreter will (by default) render the result of the last operation on the console.\n",
    "\n",
    "We can see that in the rendereding of **`Out[1]: True`**, **`Out[2]: 37`**, and **`Out[3]: 3.14159265359`** above.\n",
    "\n",
    "We can leverage that feature to perform some basic mathimatical operations on various numbers.\n",
    "\n",
    "Give it a quick try:\n",
    "* Addition (**`+`**)\n",
    "* Subtraction (**`-`**)\n",
    "* Multiplication  (**`*`**)\n",
    "* Division (**`/`**)\n",
    "* Modulo (**`%`**)"
   ]
  },
  {
   "cell_type": "code",
   "execution_count": 0,
   "metadata": {
    "application/vnd.databricks.v1+cell": {
     "cellMetadata": {},
     "inputWidgets": {},
     "nuid": "a7ebce0e-3a3b-40ad-a27f-331cc6010fb8",
     "showTitle": false,
     "title": ""
    }
   },
   "outputs": [],
   "source": [
    "27 + 3"
   ]
  },
  {
   "cell_type": "markdown",
   "metadata": {
    "application/vnd.databricks.v1+cell": {
     "cellMetadata": {},
     "inputWidgets": {},
     "nuid": "133bf7aa-cf8e-4b5a-b30f-e572b70b1fa3",
     "showTitle": false,
     "title": ""
    }
   },
   "source": [
    "##![Spark Logo Tiny](https://files.training.databricks.com/images/105/logo_spark_tiny.png) Strings\n",
    "\n",
    "Strings in Python have `''` (single quotes),  `\"\"` double quotes or tripple quotes around the content."
   ]
  },
  {
   "cell_type": "code",
   "execution_count": 0,
   "metadata": {
    "application/vnd.databricks.v1+cell": {
     "cellMetadata": {},
     "inputWidgets": {},
     "nuid": "3010c0c9-d798-4c23-a6c2-416241290a0d",
     "showTitle": false,
     "title": ""
    }
   },
   "outputs": [],
   "source": [
    "'Ice cream'"
   ]
  },
  {
   "cell_type": "code",
   "execution_count": 0,
   "metadata": {
    "application/vnd.databricks.v1+cell": {
     "cellMetadata": {},
     "inputWidgets": {},
     "nuid": "c08b922e-07d9-42d9-ab54-18330d4d4be7",
     "showTitle": false,
     "title": ""
    }
   },
   "outputs": [],
   "source": [
    "\"More ice cream\""
   ]
  },
  {
   "cell_type": "code",
   "execution_count": 0,
   "metadata": {
    "application/vnd.databricks.v1+cell": {
     "cellMetadata": {},
     "inputWidgets": {},
     "nuid": "57b9b2ae-935b-40a7-aa8a-2df856d5e64a",
     "showTitle": false,
     "title": ""
    }
   },
   "outputs": [],
   "source": [
    "\"\"\"A really long string\n",
    "with multiple lines\"\"\""
   ]
  },
  {
   "cell_type": "markdown",
   "metadata": {
    "application/vnd.databricks.v1+cell": {
     "cellMetadata": {},
     "inputWidgets": {},
     "nuid": "caa8cca0-67cf-4c31-a596-3cb26990a0c5",
     "showTitle": false,
     "title": ""
    }
   },
   "source": [
    "Like, numbers, strings can be \"added\" to gether.\n",
    "\n",
    "This is more commonly referred to as concatenation."
   ]
  },
  {
   "cell_type": "code",
   "execution_count": 0,
   "metadata": {
    "application/vnd.databricks.v1+cell": {
     "cellMetadata": {},
     "inputWidgets": {},
     "nuid": "545009a0-c313-4a7e-9f5a-5a2a61571ccf",
     "showTitle": false,
     "title": ""
    }
   },
   "outputs": [
    {
     "output_type": "display_data",
     "data": {
      "text/html": [
       "<style scoped>\n",
       "  .ansiout {\n",
       "    display: block;\n",
       "    unicode-bidi: embed;\n",
       "    white-space: pre-wrap;\n",
       "    word-wrap: break-word;\n",
       "    word-break: break-all;\n",
       "    font-family: \"Source Code Pro\", \"Menlo\", monospace;;\n",
       "    font-size: 13px;\n",
       "    color: #555;\n",
       "    margin-left: 4px;\n",
       "    line-height: 19px;\n",
       "  }\n",
       "</style>\n",
       "<div class=\"ansiout\">Out[4]: &#39;I loveto eatice cream&#39;</div>"
      ]
     },
     "metadata": {
      "application/vnd.databricks.v1+output": {
       "addedWidgets": {},
       "arguments": {},
       "data": "<div class=\"ansiout\">Out[4]: &#39;I loveto eatice cream&#39;</div>",
       "datasetInfos": [],
       "metadata": {},
       "removedWidgets": [],
       "type": "html"
      }
     },
     "output_type": "display_data"
    }
   ],
   "source": [
    "'I love' + \"to eat\" + \"\"\"ice cream\"\"\""
   ]
  },
  {
   "cell_type": "markdown",
   "metadata": {
    "application/vnd.databricks.v1+cell": {
     "cellMetadata": {},
     "inputWidgets": {},
     "nuid": "f135edd1-b770-45eb-be2b-bec72cd1218d",
     "showTitle": false,
     "title": ""
    }
   },
   "source": [
    "**Question:** What mistake did we make in concatenating those three strings?"
   ]
  },
  {
   "cell_type": "markdown",
   "metadata": {
    "application/vnd.databricks.v1+cell": {
     "cellMetadata": {},
     "inputWidgets": {},
     "nuid": "8b0f5813-cd6a-43fe-8a05-3ec51f4e2e98",
     "showTitle": false,
     "title": ""
    }
   },
   "source": [
    "##![Spark Logo Tiny](https://files.training.databricks.com/images/105/logo_spark_tiny.png) Data Types\n",
    "We just saw an example of four data types:\n",
    "* Boolean values: **`bool`**\n",
    "* Whole or integral numbers: : **`int`**\n",
    "* Floating-point numbers : **`float`**\n",
    "* Strings values: : **`str`**\n",
    "\n",
    "By combing these basic data types (and a few to be covered later),  \n",
    "Python allows you to create a nearly infinite set of new types."
   ]
  },
  {
   "cell_type": "markdown",
   "metadata": {
    "application/vnd.databricks.v1+cell": {
     "cellMetadata": {},
     "inputWidgets": {},
     "nuid": "f5a11485-2c97-4746-b32e-9dca5a8753c6",
     "showTitle": false,
     "title": ""
    }
   },
   "source": [
    "If you are not sure what \"type\" something is, you can employ the <a href=\"https://docs.python.org/3/library/functions.html#type\" target=\"_blank\">type()</a> function.\n",
    "\n",
    "We will discuss functions in detail later, but we can easily employ simple functions like this one without fully understanding them."
   ]
  },
  {
   "cell_type": "code",
   "execution_count": 0,
   "metadata": {
    "application/vnd.databricks.v1+cell": {
     "cellMetadata": {},
     "inputWidgets": {},
     "nuid": "425b1908-3f03-43e9-9cad-1146d0ef9ee7",
     "showTitle": false,
     "title": ""
    }
   },
   "outputs": [],
   "source": [
    "# The first of two possible boolean values\n",
    "type(True)"
   ]
  },
  {
   "cell_type": "code",
   "execution_count": 0,
   "metadata": {
    "application/vnd.databricks.v1+cell": {
     "cellMetadata": {},
     "inputWidgets": {},
     "nuid": "fa77da73-ecee-4626-a19c-a4291a8687ff",
     "showTitle": false,
     "title": ""
    }
   },
   "outputs": [],
   "source": [
    "# The second of two possible boolean values\n",
    "type(False)"
   ]
  },
  {
   "cell_type": "code",
   "execution_count": 0,
   "metadata": {
    "application/vnd.databricks.v1+cell": {
     "cellMetadata": {},
     "inputWidgets": {},
     "nuid": "e11c32a3-3b05-4b0f-a6aa-9cc0a9181b45",
     "showTitle": false,
     "title": ""
    }
   },
   "outputs": [],
   "source": [
    "# A whole number, or integer\n",
    "type(132)"
   ]
  },
  {
   "cell_type": "code",
   "execution_count": 0,
   "metadata": {
    "application/vnd.databricks.v1+cell": {
     "cellMetadata": {},
     "inputWidgets": {},
     "nuid": "f12f77bd-39e5-4a82-b35e-cf10af662029",
     "showTitle": false,
     "title": ""
    }
   },
   "outputs": [],
   "source": [
    "# A floating point number\n",
    "type(34.62)"
   ]
  },
  {
   "cell_type": "code",
   "execution_count": 0,
   "metadata": {
    "application/vnd.databricks.v1+cell": {
     "cellMetadata": {},
     "inputWidgets": {},
     "nuid": "022ba872-af3c-40b5-b769-89e57374cfd8",
     "showTitle": false,
     "title": ""
    }
   },
   "outputs": [],
   "source": [
    "# A single-quote string\n",
    "type('A single quote string')"
   ]
  },
  {
   "cell_type": "code",
   "execution_count": 0,
   "metadata": {
    "application/vnd.databricks.v1+cell": {
     "cellMetadata": {},
     "inputWidgets": {},
     "nuid": "de46e3fb-6f89-4bf4-9111-b159bf2ce7b8",
     "showTitle": false,
     "title": ""
    }
   },
   "outputs": [],
   "source": [
    "# A double-quote string\n",
    "type(\"A double quote string\")"
   ]
  },
  {
   "cell_type": "code",
   "execution_count": 0,
   "metadata": {
    "application/vnd.databricks.v1+cell": {
     "cellMetadata": {},
     "inputWidgets": {},
     "nuid": "f5b45fe1-1124-40b9-92bd-ea3c56e3f4f1",
     "showTitle": false,
     "title": ""
    }
   },
   "outputs": [],
   "source": [
    "# A tripple quote string\n",
    "type(\"\"\"A tripple quote string\"\"\")"
   ]
  },
  {
   "cell_type": "markdown",
   "metadata": {
    "application/vnd.databricks.v1+cell": {
     "cellMetadata": {},
     "inputWidgets": {},
     "nuid": "8476e818-c4d4-436a-942a-381cf2400437",
     "showTitle": false,
     "title": ""
    }
   },
   "source": [
    "Can you predict which type the next command will produce?\n",
    "* **`bool`**\n",
    "* **`int`**\n",
    "* **`float`**\n",
    "* **`str`**"
   ]
  },
  {
   "cell_type": "code",
   "execution_count": 0,
   "metadata": {
    "application/vnd.databricks.v1+cell": {
     "cellMetadata": {},
     "inputWidgets": {},
     "nuid": "1939fc11-d2d7-442b-a07e-05fa31a07840",
     "showTitle": false,
     "title": ""
    }
   },
   "outputs": [
    {
     "output_type": "display_data",
     "data": {
      "text/html": [
       "<style scoped>\n",
       "  .ansiout {\n",
       "    display: block;\n",
       "    unicode-bidi: embed;\n",
       "    white-space: pre-wrap;\n",
       "    word-wrap: break-word;\n",
       "    word-break: break-all;\n",
       "    font-family: \"Source Code Pro\", \"Menlo\", monospace;;\n",
       "    font-size: 13px;\n",
       "    color: #555;\n",
       "    margin-left: 4px;\n",
       "    line-height: 19px;\n",
       "  }\n",
       "</style>\n",
       "<div class=\"ansiout\">Out[5]: str</div>"
      ]
     },
     "metadata": {
      "application/vnd.databricks.v1+output": {
       "addedWidgets": {},
       "arguments": {},
       "data": "<div class=\"ansiout\">Out[5]: str</div>",
       "datasetInfos": [],
       "metadata": {},
       "removedWidgets": [],
       "type": "html"
      }
     },
     "output_type": "display_data"
    }
   ],
   "source": [
    "type(\"723\")"
   ]
  },
  {
   "cell_type": "markdown",
   "metadata": {
    "application/vnd.databricks.v1+cell": {
     "cellMetadata": {},
     "inputWidgets": {},
     "nuid": "4f858fa3-b18b-437b-9e46-e50e09f9dffd",
     "showTitle": false,
     "title": ""
    }
   },
   "source": [
    "##![Spark Logo Tiny](https://files.training.databricks.com/images/105/logo_spark_tiny.png) Variables\n",
    "\n",
    "In Python, a variable holds a value.\n",
    "\n",
    "If you plan to re-use the same value multiple times in your code, it is best to put it in a variable so you can change its value only once.\n",
    "\n",
    "Changes to the one variable will be reflected throughout all of your code.\n",
    "\n",
    "A few things to note on Python variable names:\n",
    "* A variable name must start with a letter or the underscore character\n",
    "* Conversely, a variable name cannot start with a number\n",
    "* A variable name can only contain alpha-numeric characters and underscores (a-z, A-Z, 0-9, and _ )\n",
    "* Variable names are case-sensitive (`age`, `Age`, and `AGE` are three different variables)\n",
    "\n",
    "Beyond these hard requirements, additional standards are often imposed by development teams so as to produce consistent and easy to read code.\n",
    "\n",
    "The most common standard for Python is <a href=\"https://www.python.org/dev/peps/pep-0008/\" target=\"_blank\">PEP 8</a>\n",
    "\n",
    "PEP 8's most iconic feature is the use of an underscore in function and variable names."
   ]
  },
  {
   "cell_type": "code",
   "execution_count": 0,
   "metadata": {
    "application/vnd.databricks.v1+cell": {
     "cellMetadata": {},
     "inputWidgets": {},
     "nuid": "5fba7208-8679-47a6-980b-76f95fe1a9eb",
     "showTitle": false,
     "title": ""
    }
   },
   "outputs": [],
   "source": [
    "# Examples of valid variable names:\n",
    "best_food = \"ice cream\"    # An example of the snake case naming convention from PEP 8\n",
    "bestFood = \"pizza\"         # An example of the cammel case\n",
    "BEST_FOOD = \"watermellon\"\n",
    "_BEST_FOOD = \"brussel sprouts\"\n",
    "\n",
    "# Examples of invalid variable names:\n",
    "# 1_best_food = \"broccoli\"\n",
    "# $_best_food = \"waffles\""
   ]
  },
  {
   "cell_type": "markdown",
   "metadata": {
    "application/vnd.databricks.v1+cell": {
     "cellMetadata": {},
     "inputWidgets": {},
     "nuid": "da87aa18-dae6-4899-889a-8b2fad1acbe7",
     "showTitle": false,
     "title": ""
    }
   },
   "source": [
    "We will use the **`best_food`** variable quite extensively in the rest of this notebook."
   ]
  },
  {
   "cell_type": "markdown",
   "metadata": {
    "application/vnd.databricks.v1+cell": {
     "cellMetadata": {},
     "inputWidgets": {},
     "nuid": "23241d17-2647-4b1c-91df-c0e1a9d9c8bb",
     "showTitle": false,
     "title": ""
    }
   },
   "source": [
    "##![Spark Logo Tiny](https://files.training.databricks.com/images/105/logo_spark_tiny.png) The Print Function\n",
    "\n",
    "We can force Python to render output to the console by using the <a href=\"https://docs.python.org/3/library/functions.html#print\" target=\"_blank\">print</a> function.\n",
    "\n",
    "We already saw this in an earlier statement: **`print(\"Hello world!\")`**\n",
    "\n",
    "The **`print()`** function is one of many <a href=\"https://docs.python.org/3/library/functions.html\" target=\"_blank\">Built-in Functions</a> and we can employ it here to print the four variables we just declared."
   ]
  },
  {
   "cell_type": "code",
   "execution_count": 0,
   "metadata": {
    "application/vnd.databricks.v1+cell": {
     "cellMetadata": {},
     "inputWidgets": {},
     "nuid": "2a5f2925-be2f-419b-9720-ad816fd665d6",
     "showTitle": false,
     "title": ""
    }
   },
   "outputs": [],
   "source": [
    "print(best_food)\n",
    "print(bestFood)\n",
    "print(BEST_FOOD)\n",
    "print(_BEST_FOOD)"
   ]
  },
  {
   "cell_type": "markdown",
   "metadata": {
    "application/vnd.databricks.v1+cell": {
     "cellMetadata": {},
     "inputWidgets": {},
     "nuid": "06880b8d-bcfa-4049-a3cb-eaec46aca288",
     "showTitle": false,
     "title": ""
    }
   },
   "source": [
    "Introduced in Python 3.6, **f-strings** provide another neat feature that comes in really handy when used in conjunction with the **`print()`** function.\n",
    "\n",
    "**f-strings** allow you to build a string composed of one or more values in an rather concise manner.\n",
    "\n",
    "Let's take a quick look at the \"hard\" way to compose such a string and how **f-strings** makes this easier"
   ]
  },
  {
   "cell_type": "code",
   "execution_count": 0,
   "metadata": {
    "application/vnd.databricks.v1+cell": {
     "cellMetadata": {},
     "inputWidgets": {},
     "nuid": "46e98c77-4422-4231-99fa-a1cbe368dac0",
     "showTitle": false,
     "title": ""
    }
   },
   "outputs": [],
   "source": [
    "# Just for refference, what was the \"best\" food?\n",
    "print(best_food)"
   ]
  },
  {
   "cell_type": "code",
   "execution_count": 0,
   "metadata": {
    "application/vnd.databricks.v1+cell": {
     "cellMetadata": {},
     "inputWidgets": {},
     "nuid": "37887a0b-aa45-4697-b1a4-ffc25bfdd4f6",
     "showTitle": false,
     "title": ""
    }
   },
   "outputs": [],
   "source": [
    "# Without f-strings, we have to concatenate the values\n",
    "text = \"The best food ever is\" + best_food + \", especially when it's hot outside!\"\n",
    "print(text)"
   ]
  },
  {
   "cell_type": "code",
   "execution_count": 0,
   "metadata": {
    "application/vnd.databricks.v1+cell": {
     "cellMetadata": {},
     "inputWidgets": {},
     "nuid": "8d821e70-da05-48e6-a369-4b7861c787f7",
     "showTitle": false,
     "title": ""
    }
   },
   "outputs": [],
   "source": [
    "# With f-strings, we can \"inject\" the variable directly into the string\n",
    "# Additionally certain types of bugs are easier to catch at a quick glance\n",
    "text = f\"The best food ever is {best_food}, especially when it's hot outside!\"\n",
    "print(text)"
   ]
  },
  {
   "cell_type": "code",
   "execution_count": 0,
   "metadata": {
    "application/vnd.databricks.v1+cell": {
     "cellMetadata": {},
     "inputWidgets": {},
     "nuid": "a89ef1af-b90b-43c2-b994-184b360db26a",
     "showTitle": false,
     "title": ""
    }
   },
   "outputs": [],
   "source": [
    "# And just to be a little more consise...\n",
    "print(f\"The best food ever is {best_food}, especially when it's hot outside!\")"
   ]
  },
  {
   "cell_type": "markdown",
   "metadata": {
    "application/vnd.databricks.v1+cell": {
     "cellMetadata": {},
     "inputWidgets": {},
     "nuid": "9c574221-4462-4de8-9a6c-7910633099a5",
     "showTitle": false,
     "title": ""
    }
   },
   "source": [
    "%md\n",
    "##![Spark Logo Tiny](https://files.training.databricks.com/images/105/logo_spark_tiny.png) Assert Statements and Type Checking\n",
    "\n",
    "If you want to test if two things are equal, you can put them on either side of the **`==`** operator."
   ]
  },
  {
   "cell_type": "code",
   "execution_count": 0,
   "metadata": {
    "application/vnd.databricks.v1+cell": {
     "cellMetadata": {},
     "inputWidgets": {},
     "nuid": "b2ab03d7-832a-4a82-a3bd-4c93f8d74e1e",
     "showTitle": false,
     "title": ""
    }
   },
   "outputs": [],
   "source": [
    "232 == 232"
   ]
  },
  {
   "cell_type": "markdown",
   "metadata": {
    "application/vnd.databricks.v1+cell": {
     "cellMetadata": {},
     "inputWidgets": {},
     "nuid": "295b71b9-aeb6-41fa-8b19-a8a92110cb5a",
     "showTitle": false,
     "title": ""
    }
   },
   "source": [
    "Conversely, if you want to test if things are not equal, you can use the **`!=`** operator."
   ]
  },
  {
   "cell_type": "code",
   "execution_count": 0,
   "metadata": {
    "application/vnd.databricks.v1+cell": {
     "cellMetadata": {},
     "inputWidgets": {},
     "nuid": "1abe2d96-785b-45bf-a951-8b26abf5a0a7",
     "showTitle": false,
     "title": ""
    }
   },
   "outputs": [],
   "source": [
    "723 != 723"
   ]
  },
  {
   "cell_type": "markdown",
   "metadata": {
    "application/vnd.databricks.v1+cell": {
     "cellMetadata": {},
     "inputWidgets": {},
     "nuid": "55b5b27a-7fcc-4259-9807-b7020a92fa3c",
     "showTitle": false,
     "title": ""
    }
   },
   "source": [
    "Both the **`==`** opeartor and the **`!=`** operator return a boolean value as seen above.\n",
    "\n",
    "Other common comparison <a href=\"https://docs.python.org/3/reference/lexical_analysis.html#operators\" target=\"_blank\">operators</a> include:\n",
    "* **`>`** greater than\n",
    "* **`<`** les than\n",
    "* **`>=`** greater than or equal to\n",
    "* **`<=`** less than or equal to\n",
    "* ...and many more"
   ]
  },
  {
   "cell_type": "code",
   "execution_count": 0,
   "metadata": {
    "application/vnd.databricks.v1+cell": {
     "cellMetadata": {},
     "inputWidgets": {},
     "nuid": "e18c4a59-fbd4-4351-bcd1-7f40b30c77b4",
     "showTitle": false,
     "title": ""
    }
   },
   "outputs": [],
   "source": [
    "32 > 12"
   ]
  },
  {
   "cell_type": "markdown",
   "metadata": {
    "application/vnd.databricks.v1+cell": {
     "cellMetadata": {},
     "inputWidgets": {},
     "nuid": "f997e1b2-25b4-4e39-8694-2a5c03b2ac0e",
     "showTitle": false,
     "title": ""
    }
   },
   "source": [
    "But what if we wanted to test if a value was of a certain type?\n",
    "\n",
    "For this we can use the **`type()`** function and combine it with the equality operator (**`==`**) as seen here:"
   ]
  },
  {
   "cell_type": "code",
   "execution_count": 0,
   "metadata": {
    "application/vnd.databricks.v1+cell": {
     "cellMetadata": {},
     "inputWidgets": {},
     "nuid": "57ba616e-8915-4105-b934-d6e5e8248024",
     "showTitle": false,
     "title": ""
    }
   },
   "outputs": [],
   "source": [
    "type(best_food) == str"
   ]
  },
  {
   "cell_type": "code",
   "execution_count": 0,
   "metadata": {
    "application/vnd.databricks.v1+cell": {
     "cellMetadata": {},
     "inputWidgets": {},
     "nuid": "29c3496d-409c-45d1-8ab7-8ec8150cfd18",
     "showTitle": false,
     "title": ""
    }
   },
   "outputs": [],
   "source": [
    "type(32) == int"
   ]
  },
  {
   "cell_type": "code",
   "execution_count": 0,
   "metadata": {
    "application/vnd.databricks.v1+cell": {
     "cellMetadata": {},
     "inputWidgets": {},
     "nuid": "9c8a16ce-e093-4de0-99d0-f342340d6645",
     "showTitle": false,
     "title": ""
    }
   },
   "outputs": [],
   "source": [
    "type(True) == bool"
   ]
  },
  {
   "cell_type": "code",
   "execution_count": 0,
   "metadata": {
    "application/vnd.databricks.v1+cell": {
     "cellMetadata": {},
     "inputWidgets": {},
     "nuid": "f84cf209-e8f1-47ad-ba94-653d56cb4d80",
     "showTitle": false,
     "title": ""
    }
   },
   "outputs": [],
   "source": [
    "type(1.32) == float"
   ]
  },
  {
   "cell_type": "markdown",
   "metadata": {
    "application/vnd.databricks.v1+cell": {
     "cellMetadata": {},
     "inputWidgets": {},
     "nuid": "1980138e-1050-4454-ad34-df5c24c747a5",
     "showTitle": false,
     "title": ""
    }
   },
   "source": [
    "What if you wanted to verify, or assert, a specific precondition?\n",
    "\n",
    "One example might be variable's datatype, in which case execution should stop if it is of the wrong type.\n",
    "\n",
    "That's exactly what <a href=\"http://docs.python.org/reference/lexical_analysis.html#keywords\" target=\"_blank\">assert</a> statement allow us to do.\n",
    "\n",
    "If the test, or assertion, does not pass, execution stops and Python prints an error message to the console as demonstrated here:"
   ]
  },
  {
   "cell_type": "code",
   "execution_count": 0,
   "metadata": {
    "application/vnd.databricks.v1+cell": {
     "cellMetadata": {},
     "inputWidgets": {},
     "nuid": "ab4f1248-0d06-4dd0-aac7-4e6f6bb1a070",
     "showTitle": false,
     "title": ""
    }
   },
   "outputs": [],
   "source": [
    "# To force the assertion failure, change line #4 below\n",
    "# from a string value to an integer or boolean value.\n",
    "\n",
    "best_food = \"Pizza\"\n",
    "assert type(best_food) == str, \"If this fails, it will print this message\"\n",
    "\n",
    "print(\"All done\")"
   ]
  },
  {
   "cell_type": "markdown",
   "metadata": {
    "application/vnd.databricks.v1+cell": {
     "cellMetadata": {},
     "inputWidgets": {},
     "nuid": "12262e13-7cff-4f8d-9393-fb66420d5096",
     "showTitle": false,
     "title": ""
    }
   },
   "source": [
    "If we wanted to make the error message a little more useful, we can employ an **f-string** instead:"
   ]
  },
  {
   "cell_type": "code",
   "execution_count": 0,
   "metadata": {
    "application/vnd.databricks.v1+cell": {
     "cellMetadata": {},
     "inputWidgets": {},
     "nuid": "b02d6a43-dfb8-4e44-a3f1-36c0b6761c2f",
     "showTitle": false,
     "title": ""
    }
   },
   "outputs": [],
   "source": [
    "best_food = \"BBQ Chicken\"\n",
    "assert type(best_food) == str, f\"Expected best_food to be of type str but found {type(best_food)} instead\"\n",
    "\n",
    "print(\"All done\")"
   ]
  },
  {
   "cell_type": "markdown",
   "metadata": {
    "application/vnd.databricks.v1+cell": {
     "cellMetadata": {},
     "inputWidgets": {},
     "nuid": "5b8015f2-ad8b-4426-8cc3-d95ceb61cfd5",
     "showTitle": false,
     "title": ""
    }
   },
   "source": [
    "`assert` is a keyword in Python, so make sure you don't declare any variables named **`assert`**!"
   ]
  },
  {
   "cell_type": "markdown",
   "metadata": {
    "application/vnd.databricks.v1+cell": {
     "cellMetadata": {},
     "inputWidgets": {},
     "nuid": "66c5d41b-abed-4747-9f00-769a8c046d70",
     "showTitle": false,
     "title": ""
    }
   },
   "source": [
    "### ![Spark Logo Tiny](https://files.training.databricks.com/images/105/logo_spark_tiny.png) Review\n",
    "\n",
    "**Question**: Which mathematical operators were you introduced to in this lesson?<br/>\n",
    "Hint: See the python docs on Lexical analysis, section 2.5, <a href=\"https://docs.python.org/3/reference/lexical_analysis.html#operators\" target=\"_blank\">Operators</a>\n",
    "\n",
    "**Question**: What reserved keywords were you introduced to in this lesson?<br/>\n",
    "Hint: See the python docs on Lexical analysis, section 2.3.1, <a href=\"http://docs.python.org/reference/lexical_analysis.html#keywords\" target=\"_blank\">Keywords</a>\n",
    "\n",
    "**Question**: How are reserved kewords like **`assert`** different from **`print`** and **`type`**?\n",
    "\n",
    "**Question**: Which data types were you introduced to in this lesson?\n",
    "\n",
    "**Question**: What functions were you introduced to in this lesson?<br/>\n",
    "Hint: See the python docs on <a href=\"https://docs.python.org/3/library/functions.html\" target=\"_blank\">Built-in Functions</a>"
   ]
  },
  {
   "cell_type": "markdown",
   "metadata": {
    "application/vnd.databricks.v1+cell": {
     "cellMetadata": {},
     "inputWidgets": {},
     "nuid": "6880e1a9-53ff-45e0-a74c-622bed7d2995",
     "showTitle": false,
     "title": ""
    }
   },
   "source": [
    "### ![Spark Logo Tiny](https://files.training.databricks.com/images/105/logo_spark_tiny.png) Congrats! You have finished your first lesson on Python!"
   ]
  },
  {
   "cell_type": "markdown",
   "metadata": {
    "application/vnd.databricks.v1+cell": {
     "cellMetadata": {},
     "inputWidgets": {},
     "nuid": "90775c8e-cfae-4f04-a0d5-68e9b90e1bde",
     "showTitle": false,
     "title": ""
    }
   },
   "source": [
    "&copy; 2020 Databricks, Inc. All rights reserved.<br/>\n",
    "Apache, Apache Spark, Spark and the Spark logo are trademarks of the <a href=\"http://www.apache.org/\">Apache Software Foundation</a>.<br/>\n",
    "<br/>\n",
    "<a href=\"https://databricks.com/privacy-policy\">Privacy Policy</a> | <a href=\"https://databricks.com/terms-of-use\">Terms of Use</a> | <a href=\"http://help.databricks.com/\">Support</a>"
   ]
  }
 ],
 "metadata": {
  "application/vnd.databricks.v1+notebook": {
   "dashboards": [],
   "language": "python",
   "notebookMetadata": {
    "pythonIndentUnit": 2
   },
   "notebookName": "JEP 02 - VDTypes",
   "widgets": {}
  }
 },
 "nbformat": 4,
 "nbformat_minor": 0
}
