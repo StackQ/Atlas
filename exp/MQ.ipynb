{
 "cells": [
  {
   "cell_type": "markdown",
   "metadata": {},
   "source": [
    "###### Different Terms for Input - Add vs Multiply"
   ]
  },
  {
   "cell_type": "code",
   "execution_count": 5,
   "metadata": {},
   "outputs": [],
   "source": [
    "#O(n + n) = O(2n) :: we can easily drop the constants : O(n) time complexity\n",
    "def print_items(n):\n",
    "    #O(n)\n",
    "    for i in range(n):\n",
    "        print(i)\n",
    "    #O(n)\n",
    "    for j in range(n):\n",
    "        print(j)"
   ]
  },
  {
   "cell_type": "code",
   "execution_count": null,
   "metadata": {},
   "outputs": [],
   "source": [
    "#O(a + b) time complexity :: We can't say a=n & b=n | coz what if a=1 and b=Million\n",
    "def print_items(a, b):\n",
    "    #O(a)\n",
    "    for i in range(a):\n",
    "        print(i)\n",
    "    #O(b)\n",
    "    for j in range(b):\n",
    "        print(j)"
   ]
  },
  {
   "cell_type": "code",
   "execution_count": null,
   "metadata": {},
   "outputs": [],
   "source": [
    "#O(a * b) time complexity \n",
    "def print_items(a, b):\n",
    "    #O(a * b)\n",
    "    for i in range(a):\n",
    "        for j in range(b):\n",
    "            print(j)"
   ]
  },
  {
   "cell_type": "markdown",
   "metadata": {},
   "source": [
    "###### How to measure the codes using Big O?"
   ]
  },
  {
   "cell_type": "markdown",
   "metadata": {},
   "source": [
    "|No|Description|Complexity|\n",
    "|--|-----------|----------|\n",
    "|Rule 1|Any assignment statements and if statements that are executed once regardless of the size of the problem| O(1)|\n",
    "|Rule 2|A simple \"for\" loop from 0 to n (with no internal loops)| O(n)|\n",
    "|Rule 3|A nested loop of the same type takes quadratic time complexity| O(n^2)|\n",
    "|Rule 4|A loop, in which the controlling parameter is divided by two at each step| O(logN)|\n",
    "|Rule 5|When dealing with multiple statements, just add them up| |\n"
   ]
  },
  {
   "cell_type": "code",
   "execution_count": 6,
   "metadata": {},
   "outputs": [],
   "source": [
    "# O(1) + O(n) + (O(1)+O(1)) + O(1) :: O(1) + (O(n) + O(1)) + O(1) : O(1) + O(n) + O(1) => O(n) time complexity\n",
    "# O(1)+O(1) = 2O(1) : Remove constant terms = O(1)\n",
    "# O(n)+O(1) = O(n) : coz we learnt to remove non-dominant term, and here O(n) is dominant term\n",
    "def findBiggestNumber(sampleArray):\n",
    "    #O(1)\n",
    "    biggestNumber = sampleArray[0]\n",
    "    #O(n)\n",
    "    for index in range(1, len(sampleArray)):\n",
    "    #O(1)\n",
    "        if sampleArray[index] > biggestNumber:\n",
    "    #O(1)\n",
    "            biggestNumber = sampleArray[index]\n",
    "    #O(1)\n",
    "    print(biggestNumber)"
   ]
  },
  {
   "cell_type": "markdown",
   "metadata": {},
   "source": [
    "## Section 3: Arrays\n",
    "Advantages of array model is that it is more memory efficient than the list for storing the large types of the same data type."
   ]
  },
  {
   "cell_type": "markdown",
   "metadata": {},
   "source": [
    "##### Create an Array"
   ]
  },
  {
   "cell_type": "code",
   "execution_count": 6,
   "metadata": {},
   "outputs": [
    {
     "name": "stdout",
     "output_type": "stream",
     "text": [
      "array('i')\n",
      "array('i', [1, 2, 3, 4])\n"
     ]
    }
   ],
   "source": [
    "import array\n",
    "#Empty Array :: time complexity = O(1), space complexity = O(1)\n",
    "my_array = array.array('i')\n",
    "print(my_array)\n",
    "#time complexity = O(n), space complexity = O(n)\n",
    "my_array1 = array.array('i',[1,2,3,4])\n",
    "print(my_array1)"
   ]
  },
  {
   "cell_type": "code",
   "execution_count": 12,
   "metadata": {},
   "outputs": [
    {
     "name": "stdout",
     "output_type": "stream",
     "text": [
      "[]\n",
      "[1 2 3 4]\n"
     ]
    }
   ],
   "source": [
    "import numpy as np\n",
    "#Empty Array :: time complexity = O(1), space complexity = O(1)\n",
    "np_array = np.array([], dtype=int)\n",
    "print(np_array)\n",
    "#time complexity = O(n), space complexity = O(n)\n",
    "np_array1 = np.array([1,2,3,4])\n",
    "print(np_array1)"
   ]
  },
  {
   "cell_type": "markdown",
   "metadata": {},
   "source": [
    "##### Insertion to Array\n",
    "\n",
    "When we are insterting an element at a specific position using insert method,   \n",
    "**time complexity** = depends on the number of the elements that needs to be shifted right = O(n)  \n",
    "**space complexity** = O(1)"
   ]
  },
  {
   "cell_type": "code",
   "execution_count": 7,
   "metadata": {},
   "outputs": [
    {
     "data": {
      "text/plain": [
       "array('i', [6, 1, 2, 3, 4, 7])"
      ]
     },
     "execution_count": 7,
     "metadata": {},
     "output_type": "execute_result"
    }
   ],
   "source": [
    "my_array1.insert(0,6)\n",
    "my_array1.insert(10,7)\n",
    "my_array1"
   ]
  },
  {
   "cell_type": "markdown",
   "metadata": {},
   "source": [
    "#### Traversal Operation\n",
    "**time complexity** = O(n)   \n",
    "**space complexity** = O(1), coz we don't need extra location to perform this operation."
   ]
  },
  {
   "cell_type": "code",
   "execution_count": 8,
   "metadata": {},
   "outputs": [],
   "source": [
    "#O(n) + O(1) = O(n)\n",
    "def traverseArray(array):\n",
    "    #O(n)\n",
    "    for i in array:\n",
    "        #O(1)\n",
    "        print(i)"
   ]
  },
  {
   "cell_type": "markdown",
   "metadata": {},
   "source": [
    "#### Accessing an element of Array\n",
    "**time complexity** = O(1)  \n",
    "**space complexity** = O(1)"
   ]
  },
  {
   "cell_type": "code",
   "execution_count": 9,
   "metadata": {},
   "outputs": [],
   "source": [
    "#O(1)\n",
    "def accessElement(array, index):\n",
    "    #O(1)\n",
    "    if index >= len(array):\n",
    "        #O(1)\n",
    "        print('Len is outside array length')\n",
    "    else:\n",
    "        #O(1)\n",
    "        print(array[index])"
   ]
  },
  {
   "cell_type": "markdown",
   "metadata": {},
   "source": [
    "#### Searching for an element of Array\n",
    "**time complexity** = O(1)  \n",
    "**space complexity** = O(1)"
   ]
  },
  {
   "cell_type": "code",
   "execution_count": 11,
   "metadata": {},
   "outputs": [
    {
     "name": "stdout",
     "output_type": "stream",
     "text": [
      "4\n"
     ]
    }
   ],
   "source": [
    "import array\n",
    "my_array1 = array.array('i', [1,2,3,4,5])\n",
    "\n",
    "def linear_search(arr, target):\n",
    "    #O(1) = coz range function doesn't generate seq of integers, rather creates an iterator that can be used to produce numbers on demand.\n",
    "    for i in range(len(arr)):\n",
    "        #O(1)\n",
    "        if arr[i] == target:\n",
    "            #O(1)\n",
    "            return i\n",
    "    #O(1)\n",
    "    return -1\n",
    "\n",
    "print(linear_search(my_array1, 5))"
   ]
  },
  {
   "cell_type": "markdown",
   "metadata": {},
   "source": [
    "#### Deleting an element from Array\n",
    "When we delete an element form array, the next element will move to the place of deleted element and so on.  \n",
    "**time complexity** = if last element : O(1) else O(n)  \n",
    "**space complexity** = O(1)"
   ]
  },
  {
   "cell_type": "markdown",
   "metadata": {},
   "source": [
    "#### Time and space complexity of One dimensional array\n",
    "|            Operation               | Time Complexity | Space Complexity |\n",
    "|------------------------------------|-----------------|------------------|\n",
    "|Creating an empty array | O(1) | O(1) |\n",
    "|Creating an array with elements | O(n) | O(n) |\n",
    "|Inserting a value in an array | O(n) | O(1) |\n",
    "|Traversing a given array | O(n) | O(1) |\n",
    "|Accessing a given cell | O(1) | O(1) |\n",
    "|Searching a given value | O(n) | O(1) |\n",
    "|Deleting a given value | O(n) | O(1) |"
   ]
  },
  {
   "cell_type": "code",
   "execution_count": 19,
   "metadata": {},
   "outputs": [
    {
     "name": "stdout",
     "output_type": "stream",
     "text": [
      "1\n",
      "2\n",
      "3\n",
      "4\n",
      "5\n",
      "Step 2\n",
      "4\n",
      "Step 3\n",
      "array('i', [1, 2, 3, 4, 5, 6])\n",
      "Step 4\n",
      "array('i', [1, 2, 3, 11, 4, 5, 6])\n",
      "Step 5\n",
      "array('i', [1, 2, 3, 11, 4, 5, 6, 10, 11, 12])\n",
      "Step 6\n",
      "array('i', [1, 2, 3, 11, 4, 5, 6, 10, 11, 12, 20, 21, 22])\n",
      "Step 7\n",
      "array('i', [1, 2, 3, 4, 5, 6, 10, 11, 12, 20, 21, 22])\n",
      "Step 8\n",
      "array('i', [1, 2, 3, 4, 5, 6, 10, 11, 12, 20, 21])\n",
      "Step 9\n",
      "10\n",
      "Step 10\n",
      "array('i', [21, 20, 12, 11, 10, 6, 5, 4, 3, 2, 1])\n",
      "Step 11\n",
      "(139710998894192, 11)\n",
      "Step 12\n",
      "2\n",
      "array('i', [21, 20, 12, 11, 10, 6, 5, 4, 3, 2, 1, 11])\n",
      "Step 13\n",
      "b'\\x15\\x00\\x00\\x00\\x14\\x00\\x00\\x00\\x0c\\x00\\x00\\x00\\x0b\\x00\\x00\\x00\\n\\x00\\x00\\x00\\x06\\x00\\x00\\x00\\x05\\x00\\x00\\x00\\x04\\x00\\x00\\x00\\x03\\x00\\x00\\x00\\x02\\x00\\x00\\x00\\x01\\x00\\x00\\x00\\x0b\\x00\\x00\\x00'\n",
      "array('i', [21, 20, 12, 11, 10, 6, 5, 4, 3, 2, 1, 11])\n",
      "Step 14\n",
      "[21, 20, 12, 11, 10, 6, 5, 4, 3, 2, 1, 11]\n",
      "Step 16\n",
      "array('i', [21, 20, 12, 11, 10, 6, 5, 4, 3, 2, 1, 11])\n"
     ]
    }
   ],
   "source": [
    "from array import *\n",
    "\n",
    "# 1. Create an array and traverse. \n",
    "\n",
    "my_array = array('i',[1,2,3,4,5])\n",
    "\n",
    "for i in my_array:\n",
    "    print(i)\n",
    "\n",
    "\n",
    "# 2. Access individual elements through indexes\n",
    "print(\"Step 2\")\n",
    "print(my_array[3])\n",
    "\n",
    "# 3. Append any value to the array using append() method\n",
    "\n",
    "print(\"Step 3\")\n",
    "my_array.append(6)\n",
    "print(my_array)\n",
    "\n",
    "# 4. Insert value in an array using insert() method\n",
    "print(\"Step 4\")\n",
    "my_array.insert(3, 11)\n",
    "print(my_array)\n",
    "\n",
    "\n",
    "# 5. Extend python array using extend() method\n",
    "print(\"Step 5\")\n",
    "my_array1 = array('i', [10,11,12])\n",
    "my_array.extend(my_array1)\n",
    "print(my_array)\n",
    "\n",
    "# 6. Add items from list into array using fromlist() method\n",
    "print(\"Step 6\")\n",
    "tempList = [20,21,22]\n",
    "my_array.fromlist(tempList)\n",
    "print(my_array)\n",
    "\n",
    "# 7. Remove any array element using remove() method\n",
    "print(\"Step 7\")\n",
    "my_array.remove(11)\n",
    "print(my_array)\n",
    "\n",
    "# 8. Remove last array element using pop() method\n",
    "print(\"Step 8\")\n",
    "my_array.pop()\n",
    "print(my_array)\n",
    "\n",
    "# 9. Fetch any element through its index using index() method\n",
    "print(\"Step 9\")\n",
    "print(my_array.index(21))\n",
    "\n",
    "# 10. Reverse a python array using reverse() method\n",
    "print(\"Step 10\")\n",
    "my_array.reverse()\n",
    "print(my_array)\n",
    "\n",
    "# 11. Get array buffer information through buffer_info() method\n",
    "print(\"Step 11\")\n",
    "print(my_array.buffer_info())\n",
    "\n",
    "# 12. Check for number of occurrences of an element using count() method\n",
    "print(\"Step 12\")\n",
    "my_array.append(11)\n",
    "print(my_array.count(11))\n",
    "print(my_array)\n",
    "\n",
    "# 13. Convert array to string using tostring() method\n",
    "print(\"Step 13\")\n",
    "strTemp = my_array.tobytes()\n",
    "print(strTemp)\n",
    "ints = array('i')\n",
    "ints.frombytes(strTemp)\n",
    "print(ints)\n",
    "\n",
    "# 14. Convert array to a python list with same elements using tolist() method\n",
    "print(\"Step 14\")\n",
    "print(my_array.tolist())\n",
    "\n",
    "# 15. Append a string to char array using fromstring() method\n",
    "\n",
    "\n",
    "# 16. Slice Elements from an array\n",
    "print(\"Step 16\")\n",
    "print(my_array[:])"
   ]
  },
  {
   "cell_type": "markdown",
   "metadata": {},
   "source": [
    "### Two Dimensional Array\n",
    "An array with a bunch of values having been declared with double index."
   ]
  },
  {
   "cell_type": "code",
   "execution_count": 1,
   "metadata": {},
   "outputs": [
    {
     "name": "stdout",
     "output_type": "stream",
     "text": [
      "[[11 15 10  6]\n",
      " [10 14 11  5]\n",
      " [12 17 12  8]\n",
      " [15 18 14  9]]\n"
     ]
    }
   ],
   "source": [
    "#O(mn), m= col, n=rows\n",
    "import numpy as np\n",
    "\n",
    "twoDArray = np.array([[11, 15, 10, 6], [10, 14, 11, 5], [12, 17, 12, 8], [15, 18, 14, 9]])\n",
    "print(twoDArray)"
   ]
  },
  {
   "cell_type": "markdown",
   "metadata": {},
   "source": [
    "#### Insertion\n",
    "Addition of column / Addition of rows  \n",
    "**Time complexity** = O(MN) = M: number of columns, N: number of rows"
   ]
  },
  {
   "cell_type": "code",
   "execution_count": 6,
   "metadata": {},
   "outputs": [
    {
     "name": "stdout",
     "output_type": "stream",
     "text": [
      "[[11 15 10  6]\n",
      " [10 14 11  5]\n",
      " [12 17 12  8]\n",
      " [15 18 14  9]]\n",
      "[[ 1 11 15 10  6]\n",
      " [ 2 10 14 11  5]\n",
      " [ 3 12 17 12  8]\n",
      " [ 4 15 18 14  9]]\n"
     ]
    }
   ],
   "source": [
    "#O(mn), m= col, n=rows\n",
    "import numpy as np\n",
    "\n",
    "twoDArray = np.array([[11, 15, 10, 6], [10, 14, 11, 5], [12, 17, 12, 8], [15, 18, 14, 9]])\n",
    "print(twoDArray)\n",
    "\n",
    "newTwoDArray = np.insert(twoDArray, 0, [[1, 2, 3, 4]], axis=1)\n",
    "print(newTwoDArray)"
   ]
  },
  {
   "cell_type": "code",
   "execution_count": 3,
   "metadata": {},
   "outputs": [
    {
     "name": "stdout",
     "output_type": "stream",
     "text": [
      "[[11 15 10  6]\n",
      " [10 14 11  5]\n",
      " [12 17 12  8]\n",
      " [15 18 14  9]]\n",
      "8\n"
     ]
    }
   ],
   "source": [
    "import numpy as np\n",
    "\n",
    "twoDArray = np.array([[11, 15, 10, 6], [10, 14, 11, 5], [12, 17, 12, 8], [15, 18, 14, 9]])\n",
    "print(twoDArray)\n",
    "\n",
    "#O(1) , Space Complexity= O(1)\n",
    "def accessElements(array, RowIdx, ColIdx):\n",
    "    #O(1)\n",
    "    if RowIdx >= len(array) and ColIdx >= len(array[0]):\n",
    "        #O(1)\n",
    "        print('Incorrect Index')\n",
    "    #O(1)\n",
    "    else:\n",
    "        #O(1)\n",
    "        print(array[RowIdx, ColIdx])\n",
    "\n",
    "accessElements(twoDArray, 2, 3)"
   ]
  },
  {
   "cell_type": "markdown",
   "metadata": {},
   "source": [
    "#### Traversal 2D\n",
    "**time complexity** = O(mn)  \n",
    "**space complexity** = O(1)"
   ]
  },
  {
   "cell_type": "code",
   "execution_count": 5,
   "metadata": {},
   "outputs": [
    {
     "name": "stdout",
     "output_type": "stream",
     "text": [
      "[[11 15 10  6]\n",
      " [10 14 11  5]\n",
      " [12 17 12  8]\n",
      " [15 18 14  9]]\n",
      "11\n",
      "15\n",
      "10\n",
      "6\n",
      "10\n",
      "14\n",
      "11\n",
      "5\n",
      "12\n",
      "17\n",
      "12\n",
      "8\n",
      "15\n",
      "18\n",
      "14\n",
      "9\n"
     ]
    }
   ],
   "source": [
    "import numpy as np\n",
    "\n",
    "twoDArray = np.array([[11, 15, 10, 6], [10, 14, 11, 5], [12, 17, 12, 8], [15, 18, 14, 9]])\n",
    "print(twoDArray)\n",
    "\n",
    "#O(mn)\n",
    "def traverseTDArray(array):\n",
    "    #O(mn)\n",
    "    for i in range(len(array)):\n",
    "        #O(n)\n",
    "        for j in range(len(array[0])):\n",
    "            #O(1)\n",
    "            print(array[i][j])\n",
    "                    \n",
    "traverseTDArray(twoDArray)                    "
   ]
  },
  {
   "cell_type": "markdown",
   "metadata": {},
   "source": [
    "#### Searching 2D Array\n",
    "**time complexity** = O(mn)  \n",
    "**space complexity** = O(1)"
   ]
  },
  {
   "cell_type": "code",
   "execution_count": 8,
   "metadata": {},
   "outputs": [
    {
     "name": "stdout",
     "output_type": "stream",
     "text": [
      "[[11 15 10  6]\n",
      " [10 14 11  5]\n",
      " [12 17 12  8]\n",
      " [15 18 14  9]]\n"
     ]
    },
    {
     "data": {
      "text/plain": [
       "'The value is located at index 2 , 3'"
      ]
     },
     "execution_count": 8,
     "metadata": {},
     "output_type": "execute_result"
    }
   ],
   "source": [
    "import numpy as np\n",
    "\n",
    "twoDArray = np.array([[11, 15, 10, 6], [10, 14, 11, 5], [12, 17, 12, 8], [15, 18, 14, 9]])\n",
    "print(twoDArray)\n",
    "\n",
    "#O(mn)\n",
    "def searchTDArray(array, value):\n",
    "    #O(mn)\n",
    "    for i in range(len(array)):\n",
    "        #O(n)\n",
    "        for j in range(len(array[0])):\n",
    "            #O(1)\n",
    "            if array[i][j] == value:\n",
    "                #O(1)\n",
    "                return 'The value is located at index '+ str(i) + \" , \" + str(j)\n",
    "    #O(1)\n",
    "    return 'The element is not found'            \n",
    "                    \n",
    "searchTDArray(twoDArray, 8)                    "
   ]
  },
  {
   "cell_type": "markdown",
   "metadata": {},
   "source": [
    "#### Deletion from 2D Array\n",
    "copying the original data without deleted column/row into a new array with new location  \n",
    "**time complexity** = O(mn)  \n",
    "**space complexity** = O(mn)"
   ]
  },
  {
   "cell_type": "code",
   "execution_count": 11,
   "metadata": {},
   "outputs": [
    {
     "name": "stdout",
     "output_type": "stream",
     "text": [
      "[[11 15 10  6]\n",
      " [10 14 11  5]\n",
      " [12 17 12  8]\n",
      " [15 18 14  9]]\n",
      "[[11 15 10  6]\n",
      " [12 17 12  8]\n",
      " [15 18 14  9]]\n",
      "[[15 10  6]\n",
      " [17 12  8]\n",
      " [18 14  9]]\n"
     ]
    }
   ],
   "source": [
    "import numpy as np\n",
    "\n",
    "twoDArray = np.array([[11, 15, 10, 6], [10, 14, 11, 5], [12, 17, 12, 8], [15, 18, 14, 9]])\n",
    "print(twoDArray)\n",
    "\n",
    "newTDArray = np.delete(twoDArray, 1, axis=0)\n",
    "print(newTDArray)\n",
    "\n",
    "new2DArray = np.delete(newTDArray, 0, axis = 1)\n",
    "print(new2DArray)"
   ]
  },
  {
   "cell_type": "markdown",
   "metadata": {},
   "source": [
    "#### Time and space complexity of 2D array\n",
    "|            Operation               | Time Complexity | Space Complexity |\n",
    "|------------------------------------|-----------------|------------------|\n",
    "|Creating an empty array | O(1) | O(1) |\n",
    "|Creating an array with elements | O(mn) | O(mn) |\n",
    "|Inserting a value in an array | O(mn) | O(mn) |\n",
    "|Traversing a given array | O(mn) | O(1) |\n",
    "|Accessing a given cell | O(1) | O(1) |\n",
    "|Searching a given value | O(mn) | O(1) |\n",
    "|Deleting a given value | O(mn) | O(mn) |"
   ]
  },
  {
   "cell_type": "markdown",
   "metadata": {},
   "source": [
    "### When to use/avoid Arrays\n",
    "\n",
    "When to use ::  \n",
    "- To store multiple variables of same data type  \n",
    "- Random Access  \n",
    "\n",
    "When to avoid ::  \n",
    "- Same data type elements  \n",
    "- Reserve memory  "
   ]
  },
  {
   "cell_type": "markdown",
   "metadata": {},
   "source": [
    "## Section 4 : Python Lists"
   ]
  },
  {
   "cell_type": "markdown",
   "metadata": {},
   "source": [
    "#### Accessing/Traversing the list : time complexity - O(1), space complexity - O(1)"
   ]
  },
  {
   "cell_type": "code",
   "execution_count": 1,
   "metadata": {},
   "outputs": [
    {
     "name": "stdout",
     "output_type": "stream",
     "text": [
      "True\n",
      "Milk+\n",
      "Cheese+\n",
      "Butter+\n"
     ]
    }
   ],
   "source": [
    "shoppingList = ['Milk', 'Cheese', 'Butter']\n",
    "\n",
    "print('Milk' in shoppingList)\n",
    "\n",
    "for i in range(len(shoppingList)):\n",
    "    shoppingList[i] = shoppingList[i]+\"+\"\n",
    "    print(shoppingList[i])\n",
    "    \n",
    "empty = []\n",
    "for i in empty:\n",
    "    print(\"I am empty\")\n"
   ]
  },
  {
   "cell_type": "markdown",
   "metadata": {},
   "source": [
    "#### Update/Insert : time complexity - O(1), space complexity - O(1)"
   ]
  },
  {
   "cell_type": "code",
   "execution_count": 19,
   "metadata": {},
   "outputs": [
    {
     "name": "stdout",
     "output_type": "stream",
     "text": [
      "[1, 2, 3, 4, 5, 6, 7]\n",
      "[0, 2, 3, 4, 15, 5, 6, 7, 55, 11, 12, 13, 14, ['a', 'b', 'c', 'd']]\n"
     ]
    }
   ],
   "source": [
    "myList = [1,2,3,4,5,6,7]\n",
    "print(myList)\n",
    "\n",
    "#O(1)\n",
    "myList[0] = 0\n",
    "#O(n)\n",
    "myList.insert(4,15)\n",
    "#O(1)\n",
    "myList.append(55)\n",
    "#O(n)\n",
    "newList = [11,12,13,14]\n",
    "myList.extend(newList)\n",
    "#O(n)\n",
    "newList = [['a','b','c','d']]\n",
    "myList.extend(newList)\n",
    "print(myList)"
   ]
  },
  {
   "cell_type": "markdown",
   "metadata": {},
   "source": [
    "#### Slice/Delete from a List : time complexity - O(n), space complexity - O(1)"
   ]
  },
  {
   "cell_type": "code",
   "execution_count": 26,
   "metadata": {},
   "outputs": [
    {
     "name": "stdout",
     "output_type": "stream",
     "text": [
      "['a', 'c', 'd', 'e', 'f', 'a', 'b', 'c', 'd']\n",
      "['a', 'c', 'd', 'e']\n",
      "['c', 'd', 'e']\n"
     ]
    }
   ],
   "source": [
    "myList = ['a', 'b', 'c', 'd', 'e', 'f', 'a', 'b', 'c', 'd', 'e']\n",
    "#By default last element\n",
    "#O(1)\n",
    "myList.pop()\n",
    "#O(n)\n",
    "myList.pop(1)\n",
    "print(myList)\n",
    "\n",
    "#O(n)\n",
    "del myList[4:]\n",
    "print(myList)\n",
    "\n",
    "#O(1)\n",
    "myList.remove('a')\n",
    "print(myList)"
   ]
  },
  {
   "cell_type": "markdown",
   "metadata": {},
   "source": [
    "#### Searching for an element in the List : time complexity - O(n), space complexity - O(1)"
   ]
  },
  {
   "cell_type": "code",
   "execution_count": 27,
   "metadata": {},
   "outputs": [
    {
     "name": "stdout",
     "output_type": "stream",
     "text": [
      "The value does not exist in the list\n"
     ]
    }
   ],
   "source": [
    "myList =  [10,20,30,40,50,60,70,80,90]\n",
    "\n",
    "def linearSearchInList(list, value):\n",
    "    for i in list:\n",
    "        if i == value:\n",
    "            return list.index(value)\n",
    "    return 'The value does not exist in the list'\n",
    "\n",
    "print(linearSearchInList(myList, 100))"
   ]
  },
  {
   "cell_type": "markdown",
   "metadata": {},
   "source": [
    "####  List operations / functions : "
   ]
  },
  {
   "cell_type": "code",
   "execution_count": 28,
   "metadata": {},
   "outputs": [
    {
     "name": "stdout",
     "output_type": "stream",
     "text": [
      "[1, 2, 3, 4, 5, 6]\n"
     ]
    }
   ],
   "source": [
    "a,b = [1,2,3], [4,5,6]\n",
    "c=a+b\n",
    "print(c)"
   ]
  },
  {
   "cell_type": "code",
   "execution_count": 29,
   "metadata": {},
   "outputs": [
    {
     "name": "stdout",
     "output_type": "stream",
     "text": [
      "[0, 0, 0, 0]\n"
     ]
    }
   ],
   "source": [
    "a=[0]\n",
    "print(a*4)"
   ]
  },
  {
   "cell_type": "code",
   "execution_count": 33,
   "metadata": {},
   "outputs": [
    {
     "name": "stdout",
     "output_type": "stream",
     "text": [
      "6\n",
      "1\n",
      "21\n"
     ]
    }
   ],
   "source": [
    "a= [1,2,3,4,5,6]\n",
    "print(max(a))\n",
    "print(min(a))\n",
    "print(sum(a))"
   ]
  },
  {
   "cell_type": "code",
   "execution_count": null,
   "metadata": {},
   "outputs": [],
   "source": [
    "total = 0 \n",
    "count = 0\n",
    "while (True):\n",
    "    inp = [input('Enter a number: ') ]\n",
    "    if inp == 'done': break\n",
    "    value = float(inp)\n",
    "    total = total + value\n",
    "    count = count + 1 \n",
    "    average = total / count\n",
    "\t\t\t\t\t\n",
    "print('Average:', average)"
   ]
  },
  {
   "cell_type": "code",
   "execution_count": null,
   "metadata": {},
   "outputs": [],
   "source": [
    "\n",
    "numlist = list() \n",
    "while (True):\n",
    "    inp = input('Enter a number: ') \n",
    "    if inp == 'done': break\n",
    "    value = float(inp)\n",
    "    numlist.append(value)\n",
    "\t\t\t\t\t\n",
    "average = sum(numlist) / len(numlist) \n",
    "print('Average:', average)\n"
   ]
  },
  {
   "cell_type": "markdown",
   "metadata": {},
   "source": [
    "#### Lists and Strings"
   ]
  },
  {
   "cell_type": "code",
   "execution_count": 3,
   "metadata": {},
   "outputs": [
    {
     "name": "stdout",
     "output_type": "stream",
     "text": [
      "['s', 'p', 'a', 'm']\n",
      "['spam', 'spam', 'spam']\n"
     ]
    },
    {
     "data": {
      "text/plain": [
       "'spam-spam-spam'"
      ]
     },
     "execution_count": 3,
     "metadata": {},
     "output_type": "execute_result"
    }
   ],
   "source": [
    "a = 'spam'\n",
    "b = list(a)\n",
    "print(b)\n",
    "\n",
    "a = 'spam spam spam'\n",
    "b = a.split(' ')\n",
    "print(b)\n",
    "\n",
    "'-'.join(b)"
   ]
  },
  {
   "cell_type": "markdown",
   "metadata": {},
   "source": [
    "#### Common list pitfalls and ways to avoid them"
   ]
  },
  {
   "cell_type": "code",
   "execution_count": 4,
   "metadata": {},
   "outputs": [
    {
     "name": "stdout",
     "output_type": "stream",
     "text": [
      "None\n"
     ]
    }
   ],
   "source": [
    "myList = [2, 4, 3, 1, 5, 7]\n",
    "myList = myList.sort()\n",
    "print(myList)"
   ]
  },
  {
   "cell_type": "markdown",
   "metadata": {},
   "source": [
    "#### Lists vs Arrays\n",
    "Similarities :\n",
    "- Both data structures are mutable\n",
    "- Both can be indexed and iterated through\n",
    "- They both can be sliced\n",
    "\n",
    "Diff :\n",
    "- Arrays are optimized for arithmetic operations"
   ]
  },
  {
   "cell_type": "markdown",
   "metadata": {},
   "source": [
    "#### Time and space complexity of Lists\n",
    "|            Operation               | Time Complexity | Space Complexity |\n",
    "|------------------------------------|-----------------|------------------|\n",
    "|Creating an empty list | O(1) | O(1) |\n",
    "|Creating a list with elements | O(n) | O(n) |\n",
    "|Inserting a value in a list | O(n) | O(1) |\n",
    "|Traversing a given list | O(n) | O(1) |\n",
    "|Accessing a given cell in List| O(1) | O(1) |\n",
    "|Searching a given value in List | O(n) | O(1) |\n",
    "|Deleting a given value from List| O(1) | O(1) |"
   ]
  },
  {
   "cell_type": "markdown",
   "metadata": {},
   "source": [
    "#### Quiz"
   ]
  },
  {
   "cell_type": "code",
   "execution_count": 7,
   "metadata": {},
   "outputs": [
    {
     "name": "stdout",
     "output_type": "stream",
     "text": [
      "1\n",
      "row=[1, 2]\n",
      "element=1\n",
      "element=2\n",
      "row=[3, 4]\n",
      "element=3\n",
      "element=4\n",
      "4\n"
     ]
    }
   ],
   "source": [
    "data = [[[1, 2], [3, 4]], [[5, 6], [7, 8]]]\n",
    "def fun(m):\n",
    "    v = m[0][0]\n",
    "    print(v)\n",
    " \n",
    "    for row in m:\n",
    "        print(f\"row={row}\")\n",
    "        for element in row:\n",
    "            print(f\"element={element}\")\n",
    "            if v < element: \n",
    "                v = element\n",
    " \n",
    "    return v\n",
    "print(fun(data[0]))"
   ]
  },
  {
   "cell_type": "code",
   "execution_count": 8,
   "metadata": {},
   "outputs": [
    {
     "name": "stdout",
     "output_type": "stream",
     "text": [
      "['Guava', 'Berry', 'Cherry', 'Papaya']\n",
      "['Guava', 'Berry', 'Cherry', 'Papaya']\n",
      "['Apple', 'Kiwi', 'Cherry', 'Papaya']\n",
      "22\n"
     ]
    }
   ],
   "source": [
    "fruit_list1 = ['Apple', 'Berry', 'Cherry', 'Papaya']\n",
    "fruit_list2 = fruit_list1\n",
    "fruit_list3 = fruit_list1[:]\n",
    " \n",
    "fruit_list2[0] = 'Guava'\n",
    "fruit_list3[1] = 'Kiwi'\n",
    " \n",
    "sum = 0\n",
    "for ls in (fruit_list1, fruit_list2, fruit_list3):\n",
    "    print(ls)\n",
    "    if ls[0] == 'Guava':\n",
    "        sum += 1\n",
    "    if ls[1] == 'Kiwi':\n",
    "        sum += 20\n",
    " \n",
    "print(sum)"
   ]
  },
  {
   "cell_type": "code",
   "execution_count": 9,
   "metadata": {},
   "outputs": [
    {
     "name": "stdout",
     "output_type": "stream",
     "text": [
      "2 3 4 5 6 6 "
     ]
    }
   ],
   "source": [
    "arr = [1, 2, 3, 4, 5, 6]\n",
    "for i in range(1, 6):\n",
    "    arr[i - 1] = arr[i]\n",
    "for i in range(0, 6): \n",
    "    print(arr[i], end = \" \")"
   ]
  },
  {
   "cell_type": "code",
   "execution_count": 15,
   "metadata": {},
   "outputs": [
    {
     "name": "stdout",
     "output_type": "stream",
     "text": [
      "[4, 3, 2]\n"
     ]
    }
   ],
   "source": [
    "a=[1,2,3,4,5]\n",
    "print(a[3:0:-1])"
   ]
  },
  {
   "cell_type": "code",
   "execution_count": 25,
   "metadata": {},
   "outputs": [
    {
     "ename": "ValueError",
     "evalue": "attempt to assign sequence of size 6 to extended slice of size 5",
     "output_type": "error",
     "traceback": [
      "\u001b[0;31m---------------------------------------------------------------------------\u001b[0m",
      "\u001b[0;31mValueError\u001b[0m                                Traceback (most recent call last)",
      "\u001b[1;32m/workspaces/codespaces-jupyter/exp/MQ.ipynb Cell 62\u001b[0m line \u001b[0;36m2\n\u001b[1;32m      <a href='vscode-notebook-cell://codespaces%2Bsolid-space-enigma-6qr4gwrg9724rp4/workspaces/codespaces-jupyter/exp/MQ.ipynb#Y124sdnNjb2RlLXJlbW90ZQ%3D%3D?line=0'>1</a>\u001b[0m a\u001b[39m=\u001b[39m[\u001b[39m1\u001b[39m,\u001b[39m2\u001b[39m,\u001b[39m3\u001b[39m,\u001b[39m4\u001b[39m,\u001b[39m5\u001b[39m,\u001b[39m6\u001b[39m,\u001b[39m7\u001b[39m,\u001b[39m8\u001b[39m,\u001b[39m9\u001b[39m]\n\u001b[0;32m----> <a href='vscode-notebook-cell://codespaces%2Bsolid-space-enigma-6qr4gwrg9724rp4/workspaces/codespaces-jupyter/exp/MQ.ipynb#Y124sdnNjb2RlLXJlbW90ZQ%3D%3D?line=1'>2</a>\u001b[0m a[::\u001b[39m2\u001b[39;49m]\u001b[39m=\u001b[39m\u001b[39m10\u001b[39m,\u001b[39m20\u001b[39m,\u001b[39m30\u001b[39m,\u001b[39m40\u001b[39m,\u001b[39m50\u001b[39m,\u001b[39m60\u001b[39m\n\u001b[1;32m      <a href='vscode-notebook-cell://codespaces%2Bsolid-space-enigma-6qr4gwrg9724rp4/workspaces/codespaces-jupyter/exp/MQ.ipynb#Y124sdnNjb2RlLXJlbW90ZQ%3D%3D?line=2'>3</a>\u001b[0m \u001b[39mprint\u001b[39m(a)\n",
      "\u001b[0;31mValueError\u001b[0m: attempt to assign sequence of size 6 to extended slice of size 5"
     ]
    }
   ],
   "source": [
    "a=[1,2,3,4,5,6,7,8,9]\n",
    "a[::2]=10,20,30,40,50,60\n",
    "print(a)"
   ]
  },
  {
   "cell_type": "code",
   "execution_count": 22,
   "metadata": {},
   "outputs": [
    {
     "name": "stdout",
     "output_type": "stream",
     "text": [
      "['papaya', 'cherry', 'apple', 'banana']\n"
     ]
    }
   ],
   "source": [
    "import random\n",
    "fruit=['apple', 'banana', 'papaya', 'cherry']\n",
    "random.shuffle(fruit)\n",
    "print(fruit)"
   ]
  },
  {
   "cell_type": "code",
   "execution_count": 23,
   "metadata": {},
   "outputs": [
    {
     "name": "stdout",
     "output_type": "stream",
     "text": [
      "4\n",
      "7\n",
      "11\n",
      "15\n"
     ]
    }
   ],
   "source": [
    "arr = [[1, 2, 3, 4],\n",
    "       [4, 5, 6, 7],\n",
    "       [8, 9, 10, 11],\n",
    "       [12, 13, 14, 15]]\n",
    "for i in range(0, 4):\n",
    "    print(arr[i].pop())"
   ]
  },
  {
   "cell_type": "code",
   "execution_count": 24,
   "metadata": {},
   "outputs": [
    {
     "name": "stdout",
     "output_type": "stream",
     "text": [
      "3 44\n"
     ]
    }
   ],
   "source": [
    "def f(value, values):\n",
    "    v = 1\n",
    "    values[0] = 44\n",
    "\n",
    "t = 3\n",
    "v = [1, 2, 3]\n",
    "f(t, v)\n",
    "\n",
    "print(t, v[0])"
   ]
  },
  {
   "cell_type": "code",
   "execution_count": 1,
   "metadata": {},
   "outputs": [
    {
     "ename": "SyntaxError",
     "evalue": "incomplete input (294177552.py, line 3)",
     "output_type": "error",
     "traceback": [
      "\u001b[0;36m  Cell \u001b[0;32mIn[1], line 3\u001b[0;36m\u001b[0m\n\u001b[0;31m    \u001b[0m\n\u001b[0m    ^\u001b[0m\n\u001b[0;31mSyntaxError\u001b[0m\u001b[0;31m:\u001b[0m incomplete input\n"
     ]
    }
   ],
   "source": [
    "def missing_number(arr, n):\n",
    "    if len(arr) != n:\n",
    "        "
   ]
  },
  {
   "cell_type": "code",
   "execution_count": 2,
   "metadata": {},
   "outputs": [],
   "source": [
    "class Youtube:\n",
    "    def __init__(self, username, subscribers=0, subscriptions=0):\n",
    "        self.username = username\n",
    "        self.subscribers = subscribers\n",
    "        self.subscriptions = subscriptions\n",
    "\n",
    "    def subscribe(self, user):\n",
    "        user.subscribers += 1\n",
    "        self.subscriptions += 1"
   ]
  },
  {
   "cell_type": "code",
   "execution_count": 3,
   "metadata": {},
   "outputs": [],
   "source": [
    "user1 = Youtube(\"World Affairs\")\n",
    "user2 = Youtube(\"Sandeep\")"
   ]
  },
  {
   "cell_type": "code",
   "execution_count": 4,
   "metadata": {},
   "outputs": [
    {
     "name": "stdout",
     "output_type": "stream",
     "text": [
      "0\n",
      "0\n",
      "0\n",
      "0\n"
     ]
    }
   ],
   "source": [
    "print(user1.subscribers)\n",
    "print(user1.subscriptions)\n",
    "\n",
    "print(user2.subscribers)\n",
    "print(user2.subscriptions)"
   ]
  },
  {
   "cell_type": "code",
   "execution_count": 5,
   "metadata": {},
   "outputs": [],
   "source": [
    "user1 = Youtube(\"World Affairs\")\n",
    "user2 = Youtube(\"Sandeep\")\n",
    "user1.subscribe(user2)"
   ]
  },
  {
   "cell_type": "code",
   "execution_count": 6,
   "metadata": {},
   "outputs": [
    {
     "name": "stdout",
     "output_type": "stream",
     "text": [
      "0\n",
      "1\n",
      "1\n",
      "0\n"
     ]
    }
   ],
   "source": [
    "print(user1.subscribers)\n",
    "print(user1.subscriptions)\n",
    "\n",
    "print(user2.subscribers)\n",
    "print(user2.subscriptions)"
   ]
  },
  {
   "cell_type": "code",
   "execution_count": null,
   "metadata": {},
   "outputs": [],
   "source": []
  }
 ],
 "metadata": {
  "kernelspec": {
   "display_name": "Python 3",
   "language": "python",
   "name": "python3"
  },
  "language_info": {
   "codemirror_mode": {
    "name": "ipython",
    "version": 3
   },
   "file_extension": ".py",
   "mimetype": "text/x-python",
   "name": "python",
   "nbconvert_exporter": "python",
   "pygments_lexer": "ipython3",
   "version": "3.10.8"
  },
  "orig_nbformat": 4
 },
 "nbformat": 4,
 "nbformat_minor": 2
}
