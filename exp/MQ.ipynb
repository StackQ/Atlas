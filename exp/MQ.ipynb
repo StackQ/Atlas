{
 "cells": [
  {
   "cell_type": "markdown",
   "metadata": {},
   "source": [
    "###### Different Terms for Input - Add vs Multiply"
   ]
  },
  {
   "cell_type": "code",
   "execution_count": 5,
   "metadata": {},
   "outputs": [],
   "source": [
    "#O(n + n) = O(2n) :: we can easily drop the constants : O(n) time complexity\n",
    "def print_items(n):\n",
    "    #O(n)\n",
    "    for i in range(n):\n",
    "        print(i)\n",
    "    #O(n)\n",
    "    for j in range(n):\n",
    "        print(j)"
   ]
  },
  {
   "cell_type": "code",
   "execution_count": null,
   "metadata": {},
   "outputs": [],
   "source": [
    "#O(a + b) time complexity :: We can't say a=n & b=n | coz what if a=1 and b=Million\n",
    "def print_items(a, b):\n",
    "    #O(a)\n",
    "    for i in range(a):\n",
    "        print(i)\n",
    "    #O(b)\n",
    "    for j in range(b):\n",
    "        print(j)"
   ]
  },
  {
   "cell_type": "code",
   "execution_count": null,
   "metadata": {},
   "outputs": [],
   "source": [
    "#O(a * b) time complexity \n",
    "def print_items(a, b):\n",
    "    #O(a * b)\n",
    "    for i in range(a):\n",
    "        for j in range(b):\n",
    "            print(j)"
   ]
  },
  {
   "cell_type": "markdown",
   "metadata": {},
   "source": [
    "###### How to measure the codes using Big O?"
   ]
  },
  {
   "cell_type": "markdown",
   "metadata": {},
   "source": [
    "|No|Description|Complexity|\n",
    "|--|-----------|----------|\n",
    "|Rule 1|Any assignment statements and if statements that are executed once regardless of the size of the problem| O(1)|\n",
    "|Rule 2|A simple \"for\" loop from 0 to n (with no internal loops)| O(n)|\n",
    "|Rule 3|A nested loop of the same type takes quadratic time complexity| O(n^2)|\n",
    "|Rule 4|A loop, in which the controlling parameter is divided by two at each step| O(logN)|\n",
    "|Rule 5|When dealing with multiple statements, just add them up| |\n"
   ]
  },
  {
   "cell_type": "code",
   "execution_count": 6,
   "metadata": {},
   "outputs": [],
   "source": [
    "# O(1) + O(n) + (O(1)+O(1)) + O(1) :: O(1) + (O(n) + O(1)) + O(1) : O(1) + O(n) + O(1) => O(n) time complexity\n",
    "# O(1)+O(1) = 2O(1) : Remove constant terms = O(1)\n",
    "# O(n)+O(1) = O(n) : coz we learnt to remove non-dominant term, and here O(n) is dominant term\n",
    "def findBiggestNumber(sampleArray):\n",
    "    #O(1)\n",
    "    biggestNumber = sampleArray[0]\n",
    "    #O(n)\n",
    "    for index in range(1, len(sampleArray)):\n",
    "    #O(1)\n",
    "        if sampleArray[index] > biggestNumber:\n",
    "    #O(1)\n",
    "            biggestNumber = sampleArray[index]\n",
    "    #O(1)\n",
    "    print(biggestNumber)"
   ]
  },
  {
   "cell_type": "markdown",
   "metadata": {},
   "source": [
    "## Section 3: Arrays\n",
    "Advantages of array model is that it is more memory efficient than the list for storing the large types of the same data type."
   ]
  },
  {
   "cell_type": "markdown",
   "metadata": {},
   "source": [
    "##### Create an Array"
   ]
  },
  {
   "cell_type": "code",
   "execution_count": 6,
   "metadata": {},
   "outputs": [
    {
     "name": "stdout",
     "output_type": "stream",
     "text": [
      "array('i')\n",
      "array('i', [1, 2, 3, 4])\n"
     ]
    }
   ],
   "source": [
    "import array\n",
    "#Empty Array :: time complexity = O(1), space complexity = O(1)\n",
    "my_array = array.array('i')\n",
    "print(my_array)\n",
    "#time complexity = O(n), space complexity = O(n)\n",
    "my_array1 = array.array('i',[1,2,3,4])\n",
    "print(my_array1)"
   ]
  },
  {
   "cell_type": "code",
   "execution_count": 12,
   "metadata": {},
   "outputs": [
    {
     "name": "stdout",
     "output_type": "stream",
     "text": [
      "[]\n",
      "[1 2 3 4]\n"
     ]
    }
   ],
   "source": [
    "import numpy as np\n",
    "#Empty Array :: time complexity = O(1), space complexity = O(1)\n",
    "np_array = np.array([], dtype=int)\n",
    "print(np_array)\n",
    "#time complexity = O(n), space complexity = O(n)\n",
    "np_array1 = np.array([1,2,3,4])\n",
    "print(np_array1)"
   ]
  },
  {
   "cell_type": "markdown",
   "metadata": {},
   "source": [
    "##### Insertion to Array\n",
    "\n",
    "When we are insterting an element at a specific position using insert method,   \n",
    "**time complexity** = depends on the number of the elements that needs to be shifted right = O(n)  \n",
    "**space complexity** = O(1)"
   ]
  },
  {
   "cell_type": "code",
   "execution_count": 7,
   "metadata": {},
   "outputs": [
    {
     "data": {
      "text/plain": [
       "array('i', [6, 1, 2, 3, 4, 7])"
      ]
     },
     "execution_count": 7,
     "metadata": {},
     "output_type": "execute_result"
    }
   ],
   "source": [
    "my_array1.insert(0,6)\n",
    "my_array1.insert(10,7)\n",
    "my_array1"
   ]
  },
  {
   "cell_type": "markdown",
   "metadata": {},
   "source": [
    "#### Traversal Operation\n",
    "**time complexity** = O(n)   \n",
    "**space complexity** = O(1), coz we don't need extra location to perform this operation."
   ]
  },
  {
   "cell_type": "code",
   "execution_count": 8,
   "metadata": {},
   "outputs": [],
   "source": [
    "#O(n) + O(1) = O(n)\n",
    "def traverseArray(array):\n",
    "    #O(n)\n",
    "    for i in array:\n",
    "        #O(1)\n",
    "        print(i)"
   ]
  },
  {
   "cell_type": "markdown",
   "metadata": {},
   "source": [
    "#### Accessing an element of Array\n",
    "**time complexity** = O(1)  \n",
    "**space complexity** = O(1)"
   ]
  },
  {
   "cell_type": "code",
   "execution_count": 9,
   "metadata": {},
   "outputs": [],
   "source": [
    "#O(1)\n",
    "def accessElement(array, index):\n",
    "    #O(1)\n",
    "    if index >= len(array):\n",
    "        #O(1)\n",
    "        print('Len is outside array length')\n",
    "    else:\n",
    "        #O(1)\n",
    "        print(array[index])"
   ]
  },
  {
   "cell_type": "markdown",
   "metadata": {},
   "source": [
    "#### Searching for an element of Array\n",
    "**time complexity** = O(1)  \n",
    "**space complexity** = O(1)"
   ]
  },
  {
   "cell_type": "code",
   "execution_count": 11,
   "metadata": {},
   "outputs": [
    {
     "name": "stdout",
     "output_type": "stream",
     "text": [
      "4\n"
     ]
    }
   ],
   "source": [
    "import array\n",
    "my_array1 = array.array('i', [1,2,3,4,5])\n",
    "\n",
    "def linear_search(arr, target):\n",
    "    #O(1) = coz range function doesn't generate seq of integers, rather creates an iterator that can be used to produce numbers on demand.\n",
    "    for i in range(len(arr)):\n",
    "        #O(1)\n",
    "        if arr[i] == target:\n",
    "            #O(1)\n",
    "            return i\n",
    "    #O(1)\n",
    "    return -1\n",
    "\n",
    "print(linear_search(my_array1, 5))"
   ]
  },
  {
   "cell_type": "markdown",
   "metadata": {},
   "source": [
    "#### Deleting an element from Array\n",
    "When we delete an element form array, the next element will move to the place of deleted element and so on.  \n",
    "**time complexity** = if last element : O(1) else O(n)  \n",
    "**space complexity** = O(1)"
   ]
  },
  {
   "cell_type": "markdown",
   "metadata": {},
   "source": [
    "#### Time and space complexity of One dimensional array\n",
    "|            Operation               | Time Complexity | Space Complexity |\n",
    "|------------------------------------|-----------------|------------------|\n",
    "|Creating an empty array | O(1) | O(1) |\n",
    "|Creating an array with elements | O(n) | O(n) |\n",
    "|Inserting a value in an array | O(n) | O(1) |\n",
    "|Traversing a given array | O(n) | O(1) |\n",
    "|Accessing a given cell | O(1) | O(1) |\n",
    "|Searching a given value | O(n) | O(1) |\n",
    "|Deleting a given value | O(n) | O(1) |"
   ]
  },
  {
   "cell_type": "code",
   "execution_count": 19,
   "metadata": {},
   "outputs": [
    {
     "name": "stdout",
     "output_type": "stream",
     "text": [
      "1\n",
      "2\n",
      "3\n",
      "4\n",
      "5\n",
      "Step 2\n",
      "4\n",
      "Step 3\n",
      "array('i', [1, 2, 3, 4, 5, 6])\n",
      "Step 4\n",
      "array('i', [1, 2, 3, 11, 4, 5, 6])\n",
      "Step 5\n",
      "array('i', [1, 2, 3, 11, 4, 5, 6, 10, 11, 12])\n",
      "Step 6\n",
      "array('i', [1, 2, 3, 11, 4, 5, 6, 10, 11, 12, 20, 21, 22])\n",
      "Step 7\n",
      "array('i', [1, 2, 3, 4, 5, 6, 10, 11, 12, 20, 21, 22])\n",
      "Step 8\n",
      "array('i', [1, 2, 3, 4, 5, 6, 10, 11, 12, 20, 21])\n",
      "Step 9\n",
      "10\n",
      "Step 10\n",
      "array('i', [21, 20, 12, 11, 10, 6, 5, 4, 3, 2, 1])\n",
      "Step 11\n",
      "(139710998894192, 11)\n",
      "Step 12\n",
      "2\n",
      "array('i', [21, 20, 12, 11, 10, 6, 5, 4, 3, 2, 1, 11])\n",
      "Step 13\n",
      "b'\\x15\\x00\\x00\\x00\\x14\\x00\\x00\\x00\\x0c\\x00\\x00\\x00\\x0b\\x00\\x00\\x00\\n\\x00\\x00\\x00\\x06\\x00\\x00\\x00\\x05\\x00\\x00\\x00\\x04\\x00\\x00\\x00\\x03\\x00\\x00\\x00\\x02\\x00\\x00\\x00\\x01\\x00\\x00\\x00\\x0b\\x00\\x00\\x00'\n",
      "array('i', [21, 20, 12, 11, 10, 6, 5, 4, 3, 2, 1, 11])\n",
      "Step 14\n",
      "[21, 20, 12, 11, 10, 6, 5, 4, 3, 2, 1, 11]\n",
      "Step 16\n",
      "array('i', [21, 20, 12, 11, 10, 6, 5, 4, 3, 2, 1, 11])\n"
     ]
    }
   ],
   "source": [
    "from array import *\n",
    "\n",
    "# 1. Create an array and traverse. \n",
    "\n",
    "my_array = array('i',[1,2,3,4,5])\n",
    "\n",
    "for i in my_array:\n",
    "    print(i)\n",
    "\n",
    "\n",
    "# 2. Access individual elements through indexes\n",
    "print(\"Step 2\")\n",
    "print(my_array[3])\n",
    "\n",
    "# 3. Append any value to the array using append() method\n",
    "\n",
    "print(\"Step 3\")\n",
    "my_array.append(6)\n",
    "print(my_array)\n",
    "\n",
    "# 4. Insert value in an array using insert() method\n",
    "print(\"Step 4\")\n",
    "my_array.insert(3, 11)\n",
    "print(my_array)\n",
    "\n",
    "\n",
    "# 5. Extend python array using extend() method\n",
    "print(\"Step 5\")\n",
    "my_array1 = array('i', [10,11,12])\n",
    "my_array.extend(my_array1)\n",
    "print(my_array)\n",
    "\n",
    "# 6. Add items from list into array using fromlist() method\n",
    "print(\"Step 6\")\n",
    "tempList = [20,21,22]\n",
    "my_array.fromlist(tempList)\n",
    "print(my_array)\n",
    "\n",
    "# 7. Remove any array element using remove() method\n",
    "print(\"Step 7\")\n",
    "my_array.remove(11)\n",
    "print(my_array)\n",
    "\n",
    "# 8. Remove last array element using pop() method\n",
    "print(\"Step 8\")\n",
    "my_array.pop()\n",
    "print(my_array)\n",
    "\n",
    "# 9. Fetch any element through its index using index() method\n",
    "print(\"Step 9\")\n",
    "print(my_array.index(21))\n",
    "\n",
    "# 10. Reverse a python array using reverse() method\n",
    "print(\"Step 10\")\n",
    "my_array.reverse()\n",
    "print(my_array)\n",
    "\n",
    "# 11. Get array buffer information through buffer_info() method\n",
    "print(\"Step 11\")\n",
    "print(my_array.buffer_info())\n",
    "\n",
    "# 12. Check for number of occurrences of an element using count() method\n",
    "print(\"Step 12\")\n",
    "my_array.append(11)\n",
    "print(my_array.count(11))\n",
    "print(my_array)\n",
    "\n",
    "# 13. Convert array to string using tostring() method\n",
    "print(\"Step 13\")\n",
    "strTemp = my_array.tobytes()\n",
    "print(strTemp)\n",
    "ints = array('i')\n",
    "ints.frombytes(strTemp)\n",
    "print(ints)\n",
    "\n",
    "# 14. Convert array to a python list with same elements using tolist() method\n",
    "print(\"Step 14\")\n",
    "print(my_array.tolist())\n",
    "\n",
    "# 15. Append a string to char array using fromstring() method\n",
    "\n",
    "\n",
    "# 16. Slice Elements from an array\n",
    "print(\"Step 16\")\n",
    "print(my_array[:])"
   ]
  },
  {
   "cell_type": "markdown",
   "metadata": {},
   "source": [
    "### Two Dimensional Array\n",
    "An array with a bunch of values having been declared with double index."
   ]
  },
  {
   "cell_type": "code",
   "execution_count": 1,
   "metadata": {},
   "outputs": [
    {
     "name": "stdout",
     "output_type": "stream",
     "text": [
      "[[11 15 10  6]\n",
      " [10 14 11  5]\n",
      " [12 17 12  8]\n",
      " [15 18 14  9]]\n"
     ]
    }
   ],
   "source": [
    "#O(mn), m= col, n=rows\n",
    "import numpy as np\n",
    "\n",
    "twoDArray = np.array([[11, 15, 10, 6], [10, 14, 11, 5], [12, 17, 12, 8], [15, 18, 14, 9]])\n",
    "print(twoDArray)"
   ]
  },
  {
   "cell_type": "markdown",
   "metadata": {},
   "source": [
    "#### Insertion\n",
    "Addition of column / Addition of rows  \n",
    "**Time complexity** = O(MN) = M: number of columns, N: number of rows"
   ]
  },
  {
   "cell_type": "code",
   "execution_count": 6,
   "metadata": {},
   "outputs": [
    {
     "name": "stdout",
     "output_type": "stream",
     "text": [
      "[[11 15 10  6]\n",
      " [10 14 11  5]\n",
      " [12 17 12  8]\n",
      " [15 18 14  9]]\n",
      "[[ 1 11 15 10  6]\n",
      " [ 2 10 14 11  5]\n",
      " [ 3 12 17 12  8]\n",
      " [ 4 15 18 14  9]]\n"
     ]
    }
   ],
   "source": [
    "#O(mn), m= col, n=rows\n",
    "import numpy as np\n",
    "\n",
    "twoDArray = np.array([[11, 15, 10, 6], [10, 14, 11, 5], [12, 17, 12, 8], [15, 18, 14, 9]])\n",
    "print(twoDArray)\n",
    "\n",
    "newTwoDArray = np.insert(twoDArray, 0, [[1, 2, 3, 4]], axis=1)\n",
    "print(newTwoDArray)"
   ]
  },
  {
   "cell_type": "markdown",
   "metadata": {},
   "source": []
  },
  {
   "cell_type": "markdown",
   "metadata": {},
   "source": []
  }
 ],
 "metadata": {
  "kernelspec": {
   "display_name": "Python 3",
   "language": "python",
   "name": "python3"
  },
  "language_info": {
   "codemirror_mode": {
    "name": "ipython",
    "version": 3
   },
   "file_extension": ".py",
   "mimetype": "text/x-python",
   "name": "python",
   "nbconvert_exporter": "python",
   "pygments_lexer": "ipython3",
   "version": "3.10.8"
  },
  "orig_nbformat": 4
 },
 "nbformat": 4,
 "nbformat_minor": 2
}
