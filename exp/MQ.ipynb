{
 "cells": [
  {
   "cell_type": "markdown",
   "metadata": {},
   "source": [
    "###### Different Terms for Input - Add vs Multiply"
   ]
  },
  {
   "cell_type": "code",
   "execution_count": 5,
   "metadata": {},
   "outputs": [],
   "source": [
    "#O(n + n) = O(2n) :: we can easily drop the constants : O(n) time complexity\n",
    "def print_items(n):\n",
    "    #O(n)\n",
    "    for i in range(n):\n",
    "        print(i)\n",
    "    #O(n)\n",
    "    for j in range(n):\n",
    "        print(j)"
   ]
  },
  {
   "cell_type": "code",
   "execution_count": null,
   "metadata": {},
   "outputs": [],
   "source": [
    "#O(a + b) time complexity :: We can't say a=n & b=n | coz what if a=1 and b=Million\n",
    "def print_items(a, b):\n",
    "    #O(a)\n",
    "    for i in range(a):\n",
    "        print(i)\n",
    "    #O(b)\n",
    "    for j in range(b):\n",
    "        print(j)"
   ]
  },
  {
   "cell_type": "code",
   "execution_count": null,
   "metadata": {},
   "outputs": [],
   "source": [
    "#O(a * b) time complexity \n",
    "def print_items(a, b):\n",
    "    #O(a * b)\n",
    "    for i in range(a):\n",
    "        for j in range(b):\n",
    "            print(j)"
   ]
  },
  {
   "cell_type": "markdown",
   "metadata": {},
   "source": [
    "###### How to measure the codes using Big O?"
   ]
  },
  {
   "cell_type": "markdown",
   "metadata": {},
   "source": [
    "|No|Description|Complexity|\n",
    "|--|-----------|----------|\n",
    "|Rule 1|Any assignment statements and if statements that are executed once regardless of the size of the problem| O(1)|\n",
    "|Rule 2|A simple \"for\" loop from 0 to n (with no internal loops)| O(n)|\n",
    "|Rule 3|A nested loop of the same type takes quadratic time complexity| O(n^2)|\n",
    "|Rule 4|A loop, in which the controlling parameter is divided by two at each step| O(logN)|\n",
    "|Rule 5|When dealing with multiple statements, just add them up| |\n"
   ]
  },
  {
   "cell_type": "code",
   "execution_count": 6,
   "metadata": {},
   "outputs": [],
   "source": [
    "# O(1) + O(n) + (O(1)+O(1)) + O(1) :: O(1) + (O(n) + O(1)) + O(1) : O(1) + O(n) + O(1) => O(n) time complexity\n",
    "# O(1)+O(1) = 2O(1) : Remove constant terms = O(1)\n",
    "# O(n)+O(1) = O(n) : coz we learnt to remove non-dominant term, and here O(n) is dominant term\n",
    "def findBiggestNumber(sampleArray):\n",
    "    #O(1)\n",
    "    biggestNumber = sampleArray[0]\n",
    "    #O(n)\n",
    "    for index in range(1, len(sampleArray)):\n",
    "    #O(1)\n",
    "        if sampleArray[index] > biggestNumber:\n",
    "    #O(1)\n",
    "            biggestNumber = sampleArray[index]\n",
    "    #O(1)\n",
    "    print(biggestNumber)"
   ]
  },
  {
   "cell_type": "markdown",
   "metadata": {},
   "source": [
    "## Section 3: Arrays"
   ]
  },
  {
   "cell_type": "code",
   "execution_count": null,
   "metadata": {},
   "outputs": [],
   "source": []
  }
 ],
 "metadata": {
  "kernelspec": {
   "display_name": "Python 3",
   "language": "python",
   "name": "python3"
  },
  "language_info": {
   "codemirror_mode": {
    "name": "ipython",
    "version": 3
   },
   "file_extension": ".py",
   "mimetype": "text/x-python",
   "name": "python",
   "nbconvert_exporter": "python",
   "pygments_lexer": "ipython3",
   "version": "3.10.8"
  },
  "orig_nbformat": 4
 },
 "nbformat": 4,
 "nbformat_minor": 2
}
